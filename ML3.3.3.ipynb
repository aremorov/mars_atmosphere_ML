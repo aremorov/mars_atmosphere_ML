{
 "cells": [
  {
   "cell_type": "markdown",
   "metadata": {},
   "source": [
    "Predicting UP IR flux on all layers, using all the layers now"
   ]
  },
  {
   "cell_type": "code",
   "execution_count": 1,
   "metadata": {},
   "outputs": [],
   "source": [
    "import xarray as xr\n",
    "import matplotlib.pyplot as plt\n",
    "import numpy as np\n",
    "import pandas as pd"
   ]
  },
  {
   "cell_type": "code",
   "execution_count": 2,
   "metadata": {},
   "outputs": [],
   "source": [
    "DS_a = xr.open_dataset('af') #dataset of auxhist\n",
    "DS_w = xr.open_dataset('wf') #dataset of wrfout"
   ]
  },
  {
   "cell_type": "code",
   "execution_count": 3,
   "metadata": {},
   "outputs": [
    {
     "data": {
      "text/plain": [
       "(71, 52, 36, 72)"
      ]
     },
     "execution_count": 3,
     "metadata": {},
     "output_type": "execute_result"
    }
   ],
   "source": [
    "#Temperature:\n",
    "T = (DS_w.T.values + DS_w.T0) * ((DS_w.P.values + DS_w.PB.values)/DS_w.P0)**(DS_w.R_D/DS_w.CP)\n",
    "T.shape"
   ]
  },
  {
   "cell_type": "code",
   "execution_count": 4,
   "metadata": {},
   "outputs": [
    {
     "data": {
      "text/plain": [
       "array([242.71082 , 237.8069  , 236.24007 , 235.12848 , 234.2799  ,\n",
       "       233.52779 , 232.82172 , 232.14073 , 231.47406 , 230.81564 ,\n",
       "       229.99742 , 229.01949 , 228.03973 , 227.05513 , 225.73048 ,\n",
       "       224.05423 , 220.9039  , 215.62561 , 209.97517 , 208.85222 ,\n",
       "       206.90262 , 204.41917 , 200.12592 , 195.17355 , 189.94121 ,\n",
       "       186.28903 , 183.58492 , 180.31416 , 176.13753 , 171.68274 ,\n",
       "       167.32304 , 163.81029 , 160.24342 , 155.59138 , 150.58986 ,\n",
       "       146.3529  , 142.94057 , 139.79279 , 136.59853 , 133.4877  ,\n",
       "       131.82347 , 138.27815 , 160.04852 , 173.36342 , 169.7645  ,\n",
       "       162.5508  , 155.04514 , 147.05397 , 139.96574 , 138.28108 ,\n",
       "       119.210464, 138.57014 ], dtype=float32)"
      ]
     },
     "execution_count": 4,
     "metadata": {},
     "output_type": "execute_result"
    }
   ],
   "source": [
    "T[5,:,18,0] #temperature goes from lowest hieght to highest hieght"
   ]
  },
  {
   "cell_type": "code",
   "execution_count": 5,
   "metadata": {},
   "outputs": [
    {
     "data": {
      "text/plain": [
       "(71, 36, 72)"
      ]
     },
     "execution_count": 5,
     "metadata": {},
     "output_type": "execute_result"
    }
   ],
   "source": [
    "st = DS_w.TSK.values #surface temp\n",
    "st.shape"
   ]
  },
  {
   "cell_type": "code",
   "execution_count": 6,
   "metadata": {},
   "outputs": [
    {
     "data": {
      "text/plain": [
       "(71, 52, 36, 72)"
      ]
     },
     "execution_count": 6,
     "metadata": {},
     "output_type": "execute_result"
    }
   ],
   "source": [
    "d_c = DS_w.TAU_OD.values #dust optical depth\n",
    "d_c.shape "
   ]
  },
  {
   "cell_type": "code",
   "execution_count": 7,
   "metadata": {},
   "outputs": [
    {
     "data": {
      "text/plain": [
       "(71, 36, 72)"
      ]
     },
     "execution_count": 7,
     "metadata": {},
     "output_type": "execute_result"
    }
   ],
   "source": [
    "d_c2 = DS_w.TAU_OD2D.values\n",
    "d_c2.shape"
   ]
  },
  {
   "cell_type": "code",
   "execution_count": 8,
   "metadata": {},
   "outputs": [
    {
     "data": {
      "text/plain": [
       "(71, 36, 72)"
      ]
     },
     "execution_count": 8,
     "metadata": {},
     "output_type": "execute_result"
    }
   ],
   "source": [
    "em = DS_w.EMISS.values #emissivity\n",
    "em.shape "
   ]
  },
  {
   "cell_type": "code",
   "execution_count": 9,
   "metadata": {},
   "outputs": [
    {
     "data": {
      "text/plain": [
       "(181440,)"
      ]
     },
     "execution_count": 9,
     "metadata": {},
     "output_type": "execute_result"
    }
   ],
   "source": [
    "uif = DS_a.UPIRFLUX.values[1:,:,:,:] #look at up visual flux on 10th layer\n",
    "uif[:,1,:,:].reshape(-1).shape"
   ]
  },
  {
   "cell_type": "code",
   "execution_count": 10,
   "metadata": {},
   "outputs": [
    {
     "data": {
      "text/plain": [
       "(70, 36, 72)"
      ]
     },
     "execution_count": 10,
     "metadata": {},
     "output_type": "execute_result"
    }
   ],
   "source": [
    "uif[:,1,:,:].shape"
   ]
  },
  {
   "cell_type": "code",
   "execution_count": 11,
   "metadata": {},
   "outputs": [
    {
     "data": {
      "text/plain": [
       "(181440, 52)"
      ]
     },
     "execution_count": 11,
     "metadata": {},
     "output_type": "execute_result"
    }
   ],
   "source": [
    "temp_uif = []\n",
    "for i in range(52):\n",
    "    temp_uif.append(uif[:,i,:,:].reshape(-1))\n",
    "uif = np.array(temp_uif).T\n",
    "uif.shape"
   ]
  },
  {
   "cell_type": "code",
   "execution_count": 12,
   "metadata": {},
   "outputs": [],
   "source": [
    "sla = [] #special layer arrays that are the feature vectors in the linear regression model\n",
    "sla.append((em*st**4).reshape(-1)) #don't have overall opacity, will deal with this issue later\n",
    "for i in range(52): #using all the layers now\n",
    "    sla.append((np.exp(-d_c[:,i,:,:])*T[:,i,:,:]**4).reshape(-1))\n",
    "sla = np.array(sla)\n",
    "sla = sla.T[2592:,:] #take transpose, remove first day of data (all lwr are 0 there)\n"
   ]
  },
  {
   "cell_type": "code",
   "execution_count": 13,
   "metadata": {},
   "outputs": [
    {
     "data": {
      "text/plain": [
       "(181440, 53)"
      ]
     },
     "execution_count": 13,
     "metadata": {},
     "output_type": "execute_result"
    }
   ],
   "source": [
    "sla.shape"
   ]
  },
  {
   "cell_type": "markdown",
   "metadata": {},
   "source": [
    "# Trying linear regression first"
   ]
  },
  {
   "cell_type": "code",
   "execution_count": 14,
   "metadata": {},
   "outputs": [],
   "source": [
    "from sklearn.linear_model import LinearRegression\n",
    "uif_out = uif\n",
    "lr1 = LinearRegression()\n",
    "lr1.fit(sla,uif_out)\n",
    "uif_lin = lr1.predict(sla) #predicted"
   ]
  },
  {
   "cell_type": "code",
   "execution_count": 15,
   "metadata": {},
   "outputs": [
    {
     "data": {
      "text/plain": [
       "array([[ 3.2619688e-08,  3.9561286e-08, -2.1152733e-08, ...,\n",
       "         5.8138383e-09, -5.0953952e-09,  3.2038514e-09],\n",
       "       [ 3.2619699e-08,  3.9561161e-08, -2.1152697e-08, ...,\n",
       "         5.8140515e-09, -5.0956483e-09,  3.2035103e-09],\n",
       "       [ 3.2619713e-08,  3.9561034e-08, -2.1152633e-08, ...,\n",
       "         5.8141509e-09, -5.0958642e-09,  3.2031977e-09],\n",
       "       ...,\n",
       "       [ 4.0894953e-08,  2.5016998e-08, -9.1155918e-09, ...,\n",
       "         1.4005039e-08, -1.1064600e-08,  7.2029849e-09],\n",
       "       [ 4.1195946e-08,  2.5418810e-08, -9.1853121e-09, ...,\n",
       "         1.4139502e-08, -1.1177558e-08,  7.4946058e-09],\n",
       "       [ 4.1598369e-08,  2.6165194e-08, -8.9638199e-09, ...,\n",
       "         1.4301541e-08, -1.1325945e-08,  7.8907476e-09]], dtype=float32)"
      ]
     },
     "execution_count": 15,
     "metadata": {},
     "output_type": "execute_result"
    }
   ],
   "source": [
    "lr1.coef_"
   ]
  },
  {
   "cell_type": "code",
   "execution_count": 16,
   "metadata": {},
   "outputs": [
    {
     "data": {
      "text/plain": [
       "7.3685"
      ]
     },
     "execution_count": 16,
     "metadata": {},
     "output_type": "execute_result"
    }
   ],
   "source": [
    "from sklearn.metrics import mean_squared_error\n",
    "\n",
    "lin_mse = mean_squared_error(uif_out, uif_lin)\n",
    "lin_rmse = np.sqrt(lin_mse)\n",
    "lin_rmse "
   ]
  },
  {
   "cell_type": "code",
   "execution_count": 17,
   "metadata": {},
   "outputs": [
    {
     "data": {
      "text/plain": [
       "15.631578"
      ]
     },
     "execution_count": 17,
     "metadata": {},
     "output_type": "execute_result"
    }
   ],
   "source": [
    "np.min(uif_out)"
   ]
  },
  {
   "cell_type": "code",
   "execution_count": 18,
   "metadata": {},
   "outputs": [
    {
     "data": {
      "text/plain": [
       "484.69852"
      ]
     },
     "execution_count": 18,
     "metadata": {},
     "output_type": "execute_result"
    }
   ],
   "source": [
    "np.max(uif_out)"
   ]
  },
  {
   "cell_type": "code",
   "execution_count": 19,
   "metadata": {},
   "outputs": [],
   "source": [
    "uif_diff = (uif_out - uif_lin).reshape(-1)"
   ]
  },
  {
   "cell_type": "code",
   "execution_count": 20,
   "metadata": {},
   "outputs": [
    {
     "data": {
      "text/plain": [
       "-41.411087"
      ]
     },
     "execution_count": 20,
     "metadata": {},
     "output_type": "execute_result"
    }
   ],
   "source": [
    "np.min(uif_diff)"
   ]
  },
  {
   "cell_type": "code",
   "execution_count": 21,
   "metadata": {},
   "outputs": [
    {
     "data": {
      "text/plain": [
       "100.696075"
      ]
     },
     "execution_count": 21,
     "metadata": {},
     "output_type": "execute_result"
    }
   ],
   "source": [
    "np.max(uif_diff)"
   ]
  },
  {
   "cell_type": "code",
   "execution_count": 22,
   "metadata": {},
   "outputs": [
    {
     "data": {
      "text/plain": [
       "(9434880,)"
      ]
     },
     "execution_count": 22,
     "metadata": {},
     "output_type": "execute_result"
    }
   ],
   "source": [
    "uif_diff.shape"
   ]
  },
  {
   "cell_type": "code",
   "execution_count": 23,
   "metadata": {},
   "outputs": [
    {
     "data": {
      "text/plain": [
       "(array([ 213876,  213877,  213878, ..., 9379237, 9379238, 9379239],\n",
       "       dtype=int64),)"
      ]
     },
     "execution_count": 23,
     "metadata": {},
     "output_type": "execute_result"
    }
   ],
   "source": [
    "np.where(uif_diff > 50)"
   ]
  },
  {
   "cell_type": "code",
   "execution_count": 24,
   "metadata": {},
   "outputs": [
    {
     "data": {
      "text/plain": [
       "<function matplotlib.pyplot.show(*args, **kw)>"
      ]
     },
     "execution_count": 24,
     "metadata": {},
     "output_type": "execute_result"
    },
    {
     "data": {
      "image/png": "[encoded data removed]",
      "text/plain": [
       "<Figure size 432x288 with 1 Axes>"
      ]
     },
     "metadata": {
      "needs_background": "light"
     },
     "output_type": "display_data"
    }
   ],
   "source": [
    "plt.hist(uif_diff, bins = 100)\n",
    "plt.title(\"Linear regressor difference\")\n",
    "plt.show #some variance..."
   ]
  },
  {
   "cell_type": "code",
   "execution_count": 25,
   "metadata": {},
   "outputs": [
    {
     "data": {
      "text/plain": [
       "(9434880, 1)"
      ]
     },
     "execution_count": 25,
     "metadata": {},
     "output_type": "execute_result"
    }
   ],
   "source": [
    "uif_out.reshape(-1,1).shape"
   ]
  },
  {
   "cell_type": "code",
   "execution_count": 26,
   "metadata": {},
   "outputs": [
    {
     "data": {
      "text/plain": [
       "(181440,)"
      ]
     },
     "execution_count": 26,
     "metadata": {},
     "output_type": "execute_result"
    }
   ],
   "source": [
    "uif_lin[:,1].shape"
   ]
  },
  {
   "cell_type": "code",
   "execution_count": 27,
   "metadata": {},
   "outputs": [
    {
     "data": {
      "text/plain": [
       "(25920, 53)"
      ]
     },
     "execution_count": 27,
     "metadata": {},
     "output_type": "execute_result"
    }
   ],
   "source": [
    "sla[:10*36*72,:].shape"
   ]
  },
  {
   "cell_type": "code",
   "execution_count": 28,
   "metadata": {},
   "outputs": [
    {
     "data": {
      "text/plain": [
       "(2592, 53)"
      ]
     },
     "execution_count": 28,
     "metadata": {},
     "output_type": "execute_result"
    }
   ],
   "source": [
    "sla[10*36*72:11*36*72,:].shape"
   ]
  },
  {
   "cell_type": "code",
   "execution_count": 29,
   "metadata": {},
   "outputs": [],
   "source": [
    "real_out = uif_out[10*36*72:11*36*72, 10].reshape(36,72) #let's plot 10th layer\n",
    "pred_out = uif_lin[10*36*72:11*36*72, 10].reshape(36,72)"
   ]
  },
  {
   "cell_type": "code",
   "execution_count": 30,
   "metadata": {},
   "outputs": [
    {
     "data": {
      "image/png": "[encoded data removed]",
      "text/plain": [
       "<Figure size 432x288 with 2 Axes>"
      ]
     },
     "metadata": {
      "needs_background": "light"
     },
     "output_type": "display_data"
    }
   ],
   "source": [
    "plt.contourf(real_out)\n",
    "plt.colorbar()\n",
    "plt.title(\"Actual UPIRFLUX (Lin Reg)\")\n",
    "plt.xlabel(\"Longtitude\")\n",
    "plt.ylabel(\"Latitude\")\n",
    "plt.show()"
   ]
  },
  {
   "cell_type": "code",
   "execution_count": 31,
   "metadata": {},
   "outputs": [
    {
     "data": {
      "image/png": "[encoded data removed]",
      "text/plain": [
       "<Figure size 432x288 with 2 Axes>"
      ]
     },
     "metadata": {
      "needs_background": "light"
     },
     "output_type": "display_data"
    }
   ],
   "source": [
    "plt.contourf(pred_out)\n",
    "plt.colorbar()\n",
    "plt.title(\"Predicted UPIRFLUX (Lin Reg)\")\n",
    "plt.xlabel(\"Longtitude\")\n",
    "plt.ylabel(\"Latitude\")\n",
    "plt.show()"
   ]
  },
  {
   "cell_type": "code",
   "execution_count": 32,
   "metadata": {},
   "outputs": [
    {
     "data": {
      "image/png": "[encoded data removed]",
      "text/plain": [
       "<Figure size 432x288 with 2 Axes>"
      ]
     },
     "metadata": {
      "needs_background": "light"
     },
     "output_type": "display_data"
    }
   ],
   "source": [
    "plt.contourf(real_out - pred_out)\n",
    "plt.colorbar()\n",
    "plt.title(\"Difference UPIRFLUX (Lin Reg)\")\n",
    "plt.xlabel(\"Longtitude\")\n",
    "plt.ylabel(\"Latitude\")\n",
    "plt.show()"
   ]
  },
  {
   "cell_type": "code",
   "execution_count": 33,
   "metadata": {},
   "outputs": [
    {
     "data": {
      "image/png": "[encoded data removed]",
      "text/plain": [
       "<Figure size 432x288 with 2 Axes>"
      ]
     },
     "metadata": {
      "needs_background": "light"
     },
     "output_type": "display_data"
    }
   ],
   "source": [
    "plt.contourf((real_out - pred_out)/real_out)\n",
    "plt.colorbar()\n",
    "plt.title(\"Relative Difference UPIRFLUX (Lin Reg)\")\n",
    "plt.xlabel(\"Longtitude\")\n",
    "plt.ylabel(\"Latitude\")\n",
    "plt.show()"
   ]
  },
  {
   "cell_type": "code",
   "execution_count": 34,
   "metadata": {},
   "outputs": [],
   "source": [
    "real_out = uif_out[10*36*72 + 18*72:10*36*72 + 19*72, :].T #let's plot equator on 11th day\n",
    "pred_out = uif_lin[10*36*72 + 18*72:10*36*72 + 19*72, :].T"
   ]
  },
  {
   "cell_type": "code",
   "execution_count": 35,
   "metadata": {},
   "outputs": [
    {
     "data": {
      "text/plain": [
       "(72, 52)"
      ]
     },
     "execution_count": 35,
     "metadata": {},
     "output_type": "execute_result"
    }
   ],
   "source": [
    "uif_out[10*36*72 + 18*72:10*36*72 + 19*72, :].shape"
   ]
  },
  {
   "cell_type": "code",
   "execution_count": 36,
   "metadata": {
    "scrolled": true
   },
   "outputs": [
    {
     "data": {
      "image/png": "[encoded data removed]",
      "text/plain": [
       "<Figure size 432x288 with 2 Axes>"
      ]
     },
     "metadata": {
      "needs_background": "light"
     },
     "output_type": "display_data"
    }
   ],
   "source": [
    "plt.contourf(real_out)\n",
    "plt.colorbar()\n",
    "plt.title(\"Vertical Actual UPIRFLUX (Lin Reg)\")\n",
    "plt.xlabel(\"Longtitude\")\n",
    "plt.ylabel(\"Height\")\n",
    "plt.show()"
   ]
  },
  {
   "cell_type": "code",
   "execution_count": 37,
   "metadata": {},
   "outputs": [
    {
     "data": {
      "image/png": "[encoded data removed]",
      "text/plain": [
       "<Figure size 432x288 with 2 Axes>"
      ]
     },
     "metadata": {
      "needs_background": "light"
     },
     "output_type": "display_data"
    }
   ],
   "source": [
    "plt.contourf(pred_out)\n",
    "plt.colorbar()\n",
    "plt.title(\"Vertical Predicted UPIRFLUX (Lin Reg)\")\n",
    "plt.xlabel(\"Longtitude\")\n",
    "plt.ylabel(\"Height\")\n",
    "plt.show()"
   ]
  },
  {
   "cell_type": "code",
   "execution_count": 38,
   "metadata": {},
   "outputs": [
    {
     "data": {
      "image/png": "[encoded data removed]",
      "text/plain": [
       "<Figure size 432x288 with 2 Axes>"
      ]
     },
     "metadata": {
      "needs_background": "light"
     },
     "output_type": "display_data"
    }
   ],
   "source": [
    "plt.contourf(real_out - pred_out)\n",
    "plt.colorbar()\n",
    "plt.title(\"Vertical Difference UPIRFLUX (Lin Reg)\")\n",
    "plt.xlabel(\"Longtitude\")\n",
    "plt.ylabel(\"Height\")\n",
    "plt.show()"
   ]
  },
  {
   "cell_type": "code",
   "execution_count": 39,
   "metadata": {},
   "outputs": [
    {
     "data": {
      "image/png": "[encoded data removed]",
      "text/plain": [
       "<Figure size 432x288 with 2 Axes>"
      ]
     },
     "metadata": {
      "needs_background": "light"
     },
     "output_type": "display_data"
    }
   ],
   "source": [
    "plt.contourf((real_out - pred_out)/real_out)\n",
    "plt.colorbar()\n",
    "plt.title(\"Vertical Relative Difference UPIRFLUX (Lin Reg)\")\n",
    "plt.xlabel(\"Longtitude\")\n",
    "plt.ylabel(\"Height\")\n",
    "plt.show()"
   ]
  },
  {
   "cell_type": "code",
   "execution_count": 40,
   "metadata": {},
   "outputs": [
    {
     "data": {
      "text/plain": [
       "(25920, 52)"
      ]
     },
     "execution_count": 40,
     "metadata": {},
     "output_type": "execute_result"
    }
   ],
   "source": [
    "uif_out[:10*36*72].shape"
   ]
  },
  {
   "cell_type": "markdown",
   "metadata": {},
   "source": [
    "# Let's try random forest regressor:"
   ]
  },
  {
   "cell_type": "code",
   "execution_count": 41,
   "metadata": {},
   "outputs": [
    {
     "name": "stderr",
     "output_type": "stream",
     "text": [
      "C:\\Users\\andre\\Anaconda3\\lib\\site-packages\\sklearn\\ensemble\\forest.py:245: FutureWarning: The default value of n_estimators will change from 10 in version 0.20 to 100 in 0.22.\n",
      "  \"10 in version 0.20 to 100 in 0.22.\", FutureWarning)\n"
     ]
    },
    {
     "data": {
      "text/plain": [
       "2.363105266090462"
      ]
     },
     "execution_count": 41,
     "metadata": {},
     "output_type": "execute_result"
    }
   ],
   "source": [
    "from sklearn.ensemble import RandomForestRegressor\n",
    "from sklearn.model_selection import train_test_split\n",
    "\n",
    "rfr1 = RandomForestRegressor()\n",
    "rfr1.fit(sla[:10*36*72],uif_out[:10*36*72]) #training set\n",
    "uif_rfr = rfr1.predict(sla[10*36*72:11*36*72]) \n",
    "\n",
    "rfr_mse = mean_squared_error(uif_out[10*36*72:11*36*72], uif_rfr) #test the model on a single day\n",
    "rfr_rmse = np.sqrt(rfr_mse)\n",
    "rfr_rmse "
   ]
  },
  {
   "cell_type": "code",
   "execution_count": 42,
   "metadata": {},
   "outputs": [
    {
     "data": {
      "text/plain": [
       "<sklearn.tree._tree.Tree at 0x1ead71fab90>"
      ]
     },
     "execution_count": 42,
     "metadata": {},
     "output_type": "execute_result"
    }
   ],
   "source": [
    "rfr1.estimators_[0].tree_"
   ]
  },
  {
   "cell_type": "code",
   "execution_count": 43,
   "metadata": {},
   "outputs": [
    {
     "data": {
      "text/plain": [
       "(25920, 53)"
      ]
     },
     "execution_count": 43,
     "metadata": {},
     "output_type": "execute_result"
    }
   ],
   "source": [
    "sla[:10*36*72,:].shape"
   ]
  },
  {
   "cell_type": "code",
   "execution_count": 44,
   "metadata": {},
   "outputs": [],
   "source": [
    "rfr_diff = (uif_out[10*36*72:11*36*72] - uif_rfr).reshape(-1)"
   ]
  },
  {
   "cell_type": "code",
   "execution_count": 45,
   "metadata": {},
   "outputs": [
    {
     "data": {
      "text/plain": [
       "(134784,)"
      ]
     },
     "execution_count": 45,
     "metadata": {},
     "output_type": "execute_result"
    }
   ],
   "source": [
    "rfr_diff.shape"
   ]
  },
  {
   "cell_type": "code",
   "execution_count": 46,
   "metadata": {},
   "outputs": [
    {
     "data": {
      "text/plain": [
       "<function matplotlib.pyplot.show(*args, **kw)>"
      ]
     },
     "execution_count": 46,
     "metadata": {},
     "output_type": "execute_result"
    },
    {
     "data": {
      "image/png": "[encoded data removed]",
      "text/plain": [
       "<Figure size 432x288 with 1 Axes>"
      ]
     },
     "metadata": {
      "needs_background": "light"
     },
     "output_type": "display_data"
    }
   ],
   "source": [
    "plt.hist(rfr_diff, bins = 100)\n",
    "plt.title(\"Random Forest Regressor Difference\")\n",
    "plt.show #wow, much better!"
   ]
  },
  {
   "cell_type": "code",
   "execution_count": 47,
   "metadata": {},
   "outputs": [],
   "source": [
    "real_out = uif_out[10*36*72:11*36*72, 10].reshape(36,72) #let's plot 10th layer\n",
    "pred_out = uif_rfr[:,10].reshape(36,72)"
   ]
  },
  {
   "cell_type": "code",
   "execution_count": 48,
   "metadata": {},
   "outputs": [
    {
     "data": {
      "text/plain": [
       "325.08307"
      ]
     },
     "execution_count": 48,
     "metadata": {},
     "output_type": "execute_result"
    }
   ],
   "source": [
    "np.max(uif_out[10*36*72:11*36*72])"
   ]
  },
  {
   "cell_type": "code",
   "execution_count": 49,
   "metadata": {},
   "outputs": [
    {
     "data": {
      "text/plain": [
       "True"
      ]
     },
     "execution_count": 49,
     "metadata": {},
     "output_type": "execute_result"
    }
   ],
   "source": [
    "np.array_equal(uif_rfr[:,10],pred_out.reshape(-1))"
   ]
  },
  {
   "cell_type": "code",
   "execution_count": 50,
   "metadata": {},
   "outputs": [
    {
     "data": {
      "text/plain": [
       "(36, 72)"
      ]
     },
     "execution_count": 50,
     "metadata": {},
     "output_type": "execute_result"
    }
   ],
   "source": [
    "real_out.shape"
   ]
  },
  {
   "cell_type": "code",
   "execution_count": 51,
   "metadata": {},
   "outputs": [
    {
     "data": {
      "image/png": "[encoded data removed]",
      "text/plain": [
       "<Figure size 432x288 with 2 Axes>"
      ]
     },
     "metadata": {
      "needs_background": "light"
     },
     "output_type": "display_data"
    }
   ],
   "source": [
    "plt.contourf(real_out)\n",
    "plt.colorbar()\n",
    "plt.title(\"Actual UPIRFLUX (Random Forest)\")\n",
    "plt.xlabel(\"Longtitude\")\n",
    "plt.ylabel(\"Latitude\")\n",
    "plt.show()"
   ]
  },
  {
   "cell_type": "code",
   "execution_count": 52,
   "metadata": {},
   "outputs": [
    {
     "data": {
      "image/png": "[encoded data removed]",
      "text/plain": [
       "<Figure size 432x288 with 2 Axes>"
      ]
     },
     "metadata": {
      "needs_background": "light"
     },
     "output_type": "display_data"
    }
   ],
   "source": [
    "plt.contourf(pred_out)\n",
    "plt.colorbar()\n",
    "plt.title(\"Predicted UPIRFLUX (Random Forest)\")\n",
    "plt.xlabel(\"Longtitude\")\n",
    "plt.ylabel(\"Latitude\")\n",
    "plt.show()"
   ]
  },
  {
   "cell_type": "code",
   "execution_count": 53,
   "metadata": {},
   "outputs": [
    {
     "data": {
      "image/png": "[encoded data removed]",
      "text/plain": [
       "<Figure size 432x288 with 2 Axes>"
      ]
     },
     "metadata": {
      "needs_background": "light"
     },
     "output_type": "display_data"
    }
   ],
   "source": [
    "plt.contourf(real_out - pred_out)\n",
    "plt.colorbar()\n",
    "plt.title(\"Difference UPIRFLUX (Random Forest)\")\n",
    "plt.xlabel(\"Longtitude\")\n",
    "plt.ylabel(\"Latitude\")\n",
    "plt.show()"
   ]
  },
  {
   "cell_type": "code",
   "execution_count": 54,
   "metadata": {},
   "outputs": [
    {
     "data": {
      "image/png": "[encoded data removed]",
      "text/plain": [
       "<Figure size 432x288 with 2 Axes>"
      ]
     },
     "metadata": {
      "needs_background": "light"
     },
     "output_type": "display_data"
    }
   ],
   "source": [
    "plt.contourf((real_out - pred_out)/real_out)\n",
    "plt.colorbar()\n",
    "plt.title(\"Relative Difference UPIRFLUX (Random Forest)\")\n",
    "plt.xlabel(\"Longtitude\")\n",
    "plt.ylabel(\"Latitude\")\n",
    "plt.show()"
   ]
  },
  {
   "cell_type": "code",
   "execution_count": 55,
   "metadata": {},
   "outputs": [],
   "source": [
    "real_out = uif_out[10*36*72 + 18*72:10*36*72 + 19*72, :].T #let's plot equator from the rfr data\n",
    "pred_out = uif_rfr[18*72:19*72, :].T"
   ]
  },
  {
   "cell_type": "code",
   "execution_count": 56,
   "metadata": {
    "scrolled": true
   },
   "outputs": [
    {
     "data": {
      "image/png": "[encoded data removed]",
      "text/plain": [
       "<Figure size 432x288 with 2 Axes>"
      ]
     },
     "metadata": {
      "needs_background": "light"
     },
     "output_type": "display_data"
    }
   ],
   "source": [
    "plt.contourf(real_out)\n",
    "plt.colorbar()\n",
    "plt.title(\"Vertical Actual UPIRFLUX (Lin Reg)\")\n",
    "plt.xlabel(\"Longtitude\")\n",
    "plt.ylabel(\"Height\")\n",
    "plt.show()"
   ]
  },
  {
   "cell_type": "code",
   "execution_count": 57,
   "metadata": {},
   "outputs": [
    {
     "data": {
      "image/png": "[encoded data removed]",
      "text/plain": [
       "<Figure size 432x288 with 2 Axes>"
      ]
     },
     "metadata": {
      "needs_background": "light"
     },
     "output_type": "display_data"
    }
   ],
   "source": [
    "plt.contourf(pred_out)\n",
    "plt.colorbar()\n",
    "plt.title(\"Vertical Predicted UPIRFLUX (Lin Reg)\")\n",
    "plt.xlabel(\"Longtitude\")\n",
    "plt.ylabel(\"Height\")\n",
    "plt.show()"
   ]
  },
  {
   "cell_type": "code",
   "execution_count": 58,
   "metadata": {},
   "outputs": [
    {
     "data": {
      "image/png": "[encoded data removed]",
      "text/plain": [
       "<Figure size 432x288 with 2 Axes>"
      ]
     },
     "metadata": {
      "needs_background": "light"
     },
     "output_type": "display_data"
    }
   ],
   "source": [
    "plt.contourf(real_out - pred_out)\n",
    "plt.colorbar()\n",
    "plt.title(\"Vertical Difference UPIRFLUX (Lin Reg)\")\n",
    "plt.xlabel(\"Longtitude\")\n",
    "plt.ylabel(\"Height\")\n",
    "plt.show()"
   ]
  },
  {
   "cell_type": "code",
   "execution_count": 59,
   "metadata": {},
   "outputs": [
    {
     "data": {
      "image/png": "[encoded data removed]",
      "text/plain": [
       "<Figure size 432x288 with 2 Axes>"
      ]
     },
     "metadata": {
      "needs_background": "light"
     },
     "output_type": "display_data"
    }
   ],
   "source": [
    "plt.contourf((real_out - pred_out)/real_out)\n",
    "plt.colorbar()\n",
    "plt.title(\"Vertical Relative Difference UPIRFLUX (Lin Reg)\")\n",
    "plt.xlabel(\"Longtitude\")\n",
    "plt.ylabel(\"Height\")\n",
    "plt.show()"
   ]
  },
  {
   "cell_type": "code",
   "execution_count": null,
   "metadata": {},
   "outputs": [],
   "source": []
  },
  {
   "cell_type": "code",
   "execution_count": 60,
   "metadata": {},
   "outputs": [
    {
     "data": {
      "text/plain": [
       "(2592,)"
      ]
     },
     "execution_count": 60,
     "metadata": {},
     "output_type": "execute_result"
    }
   ],
   "source": [
    "uif_rfr[:,10].shape"
   ]
  },
  {
   "cell_type": "markdown",
   "metadata": {},
   "source": [
    "## Getting the integrals of flux error (and then getting average erroneusly added flux)"
   ]
  },
  {
   "cell_type": "code",
   "execution_count": 61,
   "metadata": {},
   "outputs": [],
   "source": [
    "def int_err(pred, real, real_in, r): \n",
    "    areas = []\n",
    "    for i in range(len(real)):\n",
    "        dA =  -r**2 * np.sin((np.pi/36)*((real_in.index[i]//72)%36)) * (np.pi/36) * (np.pi/36)  #area increment\n",
    "        areas.append(dA)\n",
    "    areas = np.array(areas)\n",
    "    return np.sum((np.array(pred) - np.array(real))*areas)"
   ]
  },
  {
   "cell_type": "code",
   "execution_count": 62,
   "metadata": {},
   "outputs": [
    {
     "data": {
      "text/plain": [
       "(52, 72)"
      ]
     },
     "execution_count": 62,
     "metadata": {},
     "output_type": "execute_result"
    }
   ],
   "source": [
    "real_out.shape"
   ]
  },
  {
   "cell_type": "markdown",
   "metadata": {},
   "source": [
    "Integrals for 10th layer:"
   ]
  },
  {
   "cell_type": "code",
   "execution_count": 63,
   "metadata": {},
   "outputs": [
    {
     "name": "stdout",
     "output_type": "stream",
     "text": [
      "Random forest integration error:\n"
     ]
    },
    {
     "data": {
      "text/plain": [
       "-0.3665924074756067"
      ]
     },
     "execution_count": 63,
     "metadata": {},
     "output_type": "execute_result"
    }
   ],
   "source": [
    "rfr_int_err = int_err(uif_rfr[:,10], uif_out[10*36*72:11*36*72,10], pd.DataFrame(uif_rfr), 3.39e6) #make sure the errors work by integrating a sphere's surface\n",
    "print(\"Random forest integration error:\")\n",
    "rfr_int_err/(1.44e14) #smaller!"
   ]
  },
  {
   "cell_type": "code",
   "execution_count": 64,
   "metadata": {},
   "outputs": [
    {
     "name": "stdout",
     "output_type": "stream",
     "text": [
      "Linear regression integration error:\n"
     ]
    },
    {
     "data": {
      "text/plain": [
       "-0.6345342010345507"
      ]
     },
     "execution_count": 64,
     "metadata": {},
     "output_type": "execute_result"
    }
   ],
   "source": [
    "lin_int_err = int_err(uif_lin[10*36*72:11*36*72,10], uif_out[10*36*72:11*36*72,10], pd.DataFrame(uif_rfr), 3.39e6) #make sure the errors work by integrating a sphere's surface\n",
    "print(\"Linear regression integration error:\")\n",
    "lin_int_err/(1.44e14) #also smaller than when just using the 10 layers"
   ]
  },
  {
   "cell_type": "markdown",
   "metadata": {},
   "source": [
    "Integrals for all layers:"
   ]
  },
  {
   "cell_type": "code",
   "execution_count": 65,
   "metadata": {},
   "outputs": [],
   "source": [
    "rfr_t_int = [] #total rfr integral list\n",
    "for i in range(52):\n",
    "    rfr_int_err = int_err(uif_rfr[:,i], uif_out[10*36*72:11*36*72,i], pd.DataFrame(uif_rfr), 3.39e6) \n",
    "    rfr_t_int.append(rfr_int_err/1.44e14) \n",
    "    \n",
    "lin_t_int = [] #total lin integral list\n",
    "for i in range(52):\n",
    "    lin_int_err = int_err(uif_lin[10*36*72:11*36*72,i], uif_out[10*36*72:11*36*72,i], pd.DataFrame(uif_rfr), 3.39e6) \n",
    "    lin_t_int.append(lin_int_err/1.44e14) \n"
   ]
  },
  {
   "cell_type": "code",
   "execution_count": 66,
   "metadata": {},
   "outputs": [
    {
     "data": {
      "text/plain": [
       "array([-0.3657835 , -0.36578992, -0.36579369, -0.36579939, -0.36594209,\n",
       "       -0.36632879, -0.36636577, -0.36619462, -0.36627145, -0.36652303,\n",
       "       -0.36659241, -0.36633356, -0.3661842 , -0.36637649, -0.36682168,\n",
       "       -0.36731024, -0.36781872, -0.36870876, -0.37033677, -0.37288057,\n",
       "       -0.37595919, -0.37840306, -0.37792054, -0.37347097, -0.36673457,\n",
       "       -0.3586896 , -0.35049146, -0.3425912 , -0.33575554, -0.32908079,\n",
       "       -0.32415517, -0.32315877, -0.32718744, -0.33080943, -0.33006701,\n",
       "       -0.32200704, -0.30916894, -0.30206534, -0.30083958, -0.30256735,\n",
       "       -0.30571388, -0.30790913, -0.31036665, -0.31307893, -0.3156505 ,\n",
       "       -0.31697731, -0.31812525, -0.31930681, -0.32020302, -0.31962154,\n",
       "       -0.31720541, -0.31439987])"
      ]
     },
     "execution_count": 66,
     "metadata": {},
     "output_type": "execute_result"
    }
   ],
   "source": [
    "np.array(rfr_t_int) #errors from random forest regressor for all layers"
   ]
  },
  {
   "cell_type": "code",
   "execution_count": 67,
   "metadata": {},
   "outputs": [
    {
     "data": {
      "text/plain": [
       "array([-0.63507658, -0.63523188, -0.63510231, -0.63502404, -0.63521518,\n",
       "       -0.63506335, -0.63499462, -0.63503287, -0.6348302 , -0.6346854 ,\n",
       "       -0.6345342 , -0.63415755, -0.63361612, -0.6330808 , -0.63320287,\n",
       "       -0.63399444, -0.63535434, -0.63796532, -0.64234833, -0.64933458,\n",
       "       -0.65985347, -0.67367199, -0.68735466, -0.69741586, -0.70232307,\n",
       "       -0.7010847 , -0.69516762, -0.68832358, -0.67903912, -0.66713983,\n",
       "       -0.65493802, -0.64800978, -0.64246818, -0.63651476, -0.6289336 ,\n",
       "       -0.61514834, -0.59976053, -0.59142325, -0.59110369, -0.59367857,\n",
       "       -0.5984468 , -0.60201052, -0.60636821, -0.61201869, -0.61944073,\n",
       "       -0.62572257, -0.63331737, -0.64299806, -0.65569565, -0.6723901 ,\n",
       "       -0.69344313, -0.72259636])"
      ]
     },
     "execution_count": 67,
     "metadata": {},
     "output_type": "execute_result"
    }
   ],
   "source": [
    "np.array(lin_t_int) #errors from linear regressor for all layers"
   ]
  },
  {
   "cell_type": "markdown",
   "metadata": {},
   "source": [
    "All the errors have the same sign...Let's look at the averages:"
   ]
  },
  {
   "cell_type": "code",
   "execution_count": 68,
   "metadata": {},
   "outputs": [
    {
     "name": "stdout",
     "output_type": "stream",
     "text": [
      "Rfr average:\n",
      "-0.3438430178738665\n",
      "Lin reg average:\n",
      "-0.6433778038465549\n"
     ]
    }
   ],
   "source": [
    "print(\"Rfr average:\")\n",
    "print(np.average(np.array(rfr_t_int)))\n",
    "print(\"Lin reg average:\")\n",
    "print(np.average(np.array(lin_t_int)))"
   ]
  },
  {
   "cell_type": "code",
   "execution_count": null,
   "metadata": {},
   "outputs": [],
   "source": []
  }
 ],
 "metadata": {
  "kernelspec": {
   "display_name": "Python 3",
   "language": "python",
   "name": "python3"
  },
  "language_info": {
   "codemirror_mode": {
    "name": "ipython",
    "version": 3
   },
   "file_extension": ".py",
   "mimetype": "text/x-python",
   "name": "python",
   "nbconvert_exporter": "python",
   "pygments_lexer": "ipython3",
   "version": "3.7.4"
  }
 },
 "nbformat": 4,
 "nbformat_minor": 2
}
