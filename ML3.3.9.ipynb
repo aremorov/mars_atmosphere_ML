{
 "cells": [
  {
   "cell_type": "markdown",
   "metadata": {},
   "source": [
    "Using random forest regressor instead of the linear regressor in ML3.3.8"
   ]
  },
  {
   "cell_type": "code",
   "execution_count": 2,
   "metadata": {},
   "outputs": [],
   "source": [
    "import xarray as xr\n",
    "import matplotlib.pyplot as plt\n",
    "import numpy as np\n",
    "import pandas as pd"
   ]
  },
  {
   "cell_type": "code",
   "execution_count": 3,
   "metadata": {},
   "outputs": [],
   "source": [
    "def in_out(auxhist, wrfout): #outputs the required input and output data from the auxhist and wrfout files\n",
    "    DS_a = xr.open_dataset(auxhist) #dataset of auxhist\n",
    "    DS_w = xr.open_dataset(wrfout) #dataset of wrfout\n",
    "    \n",
    "    T = (DS_w.T.values + DS_w.T0) * ((DS_w.P.values + DS_w.PB.values)/DS_w.P0)**(DS_w.R_D/DS_w.CP)\n",
    "    st = DS_w.TSK.values #surface temp\n",
    "    d_c = DS_w.TAU_OD.values #dust optical depth\n",
    "    em = DS_w.EMISS.values #emissivity\n",
    "    p = DS_w.P.values + DS_w.PB.values #pressure\n",
    "    uif = DS_a.UPIRFLUX.values[1:,:,:,:] \n",
    "\n",
    "    temp_uif = []\n",
    "    for i in range(52):\n",
    "        temp_uif.append(uif[:,i,:,:].reshape(-1))\n",
    "    uif = np.array(temp_uif).T\n",
    "    uif.shape\n",
    "\n",
    "\n",
    "    sla = [] #special layer arrays that are the feature vectors in the linear regression model\n",
    "    sla.append((em*st**4).reshape(-1)) #don't have overall opacity, will deal with this issue later\n",
    "    for i in range(52): #using all the layers now\n",
    "        sla.append((np.exp(-d_c[:,i,:,:])*T[:,i,:,:]**4).reshape(-1))\n",
    "    for i in range(52): #using all the layers now\n",
    "        sla.append((np.exp(-p[:,i,:,:])*T[:,i,:,:]**4).reshape(-1))\n",
    "    for i in range(52):\n",
    "        sla.append(p[:,i,:,:].reshape(-1)) #what if we just add pressures?\n",
    "    sla = np.array(sla)\n",
    "    sla = sla.T[2592:,:] #take transpose, remove first day of data (all lwr are 0 there)\n",
    "    \n",
    "    return sla, uif"
   ]
  },
  {
   "cell_type": "code",
   "execution_count": 4,
   "metadata": {},
   "outputs": [],
   "source": [
    "sla_summer, uif_summer = in_out('af_summer', 'wf_summer')  #first snapshot of data (0002-00172), summer"
   ]
  },
  {
   "cell_type": "code",
   "execution_count": 5,
   "metadata": {},
   "outputs": [],
   "source": [
    "sla_fall, uif_fall = in_out('af_fall', 'wf_fall') #(0002-00352), fall"
   ]
  },
  {
   "cell_type": "code",
   "execution_count": 6,
   "metadata": {},
   "outputs": [],
   "source": [
    "sla_winter, uif_winter = in_out('af_winter', 'wf_winter') #(0002-00352), winter "
   ]
  },
  {
   "cell_type": "code",
   "execution_count": 7,
   "metadata": {},
   "outputs": [],
   "source": [
    "sla_spring, uif_spring = in_out('af_spring', 'wf_spring') #(0002-00652), spring "
   ]
  },
  {
   "cell_type": "code",
   "execution_count": 8,
   "metadata": {},
   "outputs": [],
   "source": [
    "sla_test_set, uif_test_set = in_out(\"af_test\", \"wf_test\") #(0002-00472), testing on this as well to check if overfit"
   ]
  },
  {
   "cell_type": "code",
   "execution_count": 44,
   "metadata": {},
   "outputs": [],
   "source": [
    "uif_train = np.concatenate((uif_summer, uif_fall, uif_winter, uif_spring), axis=0) #total uif for training"
   ]
  },
  {
   "cell_type": "code",
   "execution_count": 45,
   "metadata": {},
   "outputs": [],
   "source": [
    "sla_train = np.concatenate((sla_summer, sla_fall, sla_winter, sla_spring), axis=0) #total sla for training"
   ]
  },
  {
   "cell_type": "code",
   "execution_count": 46,
   "metadata": {},
   "outputs": [],
   "source": [
    "uif_train = uif_train[::100]\n",
    "sla_train = sla_train[::100] #use every 1000th element from original training data"
   ]
  },
  {
   "cell_type": "code",
   "execution_count": 47,
   "metadata": {},
   "outputs": [
    {
     "data": {
      "text/plain": [
       "(22706, 157)"
      ]
     },
     "execution_count": 47,
     "metadata": {},
     "output_type": "execute_result"
    }
   ],
   "source": [
    "sla_train.shape"
   ]
  },
  {
   "cell_type": "code",
   "execution_count": 21,
   "metadata": {},
   "outputs": [],
   "source": [
    "#from sklearn.model_selection import train_test_split\n",
    "#sla_train, sla_test, uif_train, uif_test = train_test_split(sla_train, uif_train, test_size=0.99, random_state=42)"
   ]
  },
  {
   "cell_type": "code",
   "execution_count": 22,
   "metadata": {},
   "outputs": [
    {
     "data": {
      "text/plain": [
       "(619488, 157)"
      ]
     },
     "execution_count": 22,
     "metadata": {},
     "output_type": "execute_result"
    }
   ],
   "source": [
    "sla_summer.shape"
   ]
  },
  {
   "cell_type": "markdown",
   "metadata": {},
   "source": [
    "# Predicting Summer:"
   ]
  },
  {
   "cell_type": "code",
   "execution_count": 48,
   "metadata": {},
   "outputs": [
    {
     "name": "stderr",
     "output_type": "stream",
     "text": [
      "C:\\Users\\andre\\Anaconda3\\lib\\site-packages\\sklearn\\ensemble\\forest.py:245: FutureWarning: The default value of n_estimators will change from 10 in version 0.20 to 100 in 0.22.\n",
      "  \"10 in version 0.20 to 100 in 0.22.\", FutureWarning)\n"
     ]
    }
   ],
   "source": [
    "from sklearn.ensemble import RandomForestRegressor\n",
    "rfr1 = RandomForestRegressor()\n",
    "rfr1.fit(sla_train,uif_train)\n",
    "uif_lin = rfr1.predict(sla_summer)  \n",
    "uif_out = uif_summer"
   ]
  },
  {
   "cell_type": "code",
   "execution_count": 49,
   "metadata": {},
   "outputs": [
    {
     "data": {
      "text/plain": [
       "2.809884778594962"
      ]
     },
     "execution_count": 49,
     "metadata": {},
     "output_type": "execute_result"
    }
   ],
   "source": [
    "from sklearn.metrics import mean_squared_error\n",
    "lin_mse = mean_squared_error(uif_out, uif_lin)\n",
    "lin_rmse = np.sqrt(lin_mse)\n",
    "lin_rmse "
   ]
  },
  {
   "cell_type": "code",
   "execution_count": 50,
   "metadata": {},
   "outputs": [
    {
     "data": {
      "text/plain": [
       "17.541994"
      ]
     },
     "execution_count": 50,
     "metadata": {},
     "output_type": "execute_result"
    }
   ],
   "source": [
    "np.min(uif_out)"
   ]
  },
  {
   "cell_type": "code",
   "execution_count": 51,
   "metadata": {},
   "outputs": [
    {
     "data": {
      "text/plain": [
       "339.41235"
      ]
     },
     "execution_count": 51,
     "metadata": {},
     "output_type": "execute_result"
    }
   ],
   "source": [
    "np.max(uif_out)"
   ]
  },
  {
   "cell_type": "code",
   "execution_count": 52,
   "metadata": {},
   "outputs": [],
   "source": [
    "uif_diff = uif_out - uif_lin"
   ]
  },
  {
   "cell_type": "code",
   "execution_count": 53,
   "metadata": {},
   "outputs": [
    {
     "data": {
      "text/plain": [
       "<function matplotlib.pyplot.show(*args, **kw)>"
      ]
     },
     "execution_count": 53,
     "metadata": {},
     "output_type": "execute_result"
    },
    {
     "data": {
      "image/png": "[encoded data removed]",
      "text/plain": [
       "<Figure size 432x288 with 1 Axes>"
      ]
     },
     "metadata": {
      "needs_background": "light"
     },
     "output_type": "display_data"
    }
   ],
   "source": [
    "plt.hist(uif_diff, bins = 100)\n",
    "plt.title(\"Linear regressor difference\")\n",
    "plt.show #some variance..."
   ]
  },
  {
   "cell_type": "code",
   "execution_count": 54,
   "metadata": {},
   "outputs": [
    {
     "data": {
      "text/plain": [
       "(32213376, 1)"
      ]
     },
     "execution_count": 54,
     "metadata": {},
     "output_type": "execute_result"
    }
   ],
   "source": [
    "uif_out.reshape(-1,1).shape"
   ]
  },
  {
   "cell_type": "code",
   "execution_count": 55,
   "metadata": {},
   "outputs": [],
   "source": [
    "real_out = uif_out[10*36*72:11*36*72,10].reshape(36,72)\n",
    "pred_out = uif_lin[10*36*72:11*36*72,10].reshape(36,72)"
   ]
  },
  {
   "cell_type": "code",
   "execution_count": 56,
   "metadata": {},
   "outputs": [
    {
     "data": {
      "image/png": "[encoded data removed]",
      "text/plain": [
       "<Figure size 432x288 with 2 Axes>"
      ]
     },
     "metadata": {
      "needs_background": "light"
     },
     "output_type": "display_data"
    }
   ],
   "source": [
    "plt.contourf(real_out)\n",
    "plt.colorbar()\n",
    "plt.title(\"Actual UPIRFLUX (Lin Reg)\")\n",
    "plt.xlabel(\"Longtitude\")\n",
    "plt.ylabel(\"Latitude\")\n",
    "plt.show()"
   ]
  },
  {
   "cell_type": "code",
   "execution_count": 57,
   "metadata": {},
   "outputs": [
    {
     "data": {
      "image/png": "[encoded data removed]",
      "text/plain": [
       "<Figure size 432x288 with 2 Axes>"
      ]
     },
     "metadata": {
      "needs_background": "light"
     },
     "output_type": "display_data"
    }
   ],
   "source": [
    "plt.contourf(pred_out)\n",
    "plt.colorbar()\n",
    "plt.title(\"Predicted UPIRFLUX (Lin Reg)\")\n",
    "plt.xlabel(\"Longtitude\")\n",
    "plt.ylabel(\"Latitude\")\n",
    "plt.show()"
   ]
  },
  {
   "cell_type": "code",
   "execution_count": 58,
   "metadata": {},
   "outputs": [
    {
     "data": {
      "image/png": "[encoded data removed]",
      "text/plain": [
       "<Figure size 432x288 with 2 Axes>"
      ]
     },
     "metadata": {
      "needs_background": "light"
     },
     "output_type": "display_data"
    }
   ],
   "source": [
    "plt.contourf(real_out - pred_out)\n",
    "plt.colorbar()\n",
    "plt.title(\"Difference UPIRFLUX (Lin Reg)\")\n",
    "plt.xlabel(\"Longtitude\")\n",
    "plt.ylabel(\"Latitude\")\n",
    "plt.show()"
   ]
  },
  {
   "cell_type": "code",
   "execution_count": 59,
   "metadata": {},
   "outputs": [
    {
     "data": {
      "image/png": "[encoded data removed]",
      "text/plain": [
       "<Figure size 432x288 with 2 Axes>"
      ]
     },
     "metadata": {
      "needs_background": "light"
     },
     "output_type": "display_data"
    }
   ],
   "source": [
    "plt.contourf((real_out - pred_out)/real_out)\n",
    "plt.colorbar()\n",
    "plt.title(\"Relative Difference UPIRFLUX (Lin Reg)\")\n",
    "plt.xlabel(\"Longtitude\")\n",
    "plt.ylabel(\"Latitude\")\n",
    "plt.show()"
   ]
  },
  {
   "cell_type": "markdown",
   "metadata": {},
   "source": [
    "## Getting the integrals of flux error (and then getting average erroneusly added flux)"
   ]
  },
  {
   "cell_type": "code",
   "execution_count": 60,
   "metadata": {},
   "outputs": [],
   "source": [
    "def int_err(pred, real, real_in, r): \n",
    "    areas = []\n",
    "    for i in range(len(real)):\n",
    "        dA =  -r**2 * np.sin((np.pi/36)*((real_in.index[i]//72)%36)) * (np.pi/36) * (np.pi/36)  #area increment\n",
    "        areas.append(dA)\n",
    "    areas = np.array(areas)\n",
    "    return np.sum((np.array(pred) - np.array(real))*areas)"
   ]
  },
  {
   "cell_type": "code",
   "execution_count": 61,
   "metadata": {},
   "outputs": [
    {
     "data": {
      "text/plain": [
       "(36, 72)"
      ]
     },
     "execution_count": 61,
     "metadata": {},
     "output_type": "execute_result"
    }
   ],
   "source": [
    "real_out.shape"
   ]
  },
  {
   "cell_type": "code",
   "execution_count": 62,
   "metadata": {},
   "outputs": [],
   "source": [
    "lin_t_int = [] #total lin integral list, each element is one layer\n",
    "for i in range(52): \n",
    "    lin_errors = [] #each element is one time snapshot\n",
    "    for j in range(70):\n",
    "        lin_int_err = int_err(uif_lin[j*36*72:(j+1)*36*72,i], uif_out[j*36*72:(j+1)*36*72,i], pd.DataFrame(uif_lin), 3.39e6) \n",
    "        lin_errors.append(lin_int_err/(1.44e14)) \n",
    "    lin_t_int.append(lin_errors)"
   ]
  },
  {
   "cell_type": "code",
   "execution_count": 63,
   "metadata": {
    "scrolled": true
   },
   "outputs": [
    {
     "data": {
      "text/plain": [
       "array([[ 0.21953878, -0.00618611,  0.20428023, ...,  0.01462741,\n",
       "         0.17543352, -0.0113045 ],\n",
       "       [ 0.21953352, -0.00618597,  0.20426863, ...,  0.0146168 ,\n",
       "         0.175431  , -0.01130198],\n",
       "       [ 0.21952994, -0.00618558,  0.20426022, ...,  0.01460928,\n",
       "         0.175429  , -0.0112999 ],\n",
       "       ...,\n",
       "       [ 0.76086375,  0.34610783,  0.61055862, ...,  0.43495104,\n",
       "         0.63756235,  0.26795851],\n",
       "       [ 0.75840156,  0.33555994,  0.60800984, ...,  0.43159647,\n",
       "         0.63020997,  0.25727742],\n",
       "       [ 0.74593372,  0.31857008,  0.59905425, ...,  0.42090132,\n",
       "         0.61071783,  0.23938224]])"
      ]
     },
     "execution_count": 63,
     "metadata": {},
     "output_type": "execute_result"
    }
   ],
   "source": [
    "lin_t_int = np.array(lin_t_int)\n",
    "lin_t_int"
   ]
  },
  {
   "cell_type": "code",
   "execution_count": 64,
   "metadata": {},
   "outputs": [
    {
     "data": {
      "text/plain": [
       "array([0.31759955, 0.31759144, 0.31758573, 0.31755486, 0.31744597,\n",
       "       0.31729182, 0.31721164, 0.31697962, 0.3165678 , 0.31632568,\n",
       "       0.31648828, 0.31666627, 0.31639817, 0.31566447, 0.3148144 ,\n",
       "       0.31406327, 0.31315574, 0.31155238, 0.3094332 , 0.30729762,\n",
       "       0.30559109, 0.30564361, 0.30908314, 0.31714208, 0.32960223,\n",
       "       0.34624184, 0.36471213, 0.38217775, 0.40090984, 0.42271168,\n",
       "       0.4460069 , 0.46522219, 0.48149314, 0.49792302, 0.52226527,\n",
       "       0.57170307, 0.63658419, 0.69823662, 0.75094525, 0.77238555,\n",
       "       0.79450862, 0.80743226, 0.81931176, 0.82978672, 0.8390501 ,\n",
       "       0.84476345, 0.85052022, 0.85612681, 0.8603222 , 0.86083152,\n",
       "       0.85157354, 0.82835611])"
      ]
     },
     "execution_count": 64,
     "metadata": {},
     "output_type": "execute_result"
    }
   ],
   "source": [
    "max_err = []\n",
    "for element in lin_t_int:\n",
    "    max_err.append(np.max(element))\n",
    "np.array(max_err)"
   ]
  },
  {
   "cell_type": "code",
   "execution_count": 65,
   "metadata": {},
   "outputs": [
    {
     "data": {
      "text/plain": [
       "array([-0.13473478, -0.13473765, -0.13473937, -0.13478717, -0.13483946,\n",
       "       -0.1349273 , -0.13506986, -0.13506257, -0.1350592 , -0.13515   ,\n",
       "       -0.13524937, -0.13520278, -0.13527361, -0.13581174, -0.13688614,\n",
       "       -0.13816588, -0.13953323, -0.14117021, -0.14344273, -0.14657171,\n",
       "       -0.14951636, -0.15063068, -0.14831313, -0.14115071, -0.12981039,\n",
       "       -0.1155769 , -0.1011987 , -0.0900891 , -0.0816944 , -0.07271692,\n",
       "       -0.06169653, -0.05093323, -0.04203881, -0.03215953, -0.0096238 ,\n",
       "        0.03557007,  0.09150477,  0.14364286,  0.17555004,  0.18120798,\n",
       "        0.18324933,  0.18324093,  0.18252075,  0.18101551,  0.17817452,\n",
       "        0.17494682,  0.17011078,  0.16340138,  0.15481337,  0.14437435,\n",
       "        0.12939488,  0.10669154])"
      ]
     },
     "execution_count": 65,
     "metadata": {},
     "output_type": "execute_result"
    }
   ],
   "source": [
    "min_err = []\n",
    "for element in lin_t_int:\n",
    "    min_err.append(np.min(element))\n",
    "np.array(min_err)"
   ]
  },
  {
   "cell_type": "code",
   "execution_count": 66,
   "metadata": {},
   "outputs": [
    {
     "data": {
      "text/plain": [
       "array([0.10998541, 0.10998427, 0.10998336, 0.109997  , 0.10998781,\n",
       "       0.10994017, 0.10996654, 0.10987523, 0.10970668, 0.10965947,\n",
       "       0.10977089, 0.1098869 , 0.10990031, 0.10986495, 0.10988926,\n",
       "       0.10999627, 0.1101009 , 0.11006523, 0.1099483 , 0.10993887,\n",
       "       0.11000265, 0.1100544 , 0.11011873, 0.11016909, 0.11005007,\n",
       "       0.10981524, 0.10993828, 0.11086568, 0.11270938, 0.11508303,\n",
       "       0.11752133, 0.11924164, 0.12085144, 0.12237541, 0.12279528,\n",
       "       0.12375305, 0.12536391, 0.12697268, 0.13163617, 0.13579513,\n",
       "       0.14125836, 0.14468031, 0.14786521, 0.15090336, 0.154327  ,\n",
       "       0.15731251, 0.16118345, 0.16578279, 0.17070388, 0.17516417,\n",
       "       0.17733178, 0.17791699])"
      ]
     },
     "execution_count": 66,
     "metadata": {},
     "output_type": "execute_result"
    }
   ],
   "source": [
    "std_err = []\n",
    "for element in lin_t_int:\n",
    "    std_err.append(np.std(element))\n",
    "np.array(std_err)"
   ]
  },
  {
   "cell_type": "code",
   "execution_count": 67,
   "metadata": {},
   "outputs": [
    {
     "data": {
      "text/plain": [
       "array([0.09162441, 0.0916182 , 0.09161381, 0.09157932, 0.09151637,\n",
       "       0.09140298, 0.09128333, 0.09114971, 0.09099602, 0.09087818,\n",
       "       0.09077579, 0.09062227, 0.09037843, 0.08992496, 0.08916743,\n",
       "       0.08811314, 0.08678336, 0.08511796, 0.08311345, 0.08074124,\n",
       "       0.07834035, 0.07724792, 0.07942968, 0.08656481, 0.09870801,\n",
       "       0.11479834, 0.13187651, 0.14727566, 0.16228873, 0.17812568,\n",
       "       0.19360349, 0.20587332, 0.21694828, 0.23183669, 0.26044014,\n",
       "       0.31201747, 0.37271343, 0.42553972, 0.46260671, 0.47474947,\n",
       "       0.48581622, 0.49164856, 0.49657874, 0.50065795, 0.50410295,\n",
       "       0.50603544, 0.50728159, 0.50737708, 0.50615634, 0.50322105,\n",
       "       0.49646728, 0.48183629])"
      ]
     },
     "execution_count": 67,
     "metadata": {},
     "output_type": "execute_result"
    }
   ],
   "source": [
    "avg_err = []\n",
    "for element in lin_t_int:\n",
    "    avg_err.append(np.average(element))\n",
    "np.array(avg_err)"
   ]
  },
  {
   "cell_type": "code",
   "execution_count": 68,
   "metadata": {},
   "outputs": [
    {
     "name": "stdout",
     "output_type": "stream",
     "text": [
      "Lin reg average:\n",
      "0.23243392860237277\n"
     ]
    }
   ],
   "source": [
    "print(\"Lin reg average:\")\n",
    "print(np.average(np.array(lin_t_int)))"
   ]
  },
  {
   "cell_type": "code",
   "execution_count": null,
   "metadata": {},
   "outputs": [],
   "source": []
  },
  {
   "cell_type": "markdown",
   "metadata": {},
   "source": [
    "# Predicting Fall:"
   ]
  },
  {
   "cell_type": "code",
   "execution_count": 69,
   "metadata": {},
   "outputs": [],
   "source": [
    "uif_lin = rfr1.predict(sla_fall) \n",
    "uif_out = uif_fall"
   ]
  },
  {
   "cell_type": "code",
   "execution_count": 70,
   "metadata": {},
   "outputs": [
    {
     "data": {
      "text/plain": [
       "3.7935732951628545"
      ]
     },
     "execution_count": 70,
     "metadata": {},
     "output_type": "execute_result"
    }
   ],
   "source": [
    "from sklearn.metrics import mean_squared_error\n",
    "lin_mse = mean_squared_error(uif_out, uif_lin)\n",
    "lin_rmse = np.sqrt(lin_mse)\n",
    "lin_rmse "
   ]
  },
  {
   "cell_type": "code",
   "execution_count": 71,
   "metadata": {},
   "outputs": [
    {
     "data": {
      "text/plain": [
       "15.713927"
      ]
     },
     "execution_count": 71,
     "metadata": {},
     "output_type": "execute_result"
    }
   ],
   "source": [
    "np.min(uif_out)"
   ]
  },
  {
   "cell_type": "code",
   "execution_count": 72,
   "metadata": {},
   "outputs": [
    {
     "data": {
      "text/plain": [
       "484.24545"
      ]
     },
     "execution_count": 72,
     "metadata": {},
     "output_type": "execute_result"
    }
   ],
   "source": [
    "np.max(uif_out)"
   ]
  },
  {
   "cell_type": "code",
   "execution_count": 73,
   "metadata": {},
   "outputs": [],
   "source": [
    "uif_diff = uif_out - uif_lin"
   ]
  },
  {
   "cell_type": "code",
   "execution_count": 74,
   "metadata": {},
   "outputs": [
    {
     "data": {
      "text/plain": [
       "<function matplotlib.pyplot.show(*args, **kw)>"
      ]
     },
     "execution_count": 74,
     "metadata": {},
     "output_type": "execute_result"
    },
    {
     "data": {
      "image/png": "[encoded data removed]",
      "text/plain": [
       "<Figure size 432x288 with 1 Axes>"
      ]
     },
     "metadata": {
      "needs_background": "light"
     },
     "output_type": "display_data"
    }
   ],
   "source": [
    "plt.hist(uif_diff, bins = 100)\n",
    "plt.title(\"Linear regressor difference\")\n",
    "plt.show #some variance..."
   ]
  },
  {
   "cell_type": "code",
   "execution_count": 75,
   "metadata": {},
   "outputs": [
    {
     "data": {
      "text/plain": [
       "(32213376, 1)"
      ]
     },
     "execution_count": 75,
     "metadata": {},
     "output_type": "execute_result"
    }
   ],
   "source": [
    "uif_out.reshape(-1,1).shape"
   ]
  },
  {
   "cell_type": "code",
   "execution_count": 76,
   "metadata": {},
   "outputs": [],
   "source": [
    "real_out = uif_out[10*36*72:11*36*72,10].reshape(36,72)\n",
    "pred_out = uif_lin[10*36*72:11*36*72,10].reshape(36,72)"
   ]
  },
  {
   "cell_type": "code",
   "execution_count": 77,
   "metadata": {},
   "outputs": [
    {
     "data": {
      "image/png": "[encoded data removed]",
      "text/plain": [
       "<Figure size 432x288 with 2 Axes>"
      ]
     },
     "metadata": {
      "needs_background": "light"
     },
     "output_type": "display_data"
    }
   ],
   "source": [
    "plt.contourf(real_out)\n",
    "plt.colorbar()\n",
    "plt.title(\"Actual UPIRFLUX (Lin Reg)\")\n",
    "plt.xlabel(\"Longtitude\")\n",
    "plt.ylabel(\"Latitude\")\n",
    "plt.show()"
   ]
  },
  {
   "cell_type": "code",
   "execution_count": 78,
   "metadata": {},
   "outputs": [
    {
     "data": {
      "image/png": "[encoded data removed]",
      "text/plain": [
       "<Figure size 432x288 with 2 Axes>"
      ]
     },
     "metadata": {
      "needs_background": "light"
     },
     "output_type": "display_data"
    }
   ],
   "source": [
    "plt.contourf(pred_out)\n",
    "plt.colorbar()\n",
    "plt.title(\"Predicted UPIRFLUX (Lin Reg)\")\n",
    "plt.xlabel(\"Longtitude\")\n",
    "plt.ylabel(\"Latitude\")\n",
    "plt.show()"
   ]
  },
  {
   "cell_type": "code",
   "execution_count": 79,
   "metadata": {},
   "outputs": [
    {
     "data": {
      "image/png": "[encoded data removed]",
      "text/plain": [
       "<Figure size 432x288 with 2 Axes>"
      ]
     },
     "metadata": {
      "needs_background": "light"
     },
     "output_type": "display_data"
    }
   ],
   "source": [
    "plt.contourf(real_out - pred_out)\n",
    "plt.colorbar()\n",
    "plt.title(\"Difference UPIRFLUX (Lin Reg)\")\n",
    "plt.xlabel(\"Longtitude\")\n",
    "plt.ylabel(\"Latitude\")\n",
    "plt.show()"
   ]
  },
  {
   "cell_type": "code",
   "execution_count": 80,
   "metadata": {},
   "outputs": [
    {
     "data": {
      "image/png": "[encoded data removed]",
      "text/plain": [
       "<Figure size 432x288 with 2 Axes>"
      ]
     },
     "metadata": {
      "needs_background": "light"
     },
     "output_type": "display_data"
    }
   ],
   "source": [
    "plt.contourf((real_out - pred_out)/real_out)\n",
    "plt.colorbar()\n",
    "plt.title(\"Relative Difference UPIRFLUX (Lin Reg)\")\n",
    "plt.xlabel(\"Longtitude\")\n",
    "plt.ylabel(\"Latitude\")\n",
    "plt.show()"
   ]
  },
  {
   "cell_type": "markdown",
   "metadata": {},
   "source": [
    "## Getting the integrals of flux error (and then getting average erroneusly added flux)"
   ]
  },
  {
   "cell_type": "code",
   "execution_count": 81,
   "metadata": {},
   "outputs": [],
   "source": [
    "def int_err(pred, real, real_in, r): \n",
    "    areas = []\n",
    "    for i in range(len(real)):\n",
    "        dA =  -r**2 * np.sin((np.pi/36)*((real_in.index[i]//72)%36)) * (np.pi/36) * (np.pi/36)  #area increment\n",
    "        areas.append(dA)\n",
    "    areas = np.array(areas)\n",
    "    return np.sum((np.array(pred) - np.array(real))*areas)"
   ]
  },
  {
   "cell_type": "code",
   "execution_count": 82,
   "metadata": {},
   "outputs": [
    {
     "data": {
      "text/plain": [
       "(36, 72)"
      ]
     },
     "execution_count": 82,
     "metadata": {},
     "output_type": "execute_result"
    }
   ],
   "source": [
    "real_out.shape"
   ]
  },
  {
   "cell_type": "code",
   "execution_count": 83,
   "metadata": {},
   "outputs": [],
   "source": [
    "lin_t_int = [] #total lin integral list, each element is one layer\n",
    "for i in range(52): \n",
    "    lin_errors = [] #each element is one time snapshot\n",
    "    for j in range(70):\n",
    "        lin_int_err = int_err(uif_lin[j*36*72:(j+1)*36*72,i], uif_out[j*36*72:(j+1)*36*72,i], pd.DataFrame(uif_lin), 3.39e6) \n",
    "        lin_errors.append(lin_int_err/(1.44e14)) \n",
    "    lin_t_int.append(lin_errors)"
   ]
  },
  {
   "cell_type": "code",
   "execution_count": 84,
   "metadata": {
    "scrolled": true
   },
   "outputs": [
    {
     "data": {
      "text/plain": [
       "array([[-0.04536928, -0.33776882,  0.24757317, ..., -0.21531029,\n",
       "         0.04399571, -0.26476067],\n",
       "       [-0.0453681 , -0.33776726,  0.24758531, ..., -0.21530783,\n",
       "         0.04399862, -0.26474928],\n",
       "       [-0.04536722, -0.33776599,  0.24759469, ..., -0.21530628,\n",
       "         0.04400104, -0.26474098],\n",
       "       ...,\n",
       "       [-0.34405017, -0.74948024, -0.21647944, ..., -0.56839733,\n",
       "        -0.19360247, -0.67097741],\n",
       "       [-0.35197373, -0.7479129 , -0.20667759, ..., -0.53848911,\n",
       "        -0.20173443, -0.67424485],\n",
       "       [-0.33570437, -0.76041177, -0.17750348, ..., -0.49084594,\n",
       "        -0.18987467, -0.69040501]])"
      ]
     },
     "execution_count": 84,
     "metadata": {},
     "output_type": "execute_result"
    }
   ],
   "source": [
    "lin_t_int = np.array(lin_t_int)\n",
    "lin_t_int"
   ]
  },
  {
   "cell_type": "code",
   "execution_count": 85,
   "metadata": {},
   "outputs": [
    {
     "data": {
      "text/plain": [
       "array([ 0.40939981,  0.40940992,  0.40941712,  0.40954546,  0.40971355,\n",
       "        0.40968618,  0.40981043,  0.41000343,  0.40984243,  0.40921243,\n",
       "        0.40893998,  0.40873954,  0.40843363,  0.40810336,  0.40803732,\n",
       "        0.40828247,  0.40869733,  0.40920314,  0.40949293,  0.40910227,\n",
       "        0.40714021,  0.40274593,  0.39528735,  0.3837359 ,  0.36821076,\n",
       "        0.34901545,  0.32649822,  0.29803453,  0.26562903,  0.23405733,\n",
       "        0.20429407,  0.17374852,  0.14572221,  0.12428418,  0.11063054,\n",
       "        0.09543326,  0.07166621,  0.03770337,  0.00352327, -0.00875646,\n",
       "       -0.01842087, -0.02255119, -0.0254073 , -0.02685612, -0.02738348,\n",
       "       -0.02764977, -0.02793913, -0.02860395, -0.0296689 , -0.02714625,\n",
       "       -0.01505744,  0.01435752])"
      ]
     },
     "execution_count": 85,
     "metadata": {},
     "output_type": "execute_result"
    }
   ],
   "source": [
    "max_err = []\n",
    "for element in lin_t_int:\n",
    "    max_err.append(np.max(element))\n",
    "np.array(max_err)"
   ]
  },
  {
   "cell_type": "code",
   "execution_count": 86,
   "metadata": {},
   "outputs": [
    {
     "data": {
      "text/plain": [
       "array([-0.46507361, -0.46507273, -0.46507185, -0.46513592, -0.46518556,\n",
       "       -0.46516667, -0.46513086, -0.46530348, -0.465598  , -0.4653115 ,\n",
       "       -0.46483537, -0.46482032, -0.46537165, -0.4661167 , -0.4666721 ,\n",
       "       -0.46690517, -0.46653617, -0.46528176, -0.46324202, -0.46083312,\n",
       "       -0.46053748, -0.46294906, -0.46879729, -0.47919052, -0.49475784,\n",
       "       -0.5158824 , -0.54130654, -0.57154543, -0.60558787, -0.64015375,\n",
       "       -0.67306125, -0.70631987, -0.73813462, -0.7681312 , -0.80032534,\n",
       "       -0.83268649, -0.85692512, -0.88124946, -0.90601977, -0.91726942,\n",
       "       -0.92875107, -0.93554513, -0.94216373, -0.94785567, -0.95226836,\n",
       "       -0.95372159, -0.95307712, -0.95026719, -0.94497426, -0.93738239,\n",
       "       -0.93591008, -0.94004118])"
      ]
     },
     "execution_count": 86,
     "metadata": {},
     "output_type": "execute_result"
    }
   ],
   "source": [
    "min_err = []\n",
    "for element in lin_t_int:\n",
    "    min_err.append(np.min(element))\n",
    "np.array(min_err)"
   ]
  },
  {
   "cell_type": "code",
   "execution_count": 87,
   "metadata": {},
   "outputs": [
    {
     "data": {
      "text/plain": [
       "array([0.26082717, 0.260831  , 0.26083379, 0.26089709, 0.26097948,\n",
       "       0.26098367, 0.26097472, 0.26103115, 0.26103588, 0.26087243,\n",
       "       0.26069757, 0.2604427 , 0.26029819, 0.26036621, 0.26060952,\n",
       "       0.26080229, 0.26072717, 0.26034819, 0.25973163, 0.25893699,\n",
       "       0.25808272, 0.25738145, 0.25687844, 0.2564879 , 0.25624741,\n",
       "       0.25626768, 0.25631418, 0.25561546, 0.25439895, 0.2530979 ,\n",
       "       0.25138598, 0.24939952, 0.24830546, 0.24802988, 0.2496508 ,\n",
       "       0.25185539, 0.25006985, 0.24637831, 0.24544377, 0.24658224,\n",
       "       0.24878798, 0.25063834, 0.25280665, 0.25507164, 0.25734514,\n",
       "       0.2586194 , 0.25939705, 0.25931648, 0.25742006, 0.2536433 ,\n",
       "       0.25204827, 0.25908149])"
      ]
     },
     "execution_count": 87,
     "metadata": {},
     "output_type": "execute_result"
    }
   ],
   "source": [
    "std_err = []\n",
    "for element in lin_t_int:\n",
    "    std_err.append(np.std(element))\n",
    "np.array(std_err)"
   ]
  },
  {
   "cell_type": "code",
   "execution_count": 88,
   "metadata": {},
   "outputs": [
    {
     "data": {
      "text/plain": [
       "array([-0.08999485, -0.08999045, -0.08998707, -0.08996282, -0.08993785,\n",
       "       -0.09002883, -0.09000444, -0.08987548, -0.08974284, -0.08966195,\n",
       "       -0.0897142 , -0.09003159, -0.09033627, -0.09059198, -0.09086882,\n",
       "       -0.09100736, -0.09065901, -0.08968515, -0.08839364, -0.08727198,\n",
       "       -0.0874104 , -0.0899906 , -0.09588572, -0.10619738, -0.12094913,\n",
       "       -0.14009585, -0.16263886, -0.18969529, -0.21983077, -0.24939889,\n",
       "       -0.27607758, -0.30126939, -0.32451305, -0.34625568, -0.36751115,\n",
       "       -0.38929684, -0.40795572, -0.42883608, -0.44999443, -0.45703645,\n",
       "       -0.4632668 , -0.46685016, -0.47041854, -0.47389802, -0.47704632,\n",
       "       -0.47854407, -0.47909274, -0.47823678, -0.47510507, -0.46910033,\n",
       "       -0.46016231, -0.44016295])"
      ]
     },
     "execution_count": 88,
     "metadata": {},
     "output_type": "execute_result"
    }
   ],
   "source": [
    "avg_err = []\n",
    "for element in lin_t_int:\n",
    "    avg_err.append(np.average(element))\n",
    "np.array(avg_err)"
   ]
  },
  {
   "cell_type": "code",
   "execution_count": 89,
   "metadata": {},
   "outputs": [
    {
     "name": "stdout",
     "output_type": "stream",
     "text": [
      "Lin reg average:\n",
      "-0.2430859594872194\n"
     ]
    }
   ],
   "source": [
    "print(\"Lin reg average:\")\n",
    "print(np.average(np.array(lin_t_int)))"
   ]
  },
  {
   "cell_type": "code",
   "execution_count": null,
   "metadata": {},
   "outputs": [],
   "source": []
  },
  {
   "cell_type": "markdown",
   "metadata": {},
   "source": [
    "# Predicting Winter:"
   ]
  },
  {
   "cell_type": "code",
   "execution_count": 91,
   "metadata": {},
   "outputs": [],
   "source": [
    "uif_lin = rfr1.predict(sla_winter)  \n",
    "uif_out = uif_winter"
   ]
  },
  {
   "cell_type": "code",
   "execution_count": 92,
   "metadata": {},
   "outputs": [
    {
     "data": {
      "text/plain": [
       "5.19520151259162"
      ]
     },
     "execution_count": 92,
     "metadata": {},
     "output_type": "execute_result"
    }
   ],
   "source": [
    "from sklearn.metrics import mean_squared_error\n",
    "lin_mse = mean_squared_error(uif_out, uif_lin)\n",
    "lin_rmse = np.sqrt(lin_mse)\n",
    "lin_rmse "
   ]
  },
  {
   "cell_type": "code",
   "execution_count": 93,
   "metadata": {},
   "outputs": [
    {
     "data": {
      "text/plain": [
       "15.832658"
      ]
     },
     "execution_count": 93,
     "metadata": {},
     "output_type": "execute_result"
    }
   ],
   "source": [
    "np.min(uif_out)"
   ]
  },
  {
   "cell_type": "code",
   "execution_count": 94,
   "metadata": {},
   "outputs": [
    {
     "data": {
      "text/plain": [
       "485.98044"
      ]
     },
     "execution_count": 94,
     "metadata": {},
     "output_type": "execute_result"
    }
   ],
   "source": [
    "np.max(uif_out)"
   ]
  },
  {
   "cell_type": "code",
   "execution_count": 95,
   "metadata": {},
   "outputs": [],
   "source": [
    "uif_diff = uif_out - uif_lin"
   ]
  },
  {
   "cell_type": "code",
   "execution_count": 96,
   "metadata": {},
   "outputs": [
    {
     "data": {
      "text/plain": [
       "<function matplotlib.pyplot.show(*args, **kw)>"
      ]
     },
     "execution_count": 96,
     "metadata": {},
     "output_type": "execute_result"
    },
    {
     "data": {
      "image/png": "[encoded data removed]",
      "text/plain": [
       "<Figure size 432x288 with 1 Axes>"
      ]
     },
     "metadata": {
      "needs_background": "light"
     },
     "output_type": "display_data"
    }
   ],
   "source": [
    "plt.hist(uif_diff, bins = 100)\n",
    "plt.title(\"Linear regressor difference\")\n",
    "plt.show #some variance..."
   ]
  },
  {
   "cell_type": "code",
   "execution_count": 97,
   "metadata": {},
   "outputs": [
    {
     "data": {
      "text/plain": [
       "(32213376, 1)"
      ]
     },
     "execution_count": 97,
     "metadata": {},
     "output_type": "execute_result"
    }
   ],
   "source": [
    "uif_out.reshape(-1,1).shape"
   ]
  },
  {
   "cell_type": "code",
   "execution_count": 98,
   "metadata": {},
   "outputs": [],
   "source": [
    "real_out = uif_out[10*36*72:11*36*72,10].reshape(36,72)\n",
    "pred_out = uif_lin[10*36*72:11*36*72,10].reshape(36,72)"
   ]
  },
  {
   "cell_type": "code",
   "execution_count": 99,
   "metadata": {},
   "outputs": [
    {
     "data": {
      "image/png": "[encoded data removed]",
      "text/plain": [
       "<Figure size 432x288 with 2 Axes>"
      ]
     },
     "metadata": {
      "needs_background": "light"
     },
     "output_type": "display_data"
    }
   ],
   "source": [
    "plt.contourf(real_out)\n",
    "plt.colorbar()\n",
    "plt.title(\"Actual UPIRFLUX (Lin Reg)\")\n",
    "plt.xlabel(\"Longtitude\")\n",
    "plt.ylabel(\"Latitude\")\n",
    "plt.show()"
   ]
  },
  {
   "cell_type": "code",
   "execution_count": 100,
   "metadata": {},
   "outputs": [
    {
     "data": {
      "image/png": "[encoded data removed]",
      "text/plain": [
       "<Figure size 432x288 with 2 Axes>"
      ]
     },
     "metadata": {
      "needs_background": "light"
     },
     "output_type": "display_data"
    }
   ],
   "source": [
    "plt.contourf(pred_out)\n",
    "plt.colorbar()\n",
    "plt.title(\"Predicted UPIRFLUX (Lin Reg)\")\n",
    "plt.xlabel(\"Longtitude\")\n",
    "plt.ylabel(\"Latitude\")\n",
    "plt.show()"
   ]
  },
  {
   "cell_type": "code",
   "execution_count": 101,
   "metadata": {},
   "outputs": [
    {
     "data": {
      "image/png": "[encoded data removed]",
      "text/plain": [
       "<Figure size 432x288 with 2 Axes>"
      ]
     },
     "metadata": {
      "needs_background": "light"
     },
     "output_type": "display_data"
    }
   ],
   "source": [
    "plt.contourf(real_out - pred_out)\n",
    "plt.colorbar()\n",
    "plt.title(\"Difference UPIRFLUX (Lin Reg)\")\n",
    "plt.xlabel(\"Longtitude\")\n",
    "plt.ylabel(\"Latitude\")\n",
    "plt.show()"
   ]
  },
  {
   "cell_type": "code",
   "execution_count": 102,
   "metadata": {},
   "outputs": [
    {
     "data": {
      "image/png": "[encoded data removed]",
      "text/plain": [
       "<Figure size 432x288 with 2 Axes>"
      ]
     },
     "metadata": {
      "needs_background": "light"
     },
     "output_type": "display_data"
    }
   ],
   "source": [
    "plt.contourf((real_out - pred_out)/real_out)\n",
    "plt.colorbar()\n",
    "plt.title(\"Relative Difference UPIRFLUX (Lin Reg)\")\n",
    "plt.xlabel(\"Longtitude\")\n",
    "plt.ylabel(\"Latitude\")\n",
    "plt.show()"
   ]
  },
  {
   "cell_type": "markdown",
   "metadata": {},
   "source": [
    "## Getting the integrals of flux error (and then getting average erroneusly added flux)"
   ]
  },
  {
   "cell_type": "code",
   "execution_count": 103,
   "metadata": {},
   "outputs": [],
   "source": [
    "def int_err(pred, real, real_in, r): \n",
    "    areas = []\n",
    "    for i in range(len(real)):\n",
    "        dA =  -r**2 * np.sin((np.pi/36)*((real_in.index[i]//72)%36)) * (np.pi/36) * (np.pi/36)  #area increment\n",
    "        areas.append(dA)\n",
    "    areas = np.array(areas)\n",
    "    return np.sum((np.array(pred) - np.array(real))*areas)"
   ]
  },
  {
   "cell_type": "code",
   "execution_count": 104,
   "metadata": {},
   "outputs": [
    {
     "data": {
      "text/plain": [
       "(36, 72)"
      ]
     },
     "execution_count": 104,
     "metadata": {},
     "output_type": "execute_result"
    }
   ],
   "source": [
    "real_out.shape"
   ]
  },
  {
   "cell_type": "code",
   "execution_count": 105,
   "metadata": {},
   "outputs": [],
   "source": [
    "lin_t_int = [] #total lin integral list, each element is one layer\n",
    "for i in range(52): \n",
    "    lin_errors = [] #each element is one time snapshot\n",
    "    for j in range(70):\n",
    "        lin_int_err = int_err(uif_lin[j*36*72:(j+1)*36*72,i], uif_out[j*36*72:(j+1)*36*72,i], pd.DataFrame(uif_lin), 3.39e6) \n",
    "        lin_errors.append(lin_int_err/(1.44e14)) \n",
    "    lin_t_int.append(lin_errors)"
   ]
  },
  {
   "cell_type": "code",
   "execution_count": 106,
   "metadata": {
    "scrolled": true
   },
   "outputs": [
    {
     "data": {
      "text/plain": [
       "array([[1.78171945, 2.2890187 , 1.85078884, ..., 1.09326136, 0.90588572,\n",
       "        1.16172145],\n",
       "       [1.78168818, 2.28899065, 1.85074598, ..., 1.0932446 , 0.90586417,\n",
       "        1.16168284],\n",
       "       [1.78166636, 2.28896974, 1.85071515, ..., 1.09323209, 0.90584784,\n",
       "        1.16165373],\n",
       "       ...,\n",
       "       [2.90234995, 3.10573012, 2.55666923, ..., 1.73796488, 1.67451882,\n",
       "        1.53374918],\n",
       "       [2.86191063, 3.07480048, 2.52016217, ..., 1.73809193, 1.65333477,\n",
       "        1.53142632],\n",
       "       [2.81071485, 3.00430377, 2.48209279, ..., 1.74091944, 1.62741286,\n",
       "        1.50022207]])"
      ]
     },
     "execution_count": 106,
     "metadata": {},
     "output_type": "execute_result"
    }
   ],
   "source": [
    "lin_t_int = np.array(lin_t_int)\n",
    "lin_t_int"
   ]
  },
  {
   "cell_type": "code",
   "execution_count": 107,
   "metadata": {},
   "outputs": [
    {
     "data": {
      "text/plain": [
       "array([2.2890187 , 2.28899065, 2.28896974, 2.28889216, 2.28862912,\n",
       "       2.28833083, 2.2872044 , 2.28538503, 2.28404887, 2.28377453,\n",
       "       2.28473888, 2.28723902, 2.29197032, 2.29901984, 2.30663443,\n",
       "       2.3124613 , 2.31714832, 2.32277349, 2.32870406, 2.33435726,\n",
       "       2.3413673 , 2.35258587, 2.37183658, 2.40352784, 2.44796731,\n",
       "       2.49968412, 2.55369689, 2.61149433, 2.67519471, 2.74447226,\n",
       "       2.81903458, 2.89640258, 2.9734693 , 3.0485495 , 3.12286722,\n",
       "       3.18378354, 3.20976427, 3.21597888, 3.21142665, 3.20123002,\n",
       "       3.18372376, 3.17007056, 3.15472446, 3.13944256, 3.12777869,\n",
       "       3.12359227, 3.1226034 , 3.12258781, 3.11809994, 3.10573012,\n",
       "       3.07480048, 3.00430377])"
      ]
     },
     "execution_count": 107,
     "metadata": {},
     "output_type": "execute_result"
    }
   ],
   "source": [
    "max_err = []\n",
    "for element in lin_t_int:\n",
    "    max_err.append(np.max(element))\n",
    "np.array(max_err)"
   ]
  },
  {
   "cell_type": "code",
   "execution_count": 108,
   "metadata": {},
   "outputs": [
    {
     "data": {
      "text/plain": [
       "array([0.90588572, 0.90586417, 0.90584784, 0.90558699, 0.90534107,\n",
       "       0.9054334 , 0.90601235, 0.90650926, 0.90678844, 0.90682812,\n",
       "       0.90672671, 0.90670395, 0.90734506, 0.90958357, 0.91313833,\n",
       "       0.91614588, 0.91806664, 0.92019464, 0.92244679, 0.9237844 ,\n",
       "       0.92750666, 0.94059926, 0.96398275, 0.99252414, 1.02131429,\n",
       "       1.05132428, 1.08555332, 1.12651137, 1.17525731, 1.23317913,\n",
       "       1.30112914, 1.37636583, 1.45636229, 1.50155029, 1.53249086,\n",
       "       1.54025481, 1.52806407, 1.50564223, 1.4763919 , 1.45813251,\n",
       "       1.43609205, 1.42136127, 1.40520467, 1.38809577, 1.37016533,\n",
       "       1.35742537, 1.34275716, 1.32714012, 1.31302581, 1.30146083,\n",
       "       1.28986396, 1.28253361])"
      ]
     },
     "execution_count": 108,
     "metadata": {},
     "output_type": "execute_result"
    }
   ],
   "source": [
    "min_err = []\n",
    "for element in lin_t_int:\n",
    "    min_err.append(np.min(element))\n",
    "np.array(min_err)"
   ]
  },
  {
   "cell_type": "code",
   "execution_count": 109,
   "metadata": {},
   "outputs": [
    {
     "data": {
      "text/plain": [
       "array([0.27123565, 0.2712324 , 0.27123016, 0.27122888, 0.27120164,\n",
       "       0.27112835, 0.27085808, 0.27044685, 0.27004769, 0.26984667,\n",
       "       0.27012947, 0.27105205, 0.27248037, 0.27393192, 0.27477087,\n",
       "       0.27486035, 0.27476964, 0.27481787, 0.27484752, 0.27510233,\n",
       "       0.27596359, 0.2770984 , 0.27821487, 0.28005697, 0.28362411,\n",
       "       0.28845424, 0.29302777, 0.29714061, 0.30153193, 0.30637969,\n",
       "       0.31105668, 0.31468009, 0.31749553, 0.32078334, 0.3256296 ,\n",
       "       0.33218222, 0.33986937, 0.34790175, 0.35340567, 0.35503245,\n",
       "       0.35604176, 0.35622799, 0.35622346, 0.35613897, 0.35632205,\n",
       "       0.3568425 , 0.35768097, 0.35810691, 0.35715782, 0.35468699,\n",
       "       0.34936069, 0.33783478])"
      ]
     },
     "execution_count": 109,
     "metadata": {},
     "output_type": "execute_result"
    }
   ],
   "source": [
    "std_err = []\n",
    "for element in lin_t_int:\n",
    "    std_err.append(np.std(element))\n",
    "np.array(std_err)"
   ]
  },
  {
   "cell_type": "code",
   "execution_count": 110,
   "metadata": {},
   "outputs": [
    {
     "data": {
      "text/plain": [
       "array([1.46760626, 1.46757479, 1.46755159, 1.46732111, 1.46695164,\n",
       "       1.4665958 , 1.4664597 , 1.46628423, 1.46620436, 1.46637206,\n",
       "       1.46689117, 1.46793268, 1.46975839, 1.47249086, 1.47614683,\n",
       "       1.48040518, 1.48480892, 1.48937777, 1.49424475, 1.50028301,\n",
       "       1.5093344 , 1.52312963, 1.54235083, 1.5679004 , 1.59969342,\n",
       "       1.63737035, 1.6807592 , 1.73065825, 1.78716686, 1.85000343,\n",
       "       1.91877699, 1.9920677 , 2.06766834, 2.14184869, 2.20283273,\n",
       "       2.24231213, 2.26079161, 2.26730292, 2.26566699, 2.26076729,\n",
       "       2.25204269, 2.24512367, 2.23678857, 2.22712883, 2.21704553,\n",
       "       2.21072311, 2.20512199, 2.19927685, 2.1906543 , 2.17848729,\n",
       "       2.15994732, 2.12981231])"
      ]
     },
     "execution_count": 110,
     "metadata": {},
     "output_type": "execute_result"
    }
   ],
   "source": [
    "avg_err = []\n",
    "for element in lin_t_int:\n",
    "    avg_err.append(np.average(element))\n",
    "np.array(avg_err)"
   ]
  },
  {
   "cell_type": "code",
   "execution_count": 111,
   "metadata": {},
   "outputs": [
    {
     "name": "stdout",
     "output_type": "stream",
     "text": [
      "Lin reg average:\n",
      "1.8071503021711406\n"
     ]
    }
   ],
   "source": [
    "print(\"Lin reg average:\")\n",
    "print(np.average(np.array(lin_t_int)))"
   ]
  },
  {
   "cell_type": "code",
   "execution_count": null,
   "metadata": {},
   "outputs": [],
   "source": []
  },
  {
   "cell_type": "markdown",
   "metadata": {},
   "source": [
    "# Predicting Spring:"
   ]
  },
  {
   "cell_type": "code",
   "execution_count": 112,
   "metadata": {},
   "outputs": [],
   "source": [
    "uif_lin = rfr1.predict(sla_spring)\n",
    "uif_out = uif_spring"
   ]
  },
  {
   "cell_type": "code",
   "execution_count": 113,
   "metadata": {},
   "outputs": [
    {
     "data": {
      "text/plain": [
       "3.3106247313902037"
      ]
     },
     "execution_count": 113,
     "metadata": {},
     "output_type": "execute_result"
    }
   ],
   "source": [
    "from sklearn.metrics import mean_squared_error\n",
    "lin_mse = mean_squared_error(uif_out, uif_lin)\n",
    "lin_rmse = np.sqrt(lin_mse)\n",
    "lin_rmse "
   ]
  },
  {
   "cell_type": "code",
   "execution_count": 114,
   "metadata": {},
   "outputs": [
    {
     "data": {
      "text/plain": [
       "15.936197"
      ]
     },
     "execution_count": 114,
     "metadata": {},
     "output_type": "execute_result"
    }
   ],
   "source": [
    "np.min(uif_out)"
   ]
  },
  {
   "cell_type": "code",
   "execution_count": 115,
   "metadata": {},
   "outputs": [
    {
     "data": {
      "text/plain": [
       "414.86307"
      ]
     },
     "execution_count": 115,
     "metadata": {},
     "output_type": "execute_result"
    }
   ],
   "source": [
    "np.max(uif_out)"
   ]
  },
  {
   "cell_type": "code",
   "execution_count": 116,
   "metadata": {},
   "outputs": [],
   "source": [
    "uif_diff = uif_out - uif_lin"
   ]
  },
  {
   "cell_type": "code",
   "execution_count": 117,
   "metadata": {},
   "outputs": [
    {
     "data": {
      "text/plain": [
       "<function matplotlib.pyplot.show(*args, **kw)>"
      ]
     },
     "execution_count": 117,
     "metadata": {},
     "output_type": "execute_result"
    },
    {
     "data": {
      "image/png": "[encoded data removed]",
      "text/plain": [
       "<Figure size 432x288 with 1 Axes>"
      ]
     },
     "metadata": {
      "needs_background": "light"
     },
     "output_type": "display_data"
    }
   ],
   "source": [
    "plt.hist(uif_diff, bins = 100)\n",
    "plt.title(\"Linear regressor difference\")\n",
    "plt.show #some variance..."
   ]
  },
  {
   "cell_type": "code",
   "execution_count": 118,
   "metadata": {},
   "outputs": [
    {
     "data": {
      "text/plain": [
       "(21430656, 1)"
      ]
     },
     "execution_count": 118,
     "metadata": {},
     "output_type": "execute_result"
    }
   ],
   "source": [
    "uif_out.reshape(-1,1).shape"
   ]
  },
  {
   "cell_type": "code",
   "execution_count": 119,
   "metadata": {},
   "outputs": [],
   "source": [
    "real_out = uif_out[10*36*72:11*36*72,10].reshape(36,72)\n",
    "pred_out = uif_lin[10*36*72:11*36*72,10].reshape(36,72)"
   ]
  },
  {
   "cell_type": "code",
   "execution_count": 120,
   "metadata": {},
   "outputs": [
    {
     "data": {
      "image/png": "[encoded data removed]",
      "text/plain": [
       "<Figure size 432x288 with 2 Axes>"
      ]
     },
     "metadata": {
      "needs_background": "light"
     },
     "output_type": "display_data"
    }
   ],
   "source": [
    "plt.contourf(real_out)\n",
    "plt.colorbar()\n",
    "plt.title(\"Actual UPIRFLUX (Lin Reg)\")\n",
    "plt.xlabel(\"Longtitude\")\n",
    "plt.ylabel(\"Latitude\")\n",
    "plt.show()"
   ]
  },
  {
   "cell_type": "code",
   "execution_count": 121,
   "metadata": {},
   "outputs": [
    {
     "data": {
      "image/png": "[encoded data removed]",
      "text/plain": [
       "<Figure size 432x288 with 2 Axes>"
      ]
     },
     "metadata": {
      "needs_background": "light"
     },
     "output_type": "display_data"
    }
   ],
   "source": [
    "plt.contourf(pred_out)\n",
    "plt.colorbar()\n",
    "plt.title(\"Predicted UPIRFLUX (Lin Reg)\")\n",
    "plt.xlabel(\"Longtitude\")\n",
    "plt.ylabel(\"Latitude\")\n",
    "plt.show()"
   ]
  },
  {
   "cell_type": "code",
   "execution_count": 122,
   "metadata": {},
   "outputs": [
    {
     "data": {
      "image/png": "[encoded data removed]",
      "text/plain": [
       "<Figure size 432x288 with 2 Axes>"
      ]
     },
     "metadata": {
      "needs_background": "light"
     },
     "output_type": "display_data"
    }
   ],
   "source": [
    "plt.contourf(real_out - pred_out)\n",
    "plt.colorbar()\n",
    "plt.title(\"Difference UPIRFLUX (Lin Reg)\")\n",
    "plt.xlabel(\"Longtitude\")\n",
    "plt.ylabel(\"Latitude\")\n",
    "plt.show()"
   ]
  },
  {
   "cell_type": "code",
   "execution_count": 123,
   "metadata": {},
   "outputs": [
    {
     "data": {
      "image/png": "[encoded data removed]",
      "text/plain": [
       "<Figure size 432x288 with 2 Axes>"
      ]
     },
     "metadata": {
      "needs_background": "light"
     },
     "output_type": "display_data"
    }
   ],
   "source": [
    "plt.contourf((real_out - pred_out)/real_out)\n",
    "plt.colorbar()\n",
    "plt.title(\"Relative Difference UPIRFLUX (Lin Reg)\")\n",
    "plt.xlabel(\"Longtitude\")\n",
    "plt.ylabel(\"Latitude\")\n",
    "plt.show()"
   ]
  },
  {
   "cell_type": "markdown",
   "metadata": {},
   "source": [
    "## Getting the integrals of flux error (and then getting average erroneusly added flux)"
   ]
  },
  {
   "cell_type": "code",
   "execution_count": 124,
   "metadata": {},
   "outputs": [],
   "source": [
    "def int_err(pred, real, real_in, r): \n",
    "    areas = []\n",
    "    for i in range(len(real)):\n",
    "        dA =  -r**2 * np.sin((np.pi/36)*((real_in.index[i]//72)%36)) * (np.pi/36) * (np.pi/36)  #area increment\n",
    "        areas.append(dA)\n",
    "    areas = np.array(areas)\n",
    "    return np.sum((np.array(pred) - np.array(real))*areas)"
   ]
  },
  {
   "cell_type": "code",
   "execution_count": 125,
   "metadata": {},
   "outputs": [
    {
     "data": {
      "text/plain": [
       "(36, 72)"
      ]
     },
     "execution_count": 125,
     "metadata": {},
     "output_type": "execute_result"
    }
   ],
   "source": [
    "real_out.shape"
   ]
  },
  {
   "cell_type": "code",
   "execution_count": 126,
   "metadata": {},
   "outputs": [],
   "source": [
    "lin_t_int = [] #total lin integral list, each element is one layer\n",
    "for i in range(52): \n",
    "    lin_errors = [] #each element is one time snapshot\n",
    "    for j in range(70):\n",
    "        lin_int_err = int_err(uif_lin[j*36*72:(j+1)*36*72,i], uif_out[j*36*72:(j+1)*36*72,i], pd.DataFrame(uif_lin), 3.39e6) \n",
    "        lin_errors.append(lin_int_err/(1.44e14)) \n",
    "    lin_t_int.append(lin_errors)"
   ]
  },
  {
   "cell_type": "code",
   "execution_count": 127,
   "metadata": {
    "scrolled": true
   },
   "outputs": [
    {
     "data": {
      "text/plain": [
       "array([[ 0.03257877, -0.26031636,  0.45913258, ...,  0.42687991,\n",
       "         0.30294995,  0.10269083],\n",
       "       [ 0.03258414, -0.26031618,  0.45913623, ...,  0.42687686,\n",
       "         0.30295434,  0.10268712],\n",
       "       [ 0.03258811, -0.26031596,  0.45913877, ...,  0.42687474,\n",
       "         0.30295779,  0.10268439],\n",
       "       ...,\n",
       "       [ 0.09650108, -0.35890124,  0.20775835, ...,  0.66939413,\n",
       "         0.53449299,  0.17159923],\n",
       "       [ 0.08880553, -0.35913308,  0.22130955, ...,  0.68585708,\n",
       "         0.51836428,  0.16688128],\n",
       "       [ 0.08893007, -0.37655369,  0.24807122, ...,  0.70792748,\n",
       "         0.51250497,  0.14427095]])"
      ]
     },
     "execution_count": 127,
     "metadata": {},
     "output_type": "execute_result"
    }
   ],
   "source": [
    "lin_t_int = np.array(lin_t_int)\n",
    "lin_t_int"
   ]
  },
  {
   "cell_type": "code",
   "execution_count": 128,
   "metadata": {},
   "outputs": [
    {
     "data": {
      "text/plain": [
       "array([0.61776593, 0.61777255, 0.61777759, 0.61786898, 0.61803521,\n",
       "       0.61813154, 0.61813423, 0.61795912, 0.61719658, 0.61654406,\n",
       "       0.61616644, 0.61601098, 0.61599414, 0.61582038, 0.61536484,\n",
       "       0.61464741, 0.61350455, 0.61193188, 0.61051379, 0.60990372,\n",
       "       0.61043857, 0.61179274, 0.61248544, 0.61063714, 0.6056486 ,\n",
       "       0.59802553, 0.58883857, 0.57895437, 0.57046854, 0.56430026,\n",
       "       0.56021707, 0.55724713, 0.55608096, 0.5575747 , 0.56285706,\n",
       "       0.56937095, 0.57920601, 0.61443012, 0.63403748, 0.6388566 ,\n",
       "       0.64377431, 0.64651981, 0.65079594, 0.65489221, 0.65820761,\n",
       "       0.66056392, 0.66283542, 0.66538754, 0.671968  , 0.68793132,\n",
       "       0.71378304, 0.74707142])"
      ]
     },
     "execution_count": 128,
     "metadata": {},
     "output_type": "execute_result"
    }
   ],
   "source": [
    "max_err = []\n",
    "for element in lin_t_int:\n",
    "    max_err.append(np.max(element))\n",
    "np.array(max_err)"
   ]
  },
  {
   "cell_type": "code",
   "execution_count": 129,
   "metadata": {},
   "outputs": [
    {
     "data": {
      "text/plain": [
       "array([-0.32512193, -0.32512267, -0.32512289, -0.32511492, -0.32510196,\n",
       "       -0.32516253, -0.32504346, -0.3250686 , -0.32537111, -0.32607597,\n",
       "       -0.3267602 , -0.32709186, -0.32728874, -0.32749573, -0.32765967,\n",
       "       -0.32804231, -0.32894304, -0.33023666, -0.33118218, -0.33144644,\n",
       "       -0.33142484, -0.33164734, -0.33284267, -0.33637126, -0.34243302,\n",
       "       -0.3498759 , -0.35745016, -0.36466399, -0.37143667, -0.37855483,\n",
       "       -0.38360716, -0.38355564, -0.37642538, -0.36598255, -0.36051309,\n",
       "       -0.36333067, -0.37952404, -0.39874374, -0.413149  , -0.42097743,\n",
       "       -0.42946735, -0.43421933, -0.43932537, -0.44493218, -0.45102127,\n",
       "       -0.454841  , -0.45703573, -0.45725878, -0.45457723, -0.44863869,\n",
       "       -0.44595325, -0.46304587])"
      ]
     },
     "execution_count": 129,
     "metadata": {},
     "output_type": "execute_result"
    }
   ],
   "source": [
    "min_err = []\n",
    "for element in lin_t_int:\n",
    "    min_err.append(np.min(element))\n",
    "np.array(min_err)"
   ]
  },
  {
   "cell_type": "code",
   "execution_count": 130,
   "metadata": {},
   "outputs": [
    {
     "data": {
      "text/plain": [
       "array([0.24990825, 0.24991037, 0.24991194, 0.24992416, 0.24996539,\n",
       "       0.25002913, 0.25000806, 0.24993455, 0.24981344, 0.24985694,\n",
       "       0.2500168 , 0.25002865, 0.24994123, 0.24987655, 0.24985803,\n",
       "       0.24985906, 0.2498298 , 0.24975186, 0.2496437 , 0.24957513,\n",
       "       0.24960985, 0.24965887, 0.24954838, 0.24927407, 0.24880493,\n",
       "       0.24795828, 0.24684148, 0.24568655, 0.24477045, 0.24467718,\n",
       "       0.24517681, 0.2452403 , 0.24367922, 0.24180365, 0.24244938,\n",
       "       0.24691172, 0.25408503, 0.26106588, 0.26682638, 0.26995046,\n",
       "       0.27399003, 0.27668298, 0.27950308, 0.2823515 , 0.28512505,\n",
       "       0.2865782 , 0.28715192, 0.2867066 , 0.28560348, 0.28467338,\n",
       "       0.28739684, 0.30024244])"
      ]
     },
     "execution_count": 130,
     "metadata": {},
     "output_type": "execute_result"
    }
   ],
   "source": [
    "std_err = []\n",
    "for element in lin_t_int:\n",
    "    std_err.append(np.std(element))\n",
    "np.array(std_err)"
   ]
  },
  {
   "cell_type": "code",
   "execution_count": 131,
   "metadata": {},
   "outputs": [
    {
     "data": {
      "text/plain": [
       "array([0.20705307, 0.20705511, 0.20705675, 0.20709625, 0.20713501,\n",
       "       0.20702731, 0.20696148, 0.20687572, 0.2067326 , 0.2065605 ,\n",
       "       0.20637676, 0.20619328, 0.20602824, 0.20577561, 0.20532917,\n",
       "       0.20459537, 0.20354122, 0.20230996, 0.20148335, 0.2016582 ,\n",
       "       0.20283109, 0.20421274, 0.20435782, 0.20195521, 0.19683105,\n",
       "       0.18960658, 0.18163717, 0.17399192, 0.16733522, 0.16180809,\n",
       "       0.15962936, 0.16274732, 0.17061826, 0.18031599, 0.18770782,\n",
       "       0.19208904, 0.19439974, 0.19819952, 0.20142597, 0.202939  ,\n",
       "       0.20507714, 0.20677144, 0.20835293, 0.20958565, 0.21068692,\n",
       "       0.21138668, 0.21196016, 0.21281296, 0.21510065, 0.2192524 ,\n",
       "       0.22450734, 0.23359914])"
      ]
     },
     "execution_count": 131,
     "metadata": {},
     "output_type": "execute_result"
    }
   ],
   "source": [
    "avg_err = []\n",
    "for element in lin_t_int:\n",
    "    avg_err.append(np.average(element))\n",
    "np.array(avg_err)"
   ]
  },
  {
   "cell_type": "code",
   "execution_count": 132,
   "metadata": {},
   "outputs": [
    {
     "name": "stdout",
     "output_type": "stream",
     "text": [
      "Lin reg average:\n",
      "0.2003187944843915\n"
     ]
    }
   ],
   "source": [
    "print(\"Lin reg average:\")\n",
    "print(np.average(np.array(lin_t_int)))"
   ]
  },
  {
   "cell_type": "code",
   "execution_count": null,
   "metadata": {},
   "outputs": [],
   "source": []
  },
  {
   "cell_type": "markdown",
   "metadata": {},
   "source": [
    "# Last test set:"
   ]
  },
  {
   "cell_type": "code",
   "execution_count": 133,
   "metadata": {},
   "outputs": [],
   "source": [
    "uif_lin = rfr1.predict(sla_test_set)\n",
    "uif_out = uif_test_set"
   ]
  },
  {
   "cell_type": "code",
   "execution_count": 134,
   "metadata": {},
   "outputs": [
    {
     "data": {
      "text/plain": [
       "10.100889655115578"
      ]
     },
     "execution_count": 134,
     "metadata": {},
     "output_type": "execute_result"
    }
   ],
   "source": [
    "from sklearn.metrics import mean_squared_error\n",
    "lin_mse = mean_squared_error(uif_out, uif_lin)\n",
    "lin_rmse = np.sqrt(lin_mse)\n",
    "lin_rmse "
   ]
  },
  {
   "cell_type": "code",
   "execution_count": 135,
   "metadata": {},
   "outputs": [
    {
     "data": {
      "text/plain": [
       "16.084946"
      ]
     },
     "execution_count": 135,
     "metadata": {},
     "output_type": "execute_result"
    }
   ],
   "source": [
    "np.min(uif_out)"
   ]
  },
  {
   "cell_type": "code",
   "execution_count": 136,
   "metadata": {},
   "outputs": [
    {
     "data": {
      "text/plain": [
       "489.8716"
      ]
     },
     "execution_count": 136,
     "metadata": {},
     "output_type": "execute_result"
    }
   ],
   "source": [
    "np.max(uif_out)"
   ]
  },
  {
   "cell_type": "code",
   "execution_count": 137,
   "metadata": {},
   "outputs": [],
   "source": [
    "uif_diff = uif_out - uif_lin"
   ]
  },
  {
   "cell_type": "code",
   "execution_count": 138,
   "metadata": {},
   "outputs": [
    {
     "data": {
      "text/plain": [
       "<function matplotlib.pyplot.show(*args, **kw)>"
      ]
     },
     "execution_count": 138,
     "metadata": {},
     "output_type": "execute_result"
    },
    {
     "data": {
      "image/png": "[encoded data removed]",
      "text/plain": [
       "<Figure size 432x288 with 1 Axes>"
      ]
     },
     "metadata": {
      "needs_background": "light"
     },
     "output_type": "display_data"
    }
   ],
   "source": [
    "plt.hist(uif_diff, bins = 100)\n",
    "plt.title(\"Linear regressor difference\")\n",
    "plt.show #some variance..."
   ]
  },
  {
   "cell_type": "code",
   "execution_count": 139,
   "metadata": {},
   "outputs": [
    {
     "data": {
      "text/plain": [
       "(32213376, 1)"
      ]
     },
     "execution_count": 139,
     "metadata": {},
     "output_type": "execute_result"
    }
   ],
   "source": [
    "uif_out.reshape(-1,1).shape"
   ]
  },
  {
   "cell_type": "code",
   "execution_count": 140,
   "metadata": {},
   "outputs": [],
   "source": [
    "real_out = uif_out[10*36*72:11*36*72,10].reshape(36,72)\n",
    "pred_out = uif_lin[10*36*72:11*36*72,10].reshape(36,72)"
   ]
  },
  {
   "cell_type": "code",
   "execution_count": 141,
   "metadata": {},
   "outputs": [
    {
     "data": {
      "image/png": "[encoded data removed]",
      "text/plain": [
       "<Figure size 432x288 with 2 Axes>"
      ]
     },
     "metadata": {
      "needs_background": "light"
     },
     "output_type": "display_data"
    }
   ],
   "source": [
    "plt.contourf(real_out)\n",
    "plt.colorbar()\n",
    "plt.title(\"Actual UPIRFLUX (Lin Reg)\")\n",
    "plt.xlabel(\"Longtitude\")\n",
    "plt.ylabel(\"Latitude\")\n",
    "plt.show()"
   ]
  },
  {
   "cell_type": "code",
   "execution_count": 142,
   "metadata": {},
   "outputs": [
    {
     "data": {
      "image/png": "[encoded data removed]",
      "text/plain": [
       "<Figure size 432x288 with 2 Axes>"
      ]
     },
     "metadata": {
      "needs_background": "light"
     },
     "output_type": "display_data"
    }
   ],
   "source": [
    "plt.contourf(pred_out)\n",
    "plt.colorbar()\n",
    "plt.title(\"Predicted UPIRFLUX (Lin Reg)\")\n",
    "plt.xlabel(\"Longtitude\")\n",
    "plt.ylabel(\"Latitude\")\n",
    "plt.show()"
   ]
  },
  {
   "cell_type": "code",
   "execution_count": 143,
   "metadata": {},
   "outputs": [
    {
     "data": {
      "image/png": "[encoded data removed]",
      "text/plain": [
       "<Figure size 432x288 with 2 Axes>"
      ]
     },
     "metadata": {
      "needs_background": "light"
     },
     "output_type": "display_data"
    }
   ],
   "source": [
    "plt.contourf(real_out - pred_out)\n",
    "plt.colorbar()\n",
    "plt.title(\"Difference UPIRFLUX (Lin Reg)\")\n",
    "plt.xlabel(\"Longtitude\")\n",
    "plt.ylabel(\"Latitude\")\n",
    "plt.show()"
   ]
  },
  {
   "cell_type": "code",
   "execution_count": 144,
   "metadata": {},
   "outputs": [
    {
     "data": {
      "image/png": "[encoded data removed]",
      "text/plain": [
       "<Figure size 432x288 with 2 Axes>"
      ]
     },
     "metadata": {
      "needs_background": "light"
     },
     "output_type": "display_data"
    }
   ],
   "source": [
    "plt.contourf((real_out - pred_out)/real_out)\n",
    "plt.colorbar()\n",
    "plt.title(\"Relative Difference UPIRFLUX (Lin Reg)\")\n",
    "plt.xlabel(\"Longtitude\")\n",
    "plt.ylabel(\"Latitude\")\n",
    "plt.show()"
   ]
  },
  {
   "cell_type": "markdown",
   "metadata": {},
   "source": [
    "## Getting the integrals of flux error (and then getting average erroneusly added flux)"
   ]
  },
  {
   "cell_type": "code",
   "execution_count": 145,
   "metadata": {},
   "outputs": [],
   "source": [
    "def int_err(pred, real, real_in, r): \n",
    "    areas = []\n",
    "    for i in range(len(real)):\n",
    "        dA =  -r**2 * np.sin((np.pi/36)*((real_in.index[i]//72)%36)) * (np.pi/36) * (np.pi/36)  #area increment\n",
    "        areas.append(dA)\n",
    "    areas = np.array(areas)\n",
    "    return np.sum((np.array(pred) - np.array(real))*areas)"
   ]
  },
  {
   "cell_type": "code",
   "execution_count": 146,
   "metadata": {},
   "outputs": [
    {
     "data": {
      "text/plain": [
       "(36, 72)"
      ]
     },
     "execution_count": 146,
     "metadata": {},
     "output_type": "execute_result"
    }
   ],
   "source": [
    "real_out.shape"
   ]
  },
  {
   "cell_type": "code",
   "execution_count": 147,
   "metadata": {},
   "outputs": [],
   "source": [
    "lin_t_int = [] #total lin integral list, each element is one layer\n",
    "for i in range(52): \n",
    "    lin_errors = [] #each element is one time snapshot\n",
    "    for j in range(70):\n",
    "        lin_int_err = int_err(uif_lin[j*36*72:(j+1)*36*72,i], uif_out[j*36*72:(j+1)*36*72,i], pd.DataFrame(uif_lin), 3.39e6) \n",
    "        lin_errors.append(lin_int_err/(1.44e14)) \n",
    "    lin_t_int.append(lin_errors)"
   ]
  },
  {
   "cell_type": "code",
   "execution_count": 148,
   "metadata": {
    "scrolled": true
   },
   "outputs": [
    {
     "data": {
      "text/plain": [
       "array([[5.59260719, 5.52428257, 5.49681128, ..., 4.5860489 , 5.11574637,\n",
       "        5.22664059],\n",
       "       [5.59262191, 5.52428179, 5.49680609, ..., 4.58600885, 5.11568108,\n",
       "        5.22660326],\n",
       "       [5.59263197, 5.52427933, 5.496801  , ..., 4.58598054, 5.115634  ,\n",
       "        5.22657707],\n",
       "       ...,\n",
       "       [8.14987443, 7.12912667, 7.56010224, ..., 6.37398719, 7.31004417,\n",
       "        6.62178647],\n",
       "       [8.03024679, 7.00113141, 7.43468656, ..., 6.29472576, 7.22103257,\n",
       "        6.4897899 ],\n",
       "       [7.88240018, 6.80675848, 7.30118265, ..., 6.1897716 , 7.09322111,\n",
       "        6.29082506]])"
      ]
     },
     "execution_count": 148,
     "metadata": {},
     "output_type": "execute_result"
    }
   ],
   "source": [
    "lin_t_int = np.array(lin_t_int)\n",
    "lin_t_int"
   ]
  },
  {
   "cell_type": "code",
   "execution_count": 149,
   "metadata": {},
   "outputs": [
    {
     "data": {
      "text/plain": [
       "array([5.80132345, 5.80132343, 5.80132278, 5.80125636, 5.80119054,\n",
       "       5.80202804, 5.80346019, 5.80542427, 5.80752215, 5.80981234,\n",
       "       5.811877  , 5.81340583, 5.81567899, 5.81978763, 5.8248771 ,\n",
       "       5.83013767, 5.838494  , 5.85482111, 5.87947024, 5.90716364,\n",
       "       5.93220824, 5.95594587, 5.98748892, 6.03793789, 6.10811467,\n",
       "       6.19163796, 6.28895204, 6.40242921, 6.52481302, 6.64983171,\n",
       "       6.78250536, 6.91771029, 7.06156269, 7.23286556, 7.43785776,\n",
       "       7.68506567, 7.94896309, 8.1787403 , 8.30040115, 8.34929437,\n",
       "       8.3895242 , 8.40664709, 8.41592307, 8.41444608, 8.40032682,\n",
       "       8.38168369, 8.35142556, 8.30456393, 8.23754855, 8.14987443,\n",
       "       8.03024679, 7.88240018])"
      ]
     },
     "execution_count": 149,
     "metadata": {},
     "output_type": "execute_result"
    }
   ],
   "source": [
    "max_err = []\n",
    "for element in lin_t_int:\n",
    "    max_err.append(np.max(element))\n",
    "np.array(max_err)"
   ]
  },
  {
   "cell_type": "code",
   "execution_count": 150,
   "metadata": {},
   "outputs": [
    {
     "data": {
      "text/plain": [
       "array([4.55816928, 4.55815065, 4.55813769, 4.55805914, 4.55773042,\n",
       "       4.55715731, 4.55646138, 4.55541936, 4.55514755, 4.55613951,\n",
       "       4.55848608, 4.56277001, 4.57000663, 4.58116459, 4.59603363,\n",
       "       4.6112997 , 4.62442248, 4.6362686 , 4.6469002 , 4.6583575 ,\n",
       "       4.67285191, 4.69506147, 4.73517323, 4.79640781, 4.86960333,\n",
       "       4.94782539, 5.03270519, 5.12963814, 5.23452348, 5.34520951,\n",
       "       5.47103215, 5.60653099, 5.73327968, 5.85447791, 6.00908613,\n",
       "       6.24073952, 6.50318817, 6.6718469 , 6.74468521, 6.74919427,\n",
       "       6.73846653, 6.72313892, 6.69851617, 6.66330032, 6.61813406,\n",
       "       6.58264364, 6.54379916, 6.49892545, 6.44240332, 6.35892645,\n",
       "       6.23135185, 6.03934271])"
      ]
     },
     "execution_count": 150,
     "metadata": {},
     "output_type": "execute_result"
    }
   ],
   "source": [
    "min_err = []\n",
    "for element in lin_t_int:\n",
    "    min_err.append(np.min(element))\n",
    "np.array(min_err)"
   ]
  },
  {
   "cell_type": "code",
   "execution_count": 151,
   "metadata": {
    "scrolled": true
   },
   "outputs": [
    {
     "data": {
      "text/plain": [
       "array([0.30790784, 0.30791248, 0.30791534, 0.30790843, 0.30797865,\n",
       "       0.30837722, 0.30901619, 0.30981294, 0.31038616, 0.31053024,\n",
       "       0.31022052, 0.30938411, 0.30786553, 0.30578399, 0.30383887,\n",
       "       0.30289248, 0.30319405, 0.30453076, 0.30681574, 0.30940051,\n",
       "       0.31100902, 0.31084502, 0.30866652, 0.30628461, 0.30635161,\n",
       "       0.30950817, 0.31456098, 0.31931471, 0.32329524, 0.32681216,\n",
       "       0.32903129, 0.32987876, 0.33576462, 0.35137229, 0.36672417,\n",
       "       0.36971655, 0.36973317, 0.38233047, 0.40307755, 0.41408252,\n",
       "       0.42802459, 0.4381561 , 0.44952729, 0.46126973, 0.47214713,\n",
       "       0.47854928, 0.483272  , 0.48581157, 0.48750079, 0.4894239 ,\n",
       "       0.49112463, 0.49897153])"
      ]
     },
     "execution_count": 151,
     "metadata": {},
     "output_type": "execute_result"
    }
   ],
   "source": [
    "std_err = []\n",
    "for element in lin_t_int:\n",
    "    std_err.append(np.std(element))\n",
    "np.array(std_err)"
   ]
  },
  {
   "cell_type": "code",
   "execution_count": 152,
   "metadata": {},
   "outputs": [
    {
     "data": {
      "text/plain": [
       "array([5.26218527, 5.26217057, 5.26215939, 5.26203212, 5.26184532,\n",
       "       5.26193381, 5.26240347, 5.26323109, 5.26436231, 5.26584221,\n",
       "       5.2677206 , 5.27053604, 5.27511522, 5.28207826, 5.29152502,\n",
       "       5.30302488, 5.31600072, 5.33064692, 5.34640609, 5.36393308,\n",
       "       5.38424239, 5.4094023 , 5.44478738, 5.49664679, 5.56460263,\n",
       "       5.64686624, 5.74432595, 5.85613719, 5.97450374, 6.095285  ,\n",
       "       6.22617043, 6.36425346, 6.50715756, 6.66523006, 6.84935639,\n",
       "       7.07154583, 7.29797476, 7.48108616, 7.57298529, 7.58441223,\n",
       "       7.58007428, 7.56846021, 7.54836704, 7.51865252, 7.47865065,\n",
       "       7.44484769, 7.40357146, 7.35196166, 7.2854025 , 7.20066765,\n",
       "       7.08826515, 6.94114079])"
      ]
     },
     "execution_count": 152,
     "metadata": {},
     "output_type": "execute_result"
    }
   ],
   "source": [
    "avg_err = []\n",
    "for element in lin_t_int:\n",
    "    avg_err.append(np.average(element))\n",
    "np.array(avg_err)"
   ]
  },
  {
   "cell_type": "code",
   "execution_count": 153,
   "metadata": {},
   "outputs": [
    {
     "name": "stdout",
     "output_type": "stream",
     "text": [
      "Lin reg average:\n",
      "6.160042033317421\n"
     ]
    }
   ],
   "source": [
    "print(\"Lin reg average:\")\n",
    "print(np.average(np.array(lin_t_int)))"
   ]
  },
  {
   "cell_type": "code",
   "execution_count": null,
   "metadata": {},
   "outputs": [],
   "source": []
  },
  {
   "cell_type": "code",
   "execution_count": null,
   "metadata": {},
   "outputs": [],
   "source": []
  }
 ],
 "metadata": {
  "kernelspec": {
   "display_name": "Python 3",
   "language": "python",
   "name": "python3"
  },
  "language_info": {
   "codemirror_mode": {
    "name": "ipython",
    "version": 3
   },
   "file_extension": ".py",
   "mimetype": "text/x-python",
   "name": "python",
   "nbconvert_exporter": "python",
   "pygments_lexer": "ipython3",
   "version": "3.7.4"
  }
 },
 "nbformat": 4,
 "nbformat_minor": 2
}
