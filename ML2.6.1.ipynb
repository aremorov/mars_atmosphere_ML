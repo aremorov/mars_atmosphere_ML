{
 "cells": [
  {
   "cell_type": "markdown",
   "metadata": {},
   "source": [
    "Let's try 3 regressors on auxhist dataset, and predict the downward middle visible solar flux along the whole height domain at the equator."
   ]
  },
  {
   "cell_type": "code",
   "execution_count": 1,
   "metadata": {},
   "outputs": [],
   "source": [
    "import xarray as xr\n",
    "import matplotlib.pyplot as plt\n",
    "import numpy as np\n",
    "import pandas as pd"
   ]
  },
  {
   "cell_type": "code",
   "execution_count": 2,
   "metadata": {},
   "outputs": [],
   "source": [
    "dataDIR = 'af'\n",
    "DS = xr.open_dataset(dataDIR)"
   ]
  },
  {
   "cell_type": "code",
   "execution_count": 3,
   "metadata": {},
   "outputs": [],
   "source": [
    "albedo = DS.ALBEDO.values"
   ]
  },
  {
   "cell_type": "code",
   "execution_count": 4,
   "metadata": {},
   "outputs": [
    {
     "data": {
      "text/plain": [
       "(71, 36, 72)"
      ]
     },
     "execution_count": 4,
     "metadata": {},
     "output_type": "execute_result"
    }
   ],
   "source": [
    "albedo.shape #days, latitude, longtitude"
   ]
  },
  {
   "cell_type": "code",
   "execution_count": 5,
   "metadata": {},
   "outputs": [
    {
     "data": {
      "text/plain": [
       "(71, 53, 36, 72)"
      ]
     },
     "execution_count": 5,
     "metadata": {},
     "output_type": "execute_result"
    }
   ],
   "source": [
    "albedo2 = np.zeros([71,53,36,72])\n",
    "albedo2.shape"
   ]
  },
  {
   "cell_type": "code",
   "execution_count": 6,
   "metadata": {},
   "outputs": [],
   "source": [
    "for i in range(53):\n",
    "    albedo2[:,i,:,:] = albedo #need height dimension to "
   ]
  },
  {
   "cell_type": "code",
   "execution_count": 7,
   "metadata": {},
   "outputs": [],
   "source": [
    "d_c = DS.TAU_OD.values"
   ]
  },
  {
   "cell_type": "code",
   "execution_count": 8,
   "metadata": {},
   "outputs": [
    {
     "data": {
      "text/plain": [
       "(71, 52, 36, 72)"
      ]
     },
     "execution_count": 8,
     "metadata": {},
     "output_type": "execute_result"
    }
   ],
   "source": [
    "d_c.shape "
   ]
  },
  {
   "cell_type": "code",
   "execution_count": 9,
   "metadata": {},
   "outputs": [],
   "source": [
    "tsf = DS.TOASW.values #top solar flux"
   ]
  },
  {
   "cell_type": "code",
   "execution_count": 10,
   "metadata": {},
   "outputs": [
    {
     "data": {
      "text/plain": [
       "(71, 36, 72)"
      ]
     },
     "execution_count": 10,
     "metadata": {},
     "output_type": "execute_result"
    }
   ],
   "source": [
    "tsf.shape"
   ]
  },
  {
   "cell_type": "code",
   "execution_count": 11,
   "metadata": {},
   "outputs": [],
   "source": [
    "msf = DS.DOWNVISFLUX.values[:,:,:,:] #some middle layer in the down visible flux"
   ]
  },
  {
   "cell_type": "code",
   "execution_count": 12,
   "metadata": {},
   "outputs": [
    {
     "data": {
      "text/plain": [
       "(71, 36, 72)"
      ]
     },
     "execution_count": 12,
     "metadata": {},
     "output_type": "execute_result"
    }
   ],
   "source": [
    "albedo.shape"
   ]
  },
  {
   "cell_type": "code",
   "execution_count": 13,
   "metadata": {},
   "outputs": [
    {
     "data": {
      "text/plain": [
       "(71, 53, 36, 72)"
      ]
     },
     "execution_count": 13,
     "metadata": {},
     "output_type": "execute_result"
    }
   ],
   "source": [
    "msf.shape"
   ]
  },
  {
   "cell_type": "code",
   "execution_count": 14,
   "metadata": {},
   "outputs": [],
   "source": [
    "msf2 = msf/(1-albedo2)"
   ]
  },
  {
   "cell_type": "markdown",
   "metadata": {},
   "source": [
    "Let's combine the data together for ten time samples, with full latitude and longitude:"
   ]
  },
  {
   "cell_type": "code",
   "execution_count": 15,
   "metadata": {},
   "outputs": [],
   "source": [
    "e_t = [] #equator input and output\n",
    "#input:\n",
    "for k in range(10): #10 days\n",
    "    for j in range(72):\n",
    "        input_array = list(d_c[k,:,18,j]) #add dust profile\n",
    "        input_array.append(tsf[k,18,j]) #add top solar flux, without the albedo factor\n",
    "        input_array+=list(msf2[k,:,18,j])            \n",
    "        e_t.append(input_array) #appends input to input array"
   ]
  },
  {
   "cell_type": "code",
   "execution_count": 16,
   "metadata": {},
   "outputs": [
    {
     "data": {
      "text/plain": [
       "(720, 106)"
      ]
     },
     "execution_count": 16,
     "metadata": {},
     "output_type": "execute_result"
    }
   ],
   "source": [
    "e_t = np.array(e_t)\n",
    "e_t.shape"
   ]
  },
  {
   "cell_type": "code",
   "execution_count": 17,
   "metadata": {},
   "outputs": [
    {
     "data": {
      "text/html": [
       "<div>\n",
       "<style scoped>\n",
       "    .dataframe tbody tr th:only-of-type {\n",
       "        vertical-align: middle;\n",
       "    }\n",
       "\n",
       "    .dataframe tbody tr th {\n",
       "        vertical-align: top;\n",
       "    }\n",
       "\n",
       "    .dataframe thead th {\n",
       "        text-align: right;\n",
       "    }\n",
       "</style>\n",
       "<table border=\"1\" class=\"dataframe\">\n",
       "  <thead>\n",
       "    <tr style=\"text-align: right;\">\n",
       "      <th></th>\n",
       "      <th>0</th>\n",
       "      <th>1</th>\n",
       "      <th>2</th>\n",
       "      <th>3</th>\n",
       "      <th>4</th>\n",
       "      <th>5</th>\n",
       "      <th>6</th>\n",
       "      <th>7</th>\n",
       "      <th>8</th>\n",
       "      <th>9</th>\n",
       "      <th>...</th>\n",
       "      <th>96</th>\n",
       "      <th>97</th>\n",
       "      <th>98</th>\n",
       "      <th>99</th>\n",
       "      <th>100</th>\n",
       "      <th>101</th>\n",
       "      <th>102</th>\n",
       "      <th>103</th>\n",
       "      <th>104</th>\n",
       "      <th>105</th>\n",
       "    </tr>\n",
       "  </thead>\n",
       "  <tbody>\n",
       "    <tr>\n",
       "      <td>72</td>\n",
       "      <td>0.246780</td>\n",
       "      <td>0.245793</td>\n",
       "      <td>0.244312</td>\n",
       "      <td>0.241845</td>\n",
       "      <td>0.239377</td>\n",
       "      <td>0.236909</td>\n",
       "      <td>0.234441</td>\n",
       "      <td>0.231973</td>\n",
       "      <td>0.229506</td>\n",
       "      <td>0.227038</td>\n",
       "      <td>...</td>\n",
       "      <td>707.201507</td>\n",
       "      <td>706.543092</td>\n",
       "      <td>706.104012</td>\n",
       "      <td>705.664768</td>\n",
       "      <td>705.225441</td>\n",
       "      <td>704.786032</td>\n",
       "      <td>704.346458</td>\n",
       "      <td>703.906720</td>\n",
       "      <td>703.466817</td>\n",
       "      <td>703.026668</td>\n",
       "    </tr>\n",
       "    <tr>\n",
       "      <td>73</td>\n",
       "      <td>0.250943</td>\n",
       "      <td>0.249939</td>\n",
       "      <td>0.248434</td>\n",
       "      <td>0.245924</td>\n",
       "      <td>0.243415</td>\n",
       "      <td>0.240905</td>\n",
       "      <td>0.238396</td>\n",
       "      <td>0.235887</td>\n",
       "      <td>0.233377</td>\n",
       "      <td>0.230868</td>\n",
       "      <td>...</td>\n",
       "      <td>706.575111</td>\n",
       "      <td>705.907415</td>\n",
       "      <td>705.462202</td>\n",
       "      <td>705.016825</td>\n",
       "      <td>704.571366</td>\n",
       "      <td>704.125744</td>\n",
       "      <td>703.679957</td>\n",
       "      <td>703.234089</td>\n",
       "      <td>702.787974</td>\n",
       "      <td>702.341614</td>\n",
       "    </tr>\n",
       "    <tr>\n",
       "      <td>74</td>\n",
       "      <td>0.254356</td>\n",
       "      <td>0.253339</td>\n",
       "      <td>0.251813</td>\n",
       "      <td>0.249269</td>\n",
       "      <td>0.246726</td>\n",
       "      <td>0.244182</td>\n",
       "      <td>0.241639</td>\n",
       "      <td>0.239095</td>\n",
       "      <td>0.236552</td>\n",
       "      <td>0.234008</td>\n",
       "      <td>...</td>\n",
       "      <td>709.687103</td>\n",
       "      <td>709.007360</td>\n",
       "      <td>708.554088</td>\n",
       "      <td>708.100650</td>\n",
       "      <td>707.647048</td>\n",
       "      <td>707.193445</td>\n",
       "      <td>706.739676</td>\n",
       "      <td>706.285743</td>\n",
       "      <td>705.831561</td>\n",
       "      <td>705.377214</td>\n",
       "    </tr>\n",
       "    <tr>\n",
       "      <td>75</td>\n",
       "      <td>0.242072</td>\n",
       "      <td>0.241104</td>\n",
       "      <td>0.239652</td>\n",
       "      <td>0.237231</td>\n",
       "      <td>0.234810</td>\n",
       "      <td>0.232389</td>\n",
       "      <td>0.229969</td>\n",
       "      <td>0.227548</td>\n",
       "      <td>0.225127</td>\n",
       "      <td>0.222707</td>\n",
       "      <td>...</td>\n",
       "      <td>700.554969</td>\n",
       "      <td>699.902732</td>\n",
       "      <td>699.467880</td>\n",
       "      <td>699.032945</td>\n",
       "      <td>698.597928</td>\n",
       "      <td>698.162910</td>\n",
       "      <td>697.727728</td>\n",
       "      <td>697.292546</td>\n",
       "      <td>696.857116</td>\n",
       "      <td>696.421357</td>\n",
       "    </tr>\n",
       "    <tr>\n",
       "      <td>76</td>\n",
       "      <td>0.226333</td>\n",
       "      <td>0.225428</td>\n",
       "      <td>0.224070</td>\n",
       "      <td>0.221807</td>\n",
       "      <td>0.219543</td>\n",
       "      <td>0.217280</td>\n",
       "      <td>0.215017</td>\n",
       "      <td>0.212753</td>\n",
       "      <td>0.210490</td>\n",
       "      <td>0.208227</td>\n",
       "      <td>...</td>\n",
       "      <td>685.809220</td>\n",
       "      <td>685.194001</td>\n",
       "      <td>684.783746</td>\n",
       "      <td>684.373490</td>\n",
       "      <td>683.963194</td>\n",
       "      <td>683.552816</td>\n",
       "      <td>683.142355</td>\n",
       "      <td>682.731853</td>\n",
       "      <td>682.321228</td>\n",
       "      <td>681.910316</td>\n",
       "    </tr>\n",
       "    <tr>\n",
       "      <td>...</td>\n",
       "      <td>...</td>\n",
       "      <td>...</td>\n",
       "      <td>...</td>\n",
       "      <td>...</td>\n",
       "      <td>...</td>\n",
       "      <td>...</td>\n",
       "      <td>...</td>\n",
       "      <td>...</td>\n",
       "      <td>...</td>\n",
       "      <td>...</td>\n",
       "      <td>...</td>\n",
       "      <td>...</td>\n",
       "      <td>...</td>\n",
       "      <td>...</td>\n",
       "      <td>...</td>\n",
       "      <td>...</td>\n",
       "      <td>...</td>\n",
       "      <td>...</td>\n",
       "      <td>...</td>\n",
       "      <td>...</td>\n",
       "      <td>...</td>\n",
       "    </tr>\n",
       "    <tr>\n",
       "      <td>715</td>\n",
       "      <td>0.243937</td>\n",
       "      <td>0.242961</td>\n",
       "      <td>0.241497</td>\n",
       "      <td>0.239058</td>\n",
       "      <td>0.236619</td>\n",
       "      <td>0.234179</td>\n",
       "      <td>0.231740</td>\n",
       "      <td>0.229301</td>\n",
       "      <td>0.226861</td>\n",
       "      <td>0.224422</td>\n",
       "      <td>...</td>\n",
       "      <td>532.490889</td>\n",
       "      <td>531.860514</td>\n",
       "      <td>531.440320</td>\n",
       "      <td>531.020207</td>\n",
       "      <td>530.600136</td>\n",
       "      <td>530.180106</td>\n",
       "      <td>529.760159</td>\n",
       "      <td>529.340252</td>\n",
       "      <td>528.920387</td>\n",
       "      <td>528.500522</td>\n",
       "    </tr>\n",
       "    <tr>\n",
       "      <td>716</td>\n",
       "      <td>0.246648</td>\n",
       "      <td>0.245662</td>\n",
       "      <td>0.244182</td>\n",
       "      <td>0.241715</td>\n",
       "      <td>0.239249</td>\n",
       "      <td>0.236782</td>\n",
       "      <td>0.234316</td>\n",
       "      <td>0.231849</td>\n",
       "      <td>0.229383</td>\n",
       "      <td>0.226916</td>\n",
       "      <td>...</td>\n",
       "      <td>554.170263</td>\n",
       "      <td>553.544988</td>\n",
       "      <td>553.128138</td>\n",
       "      <td>552.711288</td>\n",
       "      <td>552.294398</td>\n",
       "      <td>551.877548</td>\n",
       "      <td>551.460698</td>\n",
       "      <td>551.043848</td>\n",
       "      <td>550.626957</td>\n",
       "      <td>550.210025</td>\n",
       "    </tr>\n",
       "    <tr>\n",
       "      <td>717</td>\n",
       "      <td>0.247792</td>\n",
       "      <td>0.246801</td>\n",
       "      <td>0.245314</td>\n",
       "      <td>0.242836</td>\n",
       "      <td>0.240358</td>\n",
       "      <td>0.237880</td>\n",
       "      <td>0.235402</td>\n",
       "      <td>0.232924</td>\n",
       "      <td>0.230446</td>\n",
       "      <td>0.227968</td>\n",
       "      <td>...</td>\n",
       "      <td>576.546086</td>\n",
       "      <td>575.926007</td>\n",
       "      <td>575.512539</td>\n",
       "      <td>575.099072</td>\n",
       "      <td>574.685564</td>\n",
       "      <td>574.272014</td>\n",
       "      <td>573.858425</td>\n",
       "      <td>573.444794</td>\n",
       "      <td>573.031122</td>\n",
       "      <td>572.617328</td>\n",
       "    </tr>\n",
       "    <tr>\n",
       "      <td>718</td>\n",
       "      <td>0.247070</td>\n",
       "      <td>0.246082</td>\n",
       "      <td>0.244600</td>\n",
       "      <td>0.242129</td>\n",
       "      <td>0.239658</td>\n",
       "      <td>0.237188</td>\n",
       "      <td>0.234717</td>\n",
       "      <td>0.232246</td>\n",
       "      <td>0.229776</td>\n",
       "      <td>0.227305</td>\n",
       "      <td>...</td>\n",
       "      <td>594.302388</td>\n",
       "      <td>593.689259</td>\n",
       "      <td>593.280424</td>\n",
       "      <td>592.871589</td>\n",
       "      <td>592.462714</td>\n",
       "      <td>592.053797</td>\n",
       "      <td>591.644758</td>\n",
       "      <td>591.235679</td>\n",
       "      <td>590.826476</td>\n",
       "      <td>590.417070</td>\n",
       "    </tr>\n",
       "    <tr>\n",
       "      <td>719</td>\n",
       "      <td>0.246166</td>\n",
       "      <td>0.245181</td>\n",
       "      <td>0.243704</td>\n",
       "      <td>0.241243</td>\n",
       "      <td>0.238781</td>\n",
       "      <td>0.236319</td>\n",
       "      <td>0.233858</td>\n",
       "      <td>0.231396</td>\n",
       "      <td>0.228934</td>\n",
       "      <td>0.226473</td>\n",
       "      <td>...</td>\n",
       "      <td>607.838904</td>\n",
       "      <td>607.231330</td>\n",
       "      <td>606.826226</td>\n",
       "      <td>606.420999</td>\n",
       "      <td>606.015773</td>\n",
       "      <td>605.610424</td>\n",
       "      <td>605.205074</td>\n",
       "      <td>604.799602</td>\n",
       "      <td>604.394049</td>\n",
       "      <td>603.988331</td>\n",
       "    </tr>\n",
       "  </tbody>\n",
       "</table>\n",
       "<p>333 rows × 106 columns</p>\n",
       "</div>"
      ],
      "text/plain": [
       "          0         1         2         3         4         5         6    \\\n",
       "72   0.246780  0.245793  0.244312  0.241845  0.239377  0.236909  0.234441   \n",
       "73   0.250943  0.249939  0.248434  0.245924  0.243415  0.240905  0.238396   \n",
       "74   0.254356  0.253339  0.251813  0.249269  0.246726  0.244182  0.241639   \n",
       "75   0.242072  0.241104  0.239652  0.237231  0.234810  0.232389  0.229969   \n",
       "76   0.226333  0.225428  0.224070  0.221807  0.219543  0.217280  0.215017   \n",
       "..        ...       ...       ...       ...       ...       ...       ...   \n",
       "715  0.243937  0.242961  0.241497  0.239058  0.236619  0.234179  0.231740   \n",
       "716  0.246648  0.245662  0.244182  0.241715  0.239249  0.236782  0.234316   \n",
       "717  0.247792  0.246801  0.245314  0.242836  0.240358  0.237880  0.235402   \n",
       "718  0.247070  0.246082  0.244600  0.242129  0.239658  0.237188  0.234717   \n",
       "719  0.246166  0.245181  0.243704  0.241243  0.238781  0.236319  0.233858   \n",
       "\n",
       "          7         8         9    ...         96          97          98   \\\n",
       "72   0.231973  0.229506  0.227038  ...  707.201507  706.543092  706.104012   \n",
       "73   0.235887  0.233377  0.230868  ...  706.575111  705.907415  705.462202   \n",
       "74   0.239095  0.236552  0.234008  ...  709.687103  709.007360  708.554088   \n",
       "75   0.227548  0.225127  0.222707  ...  700.554969  699.902732  699.467880   \n",
       "76   0.212753  0.210490  0.208227  ...  685.809220  685.194001  684.783746   \n",
       "..        ...       ...       ...  ...         ...         ...         ...   \n",
       "715  0.229301  0.226861  0.224422  ...  532.490889  531.860514  531.440320   \n",
       "716  0.231849  0.229383  0.226916  ...  554.170263  553.544988  553.128138   \n",
       "717  0.232924  0.230446  0.227968  ...  576.546086  575.926007  575.512539   \n",
       "718  0.232246  0.229776  0.227305  ...  594.302388  593.689259  593.280424   \n",
       "719  0.231396  0.228934  0.226473  ...  607.838904  607.231330  606.826226   \n",
       "\n",
       "            99          100         101         102         103         104  \\\n",
       "72   705.664768  705.225441  704.786032  704.346458  703.906720  703.466817   \n",
       "73   705.016825  704.571366  704.125744  703.679957  703.234089  702.787974   \n",
       "74   708.100650  707.647048  707.193445  706.739676  706.285743  705.831561   \n",
       "75   699.032945  698.597928  698.162910  697.727728  697.292546  696.857116   \n",
       "76   684.373490  683.963194  683.552816  683.142355  682.731853  682.321228   \n",
       "..          ...         ...         ...         ...         ...         ...   \n",
       "715  531.020207  530.600136  530.180106  529.760159  529.340252  528.920387   \n",
       "716  552.711288  552.294398  551.877548  551.460698  551.043848  550.626957   \n",
       "717  575.099072  574.685564  574.272014  573.858425  573.444794  573.031122   \n",
       "718  592.871589  592.462714  592.053797  591.644758  591.235679  590.826476   \n",
       "719  606.420999  606.015773  605.610424  605.205074  604.799602  604.394049   \n",
       "\n",
       "            105  \n",
       "72   703.026668  \n",
       "73   702.341614  \n",
       "74   705.377214  \n",
       "75   696.421357  \n",
       "76   681.910316  \n",
       "..          ...  \n",
       "715  528.500522  \n",
       "716  550.210025  \n",
       "717  572.617328  \n",
       "718  590.417070  \n",
       "719  603.988331  \n",
       "\n",
       "[333 rows x 106 columns]"
      ]
     },
     "execution_count": 17,
     "metadata": {},
     "output_type": "execute_result"
    }
   ],
   "source": [
    "e_d = pd.DataFrame(e_t) \n",
    "e_d = e_d[e_d.iloc[:,52] != 0] #remove 0 tsf, could later use a simple classifier to determine which data has 0 middle flux...\n",
    "e_d"
   ]
  },
  {
   "cell_type": "code",
   "execution_count": 18,
   "metadata": {},
   "outputs": [
    {
     "data": {
      "text/plain": [
       "183.67874145507812"
      ]
     },
     "execution_count": 18,
     "metadata": {},
     "output_type": "execute_result"
    }
   ],
   "source": [
    "np.percentile(e_d.iloc[:,52], 25)"
   ]
  },
  {
   "cell_type": "markdown",
   "metadata": {},
   "source": [
    "Split up the data into 3 parts:"
   ]
  },
  {
   "cell_type": "code",
   "execution_count": 19,
   "metadata": {},
   "outputs": [],
   "source": [
    "e_reml = e_d[e_d.iloc[:,52] > 475] #large flux data, 75th to 100th percentile\n",
    "e_remm = e_d[e_d.iloc[:,52] <= 475]\n",
    "e_remm = e_remm[e_remm.iloc[:,52] > 180]#middle flux data, 25th to 75th percentile\n",
    "e_rems = e_d[e_d.iloc[:,52] <= 180] #small flux data, less than 25th percentile"
   ]
  },
  {
   "cell_type": "markdown",
   "metadata": {},
   "source": [
    "Train three linear regressors, one for the large flux data and the other for small flux data:"
   ]
  },
  {
   "cell_type": "code",
   "execution_count": 20,
   "metadata": {},
   "outputs": [
    {
     "data": {
      "text/plain": [
       "LinearRegression(copy_X=True, fit_intercept=True, n_jobs=None, normalize=False)"
      ]
     },
     "execution_count": 20,
     "metadata": {},
     "output_type": "execute_result"
    }
   ],
   "source": [
    "from sklearn.model_selection import train_test_split\n",
    "from sklearn.linear_model import LinearRegression\n",
    "\n",
    "train_set, test_set = train_test_split(e_reml, test_size=0.2, random_state=42)\n",
    "\n",
    "train_in = train_set.iloc[:,:53] #training input\n",
    "train_out = train_set.iloc[:,53:] #training output\n",
    "test_in = test_set.iloc[:,:53] #testing input \n",
    "test_out = test_set.iloc[:,53:] #testing output\n",
    "\n",
    "#w = 1/train_out**2\n",
    "lrl = LinearRegression() #linear regression for large flux data\n",
    "lrl.fit(train_in,train_out)"
   ]
  },
  {
   "cell_type": "code",
   "execution_count": 21,
   "metadata": {},
   "outputs": [
    {
     "data": {
      "text/plain": [
       "LinearRegression(copy_X=True, fit_intercept=True, n_jobs=None, normalize=False)"
      ]
     },
     "execution_count": 21,
     "metadata": {},
     "output_type": "execute_result"
    }
   ],
   "source": [
    "train_set, test_set = train_test_split(e_remm, test_size=0.2, random_state=42)\n",
    "\n",
    "train_in = train_set.iloc[:,:53] #training input\n",
    "train_out = train_set.iloc[:,53:] #training output\n",
    "test_in = test_set.iloc[:,:53] #testing input \n",
    "test_out = test_set.iloc[:,53:] #testing output\n",
    "\n",
    "#w = 1/train_out**2\n",
    "lrm = LinearRegression() #linear regression for middle flux data\n",
    "lrm.fit(train_in,train_out)"
   ]
  },
  {
   "cell_type": "code",
   "execution_count": 22,
   "metadata": {},
   "outputs": [
    {
     "data": {
      "text/plain": [
       "LinearRegression(copy_X=True, fit_intercept=True, n_jobs=None, normalize=False)"
      ]
     },
     "execution_count": 22,
     "metadata": {},
     "output_type": "execute_result"
    }
   ],
   "source": [
    "train_set, test_set = train_test_split(e_rems, test_size=0.2, random_state=42)\n",
    "\n",
    "train_in = train_set.iloc[:,:53] #training input\n",
    "train_out = train_set.iloc[:,53:] #training output\n",
    "test_in = test_set.iloc[:,:53] #testing input\n",
    "test_out = test_set.iloc[:,53:] #testing output\n",
    "\n",
    "#w = 1/train_out**2\n",
    "lrs = LinearRegression() #linear regression for small flux data\n",
    "lrs.fit(train_in,train_out)"
   ]
  },
  {
   "cell_type": "markdown",
   "metadata": {},
   "source": [
    "A custom predictor which can handle all the data:"
   ]
  },
  {
   "cell_type": "code",
   "execution_count": 23,
   "metadata": {},
   "outputs": [],
   "source": [
    "def clp(in_data): #custom linear predictor\n",
    "    in_data = np.array(in_data)\n",
    "    out_data = []\n",
    "    for instance in in_data:\n",
    "        if instance[52] > 475:\n",
    "            out_data.append(lrl.predict(instance[:53].reshape(1,-1))[0]) #uses large flux predictor \n",
    "        elif instance[52] > 180:\n",
    "            out_data.append(lrm.predict(instance[:53].reshape(1,-1))[0]) #uses middle flux predictor \n",
    "        else:\n",
    "            out_data.append(lrs.predict(instance[:53].reshape(1,-1))[0]) #uses small flux predictor\n",
    "    return np.array(out_data)"
   ]
  },
  {
   "cell_type": "code",
   "execution_count": 24,
   "metadata": {},
   "outputs": [],
   "source": [
    "total_in = e_d.iloc[:,:53] #total input\n",
    "total_out = e_d.iloc[:,53:] #total output\n",
    "total_pred = clp(total_in)"
   ]
  },
  {
   "cell_type": "code",
   "execution_count": 25,
   "metadata": {},
   "outputs": [
    {
     "data": {
      "text/plain": [
       "array([748.52027897, 748.50238448, 748.50005731, 748.48583732,\n",
       "       748.47298226, 748.458615  , 748.44706078, 748.43679007,\n",
       "       748.42522219, 748.40978409, 748.38806618, 748.35970675,\n",
       "       748.32732242, 748.29440855, 748.26064833, 748.22008944,\n",
       "       748.17152134, 748.10914616, 748.0101664 , 747.85310091,\n",
       "       747.62196994, 747.29241013, 746.85363152, 746.29599117,\n",
       "       745.60189511, 744.72958659, 743.66932025, 742.39191491,\n",
       "       740.85620675, 739.00160962, 736.80058491, 734.27245914,\n",
       "       731.44427324, 728.3059222 , 724.93981437, 721.37894074,\n",
       "       717.75205175, 714.12233309, 711.1513573 , 710.04173703,\n",
       "       708.93060029, 708.26314908, 707.59527761, 706.92713072,\n",
       "       706.25865366, 705.81291784, 705.36702376, 704.9210218 ,\n",
       "       704.47489628, 704.02861068, 703.58223718, 703.13563319,\n",
       "       702.68879558])"
      ]
     },
     "execution_count": 25,
     "metadata": {},
     "output_type": "execute_result"
    }
   ],
   "source": [
    "total_pred[1]"
   ]
  },
  {
   "cell_type": "code",
   "execution_count": 26,
   "metadata": {},
   "outputs": [
    {
     "data": {
      "text/plain": [
       "3.2160134047773554"
      ]
     },
     "execution_count": 26,
     "metadata": {},
     "output_type": "execute_result"
    }
   ],
   "source": [
    "from sklearn.metrics import mean_squared_error\n",
    "\n",
    "lin_mse = mean_squared_error(total_out, total_pred)\n",
    "lin_rmse = np.sqrt(lin_mse)\n",
    "lin_rmse  "
   ]
  },
  {
   "cell_type": "markdown",
   "metadata": {},
   "source": [
    "Plotting data:"
   ]
  },
  {
   "cell_type": "code",
   "execution_count": 27,
   "metadata": {},
   "outputs": [
    {
     "data": {
      "text/plain": [
       "(333, 53)"
      ]
     },
     "execution_count": 27,
     "metadata": {},
     "output_type": "execute_result"
    }
   ],
   "source": [
    "total_in.shape"
   ]
  },
  {
   "cell_type": "code",
   "execution_count": 28,
   "metadata": {},
   "outputs": [
    {
     "data": {
      "text/html": [
       "<div>\n",
       "<style scoped>\n",
       "    .dataframe tbody tr th:only-of-type {\n",
       "        vertical-align: middle;\n",
       "    }\n",
       "\n",
       "    .dataframe tbody tr th {\n",
       "        vertical-align: top;\n",
       "    }\n",
       "\n",
       "    .dataframe thead th {\n",
       "        text-align: right;\n",
       "    }\n",
       "</style>\n",
       "<table border=\"1\" class=\"dataframe\">\n",
       "  <thead>\n",
       "    <tr style=\"text-align: right;\">\n",
       "      <th></th>\n",
       "      <th>53</th>\n",
       "      <th>54</th>\n",
       "      <th>55</th>\n",
       "      <th>56</th>\n",
       "      <th>57</th>\n",
       "      <th>58</th>\n",
       "      <th>59</th>\n",
       "      <th>60</th>\n",
       "      <th>61</th>\n",
       "      <th>62</th>\n",
       "      <th>...</th>\n",
       "      <th>96</th>\n",
       "      <th>97</th>\n",
       "      <th>98</th>\n",
       "      <th>99</th>\n",
       "      <th>100</th>\n",
       "      <th>101</th>\n",
       "      <th>102</th>\n",
       "      <th>103</th>\n",
       "      <th>104</th>\n",
       "      <th>105</th>\n",
       "    </tr>\n",
       "  </thead>\n",
       "  <tbody>\n",
       "    <tr>\n",
       "      <td>72</td>\n",
       "      <td>748.265320</td>\n",
       "      <td>748.247385</td>\n",
       "      <td>748.245081</td>\n",
       "      <td>748.231259</td>\n",
       "      <td>748.218261</td>\n",
       "      <td>748.203699</td>\n",
       "      <td>748.192016</td>\n",
       "      <td>748.182473</td>\n",
       "      <td>748.172024</td>\n",
       "      <td>748.157462</td>\n",
       "      <td>...</td>\n",
       "      <td>707.201507</td>\n",
       "      <td>706.543092</td>\n",
       "      <td>706.104012</td>\n",
       "      <td>705.664768</td>\n",
       "      <td>705.225441</td>\n",
       "      <td>704.786032</td>\n",
       "      <td>704.346458</td>\n",
       "      <td>703.906720</td>\n",
       "      <td>703.466817</td>\n",
       "      <td>703.026668</td>\n",
       "    </tr>\n",
       "    <tr>\n",
       "      <td>73</td>\n",
       "      <td>748.152573</td>\n",
       "      <td>748.134955</td>\n",
       "      <td>748.132824</td>\n",
       "      <td>748.119221</td>\n",
       "      <td>748.107175</td>\n",
       "      <td>748.092343</td>\n",
       "      <td>748.080051</td>\n",
       "      <td>748.069398</td>\n",
       "      <td>748.057598</td>\n",
       "      <td>748.041946</td>\n",
       "      <td>...</td>\n",
       "      <td>706.575111</td>\n",
       "      <td>705.907415</td>\n",
       "      <td>705.462202</td>\n",
       "      <td>705.016825</td>\n",
       "      <td>704.571366</td>\n",
       "      <td>704.125744</td>\n",
       "      <td>703.679957</td>\n",
       "      <td>703.234089</td>\n",
       "      <td>702.787974</td>\n",
       "      <td>702.341614</td>\n",
       "    </tr>\n",
       "    <tr>\n",
       "      <td>74</td>\n",
       "      <td>752.019354</td>\n",
       "      <td>752.001908</td>\n",
       "      <td>751.999923</td>\n",
       "      <td>751.986032</td>\n",
       "      <td>751.975035</td>\n",
       "      <td>751.960731</td>\n",
       "      <td>751.947667</td>\n",
       "      <td>751.934934</td>\n",
       "      <td>751.921291</td>\n",
       "      <td>751.904341</td>\n",
       "      <td>...</td>\n",
       "      <td>709.687103</td>\n",
       "      <td>709.007360</td>\n",
       "      <td>708.554088</td>\n",
       "      <td>708.100650</td>\n",
       "      <td>707.647048</td>\n",
       "      <td>707.193445</td>\n",
       "      <td>706.739676</td>\n",
       "      <td>706.285743</td>\n",
       "      <td>705.831561</td>\n",
       "      <td>705.377214</td>\n",
       "    </tr>\n",
       "    <tr>\n",
       "      <td>75</td>\n",
       "      <td>741.214452</td>\n",
       "      <td>741.197141</td>\n",
       "      <td>741.195080</td>\n",
       "      <td>741.181313</td>\n",
       "      <td>741.171091</td>\n",
       "      <td>741.157983</td>\n",
       "      <td>741.145206</td>\n",
       "      <td>741.132840</td>\n",
       "      <td>741.119238</td>\n",
       "      <td>741.102421</td>\n",
       "      <td>...</td>\n",
       "      <td>700.554969</td>\n",
       "      <td>699.902732</td>\n",
       "      <td>699.467880</td>\n",
       "      <td>699.032945</td>\n",
       "      <td>698.597928</td>\n",
       "      <td>698.162910</td>\n",
       "      <td>697.727728</td>\n",
       "      <td>697.292546</td>\n",
       "      <td>696.857116</td>\n",
       "      <td>696.421357</td>\n",
       "    </tr>\n",
       "    <tr>\n",
       "      <td>76</td>\n",
       "      <td>724.352033</td>\n",
       "      <td>724.334375</td>\n",
       "      <td>724.331993</td>\n",
       "      <td>724.318030</td>\n",
       "      <td>724.306942</td>\n",
       "      <td>724.294868</td>\n",
       "      <td>724.284273</td>\n",
       "      <td>724.274499</td>\n",
       "      <td>724.262672</td>\n",
       "      <td>724.247149</td>\n",
       "      <td>...</td>\n",
       "      <td>685.809220</td>\n",
       "      <td>685.194001</td>\n",
       "      <td>684.783746</td>\n",
       "      <td>684.373490</td>\n",
       "      <td>683.963194</td>\n",
       "      <td>683.552816</td>\n",
       "      <td>683.142355</td>\n",
       "      <td>682.731853</td>\n",
       "      <td>682.321228</td>\n",
       "      <td>681.910316</td>\n",
       "    </tr>\n",
       "    <tr>\n",
       "      <td>...</td>\n",
       "      <td>...</td>\n",
       "      <td>...</td>\n",
       "      <td>...</td>\n",
       "      <td>...</td>\n",
       "      <td>...</td>\n",
       "      <td>...</td>\n",
       "      <td>...</td>\n",
       "      <td>...</td>\n",
       "      <td>...</td>\n",
       "      <td>...</td>\n",
       "      <td>...</td>\n",
       "      <td>...</td>\n",
       "      <td>...</td>\n",
       "      <td>...</td>\n",
       "      <td>...</td>\n",
       "      <td>...</td>\n",
       "      <td>...</td>\n",
       "      <td>...</td>\n",
       "      <td>...</td>\n",
       "      <td>...</td>\n",
       "      <td>...</td>\n",
       "    </tr>\n",
       "    <tr>\n",
       "      <td>715</td>\n",
       "      <td>572.707811</td>\n",
       "      <td>572.695215</td>\n",
       "      <td>572.694186</td>\n",
       "      <td>572.687023</td>\n",
       "      <td>572.680478</td>\n",
       "      <td>572.668582</td>\n",
       "      <td>572.656233</td>\n",
       "      <td>572.643720</td>\n",
       "      <td>572.630342</td>\n",
       "      <td>572.613876</td>\n",
       "      <td>...</td>\n",
       "      <td>532.490889</td>\n",
       "      <td>531.860514</td>\n",
       "      <td>531.440320</td>\n",
       "      <td>531.020207</td>\n",
       "      <td>530.600136</td>\n",
       "      <td>530.180106</td>\n",
       "      <td>529.760159</td>\n",
       "      <td>529.340252</td>\n",
       "      <td>528.920387</td>\n",
       "      <td>528.500522</td>\n",
       "    </tr>\n",
       "    <tr>\n",
       "      <td>716</td>\n",
       "      <td>593.825653</td>\n",
       "      <td>593.812348</td>\n",
       "      <td>593.811042</td>\n",
       "      <td>593.802390</td>\n",
       "      <td>593.794554</td>\n",
       "      <td>593.783494</td>\n",
       "      <td>593.771822</td>\n",
       "      <td>593.759293</td>\n",
       "      <td>593.746274</td>\n",
       "      <td>593.730888</td>\n",
       "      <td>...</td>\n",
       "      <td>554.170263</td>\n",
       "      <td>553.544988</td>\n",
       "      <td>553.128138</td>\n",
       "      <td>552.711288</td>\n",
       "      <td>552.294398</td>\n",
       "      <td>551.877548</td>\n",
       "      <td>551.460698</td>\n",
       "      <td>551.043848</td>\n",
       "      <td>550.626957</td>\n",
       "      <td>550.210025</td>\n",
       "    </tr>\n",
       "    <tr>\n",
       "      <td>717</td>\n",
       "      <td>615.693607</td>\n",
       "      <td>615.679601</td>\n",
       "      <td>615.678172</td>\n",
       "      <td>615.668128</td>\n",
       "      <td>615.659267</td>\n",
       "      <td>615.648773</td>\n",
       "      <td>615.637340</td>\n",
       "      <td>615.624845</td>\n",
       "      <td>615.612432</td>\n",
       "      <td>615.597937</td>\n",
       "      <td>...</td>\n",
       "      <td>576.546086</td>\n",
       "      <td>575.926007</td>\n",
       "      <td>575.512539</td>\n",
       "      <td>575.099072</td>\n",
       "      <td>574.685564</td>\n",
       "      <td>574.272014</td>\n",
       "      <td>573.858425</td>\n",
       "      <td>573.444794</td>\n",
       "      <td>573.031122</td>\n",
       "      <td>572.617328</td>\n",
       "    </tr>\n",
       "    <tr>\n",
       "      <td>718</td>\n",
       "      <td>632.801875</td>\n",
       "      <td>632.787212</td>\n",
       "      <td>632.785579</td>\n",
       "      <td>632.774224</td>\n",
       "      <td>632.764912</td>\n",
       "      <td>632.754906</td>\n",
       "      <td>632.743837</td>\n",
       "      <td>632.731952</td>\n",
       "      <td>632.720190</td>\n",
       "      <td>632.705037</td>\n",
       "      <td>...</td>\n",
       "      <td>594.302388</td>\n",
       "      <td>593.689259</td>\n",
       "      <td>593.280424</td>\n",
       "      <td>592.871589</td>\n",
       "      <td>592.462714</td>\n",
       "      <td>592.053797</td>\n",
       "      <td>591.644758</td>\n",
       "      <td>591.235679</td>\n",
       "      <td>590.826476</td>\n",
       "      <td>590.417070</td>\n",
       "    </tr>\n",
       "    <tr>\n",
       "      <td>719</td>\n",
       "      <td>645.827637</td>\n",
       "      <td>645.812260</td>\n",
       "      <td>645.810338</td>\n",
       "      <td>645.797988</td>\n",
       "      <td>645.787928</td>\n",
       "      <td>645.777990</td>\n",
       "      <td>645.767889</td>\n",
       "      <td>645.757175</td>\n",
       "      <td>645.744947</td>\n",
       "      <td>645.728671</td>\n",
       "      <td>...</td>\n",
       "      <td>607.838904</td>\n",
       "      <td>607.231330</td>\n",
       "      <td>606.826226</td>\n",
       "      <td>606.420999</td>\n",
       "      <td>606.015773</td>\n",
       "      <td>605.610424</td>\n",
       "      <td>605.205074</td>\n",
       "      <td>604.799602</td>\n",
       "      <td>604.394049</td>\n",
       "      <td>603.988331</td>\n",
       "    </tr>\n",
       "  </tbody>\n",
       "</table>\n",
       "<p>333 rows × 53 columns</p>\n",
       "</div>"
      ],
      "text/plain": [
       "            53          54          55          56          57          58   \\\n",
       "72   748.265320  748.247385  748.245081  748.231259  748.218261  748.203699   \n",
       "73   748.152573  748.134955  748.132824  748.119221  748.107175  748.092343   \n",
       "74   752.019354  752.001908  751.999923  751.986032  751.975035  751.960731   \n",
       "75   741.214452  741.197141  741.195080  741.181313  741.171091  741.157983   \n",
       "76   724.352033  724.334375  724.331993  724.318030  724.306942  724.294868   \n",
       "..          ...         ...         ...         ...         ...         ...   \n",
       "715  572.707811  572.695215  572.694186  572.687023  572.680478  572.668582   \n",
       "716  593.825653  593.812348  593.811042  593.802390  593.794554  593.783494   \n",
       "717  615.693607  615.679601  615.678172  615.668128  615.659267  615.648773   \n",
       "718  632.801875  632.787212  632.785579  632.774224  632.764912  632.754906   \n",
       "719  645.827637  645.812260  645.810338  645.797988  645.787928  645.777990   \n",
       "\n",
       "            59          60          61          62   ...         96   \\\n",
       "72   748.192016  748.182473  748.172024  748.157462  ...  707.201507   \n",
       "73   748.080051  748.069398  748.057598  748.041946  ...  706.575111   \n",
       "74   751.947667  751.934934  751.921291  751.904341  ...  709.687103   \n",
       "75   741.145206  741.132840  741.119238  741.102421  ...  700.554969   \n",
       "76   724.284273  724.274499  724.262672  724.247149  ...  685.809220   \n",
       "..          ...         ...         ...         ...  ...         ...   \n",
       "715  572.656233  572.643720  572.630342  572.613876  ...  532.490889   \n",
       "716  593.771822  593.759293  593.746274  593.730888  ...  554.170263   \n",
       "717  615.637340  615.624845  615.612432  615.597937  ...  576.546086   \n",
       "718  632.743837  632.731952  632.720190  632.705037  ...  594.302388   \n",
       "719  645.767889  645.757175  645.744947  645.728671  ...  607.838904   \n",
       "\n",
       "            97          98          99          100         101         102  \\\n",
       "72   706.543092  706.104012  705.664768  705.225441  704.786032  704.346458   \n",
       "73   705.907415  705.462202  705.016825  704.571366  704.125744  703.679957   \n",
       "74   709.007360  708.554088  708.100650  707.647048  707.193445  706.739676   \n",
       "75   699.902732  699.467880  699.032945  698.597928  698.162910  697.727728   \n",
       "76   685.194001  684.783746  684.373490  683.963194  683.552816  683.142355   \n",
       "..          ...         ...         ...         ...         ...         ...   \n",
       "715  531.860514  531.440320  531.020207  530.600136  530.180106  529.760159   \n",
       "716  553.544988  553.128138  552.711288  552.294398  551.877548  551.460698   \n",
       "717  575.926007  575.512539  575.099072  574.685564  574.272014  573.858425   \n",
       "718  593.689259  593.280424  592.871589  592.462714  592.053797  591.644758   \n",
       "719  607.231330  606.826226  606.420999  606.015773  605.610424  605.205074   \n",
       "\n",
       "            103         104         105  \n",
       "72   703.906720  703.466817  703.026668  \n",
       "73   703.234089  702.787974  702.341614  \n",
       "74   706.285743  705.831561  705.377214  \n",
       "75   697.292546  696.857116  696.421357  \n",
       "76   682.731853  682.321228  681.910316  \n",
       "..          ...         ...         ...  \n",
       "715  529.340252  528.920387  528.500522  \n",
       "716  551.043848  550.626957  550.210025  \n",
       "717  573.444794  573.031122  572.617328  \n",
       "718  591.235679  590.826476  590.417070  \n",
       "719  604.799602  604.394049  603.988331  \n",
       "\n",
       "[333 rows x 53 columns]"
      ]
     },
     "execution_count": 28,
     "metadata": {},
     "output_type": "execute_result"
    }
   ],
   "source": [
    "total_out "
   ]
  },
  {
   "cell_type": "code",
   "execution_count": 30,
   "metadata": {},
   "outputs": [
    {
     "data": {
      "text/plain": [
       "Int64Index([ 72,  73,  74,  75,  76,  77,  78,  79,  80,  81,\n",
       "            ...\n",
       "            710, 711, 712, 713, 714, 715, 716, 717, 718, 719],\n",
       "           dtype='int64', length=333)"
      ]
     },
     "execution_count": 30,
     "metadata": {},
     "output_type": "execute_result"
    }
   ],
   "source": [
    "total_in.index"
   ]
  },
  {
   "cell_type": "code",
   "execution_count": 31,
   "metadata": {},
   "outputs": [
    {
     "data": {
      "text/plain": [
       "array([9, 8, 7, 6, 5, 4, 3, 2, 1])"
      ]
     },
     "execution_count": 31,
     "metadata": {},
     "output_type": "execute_result"
    }
   ],
   "source": [
    "np.array([1,2,3,4,5,6,7,8,9])[::-1]"
   ]
  },
  {
   "cell_type": "code",
   "execution_count": 32,
   "metadata": {},
   "outputs": [
    {
     "data": {
      "text/plain": [
       "36"
      ]
     },
     "execution_count": 32,
     "metadata": {},
     "output_type": "execute_result"
    }
   ],
   "source": [
    "all_indices = total_in.index\n",
    "ti_indices = all_indices[all_indices > 4*72] \n",
    "ti_indices = ti_indices[ti_indices < 5*72] \n",
    "len(ti_indices) #ith time snapshot indices for latitude/longtitude map, currently set to 6th time snapshot"
   ]
  },
  {
   "cell_type": "code",
   "execution_count": 33,
   "metadata": {},
   "outputs": [
    {
     "data": {
      "text/plain": [
       "array([36, 37, 38, 39, 40, 41, 42, 43, 44, 45, 46, 47, 48, 49, 50, 51, 52,\n",
       "       53, 54, 55, 56, 57, 58, 59, 60, 61, 62, 63, 64, 65, 66, 67, 68, 69,\n",
       "       70, 71,  0,  1,  2,  3,  4,  5,  6,  7,  8,  9, 10, 11, 12, 13, 14,\n",
       "       15, 16, 17, 18, 19, 20, 21, 22, 23, 24, 25, 26, 27, 28, 29, 30, 31,\n",
       "       32, 33, 34, 35])"
      ]
     },
     "execution_count": 33,
     "metadata": {},
     "output_type": "execute_result"
    }
   ],
   "source": [
    "np.concatenate([np.arange(0,72)[36:], np.arange(0,72)[:36]])"
   ]
  },
  {
   "cell_type": "code",
   "execution_count": 34,
   "metadata": {},
   "outputs": [],
   "source": [
    "total_out = np.array(total_out)\n",
    "full_out_contour = np.full((53, 72), np.nan)\n",
    "full_pred_contour = np.full((53, 72), np.nan)\n",
    "for index in ti_indices:\n",
    "    long_point = index%72\n",
    "    full_out_contour[:,long_point] = total_out[np.where(all_indices == index)][0][::-1]\n",
    "    full_pred_contour[:,long_point] = total_pred[np.where(all_indices == index)][0][::-1] #flips the height to look better"
   ]
  },
  {
   "cell_type": "code",
   "execution_count": 39,
   "metadata": {},
   "outputs": [
    {
     "data": {
      "image/png": "[encoded data removed]",
      "text/plain": [
       "<Figure size 432x288 with 2 Axes>"
      ]
     },
     "metadata": {
      "needs_background": "light"
     },
     "output_type": "display_data"
    }
   ],
   "source": [
    "plt.contourf(full_out_contour)\n",
    "plt.colorbar()\n",
    "plt.title(\"Actual Middle Solar Flux at Equator\")\n",
    "plt.xlabel(\"Longtitude\")\n",
    "plt.ylabel(\"Height\")\n",
    "plt.show()"
   ]
  },
  {
   "cell_type": "code",
   "execution_count": 40,
   "metadata": {},
   "outputs": [
    {
     "data": {
      "image/png": "[encoded data removed]",
      "text/plain": [
       "<Figure size 432x288 with 2 Axes>"
      ]
     },
     "metadata": {
      "needs_background": "light"
     },
     "output_type": "display_data"
    }
   ],
   "source": [
    "plt.contourf(full_pred_contour)\n",
    "plt.colorbar()\n",
    "plt.title(\"Predicted Middle Solar Flux at Equator\")\n",
    "plt.xlabel(\"Longtitude\")\n",
    "plt.ylabel(\"Height\")\n",
    "plt.show()"
   ]
  },
  {
   "cell_type": "code",
   "execution_count": 37,
   "metadata": {},
   "outputs": [
    {
     "data": {
      "image/png": "[encoded data removed]",
      "text/plain": [
       "<Figure size 432x288 with 2 Axes>"
      ]
     },
     "metadata": {
      "needs_background": "light"
     },
     "output_type": "display_data"
    }
   ],
   "source": [
    "plt.contourf(full_pred_contour - full_out_contour)\n",
    "plt.colorbar()\n",
    "plt.title(\"Difference\")\n",
    "plt.xlabel(\"Longtitude\")\n",
    "plt.ylabel(\"Height\")\n",
    "plt.show()"
   ]
  },
  {
   "cell_type": "code",
   "execution_count": 38,
   "metadata": {},
   "outputs": [
    {
     "data": {
      "image/png": "[encoded data removed]",
      "text/plain": [
       "<Figure size 432x288 with 2 Axes>"
      ]
     },
     "metadata": {
      "needs_background": "light"
     },
     "output_type": "display_data"
    }
   ],
   "source": [
    "plt.contourf((full_pred_contour - full_out_contour)/full_out_contour)\n",
    "plt.colorbar()\n",
    "plt.title(\"Relative Difference\")\n",
    "plt.xlabel(\"Longtitude\")\n",
    "plt.ylabel(\"Height\")\n",
    "plt.show()"
   ]
  },
  {
   "cell_type": "code",
   "execution_count": null,
   "metadata": {},
   "outputs": [],
   "source": []
  }
 ],
 "metadata": {
  "kernelspec": {
   "display_name": "Python 3",
   "language": "python",
   "name": "python3"
  },
  "language_info": {
   "codemirror_mode": {
    "name": "ipython",
    "version": 3
   },
   "file_extension": ".py",
   "mimetype": "text/x-python",
   "name": "python",
   "nbconvert_exporter": "python",
   "pygments_lexer": "ipython3",
   "version": "3.7.4"
  }
 },
 "nbformat": 4,
 "nbformat_minor": 2
}
