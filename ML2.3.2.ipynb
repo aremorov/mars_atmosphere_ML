{
 "cells": [
  {
   "cell_type": "markdown",
   "metadata": {},
   "source": [
    "One time snapshot, seeing if bottom solar flux = bsf/(1-albedo) works better than just using bsf and albedo."
   ]
  },
  {
   "cell_type": "code",
   "execution_count": 2,
   "metadata": {},
   "outputs": [],
   "source": [
    "import xarray as xr\n",
    "import matplotlib.pyplot as plt\n",
    "import numpy as np\n",
    "import pandas as pd"
   ]
  },
  {
   "cell_type": "code",
   "execution_count": 3,
   "metadata": {},
   "outputs": [],
   "source": [
    "dataDIR = 'short'\n",
    "DS = xr.open_dataset(dataDIR)"
   ]
  },
  {
   "cell_type": "code",
   "execution_count": 4,
   "metadata": {},
   "outputs": [],
   "source": [
    "#Temperature:\n",
    "T = (DS.T.values + DS.T0) * ((DS.P.values + DS.PB.values)/DS.P0)**(DS.R_D/DS.CP)"
   ]
  },
  {
   "cell_type": "code",
   "execution_count": 5,
   "metadata": {},
   "outputs": [
    {
     "data": {
      "text/plain": [
       "(240, 52, 36, 72)"
      ]
     },
     "execution_count": 5,
     "metadata": {},
     "output_type": "execute_result"
    }
   ],
   "source": [
    "T.shape #days, height, latitude, longtitude"
   ]
  },
  {
   "cell_type": "code",
   "execution_count": 6,
   "metadata": {
    "scrolled": true
   },
   "outputs": [
    {
     "data": {
      "image/png": "[encoded data removed]",
      "text/plain": [
       "<Figure size 432x288 with 2 Axes>"
      ]
     },
     "metadata": {
      "needs_background": "light"
     },
     "output_type": "display_data"
    }
   ],
   "source": [
    "example_data = T[50,5,:, :]\n",
    "plt.contourf(example_data)\n",
    "plt.colorbar()\n",
    "plt.title(\"Temperature Profile\")\n",
    "plt.show()"
   ]
  },
  {
   "cell_type": "code",
   "execution_count": 7,
   "metadata": {},
   "outputs": [],
   "source": [
    "albedo = DS.ALBEDO.values"
   ]
  },
  {
   "cell_type": "code",
   "execution_count": 8,
   "metadata": {},
   "outputs": [
    {
     "data": {
      "text/plain": [
       "(240, 36, 72)"
      ]
     },
     "execution_count": 8,
     "metadata": {},
     "output_type": "execute_result"
    }
   ],
   "source": [
    "albedo.shape #days, latitude, longtitude"
   ]
  },
  {
   "cell_type": "code",
   "execution_count": 9,
   "metadata": {},
   "outputs": [],
   "source": [
    "st = DS.TSK.values"
   ]
  },
  {
   "cell_type": "code",
   "execution_count": 10,
   "metadata": {},
   "outputs": [
    {
     "data": {
      "text/plain": [
       "(240, 36, 72)"
      ]
     },
     "execution_count": 10,
     "metadata": {},
     "output_type": "execute_result"
    }
   ],
   "source": [
    "st.shape"
   ]
  },
  {
   "cell_type": "code",
   "execution_count": 11,
   "metadata": {},
   "outputs": [],
   "source": [
    "d_c = DS.TAU_OD.values"
   ]
  },
  {
   "cell_type": "code",
   "execution_count": 12,
   "metadata": {},
   "outputs": [
    {
     "data": {
      "text/plain": [
       "(240, 52, 36, 72)"
      ]
     },
     "execution_count": 12,
     "metadata": {},
     "output_type": "execute_result"
    }
   ],
   "source": [
    "d_c.shape "
   ]
  },
  {
   "cell_type": "code",
   "execution_count": 13,
   "metadata": {},
   "outputs": [],
   "source": [
    "tsf = DS.TOASW.values #top solar flux"
   ]
  },
  {
   "cell_type": "code",
   "execution_count": 14,
   "metadata": {},
   "outputs": [
    {
     "data": {
      "text/plain": [
       "(240, 36, 72)"
      ]
     },
     "execution_count": 14,
     "metadata": {},
     "output_type": "execute_result"
    }
   ],
   "source": [
    "tsf.shape"
   ]
  },
  {
   "cell_type": "code",
   "execution_count": 15,
   "metadata": {},
   "outputs": [],
   "source": [
    "albedo = DS.ALBEDO.values"
   ]
  },
  {
   "cell_type": "code",
   "execution_count": 17,
   "metadata": {},
   "outputs": [],
   "source": [
    "bsf = DS.GSW.values #bottom solar flux, ouput"
   ]
  },
  {
   "cell_type": "code",
   "execution_count": 45,
   "metadata": {},
   "outputs": [],
   "source": [
    "bsf2 = bsf/(1-albedo)"
   ]
  },
  {
   "cell_type": "code",
   "execution_count": 18,
   "metadata": {},
   "outputs": [
    {
     "data": {
      "text/plain": [
       "(240, 36, 72)"
      ]
     },
     "execution_count": 18,
     "metadata": {},
     "output_type": "execute_result"
    }
   ],
   "source": [
    "bsf.shape"
   ]
  },
  {
   "cell_type": "markdown",
   "metadata": {},
   "source": [
    "Let's combine the data together for one time snapshot, full latitude and longitude:"
   ]
  },
  {
   "cell_type": "code",
   "execution_count": 46,
   "metadata": {},
   "outputs": [],
   "source": [
    "e_t = [] #equator input and output\n",
    "#input:\n",
    "for i in range(36):\n",
    "    for j in range(72):\n",
    "        input_array = list(T[3,:,i,j]) #start with temp profile\n",
    "        input_array+=list(d_c[3,:,i,j]) #add dust profile\n",
    "        input_array.append(st[3,i,j])#add surface temp\n",
    "        input_array.append(tsf[3,i,j]) #add top solar flux, without the albedo factor\n",
    "        input_array.append(bsf2[3,i,j])            \n",
    "        e_t.append(input_array) #appends input to input array"
   ]
  },
  {
   "cell_type": "code",
   "execution_count": 47,
   "metadata": {},
   "outputs": [
    {
     "data": {
      "text/plain": [
       "(2592, 107)"
      ]
     },
     "execution_count": 47,
     "metadata": {},
     "output_type": "execute_result"
    }
   ],
   "source": [
    "e_t = np.array(e_t)\n",
    "e_t.shape"
   ]
  },
  {
   "cell_type": "code",
   "execution_count": 48,
   "metadata": {},
   "outputs": [
    {
     "data": {
      "text/html": [
       "<div>\n",
       "<style scoped>\n",
       "    .dataframe tbody tr th:only-of-type {\n",
       "        vertical-align: middle;\n",
       "    }\n",
       "\n",
       "    .dataframe tbody tr th {\n",
       "        vertical-align: top;\n",
       "    }\n",
       "\n",
       "    .dataframe thead th {\n",
       "        text-align: right;\n",
       "    }\n",
       "</style>\n",
       "<table border=\"1\" class=\"dataframe\">\n",
       "  <thead>\n",
       "    <tr style=\"text-align: right;\">\n",
       "      <th></th>\n",
       "      <th>0</th>\n",
       "      <th>1</th>\n",
       "      <th>2</th>\n",
       "      <th>3</th>\n",
       "      <th>4</th>\n",
       "      <th>5</th>\n",
       "      <th>6</th>\n",
       "      <th>7</th>\n",
       "      <th>8</th>\n",
       "      <th>9</th>\n",
       "      <th>...</th>\n",
       "      <th>97</th>\n",
       "      <th>98</th>\n",
       "      <th>99</th>\n",
       "      <th>100</th>\n",
       "      <th>101</th>\n",
       "      <th>102</th>\n",
       "      <th>103</th>\n",
       "      <th>104</th>\n",
       "      <th>105</th>\n",
       "      <th>106</th>\n",
       "    </tr>\n",
       "  </thead>\n",
       "  <tbody>\n",
       "    <tr>\n",
       "      <td>0</td>\n",
       "      <td>145.052505</td>\n",
       "      <td>145.118210</td>\n",
       "      <td>145.034302</td>\n",
       "      <td>144.925522</td>\n",
       "      <td>144.810226</td>\n",
       "      <td>144.634140</td>\n",
       "      <td>144.421860</td>\n",
       "      <td>144.285873</td>\n",
       "      <td>144.390717</td>\n",
       "      <td>144.826294</td>\n",
       "      <td>...</td>\n",
       "      <td>3.521655e-08</td>\n",
       "      <td>2.415657e-08</td>\n",
       "      <td>1.603531e-08</td>\n",
       "      <td>1.022075e-08</td>\n",
       "      <td>6.162274e-09</td>\n",
       "      <td>3.473062e-09</td>\n",
       "      <td>1.870772e-09</td>\n",
       "      <td>144.366058</td>\n",
       "      <td>0.000000</td>\n",
       "      <td>0.000000</td>\n",
       "    </tr>\n",
       "    <tr>\n",
       "      <td>1</td>\n",
       "      <td>145.032120</td>\n",
       "      <td>145.095871</td>\n",
       "      <td>145.014099</td>\n",
       "      <td>144.915527</td>\n",
       "      <td>144.811172</td>\n",
       "      <td>144.639297</td>\n",
       "      <td>144.425125</td>\n",
       "      <td>144.283463</td>\n",
       "      <td>144.370926</td>\n",
       "      <td>144.779175</td>\n",
       "      <td>...</td>\n",
       "      <td>3.525772e-08</td>\n",
       "      <td>2.418449e-08</td>\n",
       "      <td>1.605352e-08</td>\n",
       "      <td>1.023200e-08</td>\n",
       "      <td>6.168662e-09</td>\n",
       "      <td>3.476231e-09</td>\n",
       "      <td>1.872022e-09</td>\n",
       "      <td>144.374054</td>\n",
       "      <td>0.000000</td>\n",
       "      <td>0.000000</td>\n",
       "    </tr>\n",
       "    <tr>\n",
       "      <td>2</td>\n",
       "      <td>145.005997</td>\n",
       "      <td>145.067337</td>\n",
       "      <td>144.987610</td>\n",
       "      <td>144.899200</td>\n",
       "      <td>144.805862</td>\n",
       "      <td>144.638565</td>\n",
       "      <td>144.423065</td>\n",
       "      <td>144.276138</td>\n",
       "      <td>144.345978</td>\n",
       "      <td>144.725616</td>\n",
       "      <td>...</td>\n",
       "      <td>3.527571e-08</td>\n",
       "      <td>2.419670e-08</td>\n",
       "      <td>1.606147e-08</td>\n",
       "      <td>1.023692e-08</td>\n",
       "      <td>6.171454e-09</td>\n",
       "      <td>3.477616e-09</td>\n",
       "      <td>1.872569e-09</td>\n",
       "      <td>144.377609</td>\n",
       "      <td>0.000000</td>\n",
       "      <td>0.000000</td>\n",
       "    </tr>\n",
       "    <tr>\n",
       "      <td>3</td>\n",
       "      <td>144.974365</td>\n",
       "      <td>145.032928</td>\n",
       "      <td>144.955124</td>\n",
       "      <td>144.876755</td>\n",
       "      <td>144.794373</td>\n",
       "      <td>144.632004</td>\n",
       "      <td>144.415802</td>\n",
       "      <td>144.264008</td>\n",
       "      <td>144.316101</td>\n",
       "      <td>144.666122</td>\n",
       "      <td>...</td>\n",
       "      <td>3.527040e-08</td>\n",
       "      <td>2.419310e-08</td>\n",
       "      <td>1.605912e-08</td>\n",
       "      <td>1.023546e-08</td>\n",
       "      <td>6.170629e-09</td>\n",
       "      <td>3.477207e-09</td>\n",
       "      <td>1.872407e-09</td>\n",
       "      <td>144.376678</td>\n",
       "      <td>0.000000</td>\n",
       "      <td>0.000000</td>\n",
       "    </tr>\n",
       "    <tr>\n",
       "      <td>4</td>\n",
       "      <td>144.937531</td>\n",
       "      <td>144.992920</td>\n",
       "      <td>144.916946</td>\n",
       "      <td>144.848389</td>\n",
       "      <td>144.776840</td>\n",
       "      <td>144.619690</td>\n",
       "      <td>144.403427</td>\n",
       "      <td>144.247238</td>\n",
       "      <td>144.281586</td>\n",
       "      <td>144.601196</td>\n",
       "      <td>...</td>\n",
       "      <td>3.524188e-08</td>\n",
       "      <td>2.417375e-08</td>\n",
       "      <td>1.604651e-08</td>\n",
       "      <td>1.022767e-08</td>\n",
       "      <td>6.166205e-09</td>\n",
       "      <td>3.475012e-09</td>\n",
       "      <td>1.871541e-09</td>\n",
       "      <td>144.371277</td>\n",
       "      <td>0.000000</td>\n",
       "      <td>0.000000</td>\n",
       "    </tr>\n",
       "    <tr>\n",
       "      <td>...</td>\n",
       "      <td>...</td>\n",
       "      <td>...</td>\n",
       "      <td>...</td>\n",
       "      <td>...</td>\n",
       "      <td>...</td>\n",
       "      <td>...</td>\n",
       "      <td>...</td>\n",
       "      <td>...</td>\n",
       "      <td>...</td>\n",
       "      <td>...</td>\n",
       "      <td>...</td>\n",
       "      <td>...</td>\n",
       "      <td>...</td>\n",
       "      <td>...</td>\n",
       "      <td>...</td>\n",
       "      <td>...</td>\n",
       "      <td>...</td>\n",
       "      <td>...</td>\n",
       "      <td>...</td>\n",
       "      <td>...</td>\n",
       "      <td>...</td>\n",
       "    </tr>\n",
       "    <tr>\n",
       "      <td>2587</td>\n",
       "      <td>216.552307</td>\n",
       "      <td>216.315048</td>\n",
       "      <td>215.960938</td>\n",
       "      <td>215.595612</td>\n",
       "      <td>215.365265</td>\n",
       "      <td>215.396729</td>\n",
       "      <td>215.229431</td>\n",
       "      <td>214.950150</td>\n",
       "      <td>214.643860</td>\n",
       "      <td>214.350906</td>\n",
       "      <td>...</td>\n",
       "      <td>6.501522e-08</td>\n",
       "      <td>4.437198e-08</td>\n",
       "      <td>2.921381e-08</td>\n",
       "      <td>1.836105e-08</td>\n",
       "      <td>1.078598e-08</td>\n",
       "      <td>5.766621e-09</td>\n",
       "      <td>2.775976e-09</td>\n",
       "      <td>216.824097</td>\n",
       "      <td>224.713699</td>\n",
       "      <td>206.752396</td>\n",
       "    </tr>\n",
       "    <tr>\n",
       "      <td>2588</td>\n",
       "      <td>216.824081</td>\n",
       "      <td>216.577454</td>\n",
       "      <td>216.215073</td>\n",
       "      <td>215.840378</td>\n",
       "      <td>215.598694</td>\n",
       "      <td>215.603958</td>\n",
       "      <td>215.412247</td>\n",
       "      <td>215.116440</td>\n",
       "      <td>214.796143</td>\n",
       "      <td>214.491760</td>\n",
       "      <td>...</td>\n",
       "      <td>6.503739e-08</td>\n",
       "      <td>4.438701e-08</td>\n",
       "      <td>2.922361e-08</td>\n",
       "      <td>1.836711e-08</td>\n",
       "      <td>1.078942e-08</td>\n",
       "      <td>5.768326e-09</td>\n",
       "      <td>2.776649e-09</td>\n",
       "      <td>217.144958</td>\n",
       "      <td>225.535324</td>\n",
       "      <td>207.566727</td>\n",
       "    </tr>\n",
       "    <tr>\n",
       "      <td>2589</td>\n",
       "      <td>217.093124</td>\n",
       "      <td>216.837372</td>\n",
       "      <td>216.466858</td>\n",
       "      <td>216.082275</td>\n",
       "      <td>215.828262</td>\n",
       "      <td>215.805679</td>\n",
       "      <td>215.588867</td>\n",
       "      <td>215.276138</td>\n",
       "      <td>214.941574</td>\n",
       "      <td>214.625626</td>\n",
       "      <td>...</td>\n",
       "      <td>6.505658e-08</td>\n",
       "      <td>4.440004e-08</td>\n",
       "      <td>2.923210e-08</td>\n",
       "      <td>1.837235e-08</td>\n",
       "      <td>1.079240e-08</td>\n",
       "      <td>5.769804e-09</td>\n",
       "      <td>2.777232e-09</td>\n",
       "      <td>217.462555</td>\n",
       "      <td>226.216263</td>\n",
       "      <td>208.239059</td>\n",
       "    </tr>\n",
       "    <tr>\n",
       "      <td>2590</td>\n",
       "      <td>217.357605</td>\n",
       "      <td>217.093155</td>\n",
       "      <td>216.714523</td>\n",
       "      <td>216.319763</td>\n",
       "      <td>216.052536</td>\n",
       "      <td>216.000671</td>\n",
       "      <td>215.758133</td>\n",
       "      <td>215.428253</td>\n",
       "      <td>215.079330</td>\n",
       "      <td>214.751801</td>\n",
       "      <td>...</td>\n",
       "      <td>6.507299e-08</td>\n",
       "      <td>4.441116e-08</td>\n",
       "      <td>2.923936e-08</td>\n",
       "      <td>1.837683e-08</td>\n",
       "      <td>1.079495e-08</td>\n",
       "      <td>5.771067e-09</td>\n",
       "      <td>2.777731e-09</td>\n",
       "      <td>217.771591</td>\n",
       "      <td>226.751312</td>\n",
       "      <td>208.764221</td>\n",
       "    </tr>\n",
       "    <tr>\n",
       "      <td>2591</td>\n",
       "      <td>217.615417</td>\n",
       "      <td>217.342712</td>\n",
       "      <td>216.956192</td>\n",
       "      <td>216.550949</td>\n",
       "      <td>216.269699</td>\n",
       "      <td>216.187317</td>\n",
       "      <td>215.918716</td>\n",
       "      <td>215.571518</td>\n",
       "      <td>215.208267</td>\n",
       "      <td>214.869141</td>\n",
       "      <td>...</td>\n",
       "      <td>6.508640e-08</td>\n",
       "      <td>4.442027e-08</td>\n",
       "      <td>2.924529e-08</td>\n",
       "      <td>1.838050e-08</td>\n",
       "      <td>1.079703e-08</td>\n",
       "      <td>5.772099e-09</td>\n",
       "      <td>2.778138e-09</td>\n",
       "      <td>218.072968</td>\n",
       "      <td>227.136414</td>\n",
       "      <td>209.138245</td>\n",
       "    </tr>\n",
       "  </tbody>\n",
       "</table>\n",
       "<p>2592 rows × 107 columns</p>\n",
       "</div>"
      ],
      "text/plain": [
       "             0           1           2           3           4           5    \\\n",
       "0     145.052505  145.118210  145.034302  144.925522  144.810226  144.634140   \n",
       "1     145.032120  145.095871  145.014099  144.915527  144.811172  144.639297   \n",
       "2     145.005997  145.067337  144.987610  144.899200  144.805862  144.638565   \n",
       "3     144.974365  145.032928  144.955124  144.876755  144.794373  144.632004   \n",
       "4     144.937531  144.992920  144.916946  144.848389  144.776840  144.619690   \n",
       "...          ...         ...         ...         ...         ...         ...   \n",
       "2587  216.552307  216.315048  215.960938  215.595612  215.365265  215.396729   \n",
       "2588  216.824081  216.577454  216.215073  215.840378  215.598694  215.603958   \n",
       "2589  217.093124  216.837372  216.466858  216.082275  215.828262  215.805679   \n",
       "2590  217.357605  217.093155  216.714523  216.319763  216.052536  216.000671   \n",
       "2591  217.615417  217.342712  216.956192  216.550949  216.269699  216.187317   \n",
       "\n",
       "             6           7           8           9    ...           97   \\\n",
       "0     144.421860  144.285873  144.390717  144.826294  ...  3.521655e-08   \n",
       "1     144.425125  144.283463  144.370926  144.779175  ...  3.525772e-08   \n",
       "2     144.423065  144.276138  144.345978  144.725616  ...  3.527571e-08   \n",
       "3     144.415802  144.264008  144.316101  144.666122  ...  3.527040e-08   \n",
       "4     144.403427  144.247238  144.281586  144.601196  ...  3.524188e-08   \n",
       "...          ...         ...         ...         ...  ...           ...   \n",
       "2587  215.229431  214.950150  214.643860  214.350906  ...  6.501522e-08   \n",
       "2588  215.412247  215.116440  214.796143  214.491760  ...  6.503739e-08   \n",
       "2589  215.588867  215.276138  214.941574  214.625626  ...  6.505658e-08   \n",
       "2590  215.758133  215.428253  215.079330  214.751801  ...  6.507299e-08   \n",
       "2591  215.918716  215.571518  215.208267  214.869141  ...  6.508640e-08   \n",
       "\n",
       "               98            99            100           101           102  \\\n",
       "0     2.415657e-08  1.603531e-08  1.022075e-08  6.162274e-09  3.473062e-09   \n",
       "1     2.418449e-08  1.605352e-08  1.023200e-08  6.168662e-09  3.476231e-09   \n",
       "2     2.419670e-08  1.606147e-08  1.023692e-08  6.171454e-09  3.477616e-09   \n",
       "3     2.419310e-08  1.605912e-08  1.023546e-08  6.170629e-09  3.477207e-09   \n",
       "4     2.417375e-08  1.604651e-08  1.022767e-08  6.166205e-09  3.475012e-09   \n",
       "...            ...           ...           ...           ...           ...   \n",
       "2587  4.437198e-08  2.921381e-08  1.836105e-08  1.078598e-08  5.766621e-09   \n",
       "2588  4.438701e-08  2.922361e-08  1.836711e-08  1.078942e-08  5.768326e-09   \n",
       "2589  4.440004e-08  2.923210e-08  1.837235e-08  1.079240e-08  5.769804e-09   \n",
       "2590  4.441116e-08  2.923936e-08  1.837683e-08  1.079495e-08  5.771067e-09   \n",
       "2591  4.442027e-08  2.924529e-08  1.838050e-08  1.079703e-08  5.772099e-09   \n",
       "\n",
       "               103         104         105         106  \n",
       "0     1.870772e-09  144.366058    0.000000    0.000000  \n",
       "1     1.872022e-09  144.374054    0.000000    0.000000  \n",
       "2     1.872569e-09  144.377609    0.000000    0.000000  \n",
       "3     1.872407e-09  144.376678    0.000000    0.000000  \n",
       "4     1.871541e-09  144.371277    0.000000    0.000000  \n",
       "...            ...         ...         ...         ...  \n",
       "2587  2.775976e-09  216.824097  224.713699  206.752396  \n",
       "2588  2.776649e-09  217.144958  225.535324  207.566727  \n",
       "2589  2.777232e-09  217.462555  226.216263  208.239059  \n",
       "2590  2.777731e-09  217.771591  226.751312  208.764221  \n",
       "2591  2.778138e-09  218.072968  227.136414  209.138245  \n",
       "\n",
       "[2592 rows x 107 columns]"
      ]
     },
     "execution_count": 48,
     "metadata": {},
     "output_type": "execute_result"
    }
   ],
   "source": [
    "e_d = pd.DataFrame(e_t) \n",
    "e_d"
   ]
  },
  {
   "cell_type": "code",
   "execution_count": 49,
   "metadata": {},
   "outputs": [],
   "source": [
    "e_rem0 = e_d[e_d.iloc[:,105] != 0] #removes rows with 0 top solar flux"
   ]
  },
  {
   "cell_type": "code",
   "execution_count": 50,
   "metadata": {},
   "outputs": [
    {
     "data": {
      "text/plain": [
       "360      21.067924\n",
       "361      21.870876\n",
       "362      20.944609\n",
       "363      18.623419\n",
       "364      15.006235\n",
       "           ...    \n",
       "2587    206.752396\n",
       "2588    207.566727\n",
       "2589    208.239059\n",
       "2590    208.764221\n",
       "2591    209.138245\n",
       "Name: 106, Length: 1320, dtype: float32"
      ]
     },
     "execution_count": 50,
     "metadata": {},
     "output_type": "execute_result"
    }
   ],
   "source": [
    "e_rem0.iloc[:,106]"
   ]
  },
  {
   "cell_type": "code",
   "execution_count": 51,
   "metadata": {},
   "outputs": [],
   "source": [
    "from sklearn.model_selection import train_test_split\n",
    "\n",
    "train_set, test_set = train_test_split(e_rem0, test_size=0.2, random_state=42)"
   ]
  },
  {
   "cell_type": "code",
   "execution_count": 52,
   "metadata": {},
   "outputs": [
    {
     "data": {
      "text/plain": [
       "(1056, 107)"
      ]
     },
     "execution_count": 52,
     "metadata": {},
     "output_type": "execute_result"
    }
   ],
   "source": [
    "train_set.shape"
   ]
  },
  {
   "cell_type": "code",
   "execution_count": 53,
   "metadata": {},
   "outputs": [
    {
     "data": {
      "text/plain": [
       "(264, 107)"
      ]
     },
     "execution_count": 53,
     "metadata": {},
     "output_type": "execute_result"
    }
   ],
   "source": [
    "test_set.shape"
   ]
  },
  {
   "cell_type": "code",
   "execution_count": 54,
   "metadata": {},
   "outputs": [],
   "source": [
    "train_in = train_set.iloc[:,:106] #training input\n",
    "train_out = train_set.iloc[:,106] #training output\n",
    "test_in = test_set.iloc[:,:106] #training input\n",
    "test_out = test_set.iloc[:,106] #training output"
   ]
  },
  {
   "cell_type": "code",
   "execution_count": 55,
   "metadata": {},
   "outputs": [],
   "source": [
    "train_in.index #this provides the location of each point according to the date and latitude\n",
    "indices = np.array(train_in.index)"
   ]
  },
  {
   "cell_type": "code",
   "execution_count": 56,
   "metadata": {},
   "outputs": [
    {
     "data": {
      "text/plain": [
       "array([[2.1133389e+02, 2.0929416e+02, 2.0849768e+02, ..., 5.8960108e-09,\n",
       "        2.2753683e+02, 3.0310608e+02],\n",
       "       [2.2235109e+02, 2.2583852e+02, 2.3115086e+02, ..., 3.2293628e-09,\n",
       "        2.1324028e+02, 1.2062143e-02],\n",
       "       [2.1687448e+02, 2.1490694e+02, 2.1388765e+02, ..., 3.7124706e-09,\n",
       "        2.2579242e+02, 1.9838985e+02],\n",
       "       ...,\n",
       "       [2.1345190e+02, 2.1335916e+02, 2.1309193e+02, ..., 2.7551532e-09,\n",
       "        2.1299127e+02, 1.9262505e+02],\n",
       "       [2.4393170e+02, 2.4265059e+02, 2.4183702e+02, ..., 2.7887395e-09,\n",
       "        2.4817116e+02, 2.3981238e+02],\n",
       "       [2.3820009e+02, 2.3815402e+02, 2.3779312e+02, ..., 3.1543317e-09,\n",
       "        2.3675764e+02, 1.7613338e+02]], dtype=float32)"
      ]
     },
     "execution_count": 56,
     "metadata": {},
     "output_type": "execute_result"
    }
   ],
   "source": [
    "np.array(train_in)"
   ]
  },
  {
   "cell_type": "code",
   "execution_count": 57,
   "metadata": {},
   "outputs": [
    {
     "data": {
      "text/html": [
       "<div>\n",
       "<style scoped>\n",
       "    .dataframe tbody tr th:only-of-type {\n",
       "        vertical-align: middle;\n",
       "    }\n",
       "\n",
       "    .dataframe tbody tr th {\n",
       "        vertical-align: top;\n",
       "    }\n",
       "\n",
       "    .dataframe thead th {\n",
       "        text-align: right;\n",
       "    }\n",
       "</style>\n",
       "<table border=\"1\" class=\"dataframe\">\n",
       "  <thead>\n",
       "    <tr style=\"text-align: right;\">\n",
       "      <th></th>\n",
       "      <th>0</th>\n",
       "      <th>1</th>\n",
       "      <th>2</th>\n",
       "      <th>3</th>\n",
       "      <th>4</th>\n",
       "      <th>5</th>\n",
       "      <th>6</th>\n",
       "      <th>7</th>\n",
       "      <th>8</th>\n",
       "      <th>9</th>\n",
       "      <th>...</th>\n",
       "      <th>96</th>\n",
       "      <th>97</th>\n",
       "      <th>98</th>\n",
       "      <th>99</th>\n",
       "      <th>100</th>\n",
       "      <th>101</th>\n",
       "      <th>102</th>\n",
       "      <th>103</th>\n",
       "      <th>104</th>\n",
       "      <th>105</th>\n",
       "    </tr>\n",
       "  </thead>\n",
       "  <tbody>\n",
       "    <tr>\n",
       "      <td>1717</td>\n",
       "      <td>211.333893</td>\n",
       "      <td>209.294159</td>\n",
       "      <td>208.497681</td>\n",
       "      <td>207.999847</td>\n",
       "      <td>207.627228</td>\n",
       "      <td>207.955780</td>\n",
       "      <td>211.211227</td>\n",
       "      <td>213.837769</td>\n",
       "      <td>215.327209</td>\n",
       "      <td>216.485275</td>\n",
       "      <td>...</td>\n",
       "      <td>2.025997e-07</td>\n",
       "      <td>1.421401e-07</td>\n",
       "      <td>9.695122e-08</td>\n",
       "      <td>6.376942e-08</td>\n",
       "      <td>4.001233e-08</td>\n",
       "      <td>2.343021e-08</td>\n",
       "      <td>1.244264e-08</td>\n",
       "      <td>5.896011e-09</td>\n",
       "      <td>227.536835</td>\n",
       "      <td>303.106079</td>\n",
       "    </tr>\n",
       "    <tr>\n",
       "      <td>2191</td>\n",
       "      <td>222.351089</td>\n",
       "      <td>225.838516</td>\n",
       "      <td>231.150864</td>\n",
       "      <td>233.391357</td>\n",
       "      <td>233.982513</td>\n",
       "      <td>234.055542</td>\n",
       "      <td>233.872070</td>\n",
       "      <td>233.573471</td>\n",
       "      <td>233.205490</td>\n",
       "      <td>232.774475</td>\n",
       "      <td>...</td>\n",
       "      <td>1.128737e-07</td>\n",
       "      <td>7.917299e-08</td>\n",
       "      <td>5.398434e-08</td>\n",
       "      <td>3.548851e-08</td>\n",
       "      <td>2.224610e-08</td>\n",
       "      <td>1.300308e-08</td>\n",
       "      <td>6.878514e-09</td>\n",
       "      <td>3.229363e-09</td>\n",
       "      <td>213.240280</td>\n",
       "      <td>0.012062</td>\n",
       "    </tr>\n",
       "    <tr>\n",
       "      <td>947</td>\n",
       "      <td>216.874481</td>\n",
       "      <td>214.906937</td>\n",
       "      <td>213.887650</td>\n",
       "      <td>213.031265</td>\n",
       "      <td>212.309860</td>\n",
       "      <td>211.645584</td>\n",
       "      <td>211.011169</td>\n",
       "      <td>210.393539</td>\n",
       "      <td>209.785507</td>\n",
       "      <td>209.182877</td>\n",
       "      <td>...</td>\n",
       "      <td>9.909298e-08</td>\n",
       "      <td>6.977644e-08</td>\n",
       "      <td>4.786463e-08</td>\n",
       "      <td>3.177496e-08</td>\n",
       "      <td>2.025528e-08</td>\n",
       "      <td>1.221471e-08</td>\n",
       "      <td>6.886896e-09</td>\n",
       "      <td>3.712471e-09</td>\n",
       "      <td>225.792419</td>\n",
       "      <td>198.389847</td>\n",
       "    </tr>\n",
       "    <tr>\n",
       "      <td>1597</td>\n",
       "      <td>241.196625</td>\n",
       "      <td>238.896896</td>\n",
       "      <td>237.777283</td>\n",
       "      <td>236.813354</td>\n",
       "      <td>236.002792</td>\n",
       "      <td>235.257309</td>\n",
       "      <td>234.545181</td>\n",
       "      <td>233.851822</td>\n",
       "      <td>233.169434</td>\n",
       "      <td>232.493591</td>\n",
       "      <td>...</td>\n",
       "      <td>1.098739e-07</td>\n",
       "      <td>7.731411e-08</td>\n",
       "      <td>5.297817e-08</td>\n",
       "      <td>3.510850e-08</td>\n",
       "      <td>2.231439e-08</td>\n",
       "      <td>1.338429e-08</td>\n",
       "      <td>7.467058e-09</td>\n",
       "      <td>3.941445e-09</td>\n",
       "      <td>250.426682</td>\n",
       "      <td>295.317322</td>\n",
       "    </tr>\n",
       "    <tr>\n",
       "      <td>796</td>\n",
       "      <td>207.484314</td>\n",
       "      <td>204.780289</td>\n",
       "      <td>203.582169</td>\n",
       "      <td>202.692368</td>\n",
       "      <td>201.976639</td>\n",
       "      <td>201.336029</td>\n",
       "      <td>200.732071</td>\n",
       "      <td>200.149246</td>\n",
       "      <td>199.579712</td>\n",
       "      <td>199.017899</td>\n",
       "      <td>...</td>\n",
       "      <td>1.140778e-07</td>\n",
       "      <td>8.023719e-08</td>\n",
       "      <td>5.494397e-08</td>\n",
       "      <td>3.637136e-08</td>\n",
       "      <td>2.307397e-08</td>\n",
       "      <td>1.379258e-08</td>\n",
       "      <td>7.642590e-09</td>\n",
       "      <td>3.978290e-09</td>\n",
       "      <td>227.795837</td>\n",
       "      <td>269.605591</td>\n",
       "    </tr>\n",
       "    <tr>\n",
       "      <td>...</td>\n",
       "      <td>...</td>\n",
       "      <td>...</td>\n",
       "      <td>...</td>\n",
       "      <td>...</td>\n",
       "      <td>...</td>\n",
       "      <td>...</td>\n",
       "      <td>...</td>\n",
       "      <td>...</td>\n",
       "      <td>...</td>\n",
       "      <td>...</td>\n",
       "      <td>...</td>\n",
       "      <td>...</td>\n",
       "      <td>...</td>\n",
       "      <td>...</td>\n",
       "      <td>...</td>\n",
       "      <td>...</td>\n",
       "      <td>...</td>\n",
       "      <td>...</td>\n",
       "      <td>...</td>\n",
       "      <td>...</td>\n",
       "      <td>...</td>\n",
       "    </tr>\n",
       "    <tr>\n",
       "      <td>2367</td>\n",
       "      <td>224.592056</td>\n",
       "      <td>223.346008</td>\n",
       "      <td>222.716980</td>\n",
       "      <td>222.106720</td>\n",
       "      <td>221.445450</td>\n",
       "      <td>220.883148</td>\n",
       "      <td>220.507385</td>\n",
       "      <td>220.321136</td>\n",
       "      <td>220.280884</td>\n",
       "      <td>220.250549</td>\n",
       "      <td>...</td>\n",
       "      <td>1.057399e-07</td>\n",
       "      <td>7.417903e-08</td>\n",
       "      <td>5.058973e-08</td>\n",
       "      <td>3.326830e-08</td>\n",
       "      <td>2.086671e-08</td>\n",
       "      <td>1.221058e-08</td>\n",
       "      <td>6.474892e-09</td>\n",
       "      <td>3.057445e-09</td>\n",
       "      <td>233.708832</td>\n",
       "      <td>288.046356</td>\n",
       "    </tr>\n",
       "    <tr>\n",
       "      <td>2402</td>\n",
       "      <td>234.081192</td>\n",
       "      <td>234.737106</td>\n",
       "      <td>234.917084</td>\n",
       "      <td>234.952621</td>\n",
       "      <td>234.750427</td>\n",
       "      <td>234.460007</td>\n",
       "      <td>234.019135</td>\n",
       "      <td>233.473419</td>\n",
       "      <td>232.881531</td>\n",
       "      <td>232.285049</td>\n",
       "      <td>...</td>\n",
       "      <td>1.108294e-07</td>\n",
       "      <td>7.773679e-08</td>\n",
       "      <td>5.300263e-08</td>\n",
       "      <td>3.484054e-08</td>\n",
       "      <td>2.183707e-08</td>\n",
       "      <td>1.276083e-08</td>\n",
       "      <td>6.746771e-09</td>\n",
       "      <td>3.163463e-09</td>\n",
       "      <td>230.459122</td>\n",
       "      <td>144.275665</td>\n",
       "    </tr>\n",
       "    <tr>\n",
       "      <td>2566</td>\n",
       "      <td>213.451904</td>\n",
       "      <td>213.359161</td>\n",
       "      <td>213.091934</td>\n",
       "      <td>212.746613</td>\n",
       "      <td>212.458176</td>\n",
       "      <td>212.465775</td>\n",
       "      <td>212.405548</td>\n",
       "      <td>212.221207</td>\n",
       "      <td>212.017975</td>\n",
       "      <td>211.811279</td>\n",
       "      <td>...</td>\n",
       "      <td>9.165409e-08</td>\n",
       "      <td>6.432975e-08</td>\n",
       "      <td>4.390695e-08</td>\n",
       "      <td>2.891066e-08</td>\n",
       "      <td>1.817380e-08</td>\n",
       "      <td>1.067962e-08</td>\n",
       "      <td>5.713860e-09</td>\n",
       "      <td>2.755153e-09</td>\n",
       "      <td>212.991272</td>\n",
       "      <td>192.625046</td>\n",
       "    </tr>\n",
       "    <tr>\n",
       "      <td>2104</td>\n",
       "      <td>243.931702</td>\n",
       "      <td>242.650589</td>\n",
       "      <td>241.837021</td>\n",
       "      <td>241.045166</td>\n",
       "      <td>240.332153</td>\n",
       "      <td>239.650070</td>\n",
       "      <td>238.981522</td>\n",
       "      <td>238.320923</td>\n",
       "      <td>237.664154</td>\n",
       "      <td>237.007462</td>\n",
       "      <td>...</td>\n",
       "      <td>9.035594e-08</td>\n",
       "      <td>6.344094e-08</td>\n",
       "      <td>4.332407e-08</td>\n",
       "      <td>2.855243e-08</td>\n",
       "      <td>1.797641e-08</td>\n",
       "      <td>1.059450e-08</td>\n",
       "      <td>5.703124e-09</td>\n",
       "      <td>2.788739e-09</td>\n",
       "      <td>248.171158</td>\n",
       "      <td>239.812378</td>\n",
       "    </tr>\n",
       "    <tr>\n",
       "      <td>2398</td>\n",
       "      <td>238.200089</td>\n",
       "      <td>238.154022</td>\n",
       "      <td>237.793121</td>\n",
       "      <td>237.192673</td>\n",
       "      <td>236.676910</td>\n",
       "      <td>236.091599</td>\n",
       "      <td>235.441956</td>\n",
       "      <td>234.799835</td>\n",
       "      <td>234.177948</td>\n",
       "      <td>233.573822</td>\n",
       "      <td>...</td>\n",
       "      <td>1.103995e-07</td>\n",
       "      <td>7.743618e-08</td>\n",
       "      <td>5.279870e-08</td>\n",
       "      <td>3.470760e-08</td>\n",
       "      <td>2.175495e-08</td>\n",
       "      <td>1.271419e-08</td>\n",
       "      <td>6.723634e-09</td>\n",
       "      <td>3.154332e-09</td>\n",
       "      <td>236.757645</td>\n",
       "      <td>176.133377</td>\n",
       "    </tr>\n",
       "  </tbody>\n",
       "</table>\n",
       "<p>1056 rows × 106 columns</p>\n",
       "</div>"
      ],
      "text/plain": [
       "             0           1           2           3           4           5    \\\n",
       "1717  211.333893  209.294159  208.497681  207.999847  207.627228  207.955780   \n",
       "2191  222.351089  225.838516  231.150864  233.391357  233.982513  234.055542   \n",
       "947   216.874481  214.906937  213.887650  213.031265  212.309860  211.645584   \n",
       "1597  241.196625  238.896896  237.777283  236.813354  236.002792  235.257309   \n",
       "796   207.484314  204.780289  203.582169  202.692368  201.976639  201.336029   \n",
       "...          ...         ...         ...         ...         ...         ...   \n",
       "2367  224.592056  223.346008  222.716980  222.106720  221.445450  220.883148   \n",
       "2402  234.081192  234.737106  234.917084  234.952621  234.750427  234.460007   \n",
       "2566  213.451904  213.359161  213.091934  212.746613  212.458176  212.465775   \n",
       "2104  243.931702  242.650589  241.837021  241.045166  240.332153  239.650070   \n",
       "2398  238.200089  238.154022  237.793121  237.192673  236.676910  236.091599   \n",
       "\n",
       "             6           7           8           9    ...           96   \\\n",
       "1717  211.211227  213.837769  215.327209  216.485275  ...  2.025997e-07   \n",
       "2191  233.872070  233.573471  233.205490  232.774475  ...  1.128737e-07   \n",
       "947   211.011169  210.393539  209.785507  209.182877  ...  9.909298e-08   \n",
       "1597  234.545181  233.851822  233.169434  232.493591  ...  1.098739e-07   \n",
       "796   200.732071  200.149246  199.579712  199.017899  ...  1.140778e-07   \n",
       "...          ...         ...         ...         ...  ...           ...   \n",
       "2367  220.507385  220.321136  220.280884  220.250549  ...  1.057399e-07   \n",
       "2402  234.019135  233.473419  232.881531  232.285049  ...  1.108294e-07   \n",
       "2566  212.405548  212.221207  212.017975  211.811279  ...  9.165409e-08   \n",
       "2104  238.981522  238.320923  237.664154  237.007462  ...  9.035594e-08   \n",
       "2398  235.441956  234.799835  234.177948  233.573822  ...  1.103995e-07   \n",
       "\n",
       "               97            98            99            100           101  \\\n",
       "1717  1.421401e-07  9.695122e-08  6.376942e-08  4.001233e-08  2.343021e-08   \n",
       "2191  7.917299e-08  5.398434e-08  3.548851e-08  2.224610e-08  1.300308e-08   \n",
       "947   6.977644e-08  4.786463e-08  3.177496e-08  2.025528e-08  1.221471e-08   \n",
       "1597  7.731411e-08  5.297817e-08  3.510850e-08  2.231439e-08  1.338429e-08   \n",
       "796   8.023719e-08  5.494397e-08  3.637136e-08  2.307397e-08  1.379258e-08   \n",
       "...            ...           ...           ...           ...           ...   \n",
       "2367  7.417903e-08  5.058973e-08  3.326830e-08  2.086671e-08  1.221058e-08   \n",
       "2402  7.773679e-08  5.300263e-08  3.484054e-08  2.183707e-08  1.276083e-08   \n",
       "2566  6.432975e-08  4.390695e-08  2.891066e-08  1.817380e-08  1.067962e-08   \n",
       "2104  6.344094e-08  4.332407e-08  2.855243e-08  1.797641e-08  1.059450e-08   \n",
       "2398  7.743618e-08  5.279870e-08  3.470760e-08  2.175495e-08  1.271419e-08   \n",
       "\n",
       "               102           103         104         105  \n",
       "1717  1.244264e-08  5.896011e-09  227.536835  303.106079  \n",
       "2191  6.878514e-09  3.229363e-09  213.240280    0.012062  \n",
       "947   6.886896e-09  3.712471e-09  225.792419  198.389847  \n",
       "1597  7.467058e-09  3.941445e-09  250.426682  295.317322  \n",
       "796   7.642590e-09  3.978290e-09  227.795837  269.605591  \n",
       "...            ...           ...         ...         ...  \n",
       "2367  6.474892e-09  3.057445e-09  233.708832  288.046356  \n",
       "2402  6.746771e-09  3.163463e-09  230.459122  144.275665  \n",
       "2566  5.713860e-09  2.755153e-09  212.991272  192.625046  \n",
       "2104  5.703124e-09  2.788739e-09  248.171158  239.812378  \n",
       "2398  6.723634e-09  3.154332e-09  236.757645  176.133377  \n",
       "\n",
       "[1056 rows x 106 columns]"
      ]
     },
     "execution_count": 57,
     "metadata": {},
     "output_type": "execute_result"
    }
   ],
   "source": [
    "train_in"
   ]
  },
  {
   "cell_type": "markdown",
   "metadata": {},
   "source": [
    "Let's try linear regression"
   ]
  },
  {
   "cell_type": "code",
   "execution_count": 58,
   "metadata": {},
   "outputs": [
    {
     "data": {
      "text/plain": [
       "LinearRegression(copy_X=True, fit_intercept=True, n_jobs=None, normalize=False)"
      ]
     },
     "execution_count": 58,
     "metadata": {},
     "output_type": "execute_result"
    }
   ],
   "source": [
    "from sklearn.linear_model import LinearRegression\n",
    "\n",
    "lin_reg = LinearRegression()\n",
    "lin_reg.fit(train_in, train_out)"
   ]
  },
  {
   "cell_type": "code",
   "execution_count": 59,
   "metadata": {},
   "outputs": [
    {
     "data": {
      "text/plain": [
       "3.3039374"
      ]
     },
     "execution_count": 59,
     "metadata": {},
     "output_type": "execute_result"
    }
   ],
   "source": [
    "from sklearn.metrics import mean_squared_error\n",
    "\n",
    "train_pred = lin_reg.predict(train_in) #prediction\n",
    "lin_mse = mean_squared_error(train_out, train_pred)\n",
    "lin_rmse = np.sqrt(lin_mse)\n",
    "lin_rmse "
   ]
  },
  {
   "cell_type": "code",
   "execution_count": 34,
   "metadata": {},
   "outputs": [
    {
     "data": {
      "text/plain": [
       "(1056, 106)"
      ]
     },
     "execution_count": 34,
     "metadata": {},
     "output_type": "execute_result"
    }
   ],
   "source": [
    "train_in.shape"
   ]
  },
  {
   "cell_type": "code",
   "execution_count": 35,
   "metadata": {},
   "outputs": [
    {
     "data": {
      "text/plain": [
       "(1056,)"
      ]
     },
     "execution_count": 35,
     "metadata": {},
     "output_type": "execute_result"
    }
   ],
   "source": [
    "train_pred.shape"
   ]
  },
  {
   "cell_type": "code",
   "execution_count": 36,
   "metadata": {},
   "outputs": [
    {
     "data": {
      "text/plain": [
       "array([153.68726   ,  -0.74438477, 184.781     , ..., 127.8064    ,\n",
       "       188.54858   , 119.15405   ], dtype=float32)"
      ]
     },
     "execution_count": 36,
     "metadata": {},
     "output_type": "execute_result"
    }
   ],
   "source": [
    "train_pred"
   ]
  },
  {
   "cell_type": "code",
   "execution_count": 37,
   "metadata": {},
   "outputs": [],
   "source": [
    "train_out = np.array(train_out)"
   ]
  },
  {
   "cell_type": "code",
   "execution_count": 38,
   "metadata": {},
   "outputs": [
    {
     "data": {
      "text/plain": [
       "(1056,)"
      ]
     },
     "execution_count": 38,
     "metadata": {},
     "output_type": "execute_result"
    }
   ],
   "source": [
    "train_out.shape"
   ]
  },
  {
   "cell_type": "code",
   "execution_count": 39,
   "metadata": {},
   "outputs": [
    {
     "data": {
      "text/plain": [
       "163.42937"
      ]
     },
     "execution_count": 39,
     "metadata": {},
     "output_type": "execute_result"
    }
   ],
   "source": [
    "np.average(train_pred)"
   ]
  },
  {
   "cell_type": "code",
   "execution_count": 40,
   "metadata": {},
   "outputs": [],
   "source": [
    "pred_contour = np.full((36, 72), np.nan)\n",
    "lat_list = []\n",
    "long_list = []\n",
    "for i in range(len(indices)):\n",
    "    lat_point = indices[i]//72\n",
    "    long_point = indices[i]%72\n",
    "    lat_list.append(lat_point)\n",
    "    long_list.append(long_point)\n",
    "    pred_contour[lat_point][long_point] = train_pred[i]\n",
    "lat_list = np.array(lat_list)\n",
    "long_list = np.array(long_list)\n",
    "\n",
    "out_contour = np.full((36, 72), np.nan)\n",
    "for i in range(len(indices)):\n",
    "    lat_point = indices[i]//72\n",
    "    long_point = indices[i]%72\n",
    "    out_contour[lat_point][long_point] = train_out[i]    "
   ]
  },
  {
   "cell_type": "code",
   "execution_count": 41,
   "metadata": {},
   "outputs": [
    {
     "data": {
      "image/png": "[encoded data removed]",
      "text/plain": [
       "<Figure size 432x288 with 2 Axes>"
      ]
     },
     "metadata": {
      "needs_background": "light"
     },
     "output_type": "display_data"
    },
    {
     "data": {
      "text/plain": [
       "<Figure size 432x288 with 0 Axes>"
      ]
     },
     "metadata": {},
     "output_type": "display_data"
    }
   ],
   "source": [
    "plt.contourf(out_contour)\n",
    "plt.colorbar()\n",
    "plt.title(\"Actual Bottom Solar Flux4\")\n",
    "plt.xlabel(\"longtitude\")\n",
    "plt.ylabel(\"Latitude\")\n",
    "plt.show()\n",
    "plt.savefig(\"Actual\")"
   ]
  },
  {
   "cell_type": "code",
   "execution_count": 42,
   "metadata": {},
   "outputs": [
    {
     "data": {
      "image/png": "[encoded data removed]",
      "text/plain": [
       "<Figure size 432x288 with 2 Axes>"
      ]
     },
     "metadata": {
      "needs_background": "light"
     },
     "output_type": "display_data"
    },
    {
     "data": {
      "text/plain": [
       "<Figure size 432x288 with 0 Axes>"
      ]
     },
     "metadata": {},
     "output_type": "display_data"
    }
   ],
   "source": [
    "plt.contourf(pred_contour)\n",
    "plt.colorbar()\n",
    "plt.title(\"Predicted Bottom Solar Flux4\")\n",
    "plt.xlabel(\"longtitude\")\n",
    "plt.ylabel(\"Latitude\")\n",
    "plt.show()\n",
    "plt.savefig(\"Predicted\")"
   ]
  },
  {
   "cell_type": "code",
   "execution_count": 43,
   "metadata": {},
   "outputs": [
    {
     "data": {
      "image/png": "[encoded data removed]",
      "text/plain": [
       "<Figure size 432x288 with 2 Axes>"
      ]
     },
     "metadata": {
      "needs_background": "light"
     },
     "output_type": "display_data"
    }
   ],
   "source": [
    "plt.contourf(pred_contour - out_contour)\n",
    "plt.colorbar()\n",
    "plt.title(\"Difference4\")\n",
    "plt.xlabel(\"longtitude\")\n",
    "plt.ylabel(\"Latitude\")\n",
    "plt.show()"
   ]
  },
  {
   "cell_type": "code",
   "execution_count": 44,
   "metadata": {},
   "outputs": [
    {
     "data": {
      "image/png": "[encoded data removed]",
      "text/plain": [
       "<Figure size 432x288 with 2 Axes>"
      ]
     },
     "metadata": {
      "needs_background": "light"
     },
     "output_type": "display_data"
    }
   ],
   "source": [
    "plt.contourf((pred_contour - out_contour)/out_contour)\n",
    "plt.colorbar()\n",
    "plt.title(\"Relative Difference4\")\n",
    "plt.xlabel(\"longtitude\")\n",
    "plt.ylabel(\"Latitude\")\n",
    "plt.show()"
   ]
  },
  {
   "cell_type": "code",
   "execution_count": null,
   "metadata": {},
   "outputs": [],
   "source": [
    "e_rem0"
   ]
  },
  {
   "cell_type": "code",
   "execution_count": null,
   "metadata": {},
   "outputs": [],
   "source": [
    "indices"
   ]
  },
  {
   "cell_type": "markdown",
   "metadata": {},
   "source": [
    "See full unmodified latitude-longtitude map:"
   ]
  },
  {
   "cell_type": "code",
   "execution_count": null,
   "metadata": {},
   "outputs": [],
   "source": [
    "f_index = np.array(e_d.index)\n",
    "f_index"
   ]
  },
  {
   "cell_type": "code",
   "execution_count": null,
   "metadata": {},
   "outputs": [],
   "source": [
    "full_out = np.full((36, 72), np.nan)\n",
    "for i in range(len(f_index)):\n",
    "    lat_point = f_index[i]//72\n",
    "    long_point = f_index[i]%72\n",
    "    full_out[lat_point][long_point] = e_d.iloc[:,106][i\n",
    "                                                     ]   "
   ]
  },
  {
   "cell_type": "code",
   "execution_count": null,
   "metadata": {},
   "outputs": [],
   "source": [
    "plt.contourf(full_out)\n",
    "plt.colorbar()\n",
    "plt.title(\"Full Bottom Solar Flux Map\")\n",
    "plt.xlabel(\"longtitude\")\n",
    "plt.ylabel(\"Latitude\")\n",
    "plt.show()\n",
    "plt.savefig(\"Full\")"
   ]
  },
  {
   "cell_type": "code",
   "execution_count": null,
   "metadata": {},
   "outputs": [],
   "source": []
  }
 ],
 "metadata": {
  "kernelspec": {
   "display_name": "Python 3",
   "language": "python",
   "name": "python3"
  },
  "language_info": {
   "codemirror_mode": {
    "name": "ipython",
    "version": 3
   },
   "file_extension": ".py",
   "mimetype": "text/x-python",
   "name": "python",
   "nbconvert_exporter": "python",
   "pygments_lexer": "ipython3",
   "version": "3.7.4"
  }
 },
 "nbformat": 4,
 "nbformat_minor": 2
}
