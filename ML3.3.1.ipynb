{
 "cells": [
  {
   "cell_type": "markdown",
   "metadata": {},
   "source": [
    "Predicting UP IR flux, large errors from rough calculation"
   ]
  },
  {
   "cell_type": "code",
   "execution_count": 1,
   "metadata": {},
   "outputs": [],
   "source": [
    "import xarray as xr\n",
    "import matplotlib.pyplot as plt\n",
    "import numpy as np\n",
    "import pandas as pd"
   ]
  },
  {
   "cell_type": "code",
   "execution_count": 2,
   "metadata": {},
   "outputs": [],
   "source": [
    "DS_a = xr.open_dataset('af') #dataset of auxhist\n",
    "DS_w = xr.open_dataset('wf') #dataset of wrfout"
   ]
  },
  {
   "cell_type": "code",
   "execution_count": 3,
   "metadata": {},
   "outputs": [
    {
     "data": {
      "text/plain": [
       "(71, 52, 36, 72)"
      ]
     },
     "execution_count": 3,
     "metadata": {},
     "output_type": "execute_result"
    }
   ],
   "source": [
    "#Temperature:\n",
    "T = (DS_w.T.values + DS_w.T0) * ((DS_w.P.values + DS_w.PB.values)/DS_w.P0)**(DS_w.R_D/DS_w.CP)\n",
    "T.shape"
   ]
  },
  {
   "cell_type": "code",
   "execution_count": 4,
   "metadata": {},
   "outputs": [
    {
     "data": {
      "text/plain": [
       "array([242.71082 , 237.8069  , 236.24007 , 235.12848 , 234.2799  ,\n",
       "       233.52779 , 232.82172 , 232.14073 , 231.47406 , 230.81564 ,\n",
       "       229.99742 , 229.01949 , 228.03973 , 227.05513 , 225.73048 ,\n",
       "       224.05423 , 220.9039  , 215.62561 , 209.97517 , 208.85222 ,\n",
       "       206.90262 , 204.41917 , 200.12592 , 195.17355 , 189.94121 ,\n",
       "       186.28903 , 183.58492 , 180.31416 , 176.13753 , 171.68274 ,\n",
       "       167.32304 , 163.81029 , 160.24342 , 155.59138 , 150.58986 ,\n",
       "       146.3529  , 142.94057 , 139.79279 , 136.59853 , 133.4877  ,\n",
       "       131.82347 , 138.27815 , 160.04852 , 173.36342 , 169.7645  ,\n",
       "       162.5508  , 155.04514 , 147.05397 , 139.96574 , 138.28108 ,\n",
       "       119.210464, 138.57014 ], dtype=float32)"
      ]
     },
     "execution_count": 4,
     "metadata": {},
     "output_type": "execute_result"
    }
   ],
   "source": [
    "T[5,:,18,0] #temperature goes from lowest hieght to highest hieght"
   ]
  },
  {
   "cell_type": "code",
   "execution_count": 5,
   "metadata": {},
   "outputs": [
    {
     "data": {
      "text/plain": [
       "(71, 36, 72)"
      ]
     },
     "execution_count": 5,
     "metadata": {},
     "output_type": "execute_result"
    }
   ],
   "source": [
    "st = DS_w.TSK.values #surface temp\n",
    "st.shape"
   ]
  },
  {
   "cell_type": "code",
   "execution_count": 6,
   "metadata": {},
   "outputs": [
    {
     "data": {
      "text/plain": [
       "(71, 52, 36, 72)"
      ]
     },
     "execution_count": 6,
     "metadata": {},
     "output_type": "execute_result"
    }
   ],
   "source": [
    "d_c = DS_w.TAU_OD.values #dust optical depth\n",
    "d_c.shape "
   ]
  },
  {
   "cell_type": "code",
   "execution_count": 7,
   "metadata": {},
   "outputs": [
    {
     "data": {
      "text/plain": [
       "(71, 36, 72)"
      ]
     },
     "execution_count": 7,
     "metadata": {},
     "output_type": "execute_result"
    }
   ],
   "source": [
    "d_c2 = DS_w.TAU_OD2D.values\n",
    "d_c2.shape"
   ]
  },
  {
   "cell_type": "code",
   "execution_count": 8,
   "metadata": {},
   "outputs": [
    {
     "data": {
      "text/plain": [
       "(71, 36, 72)"
      ]
     },
     "execution_count": 8,
     "metadata": {},
     "output_type": "execute_result"
    }
   ],
   "source": [
    "em = DS_w.EMISS.values #emissivity\n",
    "em.shape "
   ]
  },
  {
   "cell_type": "code",
   "execution_count": 9,
   "metadata": {},
   "outputs": [
    {
     "data": {
      "text/plain": [
       "(181440,)"
      ]
     },
     "execution_count": 9,
     "metadata": {},
     "output_type": "execute_result"
    }
   ],
   "source": [
    "uif = DS_a.UPIRFLUX.values[1:,10,:,:]\n",
    "uif.reshape(-1).shape"
   ]
  },
  {
   "cell_type": "code",
   "execution_count": 10,
   "metadata": {},
   "outputs": [],
   "source": [
    "sla = [] #special layer arrays that are the feature vectors in the linear regression model\n",
    "sla.append((em*st**4).reshape(-1)) #don't have overall opacity, will deal with this issue later\n",
    "for i in range(10): #am I supposed to include the current layer?\n",
    "    sla.append((np.exp(-d_c[:,i,:,:])*T[:,i,:,:]**4).reshape(-1))\n",
    "sla = np.array(sla)\n",
    "sla = sla.T[2592:,:] #take transpose, remove first day of data (all lwr are 0 there)\n"
   ]
  },
  {
   "cell_type": "code",
   "execution_count": 11,
   "metadata": {},
   "outputs": [
    {
     "data": {
      "text/plain": [
       "(181440, 11)"
      ]
     },
     "execution_count": 11,
     "metadata": {},
     "output_type": "execute_result"
    }
   ],
   "source": [
    "sla.shape"
   ]
  },
  {
   "cell_type": "markdown",
   "metadata": {},
   "source": [
    "# Trying linear regression first"
   ]
  },
  {
   "cell_type": "code",
   "execution_count": 12,
   "metadata": {},
   "outputs": [],
   "source": [
    "from sklearn.linear_model import LinearRegression\n",
    "uif_out = uif.reshape(-1)\n",
    "lr1 = LinearRegression()\n",
    "lr1.fit(sla,uif_out)\n",
    "uif_lin = lr1.predict(sla) #predicted"
   ]
  },
  {
   "cell_type": "code",
   "execution_count": 13,
   "metadata": {},
   "outputs": [
    {
     "data": {
      "text/plain": [
       "array([ 3.3482369e-08,  3.7192294e-08, -1.9129619e-08,  1.9267823e-09,\n",
       "       -2.0139463e-09,  6.5125523e-09, -2.9644465e-10, -1.9320181e-09,\n",
       "       -4.9289071e-09,  1.3032913e-08, -3.7556447e-09], dtype=float32)"
      ]
     },
     "execution_count": 13,
     "metadata": {},
     "output_type": "execute_result"
    }
   ],
   "source": [
    "lr1.coef_"
   ]
  },
  {
   "cell_type": "code",
   "execution_count": 14,
   "metadata": {},
   "outputs": [
    {
     "data": {
      "text/plain": [
       "8.049904"
      ]
     },
     "execution_count": 14,
     "metadata": {},
     "output_type": "execute_result"
    }
   ],
   "source": [
    "from sklearn.metrics import mean_squared_error\n",
    "\n",
    "lin_mse = mean_squared_error(uif_out, uif_lin)\n",
    "lin_rmse = np.sqrt(lin_mse)\n",
    "lin_rmse "
   ]
  },
  {
   "cell_type": "code",
   "execution_count": 15,
   "metadata": {},
   "outputs": [
    {
     "data": {
      "text/plain": [
       "15.638899"
      ]
     },
     "execution_count": 15,
     "metadata": {},
     "output_type": "execute_result"
    }
   ],
   "source": [
    "np.min(uif_out)"
   ]
  },
  {
   "cell_type": "code",
   "execution_count": 16,
   "metadata": {},
   "outputs": [
    {
     "data": {
      "text/plain": [
       "412.3086"
      ]
     },
     "execution_count": 16,
     "metadata": {},
     "output_type": "execute_result"
    }
   ],
   "source": [
    "np.max(uif_out)"
   ]
  },
  {
   "cell_type": "code",
   "execution_count": 17,
   "metadata": {},
   "outputs": [],
   "source": [
    "uif_diff = uif_out - uif_lin"
   ]
  },
  {
   "cell_type": "code",
   "execution_count": 18,
   "metadata": {},
   "outputs": [
    {
     "data": {
      "text/plain": [
       "(array([92295], dtype=int64),)"
      ]
     },
     "execution_count": 18,
     "metadata": {},
     "output_type": "execute_result"
    }
   ],
   "source": [
    "np.where(uif_diff == np.min(uif_diff))"
   ]
  },
  {
   "cell_type": "code",
   "execution_count": 19,
   "metadata": {},
   "outputs": [
    {
     "data": {
      "text/plain": [
       "147.35765"
      ]
     },
     "execution_count": 19,
     "metadata": {},
     "output_type": "execute_result"
    }
   ],
   "source": [
    "uif_out[92295]"
   ]
  },
  {
   "cell_type": "code",
   "execution_count": 20,
   "metadata": {},
   "outputs": [
    {
     "data": {
      "text/plain": [
       "181.40085"
      ]
     },
     "execution_count": 20,
     "metadata": {},
     "output_type": "execute_result"
    }
   ],
   "source": [
    "uif_lin[92295] #some pretty big differences..."
   ]
  },
  {
   "cell_type": "code",
   "execution_count": 21,
   "metadata": {},
   "outputs": [
    {
     "data": {
      "text/plain": [
       "(array([  1521,   4113,   6705,  37809,  40401,  42993,  45585,  48177,\n",
       "         50769,  53361,  55953,  58545,  61137,  63729,  66321,  68913,\n",
       "         71505,  74097,  76689,  79281,  81873,  84465,  87057,  89649,\n",
       "         92241,  94833,  97425, 100017, 102609, 105201, 107793, 110385,\n",
       "        149265, 151857, 154449, 157041, 159633, 162225, 164817, 167409,\n",
       "        170001, 172593, 175185, 177777, 180369], dtype=int64),)"
      ]
     },
     "execution_count": 21,
     "metadata": {},
     "output_type": "execute_result"
    }
   ],
   "source": [
    "np.where(uif_diff > 50)"
   ]
  },
  {
   "cell_type": "code",
   "execution_count": 22,
   "metadata": {},
   "outputs": [
    {
     "data": {
      "text/plain": [
       "<function matplotlib.pyplot.show(*args, **kw)>"
      ]
     },
     "execution_count": 22,
     "metadata": {},
     "output_type": "execute_result"
    },
    {
     "data": {
      "image/png": "[encoded data removed]",
      "text/plain": [
       "<Figure size 432x288 with 1 Axes>"
      ]
     },
     "metadata": {
      "needs_background": "light"
     },
     "output_type": "display_data"
    }
   ],
   "source": [
    "plt.hist(uif_diff, bins = 100)\n",
    "plt.title(\"Linear regressor difference\")\n",
    "plt.show #some variance..."
   ]
  },
  {
   "cell_type": "code",
   "execution_count": 23,
   "metadata": {},
   "outputs": [
    {
     "data": {
      "text/plain": [
       "(181440, 1)"
      ]
     },
     "execution_count": 23,
     "metadata": {},
     "output_type": "execute_result"
    }
   ],
   "source": [
    "uif_out.reshape(-1,1).shape"
   ]
  },
  {
   "cell_type": "code",
   "execution_count": 24,
   "metadata": {},
   "outputs": [
    {
     "data": {
      "text/plain": [
       "(25920, 11)"
      ]
     },
     "execution_count": 24,
     "metadata": {},
     "output_type": "execute_result"
    }
   ],
   "source": [
    "sla[:10*36*72,:].shape"
   ]
  },
  {
   "cell_type": "code",
   "execution_count": 25,
   "metadata": {},
   "outputs": [
    {
     "data": {
      "text/plain": [
       "array([[3.2982371e+08, 4.3012157e+08, 4.3130067e+08, ..., 4.1856477e+08,\n",
       "        4.1672803e+08, 4.1619171e+08],\n",
       "       [3.2989165e+08, 4.3018813e+08, 4.3141155e+08, ..., 4.1880646e+08,\n",
       "        4.1679670e+08, 4.1624694e+08],\n",
       "       [3.2991754e+08, 4.3020230e+08, 4.3146352e+08, ..., 4.1902653e+08,\n",
       "        4.1692646e+08, 4.1626794e+08],\n",
       "       ...,\n",
       "       [1.7091520e+09, 1.5555758e+09, 1.5599835e+09, ..., 1.5650232e+09,\n",
       "        1.5602460e+09, 1.5549108e+09],\n",
       "       [1.7200332e+09, 1.5640590e+09, 1.5681286e+09, ..., 1.5672682e+09,\n",
       "        1.5620808e+09, 1.5563699e+09],\n",
       "       [1.7308575e+09, 1.5723578e+09, 1.5760733e+09, ..., 1.5693187e+09,\n",
       "        1.5637396e+09, 1.5576774e+09]], dtype=float32)"
      ]
     },
     "execution_count": 25,
     "metadata": {},
     "output_type": "execute_result"
    }
   ],
   "source": [
    "sla[10*36*72:11*36*72,:]"
   ]
  },
  {
   "cell_type": "code",
   "execution_count": 26,
   "metadata": {},
   "outputs": [],
   "source": [
    "real_out = uif_out[10*36*72:11*36*72].reshape(36,72)\n",
    "pred_out = uif_lin[10*36*72:11*36*72].reshape(36,72)"
   ]
  },
  {
   "cell_type": "code",
   "execution_count": 27,
   "metadata": {},
   "outputs": [
    {
     "data": {
      "image/png": "[encoded data removed]",
      "text/plain": [
       "<Figure size 432x288 with 2 Axes>"
      ]
     },
     "metadata": {
      "needs_background": "light"
     },
     "output_type": "display_data"
    }
   ],
   "source": [
    "plt.contourf(real_out)\n",
    "plt.colorbar()\n",
    "plt.title(\"Actual UPIRFLUX (Lin Reg)\")\n",
    "plt.xlabel(\"Longtitude\")\n",
    "plt.ylabel(\"Latitude\")\n",
    "plt.show()"
   ]
  },
  {
   "cell_type": "code",
   "execution_count": 28,
   "metadata": {},
   "outputs": [
    {
     "data": {
      "image/png": "[encoded data removed]",
      "text/plain": [
       "<Figure size 432x288 with 2 Axes>"
      ]
     },
     "metadata": {
      "needs_background": "light"
     },
     "output_type": "display_data"
    }
   ],
   "source": [
    "plt.contourf(pred_out)\n",
    "plt.colorbar()\n",
    "plt.title(\"Predicted UPIRFLUX (Lin Reg)\")\n",
    "plt.xlabel(\"Longtitude\")\n",
    "plt.ylabel(\"Latitude\")\n",
    "plt.show()"
   ]
  },
  {
   "cell_type": "code",
   "execution_count": 29,
   "metadata": {},
   "outputs": [
    {
     "data": {
      "image/png": "[encoded data removed]",
      "text/plain": [
       "<Figure size 432x288 with 2 Axes>"
      ]
     },
     "metadata": {
      "needs_background": "light"
     },
     "output_type": "display_data"
    }
   ],
   "source": [
    "plt.contourf(real_out - pred_out)\n",
    "plt.colorbar()\n",
    "plt.title(\"Difference UPIRFLUX (Lin Reg)\")\n",
    "plt.xlabel(\"Longtitude\")\n",
    "plt.ylabel(\"Latitude\")\n",
    "plt.show()"
   ]
  },
  {
   "cell_type": "code",
   "execution_count": 30,
   "metadata": {},
   "outputs": [
    {
     "data": {
      "image/png": "[encoded data removed]",
      "text/plain": [
       "<Figure size 432x288 with 2 Axes>"
      ]
     },
     "metadata": {
      "needs_background": "light"
     },
     "output_type": "display_data"
    }
   ],
   "source": [
    "plt.contourf((real_out - pred_out)/real_out)\n",
    "plt.colorbar()\n",
    "plt.title(\"Relative Difference UPIRFLUX (Lin Reg)\")\n",
    "plt.xlabel(\"Longtitude\")\n",
    "plt.ylabel(\"Latitude\")\n",
    "plt.show()"
   ]
  },
  {
   "cell_type": "markdown",
   "metadata": {},
   "source": [
    "# Let's try random forest regressor:"
   ]
  },
  {
   "cell_type": "code",
   "execution_count": 31,
   "metadata": {},
   "outputs": [
    {
     "name": "stderr",
     "output_type": "stream",
     "text": [
      "C:\\Users\\andre\\Anaconda3\\lib\\site-packages\\sklearn\\ensemble\\forest.py:245: FutureWarning: The default value of n_estimators will change from 10 in version 0.20 to 100 in 0.22.\n",
      "  \"10 in version 0.20 to 100 in 0.22.\", FutureWarning)\n"
     ]
    },
    {
     "data": {
      "text/plain": [
       "3.8441431117485183"
      ]
     },
     "execution_count": 31,
     "metadata": {},
     "output_type": "execute_result"
    }
   ],
   "source": [
    "from sklearn.ensemble import RandomForestRegressor\n",
    "from sklearn.model_selection import train_test_split\n",
    "\n",
    "rfr1 = RandomForestRegressor()\n",
    "rfr1.fit(sla[:10*36*72,:],uif_out[:10*36*72]) #training set\n",
    "uif_rfr = rfr1.predict(sla[10*36*72:11*36*72,:]) \n",
    "\n",
    "rfr_mse = mean_squared_error(uif_out[10*36*72:11*36*72], uif_rfr) #test the model on a single day\n",
    "rfr_rmse = np.sqrt(rfr_mse)\n",
    "rfr_rmse "
   ]
  },
  {
   "cell_type": "code",
   "execution_count": 32,
   "metadata": {},
   "outputs": [],
   "source": [
    "rfr_diff = uif_out[10*36*72:11*36*72] - uif_rfr"
   ]
  },
  {
   "cell_type": "code",
   "execution_count": 33,
   "metadata": {},
   "outputs": [
    {
     "data": {
      "text/plain": [
       "<function matplotlib.pyplot.show(*args, **kw)>"
      ]
     },
     "execution_count": 33,
     "metadata": {},
     "output_type": "execute_result"
    },
    {
     "data": {
      "image/png": "[encoded data removed]",
      "text/plain": [
       "<Figure size 432x288 with 1 Axes>"
      ]
     },
     "metadata": {
      "needs_background": "light"
     },
     "output_type": "display_data"
    }
   ],
   "source": [
    "plt.hist(rfr_diff, bins = 100)\n",
    "plt.title(\"Random Forest Regressor Difference\")\n",
    "plt.show #wow, much better!"
   ]
  },
  {
   "cell_type": "code",
   "execution_count": 34,
   "metadata": {},
   "outputs": [],
   "source": [
    "real_out = uif_out[10*36*72:11*36*72].reshape(36,72)\n",
    "pred_out = uif_rfr.reshape(36,72)"
   ]
  },
  {
   "cell_type": "code",
   "execution_count": 35,
   "metadata": {},
   "outputs": [
    {
     "data": {
      "text/plain": [
       "275.87045"
      ]
     },
     "execution_count": 35,
     "metadata": {},
     "output_type": "execute_result"
    }
   ],
   "source": [
    "np.max(uif_out[10*36*72:11*36*72])"
   ]
  },
  {
   "cell_type": "code",
   "execution_count": 36,
   "metadata": {},
   "outputs": [
    {
     "data": {
      "text/plain": [
       "True"
      ]
     },
     "execution_count": 36,
     "metadata": {},
     "output_type": "execute_result"
    }
   ],
   "source": [
    "np.array_equal(uif_rfr,pred_out.reshape(-1))"
   ]
  },
  {
   "cell_type": "code",
   "execution_count": 37,
   "metadata": {},
   "outputs": [
    {
     "data": {
      "text/plain": [
       "(36, 72)"
      ]
     },
     "execution_count": 37,
     "metadata": {},
     "output_type": "execute_result"
    }
   ],
   "source": [
    "real_out.shape"
   ]
  },
  {
   "cell_type": "code",
   "execution_count": 38,
   "metadata": {},
   "outputs": [
    {
     "data": {
      "image/png": "[encoded data removed]",
      "text/plain": [
       "<Figure size 432x288 with 2 Axes>"
      ]
     },
     "metadata": {
      "needs_background": "light"
     },
     "output_type": "display_data"
    }
   ],
   "source": [
    "plt.contourf(real_out)\n",
    "plt.colorbar()\n",
    "plt.title(\"Actual UPIRFLUX (Random Forest)\")\n",
    "plt.xlabel(\"Longtitude\")\n",
    "plt.ylabel(\"Latitude\")\n",
    "plt.show()"
   ]
  },
  {
   "cell_type": "code",
   "execution_count": 39,
   "metadata": {},
   "outputs": [
    {
     "data": {
      "image/png": "[encoded data removed]",
      "text/plain": [
       "<Figure size 432x288 with 2 Axes>"
      ]
     },
     "metadata": {
      "needs_background": "light"
     },
     "output_type": "display_data"
    }
   ],
   "source": [
    "plt.contourf(pred_out)\n",
    "plt.colorbar()\n",
    "plt.title(\"Predicted UPIRFLUX (Random Forest)\")\n",
    "plt.xlabel(\"Longtitude\")\n",
    "plt.ylabel(\"Latitude\")\n",
    "plt.show()"
   ]
  },
  {
   "cell_type": "code",
   "execution_count": 40,
   "metadata": {},
   "outputs": [
    {
     "data": {
      "image/png": "[encoded data removed]",
      "text/plain": [
       "<Figure size 432x288 with 2 Axes>"
      ]
     },
     "metadata": {
      "needs_background": "light"
     },
     "output_type": "display_data"
    }
   ],
   "source": [
    "plt.contourf(real_out - pred_out)\n",
    "plt.colorbar()\n",
    "plt.title(\"Difference UPIRFLUX (Random Forest)\")\n",
    "plt.xlabel(\"Longtitude\")\n",
    "plt.ylabel(\"Latitude\")\n",
    "plt.show()"
   ]
  },
  {
   "cell_type": "code",
   "execution_count": 41,
   "metadata": {},
   "outputs": [
    {
     "data": {
      "image/png": "[encoded data removed]",
      "text/plain": [
       "<Figure size 432x288 with 2 Axes>"
      ]
     },
     "metadata": {
      "needs_background": "light"
     },
     "output_type": "display_data"
    }
   ],
   "source": [
    "plt.contourf((real_out - pred_out)/real_out)\n",
    "plt.colorbar()\n",
    "plt.title(\"Relative Difference UPIRFLUX (Random Forest)\")\n",
    "plt.xlabel(\"Longtitude\")\n",
    "plt.ylabel(\"Latitude\")\n",
    "plt.show()"
   ]
  },
  {
   "cell_type": "markdown",
   "metadata": {},
   "source": [
    "## Getting the integrals of flux error (and then getting average erroneusly added flux)"
   ]
  },
  {
   "cell_type": "code",
   "execution_count": 42,
   "metadata": {},
   "outputs": [],
   "source": [
    "def int_err(pred, real, real_in, r): \n",
    "    areas = []\n",
    "    for i in range(len(real)):\n",
    "        dA =  -r**2 * np.sin((np.pi/36)*((real_in.index[i]//72)%36)) * (np.pi/36) * (np.pi/36)  #area increment\n",
    "        areas.append(dA)\n",
    "    areas = np.array(areas)\n",
    "    return np.sum((np.array(pred) - np.array(real))*areas)"
   ]
  },
  {
   "cell_type": "code",
   "execution_count": 43,
   "metadata": {},
   "outputs": [
    {
     "data": {
      "text/plain": [
       "(36, 72)"
      ]
     },
     "execution_count": 43,
     "metadata": {},
     "output_type": "execute_result"
    }
   ],
   "source": [
    "real_out.shape"
   ]
  },
  {
   "cell_type": "code",
   "execution_count": 44,
   "metadata": {},
   "outputs": [
    {
     "name": "stdout",
     "output_type": "stream",
     "text": [
      "Random forest integration error:\n"
     ]
    },
    {
     "data": {
      "text/plain": [
       "-0.4002368705905593"
      ]
     },
     "execution_count": 44,
     "metadata": {},
     "output_type": "execute_result"
    }
   ],
   "source": [
    "rfr_int_err = int_err(uif_rfr, uif_out[10*36*72:11*36*72], pd.DataFrame(uif_rfr), 3.39e6) #make sure the errors work by integrating a sphere's surface\n",
    "print(\"Random forest integration error:\")\n",
    "np.array(rfr_int_err)/(1.44e14) #larger..."
   ]
  },
  {
   "cell_type": "code",
   "execution_count": 45,
   "metadata": {},
   "outputs": [
    {
     "name": "stdout",
     "output_type": "stream",
     "text": [
      "Linear regression integration error:\n"
     ]
    },
    {
     "data": {
      "text/plain": [
       "-1.4346704954958274"
      ]
     },
     "execution_count": 45,
     "metadata": {},
     "output_type": "execute_result"
    }
   ],
   "source": [
    "lin_int_err = int_err(uif_lin[10*36*72:11*36*72], uif_out[10*36*72:11*36*72], pd.DataFrame(uif_rfr), 3.39e6) #make sure the errors work by integrating a sphere's surface\n",
    "print(\"Linear regression integration error:\")\n",
    "np.array(lin_int_err)/(1.44e14) #even larger..."
   ]
  },
  {
   "cell_type": "code",
   "execution_count": null,
   "metadata": {},
   "outputs": [],
   "source": []
  }
 ],
 "metadata": {
  "kernelspec": {
   "display_name": "Python 3",
   "language": "python",
   "name": "python3"
  },
  "language_info": {
   "codemirror_mode": {
    "name": "ipython",
    "version": 3
   },
   "file_extension": ".py",
   "mimetype": "text/x-python",
   "name": "python",
   "nbconvert_exporter": "python",
   "pygments_lexer": "ipython3",
   "version": "3.7.4"
  }
 },
 "nbformat": 4,
 "nbformat_minor": 2
}
