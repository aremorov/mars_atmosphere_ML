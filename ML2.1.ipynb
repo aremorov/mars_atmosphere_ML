{
 "cells": [
  {
   "cell_type": "code",
   "execution_count": 1,
   "metadata": {},
   "outputs": [],
   "source": [
    "import xarray as xr\n",
    "import matplotlib.pyplot as plt\n",
    "import numpy as np\n",
    "import pandas as pd"
   ]
  },
  {
   "cell_type": "code",
   "execution_count": 2,
   "metadata": {},
   "outputs": [],
   "source": [
    "dataDIR = 'short'\n",
    "DS = xr.open_dataset(dataDIR)"
   ]
  },
  {
   "cell_type": "code",
   "execution_count": 3,
   "metadata": {},
   "outputs": [],
   "source": [
    "#Temperature:\n",
    "T = (DS.T.values + DS.T0) * ((DS.P.values + DS.PB.values)/DS.P0)**(DS.R_D/DS.CP)"
   ]
  },
  {
   "cell_type": "code",
   "execution_count": 4,
   "metadata": {},
   "outputs": [
    {
     "data": {
      "text/plain": [
       "(240, 52, 36, 72)"
      ]
     },
     "execution_count": 4,
     "metadata": {},
     "output_type": "execute_result"
    }
   ],
   "source": [
    "T.shape #days, height, latitude, longtitude"
   ]
  },
  {
   "cell_type": "code",
   "execution_count": 5,
   "metadata": {},
   "outputs": [
    {
     "data": {
      "image/png": "[encoded data removed]",
      "text/plain": [
       "<Figure size 432x288 with 2 Axes>"
      ]
     },
     "metadata": {
      "needs_background": "light"
     },
     "output_type": "display_data"
    }
   ],
   "source": [
    "example_data = T[50,5,:, :]\n",
    "plt.contourf(example_data)\n",
    "plt.colorbar()\n",
    "plt.title(\"Temperature Profile\")\n",
    "plt.show()"
   ]
  },
  {
   "cell_type": "code",
   "execution_count": 6,
   "metadata": {},
   "outputs": [],
   "source": [
    "albedo = DS.ALBEDO.values"
   ]
  },
  {
   "cell_type": "code",
   "execution_count": 7,
   "metadata": {},
   "outputs": [
    {
     "data": {
      "text/plain": [
       "(240, 36, 72)"
      ]
     },
     "execution_count": 7,
     "metadata": {},
     "output_type": "execute_result"
    }
   ],
   "source": [
    "albedo.shape #days, latitude, longtitude"
   ]
  },
  {
   "cell_type": "code",
   "execution_count": 8,
   "metadata": {},
   "outputs": [],
   "source": [
    "st = DS.TSK.values"
   ]
  },
  {
   "cell_type": "code",
   "execution_count": 9,
   "metadata": {},
   "outputs": [
    {
     "data": {
      "text/plain": [
       "(240, 36, 72)"
      ]
     },
     "execution_count": 9,
     "metadata": {},
     "output_type": "execute_result"
    }
   ],
   "source": [
    "st.shape"
   ]
  },
  {
   "cell_type": "code",
   "execution_count": 10,
   "metadata": {},
   "outputs": [],
   "source": [
    "d_c = DS.TAU_OD.values"
   ]
  },
  {
   "cell_type": "code",
   "execution_count": 11,
   "metadata": {},
   "outputs": [
    {
     "data": {
      "text/plain": [
       "(240, 52, 36, 72)"
      ]
     },
     "execution_count": 11,
     "metadata": {},
     "output_type": "execute_result"
    }
   ],
   "source": [
    "d_c.shape "
   ]
  },
  {
   "cell_type": "code",
   "execution_count": 12,
   "metadata": {},
   "outputs": [],
   "source": [
    "tsf = DS.TOASW.values #top solar flux"
   ]
  },
  {
   "cell_type": "code",
   "execution_count": 13,
   "metadata": {},
   "outputs": [
    {
     "data": {
      "text/plain": [
       "(240, 36, 72)"
      ]
     },
     "execution_count": 13,
     "metadata": {},
     "output_type": "execute_result"
    }
   ],
   "source": [
    "tsf.shape"
   ]
  },
  {
   "cell_type": "code",
   "execution_count": 14,
   "metadata": {},
   "outputs": [],
   "source": [
    "bsf = DS.GSW.values #bottom solar flux, ouput"
   ]
  },
  {
   "cell_type": "code",
   "execution_count": 15,
   "metadata": {},
   "outputs": [
    {
     "data": {
      "text/plain": [
       "(240, 36, 72)"
      ]
     },
     "execution_count": 15,
     "metadata": {},
     "output_type": "execute_result"
    }
   ],
   "source": [
    "bsf.shape"
   ]
  },
  {
   "cell_type": "markdown",
   "metadata": {},
   "source": [
    "Let's combine the data together, for the equator line"
   ]
  },
  {
   "cell_type": "code",
   "execution_count": 16,
   "metadata": {},
   "outputs": [],
   "source": [
    "e_in = [] #equator input\n",
    "e_out = [] #equator output\n",
    "e_t = [] #equator input and output\n",
    "for i in range(240):\n",
    "    for j in range(72):\n",
    "        input_array = list(T[i,:,18,j]) #start with temp profile\n",
    "        input_array+=list(d_c[i,:,18,j]) #add dust profile\n",
    "        input_array.append(albedo[i,18,j])#add albedo\n",
    "        input_array.append(st[i,18,j])#add surface temp\n",
    "        input_array.append(tsf[i,18,j]) #add top solar flux\n",
    "        e_in.append(input_array) #appends input to input array\n",
    "        e_out.append(bsf[i,18,j]) #appends output to output array\n",
    "        total_array = input_array + [bsf[i,18,j]] #adds input and output data together\n",
    "        e_t.append(total_array) #appends everything to total array"
   ]
  },
  {
   "cell_type": "code",
   "execution_count": 17,
   "metadata": {},
   "outputs": [
    {
     "data": {
      "text/plain": [
       "(17280, 108)"
      ]
     },
     "execution_count": 17,
     "metadata": {},
     "output_type": "execute_result"
    }
   ],
   "source": [
    "e_t = np.array(e_t)\n",
    "e_t.shape"
   ]
  },
  {
   "cell_type": "code",
   "execution_count": 18,
   "metadata": {},
   "outputs": [],
   "source": [
    "from sklearn.pipeline import Pipeline\n",
    "from sklearn.preprocessing import MinMaxScaler\n",
    "\n",
    "scaler = MinMaxScaler()\n",
    "scaler.fit(e_t)\n",
    "a_t = scaler.transform(e_t)"
   ]
  },
  {
   "cell_type": "code",
   "execution_count": 19,
   "metadata": {},
   "outputs": [
    {
     "data": {
      "text/plain": [
       "array([[221.71524  , 231.7268   , 234.09593  , ..., 196.73923  ,\n",
       "         49.710243 ,  20.28048  ],\n",
       "       [214.26558  , 229.31334  , 231.98065  , ..., 187.20706  ,\n",
       "          9.6728735,   2.855617 ],\n",
       "       [210.16537  , 227.2537   , 229.8646   , ..., 180.2071   ,\n",
       "          0.       ,   0.       ],\n",
       "       ...,\n",
       "       [231.45474  , 225.85812  , 223.97119  , ..., 273.35376  ,\n",
       "        501.28662  , 353.60437  ],\n",
       "       [237.45032  , 232.25151  , 230.5609   , ..., 278.08792  ,\n",
       "        515.08673  , 364.20447  ],\n",
       "       [241.38646  , 236.26865  , 234.6103   , ..., 281.30695  ,\n",
       "        525.02045  , 371.4666   ]], dtype=float32)"
      ]
     },
     "execution_count": 19,
     "metadata": {},
     "output_type": "execute_result"
    }
   ],
   "source": [
    "e_t"
   ]
  },
  {
   "cell_type": "code",
   "execution_count": 20,
   "metadata": {
    "scrolled": true
   },
   "outputs": [
    {
     "data": {
      "text/plain": [
       "array([[0.7235944 , 0.86352885, 0.8959441 , ..., 0.38041532, 0.09326209,\n",
       "        0.0493786 ],\n",
       "       [0.6461687 , 0.8367299 , 0.87118983, ..., 0.31293392, 0.01814741,\n",
       "        0.00695281],\n",
       "       [0.6035547 , 0.8138596 , 0.84642625, ..., 0.26337886, 0.        ,\n",
       "        0.        ],\n",
       "       ...,\n",
       "       [0.8248186 , 0.7983631 , 0.77745795, ..., 0.92279553, 0.94047093,\n",
       "        0.8609505 ],\n",
       "       [0.8871317 , 0.8693553 , 0.8545749 , ..., 0.9563103 , 0.9663615 ,\n",
       "        0.8867595 ],\n",
       "       [0.9280405 , 0.9139615 , 0.9019637 , ..., 0.9790988 , 0.9849983 ,\n",
       "        0.90444124]], dtype=float32)"
      ]
     },
     "execution_count": 20,
     "metadata": {},
     "output_type": "execute_result"
    }
   ],
   "source": [
    "a_t"
   ]
  },
  {
   "cell_type": "code",
   "execution_count": 21,
   "metadata": {},
   "outputs": [
    {
     "data": {
      "text/plain": [
       "array([[221.71524  , 231.7268   , 234.09593  , ..., 196.73923  ,\n",
       "         49.710243 ,  20.28048  ],\n",
       "       [214.26556  , 229.31335  , 231.98065  , ..., 187.20708  ,\n",
       "          9.6728735,   2.855617 ],\n",
       "       [210.16537  , 227.25371  , 229.86458  , ..., 180.2071   ,\n",
       "          0.       ,   0.       ],\n",
       "       ...,\n",
       "       [231.45474  , 225.85812  , 223.97119  , ..., 273.35376  ,\n",
       "        501.28662  , 353.60437  ],\n",
       "       [237.45033  , 232.25153  , 230.5609   , ..., 278.08792  ,\n",
       "        515.08673  , 364.20447  ],\n",
       "       [241.38646  , 236.26865  , 234.6103   , ..., 281.30695  ,\n",
       "        525.02045  , 371.4666   ]], dtype=float32)"
      ]
     },
     "execution_count": 21,
     "metadata": {},
     "output_type": "execute_result"
    }
   ],
   "source": [
    "scaler.inverse_transform(a_t) #we can inverse the scaling!"
   ]
  },
  {
   "cell_type": "code",
   "execution_count": 22,
   "metadata": {},
   "outputs": [],
   "source": [
    "scaler2 = MinMaxScaler()\n",
    "scaler2.fit(e_t[:,107].reshape(-1,1))\n",
    "a_t_out = scaler2.transform(e_t[:,107].reshape(-1,1))"
   ]
  },
  {
   "cell_type": "code",
   "execution_count": 23,
   "metadata": {},
   "outputs": [
    {
     "data": {
      "text/plain": [
       "array([[0.0493786 ],\n",
       "       [0.00695281],\n",
       "       [0.        ],\n",
       "       ...,\n",
       "       [0.8609505 ],\n",
       "       [0.8867595 ],\n",
       "       [0.90444124]], dtype=float32)"
      ]
     },
     "execution_count": 23,
     "metadata": {},
     "output_type": "execute_result"
    }
   ],
   "source": [
    "a_t_out"
   ]
  },
  {
   "cell_type": "code",
   "execution_count": 24,
   "metadata": {},
   "outputs": [
    {
     "data": {
      "text/plain": [
       "array([[ 20.28048 ],\n",
       "       [  2.855617],\n",
       "       [  0.      ],\n",
       "       ...,\n",
       "       [353.60437 ],\n",
       "       [364.20447 ],\n",
       "       [371.4666  ]], dtype=float32)"
      ]
     },
     "execution_count": 24,
     "metadata": {},
     "output_type": "execute_result"
    }
   ],
   "source": [
    "scaler2.inverse_transform(a_t_out)"
   ]
  },
  {
   "cell_type": "code",
   "execution_count": 25,
   "metadata": {},
   "outputs": [],
   "source": [
    "e_in = np.array(e_in)\n",
    "e_out = np.array(e_out)"
   ]
  },
  {
   "cell_type": "code",
   "execution_count": 26,
   "metadata": {},
   "outputs": [
    {
     "data": {
      "text/plain": [
       "True"
      ]
     },
     "execution_count": 26,
     "metadata": {},
     "output_type": "execute_result"
    }
   ],
   "source": [
    "np.array_equal(e_in,e_t[:,:107])"
   ]
  },
  {
   "cell_type": "code",
   "execution_count": 27,
   "metadata": {},
   "outputs": [
    {
     "data": {
      "text/plain": [
       "True"
      ]
     },
     "execution_count": 27,
     "metadata": {},
     "output_type": "execute_result"
    }
   ],
   "source": [
    "np.array_equal(e_out,e_t[:,107]) #we can just use e_t array..."
   ]
  },
  {
   "cell_type": "code",
   "execution_count": 28,
   "metadata": {},
   "outputs": [
    {
     "data": {
      "text/html": [
       "<div>\n",
       "<style scoped>\n",
       "    .dataframe tbody tr th:only-of-type {\n",
       "        vertical-align: middle;\n",
       "    }\n",
       "\n",
       "    .dataframe tbody tr th {\n",
       "        vertical-align: top;\n",
       "    }\n",
       "\n",
       "    .dataframe thead th {\n",
       "        text-align: right;\n",
       "    }\n",
       "</style>\n",
       "<table border=\"1\" class=\"dataframe\">\n",
       "  <thead>\n",
       "    <tr style=\"text-align: right;\">\n",
       "      <th></th>\n",
       "      <th>0</th>\n",
       "      <th>1</th>\n",
       "      <th>2</th>\n",
       "      <th>3</th>\n",
       "      <th>4</th>\n",
       "      <th>5</th>\n",
       "      <th>6</th>\n",
       "      <th>7</th>\n",
       "      <th>8</th>\n",
       "      <th>9</th>\n",
       "      <th>...</th>\n",
       "      <th>98</th>\n",
       "      <th>99</th>\n",
       "      <th>100</th>\n",
       "      <th>101</th>\n",
       "      <th>102</th>\n",
       "      <th>103</th>\n",
       "      <th>104</th>\n",
       "      <th>105</th>\n",
       "      <th>106</th>\n",
       "      <th>107</th>\n",
       "    </tr>\n",
       "  </thead>\n",
       "  <tbody>\n",
       "    <tr>\n",
       "      <td>0</td>\n",
       "      <td>221.715240</td>\n",
       "      <td>231.726807</td>\n",
       "      <td>234.095932</td>\n",
       "      <td>234.503632</td>\n",
       "      <td>234.329010</td>\n",
       "      <td>233.942673</td>\n",
       "      <td>233.464264</td>\n",
       "      <td>232.940186</td>\n",
       "      <td>232.390991</td>\n",
       "      <td>231.818634</td>\n",
       "      <td>...</td>\n",
       "      <td>8.481921e-08</td>\n",
       "      <td>5.586889e-08</td>\n",
       "      <td>3.514140e-08</td>\n",
       "      <td>2.067390e-08</td>\n",
       "      <td>1.108751e-08</td>\n",
       "      <td>5.375729e-09</td>\n",
       "      <td>0.258120</td>\n",
       "      <td>196.739227</td>\n",
       "      <td>49.710243</td>\n",
       "      <td>20.280479</td>\n",
       "    </tr>\n",
       "    <tr>\n",
       "      <td>1</td>\n",
       "      <td>214.265579</td>\n",
       "      <td>229.313339</td>\n",
       "      <td>231.980652</td>\n",
       "      <td>233.091660</td>\n",
       "      <td>233.244293</td>\n",
       "      <td>233.042313</td>\n",
       "      <td>232.685272</td>\n",
       "      <td>232.249969</td>\n",
       "      <td>231.769409</td>\n",
       "      <td>231.259506</td>\n",
       "      <td>...</td>\n",
       "      <td>8.633013e-08</td>\n",
       "      <td>5.685386e-08</td>\n",
       "      <td>3.574981e-08</td>\n",
       "      <td>2.101948e-08</td>\n",
       "      <td>1.125893e-08</td>\n",
       "      <td>5.443385e-09</td>\n",
       "      <td>0.255179</td>\n",
       "      <td>187.207062</td>\n",
       "      <td>9.672873</td>\n",
       "      <td>2.855617</td>\n",
       "    </tr>\n",
       "    <tr>\n",
       "      <td>2</td>\n",
       "      <td>210.165375</td>\n",
       "      <td>227.253693</td>\n",
       "      <td>229.864594</td>\n",
       "      <td>231.590607</td>\n",
       "      <td>231.866180</td>\n",
       "      <td>231.756638</td>\n",
       "      <td>231.457138</td>\n",
       "      <td>231.062225</td>\n",
       "      <td>230.613007</td>\n",
       "      <td>230.131134</td>\n",
       "      <td>...</td>\n",
       "      <td>8.785055e-08</td>\n",
       "      <td>5.784503e-08</td>\n",
       "      <td>3.636205e-08</td>\n",
       "      <td>2.136724e-08</td>\n",
       "      <td>1.143143e-08</td>\n",
       "      <td>5.511467e-09</td>\n",
       "      <td>0.261824</td>\n",
       "      <td>180.207108</td>\n",
       "      <td>0.000000</td>\n",
       "      <td>0.000000</td>\n",
       "    </tr>\n",
       "    <tr>\n",
       "      <td>3</td>\n",
       "      <td>204.305664</td>\n",
       "      <td>220.883759</td>\n",
       "      <td>226.787598</td>\n",
       "      <td>229.156601</td>\n",
       "      <td>230.048355</td>\n",
       "      <td>230.277405</td>\n",
       "      <td>230.192307</td>\n",
       "      <td>229.942062</td>\n",
       "      <td>229.589310</td>\n",
       "      <td>229.168213</td>\n",
       "      <td>...</td>\n",
       "      <td>8.428513e-08</td>\n",
       "      <td>5.552072e-08</td>\n",
       "      <td>3.492633e-08</td>\n",
       "      <td>2.055174e-08</td>\n",
       "      <td>1.102691e-08</td>\n",
       "      <td>5.351814e-09</td>\n",
       "      <td>0.259610</td>\n",
       "      <td>176.107941</td>\n",
       "      <td>0.000000</td>\n",
       "      <td>0.000000</td>\n",
       "    </tr>\n",
       "    <tr>\n",
       "      <td>4</td>\n",
       "      <td>200.434067</td>\n",
       "      <td>214.538086</td>\n",
       "      <td>221.359314</td>\n",
       "      <td>224.568710</td>\n",
       "      <td>226.002594</td>\n",
       "      <td>226.618210</td>\n",
       "      <td>226.815628</td>\n",
       "      <td>226.775070</td>\n",
       "      <td>226.599731</td>\n",
       "      <td>226.295593</td>\n",
       "      <td>...</td>\n",
       "      <td>7.919467e-08</td>\n",
       "      <td>5.220223e-08</td>\n",
       "      <td>3.287652e-08</td>\n",
       "      <td>1.938745e-08</td>\n",
       "      <td>1.044937e-08</td>\n",
       "      <td>5.123874e-09</td>\n",
       "      <td>0.256876</td>\n",
       "      <td>171.112762</td>\n",
       "      <td>0.000000</td>\n",
       "      <td>0.000000</td>\n",
       "    </tr>\n",
       "    <tr>\n",
       "      <td>...</td>\n",
       "      <td>...</td>\n",
       "      <td>...</td>\n",
       "      <td>...</td>\n",
       "      <td>...</td>\n",
       "      <td>...</td>\n",
       "      <td>...</td>\n",
       "      <td>...</td>\n",
       "      <td>...</td>\n",
       "      <td>...</td>\n",
       "      <td>...</td>\n",
       "      <td>...</td>\n",
       "      <td>...</td>\n",
       "      <td>...</td>\n",
       "      <td>...</td>\n",
       "      <td>...</td>\n",
       "      <td>...</td>\n",
       "      <td>...</td>\n",
       "      <td>...</td>\n",
       "      <td>...</td>\n",
       "      <td>...</td>\n",
       "      <td>...</td>\n",
       "    </tr>\n",
       "    <tr>\n",
       "      <td>17275</td>\n",
       "      <td>225.466187</td>\n",
       "      <td>220.502090</td>\n",
       "      <td>218.717804</td>\n",
       "      <td>217.574936</td>\n",
       "      <td>216.752670</td>\n",
       "      <td>216.058411</td>\n",
       "      <td>215.427002</td>\n",
       "      <td>214.830536</td>\n",
       "      <td>214.254379</td>\n",
       "      <td>213.691330</td>\n",
       "      <td>...</td>\n",
       "      <td>8.334755e-08</td>\n",
       "      <td>5.490969e-08</td>\n",
       "      <td>3.454911e-08</td>\n",
       "      <td>2.033771e-08</td>\n",
       "      <td>1.092101e-08</td>\n",
       "      <td>5.310336e-09</td>\n",
       "      <td>0.258621</td>\n",
       "      <td>264.080078</td>\n",
       "      <td>462.536316</td>\n",
       "      <td>321.594421</td>\n",
       "    </tr>\n",
       "    <tr>\n",
       "      <td>17276</td>\n",
       "      <td>227.451889</td>\n",
       "      <td>222.103149</td>\n",
       "      <td>220.236130</td>\n",
       "      <td>219.026154</td>\n",
       "      <td>218.162262</td>\n",
       "      <td>217.435730</td>\n",
       "      <td>216.776611</td>\n",
       "      <td>216.153748</td>\n",
       "      <td>215.552460</td>\n",
       "      <td>214.964127</td>\n",
       "      <td>...</td>\n",
       "      <td>8.425442e-08</td>\n",
       "      <td>5.550088e-08</td>\n",
       "      <td>3.491428e-08</td>\n",
       "      <td>2.054513e-08</td>\n",
       "      <td>1.102390e-08</td>\n",
       "      <td>5.350944e-09</td>\n",
       "      <td>0.252233</td>\n",
       "      <td>267.429535</td>\n",
       "      <td>483.725281</td>\n",
       "      <td>340.336151</td>\n",
       "    </tr>\n",
       "    <tr>\n",
       "      <td>17277</td>\n",
       "      <td>231.454742</td>\n",
       "      <td>225.858124</td>\n",
       "      <td>223.971191</td>\n",
       "      <td>222.743729</td>\n",
       "      <td>221.868713</td>\n",
       "      <td>221.133545</td>\n",
       "      <td>220.466843</td>\n",
       "      <td>219.837875</td>\n",
       "      <td>219.231857</td>\n",
       "      <td>218.640839</td>\n",
       "      <td>...</td>\n",
       "      <td>8.452836e-08</td>\n",
       "      <td>5.567946e-08</td>\n",
       "      <td>3.502459e-08</td>\n",
       "      <td>2.060779e-08</td>\n",
       "      <td>1.105498e-08</td>\n",
       "      <td>5.363210e-09</td>\n",
       "      <td>0.252611</td>\n",
       "      <td>273.353760</td>\n",
       "      <td>501.286621</td>\n",
       "      <td>353.604370</td>\n",
       "    </tr>\n",
       "    <tr>\n",
       "      <td>17278</td>\n",
       "      <td>237.450317</td>\n",
       "      <td>232.251511</td>\n",
       "      <td>230.560898</td>\n",
       "      <td>229.388550</td>\n",
       "      <td>228.522766</td>\n",
       "      <td>227.774963</td>\n",
       "      <td>227.085251</td>\n",
       "      <td>226.427170</td>\n",
       "      <td>225.788010</td>\n",
       "      <td>225.159653</td>\n",
       "      <td>...</td>\n",
       "      <td>8.415738e-08</td>\n",
       "      <td>5.543762e-08</td>\n",
       "      <td>3.487521e-08</td>\n",
       "      <td>2.052293e-08</td>\n",
       "      <td>1.101289e-08</td>\n",
       "      <td>5.346599e-09</td>\n",
       "      <td>0.252801</td>\n",
       "      <td>278.087921</td>\n",
       "      <td>515.086731</td>\n",
       "      <td>364.204468</td>\n",
       "    </tr>\n",
       "    <tr>\n",
       "      <td>17279</td>\n",
       "      <td>241.386459</td>\n",
       "      <td>236.268646</td>\n",
       "      <td>234.610306</td>\n",
       "      <td>233.436691</td>\n",
       "      <td>232.557083</td>\n",
       "      <td>231.790146</td>\n",
       "      <td>231.078552</td>\n",
       "      <td>230.397720</td>\n",
       "      <td>229.734909</td>\n",
       "      <td>229.082016</td>\n",
       "      <td>...</td>\n",
       "      <td>8.377403e-08</td>\n",
       "      <td>5.518772e-08</td>\n",
       "      <td>3.472084e-08</td>\n",
       "      <td>2.043525e-08</td>\n",
       "      <td>1.096939e-08</td>\n",
       "      <td>5.329433e-09</td>\n",
       "      <td>0.253754</td>\n",
       "      <td>281.306946</td>\n",
       "      <td>525.020447</td>\n",
       "      <td>371.466614</td>\n",
       "    </tr>\n",
       "  </tbody>\n",
       "</table>\n",
       "<p>17280 rows × 108 columns</p>\n",
       "</div>"
      ],
      "text/plain": [
       "              0           1           2           3           4           5    \\\n",
       "0      221.715240  231.726807  234.095932  234.503632  234.329010  233.942673   \n",
       "1      214.265579  229.313339  231.980652  233.091660  233.244293  233.042313   \n",
       "2      210.165375  227.253693  229.864594  231.590607  231.866180  231.756638   \n",
       "3      204.305664  220.883759  226.787598  229.156601  230.048355  230.277405   \n",
       "4      200.434067  214.538086  221.359314  224.568710  226.002594  226.618210   \n",
       "...           ...         ...         ...         ...         ...         ...   \n",
       "17275  225.466187  220.502090  218.717804  217.574936  216.752670  216.058411   \n",
       "17276  227.451889  222.103149  220.236130  219.026154  218.162262  217.435730   \n",
       "17277  231.454742  225.858124  223.971191  222.743729  221.868713  221.133545   \n",
       "17278  237.450317  232.251511  230.560898  229.388550  228.522766  227.774963   \n",
       "17279  241.386459  236.268646  234.610306  233.436691  232.557083  231.790146   \n",
       "\n",
       "              6           7           8           9    ...           98   \\\n",
       "0      233.464264  232.940186  232.390991  231.818634  ...  8.481921e-08   \n",
       "1      232.685272  232.249969  231.769409  231.259506  ...  8.633013e-08   \n",
       "2      231.457138  231.062225  230.613007  230.131134  ...  8.785055e-08   \n",
       "3      230.192307  229.942062  229.589310  229.168213  ...  8.428513e-08   \n",
       "4      226.815628  226.775070  226.599731  226.295593  ...  7.919467e-08   \n",
       "...           ...         ...         ...         ...  ...           ...   \n",
       "17275  215.427002  214.830536  214.254379  213.691330  ...  8.334755e-08   \n",
       "17276  216.776611  216.153748  215.552460  214.964127  ...  8.425442e-08   \n",
       "17277  220.466843  219.837875  219.231857  218.640839  ...  8.452836e-08   \n",
       "17278  227.085251  226.427170  225.788010  225.159653  ...  8.415738e-08   \n",
       "17279  231.078552  230.397720  229.734909  229.082016  ...  8.377403e-08   \n",
       "\n",
       "                99            100           101           102           103  \\\n",
       "0      5.586889e-08  3.514140e-08  2.067390e-08  1.108751e-08  5.375729e-09   \n",
       "1      5.685386e-08  3.574981e-08  2.101948e-08  1.125893e-08  5.443385e-09   \n",
       "2      5.784503e-08  3.636205e-08  2.136724e-08  1.143143e-08  5.511467e-09   \n",
       "3      5.552072e-08  3.492633e-08  2.055174e-08  1.102691e-08  5.351814e-09   \n",
       "4      5.220223e-08  3.287652e-08  1.938745e-08  1.044937e-08  5.123874e-09   \n",
       "...             ...           ...           ...           ...           ...   \n",
       "17275  5.490969e-08  3.454911e-08  2.033771e-08  1.092101e-08  5.310336e-09   \n",
       "17276  5.550088e-08  3.491428e-08  2.054513e-08  1.102390e-08  5.350944e-09   \n",
       "17277  5.567946e-08  3.502459e-08  2.060779e-08  1.105498e-08  5.363210e-09   \n",
       "17278  5.543762e-08  3.487521e-08  2.052293e-08  1.101289e-08  5.346599e-09   \n",
       "17279  5.518772e-08  3.472084e-08  2.043525e-08  1.096939e-08  5.329433e-09   \n",
       "\n",
       "            104         105         106         107  \n",
       "0      0.258120  196.739227   49.710243   20.280479  \n",
       "1      0.255179  187.207062    9.672873    2.855617  \n",
       "2      0.261824  180.207108    0.000000    0.000000  \n",
       "3      0.259610  176.107941    0.000000    0.000000  \n",
       "4      0.256876  171.112762    0.000000    0.000000  \n",
       "...         ...         ...         ...         ...  \n",
       "17275  0.258621  264.080078  462.536316  321.594421  \n",
       "17276  0.252233  267.429535  483.725281  340.336151  \n",
       "17277  0.252611  273.353760  501.286621  353.604370  \n",
       "17278  0.252801  278.087921  515.086731  364.204468  \n",
       "17279  0.253754  281.306946  525.020447  371.466614  \n",
       "\n",
       "[17280 rows x 108 columns]"
      ]
     },
     "execution_count": 28,
     "metadata": {},
     "output_type": "execute_result"
    }
   ],
   "source": [
    "e_d = pd.DataFrame(e_t) \n",
    "e_d"
   ]
  },
  {
   "cell_type": "code",
   "execution_count": 29,
   "metadata": {},
   "outputs": [],
   "source": [
    "e_rem0 = e_d[e_d.iloc[:,106] != 0] #removes rows with 0 top solar flux"
   ]
  },
  {
   "cell_type": "code",
   "execution_count": 30,
   "metadata": {},
   "outputs": [
    {
     "data": {
      "text/plain": [
       "0         20.280479\n",
       "1          2.855617\n",
       "2          0.000000\n",
       "3          0.000000\n",
       "4          0.000000\n",
       "            ...    \n",
       "17275    321.594421\n",
       "17276    340.336151\n",
       "17277    353.604370\n",
       "17278    364.204468\n",
       "17279    371.466614\n",
       "Name: 107, Length: 17280, dtype: float32"
      ]
     },
     "execution_count": 30,
     "metadata": {},
     "output_type": "execute_result"
    }
   ],
   "source": [
    "e_d.iloc[:,107]"
   ]
  },
  {
   "cell_type": "code",
   "execution_count": 31,
   "metadata": {},
   "outputs": [],
   "source": [
    "from sklearn.model_selection import train_test_split\n",
    "\n",
    "train_set, test_set = train_test_split(e_rem0, test_size=0.2, random_state=42)"
   ]
  },
  {
   "cell_type": "code",
   "execution_count": 32,
   "metadata": {},
   "outputs": [
    {
     "data": {
      "text/plain": [
       "(7104, 108)"
      ]
     },
     "execution_count": 32,
     "metadata": {},
     "output_type": "execute_result"
    }
   ],
   "source": [
    "train_set.shape"
   ]
  },
  {
   "cell_type": "code",
   "execution_count": 33,
   "metadata": {},
   "outputs": [
    {
     "data": {
      "text/plain": [
       "(1776, 108)"
      ]
     },
     "execution_count": 33,
     "metadata": {},
     "output_type": "execute_result"
    }
   ],
   "source": [
    "test_set.shape"
   ]
  },
  {
   "cell_type": "code",
   "execution_count": 34,
   "metadata": {},
   "outputs": [],
   "source": [
    "train_in = train_set.iloc[:,:107] #training input\n",
    "train_out = train_set.iloc[:,107] #training output\n",
    "test_in = test_set.iloc[:,:107] #training input\n",
    "test_out = test_set.iloc[:,107:] #training output"
   ]
  },
  {
   "cell_type": "code",
   "execution_count": 35,
   "metadata": {},
   "outputs": [],
   "source": [
    "train_in.index #this provides the location of each point according to the date and latitude\n",
    "indices = np.array(train_in.index)"
   ]
  },
  {
   "cell_type": "code",
   "execution_count": 36,
   "metadata": {},
   "outputs": [
    {
     "data": {
      "text/plain": [
       "array([[2.1726593e+02, 2.1350037e+02, 2.1196017e+02, ..., 1.4097066e-01,\n",
       "        2.4608109e+02, 3.9654755e+02],\n",
       "       [2.4096600e+02, 2.3595958e+02, 2.3423830e+02, ..., 2.5517884e-01,\n",
       "        2.7743903e+02, 5.0011188e+02],\n",
       "       [2.4034036e+02, 2.3673810e+02, 2.3525616e+02, ..., 2.2926357e-01,\n",
       "        2.6151074e+02, 3.9583932e+02],\n",
       "       ...,\n",
       "       [2.4322032e+02, 2.3897116e+02, 2.3741135e+02, ..., 2.5477865e-01,\n",
       "        2.6974570e+02, 4.1648376e+02],\n",
       "       [2.3738644e+02, 2.3340707e+02, 2.3186819e+02, ..., 2.6571336e-01,\n",
       "        2.6044812e+02, 3.6956616e+02],\n",
       "       [2.3530229e+02, 2.3214215e+02, 2.3093275e+02, ..., 2.0517617e-01,\n",
       "        2.6264334e+02, 5.1263208e+02]], dtype=float32)"
      ]
     },
     "execution_count": 36,
     "metadata": {},
     "output_type": "execute_result"
    }
   ],
   "source": [
    "np.array(train_in)"
   ]
  },
  {
   "cell_type": "code",
   "execution_count": 37,
   "metadata": {},
   "outputs": [
    {
     "data": {
      "text/html": [
       "<div>\n",
       "<style scoped>\n",
       "    .dataframe tbody tr th:only-of-type {\n",
       "        vertical-align: middle;\n",
       "    }\n",
       "\n",
       "    .dataframe tbody tr th {\n",
       "        vertical-align: top;\n",
       "    }\n",
       "\n",
       "    .dataframe thead th {\n",
       "        text-align: right;\n",
       "    }\n",
       "</style>\n",
       "<table border=\"1\" class=\"dataframe\">\n",
       "  <thead>\n",
       "    <tr style=\"text-align: right;\">\n",
       "      <th></th>\n",
       "      <th>0</th>\n",
       "      <th>1</th>\n",
       "      <th>2</th>\n",
       "      <th>3</th>\n",
       "      <th>4</th>\n",
       "      <th>5</th>\n",
       "      <th>6</th>\n",
       "      <th>7</th>\n",
       "      <th>8</th>\n",
       "      <th>9</th>\n",
       "      <th>...</th>\n",
       "      <th>97</th>\n",
       "      <th>98</th>\n",
       "      <th>99</th>\n",
       "      <th>100</th>\n",
       "      <th>101</th>\n",
       "      <th>102</th>\n",
       "      <th>103</th>\n",
       "      <th>104</th>\n",
       "      <th>105</th>\n",
       "      <th>106</th>\n",
       "    </tr>\n",
       "  </thead>\n",
       "  <tbody>\n",
       "    <tr>\n",
       "      <td>2640</td>\n",
       "      <td>217.265930</td>\n",
       "      <td>213.500366</td>\n",
       "      <td>211.960175</td>\n",
       "      <td>210.917984</td>\n",
       "      <td>210.146210</td>\n",
       "      <td>209.489426</td>\n",
       "      <td>208.891357</td>\n",
       "      <td>208.326508</td>\n",
       "      <td>207.783783</td>\n",
       "      <td>207.257339</td>\n",
       "      <td>...</td>\n",
       "      <td>8.358283e-08</td>\n",
       "      <td>5.723374e-08</td>\n",
       "      <td>3.788582e-08</td>\n",
       "      <td>2.403334e-08</td>\n",
       "      <td>1.436450e-08</td>\n",
       "      <td>7.957774e-09</td>\n",
       "      <td>4.140509e-09</td>\n",
       "      <td>0.140971</td>\n",
       "      <td>246.081085</td>\n",
       "      <td>396.547546</td>\n",
       "    </tr>\n",
       "    <tr>\n",
       "      <td>8569</td>\n",
       "      <td>240.966003</td>\n",
       "      <td>235.959579</td>\n",
       "      <td>234.238297</td>\n",
       "      <td>233.038284</td>\n",
       "      <td>232.135757</td>\n",
       "      <td>231.350677</td>\n",
       "      <td>230.623291</td>\n",
       "      <td>229.928024</td>\n",
       "      <td>229.251770</td>\n",
       "      <td>228.587036</td>\n",
       "      <td>...</td>\n",
       "      <td>1.263074e-07</td>\n",
       "      <td>8.621809e-08</td>\n",
       "      <td>5.678083e-08</td>\n",
       "      <td>3.570471e-08</td>\n",
       "      <td>2.099387e-08</td>\n",
       "      <td>1.124624e-08</td>\n",
       "      <td>5.438388e-09</td>\n",
       "      <td>0.255179</td>\n",
       "      <td>277.439026</td>\n",
       "      <td>500.111877</td>\n",
       "    </tr>\n",
       "    <tr>\n",
       "      <td>12555</td>\n",
       "      <td>240.340363</td>\n",
       "      <td>236.738098</td>\n",
       "      <td>235.256165</td>\n",
       "      <td>234.136368</td>\n",
       "      <td>233.253448</td>\n",
       "      <td>232.469727</td>\n",
       "      <td>231.736618</td>\n",
       "      <td>231.032349</td>\n",
       "      <td>230.345383</td>\n",
       "      <td>229.669052</td>\n",
       "      <td>...</td>\n",
       "      <td>9.955108e-08</td>\n",
       "      <td>6.806664e-08</td>\n",
       "      <td>4.494786e-08</td>\n",
       "      <td>2.839557e-08</td>\n",
       "      <td>1.684230e-08</td>\n",
       "      <td>9.186921e-09</td>\n",
       "      <td>4.625681e-09</td>\n",
       "      <td>0.229264</td>\n",
       "      <td>261.510742</td>\n",
       "      <td>395.839325</td>\n",
       "    </tr>\n",
       "    <tr>\n",
       "      <td>14204</td>\n",
       "      <td>180.059143</td>\n",
       "      <td>183.731873</td>\n",
       "      <td>187.839096</td>\n",
       "      <td>196.265366</td>\n",
       "      <td>211.442123</td>\n",
       "      <td>210.999130</td>\n",
       "      <td>210.879639</td>\n",
       "      <td>210.740723</td>\n",
       "      <td>210.712662</td>\n",
       "      <td>210.771622</td>\n",
       "      <td>...</td>\n",
       "      <td>7.835698e-08</td>\n",
       "      <td>5.368859e-08</td>\n",
       "      <td>3.557479e-08</td>\n",
       "      <td>2.260590e-08</td>\n",
       "      <td>1.355379e-08</td>\n",
       "      <td>7.555722e-09</td>\n",
       "      <td>3.981944e-09</td>\n",
       "      <td>0.265153</td>\n",
       "      <td>166.943878</td>\n",
       "      <td>52.282276</td>\n",
       "    </tr>\n",
       "    <tr>\n",
       "      <td>10817</td>\n",
       "      <td>231.022614</td>\n",
       "      <td>225.297241</td>\n",
       "      <td>223.350174</td>\n",
       "      <td>221.999786</td>\n",
       "      <td>221.010818</td>\n",
       "      <td>220.171585</td>\n",
       "      <td>219.410080</td>\n",
       "      <td>218.694382</td>\n",
       "      <td>218.007553</td>\n",
       "      <td>217.339661</td>\n",
       "      <td>...</td>\n",
       "      <td>6.941240e-08</td>\n",
       "      <td>4.762054e-08</td>\n",
       "      <td>3.161896e-08</td>\n",
       "      <td>2.016234e-08</td>\n",
       "      <td>1.216579e-08</td>\n",
       "      <td>6.867146e-09</td>\n",
       "      <td>3.710099e-09</td>\n",
       "      <td>0.281561</td>\n",
       "      <td>273.760223</td>\n",
       "      <td>500.310547</td>\n",
       "    </tr>\n",
       "    <tr>\n",
       "      <td>...</td>\n",
       "      <td>...</td>\n",
       "      <td>...</td>\n",
       "      <td>...</td>\n",
       "      <td>...</td>\n",
       "      <td>...</td>\n",
       "      <td>...</td>\n",
       "      <td>...</td>\n",
       "      <td>...</td>\n",
       "      <td>...</td>\n",
       "      <td>...</td>\n",
       "      <td>...</td>\n",
       "      <td>...</td>\n",
       "      <td>...</td>\n",
       "      <td>...</td>\n",
       "      <td>...</td>\n",
       "      <td>...</td>\n",
       "      <td>...</td>\n",
       "      <td>...</td>\n",
       "      <td>...</td>\n",
       "      <td>...</td>\n",
       "      <td>...</td>\n",
       "    </tr>\n",
       "    <tr>\n",
       "      <td>11125</td>\n",
       "      <td>227.114380</td>\n",
       "      <td>232.380737</td>\n",
       "      <td>233.175140</td>\n",
       "      <td>233.034241</td>\n",
       "      <td>232.632553</td>\n",
       "      <td>232.137665</td>\n",
       "      <td>231.604477</td>\n",
       "      <td>231.050354</td>\n",
       "      <td>230.483322</td>\n",
       "      <td>229.908371</td>\n",
       "      <td>...</td>\n",
       "      <td>1.003137e-07</td>\n",
       "      <td>6.858397e-08</td>\n",
       "      <td>4.528509e-08</td>\n",
       "      <td>2.860386e-08</td>\n",
       "      <td>1.696059e-08</td>\n",
       "      <td>9.245576e-09</td>\n",
       "      <td>4.648804e-09</td>\n",
       "      <td>0.205663</td>\n",
       "      <td>213.107254</td>\n",
       "      <td>9.133098</td>\n",
       "    </tr>\n",
       "    <tr>\n",
       "      <td>10126</td>\n",
       "      <td>207.817184</td>\n",
       "      <td>204.206635</td>\n",
       "      <td>202.728821</td>\n",
       "      <td>201.789825</td>\n",
       "      <td>201.110794</td>\n",
       "      <td>200.542923</td>\n",
       "      <td>200.042511</td>\n",
       "      <td>199.597916</td>\n",
       "      <td>199.204391</td>\n",
       "      <td>198.898987</td>\n",
       "      <td>...</td>\n",
       "      <td>8.333047e-08</td>\n",
       "      <td>5.706255e-08</td>\n",
       "      <td>3.777424e-08</td>\n",
       "      <td>2.396443e-08</td>\n",
       "      <td>1.432537e-08</td>\n",
       "      <td>7.938386e-09</td>\n",
       "      <td>4.132880e-09</td>\n",
       "      <td>0.245331</td>\n",
       "      <td>234.560699</td>\n",
       "      <td>359.698181</td>\n",
       "    </tr>\n",
       "    <tr>\n",
       "      <td>10484</td>\n",
       "      <td>243.220322</td>\n",
       "      <td>238.971161</td>\n",
       "      <td>237.411346</td>\n",
       "      <td>236.225784</td>\n",
       "      <td>235.307724</td>\n",
       "      <td>234.497467</td>\n",
       "      <td>233.742493</td>\n",
       "      <td>233.019135</td>\n",
       "      <td>232.314941</td>\n",
       "      <td>231.622604</td>\n",
       "      <td>...</td>\n",
       "      <td>8.563438e-08</td>\n",
       "      <td>5.862553e-08</td>\n",
       "      <td>3.879315e-08</td>\n",
       "      <td>2.459381e-08</td>\n",
       "      <td>1.468287e-08</td>\n",
       "      <td>8.115721e-09</td>\n",
       "      <td>4.202873e-09</td>\n",
       "      <td>0.254779</td>\n",
       "      <td>269.745697</td>\n",
       "      <td>416.483765</td>\n",
       "    </tr>\n",
       "    <tr>\n",
       "      <td>1665</td>\n",
       "      <td>237.386444</td>\n",
       "      <td>233.407074</td>\n",
       "      <td>231.868195</td>\n",
       "      <td>230.699768</td>\n",
       "      <td>229.795624</td>\n",
       "      <td>228.998810</td>\n",
       "      <td>228.257324</td>\n",
       "      <td>227.547974</td>\n",
       "      <td>226.858307</td>\n",
       "      <td>226.181030</td>\n",
       "      <td>...</td>\n",
       "      <td>8.612493e-08</td>\n",
       "      <td>5.895830e-08</td>\n",
       "      <td>3.901007e-08</td>\n",
       "      <td>2.472778e-08</td>\n",
       "      <td>1.475894e-08</td>\n",
       "      <td>8.153435e-09</td>\n",
       "      <td>4.217731e-09</td>\n",
       "      <td>0.265713</td>\n",
       "      <td>260.448120</td>\n",
       "      <td>369.566162</td>\n",
       "    </tr>\n",
       "    <tr>\n",
       "      <td>14165</td>\n",
       "      <td>235.302292</td>\n",
       "      <td>232.142151</td>\n",
       "      <td>230.932755</td>\n",
       "      <td>229.978317</td>\n",
       "      <td>229.204330</td>\n",
       "      <td>228.501816</td>\n",
       "      <td>227.833496</td>\n",
       "      <td>227.182373</td>\n",
       "      <td>226.540146</td>\n",
       "      <td>225.903915</td>\n",
       "      <td>...</td>\n",
       "      <td>1.082758e-07</td>\n",
       "      <td>7.398548e-08</td>\n",
       "      <td>4.880641e-08</td>\n",
       "      <td>3.077901e-08</td>\n",
       "      <td>1.819613e-08</td>\n",
       "      <td>9.858522e-09</td>\n",
       "      <td>4.890793e-09</td>\n",
       "      <td>0.205176</td>\n",
       "      <td>262.643341</td>\n",
       "      <td>512.632080</td>\n",
       "    </tr>\n",
       "  </tbody>\n",
       "</table>\n",
       "<p>7104 rows × 107 columns</p>\n",
       "</div>"
      ],
      "text/plain": [
       "              0           1           2           3           4           5    \\\n",
       "2640   217.265930  213.500366  211.960175  210.917984  210.146210  209.489426   \n",
       "8569   240.966003  235.959579  234.238297  233.038284  232.135757  231.350677   \n",
       "12555  240.340363  236.738098  235.256165  234.136368  233.253448  232.469727   \n",
       "14204  180.059143  183.731873  187.839096  196.265366  211.442123  210.999130   \n",
       "10817  231.022614  225.297241  223.350174  221.999786  221.010818  220.171585   \n",
       "...           ...         ...         ...         ...         ...         ...   \n",
       "11125  227.114380  232.380737  233.175140  233.034241  232.632553  232.137665   \n",
       "10126  207.817184  204.206635  202.728821  201.789825  201.110794  200.542923   \n",
       "10484  243.220322  238.971161  237.411346  236.225784  235.307724  234.497467   \n",
       "1665   237.386444  233.407074  231.868195  230.699768  229.795624  228.998810   \n",
       "14165  235.302292  232.142151  230.932755  229.978317  229.204330  228.501816   \n",
       "\n",
       "              6           7           8           9    ...           97   \\\n",
       "2640   208.891357  208.326508  207.783783  207.257339  ...  8.358283e-08   \n",
       "8569   230.623291  229.928024  229.251770  228.587036  ...  1.263074e-07   \n",
       "12555  231.736618  231.032349  230.345383  229.669052  ...  9.955108e-08   \n",
       "14204  210.879639  210.740723  210.712662  210.771622  ...  7.835698e-08   \n",
       "10817  219.410080  218.694382  218.007553  217.339661  ...  6.941240e-08   \n",
       "...           ...         ...         ...         ...  ...           ...   \n",
       "11125  231.604477  231.050354  230.483322  229.908371  ...  1.003137e-07   \n",
       "10126  200.042511  199.597916  199.204391  198.898987  ...  8.333047e-08   \n",
       "10484  233.742493  233.019135  232.314941  231.622604  ...  8.563438e-08   \n",
       "1665   228.257324  227.547974  226.858307  226.181030  ...  8.612493e-08   \n",
       "14165  227.833496  227.182373  226.540146  225.903915  ...  1.082758e-07   \n",
       "\n",
       "                98            99            100           101           102  \\\n",
       "2640   5.723374e-08  3.788582e-08  2.403334e-08  1.436450e-08  7.957774e-09   \n",
       "8569   8.621809e-08  5.678083e-08  3.570471e-08  2.099387e-08  1.124624e-08   \n",
       "12555  6.806664e-08  4.494786e-08  2.839557e-08  1.684230e-08  9.186921e-09   \n",
       "14204  5.368859e-08  3.557479e-08  2.260590e-08  1.355379e-08  7.555722e-09   \n",
       "10817  4.762054e-08  3.161896e-08  2.016234e-08  1.216579e-08  6.867146e-09   \n",
       "...             ...           ...           ...           ...           ...   \n",
       "11125  6.858397e-08  4.528509e-08  2.860386e-08  1.696059e-08  9.245576e-09   \n",
       "10126  5.706255e-08  3.777424e-08  2.396443e-08  1.432537e-08  7.938386e-09   \n",
       "10484  5.862553e-08  3.879315e-08  2.459381e-08  1.468287e-08  8.115721e-09   \n",
       "1665   5.895830e-08  3.901007e-08  2.472778e-08  1.475894e-08  8.153435e-09   \n",
       "14165  7.398548e-08  4.880641e-08  3.077901e-08  1.819613e-08  9.858522e-09   \n",
       "\n",
       "                103       104         105         106  \n",
       "2640   4.140509e-09  0.140971  246.081085  396.547546  \n",
       "8569   5.438388e-09  0.255179  277.439026  500.111877  \n",
       "12555  4.625681e-09  0.229264  261.510742  395.839325  \n",
       "14204  3.981944e-09  0.265153  166.943878   52.282276  \n",
       "10817  3.710099e-09  0.281561  273.760223  500.310547  \n",
       "...             ...       ...         ...         ...  \n",
       "11125  4.648804e-09  0.205663  213.107254    9.133098  \n",
       "10126  4.132880e-09  0.245331  234.560699  359.698181  \n",
       "10484  4.202873e-09  0.254779  269.745697  416.483765  \n",
       "1665   4.217731e-09  0.265713  260.448120  369.566162  \n",
       "14165  4.890793e-09  0.205176  262.643341  512.632080  \n",
       "\n",
       "[7104 rows x 107 columns]"
      ]
     },
     "execution_count": 37,
     "metadata": {},
     "output_type": "execute_result"
    }
   ],
   "source": [
    "train_in"
   ]
  },
  {
   "cell_type": "markdown",
   "metadata": {},
   "source": [
    "Let's try linear regression"
   ]
  },
  {
   "cell_type": "code",
   "execution_count": 38,
   "metadata": {},
   "outputs": [
    {
     "data": {
      "text/plain": [
       "LinearRegression(copy_X=True, fit_intercept=True, n_jobs=None, normalize=False)"
      ]
     },
     "execution_count": 38,
     "metadata": {},
     "output_type": "execute_result"
    }
   ],
   "source": [
    "from sklearn.linear_model import LinearRegression\n",
    "\n",
    "lin_reg = LinearRegression()\n",
    "lin_reg.fit(train_in, train_out)"
   ]
  },
  {
   "cell_type": "code",
   "execution_count": 39,
   "metadata": {},
   "outputs": [
    {
     "data": {
      "text/plain": [
       "3.7528121"
      ]
     },
     "execution_count": 39,
     "metadata": {},
     "output_type": "execute_result"
    }
   ],
   "source": [
    "from sklearn.metrics import mean_squared_error\n",
    "\n",
    "train_pred = lin_reg.predict(train_in) #prediction\n",
    "lin_mse = mean_squared_error(train_out, train_pred)\n",
    "lin_rmse = np.sqrt(lin_mse)\n",
    "lin_rmse "
   ]
  },
  {
   "cell_type": "code",
   "execution_count": 40,
   "metadata": {},
   "outputs": [
    {
     "data": {
      "text/plain": [
       "(7104, 107)"
      ]
     },
     "execution_count": 40,
     "metadata": {},
     "output_type": "execute_result"
    }
   ],
   "source": [
    "train_in.shape"
   ]
  },
  {
   "cell_type": "code",
   "execution_count": 41,
   "metadata": {},
   "outputs": [
    {
     "data": {
      "text/plain": [
       "(7104,)"
      ]
     },
     "execution_count": 41,
     "metadata": {},
     "output_type": "execute_result"
    }
   ],
   "source": [
    "train_pred.shape"
   ]
  },
  {
   "cell_type": "code",
   "execution_count": 42,
   "metadata": {},
   "outputs": [
    {
     "data": {
      "text/plain": [
       "array([322.7667 , 349.06992, 283.27304, ..., 295.13925, 260.1124 ,\n",
       "       388.99228], dtype=float32)"
      ]
     },
     "execution_count": 42,
     "metadata": {},
     "output_type": "execute_result"
    }
   ],
   "source": [
    "train_pred"
   ]
  },
  {
   "cell_type": "code",
   "execution_count": 43,
   "metadata": {},
   "outputs": [],
   "source": [
    "train_out = np.array(train_out)"
   ]
  },
  {
   "cell_type": "code",
   "execution_count": 44,
   "metadata": {},
   "outputs": [
    {
     "data": {
      "text/plain": [
       "(7104,)"
      ]
     },
     "execution_count": 44,
     "metadata": {},
     "output_type": "execute_result"
    }
   ],
   "source": [
    "train_out.shape"
   ]
  },
  {
   "cell_type": "code",
   "execution_count": 45,
   "metadata": {},
   "outputs": [],
   "source": [
    "days_list = []\n",
    "l_list = []\n",
    "for i in range(len(indices)):\n",
    "    day = indices[i]//72\n",
    "    l_point = indices[i]%72\n",
    "    days_list.append(day)\n",
    "    l_list.append(l_point)\n",
    "days_list = np.array(days_list)\n",
    "l_list = np.array(l_list)"
   ]
  },
  {
   "cell_type": "markdown",
   "metadata": {},
   "source": [
    "Bad contour plot method (filling in gaps with average value):"
   ]
  },
  {
   "cell_type": "code",
   "execution_count": 46,
   "metadata": {},
   "outputs": [
    {
     "data": {
      "text/plain": [
       "'\\npred_contour = np.full((240, 72), np.average(train_pred))\\ndays_list = []\\nl_list = []\\nfor i in range(len(indices)):\\n    day = indices[i]//72\\n    l_point = indices[i]%72\\n    days_list.append(day)\\n    l_list.append(l_point)\\n    pred_contour[day][l_point] = train_pred[i]\\ndays_list = np.array(days_list)\\nl_list = np.array(l_list)\\n\\nout_contour = np.full((240, 72), np.average(train_out))\\n\\nfor i in range(len(indices)):\\n    day = indices[i]//72\\n    l_point = indices[i]%72\\n    out_contour[day][l_point] = train_out[i]\\n    \\nplt.contourf(out_contour)\\nplt.colorbar()\\nplt.title(\"Actual Bottom Solar Flux\")\\nplt.xlabel(\"longtitude\")\\nplt.ylabel(\"day\")\\nplt.show()\\nplt.savefig(\"Actual\")\\n'"
      ]
     },
     "execution_count": 46,
     "metadata": {},
     "output_type": "execute_result"
    }
   ],
   "source": [
    "\"\"\"\n",
    "pred_contour = np.full((240, 72), np.average(train_pred))\n",
    "days_list = []\n",
    "l_list = []\n",
    "for i in range(len(indices)):\n",
    "    day = indices[i]//72\n",
    "    l_point = indices[i]%72\n",
    "    days_list.append(day)\n",
    "    l_list.append(l_point)\n",
    "    pred_contour[day][l_point] = train_pred[i]\n",
    "days_list = np.array(days_list)\n",
    "l_list = np.array(l_list)\n",
    "\n",
    "out_contour = np.full((240, 72), np.average(train_out))\n",
    "\n",
    "for i in range(len(indices)):\n",
    "    day = indices[i]//72\n",
    "    l_point = indices[i]%72\n",
    "    out_contour[day][l_point] = train_out[i]\n",
    "    \n",
    "plt.contourf(out_contour)\n",
    "plt.colorbar()\n",
    "plt.title(\"Actual Bottom Solar Flux\")\n",
    "plt.xlabel(\"longtitude\")\n",
    "plt.ylabel(\"day\")\n",
    "plt.show()\n",
    "plt.savefig(\"Actual\")\n",
    "\"\"\""
   ]
  },
  {
   "cell_type": "code",
   "execution_count": 47,
   "metadata": {},
   "outputs": [
    {
     "data": {
      "image/png": "[encoded data removed]",
      "text/plain": [
       "<Figure size 432x288 with 2 Axes>"
      ]
     },
     "metadata": {
      "needs_background": "light"
     },
     "output_type": "display_data"
    }
   ],
   "source": [
    "plt.contourf(bsf[1,:,:])\n",
    "plt.colorbar()\n",
    "plt.title(\"Temperature Profile\")\n",
    "plt.xlabel(\"Longtitude\")\n",
    "plt.ylabel(\"Latitude\")\n",
    "plt.show()"
   ]
  },
  {
   "cell_type": "code",
   "execution_count": 48,
   "metadata": {},
   "outputs": [],
   "source": [
    "pred_contour = np.full((240, 72), np.nan)"
   ]
  },
  {
   "cell_type": "code",
   "execution_count": 49,
   "metadata": {},
   "outputs": [
    {
     "data": {
      "text/plain": [
       "array([[nan, nan, nan, ..., nan, nan, nan],\n",
       "       [nan, nan, nan, ..., nan, nan, nan],\n",
       "       [nan, nan, nan, ..., nan, nan, nan],\n",
       "       ...,\n",
       "       [nan, nan, nan, ..., nan, nan, nan],\n",
       "       [nan, nan, nan, ..., nan, nan, nan],\n",
       "       [nan, nan, nan, ..., nan, nan, nan]])"
      ]
     },
     "execution_count": 49,
     "metadata": {},
     "output_type": "execute_result"
    }
   ],
   "source": [
    "pred_contour"
   ]
  },
  {
   "cell_type": "code",
   "execution_count": 50,
   "metadata": {},
   "outputs": [],
   "source": [
    "pred_contour = np.full((240, 72), np.nan)\n",
    "days_list = []\n",
    "l_list = []\n",
    "for i in range(len(indices)):\n",
    "    day = indices[i]//72\n",
    "    l_point = indices[i]%72\n",
    "    days_list.append(day)\n",
    "    l_list.append(l_point)\n",
    "    pred_contour[day][l_point] = train_pred[i]\n",
    "days_list = np.array(days_list)\n",
    "l_list = np.array(l_list)\n",
    "\n",
    "out_contour = np.full((240, 72), np.nan)\n",
    "\n",
    "for i in range(len(indices)):\n",
    "    day = indices[i]//72\n",
    "    l_point = indices[i]%72\n",
    "    out_contour[day][l_point] = train_out[i]\n",
    "    \n"
   ]
  },
  {
   "cell_type": "code",
   "execution_count": 51,
   "metadata": {},
   "outputs": [
    {
     "data": {
      "image/png": "[encoded data removed]",
      "text/plain": [
       "<Figure size 432x288 with 2 Axes>"
      ]
     },
     "metadata": {
      "needs_background": "light"
     },
     "output_type": "display_data"
    },
    {
     "data": {
      "text/plain": [
       "<Figure size 432x288 with 0 Axes>"
      ]
     },
     "metadata": {},
     "output_type": "display_data"
    }
   ],
   "source": [
    "plt.contourf(out_contour)\n",
    "plt.colorbar()\n",
    "plt.title(\"Actual Bottom Solar Flux\")\n",
    "plt.xlabel(\"longtitude\")\n",
    "plt.ylabel(\"day\")\n",
    "plt.show()\n",
    "plt.savefig(\"Actual\")"
   ]
  },
  {
   "cell_type": "code",
   "execution_count": 52,
   "metadata": {},
   "outputs": [
    {
     "data": {
      "image/png": "[encoded data removed]",
      "text/plain": [
       "<Figure size 432x288 with 2 Axes>"
      ]
     },
     "metadata": {
      "needs_background": "light"
     },
     "output_type": "display_data"
    },
    {
     "data": {
      "text/plain": [
       "<Figure size 432x288 with 0 Axes>"
      ]
     },
     "metadata": {},
     "output_type": "display_data"
    }
   ],
   "source": [
    "plt.contourf(pred_contour)\n",
    "plt.colorbar()\n",
    "plt.title(\"Predicted Bottom Solar Flux\")\n",
    "plt.xlabel(\"longtitude\")\n",
    "plt.ylabel(\"day\")\n",
    "plt.show()\n",
    "plt.savefig(\"Predicted\")"
   ]
  },
  {
   "cell_type": "code",
   "execution_count": 53,
   "metadata": {},
   "outputs": [
    {
     "data": {
      "image/png": "[encoded data removed]",
      "text/plain": [
       "<Figure size 432x288 with 2 Axes>"
      ]
     },
     "metadata": {
      "needs_background": "light"
     },
     "output_type": "display_data"
    },
    {
     "data": {
      "text/plain": [
       "<Figure size 432x288 with 0 Axes>"
      ]
     },
     "metadata": {},
     "output_type": "display_data"
    }
   ],
   "source": [
    "plt.contourf(pred_contour - out_contour)\n",
    "plt.colorbar()\n",
    "plt.title(\"Difference\")\n",
    "plt.xlabel(\"longtitude\")\n",
    "plt.ylabel(\"day\")\n",
    "plt.show()"
   ]
  },
  {
   "cell_type": "code",
   "execution_count": 72,
   "metadata": {},
   "outputs": [
    {
     "data": {
      "image/png": "[encoded data removed]",
      "text/plain": [
       "<Figure size 432x288 with 2 Axes>"
      ]
     },
     "metadata": {
      "needs_background": "light"
     },
     "output_type": "display_data"
    }
   ],
   "source": [
    "plt.contourf((pred_contour - out_contour)/out_contour)\n",
    "plt.colorbar()\n",
    "plt.title(\"Relative Difference\")\n",
    "plt.xlabel(\"longtitude\")\n",
    "plt.ylabel(\"day\")\n",
    "plt.show()"
   ]
  },
  {
   "cell_type": "code",
   "execution_count": 55,
   "metadata": {},
   "outputs": [],
   "source": [
    "corr_matrix = e_d.corr()"
   ]
  },
  {
   "cell_type": "code",
   "execution_count": 56,
   "metadata": {},
   "outputs": [],
   "source": [
    "coefficients = corr_matrix.iloc[:,107]"
   ]
  },
  {
   "cell_type": "code",
   "execution_count": 57,
   "metadata": {},
   "outputs": [
    {
     "data": {
      "text/plain": [
       "0     0.736909\n",
       "1     0.606773\n",
       "2     0.518567\n",
       "3     0.432219\n",
       "4     0.367792\n",
       "5     0.315021\n",
       "6     0.275256\n",
       "7     0.243601\n",
       "8     0.215447\n",
       "9     0.189032\n",
       "10    0.156764\n",
       "11    0.126433\n",
       "12    0.101370\n",
       "13    0.080297\n",
       "14    0.051788\n",
       "15    0.023783\n",
       "16   -0.012175\n",
       "17   -0.069813\n",
       "18   -0.101063\n",
       "19   -0.072736\n",
       "20    0.044425\n",
       "21    0.135187\n",
       "22    0.205835\n",
       "23    0.242987\n",
       "24    0.258347\n",
       "25    0.234141\n",
       "26    0.141160\n",
       "27    0.000238\n",
       "28   -0.147368\n",
       "29   -0.249324\n",
       "30   -0.306729\n",
       "31   -0.348940\n",
       "32   -0.387446\n",
       "33   -0.395269\n",
       "34   -0.365810\n",
       "35   -0.285679\n",
       "36   -0.232303\n",
       "37   -0.187120\n",
       "38   -0.058104\n",
       "39    0.145280\n",
       "40    0.335841\n",
       "41    0.463284\n",
       "42    0.516391\n",
       "43    0.476357\n",
       "44    0.334785\n",
       "45    0.152026\n",
       "46    0.031495\n",
       "47   -0.015819\n",
       "48   -0.057126\n",
       "49   -0.004264\n",
       "50    0.146491\n",
       "51    0.687656\n",
       "Name: 107, dtype: float64"
      ]
     },
     "execution_count": 57,
     "metadata": {},
     "output_type": "execute_result"
    }
   ],
   "source": [
    "coefficients[:52] #temperature"
   ]
  },
  {
   "cell_type": "code",
   "execution_count": 58,
   "metadata": {},
   "outputs": [
    {
     "data": {
      "text/plain": [
       "52    -0.016757\n",
       "53    -0.016755\n",
       "54    -0.016752\n",
       "55    -0.016748\n",
       "56    -0.016745\n",
       "57    -0.016744\n",
       "58    -0.016743\n",
       "59    -0.016742\n",
       "60    -0.016741\n",
       "61    -0.016739\n",
       "62    -0.016738\n",
       "63    -0.016736\n",
       "64    -0.016734\n",
       "65    -0.016731\n",
       "66    -0.016729\n",
       "67    -0.016724\n",
       "68    -0.016719\n",
       "69    -0.016703\n",
       "70    -0.016676\n",
       "71    -0.016635\n",
       "72    -0.016575\n",
       "73    -0.016485\n",
       "74    -0.016349\n",
       "75    -0.016142\n",
       "76    -0.015822\n",
       "77    -0.015338\n",
       "78    -0.014624\n",
       "79    -0.013602\n",
       "80    -0.012163\n",
       "81    -0.010212\n",
       "82    -0.007636\n",
       "83    -0.004397\n",
       "84    -0.000473\n",
       "85     0.004021\n",
       "86     0.008762\n",
       "87     0.012988\n",
       "88     0.015932\n",
       "89     0.015590\n",
       "90    -0.008069\n",
       "91    -0.016764\n",
       "92    -0.016764\n",
       "93    -0.016764\n",
       "94    -0.016764\n",
       "95    -0.016764\n",
       "96    -0.016764\n",
       "97    -0.016764\n",
       "98    -0.016763\n",
       "99    -0.016763\n",
       "100   -0.016763\n",
       "101   -0.016763\n",
       "102   -0.016762\n",
       "103   -0.016759\n",
       "Name: 107, dtype: float64"
      ]
     },
     "execution_count": 58,
     "metadata": {},
     "output_type": "execute_result"
    }
   ],
   "source": [
    "coefficients[52:104] #dust profile"
   ]
  },
  {
   "cell_type": "code",
   "execution_count": 59,
   "metadata": {},
   "outputs": [
    {
     "data": {
      "text/plain": [
       "-0.046151656577810944"
      ]
     },
     "execution_count": 59,
     "metadata": {},
     "output_type": "execute_result"
    }
   ],
   "source": [
    "coefficients[104] #albedo"
   ]
  },
  {
   "cell_type": "code",
   "execution_count": 60,
   "metadata": {},
   "outputs": [
    {
     "data": {
      "text/plain": [
       "0.919865360926923"
      ]
     },
     "execution_count": 60,
     "metadata": {},
     "output_type": "execute_result"
    }
   ],
   "source": [
    "coefficients[105] #surface temp"
   ]
  },
  {
   "cell_type": "code",
   "execution_count": 61,
   "metadata": {},
   "outputs": [
    {
     "data": {
      "text/plain": [
       "0.9974379705040396"
      ]
     },
     "execution_count": 61,
     "metadata": {},
     "output_type": "execute_result"
    }
   ],
   "source": [
    "coefficients[106] #top solar flux"
   ]
  },
  {
   "cell_type": "code",
   "execution_count": 62,
   "metadata": {},
   "outputs": [
    {
     "data": {
      "text/plain": [
       "1.0"
      ]
     },
     "execution_count": 62,
     "metadata": {},
     "output_type": "execute_result"
    }
   ],
   "source": [
    "coefficients[107] #bottom solar flux, should be 1"
   ]
  },
  {
   "cell_type": "code",
   "execution_count": 64,
   "metadata": {
    "scrolled": true
   },
   "outputs": [
    {
     "data": {
      "text/plain": [
       "array([ -1.9985952 ,   2.0495827 ,  -0.5569055 ,  -0.05070615,\n",
       "         0.8874599 ,  -0.9980174 ,   1.127172  ,  -1.9893408 ,\n",
       "         4.0862494 ,  -7.3729506 ,  12.897492  , -14.053913  ,\n",
       "        11.808876  ,  -9.0261135 ,   5.1086035 ,  -1.7601178 ,\n",
       "        -1.526813  ,   1.2178055 ,   0.31122285,   0.6711577 ,\n",
       "        -0.85715973,   0.2895329 ,   0.7494863 ,  -0.82073164,\n",
       "         0.49265498,  -0.21910712,  -0.15810905,   0.54997426,\n",
       "        -0.5124448 ,   1.1481025 ,  -0.3989633 ,   0.1584532 ,\n",
       "        -0.10933009,  -0.47665453,   0.2522239 ,  -0.41241884,\n",
       "         0.12136352,  -0.09470052,   0.23257017,  -0.2706561 ,\n",
       "         0.06392014,  -0.0841713 ,   0.14673924,  -0.09627569,\n",
       "        -0.1899867 ,   0.1440832 ,  -0.13207442,   0.03655219,\n",
       "        -0.09580687,  -0.0153746 ,  -0.03571284,   0.1261617 ],\n",
       "      dtype=float32)"
      ]
     },
     "execution_count": 64,
     "metadata": {},
     "output_type": "execute_result"
    }
   ],
   "source": [
    "lin_reg.coef_[:52]"
   ]
  },
  {
   "cell_type": "code",
   "execution_count": 65,
   "metadata": {},
   "outputs": [
    {
     "data": {
      "text/plain": [
       "array([ 1.3318552e+02,  1.5013612e+02,  1.6910536e+02,  1.8543762e+02,\n",
       "        1.8994479e+02,  1.8509595e+02,  1.7503139e+02,  1.6178535e+02,\n",
       "        1.4726578e+02,  1.3274680e+02,  1.1751236e+02,  9.4263275e+01,\n",
       "        7.2122681e+01,  4.9113182e+01,  2.6045002e+01, -1.2846584e+01,\n",
       "       -5.2819962e+01, -1.5998711e+02, -2.9719482e+02, -4.3920590e+02,\n",
       "       -5.8115942e+02, -7.1281653e+02, -8.2377478e+02, -8.9423267e+02,\n",
       "       -8.9613269e+02, -7.8956689e+02, -5.3866211e+02, -1.2911662e+02,\n",
       "        3.9660846e+02,  8.6527051e+02,  9.4786133e+02,  2.9105594e+02,\n",
       "       -1.0513715e+03, -2.2972722e+03, -2.4957068e+03, -1.6239152e+03,\n",
       "       -6.2269360e+02, -1.1256151e+02, -1.8826549e+00,  3.8197925e-03,\n",
       "        2.8258108e-03,  2.0784538e-03,  1.5139672e-03,  1.0935196e-03,\n",
       "        7.7927223e-04,  5.4422260e-04,  3.6776980e-04,  2.3856507e-04,\n",
       "        1.4625237e-04,  8.1648868e-05,  3.8897277e-05,  1.3406239e-05],\n",
       "      dtype=float32)"
      ]
     },
     "execution_count": 65,
     "metadata": {},
     "output_type": "execute_result"
    }
   ],
   "source": [
    "lin_reg.coef_[52:104]"
   ]
  },
  {
   "cell_type": "code",
   "execution_count": 66,
   "metadata": {},
   "outputs": [
    {
     "data": {
      "text/plain": [
       "-302.02628"
      ]
     },
     "execution_count": 66,
     "metadata": {},
     "output_type": "execute_result"
    }
   ],
   "source": [
    "lin_reg.coef_[104]"
   ]
  },
  {
   "cell_type": "code",
   "execution_count": 69,
   "metadata": {},
   "outputs": [
    {
     "data": {
      "text/plain": [
       "-0.039711177"
      ]
     },
     "execution_count": 69,
     "metadata": {},
     "output_type": "execute_result"
    }
   ],
   "source": [
    "lin_reg.coef_[105]"
   ]
  },
  {
   "cell_type": "code",
   "execution_count": 67,
   "metadata": {},
   "outputs": [
    {
     "data": {
      "text/plain": [
       "0.80957913"
      ]
     },
     "execution_count": 67,
     "metadata": {},
     "output_type": "execute_result"
    }
   ],
   "source": [
    "lin_reg.coef_[106]"
   ]
  },
  {
   "cell_type": "code",
   "execution_count": 73,
   "metadata": {},
   "outputs": [
    {
     "data": {
      "text/html": [
       "<div>\n",
       "<style scoped>\n",
       "    .dataframe tbody tr th:only-of-type {\n",
       "        vertical-align: middle;\n",
       "    }\n",
       "\n",
       "    .dataframe tbody tr th {\n",
       "        vertical-align: top;\n",
       "    }\n",
       "\n",
       "    .dataframe thead th {\n",
       "        text-align: right;\n",
       "    }\n",
       "</style>\n",
       "<table border=\"1\" class=\"dataframe\">\n",
       "  <thead>\n",
       "    <tr style=\"text-align: right;\">\n",
       "      <th></th>\n",
       "      <th>0</th>\n",
       "      <th>1</th>\n",
       "      <th>2</th>\n",
       "      <th>3</th>\n",
       "      <th>4</th>\n",
       "      <th>5</th>\n",
       "      <th>6</th>\n",
       "      <th>7</th>\n",
       "      <th>8</th>\n",
       "      <th>9</th>\n",
       "      <th>...</th>\n",
       "      <th>97</th>\n",
       "      <th>98</th>\n",
       "      <th>99</th>\n",
       "      <th>100</th>\n",
       "      <th>101</th>\n",
       "      <th>102</th>\n",
       "      <th>103</th>\n",
       "      <th>104</th>\n",
       "      <th>105</th>\n",
       "      <th>106</th>\n",
       "    </tr>\n",
       "  </thead>\n",
       "  <tbody>\n",
       "    <tr>\n",
       "      <td>2640</td>\n",
       "      <td>217.265930</td>\n",
       "      <td>213.500366</td>\n",
       "      <td>211.960175</td>\n",
       "      <td>210.917984</td>\n",
       "      <td>210.146210</td>\n",
       "      <td>209.489426</td>\n",
       "      <td>208.891357</td>\n",
       "      <td>208.326508</td>\n",
       "      <td>207.783783</td>\n",
       "      <td>207.257339</td>\n",
       "      <td>...</td>\n",
       "      <td>8.358283e-08</td>\n",
       "      <td>5.723374e-08</td>\n",
       "      <td>3.788582e-08</td>\n",
       "      <td>2.403334e-08</td>\n",
       "      <td>1.436450e-08</td>\n",
       "      <td>7.957774e-09</td>\n",
       "      <td>4.140509e-09</td>\n",
       "      <td>0.140971</td>\n",
       "      <td>246.081085</td>\n",
       "      <td>396.547546</td>\n",
       "    </tr>\n",
       "    <tr>\n",
       "      <td>8569</td>\n",
       "      <td>240.966003</td>\n",
       "      <td>235.959579</td>\n",
       "      <td>234.238297</td>\n",
       "      <td>233.038284</td>\n",
       "      <td>232.135757</td>\n",
       "      <td>231.350677</td>\n",
       "      <td>230.623291</td>\n",
       "      <td>229.928024</td>\n",
       "      <td>229.251770</td>\n",
       "      <td>228.587036</td>\n",
       "      <td>...</td>\n",
       "      <td>1.263074e-07</td>\n",
       "      <td>8.621809e-08</td>\n",
       "      <td>5.678083e-08</td>\n",
       "      <td>3.570471e-08</td>\n",
       "      <td>2.099387e-08</td>\n",
       "      <td>1.124624e-08</td>\n",
       "      <td>5.438388e-09</td>\n",
       "      <td>0.255179</td>\n",
       "      <td>277.439026</td>\n",
       "      <td>500.111877</td>\n",
       "    </tr>\n",
       "    <tr>\n",
       "      <td>12555</td>\n",
       "      <td>240.340363</td>\n",
       "      <td>236.738098</td>\n",
       "      <td>235.256165</td>\n",
       "      <td>234.136368</td>\n",
       "      <td>233.253448</td>\n",
       "      <td>232.469727</td>\n",
       "      <td>231.736618</td>\n",
       "      <td>231.032349</td>\n",
       "      <td>230.345383</td>\n",
       "      <td>229.669052</td>\n",
       "      <td>...</td>\n",
       "      <td>9.955108e-08</td>\n",
       "      <td>6.806664e-08</td>\n",
       "      <td>4.494786e-08</td>\n",
       "      <td>2.839557e-08</td>\n",
       "      <td>1.684230e-08</td>\n",
       "      <td>9.186921e-09</td>\n",
       "      <td>4.625681e-09</td>\n",
       "      <td>0.229264</td>\n",
       "      <td>261.510742</td>\n",
       "      <td>395.839325</td>\n",
       "    </tr>\n",
       "    <tr>\n",
       "      <td>14204</td>\n",
       "      <td>180.059143</td>\n",
       "      <td>183.731873</td>\n",
       "      <td>187.839096</td>\n",
       "      <td>196.265366</td>\n",
       "      <td>211.442123</td>\n",
       "      <td>210.999130</td>\n",
       "      <td>210.879639</td>\n",
       "      <td>210.740723</td>\n",
       "      <td>210.712662</td>\n",
       "      <td>210.771622</td>\n",
       "      <td>...</td>\n",
       "      <td>7.835698e-08</td>\n",
       "      <td>5.368859e-08</td>\n",
       "      <td>3.557479e-08</td>\n",
       "      <td>2.260590e-08</td>\n",
       "      <td>1.355379e-08</td>\n",
       "      <td>7.555722e-09</td>\n",
       "      <td>3.981944e-09</td>\n",
       "      <td>0.265153</td>\n",
       "      <td>166.943878</td>\n",
       "      <td>52.282276</td>\n",
       "    </tr>\n",
       "    <tr>\n",
       "      <td>10817</td>\n",
       "      <td>231.022614</td>\n",
       "      <td>225.297241</td>\n",
       "      <td>223.350174</td>\n",
       "      <td>221.999786</td>\n",
       "      <td>221.010818</td>\n",
       "      <td>220.171585</td>\n",
       "      <td>219.410080</td>\n",
       "      <td>218.694382</td>\n",
       "      <td>218.007553</td>\n",
       "      <td>217.339661</td>\n",
       "      <td>...</td>\n",
       "      <td>6.941240e-08</td>\n",
       "      <td>4.762054e-08</td>\n",
       "      <td>3.161896e-08</td>\n",
       "      <td>2.016234e-08</td>\n",
       "      <td>1.216579e-08</td>\n",
       "      <td>6.867146e-09</td>\n",
       "      <td>3.710099e-09</td>\n",
       "      <td>0.281561</td>\n",
       "      <td>273.760223</td>\n",
       "      <td>500.310547</td>\n",
       "    </tr>\n",
       "    <tr>\n",
       "      <td>...</td>\n",
       "      <td>...</td>\n",
       "      <td>...</td>\n",
       "      <td>...</td>\n",
       "      <td>...</td>\n",
       "      <td>...</td>\n",
       "      <td>...</td>\n",
       "      <td>...</td>\n",
       "      <td>...</td>\n",
       "      <td>...</td>\n",
       "      <td>...</td>\n",
       "      <td>...</td>\n",
       "      <td>...</td>\n",
       "      <td>...</td>\n",
       "      <td>...</td>\n",
       "      <td>...</td>\n",
       "      <td>...</td>\n",
       "      <td>...</td>\n",
       "      <td>...</td>\n",
       "      <td>...</td>\n",
       "      <td>...</td>\n",
       "      <td>...</td>\n",
       "    </tr>\n",
       "    <tr>\n",
       "      <td>11125</td>\n",
       "      <td>227.114380</td>\n",
       "      <td>232.380737</td>\n",
       "      <td>233.175140</td>\n",
       "      <td>233.034241</td>\n",
       "      <td>232.632553</td>\n",
       "      <td>232.137665</td>\n",
       "      <td>231.604477</td>\n",
       "      <td>231.050354</td>\n",
       "      <td>230.483322</td>\n",
       "      <td>229.908371</td>\n",
       "      <td>...</td>\n",
       "      <td>1.003137e-07</td>\n",
       "      <td>6.858397e-08</td>\n",
       "      <td>4.528509e-08</td>\n",
       "      <td>2.860386e-08</td>\n",
       "      <td>1.696059e-08</td>\n",
       "      <td>9.245576e-09</td>\n",
       "      <td>4.648804e-09</td>\n",
       "      <td>0.205663</td>\n",
       "      <td>213.107254</td>\n",
       "      <td>9.133098</td>\n",
       "    </tr>\n",
       "    <tr>\n",
       "      <td>10126</td>\n",
       "      <td>207.817184</td>\n",
       "      <td>204.206635</td>\n",
       "      <td>202.728821</td>\n",
       "      <td>201.789825</td>\n",
       "      <td>201.110794</td>\n",
       "      <td>200.542923</td>\n",
       "      <td>200.042511</td>\n",
       "      <td>199.597916</td>\n",
       "      <td>199.204391</td>\n",
       "      <td>198.898987</td>\n",
       "      <td>...</td>\n",
       "      <td>8.333047e-08</td>\n",
       "      <td>5.706255e-08</td>\n",
       "      <td>3.777424e-08</td>\n",
       "      <td>2.396443e-08</td>\n",
       "      <td>1.432537e-08</td>\n",
       "      <td>7.938386e-09</td>\n",
       "      <td>4.132880e-09</td>\n",
       "      <td>0.245331</td>\n",
       "      <td>234.560699</td>\n",
       "      <td>359.698181</td>\n",
       "    </tr>\n",
       "    <tr>\n",
       "      <td>10484</td>\n",
       "      <td>243.220322</td>\n",
       "      <td>238.971161</td>\n",
       "      <td>237.411346</td>\n",
       "      <td>236.225784</td>\n",
       "      <td>235.307724</td>\n",
       "      <td>234.497467</td>\n",
       "      <td>233.742493</td>\n",
       "      <td>233.019135</td>\n",
       "      <td>232.314941</td>\n",
       "      <td>231.622604</td>\n",
       "      <td>...</td>\n",
       "      <td>8.563438e-08</td>\n",
       "      <td>5.862553e-08</td>\n",
       "      <td>3.879315e-08</td>\n",
       "      <td>2.459381e-08</td>\n",
       "      <td>1.468287e-08</td>\n",
       "      <td>8.115721e-09</td>\n",
       "      <td>4.202873e-09</td>\n",
       "      <td>0.254779</td>\n",
       "      <td>269.745697</td>\n",
       "      <td>416.483765</td>\n",
       "    </tr>\n",
       "    <tr>\n",
       "      <td>1665</td>\n",
       "      <td>237.386444</td>\n",
       "      <td>233.407074</td>\n",
       "      <td>231.868195</td>\n",
       "      <td>230.699768</td>\n",
       "      <td>229.795624</td>\n",
       "      <td>228.998810</td>\n",
       "      <td>228.257324</td>\n",
       "      <td>227.547974</td>\n",
       "      <td>226.858307</td>\n",
       "      <td>226.181030</td>\n",
       "      <td>...</td>\n",
       "      <td>8.612493e-08</td>\n",
       "      <td>5.895830e-08</td>\n",
       "      <td>3.901007e-08</td>\n",
       "      <td>2.472778e-08</td>\n",
       "      <td>1.475894e-08</td>\n",
       "      <td>8.153435e-09</td>\n",
       "      <td>4.217731e-09</td>\n",
       "      <td>0.265713</td>\n",
       "      <td>260.448120</td>\n",
       "      <td>369.566162</td>\n",
       "    </tr>\n",
       "    <tr>\n",
       "      <td>14165</td>\n",
       "      <td>235.302292</td>\n",
       "      <td>232.142151</td>\n",
       "      <td>230.932755</td>\n",
       "      <td>229.978317</td>\n",
       "      <td>229.204330</td>\n",
       "      <td>228.501816</td>\n",
       "      <td>227.833496</td>\n",
       "      <td>227.182373</td>\n",
       "      <td>226.540146</td>\n",
       "      <td>225.903915</td>\n",
       "      <td>...</td>\n",
       "      <td>1.082758e-07</td>\n",
       "      <td>7.398548e-08</td>\n",
       "      <td>4.880641e-08</td>\n",
       "      <td>3.077901e-08</td>\n",
       "      <td>1.819613e-08</td>\n",
       "      <td>9.858522e-09</td>\n",
       "      <td>4.890793e-09</td>\n",
       "      <td>0.205176</td>\n",
       "      <td>262.643341</td>\n",
       "      <td>512.632080</td>\n",
       "    </tr>\n",
       "  </tbody>\n",
       "</table>\n",
       "<p>7104 rows × 107 columns</p>\n",
       "</div>"
      ],
      "text/plain": [
       "              0           1           2           3           4           5    \\\n",
       "2640   217.265930  213.500366  211.960175  210.917984  210.146210  209.489426   \n",
       "8569   240.966003  235.959579  234.238297  233.038284  232.135757  231.350677   \n",
       "12555  240.340363  236.738098  235.256165  234.136368  233.253448  232.469727   \n",
       "14204  180.059143  183.731873  187.839096  196.265366  211.442123  210.999130   \n",
       "10817  231.022614  225.297241  223.350174  221.999786  221.010818  220.171585   \n",
       "...           ...         ...         ...         ...         ...         ...   \n",
       "11125  227.114380  232.380737  233.175140  233.034241  232.632553  232.137665   \n",
       "10126  207.817184  204.206635  202.728821  201.789825  201.110794  200.542923   \n",
       "10484  243.220322  238.971161  237.411346  236.225784  235.307724  234.497467   \n",
       "1665   237.386444  233.407074  231.868195  230.699768  229.795624  228.998810   \n",
       "14165  235.302292  232.142151  230.932755  229.978317  229.204330  228.501816   \n",
       "\n",
       "              6           7           8           9    ...           97   \\\n",
       "2640   208.891357  208.326508  207.783783  207.257339  ...  8.358283e-08   \n",
       "8569   230.623291  229.928024  229.251770  228.587036  ...  1.263074e-07   \n",
       "12555  231.736618  231.032349  230.345383  229.669052  ...  9.955108e-08   \n",
       "14204  210.879639  210.740723  210.712662  210.771622  ...  7.835698e-08   \n",
       "10817  219.410080  218.694382  218.007553  217.339661  ...  6.941240e-08   \n",
       "...           ...         ...         ...         ...  ...           ...   \n",
       "11125  231.604477  231.050354  230.483322  229.908371  ...  1.003137e-07   \n",
       "10126  200.042511  199.597916  199.204391  198.898987  ...  8.333047e-08   \n",
       "10484  233.742493  233.019135  232.314941  231.622604  ...  8.563438e-08   \n",
       "1665   228.257324  227.547974  226.858307  226.181030  ...  8.612493e-08   \n",
       "14165  227.833496  227.182373  226.540146  225.903915  ...  1.082758e-07   \n",
       "\n",
       "                98            99            100           101           102  \\\n",
       "2640   5.723374e-08  3.788582e-08  2.403334e-08  1.436450e-08  7.957774e-09   \n",
       "8569   8.621809e-08  5.678083e-08  3.570471e-08  2.099387e-08  1.124624e-08   \n",
       "12555  6.806664e-08  4.494786e-08  2.839557e-08  1.684230e-08  9.186921e-09   \n",
       "14204  5.368859e-08  3.557479e-08  2.260590e-08  1.355379e-08  7.555722e-09   \n",
       "10817  4.762054e-08  3.161896e-08  2.016234e-08  1.216579e-08  6.867146e-09   \n",
       "...             ...           ...           ...           ...           ...   \n",
       "11125  6.858397e-08  4.528509e-08  2.860386e-08  1.696059e-08  9.245576e-09   \n",
       "10126  5.706255e-08  3.777424e-08  2.396443e-08  1.432537e-08  7.938386e-09   \n",
       "10484  5.862553e-08  3.879315e-08  2.459381e-08  1.468287e-08  8.115721e-09   \n",
       "1665   5.895830e-08  3.901007e-08  2.472778e-08  1.475894e-08  8.153435e-09   \n",
       "14165  7.398548e-08  4.880641e-08  3.077901e-08  1.819613e-08  9.858522e-09   \n",
       "\n",
       "                103       104         105         106  \n",
       "2640   4.140509e-09  0.140971  246.081085  396.547546  \n",
       "8569   5.438388e-09  0.255179  277.439026  500.111877  \n",
       "12555  4.625681e-09  0.229264  261.510742  395.839325  \n",
       "14204  3.981944e-09  0.265153  166.943878   52.282276  \n",
       "10817  3.710099e-09  0.281561  273.760223  500.310547  \n",
       "...             ...       ...         ...         ...  \n",
       "11125  4.648804e-09  0.205663  213.107254    9.133098  \n",
       "10126  4.132880e-09  0.245331  234.560699  359.698181  \n",
       "10484  4.202873e-09  0.254779  269.745697  416.483765  \n",
       "1665   4.217731e-09  0.265713  260.448120  369.566162  \n",
       "14165  4.890793e-09  0.205176  262.643341  512.632080  \n",
       "\n",
       "[7104 rows x 107 columns]"
      ]
     },
     "execution_count": 73,
     "metadata": {},
     "output_type": "execute_result"
    }
   ],
   "source": [
    "train_in"
   ]
  },
  {
   "cell_type": "code",
   "execution_count": 75,
   "metadata": {},
   "outputs": [
    {
     "data": {
      "text/html": [
       "<div>\n",
       "<style scoped>\n",
       "    .dataframe tbody tr th:only-of-type {\n",
       "        vertical-align: middle;\n",
       "    }\n",
       "\n",
       "    .dataframe tbody tr th {\n",
       "        vertical-align: top;\n",
       "    }\n",
       "\n",
       "    .dataframe thead th {\n",
       "        text-align: right;\n",
       "    }\n",
       "</style>\n",
       "<table border=\"1\" class=\"dataframe\">\n",
       "  <thead>\n",
       "    <tr style=\"text-align: right;\">\n",
       "      <th></th>\n",
       "      <th>0</th>\n",
       "      <th>1</th>\n",
       "      <th>2</th>\n",
       "      <th>3</th>\n",
       "      <th>4</th>\n",
       "      <th>5</th>\n",
       "      <th>6</th>\n",
       "      <th>7</th>\n",
       "      <th>8</th>\n",
       "      <th>9</th>\n",
       "      <th>...</th>\n",
       "      <th>96</th>\n",
       "      <th>97</th>\n",
       "      <th>98</th>\n",
       "      <th>99</th>\n",
       "      <th>100</th>\n",
       "      <th>101</th>\n",
       "      <th>102</th>\n",
       "      <th>103</th>\n",
       "      <th>104</th>\n",
       "      <th>106</th>\n",
       "    </tr>\n",
       "  </thead>\n",
       "  <tbody>\n",
       "    <tr>\n",
       "      <td>2640</td>\n",
       "      <td>217.265930</td>\n",
       "      <td>213.500366</td>\n",
       "      <td>211.960175</td>\n",
       "      <td>210.917984</td>\n",
       "      <td>210.146210</td>\n",
       "      <td>209.489426</td>\n",
       "      <td>208.891357</td>\n",
       "      <td>208.326508</td>\n",
       "      <td>207.783783</td>\n",
       "      <td>207.257339</td>\n",
       "      <td>...</td>\n",
       "      <td>1.188361e-07</td>\n",
       "      <td>8.358283e-08</td>\n",
       "      <td>5.723374e-08</td>\n",
       "      <td>3.788582e-08</td>\n",
       "      <td>2.403334e-08</td>\n",
       "      <td>1.436450e-08</td>\n",
       "      <td>7.957774e-09</td>\n",
       "      <td>4.140509e-09</td>\n",
       "      <td>0.140971</td>\n",
       "      <td>396.547546</td>\n",
       "    </tr>\n",
       "    <tr>\n",
       "      <td>8569</td>\n",
       "      <td>240.966003</td>\n",
       "      <td>235.959579</td>\n",
       "      <td>234.238297</td>\n",
       "      <td>233.038284</td>\n",
       "      <td>232.135757</td>\n",
       "      <td>231.350677</td>\n",
       "      <td>230.623291</td>\n",
       "      <td>229.928024</td>\n",
       "      <td>229.251770</td>\n",
       "      <td>228.587036</td>\n",
       "      <td>...</td>\n",
       "      <td>1.799442e-07</td>\n",
       "      <td>1.263074e-07</td>\n",
       "      <td>8.621809e-08</td>\n",
       "      <td>5.678083e-08</td>\n",
       "      <td>3.570471e-08</td>\n",
       "      <td>2.099387e-08</td>\n",
       "      <td>1.124624e-08</td>\n",
       "      <td>5.438388e-09</td>\n",
       "      <td>0.255179</td>\n",
       "      <td>500.111877</td>\n",
       "    </tr>\n",
       "    <tr>\n",
       "      <td>12555</td>\n",
       "      <td>240.340363</td>\n",
       "      <td>236.738098</td>\n",
       "      <td>235.256165</td>\n",
       "      <td>234.136368</td>\n",
       "      <td>233.253448</td>\n",
       "      <td>232.469727</td>\n",
       "      <td>231.736618</td>\n",
       "      <td>231.032349</td>\n",
       "      <td>230.345383</td>\n",
       "      <td>229.669052</td>\n",
       "      <td>...</td>\n",
       "      <td>1.416752e-07</td>\n",
       "      <td>9.955108e-08</td>\n",
       "      <td>6.806664e-08</td>\n",
       "      <td>4.494786e-08</td>\n",
       "      <td>2.839557e-08</td>\n",
       "      <td>1.684230e-08</td>\n",
       "      <td>9.186921e-09</td>\n",
       "      <td>4.625681e-09</td>\n",
       "      <td>0.229264</td>\n",
       "      <td>395.839325</td>\n",
       "    </tr>\n",
       "    <tr>\n",
       "      <td>14204</td>\n",
       "      <td>180.059143</td>\n",
       "      <td>183.731873</td>\n",
       "      <td>187.839096</td>\n",
       "      <td>196.265366</td>\n",
       "      <td>211.442123</td>\n",
       "      <td>210.999130</td>\n",
       "      <td>210.879639</td>\n",
       "      <td>210.740723</td>\n",
       "      <td>210.712662</td>\n",
       "      <td>210.771622</td>\n",
       "      <td>...</td>\n",
       "      <td>1.113616e-07</td>\n",
       "      <td>7.835698e-08</td>\n",
       "      <td>5.368859e-08</td>\n",
       "      <td>3.557479e-08</td>\n",
       "      <td>2.260590e-08</td>\n",
       "      <td>1.355379e-08</td>\n",
       "      <td>7.555722e-09</td>\n",
       "      <td>3.981944e-09</td>\n",
       "      <td>0.265153</td>\n",
       "      <td>52.282276</td>\n",
       "    </tr>\n",
       "    <tr>\n",
       "      <td>10817</td>\n",
       "      <td>231.022614</td>\n",
       "      <td>225.297241</td>\n",
       "      <td>223.350174</td>\n",
       "      <td>221.999786</td>\n",
       "      <td>221.010818</td>\n",
       "      <td>220.171585</td>\n",
       "      <td>219.410080</td>\n",
       "      <td>218.694382</td>\n",
       "      <td>218.007553</td>\n",
       "      <td>217.339661</td>\n",
       "      <td>...</td>\n",
       "      <td>9.856844e-08</td>\n",
       "      <td>6.941240e-08</td>\n",
       "      <td>4.762054e-08</td>\n",
       "      <td>3.161896e-08</td>\n",
       "      <td>2.016234e-08</td>\n",
       "      <td>1.216579e-08</td>\n",
       "      <td>6.867146e-09</td>\n",
       "      <td>3.710099e-09</td>\n",
       "      <td>0.281561</td>\n",
       "      <td>500.310547</td>\n",
       "    </tr>\n",
       "    <tr>\n",
       "      <td>...</td>\n",
       "      <td>...</td>\n",
       "      <td>...</td>\n",
       "      <td>...</td>\n",
       "      <td>...</td>\n",
       "      <td>...</td>\n",
       "      <td>...</td>\n",
       "      <td>...</td>\n",
       "      <td>...</td>\n",
       "      <td>...</td>\n",
       "      <td>...</td>\n",
       "      <td>...</td>\n",
       "      <td>...</td>\n",
       "      <td>...</td>\n",
       "      <td>...</td>\n",
       "      <td>...</td>\n",
       "      <td>...</td>\n",
       "      <td>...</td>\n",
       "      <td>...</td>\n",
       "      <td>...</td>\n",
       "      <td>...</td>\n",
       "      <td>...</td>\n",
       "    </tr>\n",
       "    <tr>\n",
       "      <td>11125</td>\n",
       "      <td>227.114380</td>\n",
       "      <td>232.380737</td>\n",
       "      <td>233.175140</td>\n",
       "      <td>233.034241</td>\n",
       "      <td>232.632553</td>\n",
       "      <td>232.137665</td>\n",
       "      <td>231.604477</td>\n",
       "      <td>231.050354</td>\n",
       "      <td>230.483322</td>\n",
       "      <td>229.908371</td>\n",
       "      <td>...</td>\n",
       "      <td>1.427659e-07</td>\n",
       "      <td>1.003137e-07</td>\n",
       "      <td>6.858397e-08</td>\n",
       "      <td>4.528509e-08</td>\n",
       "      <td>2.860386e-08</td>\n",
       "      <td>1.696059e-08</td>\n",
       "      <td>9.245576e-09</td>\n",
       "      <td>4.648804e-09</td>\n",
       "      <td>0.205663</td>\n",
       "      <td>9.133098</td>\n",
       "    </tr>\n",
       "    <tr>\n",
       "      <td>10126</td>\n",
       "      <td>207.817184</td>\n",
       "      <td>204.206635</td>\n",
       "      <td>202.728821</td>\n",
       "      <td>201.789825</td>\n",
       "      <td>201.110794</td>\n",
       "      <td>200.542923</td>\n",
       "      <td>200.042511</td>\n",
       "      <td>199.597916</td>\n",
       "      <td>199.204391</td>\n",
       "      <td>198.898987</td>\n",
       "      <td>...</td>\n",
       "      <td>1.184752e-07</td>\n",
       "      <td>8.333047e-08</td>\n",
       "      <td>5.706255e-08</td>\n",
       "      <td>3.777424e-08</td>\n",
       "      <td>2.396443e-08</td>\n",
       "      <td>1.432537e-08</td>\n",
       "      <td>7.938386e-09</td>\n",
       "      <td>4.132880e-09</td>\n",
       "      <td>0.245331</td>\n",
       "      <td>359.698181</td>\n",
       "    </tr>\n",
       "    <tr>\n",
       "      <td>10484</td>\n",
       "      <td>243.220322</td>\n",
       "      <td>238.971161</td>\n",
       "      <td>237.411346</td>\n",
       "      <td>236.225784</td>\n",
       "      <td>235.307724</td>\n",
       "      <td>234.497467</td>\n",
       "      <td>233.742493</td>\n",
       "      <td>233.019135</td>\n",
       "      <td>232.314941</td>\n",
       "      <td>231.622604</td>\n",
       "      <td>...</td>\n",
       "      <td>1.217704e-07</td>\n",
       "      <td>8.563438e-08</td>\n",
       "      <td>5.862553e-08</td>\n",
       "      <td>3.879315e-08</td>\n",
       "      <td>2.459381e-08</td>\n",
       "      <td>1.468287e-08</td>\n",
       "      <td>8.115721e-09</td>\n",
       "      <td>4.202873e-09</td>\n",
       "      <td>0.254779</td>\n",
       "      <td>416.483765</td>\n",
       "    </tr>\n",
       "    <tr>\n",
       "      <td>1665</td>\n",
       "      <td>237.386444</td>\n",
       "      <td>233.407074</td>\n",
       "      <td>231.868195</td>\n",
       "      <td>230.699768</td>\n",
       "      <td>229.795624</td>\n",
       "      <td>228.998810</td>\n",
       "      <td>228.257324</td>\n",
       "      <td>227.547974</td>\n",
       "      <td>226.858307</td>\n",
       "      <td>226.181030</td>\n",
       "      <td>...</td>\n",
       "      <td>1.224721e-07</td>\n",
       "      <td>8.612493e-08</td>\n",
       "      <td>5.895830e-08</td>\n",
       "      <td>3.901007e-08</td>\n",
       "      <td>2.472778e-08</td>\n",
       "      <td>1.475894e-08</td>\n",
       "      <td>8.153435e-09</td>\n",
       "      <td>4.217731e-09</td>\n",
       "      <td>0.265713</td>\n",
       "      <td>369.566162</td>\n",
       "    </tr>\n",
       "    <tr>\n",
       "      <td>14165</td>\n",
       "      <td>235.302292</td>\n",
       "      <td>232.142151</td>\n",
       "      <td>230.932755</td>\n",
       "      <td>229.978317</td>\n",
       "      <td>229.204330</td>\n",
       "      <td>228.501816</td>\n",
       "      <td>227.833496</td>\n",
       "      <td>227.182373</td>\n",
       "      <td>226.540146</td>\n",
       "      <td>225.903915</td>\n",
       "      <td>...</td>\n",
       "      <td>1.541539e-07</td>\n",
       "      <td>1.082758e-07</td>\n",
       "      <td>7.398548e-08</td>\n",
       "      <td>4.880641e-08</td>\n",
       "      <td>3.077901e-08</td>\n",
       "      <td>1.819613e-08</td>\n",
       "      <td>9.858522e-09</td>\n",
       "      <td>4.890793e-09</td>\n",
       "      <td>0.205176</td>\n",
       "      <td>512.632080</td>\n",
       "    </tr>\n",
       "  </tbody>\n",
       "</table>\n",
       "<p>7104 rows × 106 columns</p>\n",
       "</div>"
      ],
      "text/plain": [
       "              0           1           2           3           4           5    \\\n",
       "2640   217.265930  213.500366  211.960175  210.917984  210.146210  209.489426   \n",
       "8569   240.966003  235.959579  234.238297  233.038284  232.135757  231.350677   \n",
       "12555  240.340363  236.738098  235.256165  234.136368  233.253448  232.469727   \n",
       "14204  180.059143  183.731873  187.839096  196.265366  211.442123  210.999130   \n",
       "10817  231.022614  225.297241  223.350174  221.999786  221.010818  220.171585   \n",
       "...           ...         ...         ...         ...         ...         ...   \n",
       "11125  227.114380  232.380737  233.175140  233.034241  232.632553  232.137665   \n",
       "10126  207.817184  204.206635  202.728821  201.789825  201.110794  200.542923   \n",
       "10484  243.220322  238.971161  237.411346  236.225784  235.307724  234.497467   \n",
       "1665   237.386444  233.407074  231.868195  230.699768  229.795624  228.998810   \n",
       "14165  235.302292  232.142151  230.932755  229.978317  229.204330  228.501816   \n",
       "\n",
       "              6           7           8           9    ...           96   \\\n",
       "2640   208.891357  208.326508  207.783783  207.257339  ...  1.188361e-07   \n",
       "8569   230.623291  229.928024  229.251770  228.587036  ...  1.799442e-07   \n",
       "12555  231.736618  231.032349  230.345383  229.669052  ...  1.416752e-07   \n",
       "14204  210.879639  210.740723  210.712662  210.771622  ...  1.113616e-07   \n",
       "10817  219.410080  218.694382  218.007553  217.339661  ...  9.856844e-08   \n",
       "...           ...         ...         ...         ...  ...           ...   \n",
       "11125  231.604477  231.050354  230.483322  229.908371  ...  1.427659e-07   \n",
       "10126  200.042511  199.597916  199.204391  198.898987  ...  1.184752e-07   \n",
       "10484  233.742493  233.019135  232.314941  231.622604  ...  1.217704e-07   \n",
       "1665   228.257324  227.547974  226.858307  226.181030  ...  1.224721e-07   \n",
       "14165  227.833496  227.182373  226.540146  225.903915  ...  1.541539e-07   \n",
       "\n",
       "                97            98            99            100           101  \\\n",
       "2640   8.358283e-08  5.723374e-08  3.788582e-08  2.403334e-08  1.436450e-08   \n",
       "8569   1.263074e-07  8.621809e-08  5.678083e-08  3.570471e-08  2.099387e-08   \n",
       "12555  9.955108e-08  6.806664e-08  4.494786e-08  2.839557e-08  1.684230e-08   \n",
       "14204  7.835698e-08  5.368859e-08  3.557479e-08  2.260590e-08  1.355379e-08   \n",
       "10817  6.941240e-08  4.762054e-08  3.161896e-08  2.016234e-08  1.216579e-08   \n",
       "...             ...           ...           ...           ...           ...   \n",
       "11125  1.003137e-07  6.858397e-08  4.528509e-08  2.860386e-08  1.696059e-08   \n",
       "10126  8.333047e-08  5.706255e-08  3.777424e-08  2.396443e-08  1.432537e-08   \n",
       "10484  8.563438e-08  5.862553e-08  3.879315e-08  2.459381e-08  1.468287e-08   \n",
       "1665   8.612493e-08  5.895830e-08  3.901007e-08  2.472778e-08  1.475894e-08   \n",
       "14165  1.082758e-07  7.398548e-08  4.880641e-08  3.077901e-08  1.819613e-08   \n",
       "\n",
       "                102           103       104         106  \n",
       "2640   7.957774e-09  4.140509e-09  0.140971  396.547546  \n",
       "8569   1.124624e-08  5.438388e-09  0.255179  500.111877  \n",
       "12555  9.186921e-09  4.625681e-09  0.229264  395.839325  \n",
       "14204  7.555722e-09  3.981944e-09  0.265153   52.282276  \n",
       "10817  6.867146e-09  3.710099e-09  0.281561  500.310547  \n",
       "...             ...           ...       ...         ...  \n",
       "11125  9.245576e-09  4.648804e-09  0.205663    9.133098  \n",
       "10126  7.938386e-09  4.132880e-09  0.245331  359.698181  \n",
       "10484  8.115721e-09  4.202873e-09  0.254779  416.483765  \n",
       "1665   8.153435e-09  4.217731e-09  0.265713  369.566162  \n",
       "14165  9.858522e-09  4.890793e-09  0.205176  512.632080  \n",
       "\n",
       "[7104 rows x 106 columns]"
      ]
     },
     "execution_count": 75,
     "metadata": {},
     "output_type": "execute_result"
    }
   ],
   "source": [
    "train_in2 = train_in.drop(train_in.columns[105], axis=1)\n",
    "train_in2"
   ]
  },
  {
   "cell_type": "code",
   "execution_count": 76,
   "metadata": {},
   "outputs": [
    {
     "data": {
      "text/plain": [
       "3.8219717"
      ]
     },
     "execution_count": 76,
     "metadata": {},
     "output_type": "execute_result"
    }
   ],
   "source": [
    "from sklearn.linear_model import LinearRegression\n",
    "\n",
    "lin_reg = LinearRegression()\n",
    "lin_reg.fit(train_in2, train_out)\n",
    "\n",
    "train_pred2 = lin_reg.predict(train_in2) #prediction for input without surface temp\n",
    "lin_mse = mean_squared_error(train_out, train_pred2)\n",
    "lin_rmse = np.sqrt(lin_mse)\n",
    "lin_rmse #error is slightly higher"
   ]
  },
  {
   "cell_type": "code",
   "execution_count": null,
   "metadata": {},
   "outputs": [],
   "source": []
  }
 ],
 "metadata": {
  "kernelspec": {
   "display_name": "Python 3",
   "language": "python",
   "name": "python3"
  },
  "language_info": {
   "codemirror_mode": {
    "name": "ipython",
    "version": 3
   },
   "file_extension": ".py",
   "mimetype": "text/x-python",
   "name": "python",
   "nbconvert_exporter": "python",
   "pygments_lexer": "ipython3",
   "version": "3.7.4"
  }
 },
 "nbformat": 4,
 "nbformat_minor": 2
}
