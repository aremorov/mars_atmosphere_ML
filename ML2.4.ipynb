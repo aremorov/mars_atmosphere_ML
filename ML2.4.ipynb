{
 "cells": [
  {
   "cell_type": "code",
   "execution_count": 1,
   "metadata": {},
   "outputs": [],
   "source": [
    "import xarray as xr\n",
    "import matplotlib.pyplot as plt\n",
    "import numpy as np\n",
    "import pandas as pd"
   ]
  },
  {
   "cell_type": "code",
   "execution_count": 2,
   "metadata": {},
   "outputs": [],
   "source": [
    "dataDIR = 'short'\n",
    "DS = xr.open_dataset(dataDIR)"
   ]
  },
  {
   "cell_type": "code",
   "execution_count": 3,
   "metadata": {},
   "outputs": [],
   "source": [
    "d_t = DS.TAU_OD2D #2d dust"
   ]
  },
  {
   "cell_type": "code",
   "execution_count": 4,
   "metadata": {},
   "outputs": [
    {
     "data": {
      "text/plain": [
       "(240, 36, 72)"
      ]
     },
     "execution_count": 4,
     "metadata": {},
     "output_type": "execute_result"
    }
   ],
   "source": [
    "d_t.shape"
   ]
  },
  {
   "cell_type": "code",
   "execution_count": 5,
   "metadata": {},
   "outputs": [],
   "source": [
    "tsf = DS.TOASW.values #top solar flux"
   ]
  },
  {
   "cell_type": "code",
   "execution_count": 6,
   "metadata": {},
   "outputs": [
    {
     "data": {
      "text/plain": [
       "(240, 36, 72)"
      ]
     },
     "execution_count": 6,
     "metadata": {},
     "output_type": "execute_result"
    }
   ],
   "source": [
    "tsf.shape"
   ]
  },
  {
   "cell_type": "code",
   "execution_count": 7,
   "metadata": {},
   "outputs": [],
   "source": [
    "bsf = DS.GSW.values #bottom solar flux, ouput"
   ]
  },
  {
   "cell_type": "code",
   "execution_count": 8,
   "metadata": {},
   "outputs": [
    {
     "data": {
      "text/plain": [
       "(240, 36, 72)"
      ]
     },
     "execution_count": 8,
     "metadata": {},
     "output_type": "execute_result"
    }
   ],
   "source": [
    "bsf.shape"
   ]
  },
  {
   "cell_type": "markdown",
   "metadata": {},
   "source": [
    "Q_ext and Solar Fraction array:"
   ]
  },
  {
   "cell_type": "code",
   "execution_count": 9,
   "metadata": {},
   "outputs": [],
   "source": [
    "frac = np.array([[0.572, 0.01053964],\n",
    "             [0.948, 0.01813533],\n",
    "             [1.349, 0.03795698],\n",
    "             [1.799, 0.0934216],\n",
    "             [2.307, 0.2550174],\n",
    "             [2.543, 0.46579044],\n",
    "             [2.562, 2.562]])"
   ]
  },
  {
   "cell_type": "code",
   "execution_count": 10,
   "metadata": {},
   "outputs": [],
   "source": [
    "d_t7 = []\n",
    "tsf7 = []\n",
    "Q_ref = 2.52497935\n",
    "for i in range(7):\n",
    "    d_t7.append(np.array(d_t) * frac[i, 0]/Q_ref)\n",
    "    tsf7.append(np.array(tsf) * frac[i, 1])    \n",
    "d_t7 = np.array(d_t7)\n",
    "tsf7 = np.array(tsf7)"
   ]
  },
  {
   "cell_type": "code",
   "execution_count": 11,
   "metadata": {},
   "outputs": [],
   "source": [
    "exp_d = np.exp(-d_t7) #exponent of dust opacity"
   ]
  },
  {
   "cell_type": "code",
   "execution_count": 12,
   "metadata": {},
   "outputs": [],
   "source": [
    "flux_sum = 0\n",
    "for i in range(7):\n",
    "    flux_sum += exp_d[i] * tsf7[i]"
   ]
  },
  {
   "cell_type": "code",
   "execution_count": 13,
   "metadata": {},
   "outputs": [
    {
     "data": {
      "text/plain": [
       "(72,)"
      ]
     },
     "execution_count": 13,
     "metadata": {},
     "output_type": "execute_result"
    }
   ],
   "source": [
    "flux_sum[0][0].shape"
   ]
  },
  {
   "cell_type": "code",
   "execution_count": 14,
   "metadata": {},
   "outputs": [
    {
     "data": {
      "text/plain": [
       "array([[5, 6],\n",
       "       [7, 8]])"
      ]
     },
     "execution_count": 14,
     "metadata": {},
     "output_type": "execute_result"
    }
   ],
   "source": [
    "test1 = np.array([[[1,2],[3,4]],[[5,6],[7,8]],[[9,10],[11,12]]])\n",
    "test1[1]"
   ]
  },
  {
   "cell_type": "code",
   "execution_count": 15,
   "metadata": {},
   "outputs": [
    {
     "data": {
      "text/plain": [
       "array([[[  0.     ,   0.     ,   0.     , ...,   0.     ,   0.     ,\n",
       "           0.     ],\n",
       "        [  0.     ,   0.     ,   0.     , ...,   0.     ,   0.     ,\n",
       "           0.     ],\n",
       "        [  0.     ,   0.     ,   0.     , ...,   0.     ,   0.     ,\n",
       "           0.     ],\n",
       "        ...,\n",
       "        [659.32874, 631.8445 , 604.36035, ..., 739.6997 , 713.4623 ,\n",
       "         686.6039 ],\n",
       "        [658.28894, 641.71277, 625.13666, ..., 706.7621 , 690.9379 ,\n",
       "         674.7391 ],\n",
       "        [652.2001 , 646.6604 , 641.12085, ..., 668.3994 , 663.11115,\n",
       "         657.6976 ]],\n",
       "\n",
       "       [[  0.     ,   0.     ,   0.     , ...,   0.     ,   0.     ,\n",
       "           0.     ],\n",
       "        [  0.     ,   0.     ,   0.     , ...,   0.     ,   0.     ,\n",
       "           0.     ],\n",
       "        [  0.     ,   0.     ,   0.     , ...,   0.     ,   0.     ,\n",
       "           0.     ],\n",
       "        ...,\n",
       "        [317.33722, 316.1377 , 317.33902, ..., 335.1588 , 326.88412,\n",
       "         320.9285 ],\n",
       "        [451.92206, 451.1986 , 451.92313, ..., 462.6706 , 457.67996,\n",
       "         454.088  ],\n",
       "        [583.058  , 582.8161 , 583.0583 , ..., 586.65   , 584.9822 ,\n",
       "         583.7818 ]],\n",
       "\n",
       "       [[  0.     ,   0.     ,   0.     , ...,   0.     ,   0.     ,\n",
       "           0.     ],\n",
       "        [  0.     ,   0.     ,   0.     , ...,   0.     ,   0.     ,\n",
       "           0.     ],\n",
       "        [  0.     ,   0.     ,   0.     , ...,   0.     ,   0.     ,\n",
       "           0.     ],\n",
       "        ...,\n",
       "        [603.844  , 631.34814, 658.85223, ..., 523.4147 , 549.6711 ,\n",
       "         576.5491 ],\n",
       "        [624.6121 , 641.2003 , 657.78845, ..., 576.1039 , 591.9395 ,\n",
       "         608.1501 ],\n",
       "        [640.5922 , 646.13586, 651.6795 , ..., 624.38104, 629.6733 ,\n",
       "         635.0907 ]],\n",
       "\n",
       "       ...,\n",
       "\n",
       "       [[  0.     ,   0.     ,   0.     , ...,   0.     ,   0.     ,\n",
       "           0.     ],\n",
       "        [  0.     ,   0.     ,   0.     , ...,   0.     ,   0.     ,\n",
       "           0.     ],\n",
       "        [  0.     ,   0.     ,   0.     , ...,   0.     ,   0.     ,\n",
       "           0.     ],\n",
       "        ...,\n",
       "        [141.81361, 140.46088, 141.80963, ..., 161.87573, 152.56195,\n",
       "         145.85756],\n",
       "        [289.89148, 289.0756 , 289.8891 , ..., 301.9913 , 296.37396,\n",
       "         292.33044],\n",
       "        [435.7966 , 435.524  , 435.79593, ..., 439.84064, 437.96317,\n",
       "         436.6118 ]],\n",
       "\n",
       "       [[  0.     ,   0.     ,   0.     , ...,   0.     ,   0.     ,\n",
       "           0.     ],\n",
       "        [  0.     ,   0.     ,   0.     , ...,   0.     ,   0.     ,\n",
       "           0.     ],\n",
       "        [  0.     ,   0.     ,   0.     , ...,   0.     ,   0.     ,\n",
       "           0.     ],\n",
       "        ...,\n",
       "        [463.5146 , 494.47037, 525.4264 , ..., 372.99332, 402.54407,\n",
       "         432.79453],\n",
       "        [483.52927, 502.19928, 520.8693 , ..., 428.93445, 446.75696,\n",
       "         465.00153],\n",
       "        [499.87512, 506.115  , 512.3548 , ..., 481.6289 , 487.58533,\n",
       "         493.68292]],\n",
       "\n",
       "       [[  0.     ,   0.     ,   0.     , ...,   0.     ,   0.     ,\n",
       "           0.     ],\n",
       "        [  0.     ,   0.     ,   0.     , ...,   0.     ,   0.     ,\n",
       "           0.     ],\n",
       "        [  0.     ,   0.     ,   0.     , ...,   0.     ,   0.     ,\n",
       "           0.     ],\n",
       "        ...,\n",
       "        [847.5925 , 848.9468 , 847.59644, ..., 827.5064 , 836.8313 ,\n",
       "         843.5437 ],\n",
       "        [714.7864 , 715.60315, 714.7887 , ..., 702.672  , 708.29614,\n",
       "         712.3445 ],\n",
       "        [576.5238 , 576.79675, 576.5244 , ..., 572.4756 , 574.35504,\n",
       "         575.7078 ]]], dtype=float32)"
      ]
     },
     "execution_count": 15,
     "metadata": {},
     "output_type": "execute_result"
    }
   ],
   "source": [
    "flux_sum"
   ]
  },
  {
   "cell_type": "code",
   "execution_count": 16,
   "metadata": {},
   "outputs": [],
   "source": [
    "in_flux = flux_sum.flatten().reshape(-1,1)\n",
    "out_flux = bsf.flatten().reshape(-1,1)"
   ]
  },
  {
   "cell_type": "code",
   "execution_count": 17,
   "metadata": {},
   "outputs": [],
   "source": [
    "t_flux = np.concatenate((in_flux, out_flux),axis = 1)"
   ]
  },
  {
   "cell_type": "code",
   "execution_count": 18,
   "metadata": {},
   "outputs": [
    {
     "data": {
      "text/plain": [
       "(622080, 2)"
      ]
     },
     "execution_count": 18,
     "metadata": {},
     "output_type": "execute_result"
    }
   ],
   "source": [
    "t_flux.shape"
   ]
  },
  {
   "cell_type": "code",
   "execution_count": 19,
   "metadata": {},
   "outputs": [
    {
     "data": {
      "text/html": [
       "<div>\n",
       "<style scoped>\n",
       "    .dataframe tbody tr th:only-of-type {\n",
       "        vertical-align: middle;\n",
       "    }\n",
       "\n",
       "    .dataframe tbody tr th {\n",
       "        vertical-align: top;\n",
       "    }\n",
       "\n",
       "    .dataframe thead th {\n",
       "        text-align: right;\n",
       "    }\n",
       "</style>\n",
       "<table border=\"1\" class=\"dataframe\">\n",
       "  <thead>\n",
       "    <tr style=\"text-align: right;\">\n",
       "      <th></th>\n",
       "      <th>0</th>\n",
       "      <th>1</th>\n",
       "    </tr>\n",
       "  </thead>\n",
       "  <tbody>\n",
       "    <tr>\n",
       "      <td>0</td>\n",
       "      <td>0.000000</td>\n",
       "      <td>0.000000</td>\n",
       "    </tr>\n",
       "    <tr>\n",
       "      <td>1</td>\n",
       "      <td>0.000000</td>\n",
       "      <td>0.000000</td>\n",
       "    </tr>\n",
       "    <tr>\n",
       "      <td>2</td>\n",
       "      <td>0.000000</td>\n",
       "      <td>0.000000</td>\n",
       "    </tr>\n",
       "    <tr>\n",
       "      <td>3</td>\n",
       "      <td>0.000000</td>\n",
       "      <td>0.000000</td>\n",
       "    </tr>\n",
       "    <tr>\n",
       "      <td>4</td>\n",
       "      <td>0.000000</td>\n",
       "      <td>0.000000</td>\n",
       "    </tr>\n",
       "    <tr>\n",
       "      <td>...</td>\n",
       "      <td>...</td>\n",
       "      <td>...</td>\n",
       "    </tr>\n",
       "    <tr>\n",
       "      <td>622075</td>\n",
       "      <td>567.198120</td>\n",
       "      <td>96.394714</td>\n",
       "    </tr>\n",
       "    <tr>\n",
       "      <td>622076</td>\n",
       "      <td>570.083862</td>\n",
       "      <td>97.255112</td>\n",
       "    </tr>\n",
       "    <tr>\n",
       "      <td>622077</td>\n",
       "      <td>572.475586</td>\n",
       "      <td>98.031403</td>\n",
       "    </tr>\n",
       "    <tr>\n",
       "      <td>622078</td>\n",
       "      <td>574.355042</td>\n",
       "      <td>98.716751</td>\n",
       "    </tr>\n",
       "    <tr>\n",
       "      <td>622079</td>\n",
       "      <td>575.707825</td>\n",
       "      <td>99.304947</td>\n",
       "    </tr>\n",
       "  </tbody>\n",
       "</table>\n",
       "<p>622080 rows × 2 columns</p>\n",
       "</div>"
      ],
      "text/plain": [
       "                 0          1\n",
       "0         0.000000   0.000000\n",
       "1         0.000000   0.000000\n",
       "2         0.000000   0.000000\n",
       "3         0.000000   0.000000\n",
       "4         0.000000   0.000000\n",
       "...            ...        ...\n",
       "622075  567.198120  96.394714\n",
       "622076  570.083862  97.255112\n",
       "622077  572.475586  98.031403\n",
       "622078  574.355042  98.716751\n",
       "622079  575.707825  99.304947\n",
       "\n",
       "[622080 rows x 2 columns]"
      ]
     },
     "execution_count": 19,
     "metadata": {},
     "output_type": "execute_result"
    }
   ],
   "source": [
    "d_flux = pd.DataFrame(t_flux)\n",
    "d_flux"
   ]
  },
  {
   "cell_type": "code",
   "execution_count": 20,
   "metadata": {},
   "outputs": [
    {
     "data": {
      "text/html": [
       "<div>\n",
       "<style scoped>\n",
       "    .dataframe tbody tr th:only-of-type {\n",
       "        vertical-align: middle;\n",
       "    }\n",
       "\n",
       "    .dataframe tbody tr th {\n",
       "        vertical-align: top;\n",
       "    }\n",
       "\n",
       "    .dataframe thead th {\n",
       "        text-align: right;\n",
       "    }\n",
       "</style>\n",
       "<table border=\"1\" class=\"dataframe\">\n",
       "  <thead>\n",
       "    <tr style=\"text-align: right;\">\n",
       "      <th></th>\n",
       "      <th>0</th>\n",
       "      <th>1</th>\n",
       "    </tr>\n",
       "  </thead>\n",
       "  <tbody>\n",
       "    <tr>\n",
       "      <td>409</td>\n",
       "      <td>8.696111</td>\n",
       "      <td>0.563285</td>\n",
       "    </tr>\n",
       "    <tr>\n",
       "      <td>410</td>\n",
       "      <td>35.583702</td>\n",
       "      <td>2.558643</td>\n",
       "    </tr>\n",
       "    <tr>\n",
       "      <td>411</td>\n",
       "      <td>57.994366</td>\n",
       "      <td>4.861805</td>\n",
       "    </tr>\n",
       "    <tr>\n",
       "      <td>412</td>\n",
       "      <td>75.611313</td>\n",
       "      <td>7.064542</td>\n",
       "    </tr>\n",
       "    <tr>\n",
       "      <td>413</td>\n",
       "      <td>88.297760</td>\n",
       "      <td>8.831075</td>\n",
       "    </tr>\n",
       "    <tr>\n",
       "      <td>...</td>\n",
       "      <td>...</td>\n",
       "      <td>...</td>\n",
       "    </tr>\n",
       "    <tr>\n",
       "      <td>622075</td>\n",
       "      <td>567.198120</td>\n",
       "      <td>96.394714</td>\n",
       "    </tr>\n",
       "    <tr>\n",
       "      <td>622076</td>\n",
       "      <td>570.083862</td>\n",
       "      <td>97.255112</td>\n",
       "    </tr>\n",
       "    <tr>\n",
       "      <td>622077</td>\n",
       "      <td>572.475586</td>\n",
       "      <td>98.031403</td>\n",
       "    </tr>\n",
       "    <tr>\n",
       "      <td>622078</td>\n",
       "      <td>574.355042</td>\n",
       "      <td>98.716751</td>\n",
       "    </tr>\n",
       "    <tr>\n",
       "      <td>622079</td>\n",
       "      <td>575.707825</td>\n",
       "      <td>99.304947</td>\n",
       "    </tr>\n",
       "  </tbody>\n",
       "</table>\n",
       "<p>315842 rows × 2 columns</p>\n",
       "</div>"
      ],
      "text/plain": [
       "                 0          1\n",
       "409       8.696111   0.563285\n",
       "410      35.583702   2.558643\n",
       "411      57.994366   4.861805\n",
       "412      75.611313   7.064542\n",
       "413      88.297760   8.831075\n",
       "...            ...        ...\n",
       "622075  567.198120  96.394714\n",
       "622076  570.083862  97.255112\n",
       "622077  572.475586  98.031403\n",
       "622078  574.355042  98.716751\n",
       "622079  575.707825  99.304947\n",
       "\n",
       "[315842 rows x 2 columns]"
      ]
     },
     "execution_count": 20,
     "metadata": {},
     "output_type": "execute_result"
    }
   ],
   "source": [
    "d_flux_rem0 = d_flux[d_flux.iloc[:,0] != 0]#removes rows with 0 top solar flux\n",
    "d_flux_rem0"
   ]
  },
  {
   "cell_type": "code",
   "execution_count": 21,
   "metadata": {},
   "outputs": [
    {
     "data": {
      "text/plain": [
       "array([[  8.696111],\n",
       "       [ 35.583702],\n",
       "       [ 57.994366],\n",
       "       ...,\n",
       "       [572.4756  ],\n",
       "       [574.35504 ],\n",
       "       [575.7078  ]], dtype=float32)"
      ]
     },
     "execution_count": 21,
     "metadata": {},
     "output_type": "execute_result"
    }
   ],
   "source": [
    "in_f = np.array(d_flux_rem0[0]).reshape(-1,1)\n",
    "in_f"
   ]
  },
  {
   "cell_type": "code",
   "execution_count": 22,
   "metadata": {},
   "outputs": [
    {
     "data": {
      "text/plain": [
       "array([[ 0.5632845],\n",
       "       [ 2.5586426],\n",
       "       [ 4.861805 ],\n",
       "       ...,\n",
       "       [98.0314   ],\n",
       "       [98.71675  ],\n",
       "       [99.30495  ]], dtype=float32)"
      ]
     },
     "execution_count": 22,
     "metadata": {},
     "output_type": "execute_result"
    }
   ],
   "source": [
    "out_f = np.array(d_flux_rem0[1]).reshape(-1,1)\n",
    "out_f"
   ]
  },
  {
   "cell_type": "markdown",
   "metadata": {},
   "source": [
    "Let's try linear regression"
   ]
  },
  {
   "cell_type": "code",
   "execution_count": 23,
   "metadata": {},
   "outputs": [
    {
     "data": {
      "text/plain": [
       "LinearRegression(copy_X=True, fit_intercept=True, n_jobs=None, normalize=False)"
      ]
     },
     "execution_count": 23,
     "metadata": {},
     "output_type": "execute_result"
    }
   ],
   "source": [
    "from sklearn.linear_model import LinearRegression\n",
    "\n",
    "lin_reg = LinearRegression()\n",
    "lin_reg.fit(in_f, out_f)"
   ]
  },
  {
   "cell_type": "code",
   "execution_count": 24,
   "metadata": {},
   "outputs": [
    {
     "data": {
      "text/plain": [
       "17.104452"
      ]
     },
     "execution_count": 24,
     "metadata": {},
     "output_type": "execute_result"
    }
   ],
   "source": [
    "from sklearn.metrics import mean_squared_error\n",
    "\n",
    "pred_f = lin_reg.predict(in_f) #prediction\n",
    "lin_mse = mean_squared_error(out_f, pred_f)\n",
    "lin_rmse = np.sqrt(lin_mse)\n",
    "lin_rmse "
   ]
  },
  {
   "cell_type": "code",
   "execution_count": 25,
   "metadata": {},
   "outputs": [],
   "source": [
    "err_f = pred_f - out_f"
   ]
  },
  {
   "cell_type": "code",
   "execution_count": 26,
   "metadata": {},
   "outputs": [
    {
     "data": {
      "text/plain": [
       "51.205093"
      ]
     },
     "execution_count": 26,
     "metadata": {},
     "output_type": "execute_result"
    }
   ],
   "source": [
    "np.max(err_f)"
   ]
  },
  {
   "cell_type": "code",
   "execution_count": 27,
   "metadata": {},
   "outputs": [],
   "source": [
    "rel_f = err_f/out_f"
   ]
  },
  {
   "cell_type": "code",
   "execution_count": 28,
   "metadata": {},
   "outputs": [
    {
     "data": {
      "text/plain": [
       "0.6600446"
      ]
     },
     "execution_count": 28,
     "metadata": {},
     "output_type": "execute_result"
    }
   ],
   "source": [
    "np.max(rel_f)"
   ]
  },
  {
   "cell_type": "code",
   "execution_count": 42,
   "metadata": {},
   "outputs": [
    {
     "data": {
      "text/plain": [
       "-122565976.0"
      ]
     },
     "execution_count": 42,
     "metadata": {},
     "output_type": "execute_result"
    }
   ],
   "source": [
    "np.min(rel_f) #that's big..."
   ]
  },
  {
   "cell_type": "code",
   "execution_count": 30,
   "metadata": {},
   "outputs": [
    {
     "data": {
      "text/plain": [
       "array([[0.26946086]], dtype=float32)"
      ]
     },
     "execution_count": 30,
     "metadata": {},
     "output_type": "execute_result"
    }
   ],
   "source": [
    "lin_reg.coef_ #proportionality between input and output fluxes"
   ]
  },
  {
   "cell_type": "markdown",
   "metadata": {},
   "source": [
    "This looks pretty good, lets graph the first time snapshot:"
   ]
  },
  {
   "cell_type": "code",
   "execution_count": 31,
   "metadata": {},
   "outputs": [
    {
     "data": {
      "text/plain": [
       "array([   409,    410,    411, ..., 622077, 622078, 622079], dtype=int64)"
      ]
     },
     "execution_count": 31,
     "metadata": {},
     "output_type": "execute_result"
    }
   ],
   "source": [
    "indices = np.array(d_flux_rem0.index)#this provides the location of each point according to the date, latitude, longtitude\n",
    "indices"
   ]
  },
  {
   "cell_type": "code",
   "execution_count": 32,
   "metadata": {},
   "outputs": [],
   "source": [
    "pred_contour = np.full((36, 72), np.nan)\n",
    "out_contour = np.full((36, 72), np.nan)\n",
    "lat_list = []\n",
    "long_list = []\n",
    "indices0 = indices[indices < 36*72]\n",
    "\n",
    "for i in range(len(indices0)):\n",
    "    lat_point = indices0[i]//72\n",
    "    long_point = indices0[i]%72\n",
    "    lat_list.append(lat_point)\n",
    "    long_list.append(long_point)\n",
    "    pred_contour[lat_point][long_point] = pred_f[i]\n",
    "    out_contour[lat_point][long_point] = out_f[i]  \n",
    "lat_list = np.array(lat_list)\n",
    "long_list = np.array(long_list)\n",
    "  "
   ]
  },
  {
   "cell_type": "code",
   "execution_count": 33,
   "metadata": {},
   "outputs": [
    {
     "data": {
      "image/png": "[encoded data removed]",
      "text/plain": [
       "<Figure size 432x288 with 2 Axes>"
      ]
     },
     "metadata": {
      "needs_background": "light"
     },
     "output_type": "display_data"
    }
   ],
   "source": [
    "plt.contourf(out_contour)\n",
    "plt.colorbar()\n",
    "plt.title(\"Actual Bottom Solar Flux\")\n",
    "plt.xlabel(\"longtitude\")\n",
    "plt.ylabel(\"Latitude\")\n",
    "plt.show()"
   ]
  },
  {
   "cell_type": "code",
   "execution_count": 34,
   "metadata": {},
   "outputs": [
    {
     "data": {
      "image/png": "[encoded data removed]",
      "text/plain": [
       "<Figure size 432x288 with 2 Axes>"
      ]
     },
     "metadata": {
      "needs_background": "light"
     },
     "output_type": "display_data"
    }
   ],
   "source": [
    "plt.contourf(pred_contour)\n",
    "plt.colorbar()\n",
    "plt.title(\"Predicted Bottom Solar Flux\")\n",
    "plt.xlabel(\"longtitude\")\n",
    "plt.ylabel(\"Latitude\")\n",
    "plt.show()"
   ]
  },
  {
   "cell_type": "code",
   "execution_count": 35,
   "metadata": {},
   "outputs": [
    {
     "data": {
      "image/png": "[encoded data removed]",
      "text/plain": [
       "<Figure size 432x288 with 2 Axes>"
      ]
     },
     "metadata": {
      "needs_background": "light"
     },
     "output_type": "display_data"
    }
   ],
   "source": [
    "plt.contourf(pred_contour - out_contour)\n",
    "plt.colorbar()\n",
    "plt.title(\"Difference\")\n",
    "plt.xlabel(\"longtitude\")\n",
    "plt.ylabel(\"Latitude\")\n",
    "plt.show()"
   ]
  },
  {
   "cell_type": "code",
   "execution_count": 36,
   "metadata": {},
   "outputs": [
    {
     "data": {
      "image/png": "[encoded data removed]",
      "text/plain": [
       "<Figure size 432x288 with 2 Axes>"
      ]
     },
     "metadata": {
      "needs_background": "light"
     },
     "output_type": "display_data"
    }
   ],
   "source": [
    "plt.contourf((pred_contour - out_contour)/out_contour)\n",
    "plt.colorbar()\n",
    "plt.title(\"Relative Difference\")\n",
    "plt.xlabel(\"longtitude\")\n",
    "plt.ylabel(\"Latitude\")\n",
    "plt.show()"
   ]
  },
  {
   "cell_type": "markdown",
   "metadata": {},
   "source": [
    "no relative errors greater than 100%:"
   ]
  },
  {
   "cell_type": "code",
   "execution_count": 37,
   "metadata": {},
   "outputs": [
    {
     "name": "stderr",
     "output_type": "stream",
     "text": [
      "C:\\Users\\andre\\Anaconda3\\lib\\site-packages\\ipykernel_launcher.py:1: RuntimeWarning: invalid value encountered in greater\n",
      "  \"\"\"Entry point for launching an IPython kernel.\n"
     ]
    },
    {
     "data": {
      "text/plain": [
       "array([], dtype=float64)"
      ]
     },
     "execution_count": 37,
     "metadata": {},
     "output_type": "execute_result"
    }
   ],
   "source": [
    "((pred_contour - out_contour)/out_contour)[((pred_contour - out_contour)/out_contour) > 1] "
   ]
  },
  {
   "cell_type": "markdown",
   "metadata": {},
   "source": [
    "some big negative relative errors:"
   ]
  },
  {
   "cell_type": "code",
   "execution_count": 38,
   "metadata": {},
   "outputs": [
    {
     "name": "stderr",
     "output_type": "stream",
     "text": [
      "C:\\Users\\andre\\Anaconda3\\lib\\site-packages\\ipykernel_launcher.py:1: RuntimeWarning: invalid value encountered in less\n",
      "  \"\"\"Entry point for launching an IPython kernel.\n"
     ]
    },
    {
     "data": {
      "text/plain": [
       "array([-3.22038488e+01, -5.03787984e+00, -1.88294267e+00, -1.81935897e+00,\n",
       "       -4.85008686e+00, -3.21644846e+01, -3.02847845e+01, -2.26783378e+00,\n",
       "       -2.24614817e+00, -3.03108397e+01, -4.80625582e+01, -1.72984462e+00,\n",
       "       -1.62120356e+00, -4.65095214e+01, -9.67569618e+00, -9.74141255e+00,\n",
       "       -8.50055886e+00, -8.61394199e+00, -1.77147369e+01, -1.77108947e+01,\n",
       "       -3.41285943e+02, -1.21109918e+00, -1.21876279e+00, -3.52222096e+02,\n",
       "       -3.72164026e+00, -3.86775782e+00, -3.57862662e+01, -3.87117064e+01,\n",
       "       -2.61745676e+00, -2.76872101e+00, -4.12748339e+01, -3.59555872e+01,\n",
       "       -3.43062778e+00, -3.09664555e+00, -1.06921365e+02, -9.06328107e+01,\n",
       "       -5.39552401e+00, -5.05165941e+00, -1.28592367e+03, -1.17416461e+03,\n",
       "       -8.59968139e+00, -8.16509200e+00, -1.26741975e+00, -1.24766580e+00,\n",
       "       -9.71211301e+00, -9.37443439e+00, -1.22408744e+00, -1.26983388e+03,\n",
       "       -1.17362210e+03, -1.20816984e+00, -5.38087145e+00, -5.19001079e+00,\n",
       "       -2.43140732e+01, -2.20244224e+01, -1.30110503e+00, -1.14494832e+02,\n",
       "       -9.95193135e+01, -1.26503187e+00, -1.61349319e+00, -1.36788966e+02,\n",
       "       -1.16912380e+02, -1.53568868e+00, -1.17005953e+00, -2.23221615e+01,\n",
       "       -1.91252858e+01, -1.15070563e+00, -2.79594434e+00, -1.28772932e+02,\n",
       "       -1.14989504e+02, -2.64696484e+00, -1.58230231e+00, -6.74889016e+00,\n",
       "       -1.26779477e+03, -1.13968298e+03, -6.31456208e+00, -1.56079656e+00,\n",
       "       -1.00006043e+00, -1.54879168e+00, -2.20351791e+00, -2.77837587e+00,\n",
       "       -3.02027533e+00, -2.78803533e+00, -2.20273932e+00, -1.53799270e+00])"
      ]
     },
     "execution_count": 38,
     "metadata": {},
     "output_type": "execute_result"
    }
   ],
   "source": [
    "((pred_contour - out_contour)/out_contour)[((pred_contour - out_contour)/out_contour) < -1]"
   ]
  },
  {
   "cell_type": "markdown",
   "metadata": {},
   "source": [
    "a few really big negative relative errors:"
   ]
  },
  {
   "cell_type": "code",
   "execution_count": 39,
   "metadata": {},
   "outputs": [
    {
     "name": "stderr",
     "output_type": "stream",
     "text": [
      "C:\\Users\\andre\\Anaconda3\\lib\\site-packages\\ipykernel_launcher.py:1: RuntimeWarning: invalid value encountered in less\n",
      "  \"\"\"Entry point for launching an IPython kernel.\n"
     ]
    },
    {
     "data": {
      "text/plain": [
       "array([ -341.28594274,  -352.22209578,  -106.92136459, -1285.92367381,\n",
       "       -1174.16460797, -1269.83387774, -1173.62209798,  -114.49483242,\n",
       "        -136.78896568,  -116.91237984,  -128.77293166,  -114.98950391,\n",
       "       -1267.7947722 , -1139.68297764])"
      ]
     },
     "execution_count": 39,
     "metadata": {},
     "output_type": "execute_result"
    }
   ],
   "source": [
    "((pred_contour - out_contour)/out_contour)[((pred_contour - out_contour)/out_contour) < -100]"
   ]
  },
  {
   "cell_type": "code",
   "execution_count": null,
   "metadata": {},
   "outputs": [],
   "source": []
  }
 ],
 "metadata": {
  "kernelspec": {
   "display_name": "Python 3",
   "language": "python",
   "name": "python3"
  },
  "language_info": {
   "codemirror_mode": {
    "name": "ipython",
    "version": 3
   },
   "file_extension": ".py",
   "mimetype": "text/x-python",
   "name": "python",
   "nbconvert_exporter": "python",
   "pygments_lexer": "ipython3",
   "version": "3.7.4"
  }
 },
 "nbformat": 4,
 "nbformat_minor": 2
}
