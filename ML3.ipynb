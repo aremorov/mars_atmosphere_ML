{
 "cells": [
  {
   "cell_type": "markdown",
   "metadata": {},
   "source": [
    "Making a function that outputs several linear regressors, each trained on its respective subset of inputted data. The number of regressors is specified by the user, and the inputted data is split into these subsets accordingly."
   ]
  },
  {
   "cell_type": "code",
   "execution_count": 1,
   "metadata": {},
   "outputs": [],
   "source": [
    "import xarray as xr\n",
    "import matplotlib.pyplot as plt\n",
    "import numpy as np\n",
    "import pandas as pd"
   ]
  },
  {
   "cell_type": "code",
   "execution_count": 2,
   "metadata": {},
   "outputs": [],
   "source": [
    "dataDIR = 'short'\n",
    "DS = xr.open_dataset(dataDIR)"
   ]
  },
  {
   "cell_type": "code",
   "execution_count": 3,
   "metadata": {},
   "outputs": [],
   "source": [
    "#Temperature:\n",
    "T = (DS.T.values + DS.T0) * ((DS.P.values + DS.PB.values)/DS.P0)**(DS.R_D/DS.CP)"
   ]
  },
  {
   "cell_type": "code",
   "execution_count": 4,
   "metadata": {},
   "outputs": [
    {
     "data": {
      "text/plain": [
       "(240, 52, 36, 72)"
      ]
     },
     "execution_count": 4,
     "metadata": {},
     "output_type": "execute_result"
    }
   ],
   "source": [
    "T.shape #days, height, latitude, longtitude"
   ]
  },
  {
   "cell_type": "code",
   "execution_count": 5,
   "metadata": {},
   "outputs": [],
   "source": [
    "albedo = DS.ALBEDO.values"
   ]
  },
  {
   "cell_type": "code",
   "execution_count": 6,
   "metadata": {},
   "outputs": [
    {
     "data": {
      "text/plain": [
       "(240, 36, 72)"
      ]
     },
     "execution_count": 6,
     "metadata": {},
     "output_type": "execute_result"
    }
   ],
   "source": [
    "albedo.shape #days, latitude, longtitude"
   ]
  },
  {
   "cell_type": "code",
   "execution_count": 7,
   "metadata": {},
   "outputs": [],
   "source": [
    "st = DS.TSK.values"
   ]
  },
  {
   "cell_type": "code",
   "execution_count": 8,
   "metadata": {},
   "outputs": [
    {
     "data": {
      "text/plain": [
       "(240, 36, 72)"
      ]
     },
     "execution_count": 8,
     "metadata": {},
     "output_type": "execute_result"
    }
   ],
   "source": [
    "st.shape"
   ]
  },
  {
   "cell_type": "code",
   "execution_count": 9,
   "metadata": {},
   "outputs": [],
   "source": [
    "d_c = DS.TAU_OD.values"
   ]
  },
  {
   "cell_type": "code",
   "execution_count": 10,
   "metadata": {},
   "outputs": [
    {
     "data": {
      "text/plain": [
       "(240, 52, 36, 72)"
      ]
     },
     "execution_count": 10,
     "metadata": {},
     "output_type": "execute_result"
    }
   ],
   "source": [
    "d_c.shape "
   ]
  },
  {
   "cell_type": "code",
   "execution_count": 11,
   "metadata": {},
   "outputs": [],
   "source": [
    "tsf = DS.TOASW.values #top solar flux"
   ]
  },
  {
   "cell_type": "code",
   "execution_count": 12,
   "metadata": {},
   "outputs": [
    {
     "data": {
      "text/plain": [
       "(240, 36, 72)"
      ]
     },
     "execution_count": 12,
     "metadata": {},
     "output_type": "execute_result"
    }
   ],
   "source": [
    "tsf.shape"
   ]
  },
  {
   "cell_type": "code",
   "execution_count": 13,
   "metadata": {},
   "outputs": [],
   "source": [
    "albedo = DS.ALBEDO.values"
   ]
  },
  {
   "cell_type": "code",
   "execution_count": 14,
   "metadata": {},
   "outputs": [],
   "source": [
    "bsf = DS.GSW.values #bottom solar flux, ouput"
   ]
  },
  {
   "cell_type": "code",
   "execution_count": 15,
   "metadata": {},
   "outputs": [],
   "source": [
    "bsf2 = bsf/(1-albedo)"
   ]
  },
  {
   "cell_type": "code",
   "execution_count": 16,
   "metadata": {},
   "outputs": [
    {
     "data": {
      "text/plain": [
       "(240, 36, 72)"
      ]
     },
     "execution_count": 16,
     "metadata": {},
     "output_type": "execute_result"
    }
   ],
   "source": [
    "bsf.shape"
   ]
  },
  {
   "cell_type": "markdown",
   "metadata": {},
   "source": [
    "Let's combine the data together for ten time samples, with full latitude and longitude:"
   ]
  },
  {
   "cell_type": "code",
   "execution_count": 17,
   "metadata": {},
   "outputs": [],
   "source": [
    "e_t = [] #input and output array\n",
    "#input:\n",
    "for k in range(10): #10 time snapshots\n",
    "    for i in range(36):\n",
    "        for j in range(72):\n",
    "            input_array = list(T[k,:,i,j]) #start with temp profile\n",
    "            input_array+=list(d_c[k,:,i,j]) #add dust profile\n",
    "            input_array.append(st[k,i,j])#add surface temp\n",
    "            input_array.append(tsf[k,i,j]) #add top solar flux\n",
    "            input_array.append(bsf2[k,i,j]) #bottom solar flux, with albedo factor\n",
    "            e_t.append(input_array) #appends data point to overall array"
   ]
  },
  {
   "cell_type": "code",
   "execution_count": 18,
   "metadata": {},
   "outputs": [
    {
     "data": {
      "text/plain": [
       "(25920, 107)"
      ]
     },
     "execution_count": 18,
     "metadata": {},
     "output_type": "execute_result"
    }
   ],
   "source": [
    "e_t = np.array(e_t)\n",
    "e_t.shape"
   ]
  },
  {
   "cell_type": "code",
   "execution_count": 19,
   "metadata": {},
   "outputs": [],
   "source": [
    "e_d = pd.DataFrame(e_t) \n",
    "e_d = e_d[e_d.iloc[:,105] != 0] #remove 0 flux"
   ]
  },
  {
   "cell_type": "code",
   "execution_count": 20,
   "metadata": {},
   "outputs": [
    {
     "data": {
      "text/html": [
       "<div>\n",
       "<style scoped>\n",
       "    .dataframe tbody tr th:only-of-type {\n",
       "        vertical-align: middle;\n",
       "    }\n",
       "\n",
       "    .dataframe tbody tr th {\n",
       "        vertical-align: top;\n",
       "    }\n",
       "\n",
       "    .dataframe thead th {\n",
       "        text-align: right;\n",
       "    }\n",
       "</style>\n",
       "<table border=\"1\" class=\"dataframe\">\n",
       "  <thead>\n",
       "    <tr style=\"text-align: right;\">\n",
       "      <th></th>\n",
       "      <th>0</th>\n",
       "      <th>1</th>\n",
       "      <th>2</th>\n",
       "      <th>3</th>\n",
       "      <th>4</th>\n",
       "      <th>5</th>\n",
       "      <th>6</th>\n",
       "      <th>7</th>\n",
       "      <th>8</th>\n",
       "      <th>9</th>\n",
       "      <th>...</th>\n",
       "      <th>97</th>\n",
       "      <th>98</th>\n",
       "      <th>99</th>\n",
       "      <th>100</th>\n",
       "      <th>101</th>\n",
       "      <th>102</th>\n",
       "      <th>103</th>\n",
       "      <th>104</th>\n",
       "      <th>105</th>\n",
       "      <th>106</th>\n",
       "    </tr>\n",
       "  </thead>\n",
       "  <tbody>\n",
       "    <tr>\n",
       "      <td>409</td>\n",
       "      <td>148.284729</td>\n",
       "      <td>148.636597</td>\n",
       "      <td>148.836746</td>\n",
       "      <td>149.054123</td>\n",
       "      <td>149.108185</td>\n",
       "      <td>150.480576</td>\n",
       "      <td>150.495865</td>\n",
       "      <td>150.366959</td>\n",
       "      <td>150.135757</td>\n",
       "      <td>149.954346</td>\n",
       "      <td>...</td>\n",
       "      <td>4.904690e-08</td>\n",
       "      <td>3.354680e-08</td>\n",
       "      <td>2.216521e-08</td>\n",
       "      <td>1.401636e-08</td>\n",
       "      <td>8.328570e-09</td>\n",
       "      <td>4.559754e-09</td>\n",
       "      <td>2.314212e-09</td>\n",
       "      <td>146.435440</td>\n",
       "      <td>2.793927</td>\n",
       "      <td>1.151911</td>\n",
       "    </tr>\n",
       "    <tr>\n",
       "      <td>410</td>\n",
       "      <td>148.518845</td>\n",
       "      <td>148.849915</td>\n",
       "      <td>149.019089</td>\n",
       "      <td>149.467178</td>\n",
       "      <td>150.787521</td>\n",
       "      <td>151.900513</td>\n",
       "      <td>151.759918</td>\n",
       "      <td>151.818527</td>\n",
       "      <td>151.691238</td>\n",
       "      <td>151.439484</td>\n",
       "      <td>...</td>\n",
       "      <td>5.034594e-08</td>\n",
       "      <td>3.442808e-08</td>\n",
       "      <td>2.273971e-08</td>\n",
       "      <td>1.437122e-08</td>\n",
       "      <td>8.530136e-09</td>\n",
       "      <td>4.659739e-09</td>\n",
       "      <td>2.353673e-09</td>\n",
       "      <td>146.616074</td>\n",
       "      <td>11.433393</td>\n",
       "      <td>5.232398</td>\n",
       "    </tr>\n",
       "    <tr>\n",
       "      <td>411</td>\n",
       "      <td>148.097122</td>\n",
       "      <td>148.320389</td>\n",
       "      <td>148.430603</td>\n",
       "      <td>149.054886</td>\n",
       "      <td>151.791977</td>\n",
       "      <td>152.264450</td>\n",
       "      <td>152.259476</td>\n",
       "      <td>152.425491</td>\n",
       "      <td>152.555023</td>\n",
       "      <td>152.474533</td>\n",
       "      <td>...</td>\n",
       "      <td>5.000184e-08</td>\n",
       "      <td>3.419463e-08</td>\n",
       "      <td>2.258753e-08</td>\n",
       "      <td>1.427722e-08</td>\n",
       "      <td>8.476744e-09</td>\n",
       "      <td>4.633255e-09</td>\n",
       "      <td>2.343221e-09</td>\n",
       "      <td>146.567810</td>\n",
       "      <td>18.633785</td>\n",
       "      <td>9.942341</td>\n",
       "    </tr>\n",
       "    <tr>\n",
       "      <td>412</td>\n",
       "      <td>147.897110</td>\n",
       "      <td>148.106903</td>\n",
       "      <td>148.233719</td>\n",
       "      <td>148.889725</td>\n",
       "      <td>152.127869</td>\n",
       "      <td>152.729065</td>\n",
       "      <td>152.735947</td>\n",
       "      <td>152.855118</td>\n",
       "      <td>153.037994</td>\n",
       "      <td>153.033508</td>\n",
       "      <td>...</td>\n",
       "      <td>4.829623e-08</td>\n",
       "      <td>3.303755e-08</td>\n",
       "      <td>2.183323e-08</td>\n",
       "      <td>1.381129e-08</td>\n",
       "      <td>8.212092e-09</td>\n",
       "      <td>4.501976e-09</td>\n",
       "      <td>2.291409e-09</td>\n",
       "      <td>146.327087</td>\n",
       "      <td>24.291586</td>\n",
       "      <td>14.446915</td>\n",
       "    </tr>\n",
       "    <tr>\n",
       "      <td>413</td>\n",
       "      <td>148.344757</td>\n",
       "      <td>148.640015</td>\n",
       "      <td>148.834869</td>\n",
       "      <td>149.391769</td>\n",
       "      <td>152.025635</td>\n",
       "      <td>153.853836</td>\n",
       "      <td>153.577179</td>\n",
       "      <td>153.493820</td>\n",
       "      <td>153.389389</td>\n",
       "      <td>153.255142</td>\n",
       "      <td>...</td>\n",
       "      <td>4.648436e-08</td>\n",
       "      <td>3.180837e-08</td>\n",
       "      <td>2.103192e-08</td>\n",
       "      <td>1.331633e-08</td>\n",
       "      <td>7.930954e-09</td>\n",
       "      <td>4.362519e-09</td>\n",
       "      <td>2.236369e-09</td>\n",
       "      <td>146.063110</td>\n",
       "      <td>28.363739</td>\n",
       "      <td>18.059456</td>\n",
       "    </tr>\n",
       "    <tr>\n",
       "      <td>...</td>\n",
       "      <td>...</td>\n",
       "      <td>...</td>\n",
       "      <td>...</td>\n",
       "      <td>...</td>\n",
       "      <td>...</td>\n",
       "      <td>...</td>\n",
       "      <td>...</td>\n",
       "      <td>...</td>\n",
       "      <td>...</td>\n",
       "      <td>...</td>\n",
       "      <td>...</td>\n",
       "      <td>...</td>\n",
       "      <td>...</td>\n",
       "      <td>...</td>\n",
       "      <td>...</td>\n",
       "      <td>...</td>\n",
       "      <td>...</td>\n",
       "      <td>...</td>\n",
       "      <td>...</td>\n",
       "      <td>...</td>\n",
       "      <td>...</td>\n",
       "    </tr>\n",
       "    <tr>\n",
       "      <td>25915</td>\n",
       "      <td>215.603439</td>\n",
       "      <td>215.581970</td>\n",
       "      <td>215.501572</td>\n",
       "      <td>215.779877</td>\n",
       "      <td>215.774597</td>\n",
       "      <td>215.704803</td>\n",
       "      <td>215.591812</td>\n",
       "      <td>215.450653</td>\n",
       "      <td>215.274933</td>\n",
       "      <td>215.078506</td>\n",
       "      <td>...</td>\n",
       "      <td>6.489267e-08</td>\n",
       "      <td>4.428884e-08</td>\n",
       "      <td>2.915962e-08</td>\n",
       "      <td>1.832758e-08</td>\n",
       "      <td>1.076697e-08</td>\n",
       "      <td>5.757189e-09</td>\n",
       "      <td>2.772254e-09</td>\n",
       "      <td>215.195969</td>\n",
       "      <td>188.811172</td>\n",
       "      <td>170.473862</td>\n",
       "    </tr>\n",
       "    <tr>\n",
       "      <td>25916</td>\n",
       "      <td>215.634720</td>\n",
       "      <td>215.613922</td>\n",
       "      <td>215.533310</td>\n",
       "      <td>215.818542</td>\n",
       "      <td>215.822601</td>\n",
       "      <td>215.758469</td>\n",
       "      <td>215.647919</td>\n",
       "      <td>215.504929</td>\n",
       "      <td>215.321396</td>\n",
       "      <td>215.113815</td>\n",
       "      <td>...</td>\n",
       "      <td>6.490647e-08</td>\n",
       "      <td>4.429820e-08</td>\n",
       "      <td>2.916572e-08</td>\n",
       "      <td>1.833135e-08</td>\n",
       "      <td>1.076911e-08</td>\n",
       "      <td>5.758250e-09</td>\n",
       "      <td>2.772673e-09</td>\n",
       "      <td>215.255035</td>\n",
       "      <td>187.987717</td>\n",
       "      <td>169.630524</td>\n",
       "    </tr>\n",
       "    <tr>\n",
       "      <td>25917</td>\n",
       "      <td>215.668396</td>\n",
       "      <td>215.646484</td>\n",
       "      <td>215.563934</td>\n",
       "      <td>215.852631</td>\n",
       "      <td>215.863724</td>\n",
       "      <td>215.803345</td>\n",
       "      <td>215.693527</td>\n",
       "      <td>215.547241</td>\n",
       "      <td>215.355194</td>\n",
       "      <td>215.136658</td>\n",
       "      <td>...</td>\n",
       "      <td>6.491741e-08</td>\n",
       "      <td>4.430562e-08</td>\n",
       "      <td>2.917055e-08</td>\n",
       "      <td>1.833433e-08</td>\n",
       "      <td>1.077080e-08</td>\n",
       "      <td>5.759092e-09</td>\n",
       "      <td>2.773005e-09</td>\n",
       "      <td>215.319656</td>\n",
       "      <td>187.305267</td>\n",
       "      <td>168.930054</td>\n",
       "    </tr>\n",
       "    <tr>\n",
       "      <td>25918</td>\n",
       "      <td>215.704468</td>\n",
       "      <td>215.679703</td>\n",
       "      <td>215.593521</td>\n",
       "      <td>215.882095</td>\n",
       "      <td>215.898026</td>\n",
       "      <td>215.839401</td>\n",
       "      <td>215.728546</td>\n",
       "      <td>215.577469</td>\n",
       "      <td>215.376312</td>\n",
       "      <td>215.147232</td>\n",
       "      <td>...</td>\n",
       "      <td>6.492574e-08</td>\n",
       "      <td>4.431127e-08</td>\n",
       "      <td>2.917423e-08</td>\n",
       "      <td>1.833661e-08</td>\n",
       "      <td>1.077210e-08</td>\n",
       "      <td>5.759733e-09</td>\n",
       "      <td>2.773258e-09</td>\n",
       "      <td>215.386261</td>\n",
       "      <td>186.769028</td>\n",
       "      <td>168.377625</td>\n",
       "    </tr>\n",
       "    <tr>\n",
       "      <td>25919</td>\n",
       "      <td>215.742630</td>\n",
       "      <td>215.713196</td>\n",
       "      <td>215.621750</td>\n",
       "      <td>215.906647</td>\n",
       "      <td>215.925095</td>\n",
       "      <td>215.866226</td>\n",
       "      <td>215.752640</td>\n",
       "      <td>215.595337</td>\n",
       "      <td>215.384521</td>\n",
       "      <td>215.145294</td>\n",
       "      <td>...</td>\n",
       "      <td>6.493129e-08</td>\n",
       "      <td>4.431504e-08</td>\n",
       "      <td>2.917669e-08</td>\n",
       "      <td>1.833813e-08</td>\n",
       "      <td>1.077296e-08</td>\n",
       "      <td>5.760161e-09</td>\n",
       "      <td>2.773426e-09</td>\n",
       "      <td>215.457825</td>\n",
       "      <td>186.383072</td>\n",
       "      <td>167.977417</td>\n",
       "    </tr>\n",
       "  </tbody>\n",
       "</table>\n",
       "<p>13192 rows × 107 columns</p>\n",
       "</div>"
      ],
      "text/plain": [
       "              0           1           2           3           4           5    \\\n",
       "409    148.284729  148.636597  148.836746  149.054123  149.108185  150.480576   \n",
       "410    148.518845  148.849915  149.019089  149.467178  150.787521  151.900513   \n",
       "411    148.097122  148.320389  148.430603  149.054886  151.791977  152.264450   \n",
       "412    147.897110  148.106903  148.233719  148.889725  152.127869  152.729065   \n",
       "413    148.344757  148.640015  148.834869  149.391769  152.025635  153.853836   \n",
       "...           ...         ...         ...         ...         ...         ...   \n",
       "25915  215.603439  215.581970  215.501572  215.779877  215.774597  215.704803   \n",
       "25916  215.634720  215.613922  215.533310  215.818542  215.822601  215.758469   \n",
       "25917  215.668396  215.646484  215.563934  215.852631  215.863724  215.803345   \n",
       "25918  215.704468  215.679703  215.593521  215.882095  215.898026  215.839401   \n",
       "25919  215.742630  215.713196  215.621750  215.906647  215.925095  215.866226   \n",
       "\n",
       "              6           7           8           9    ...           97   \\\n",
       "409    150.495865  150.366959  150.135757  149.954346  ...  4.904690e-08   \n",
       "410    151.759918  151.818527  151.691238  151.439484  ...  5.034594e-08   \n",
       "411    152.259476  152.425491  152.555023  152.474533  ...  5.000184e-08   \n",
       "412    152.735947  152.855118  153.037994  153.033508  ...  4.829623e-08   \n",
       "413    153.577179  153.493820  153.389389  153.255142  ...  4.648436e-08   \n",
       "...           ...         ...         ...         ...  ...           ...   \n",
       "25915  215.591812  215.450653  215.274933  215.078506  ...  6.489267e-08   \n",
       "25916  215.647919  215.504929  215.321396  215.113815  ...  6.490647e-08   \n",
       "25917  215.693527  215.547241  215.355194  215.136658  ...  6.491741e-08   \n",
       "25918  215.728546  215.577469  215.376312  215.147232  ...  6.492574e-08   \n",
       "25919  215.752640  215.595337  215.384521  215.145294  ...  6.493129e-08   \n",
       "\n",
       "                98            99            100           101           102  \\\n",
       "409    3.354680e-08  2.216521e-08  1.401636e-08  8.328570e-09  4.559754e-09   \n",
       "410    3.442808e-08  2.273971e-08  1.437122e-08  8.530136e-09  4.659739e-09   \n",
       "411    3.419463e-08  2.258753e-08  1.427722e-08  8.476744e-09  4.633255e-09   \n",
       "412    3.303755e-08  2.183323e-08  1.381129e-08  8.212092e-09  4.501976e-09   \n",
       "413    3.180837e-08  2.103192e-08  1.331633e-08  7.930954e-09  4.362519e-09   \n",
       "...             ...           ...           ...           ...           ...   \n",
       "25915  4.428884e-08  2.915962e-08  1.832758e-08  1.076697e-08  5.757189e-09   \n",
       "25916  4.429820e-08  2.916572e-08  1.833135e-08  1.076911e-08  5.758250e-09   \n",
       "25917  4.430562e-08  2.917055e-08  1.833433e-08  1.077080e-08  5.759092e-09   \n",
       "25918  4.431127e-08  2.917423e-08  1.833661e-08  1.077210e-08  5.759733e-09   \n",
       "25919  4.431504e-08  2.917669e-08  1.833813e-08  1.077296e-08  5.760161e-09   \n",
       "\n",
       "                103         104         105         106  \n",
       "409    2.314212e-09  146.435440    2.793927    1.151911  \n",
       "410    2.353673e-09  146.616074   11.433393    5.232398  \n",
       "411    2.343221e-09  146.567810   18.633785    9.942341  \n",
       "412    2.291409e-09  146.327087   24.291586   14.446915  \n",
       "413    2.236369e-09  146.063110   28.363739   18.059456  \n",
       "...             ...         ...         ...         ...  \n",
       "25915  2.772254e-09  215.195969  188.811172  170.473862  \n",
       "25916  2.772673e-09  215.255035  187.987717  169.630524  \n",
       "25917  2.773005e-09  215.319656  187.305267  168.930054  \n",
       "25918  2.773258e-09  215.386261  186.769028  168.377625  \n",
       "25919  2.773426e-09  215.457825  186.383072  167.977417  \n",
       "\n",
       "[13192 rows x 107 columns]"
      ]
     },
     "execution_count": 20,
     "metadata": {},
     "output_type": "execute_result"
    }
   ],
   "source": [
    "e_d"
   ]
  },
  {
   "cell_type": "markdown",
   "metadata": {},
   "source": [
    "This function splits the training data, into n_split groups, according to percentiles of a value located at special index s_index. Then, it trains n_split regressors, each on its respective group, and then outputs these. The ith regressor is trained on the data containing 100(i/n_split) to 100((i+1)/n_split) percentiles of the value located at s_index."
   ]
  },
  {
   "cell_type": "code",
   "execution_count": 21,
   "metadata": {},
   "outputs": [],
   "source": [
    "from sklearn.linear_model import LinearRegression\n",
    "\n",
    "\n",
    "def sat(training_data, n_split, s_index): \n",
    "    regressor_list = []\n",
    "    training_data = np.array(training_data)\n",
    "    \n",
    "    for i in range(n_split): #splitting training data\n",
    "        upper_bound = np.percentile(training_data[:,s_index], (i+1) * 100/n_split)\n",
    "        lower_bound = np.percentile(training_data[:,s_index], i * 100/n_split)\n",
    "        i_data = training_data[training_data[:,s_index] < upper_bound]\n",
    "        i_data = i_data[i_data[:,s_index] >= lower_bound]\n",
    "        train_in = i_data[:,:106] #training input\n",
    "        train_out = i_data[:,106] #training output\n",
    "        lri = LinearRegression() #linear regression i\n",
    "        lri.fit(train_in,train_out)\n",
    "        regressor_list.append(lri)\n",
    "    \n",
    "    return regressor_list"
   ]
  },
  {
   "cell_type": "markdown",
   "metadata": {},
   "source": [
    "This function is almost identical to the above, except that it minimizes relative error instead of RMSE, using custom weightings."
   ]
  },
  {
   "cell_type": "code",
   "execution_count": 22,
   "metadata": {},
   "outputs": [],
   "source": [
    "from sklearn.linear_model import LinearRegression\n",
    "\n",
    "\n",
    "def satr(training_data, n_split, s_index): #split and train, relative error version\n",
    "    regressor_list = []\n",
    "    training_data = np.array(training_data)\n",
    "    \n",
    "    for i in range(n_split): #splitting training data\n",
    "        upper_bound = np.percentile(training_data[:,s_index], (i+1) * 100/n_split)\n",
    "        lower_bound = np.percentile(training_data[:,s_index], i * 100/n_split)\n",
    "        i_data = training_data[training_data[:,s_index] < upper_bound]\n",
    "        i_data = i_data[i_data[:,s_index] >= lower_bound]\n",
    "        train_in = i_data[:,:106] #training input\n",
    "        train_out = i_data[:,106] #training output\n",
    "        lri = LinearRegression() #linear regression i\n",
    "        lri.fit(train_in,train_out, sample_weight = 1/train_out**2)\n",
    "        regressor_list.append(lri)\n",
    "    \n",
    "    return regressor_list"
   ]
  },
  {
   "cell_type": "markdown",
   "metadata": {},
   "source": [
    "This function predicts the output according to the n_split regressors, where the ith regressor is used on the data containing 100(i/n_split) to 100((i+1)/n_split) percentiles of the value located at s_index."
   ]
  },
  {
   "cell_type": "code",
   "execution_count": 23,
   "metadata": {},
   "outputs": [],
   "source": [
    "def s_predict(in_data, reg_list, s_index): #predict the output using previously obtained linear regressor list\n",
    "    in_data = np.array(in_data)\n",
    "    out_data = []\n",
    "    for instance in in_data:\n",
    "        for i in range(len(reg_list)):\n",
    "            upper_bound = np.percentile(in_data[:,s_index], (i+1) * 100/len(reg_list))\n",
    "            lower_bound = np.percentile(in_data[:,s_index], i * 100/len(reg_list))\n",
    "            if instance[s_index] < upper_bound and instance[s_index] >= lower_bound: \n",
    "                out_data.append(float(reg_list[i].predict(instance[:106].reshape(1,-1)))) #predicts using a certain regressor\n",
    "        if(instance[s_index] == np.max(in_data[:,s_index])): #the search right above ignores the absolute maximum element\n",
    "            out_data.append(float(reg_list[-1].predict(instance[:106].reshape(1,-1)))) #uses lin reg for largest elements\n",
    "    return np.array(out_data)   "
   ]
  },
  {
   "cell_type": "code",
   "execution_count": 24,
   "metadata": {},
   "outputs": [],
   "source": [
    "lr_list = sat(e_d, 10, 105) #linear regressor list, let's try 10 regressors\n",
    "custom_out = s_predict(e_d, lr_list, 105)"
   ]
  },
  {
   "cell_type": "code",
   "execution_count": 25,
   "metadata": {},
   "outputs": [],
   "source": [
    "rlr_list = satr(e_d, 10, 105) #relative error minimizing linear regressor list\n",
    "custom_out2 = s_predict(e_d, rlr_list, 105)"
   ]
  },
  {
   "cell_type": "code",
   "execution_count": 26,
   "metadata": {},
   "outputs": [],
   "source": [
    "total_in = e_d.iloc[:,:106] #total input\n",
    "total_out = e_d.iloc[:,106] #total output"
   ]
  },
  {
   "cell_type": "code",
   "execution_count": 27,
   "metadata": {},
   "outputs": [
    {
     "name": "stdout",
     "output_type": "stream",
     "text": [
      "Error for RMSE minimizing regressors:0.5697362992826042\n",
      "Error for relative error minimizing regressors:0.9758860538978806\n"
     ]
    }
   ],
   "source": [
    "from sklearn.metrics import mean_squared_error\n",
    "\n",
    "lin_mse = mean_squared_error(total_out, custom_out)\n",
    "lin_rmse = np.sqrt(lin_mse)\n",
    "print(\"Error for RMSE minimizing regressors:\" + str(lin_rmse)) #great!\n",
    "lin_rel = mean_squared_error(total_out, custom_out2)\n",
    "lin_rel = np.sqrt(lin_rel)\n",
    "print(\"Error for relative error minimizing regressors:\" + str(lin_rel)) #slightly higher but still pretty low"
   ]
  },
  {
   "cell_type": "markdown",
   "metadata": {},
   "source": [
    "Area integration of error:"
   ]
  },
  {
   "cell_type": "code",
   "execution_count": 28,
   "metadata": {},
   "outputs": [],
   "source": [
    "def int_err(pred, real, real_in, r): \n",
    "    areas = []\n",
    "    for i in range(len(real)):\n",
    "        dA =  -r**2 * np.sin((np.pi/36)*((real_in.index[i]//72)%36)) * (np.pi/36) * (np.pi/36)  #area increment\n",
    "        areas.append(dA)\n",
    "    areas = np.array(areas)\n",
    "    eps = [] #gets average flux error per time snapshot\n",
    "    for i in range(9):\n",
    "        eps.append(np.sum((np.array(pred)[i*1296:(i+1)*1296] - np.array(real)[i*1296:(i+1)*1296])*areas[i*1296:(i+1)*1296]))\n",
    "    eps.append(np.sum((np.array(pred)[-1296:] - np.array(real)[-1296:])*areas[-1296:]))\n",
    "    return eps"
   ]
  },
  {
   "cell_type": "code",
   "execution_count": 29,
   "metadata": {},
   "outputs": [
    {
     "data": {
      "text/plain": [
       "array([ 1.81876307e-02,  5.25996497e-03,  9.41226393e-05,  5.40411869e-02,\n",
       "       -2.46148018e-03, -2.26016536e-02, -2.22684666e-02,  3.90291150e-02,\n",
       "       -1.93493279e-02, -3.06597635e-02])"
      ]
     },
     "execution_count": 29,
     "metadata": {},
     "output_type": "execute_result"
    }
   ],
   "source": [
    "err1 = int_err(custom_out, total_out, total_in, 3.39e6) #the integral of the error\n",
    "np.array(err1)/(1.44e14) #divide by surface area of mars, to get norm. error for each of the ten time samples"
   ]
  },
  {
   "cell_type": "code",
   "execution_count": 40,
   "metadata": {},
   "outputs": [
    {
     "data": {
      "text/plain": [
       "array([0.05444361, 0.04935747, 0.04111535, 0.12270014, 0.0424964 ,\n",
       "       0.03844699, 0.03067425, 0.12124125, 0.03334573, 0.01392587])"
      ]
     },
     "execution_count": 40,
     "metadata": {},
     "output_type": "execute_result"
    }
   ],
   "source": [
    "err2 = int_err(custom_out2, total_out, total_in, 3.39e6) #the integral of the error\n",
    "np.array(err2)/(1.44e14) #still pretty small! This is in W/m^2 units."
   ]
  },
  {
   "cell_type": "markdown",
   "metadata": {},
   "source": [
    "## Plotting data:"
   ]
  },
  {
   "cell_type": "code",
   "execution_count": 31,
   "metadata": {},
   "outputs": [
    {
     "data": {
      "text/plain": [
       "Int64Index([13351, 13352, 13353, 13354, 13355, 13356, 13357, 13358, 13359,\n",
       "            13360,\n",
       "            ...\n",
       "            15542, 15543, 15544, 15545, 15546, 15547, 15548, 15549, 15550,\n",
       "            15551],\n",
       "           dtype='int64', length=1320)"
      ]
     },
     "execution_count": 31,
     "metadata": {},
     "output_type": "execute_result"
    }
   ],
   "source": [
    "all_indices = total_in.index\n",
    "ti_indices = all_indices[all_indices > 5*36*72] \n",
    "ti_indices = ti_indices[ti_indices < 6 *36*72] \n",
    "ti_indices #ith time snapshot indices for latitude/longtitude map, currently set to 6th time snapshot"
   ]
  },
  {
   "cell_type": "code",
   "execution_count": 32,
   "metadata": {},
   "outputs": [],
   "source": [
    "total_out = np.array(total_out)\n",
    "full_out_contour = np.full((36, 72), np.nan)\n",
    "full_pred_contour = np.full((36, 72), np.nan)\n",
    "full_pred_contour2 = np.full((36, 72), np.nan)\n",
    "for index in ti_indices:\n",
    "    lat_point = index//72 - 36*5\n",
    "    long_point = index%72 - 1*72\n",
    "    full_out_contour[lat_point][long_point] = total_out[np.where(all_indices == index)]\n",
    "    full_pred_contour[lat_point][long_point] = custom_out[np.where(all_indices == index)]\n",
    "    full_pred_contour2[lat_point][long_point] = custom_out2[np.where(all_indices == index)]"
   ]
  },
  {
   "cell_type": "code",
   "execution_count": 33,
   "metadata": {},
   "outputs": [
    {
     "data": {
      "image/png": "[encoded data removed]",
      "text/plain": [
       "<Figure size 432x288 with 2 Axes>"
      ]
     },
     "metadata": {
      "needs_background": "light"
     },
     "output_type": "display_data"
    },
    {
     "data": {
      "text/plain": [
       "<Figure size 432x288 with 0 Axes>"
      ]
     },
     "metadata": {},
     "output_type": "display_data"
    }
   ],
   "source": [
    "plt.contourf(full_out_contour)\n",
    "plt.colorbar()\n",
    "plt.title(\"Actual Bottom Solar Flux\")\n",
    "plt.xlabel(\"Longtitude\")\n",
    "plt.ylabel(\"Latitude\")\n",
    "plt.show()\n",
    "plt.savefig(\"Actual\")"
   ]
  },
  {
   "cell_type": "markdown",
   "metadata": {},
   "source": [
    "### Plots for RMSE minimizing regressors:"
   ]
  },
  {
   "cell_type": "code",
   "execution_count": 34,
   "metadata": {},
   "outputs": [
    {
     "data": {
      "image/png": "[encoded data removed]",
      "text/plain": [
       "<Figure size 432x288 with 2 Axes>"
      ]
     },
     "metadata": {
      "needs_background": "light"
     },
     "output_type": "display_data"
    },
    {
     "data": {
      "text/plain": [
       "<Figure size 432x288 with 0 Axes>"
      ]
     },
     "metadata": {},
     "output_type": "display_data"
    }
   ],
   "source": [
    "plt.contourf(full_pred_contour)\n",
    "plt.colorbar()\n",
    "plt.title(\"Predicted Bottom Solar Flux\")\n",
    "plt.xlabel(\"Longtitude\")\n",
    "plt.ylabel(\"Latitude\")\n",
    "plt.show()\n",
    "plt.savefig(\"Predicted\")"
   ]
  },
  {
   "cell_type": "code",
   "execution_count": 35,
   "metadata": {},
   "outputs": [
    {
     "data": {
      "image/png": "[encoded data removed]",
      "text/plain": [
       "<Figure size 432x288 with 2 Axes>"
      ]
     },
     "metadata": {
      "needs_background": "light"
     },
     "output_type": "display_data"
    }
   ],
   "source": [
    "plt.contourf(full_pred_contour - full_out_contour)\n",
    "plt.colorbar()\n",
    "plt.title(\"Difference\")\n",
    "plt.xlabel(\"Longtitude\")\n",
    "plt.ylabel(\"Latitude\")\n",
    "plt.show()"
   ]
  },
  {
   "cell_type": "code",
   "execution_count": 36,
   "metadata": {},
   "outputs": [
    {
     "data": {
      "image/png": "[encoded data removed]",
      "text/plain": [
       "<Figure size 432x288 with 2 Axes>"
      ]
     },
     "metadata": {
      "needs_background": "light"
     },
     "output_type": "display_data"
    }
   ],
   "source": [
    "plt.contourf((full_pred_contour - full_out_contour)/full_out_contour)\n",
    "plt.colorbar()\n",
    "plt.title(\"Relative Difference\")\n",
    "plt.xlabel(\"Longtitude\")\n",
    "plt.ylabel(\"Latitude\")\n",
    "plt.show() #some massive relative errors at the edge"
   ]
  },
  {
   "cell_type": "markdown",
   "metadata": {},
   "source": [
    "### Plots for relative error minimizing regressors:"
   ]
  },
  {
   "cell_type": "code",
   "execution_count": 37,
   "metadata": {},
   "outputs": [
    {
     "data": {
      "image/png": "[encoded data removed]",
      "text/plain": [
       "<Figure size 432x288 with 2 Axes>"
      ]
     },
     "metadata": {
      "needs_background": "light"
     },
     "output_type": "display_data"
    },
    {
     "data": {
      "text/plain": [
       "<Figure size 432x288 with 0 Axes>"
      ]
     },
     "metadata": {},
     "output_type": "display_data"
    }
   ],
   "source": [
    "plt.contourf(full_pred_contour2)\n",
    "plt.colorbar()\n",
    "plt.title(\"Predicted Bottom Solar Flux\")\n",
    "plt.xlabel(\"Longtitude\")\n",
    "plt.ylabel(\"Latitude\")\n",
    "plt.show()\n",
    "plt.savefig(\"Predicted\")"
   ]
  },
  {
   "cell_type": "code",
   "execution_count": 38,
   "metadata": {},
   "outputs": [
    {
     "data": {
      "image/png": "[encoded data removed]",
      "text/plain": [
       "<Figure size 432x288 with 2 Axes>"
      ]
     },
     "metadata": {
      "needs_background": "light"
     },
     "output_type": "display_data"
    }
   ],
   "source": [
    "plt.contourf(full_pred_contour2 - full_out_contour)\n",
    "plt.colorbar()\n",
    "plt.title(\"Difference\")\n",
    "plt.xlabel(\"Longtitude\")\n",
    "plt.ylabel(\"Latitude\")\n",
    "plt.show()"
   ]
  },
  {
   "cell_type": "code",
   "execution_count": 39,
   "metadata": {},
   "outputs": [
    {
     "data": {
      "image/png": "[encoded data removed]",
      "text/plain": [
       "<Figure size 432x288 with 2 Axes>"
      ]
     },
     "metadata": {
      "needs_background": "light"
     },
     "output_type": "display_data"
    }
   ],
   "source": [
    "plt.contourf((full_pred_contour2 - full_out_contour)/full_out_contour)\n",
    "plt.colorbar()\n",
    "plt.title(\"Relative Difference\")\n",
    "plt.xlabel(\"Longtitude\")\n",
    "plt.ylabel(\"Latitude\")\n",
    "plt.show() #small relative errors, nice"
   ]
  },
  {
   "cell_type": "code",
   "execution_count": null,
   "metadata": {},
   "outputs": [],
   "source": []
  }
 ],
 "metadata": {
  "kernelspec": {
   "display_name": "Python 3",
   "language": "python",
   "name": "python3"
  },
  "language_info": {
   "codemirror_mode": {
    "name": "ipython",
    "version": 3
   },
   "file_extension": ".py",
   "mimetype": "text/x-python",
   "name": "python",
   "nbconvert_exporter": "python",
   "pygments_lexer": "ipython3",
   "version": "3.7.4"
  }
 },
 "nbformat": 4,
 "nbformat_minor": 2
}
