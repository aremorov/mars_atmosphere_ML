{
 "cells": [
  {
   "cell_type": "code",
   "execution_count": 2,
   "metadata": {},
   "outputs": [],
   "source": [
    "import xarray as xr\n",
    "import matplotlib.pyplot as plt\n",
    "import numpy as np"
   ]
  },
  {
   "cell_type": "code",
   "execution_count": 3,
   "metadata": {},
   "outputs": [],
   "source": [
    "dataDIR = 'short'\n",
    "DS = xr.open_dataset(dataDIR)"
   ]
  },
  {
   "cell_type": "code",
   "execution_count": 4,
   "metadata": {},
   "outputs": [],
   "source": [
    "#Temperature:\n",
    "T = (DS.T.values + DS.T0) * ((DS.P.values + DS.PB.values)/DS.P0)**(DS.R_D/DS.CP)"
   ]
  },
  {
   "cell_type": "code",
   "execution_count": 5,
   "metadata": {},
   "outputs": [
    {
     "data": {
      "text/plain": [
       "(240, 52, 36, 72)"
      ]
     },
     "execution_count": 5,
     "metadata": {},
     "output_type": "execute_result"
    }
   ],
   "source": [
    "T.shape #days, height, latitude, longtitude"
   ]
  },
  {
   "cell_type": "code",
   "execution_count": 6,
   "metadata": {},
   "outputs": [
    {
     "data": {
      "image/png": "[encoded data removed]",
      "text/plain": [
       "<Figure size 432x288 with 2 Axes>"
      ]
     },
     "metadata": {
      "needs_background": "light"
     },
     "output_type": "display_data"
    }
   ],
   "source": [
    "example_data = T[50,5,:, :]\n",
    "plt.contourf(example_data)\n",
    "plt.colorbar()\n",
    "plt.title(\"Temperature Profile\")\n",
    "plt.show()"
   ]
  },
  {
   "cell_type": "code",
   "execution_count": 7,
   "metadata": {},
   "outputs": [],
   "source": [
    "albedo = DS.ALBEDO.values"
   ]
  },
  {
   "cell_type": "code",
   "execution_count": 8,
   "metadata": {},
   "outputs": [
    {
     "data": {
      "text/plain": [
       "(240, 36, 72)"
      ]
     },
     "execution_count": 8,
     "metadata": {},
     "output_type": "execute_result"
    }
   ],
   "source": [
    "albedo.shape #days, latitude, longtitude"
   ]
  },
  {
   "cell_type": "code",
   "execution_count": 15,
   "metadata": {},
   "outputs": [],
   "source": [
    "st = DS.TSK.values"
   ]
  },
  {
   "cell_type": "code",
   "execution_count": 16,
   "metadata": {},
   "outputs": [
    {
     "data": {
      "text/plain": [
       "(240, 36, 72)"
      ]
     },
     "execution_count": 16,
     "metadata": {},
     "output_type": "execute_result"
    }
   ],
   "source": [
    "st.shape"
   ]
  },
  {
   "cell_type": "code",
   "execution_count": 9,
   "metadata": {},
   "outputs": [],
   "source": [
    "d_c = DS.TAU_OD.values"
   ]
  },
  {
   "cell_type": "code",
   "execution_count": 10,
   "metadata": {},
   "outputs": [
    {
     "data": {
      "text/plain": [
       "(240, 52, 36, 72)"
      ]
     },
     "execution_count": 10,
     "metadata": {},
     "output_type": "execute_result"
    }
   ],
   "source": [
    "d_c.shape "
   ]
  },
  {
   "cell_type": "code",
   "execution_count": 11,
   "metadata": {},
   "outputs": [],
   "source": [
    "tsf = DS.TOASW.values #top solar flux"
   ]
  },
  {
   "cell_type": "code",
   "execution_count": 12,
   "metadata": {},
   "outputs": [
    {
     "data": {
      "text/plain": [
       "(240, 36, 72)"
      ]
     },
     "execution_count": 12,
     "metadata": {},
     "output_type": "execute_result"
    }
   ],
   "source": [
    "tsf.shape"
   ]
  },
  {
   "cell_type": "code",
   "execution_count": 13,
   "metadata": {},
   "outputs": [],
   "source": [
    "bsf = DS.GSW.values #bottom solar flux, ouput"
   ]
  },
  {
   "cell_type": "code",
   "execution_count": 14,
   "metadata": {},
   "outputs": [
    {
     "data": {
      "text/plain": [
       "(240, 36, 72)"
      ]
     },
     "execution_count": 14,
     "metadata": {},
     "output_type": "execute_result"
    }
   ],
   "source": [
    "bsf.shape"
   ]
  },
  {
   "cell_type": "markdown",
   "metadata": {},
   "source": [
    "Let's combine the data together, for the equator line"
   ]
  },
  {
   "cell_type": "code",
   "execution_count": 54,
   "metadata": {},
   "outputs": [],
   "source": [
    "e_in = [] #equator input\n",
    "e_out = [] #equator output\n",
    "e_t = [] #equator input and output\n",
    "for i in range(240):\n",
    "    for j in range(72):\n",
    "        input_array = list(T[i,:,18,j]) #start with temp profile\n",
    "        input_array+=list(d_c[i,:,18,j]) #add dust profile\n",
    "        input_array.append(albedo[i,18,j])#add albedo\n",
    "        input_array.append(st[i,18,j])#add surface temp\n",
    "        input_array.append(tsf[i,18,j]) #add top solar flux\n",
    "        e_in.append(input_array) #appends input to input array\n",
    "        e_out.append(bsf[i,18,j]) #appends output to output array\n",
    "        total_array = input_array + [bsf[i,18,j]] #adds input and output data together\n",
    "        e_t.append(total_array) #appends everything to total array"
   ]
  },
  {
   "cell_type": "code",
   "execution_count": 56,
   "metadata": {},
   "outputs": [
    {
     "data": {
      "text/plain": [
       "(17280, 108)"
      ]
     },
     "execution_count": 56,
     "metadata": {},
     "output_type": "execute_result"
    }
   ],
   "source": [
    "e_t = np.array(e_t)\n",
    "e_t.shape"
   ]
  },
  {
   "cell_type": "code",
   "execution_count": 68,
   "metadata": {},
   "outputs": [],
   "source": [
    "from sklearn.pipeline import Pipeline\n",
    "from sklearn.preprocessing import MinMaxScaler\n",
    "\n",
    "scaler = MinMaxScaler()\n",
    "scaler.fit(e_t)\n",
    "a_t = scaler.transform(e_t)"
   ]
  },
  {
   "cell_type": "code",
   "execution_count": 69,
   "metadata": {},
   "outputs": [
    {
     "data": {
      "text/plain": [
       "array([[221.71524  , 231.7268   , 234.09593  , ..., 196.73923  ,\n",
       "         49.710243 ,  20.28048  ],\n",
       "       [214.26558  , 229.31334  , 231.98065  , ..., 187.20706  ,\n",
       "          9.6728735,   2.855617 ],\n",
       "       [210.16537  , 227.2537   , 229.8646   , ..., 180.2071   ,\n",
       "          0.       ,   0.       ],\n",
       "       ...,\n",
       "       [231.45474  , 225.85812  , 223.97119  , ..., 273.35376  ,\n",
       "        501.28662  , 353.60437  ],\n",
       "       [237.45032  , 232.25151  , 230.5609   , ..., 278.08792  ,\n",
       "        515.08673  , 364.20447  ],\n",
       "       [241.38646  , 236.26865  , 234.6103   , ..., 281.30695  ,\n",
       "        525.02045  , 371.4666   ]], dtype=float32)"
      ]
     },
     "execution_count": 69,
     "metadata": {},
     "output_type": "execute_result"
    }
   ],
   "source": [
    "e_t"
   ]
  },
  {
   "cell_type": "code",
   "execution_count": 70,
   "metadata": {},
   "outputs": [
    {
     "data": {
      "text/plain": [
       "array([[0.7235944 , 0.86352885, 0.8959441 , ..., 0.38041532, 0.09326209,\n",
       "        0.0493786 ],\n",
       "       [0.6461687 , 0.8367299 , 0.87118983, ..., 0.31293392, 0.01814741,\n",
       "        0.00695281],\n",
       "       [0.6035547 , 0.8138596 , 0.84642625, ..., 0.26337886, 0.        ,\n",
       "        0.        ],\n",
       "       ...,\n",
       "       [0.8248186 , 0.7983631 , 0.77745795, ..., 0.92279553, 0.94047093,\n",
       "        0.8609505 ],\n",
       "       [0.8871317 , 0.8693553 , 0.8545749 , ..., 0.9563103 , 0.9663615 ,\n",
       "        0.8867595 ],\n",
       "       [0.9280405 , 0.9139615 , 0.9019637 , ..., 0.9790988 , 0.9849983 ,\n",
       "        0.90444124]], dtype=float32)"
      ]
     },
     "execution_count": 70,
     "metadata": {},
     "output_type": "execute_result"
    }
   ],
   "source": [
    "a_t"
   ]
  },
  {
   "cell_type": "code",
   "execution_count": 72,
   "metadata": {},
   "outputs": [
    {
     "data": {
      "text/plain": [
       "array([[221.71524  , 231.7268   , 234.09593  , ..., 196.73923  ,\n",
       "         49.710243 ,  20.28048  ],\n",
       "       [214.26556  , 229.31335  , 231.98065  , ..., 187.20708  ,\n",
       "          9.6728735,   2.855617 ],\n",
       "       [210.16537  , 227.25371  , 229.86458  , ..., 180.2071   ,\n",
       "          0.       ,   0.       ],\n",
       "       ...,\n",
       "       [231.45474  , 225.85812  , 223.97119  , ..., 273.35376  ,\n",
       "        501.28662  , 353.60437  ],\n",
       "       [237.45033  , 232.25153  , 230.5609   , ..., 278.08792  ,\n",
       "        515.08673  , 364.20447  ],\n",
       "       [241.38646  , 236.26865  , 234.6103   , ..., 281.30695  ,\n",
       "        525.02045  , 371.4666   ]], dtype=float32)"
      ]
     },
     "execution_count": 72,
     "metadata": {},
     "output_type": "execute_result"
    }
   ],
   "source": [
    "scaler.inverse_transform(a_t) #we can inverse the scaling!"
   ]
  },
  {
   "cell_type": "code",
   "execution_count": 79,
   "metadata": {},
   "outputs": [],
   "source": [
    "e_in = np.array(e_in)\n",
    "e_out = np.array(e_out)"
   ]
  },
  {
   "cell_type": "code",
   "execution_count": 80,
   "metadata": {},
   "outputs": [
    {
     "data": {
      "text/plain": [
       "True"
      ]
     },
     "execution_count": 80,
     "metadata": {},
     "output_type": "execute_result"
    }
   ],
   "source": [
    "np.array_equal(e_in,e_t[:,:107])"
   ]
  },
  {
   "cell_type": "code",
   "execution_count": 83,
   "metadata": {},
   "outputs": [
    {
     "data": {
      "text/plain": [
       "True"
      ]
     },
     "execution_count": 83,
     "metadata": {},
     "output_type": "execute_result"
    }
   ],
   "source": [
    "np.array_equal(e_out,e_t[:,107]) #we can just use e_t array..."
   ]
  },
  {
   "cell_type": "code",
   "execution_count": 84,
   "metadata": {},
   "outputs": [],
   "source": [
    "from sklearn.model_selection import train_test_split\n",
    "\n",
    "train_set, test_set = train_test_split(a_t, test_size=0.2, random_state=42)"
   ]
  },
  {
   "cell_type": "code",
   "execution_count": 85,
   "metadata": {},
   "outputs": [
    {
     "data": {
      "text/plain": [
       "(13824, 108)"
      ]
     },
     "execution_count": 85,
     "metadata": {},
     "output_type": "execute_result"
    }
   ],
   "source": [
    "train_set.shape"
   ]
  },
  {
   "cell_type": "code",
   "execution_count": 86,
   "metadata": {},
   "outputs": [
    {
     "data": {
      "text/plain": [
       "(3456, 108)"
      ]
     },
     "execution_count": 86,
     "metadata": {},
     "output_type": "execute_result"
    }
   ],
   "source": [
    "test_set.shape"
   ]
  },
  {
   "cell_type": "code",
   "execution_count": 90,
   "metadata": {},
   "outputs": [],
   "source": [
    "train_in = train_set[:,:107] #training input\n",
    "train_out = train_set[:,107] #training output\n",
    "test_in = test_set[:,:107] #training input\n",
    "test_out = test_set[:,107:] #training output"
   ]
  },
  {
   "cell_type": "code",
   "execution_count": 95,
   "metadata": {},
   "outputs": [
    {
     "data": {
      "text/plain": [
       "array([[0.5965668 ],\n",
       "       [0.19768722],\n",
       "       [0.        ],\n",
       "       ...,\n",
       "       [0.57830584],\n",
       "       [0.8205837 ],\n",
       "       [0.6920409 ]], dtype=float32)"
      ]
     },
     "execution_count": 95,
     "metadata": {},
     "output_type": "execute_result"
    }
   ],
   "source": [
    "test_out"
   ]
  },
  {
   "cell_type": "code",
   "execution_count": 94,
   "metadata": {},
   "outputs": [
    {
     "data": {
      "text/plain": [
       "array([[0.6424422 , 0.62677634, 0.6025467 , ..., 0.7299129 , 0.66896087,\n",
       "        0.5965668 ],\n",
       "       [0.29431593, 0.32302964, 0.5538244 , ..., 0.2964778 , 0.26201406,\n",
       "        0.19768722],\n",
       "       [0.37768137, 0.4983896 , 0.53918505, ..., 0.2383877 , 0.        ,\n",
       "        0.        ],\n",
       "       ...,\n",
       "       [0.56051564, 0.54999864, 0.5254264 , ..., 0.5873108 , 0.6390975 ,\n",
       "        0.57830584],\n",
       "       [0.91349864, 0.9103886 , 0.89968896, ..., 0.8769425 , 0.85813004,\n",
       "        0.8205837 ],\n",
       "       [0.6897023 , 0.6760484 , 0.6534691 , ..., 0.7302308 , 0.7657063 ,\n",
       "        0.6920409 ]], dtype=float32)"
      ]
     },
     "execution_count": 94,
     "metadata": {},
     "output_type": "execute_result"
    }
   ],
   "source": [
    "test_set"
   ]
  },
  {
   "cell_type": "markdown",
   "metadata": {},
   "source": [
    "Let's try linear regression"
   ]
  },
  {
   "cell_type": "code",
   "execution_count": 96,
   "metadata": {},
   "outputs": [
    {
     "data": {
      "text/plain": [
       "LinearRegression(copy_X=True, fit_intercept=True, n_jobs=None, normalize=False)"
      ]
     },
     "execution_count": 96,
     "metadata": {},
     "output_type": "execute_result"
    }
   ],
   "source": [
    "from sklearn.linear_model import LinearRegression\n",
    "\n",
    "lin_reg = LinearRegression()\n",
    "lin_reg.fit(train_in, train_out)"
   ]
  },
  {
   "cell_type": "code",
   "execution_count": 97,
   "metadata": {},
   "outputs": [
    {
     "data": {
      "text/plain": [
       "0.013295249"
      ]
     },
     "execution_count": 97,
     "metadata": {},
     "output_type": "execute_result"
    }
   ],
   "source": [
    "from sklearn.metrics import mean_squared_error\n",
    "\n",
    "train_pred = lin_reg.predict(train_in) #prediction\n",
    "lin_mse = mean_squared_error(train_out, train_pred)\n",
    "lin_rmse = np.sqrt(lin_mse)\n",
    "lin_rmse "
   ]
  },
  {
   "cell_type": "code",
   "execution_count": null,
   "metadata": {},
   "outputs": [],
   "source": []
  }
 ],
 "metadata": {
  "kernelspec": {
   "display_name": "Python 3",
   "language": "python",
   "name": "python3"
  },
  "language_info": {
   "codemirror_mode": {
    "name": "ipython",
    "version": 3
   },
   "file_extension": ".py",
   "mimetype": "text/x-python",
   "name": "python",
   "nbconvert_exporter": "python",
   "pygments_lexer": "ipython3",
   "version": "3.7.4"
  }
 },
 "nbformat": 4,
 "nbformat_minor": 2
}
