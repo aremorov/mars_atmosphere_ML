{
 "cells": [
  {
   "cell_type": "code",
   "execution_count": 1,
   "metadata": {},
   "outputs": [],
   "source": [
    "import xarray as xr\n",
    "import matplotlib.pyplot as plt\n",
    "import numpy as np\n",
    "import pandas as pd"
   ]
  },
  {
   "cell_type": "code",
   "execution_count": 2,
   "metadata": {},
   "outputs": [],
   "source": [
    "dataDIR = 'short'\n",
    "DS = xr.open_dataset(dataDIR)"
   ]
  },
  {
   "cell_type": "code",
   "execution_count": 3,
   "metadata": {},
   "outputs": [],
   "source": [
    "#Temperature:\n",
    "T = (DS.T.values + DS.T0) * ((DS.P.values + DS.PB.values)/DS.P0)**(DS.R_D/DS.CP)"
   ]
  },
  {
   "cell_type": "code",
   "execution_count": 4,
   "metadata": {},
   "outputs": [
    {
     "data": {
      "text/plain": [
       "(240, 52, 36, 72)"
      ]
     },
     "execution_count": 4,
     "metadata": {},
     "output_type": "execute_result"
    }
   ],
   "source": [
    "T.shape #days, height, latitude, longtitude"
   ]
  },
  {
   "cell_type": "code",
   "execution_count": 5,
   "metadata": {},
   "outputs": [
    {
     "data": {
      "image/png": "[encoded data removed]",
      "text/plain": [
       "<Figure size 432x288 with 2 Axes>"
      ]
     },
     "metadata": {
      "needs_background": "light"
     },
     "output_type": "display_data"
    }
   ],
   "source": [
    "example_data = T[50,5,:, :]\n",
    "plt.contourf(example_data)\n",
    "plt.colorbar()\n",
    "plt.title(\"Temperature Profile\")\n",
    "plt.show()"
   ]
  },
  {
   "cell_type": "code",
   "execution_count": 6,
   "metadata": {},
   "outputs": [],
   "source": [
    "albedo = DS.ALBEDO.values"
   ]
  },
  {
   "cell_type": "code",
   "execution_count": 7,
   "metadata": {},
   "outputs": [
    {
     "data": {
      "text/plain": [
       "(240, 36, 72)"
      ]
     },
     "execution_count": 7,
     "metadata": {},
     "output_type": "execute_result"
    }
   ],
   "source": [
    "albedo.shape #days, latitude, longtitude"
   ]
  },
  {
   "cell_type": "code",
   "execution_count": 8,
   "metadata": {},
   "outputs": [],
   "source": [
    "st = DS.TSK.values"
   ]
  },
  {
   "cell_type": "code",
   "execution_count": 9,
   "metadata": {},
   "outputs": [
    {
     "data": {
      "text/plain": [
       "(240, 36, 72)"
      ]
     },
     "execution_count": 9,
     "metadata": {},
     "output_type": "execute_result"
    }
   ],
   "source": [
    "st.shape"
   ]
  },
  {
   "cell_type": "code",
   "execution_count": 10,
   "metadata": {},
   "outputs": [],
   "source": [
    "d_c = DS.TAU_OD.values"
   ]
  },
  {
   "cell_type": "code",
   "execution_count": 11,
   "metadata": {},
   "outputs": [
    {
     "data": {
      "text/plain": [
       "(240, 52, 36, 72)"
      ]
     },
     "execution_count": 11,
     "metadata": {},
     "output_type": "execute_result"
    }
   ],
   "source": [
    "d_c.shape "
   ]
  },
  {
   "cell_type": "code",
   "execution_count": 12,
   "metadata": {},
   "outputs": [],
   "source": [
    "tsf = DS.TOASW.values #top solar flux"
   ]
  },
  {
   "cell_type": "code",
   "execution_count": 13,
   "metadata": {},
   "outputs": [
    {
     "data": {
      "text/plain": [
       "(240, 36, 72)"
      ]
     },
     "execution_count": 13,
     "metadata": {},
     "output_type": "execute_result"
    }
   ],
   "source": [
    "tsf.shape"
   ]
  },
  {
   "cell_type": "code",
   "execution_count": 14,
   "metadata": {},
   "outputs": [],
   "source": [
    "bsf = DS.GSW.values #bottom solar flux, ouput"
   ]
  },
  {
   "cell_type": "code",
   "execution_count": 15,
   "metadata": {},
   "outputs": [
    {
     "data": {
      "text/plain": [
       "(240, 36, 72)"
      ]
     },
     "execution_count": 15,
     "metadata": {},
     "output_type": "execute_result"
    }
   ],
   "source": [
    "bsf.shape"
   ]
  },
  {
   "cell_type": "markdown",
   "metadata": {},
   "source": [
    "Let's combine the data together, for the equator line"
   ]
  },
  {
   "cell_type": "code",
   "execution_count": 16,
   "metadata": {},
   "outputs": [],
   "source": [
    "e_in = [] #equator input\n",
    "e_out = [] #equator output\n",
    "e_t = [] #equator input and output\n",
    "for i in range(240):\n",
    "    for j in range(72):\n",
    "        input_array = list(T[i,:,18,j]) #start with temp profile\n",
    "        input_array+=list(d_c[i,:,18,j]) #add dust profile\n",
    "        input_array.append(albedo[i,18,j])#add albedo\n",
    "        input_array.append(st[i,18,j])#add surface temp\n",
    "        input_array.append(tsf[i,18,j]) #add top solar flux\n",
    "        e_in.append(input_array) #appends input to input array\n",
    "        e_out.append(bsf[i,18,j]) #appends output to output array\n",
    "        total_array = input_array + [bsf[i,18,j]] #adds input and output data together\n",
    "        e_t.append(total_array) #appends everything to total array"
   ]
  },
  {
   "cell_type": "code",
   "execution_count": 17,
   "metadata": {},
   "outputs": [
    {
     "data": {
      "text/plain": [
       "(17280, 108)"
      ]
     },
     "execution_count": 17,
     "metadata": {},
     "output_type": "execute_result"
    }
   ],
   "source": [
    "e_t = np.array(e_t)\n",
    "e_t.shape"
   ]
  },
  {
   "cell_type": "code",
   "execution_count": 18,
   "metadata": {},
   "outputs": [],
   "source": [
    "from sklearn.pipeline import Pipeline\n",
    "from sklearn.preprocessing import MinMaxScaler\n",
    "\n",
    "scaler = MinMaxScaler()\n",
    "scaler.fit(e_t)\n",
    "a_t = scaler.transform(e_t)"
   ]
  },
  {
   "cell_type": "code",
   "execution_count": 19,
   "metadata": {},
   "outputs": [
    {
     "data": {
      "text/plain": [
       "array([[221.71524  , 231.7268   , 234.09593  , ..., 196.73923  ,\n",
       "         49.710243 ,  20.28048  ],\n",
       "       [214.26558  , 229.31334  , 231.98065  , ..., 187.20706  ,\n",
       "          9.6728735,   2.855617 ],\n",
       "       [210.16537  , 227.2537   , 229.8646   , ..., 180.2071   ,\n",
       "          0.       ,   0.       ],\n",
       "       ...,\n",
       "       [231.45474  , 225.85812  , 223.97119  , ..., 273.35376  ,\n",
       "        501.28662  , 353.60437  ],\n",
       "       [237.45032  , 232.25151  , 230.5609   , ..., 278.08792  ,\n",
       "        515.08673  , 364.20447  ],\n",
       "       [241.38646  , 236.26865  , 234.6103   , ..., 281.30695  ,\n",
       "        525.02045  , 371.4666   ]], dtype=float32)"
      ]
     },
     "execution_count": 19,
     "metadata": {},
     "output_type": "execute_result"
    }
   ],
   "source": [
    "e_t"
   ]
  },
  {
   "cell_type": "code",
   "execution_count": 20,
   "metadata": {
    "scrolled": true
   },
   "outputs": [
    {
     "data": {
      "text/plain": [
       "array([[0.7235944 , 0.86352885, 0.8959441 , ..., 0.38041532, 0.09326209,\n",
       "        0.0493786 ],\n",
       "       [0.6461687 , 0.8367299 , 0.87118983, ..., 0.31293392, 0.01814741,\n",
       "        0.00695281],\n",
       "       [0.6035547 , 0.8138596 , 0.84642625, ..., 0.26337886, 0.        ,\n",
       "        0.        ],\n",
       "       ...,\n",
       "       [0.8248186 , 0.7983631 , 0.77745795, ..., 0.92279553, 0.94047093,\n",
       "        0.8609505 ],\n",
       "       [0.8871317 , 0.8693553 , 0.8545749 , ..., 0.9563103 , 0.9663615 ,\n",
       "        0.8867595 ],\n",
       "       [0.9280405 , 0.9139615 , 0.9019637 , ..., 0.9790988 , 0.9849983 ,\n",
       "        0.90444124]], dtype=float32)"
      ]
     },
     "execution_count": 20,
     "metadata": {},
     "output_type": "execute_result"
    }
   ],
   "source": [
    "a_t"
   ]
  },
  {
   "cell_type": "code",
   "execution_count": 21,
   "metadata": {},
   "outputs": [
    {
     "data": {
      "text/plain": [
       "array([[221.71524  , 231.7268   , 234.09593  , ..., 196.73923  ,\n",
       "         49.710243 ,  20.28048  ],\n",
       "       [214.26556  , 229.31335  , 231.98065  , ..., 187.20708  ,\n",
       "          9.6728735,   2.855617 ],\n",
       "       [210.16537  , 227.25371  , 229.86458  , ..., 180.2071   ,\n",
       "          0.       ,   0.       ],\n",
       "       ...,\n",
       "       [231.45474  , 225.85812  , 223.97119  , ..., 273.35376  ,\n",
       "        501.28662  , 353.60437  ],\n",
       "       [237.45033  , 232.25153  , 230.5609   , ..., 278.08792  ,\n",
       "        515.08673  , 364.20447  ],\n",
       "       [241.38646  , 236.26865  , 234.6103   , ..., 281.30695  ,\n",
       "        525.02045  , 371.4666   ]], dtype=float32)"
      ]
     },
     "execution_count": 21,
     "metadata": {},
     "output_type": "execute_result"
    }
   ],
   "source": [
    "scaler.inverse_transform(a_t) #we can inverse the scaling!"
   ]
  },
  {
   "cell_type": "code",
   "execution_count": 22,
   "metadata": {},
   "outputs": [],
   "source": [
    "scaler2 = MinMaxScaler()\n",
    "scaler2.fit(e_t[:,107].reshape(-1,1))\n",
    "a_t_out = scaler2.transform(e_t[:,107].reshape(-1,1))"
   ]
  },
  {
   "cell_type": "code",
   "execution_count": 23,
   "metadata": {},
   "outputs": [
    {
     "data": {
      "text/plain": [
       "array([[0.0493786 ],\n",
       "       [0.00695281],\n",
       "       [0.        ],\n",
       "       ...,\n",
       "       [0.8609505 ],\n",
       "       [0.8867595 ],\n",
       "       [0.90444124]], dtype=float32)"
      ]
     },
     "execution_count": 23,
     "metadata": {},
     "output_type": "execute_result"
    }
   ],
   "source": [
    "a_t_out"
   ]
  },
  {
   "cell_type": "code",
   "execution_count": 24,
   "metadata": {},
   "outputs": [
    {
     "data": {
      "text/plain": [
       "array([[ 20.28048 ],\n",
       "       [  2.855617],\n",
       "       [  0.      ],\n",
       "       ...,\n",
       "       [353.60437 ],\n",
       "       [364.20447 ],\n",
       "       [371.4666  ]], dtype=float32)"
      ]
     },
     "execution_count": 24,
     "metadata": {},
     "output_type": "execute_result"
    }
   ],
   "source": [
    "scaler2.inverse_transform(a_t_out)"
   ]
  },
  {
   "cell_type": "code",
   "execution_count": 25,
   "metadata": {},
   "outputs": [],
   "source": [
    "e_in = np.array(e_in)\n",
    "e_out = np.array(e_out)"
   ]
  },
  {
   "cell_type": "code",
   "execution_count": 26,
   "metadata": {},
   "outputs": [
    {
     "data": {
      "text/plain": [
       "True"
      ]
     },
     "execution_count": 26,
     "metadata": {},
     "output_type": "execute_result"
    }
   ],
   "source": [
    "np.array_equal(e_in,e_t[:,:107])"
   ]
  },
  {
   "cell_type": "code",
   "execution_count": 27,
   "metadata": {},
   "outputs": [
    {
     "data": {
      "text/plain": [
       "True"
      ]
     },
     "execution_count": 27,
     "metadata": {},
     "output_type": "execute_result"
    }
   ],
   "source": [
    "np.array_equal(e_out,e_t[:,107]) #we can just use e_t array..."
   ]
  },
  {
   "cell_type": "code",
   "execution_count": 28,
   "metadata": {},
   "outputs": [
    {
     "data": {
      "text/html": [
       "<div>\n",
       "<style scoped>\n",
       "    .dataframe tbody tr th:only-of-type {\n",
       "        vertical-align: middle;\n",
       "    }\n",
       "\n",
       "    .dataframe tbody tr th {\n",
       "        vertical-align: top;\n",
       "    }\n",
       "\n",
       "    .dataframe thead th {\n",
       "        text-align: right;\n",
       "    }\n",
       "</style>\n",
       "<table border=\"1\" class=\"dataframe\">\n",
       "  <thead>\n",
       "    <tr style=\"text-align: right;\">\n",
       "      <th></th>\n",
       "      <th>0</th>\n",
       "      <th>1</th>\n",
       "      <th>2</th>\n",
       "      <th>3</th>\n",
       "      <th>4</th>\n",
       "      <th>5</th>\n",
       "      <th>6</th>\n",
       "      <th>7</th>\n",
       "      <th>8</th>\n",
       "      <th>9</th>\n",
       "      <th>...</th>\n",
       "      <th>98</th>\n",
       "      <th>99</th>\n",
       "      <th>100</th>\n",
       "      <th>101</th>\n",
       "      <th>102</th>\n",
       "      <th>103</th>\n",
       "      <th>104</th>\n",
       "      <th>105</th>\n",
       "      <th>106</th>\n",
       "      <th>107</th>\n",
       "    </tr>\n",
       "  </thead>\n",
       "  <tbody>\n",
       "    <tr>\n",
       "      <td>0</td>\n",
       "      <td>221.715240</td>\n",
       "      <td>231.726807</td>\n",
       "      <td>234.095932</td>\n",
       "      <td>234.503632</td>\n",
       "      <td>234.329010</td>\n",
       "      <td>233.942673</td>\n",
       "      <td>233.464264</td>\n",
       "      <td>232.940186</td>\n",
       "      <td>232.390991</td>\n",
       "      <td>231.818634</td>\n",
       "      <td>...</td>\n",
       "      <td>8.481921e-08</td>\n",
       "      <td>5.586889e-08</td>\n",
       "      <td>3.514140e-08</td>\n",
       "      <td>2.067390e-08</td>\n",
       "      <td>1.108751e-08</td>\n",
       "      <td>5.375729e-09</td>\n",
       "      <td>0.258120</td>\n",
       "      <td>196.739227</td>\n",
       "      <td>49.710243</td>\n",
       "      <td>20.280479</td>\n",
       "    </tr>\n",
       "    <tr>\n",
       "      <td>1</td>\n",
       "      <td>214.265579</td>\n",
       "      <td>229.313339</td>\n",
       "      <td>231.980652</td>\n",
       "      <td>233.091660</td>\n",
       "      <td>233.244293</td>\n",
       "      <td>233.042313</td>\n",
       "      <td>232.685272</td>\n",
       "      <td>232.249969</td>\n",
       "      <td>231.769409</td>\n",
       "      <td>231.259506</td>\n",
       "      <td>...</td>\n",
       "      <td>8.633013e-08</td>\n",
       "      <td>5.685386e-08</td>\n",
       "      <td>3.574981e-08</td>\n",
       "      <td>2.101948e-08</td>\n",
       "      <td>1.125893e-08</td>\n",
       "      <td>5.443385e-09</td>\n",
       "      <td>0.255179</td>\n",
       "      <td>187.207062</td>\n",
       "      <td>9.672873</td>\n",
       "      <td>2.855617</td>\n",
       "    </tr>\n",
       "    <tr>\n",
       "      <td>2</td>\n",
       "      <td>210.165375</td>\n",
       "      <td>227.253693</td>\n",
       "      <td>229.864594</td>\n",
       "      <td>231.590607</td>\n",
       "      <td>231.866180</td>\n",
       "      <td>231.756638</td>\n",
       "      <td>231.457138</td>\n",
       "      <td>231.062225</td>\n",
       "      <td>230.613007</td>\n",
       "      <td>230.131134</td>\n",
       "      <td>...</td>\n",
       "      <td>8.785055e-08</td>\n",
       "      <td>5.784503e-08</td>\n",
       "      <td>3.636205e-08</td>\n",
       "      <td>2.136724e-08</td>\n",
       "      <td>1.143143e-08</td>\n",
       "      <td>5.511467e-09</td>\n",
       "      <td>0.261824</td>\n",
       "      <td>180.207108</td>\n",
       "      <td>0.000000</td>\n",
       "      <td>0.000000</td>\n",
       "    </tr>\n",
       "    <tr>\n",
       "      <td>3</td>\n",
       "      <td>204.305664</td>\n",
       "      <td>220.883759</td>\n",
       "      <td>226.787598</td>\n",
       "      <td>229.156601</td>\n",
       "      <td>230.048355</td>\n",
       "      <td>230.277405</td>\n",
       "      <td>230.192307</td>\n",
       "      <td>229.942062</td>\n",
       "      <td>229.589310</td>\n",
       "      <td>229.168213</td>\n",
       "      <td>...</td>\n",
       "      <td>8.428513e-08</td>\n",
       "      <td>5.552072e-08</td>\n",
       "      <td>3.492633e-08</td>\n",
       "      <td>2.055174e-08</td>\n",
       "      <td>1.102691e-08</td>\n",
       "      <td>5.351814e-09</td>\n",
       "      <td>0.259610</td>\n",
       "      <td>176.107941</td>\n",
       "      <td>0.000000</td>\n",
       "      <td>0.000000</td>\n",
       "    </tr>\n",
       "    <tr>\n",
       "      <td>4</td>\n",
       "      <td>200.434067</td>\n",
       "      <td>214.538086</td>\n",
       "      <td>221.359314</td>\n",
       "      <td>224.568710</td>\n",
       "      <td>226.002594</td>\n",
       "      <td>226.618210</td>\n",
       "      <td>226.815628</td>\n",
       "      <td>226.775070</td>\n",
       "      <td>226.599731</td>\n",
       "      <td>226.295593</td>\n",
       "      <td>...</td>\n",
       "      <td>7.919467e-08</td>\n",
       "      <td>5.220223e-08</td>\n",
       "      <td>3.287652e-08</td>\n",
       "      <td>1.938745e-08</td>\n",
       "      <td>1.044937e-08</td>\n",
       "      <td>5.123874e-09</td>\n",
       "      <td>0.256876</td>\n",
       "      <td>171.112762</td>\n",
       "      <td>0.000000</td>\n",
       "      <td>0.000000</td>\n",
       "    </tr>\n",
       "    <tr>\n",
       "      <td>...</td>\n",
       "      <td>...</td>\n",
       "      <td>...</td>\n",
       "      <td>...</td>\n",
       "      <td>...</td>\n",
       "      <td>...</td>\n",
       "      <td>...</td>\n",
       "      <td>...</td>\n",
       "      <td>...</td>\n",
       "      <td>...</td>\n",
       "      <td>...</td>\n",
       "      <td>...</td>\n",
       "      <td>...</td>\n",
       "      <td>...</td>\n",
       "      <td>...</td>\n",
       "      <td>...</td>\n",
       "      <td>...</td>\n",
       "      <td>...</td>\n",
       "      <td>...</td>\n",
       "      <td>...</td>\n",
       "      <td>...</td>\n",
       "      <td>...</td>\n",
       "    </tr>\n",
       "    <tr>\n",
       "      <td>17275</td>\n",
       "      <td>225.466187</td>\n",
       "      <td>220.502090</td>\n",
       "      <td>218.717804</td>\n",
       "      <td>217.574936</td>\n",
       "      <td>216.752670</td>\n",
       "      <td>216.058411</td>\n",
       "      <td>215.427002</td>\n",
       "      <td>214.830536</td>\n",
       "      <td>214.254379</td>\n",
       "      <td>213.691330</td>\n",
       "      <td>...</td>\n",
       "      <td>8.334755e-08</td>\n",
       "      <td>5.490969e-08</td>\n",
       "      <td>3.454911e-08</td>\n",
       "      <td>2.033771e-08</td>\n",
       "      <td>1.092101e-08</td>\n",
       "      <td>5.310336e-09</td>\n",
       "      <td>0.258621</td>\n",
       "      <td>264.080078</td>\n",
       "      <td>462.536316</td>\n",
       "      <td>321.594421</td>\n",
       "    </tr>\n",
       "    <tr>\n",
       "      <td>17276</td>\n",
       "      <td>227.451889</td>\n",
       "      <td>222.103149</td>\n",
       "      <td>220.236130</td>\n",
       "      <td>219.026154</td>\n",
       "      <td>218.162262</td>\n",
       "      <td>217.435730</td>\n",
       "      <td>216.776611</td>\n",
       "      <td>216.153748</td>\n",
       "      <td>215.552460</td>\n",
       "      <td>214.964127</td>\n",
       "      <td>...</td>\n",
       "      <td>8.425442e-08</td>\n",
       "      <td>5.550088e-08</td>\n",
       "      <td>3.491428e-08</td>\n",
       "      <td>2.054513e-08</td>\n",
       "      <td>1.102390e-08</td>\n",
       "      <td>5.350944e-09</td>\n",
       "      <td>0.252233</td>\n",
       "      <td>267.429535</td>\n",
       "      <td>483.725281</td>\n",
       "      <td>340.336151</td>\n",
       "    </tr>\n",
       "    <tr>\n",
       "      <td>17277</td>\n",
       "      <td>231.454742</td>\n",
       "      <td>225.858124</td>\n",
       "      <td>223.971191</td>\n",
       "      <td>222.743729</td>\n",
       "      <td>221.868713</td>\n",
       "      <td>221.133545</td>\n",
       "      <td>220.466843</td>\n",
       "      <td>219.837875</td>\n",
       "      <td>219.231857</td>\n",
       "      <td>218.640839</td>\n",
       "      <td>...</td>\n",
       "      <td>8.452836e-08</td>\n",
       "      <td>5.567946e-08</td>\n",
       "      <td>3.502459e-08</td>\n",
       "      <td>2.060779e-08</td>\n",
       "      <td>1.105498e-08</td>\n",
       "      <td>5.363210e-09</td>\n",
       "      <td>0.252611</td>\n",
       "      <td>273.353760</td>\n",
       "      <td>501.286621</td>\n",
       "      <td>353.604370</td>\n",
       "    </tr>\n",
       "    <tr>\n",
       "      <td>17278</td>\n",
       "      <td>237.450317</td>\n",
       "      <td>232.251511</td>\n",
       "      <td>230.560898</td>\n",
       "      <td>229.388550</td>\n",
       "      <td>228.522766</td>\n",
       "      <td>227.774963</td>\n",
       "      <td>227.085251</td>\n",
       "      <td>226.427170</td>\n",
       "      <td>225.788010</td>\n",
       "      <td>225.159653</td>\n",
       "      <td>...</td>\n",
       "      <td>8.415738e-08</td>\n",
       "      <td>5.543762e-08</td>\n",
       "      <td>3.487521e-08</td>\n",
       "      <td>2.052293e-08</td>\n",
       "      <td>1.101289e-08</td>\n",
       "      <td>5.346599e-09</td>\n",
       "      <td>0.252801</td>\n",
       "      <td>278.087921</td>\n",
       "      <td>515.086731</td>\n",
       "      <td>364.204468</td>\n",
       "    </tr>\n",
       "    <tr>\n",
       "      <td>17279</td>\n",
       "      <td>241.386459</td>\n",
       "      <td>236.268646</td>\n",
       "      <td>234.610306</td>\n",
       "      <td>233.436691</td>\n",
       "      <td>232.557083</td>\n",
       "      <td>231.790146</td>\n",
       "      <td>231.078552</td>\n",
       "      <td>230.397720</td>\n",
       "      <td>229.734909</td>\n",
       "      <td>229.082016</td>\n",
       "      <td>...</td>\n",
       "      <td>8.377403e-08</td>\n",
       "      <td>5.518772e-08</td>\n",
       "      <td>3.472084e-08</td>\n",
       "      <td>2.043525e-08</td>\n",
       "      <td>1.096939e-08</td>\n",
       "      <td>5.329433e-09</td>\n",
       "      <td>0.253754</td>\n",
       "      <td>281.306946</td>\n",
       "      <td>525.020447</td>\n",
       "      <td>371.466614</td>\n",
       "    </tr>\n",
       "  </tbody>\n",
       "</table>\n",
       "<p>17280 rows × 108 columns</p>\n",
       "</div>"
      ],
      "text/plain": [
       "              0           1           2           3           4           5    \\\n",
       "0      221.715240  231.726807  234.095932  234.503632  234.329010  233.942673   \n",
       "1      214.265579  229.313339  231.980652  233.091660  233.244293  233.042313   \n",
       "2      210.165375  227.253693  229.864594  231.590607  231.866180  231.756638   \n",
       "3      204.305664  220.883759  226.787598  229.156601  230.048355  230.277405   \n",
       "4      200.434067  214.538086  221.359314  224.568710  226.002594  226.618210   \n",
       "...           ...         ...         ...         ...         ...         ...   \n",
       "17275  225.466187  220.502090  218.717804  217.574936  216.752670  216.058411   \n",
       "17276  227.451889  222.103149  220.236130  219.026154  218.162262  217.435730   \n",
       "17277  231.454742  225.858124  223.971191  222.743729  221.868713  221.133545   \n",
       "17278  237.450317  232.251511  230.560898  229.388550  228.522766  227.774963   \n",
       "17279  241.386459  236.268646  234.610306  233.436691  232.557083  231.790146   \n",
       "\n",
       "              6           7           8           9    ...           98   \\\n",
       "0      233.464264  232.940186  232.390991  231.818634  ...  8.481921e-08   \n",
       "1      232.685272  232.249969  231.769409  231.259506  ...  8.633013e-08   \n",
       "2      231.457138  231.062225  230.613007  230.131134  ...  8.785055e-08   \n",
       "3      230.192307  229.942062  229.589310  229.168213  ...  8.428513e-08   \n",
       "4      226.815628  226.775070  226.599731  226.295593  ...  7.919467e-08   \n",
       "...           ...         ...         ...         ...  ...           ...   \n",
       "17275  215.427002  214.830536  214.254379  213.691330  ...  8.334755e-08   \n",
       "17276  216.776611  216.153748  215.552460  214.964127  ...  8.425442e-08   \n",
       "17277  220.466843  219.837875  219.231857  218.640839  ...  8.452836e-08   \n",
       "17278  227.085251  226.427170  225.788010  225.159653  ...  8.415738e-08   \n",
       "17279  231.078552  230.397720  229.734909  229.082016  ...  8.377403e-08   \n",
       "\n",
       "                99            100           101           102           103  \\\n",
       "0      5.586889e-08  3.514140e-08  2.067390e-08  1.108751e-08  5.375729e-09   \n",
       "1      5.685386e-08  3.574981e-08  2.101948e-08  1.125893e-08  5.443385e-09   \n",
       "2      5.784503e-08  3.636205e-08  2.136724e-08  1.143143e-08  5.511467e-09   \n",
       "3      5.552072e-08  3.492633e-08  2.055174e-08  1.102691e-08  5.351814e-09   \n",
       "4      5.220223e-08  3.287652e-08  1.938745e-08  1.044937e-08  5.123874e-09   \n",
       "...             ...           ...           ...           ...           ...   \n",
       "17275  5.490969e-08  3.454911e-08  2.033771e-08  1.092101e-08  5.310336e-09   \n",
       "17276  5.550088e-08  3.491428e-08  2.054513e-08  1.102390e-08  5.350944e-09   \n",
       "17277  5.567946e-08  3.502459e-08  2.060779e-08  1.105498e-08  5.363210e-09   \n",
       "17278  5.543762e-08  3.487521e-08  2.052293e-08  1.101289e-08  5.346599e-09   \n",
       "17279  5.518772e-08  3.472084e-08  2.043525e-08  1.096939e-08  5.329433e-09   \n",
       "\n",
       "            104         105         106         107  \n",
       "0      0.258120  196.739227   49.710243   20.280479  \n",
       "1      0.255179  187.207062    9.672873    2.855617  \n",
       "2      0.261824  180.207108    0.000000    0.000000  \n",
       "3      0.259610  176.107941    0.000000    0.000000  \n",
       "4      0.256876  171.112762    0.000000    0.000000  \n",
       "...         ...         ...         ...         ...  \n",
       "17275  0.258621  264.080078  462.536316  321.594421  \n",
       "17276  0.252233  267.429535  483.725281  340.336151  \n",
       "17277  0.252611  273.353760  501.286621  353.604370  \n",
       "17278  0.252801  278.087921  515.086731  364.204468  \n",
       "17279  0.253754  281.306946  525.020447  371.466614  \n",
       "\n",
       "[17280 rows x 108 columns]"
      ]
     },
     "execution_count": 28,
     "metadata": {},
     "output_type": "execute_result"
    }
   ],
   "source": [
    "e_d = pd.DataFrame(e_t) \n",
    "e_d"
   ]
  },
  {
   "cell_type": "code",
   "execution_count": 29,
   "metadata": {},
   "outputs": [
    {
     "data": {
      "text/plain": [
       "0         20.280479\n",
       "1          2.855617\n",
       "2          0.000000\n",
       "3          0.000000\n",
       "4          0.000000\n",
       "            ...    \n",
       "17275    321.594421\n",
       "17276    340.336151\n",
       "17277    353.604370\n",
       "17278    364.204468\n",
       "17279    371.466614\n",
       "Name: 107, Length: 17280, dtype: float32"
      ]
     },
     "execution_count": 29,
     "metadata": {},
     "output_type": "execute_result"
    }
   ],
   "source": [
    "e_d.iloc[:,107]"
   ]
  },
  {
   "cell_type": "code",
   "execution_count": 30,
   "metadata": {},
   "outputs": [],
   "source": [
    "from sklearn.model_selection import train_test_split\n",
    "\n",
    "train_set, test_set = train_test_split(e_d, test_size=0.2, random_state=42)"
   ]
  },
  {
   "cell_type": "code",
   "execution_count": 31,
   "metadata": {},
   "outputs": [
    {
     "data": {
      "text/plain": [
       "(13824, 108)"
      ]
     },
     "execution_count": 31,
     "metadata": {},
     "output_type": "execute_result"
    }
   ],
   "source": [
    "train_set.shape"
   ]
  },
  {
   "cell_type": "code",
   "execution_count": 32,
   "metadata": {},
   "outputs": [
    {
     "data": {
      "text/plain": [
       "(3456, 108)"
      ]
     },
     "execution_count": 32,
     "metadata": {},
     "output_type": "execute_result"
    }
   ],
   "source": [
    "test_set.shape"
   ]
  },
  {
   "cell_type": "code",
   "execution_count": 33,
   "metadata": {},
   "outputs": [],
   "source": [
    "train_in = train_set.iloc[:,:107] #training input\n",
    "train_out = train_set.iloc[:,107] #training output\n",
    "test_in = test_set.iloc[:,:107] #training input\n",
    "test_out = test_set.iloc[:,107:] #training output"
   ]
  },
  {
   "cell_type": "code",
   "execution_count": 34,
   "metadata": {},
   "outputs": [],
   "source": [
    "train_in.index #this provides the location of each point according to the date and latitude\n",
    "indices = np.array(train_in.index)"
   ]
  },
  {
   "cell_type": "code",
   "execution_count": 35,
   "metadata": {},
   "outputs": [
    {
     "data": {
      "text/plain": [
       "array([[2.0698882e+02, 2.1302245e+02, 2.1933377e+02, ..., 2.3806538e-01,\n",
       "        1.9228502e+02, 0.0000000e+00],\n",
       "       [2.4402744e+02, 2.3972597e+02, 2.3808755e+02, ..., 2.6571336e-01,\n",
       "        2.6777908e+02, 4.0817715e+02],\n",
       "       [2.4219341e+02, 2.3908377e+02, 2.3784431e+02, ..., 1.8665008e-01,\n",
       "        2.6029071e+02, 3.3393472e+02],\n",
       "       ...,\n",
       "       [1.8664908e+02, 1.8864334e+02, 2.0016168e+02, ..., 2.3153581e-01,\n",
       "        1.7939920e+02, 0.0000000e+00],\n",
       "       [2.2246242e+02, 2.1762004e+02, 2.1586411e+02, ..., 2.5223318e-01,\n",
       "        2.5833954e+02, 4.3369400e+02],\n",
       "       [2.0796501e+02, 2.1100508e+02, 2.1359085e+02, ..., 2.2926357e-01,\n",
       "        1.9595547e+02, 0.0000000e+00]], dtype=float32)"
      ]
     },
     "execution_count": 35,
     "metadata": {},
     "output_type": "execute_result"
    }
   ],
   "source": [
    "np.array(train_in)"
   ]
  },
  {
   "cell_type": "code",
   "execution_count": 36,
   "metadata": {},
   "outputs": [
    {
     "data": {
      "text/html": [
       "<div>\n",
       "<style scoped>\n",
       "    .dataframe tbody tr th:only-of-type {\n",
       "        vertical-align: middle;\n",
       "    }\n",
       "\n",
       "    .dataframe tbody tr th {\n",
       "        vertical-align: top;\n",
       "    }\n",
       "\n",
       "    .dataframe thead th {\n",
       "        text-align: right;\n",
       "    }\n",
       "</style>\n",
       "<table border=\"1\" class=\"dataframe\">\n",
       "  <thead>\n",
       "    <tr style=\"text-align: right;\">\n",
       "      <th></th>\n",
       "      <th>0</th>\n",
       "      <th>1</th>\n",
       "      <th>2</th>\n",
       "      <th>3</th>\n",
       "      <th>4</th>\n",
       "      <th>5</th>\n",
       "      <th>6</th>\n",
       "      <th>7</th>\n",
       "      <th>8</th>\n",
       "      <th>9</th>\n",
       "      <th>...</th>\n",
       "      <th>97</th>\n",
       "      <th>98</th>\n",
       "      <th>99</th>\n",
       "      <th>100</th>\n",
       "      <th>101</th>\n",
       "      <th>102</th>\n",
       "      <th>103</th>\n",
       "      <th>104</th>\n",
       "      <th>105</th>\n",
       "      <th>106</th>\n",
       "    </tr>\n",
       "  </thead>\n",
       "  <tbody>\n",
       "    <tr>\n",
       "      <td>5605</td>\n",
       "      <td>206.988815</td>\n",
       "      <td>213.022446</td>\n",
       "      <td>219.333771</td>\n",
       "      <td>223.367584</td>\n",
       "      <td>225.360687</td>\n",
       "      <td>226.374802</td>\n",
       "      <td>226.757538</td>\n",
       "      <td>226.783508</td>\n",
       "      <td>226.641769</td>\n",
       "      <td>226.400269</td>\n",
       "      <td>...</td>\n",
       "      <td>1.123463e-07</td>\n",
       "      <td>7.674686e-08</td>\n",
       "      <td>5.060649e-08</td>\n",
       "      <td>3.189085e-08</td>\n",
       "      <td>1.882758e-08</td>\n",
       "      <td>1.017166e-08</td>\n",
       "      <td>5.014270e-09</td>\n",
       "      <td>0.238065</td>\n",
       "      <td>192.285019</td>\n",
       "      <td>0.000000</td>\n",
       "    </tr>\n",
       "    <tr>\n",
       "      <td>16641</td>\n",
       "      <td>244.027435</td>\n",
       "      <td>239.725967</td>\n",
       "      <td>238.087555</td>\n",
       "      <td>236.843307</td>\n",
       "      <td>235.888611</td>\n",
       "      <td>235.051865</td>\n",
       "      <td>234.276535</td>\n",
       "      <td>233.536911</td>\n",
       "      <td>232.819321</td>\n",
       "      <td>232.115860</td>\n",
       "      <td>...</td>\n",
       "      <td>8.116091e-08</td>\n",
       "      <td>5.559085e-08</td>\n",
       "      <td>3.681496e-08</td>\n",
       "      <td>2.337204e-08</td>\n",
       "      <td>1.398907e-08</td>\n",
       "      <td>7.771765e-09</td>\n",
       "      <td>4.067360e-09</td>\n",
       "      <td>0.265713</td>\n",
       "      <td>267.779083</td>\n",
       "      <td>408.177155</td>\n",
       "    </tr>\n",
       "    <tr>\n",
       "      <td>12791</td>\n",
       "      <td>242.193405</td>\n",
       "      <td>239.083771</td>\n",
       "      <td>237.844315</td>\n",
       "      <td>236.812195</td>\n",
       "      <td>235.973633</td>\n",
       "      <td>235.211868</td>\n",
       "      <td>234.489212</td>\n",
       "      <td>233.788437</td>\n",
       "      <td>233.100449</td>\n",
       "      <td>232.419510</td>\n",
       "      <td>...</td>\n",
       "      <td>8.198516e-08</td>\n",
       "      <td>5.614992e-08</td>\n",
       "      <td>3.717931e-08</td>\n",
       "      <td>2.359697e-08</td>\n",
       "      <td>1.411669e-08</td>\n",
       "      <td>7.834907e-09</td>\n",
       "      <td>4.092084e-09</td>\n",
       "      <td>0.186650</td>\n",
       "      <td>260.290710</td>\n",
       "      <td>333.934723</td>\n",
       "    </tr>\n",
       "    <tr>\n",
       "      <td>15173</td>\n",
       "      <td>201.978241</td>\n",
       "      <td>203.943680</td>\n",
       "      <td>206.452515</td>\n",
       "      <td>213.398453</td>\n",
       "      <td>214.015274</td>\n",
       "      <td>214.613129</td>\n",
       "      <td>215.242035</td>\n",
       "      <td>215.848770</td>\n",
       "      <td>216.434067</td>\n",
       "      <td>216.962158</td>\n",
       "      <td>...</td>\n",
       "      <td>1.093794e-07</td>\n",
       "      <td>7.473422e-08</td>\n",
       "      <td>4.929453e-08</td>\n",
       "      <td>3.108055e-08</td>\n",
       "      <td>1.836744e-08</td>\n",
       "      <td>9.943538e-09</td>\n",
       "      <td>4.924394e-09</td>\n",
       "      <td>0.205176</td>\n",
       "      <td>195.349655</td>\n",
       "      <td>0.000000</td>\n",
       "    </tr>\n",
       "    <tr>\n",
       "      <td>10074</td>\n",
       "      <td>223.819397</td>\n",
       "      <td>219.697647</td>\n",
       "      <td>218.102905</td>\n",
       "      <td>217.070770</td>\n",
       "      <td>216.310425</td>\n",
       "      <td>215.662506</td>\n",
       "      <td>215.072021</td>\n",
       "      <td>214.515091</td>\n",
       "      <td>213.980362</td>\n",
       "      <td>213.464401</td>\n",
       "      <td>...</td>\n",
       "      <td>1.209159e-07</td>\n",
       "      <td>8.256053e-08</td>\n",
       "      <td>5.439646e-08</td>\n",
       "      <td>3.423190e-08</td>\n",
       "      <td>2.015732e-08</td>\n",
       "      <td>1.083128e-08</td>\n",
       "      <td>5.274627e-09</td>\n",
       "      <td>0.258920</td>\n",
       "      <td>254.930557</td>\n",
       "      <td>415.199829</td>\n",
       "    </tr>\n",
       "    <tr>\n",
       "      <td>...</td>\n",
       "      <td>...</td>\n",
       "      <td>...</td>\n",
       "      <td>...</td>\n",
       "      <td>...</td>\n",
       "      <td>...</td>\n",
       "      <td>...</td>\n",
       "      <td>...</td>\n",
       "      <td>...</td>\n",
       "      <td>...</td>\n",
       "      <td>...</td>\n",
       "      <td>...</td>\n",
       "      <td>...</td>\n",
       "      <td>...</td>\n",
       "      <td>...</td>\n",
       "      <td>...</td>\n",
       "      <td>...</td>\n",
       "      <td>...</td>\n",
       "      <td>...</td>\n",
       "      <td>...</td>\n",
       "      <td>...</td>\n",
       "      <td>...</td>\n",
       "    </tr>\n",
       "    <tr>\n",
       "      <td>11284</td>\n",
       "      <td>233.365402</td>\n",
       "      <td>229.940643</td>\n",
       "      <td>228.646805</td>\n",
       "      <td>227.647705</td>\n",
       "      <td>226.852020</td>\n",
       "      <td>226.136688</td>\n",
       "      <td>225.460419</td>\n",
       "      <td>224.806000</td>\n",
       "      <td>224.164871</td>\n",
       "      <td>223.531570</td>\n",
       "      <td>...</td>\n",
       "      <td>1.022207e-07</td>\n",
       "      <td>6.987769e-08</td>\n",
       "      <td>4.612848e-08</td>\n",
       "      <td>2.912482e-08</td>\n",
       "      <td>1.725650e-08</td>\n",
       "      <td>9.392361e-09</td>\n",
       "      <td>4.706739e-09</td>\n",
       "      <td>0.169623</td>\n",
       "      <td>263.174194</td>\n",
       "      <td>492.385773</td>\n",
       "    </tr>\n",
       "    <tr>\n",
       "      <td>11964</td>\n",
       "      <td>217.086288</td>\n",
       "      <td>212.527817</td>\n",
       "      <td>210.879425</td>\n",
       "      <td>209.718338</td>\n",
       "      <td>208.855392</td>\n",
       "      <td>208.117615</td>\n",
       "      <td>207.445145</td>\n",
       "      <td>206.809219</td>\n",
       "      <td>206.196411</td>\n",
       "      <td>205.598358</td>\n",
       "      <td>...</td>\n",
       "      <td>6.331148e-08</td>\n",
       "      <td>4.348169e-08</td>\n",
       "      <td>2.892084e-08</td>\n",
       "      <td>1.849574e-08</td>\n",
       "      <td>1.121917e-08</td>\n",
       "      <td>6.397595e-09</td>\n",
       "      <td>3.524798e-09</td>\n",
       "      <td>0.277115</td>\n",
       "      <td>255.851593</td>\n",
       "      <td>420.937347</td>\n",
       "    </tr>\n",
       "    <tr>\n",
       "      <td>5390</td>\n",
       "      <td>186.649078</td>\n",
       "      <td>188.643341</td>\n",
       "      <td>200.161682</td>\n",
       "      <td>207.084229</td>\n",
       "      <td>210.022308</td>\n",
       "      <td>212.127609</td>\n",
       "      <td>214.009628</td>\n",
       "      <td>215.703720</td>\n",
       "      <td>217.169189</td>\n",
       "      <td>218.313034</td>\n",
       "      <td>...</td>\n",
       "      <td>1.212624e-07</td>\n",
       "      <td>8.279559e-08</td>\n",
       "      <td>5.454968e-08</td>\n",
       "      <td>3.432653e-08</td>\n",
       "      <td>2.021106e-08</td>\n",
       "      <td>1.085792e-08</td>\n",
       "      <td>5.285120e-09</td>\n",
       "      <td>0.231536</td>\n",
       "      <td>179.399200</td>\n",
       "      <td>0.000000</td>\n",
       "    </tr>\n",
       "    <tr>\n",
       "      <td>860</td>\n",
       "      <td>222.462418</td>\n",
       "      <td>217.620041</td>\n",
       "      <td>215.864105</td>\n",
       "      <td>214.742004</td>\n",
       "      <td>213.939438</td>\n",
       "      <td>213.262833</td>\n",
       "      <td>212.647858</td>\n",
       "      <td>212.067108</td>\n",
       "      <td>211.507309</td>\n",
       "      <td>210.962051</td>\n",
       "      <td>...</td>\n",
       "      <td>1.319691e-07</td>\n",
       "      <td>9.005900e-08</td>\n",
       "      <td>5.928472e-08</td>\n",
       "      <td>3.725135e-08</td>\n",
       "      <td>2.187235e-08</td>\n",
       "      <td>1.168199e-08</td>\n",
       "      <td>5.610357e-09</td>\n",
       "      <td>0.252233</td>\n",
       "      <td>258.339539</td>\n",
       "      <td>433.694000</td>\n",
       "    </tr>\n",
       "    <tr>\n",
       "      <td>15795</td>\n",
       "      <td>207.965012</td>\n",
       "      <td>211.005081</td>\n",
       "      <td>213.590851</td>\n",
       "      <td>216.307983</td>\n",
       "      <td>219.123169</td>\n",
       "      <td>221.041306</td>\n",
       "      <td>222.093033</td>\n",
       "      <td>222.671921</td>\n",
       "      <td>222.852173</td>\n",
       "      <td>222.800980</td>\n",
       "      <td>...</td>\n",
       "      <td>1.011841e-07</td>\n",
       "      <td>6.917457e-08</td>\n",
       "      <td>4.567020e-08</td>\n",
       "      <td>2.884184e-08</td>\n",
       "      <td>1.709588e-08</td>\n",
       "      <td>9.312822e-09</td>\n",
       "      <td>4.675506e-09</td>\n",
       "      <td>0.229264</td>\n",
       "      <td>195.955475</td>\n",
       "      <td>0.000000</td>\n",
       "    </tr>\n",
       "  </tbody>\n",
       "</table>\n",
       "<p>13824 rows × 107 columns</p>\n",
       "</div>"
      ],
      "text/plain": [
       "              0           1           2           3           4           5    \\\n",
       "5605   206.988815  213.022446  219.333771  223.367584  225.360687  226.374802   \n",
       "16641  244.027435  239.725967  238.087555  236.843307  235.888611  235.051865   \n",
       "12791  242.193405  239.083771  237.844315  236.812195  235.973633  235.211868   \n",
       "15173  201.978241  203.943680  206.452515  213.398453  214.015274  214.613129   \n",
       "10074  223.819397  219.697647  218.102905  217.070770  216.310425  215.662506   \n",
       "...           ...         ...         ...         ...         ...         ...   \n",
       "11284  233.365402  229.940643  228.646805  227.647705  226.852020  226.136688   \n",
       "11964  217.086288  212.527817  210.879425  209.718338  208.855392  208.117615   \n",
       "5390   186.649078  188.643341  200.161682  207.084229  210.022308  212.127609   \n",
       "860    222.462418  217.620041  215.864105  214.742004  213.939438  213.262833   \n",
       "15795  207.965012  211.005081  213.590851  216.307983  219.123169  221.041306   \n",
       "\n",
       "              6           7           8           9    ...           97   \\\n",
       "5605   226.757538  226.783508  226.641769  226.400269  ...  1.123463e-07   \n",
       "16641  234.276535  233.536911  232.819321  232.115860  ...  8.116091e-08   \n",
       "12791  234.489212  233.788437  233.100449  232.419510  ...  8.198516e-08   \n",
       "15173  215.242035  215.848770  216.434067  216.962158  ...  1.093794e-07   \n",
       "10074  215.072021  214.515091  213.980362  213.464401  ...  1.209159e-07   \n",
       "...           ...         ...         ...         ...  ...           ...   \n",
       "11284  225.460419  224.806000  224.164871  223.531570  ...  1.022207e-07   \n",
       "11964  207.445145  206.809219  206.196411  205.598358  ...  6.331148e-08   \n",
       "5390   214.009628  215.703720  217.169189  218.313034  ...  1.212624e-07   \n",
       "860    212.647858  212.067108  211.507309  210.962051  ...  1.319691e-07   \n",
       "15795  222.093033  222.671921  222.852173  222.800980  ...  1.011841e-07   \n",
       "\n",
       "                98            99            100           101           102  \\\n",
       "5605   7.674686e-08  5.060649e-08  3.189085e-08  1.882758e-08  1.017166e-08   \n",
       "16641  5.559085e-08  3.681496e-08  2.337204e-08  1.398907e-08  7.771765e-09   \n",
       "12791  5.614992e-08  3.717931e-08  2.359697e-08  1.411669e-08  7.834907e-09   \n",
       "15173  7.473422e-08  4.929453e-08  3.108055e-08  1.836744e-08  9.943538e-09   \n",
       "10074  8.256053e-08  5.439646e-08  3.423190e-08  2.015732e-08  1.083128e-08   \n",
       "...             ...           ...           ...           ...           ...   \n",
       "11284  6.987769e-08  4.612848e-08  2.912482e-08  1.725650e-08  9.392361e-09   \n",
       "11964  4.348169e-08  2.892084e-08  1.849574e-08  1.121917e-08  6.397595e-09   \n",
       "5390   8.279559e-08  5.454968e-08  3.432653e-08  2.021106e-08  1.085792e-08   \n",
       "860    9.005900e-08  5.928472e-08  3.725135e-08  2.187235e-08  1.168199e-08   \n",
       "15795  6.917457e-08  4.567020e-08  2.884184e-08  1.709588e-08  9.312822e-09   \n",
       "\n",
       "                103       104         105         106  \n",
       "5605   5.014270e-09  0.238065  192.285019    0.000000  \n",
       "16641  4.067360e-09  0.265713  267.779083  408.177155  \n",
       "12791  4.092084e-09  0.186650  260.290710  333.934723  \n",
       "15173  4.924394e-09  0.205176  195.349655    0.000000  \n",
       "10074  5.274627e-09  0.258920  254.930557  415.199829  \n",
       "...             ...       ...         ...         ...  \n",
       "11284  4.706739e-09  0.169623  263.174194  492.385773  \n",
       "11964  3.524798e-09  0.277115  255.851593  420.937347  \n",
       "5390   5.285120e-09  0.231536  179.399200    0.000000  \n",
       "860    5.610357e-09  0.252233  258.339539  433.694000  \n",
       "15795  4.675506e-09  0.229264  195.955475    0.000000  \n",
       "\n",
       "[13824 rows x 107 columns]"
      ]
     },
     "execution_count": 36,
     "metadata": {},
     "output_type": "execute_result"
    }
   ],
   "source": [
    "train_in"
   ]
  },
  {
   "cell_type": "markdown",
   "metadata": {},
   "source": [
    "MinMaxScale training data:"
   ]
  },
  {
   "cell_type": "code",
   "execution_count": 37,
   "metadata": {},
   "outputs": [],
   "source": [
    "s1 = MinMaxScaler()\n",
    "s1.fit(np.array(train_in))\n",
    "strain_in = s1.transform(np.array(train_in))\n",
    "\n",
    "s2 = MinMaxScaler()\n",
    "s2.fit(np.array(train_out).reshape(-1,1))\n",
    "strain_out = s2.transform(np.array(train_out).reshape(-1,1))"
   ]
  },
  {
   "cell_type": "code",
   "execution_count": 38,
   "metadata": {},
   "outputs": [
    {
     "data": {
      "text/plain": [
       "array([[  0.     ],\n",
       "       [284.6817 ],\n",
       "       [253.46275],\n",
       "       ...,\n",
       "       [  0.     ],\n",
       "       [302.76056],\n",
       "       [  0.     ]], dtype=float32)"
      ]
     },
     "execution_count": 38,
     "metadata": {},
     "output_type": "execute_result"
    }
   ],
   "source": [
    "s2.inverse_transform(strain_out)"
   ]
  },
  {
   "cell_type": "code",
   "execution_count": 39,
   "metadata": {},
   "outputs": [
    {
     "data": {
      "text/plain": [
       "5605       0.000000\n",
       "16641    284.681702\n",
       "12791    253.462738\n",
       "15173      0.000000\n",
       "10074    286.688416\n",
       "            ...    \n",
       "11284    388.736237\n",
       "11964    293.327698\n",
       "5390       0.000000\n",
       "860      302.760559\n",
       "15795      0.000000\n",
       "Name: 107, Length: 13824, dtype: float32"
      ]
     },
     "execution_count": 39,
     "metadata": {},
     "output_type": "execute_result"
    }
   ],
   "source": [
    "train_out"
   ]
  },
  {
   "cell_type": "markdown",
   "metadata": {},
   "source": [
    "Let's try linear regression"
   ]
  },
  {
   "cell_type": "code",
   "execution_count": 40,
   "metadata": {},
   "outputs": [
    {
     "data": {
      "text/plain": [
       "LinearRegression(copy_X=True, fit_intercept=True, n_jobs=None, normalize=False)"
      ]
     },
     "execution_count": 40,
     "metadata": {},
     "output_type": "execute_result"
    }
   ],
   "source": [
    "from sklearn.linear_model import LinearRegression\n",
    "\n",
    "lin_reg = LinearRegression()\n",
    "lin_reg.fit(strain_in, strain_out)"
   ]
  },
  {
   "cell_type": "code",
   "execution_count": 41,
   "metadata": {},
   "outputs": [
    {
     "data": {
      "text/plain": [
       "0.013291114"
      ]
     },
     "execution_count": 41,
     "metadata": {},
     "output_type": "execute_result"
    }
   ],
   "source": [
    "from sklearn.metrics import mean_squared_error\n",
    "\n",
    "strain_pred = lin_reg.predict(strain_in) #prediction\n",
    "lin_mse = mean_squared_error(strain_out, strain_pred)\n",
    "lin_rmse = np.sqrt(lin_mse)\n",
    "lin_rmse "
   ]
  },
  {
   "cell_type": "code",
   "execution_count": 42,
   "metadata": {},
   "outputs": [
    {
     "data": {
      "text/plain": [
       "(13824, 107)"
      ]
     },
     "execution_count": 42,
     "metadata": {},
     "output_type": "execute_result"
    }
   ],
   "source": [
    "strain_in.shape"
   ]
  },
  {
   "cell_type": "code",
   "execution_count": 43,
   "metadata": {},
   "outputs": [],
   "source": [
    "train_pred = s2.inverse_transform(strain_pred) #predicted ground solar flux"
   ]
  },
  {
   "cell_type": "code",
   "execution_count": 44,
   "metadata": {},
   "outputs": [
    {
     "data": {
      "text/plain": [
       "(13824, 1)"
      ]
     },
     "execution_count": 44,
     "metadata": {},
     "output_type": "execute_result"
    }
   ],
   "source": [
    "train_pred.shape"
   ]
  },
  {
   "cell_type": "code",
   "execution_count": 45,
   "metadata": {},
   "outputs": [
    {
     "data": {
      "text/plain": [
       "array([[ -1.8054949],\n",
       "       [281.7448   ],\n",
       "       [249.36949  ],\n",
       "       ...,\n",
       "       [ -1.3417372],\n",
       "       [299.12317  ],\n",
       "       [ -5.954247 ]], dtype=float32)"
      ]
     },
     "execution_count": 45,
     "metadata": {},
     "output_type": "execute_result"
    }
   ],
   "source": [
    "train_pred"
   ]
  },
  {
   "cell_type": "code",
   "execution_count": 46,
   "metadata": {},
   "outputs": [],
   "source": [
    "train_out = np.array(train_out)"
   ]
  },
  {
   "cell_type": "code",
   "execution_count": 47,
   "metadata": {},
   "outputs": [
    {
     "data": {
      "text/plain": [
       "(13824,)"
      ]
     },
     "execution_count": 47,
     "metadata": {},
     "output_type": "execute_result"
    }
   ],
   "source": [
    "train_out.shape"
   ]
  },
  {
   "cell_type": "markdown",
   "metadata": {},
   "source": [
    "Bad contour plot method (filling in gaps with average value):"
   ]
  },
  {
   "cell_type": "code",
   "execution_count": 100,
   "metadata": {},
   "outputs": [
    {
     "data": {
      "text/plain": [
       "'\\npred_contour = np.full((240, 72), np.average(train_pred))\\ndays_list = []\\nl_list = []\\nfor i in range(len(indices)):\\n    day = indices[i]//72\\n    l_point = indices[i]%72\\n    days_list.append(day)\\n    l_list.append(l_point)\\n    pred_contour[day][l_point] = train_pred[i]\\ndays_list = np.array(days_list)\\nl_list = np.array(l_list)\\n\\nout_contour = np.full((240, 72), np.average(train_out))\\n\\nfor i in range(len(indices)):\\n    day = indices[i]//72\\n    l_point = indices[i]%72\\n    out_contour[day][l_point] = train_out[i]\\n    \\nplt.contourf(out_contour)\\nplt.colorbar()\\nplt.title(\"Actual Bottom Solar Flux\")\\nplt.xlabel(\"longtitude\")\\nplt.ylabel(\"day\")\\nplt.show()\\nplt.savefig(\"Actual\")\\n'"
      ]
     },
     "execution_count": 100,
     "metadata": {},
     "output_type": "execute_result"
    }
   ],
   "source": [
    "\"\"\"\n",
    "pred_contour = np.full((240, 72), np.average(train_pred))\n",
    "days_list = []\n",
    "l_list = []\n",
    "for i in range(len(indices)):\n",
    "    day = indices[i]//72\n",
    "    l_point = indices[i]%72\n",
    "    days_list.append(day)\n",
    "    l_list.append(l_point)\n",
    "    pred_contour[day][l_point] = train_pred[i]\n",
    "days_list = np.array(days_list)\n",
    "l_list = np.array(l_list)\n",
    "\n",
    "out_contour = np.full((240, 72), np.average(train_out))\n",
    "\n",
    "for i in range(len(indices)):\n",
    "    day = indices[i]//72\n",
    "    l_point = indices[i]%72\n",
    "    out_contour[day][l_point] = train_out[i]\n",
    "    \n",
    "plt.contourf(out_contour)\n",
    "plt.colorbar()\n",
    "plt.title(\"Actual Bottom Solar Flux\")\n",
    "plt.xlabel(\"longtitude\")\n",
    "plt.ylabel(\"day\")\n",
    "plt.show()\n",
    "plt.savefig(\"Actual\")\n",
    "\"\"\""
   ]
  },
  {
   "cell_type": "markdown",
   "metadata": {},
   "source": [
    "Predicted:"
   ]
  },
  {
   "cell_type": "code",
   "execution_count": 108,
   "metadata": {},
   "outputs": [
    {
     "data": {
      "image/png": "[encoded data removed]",
      "text/plain": [
       "<Figure size 432x288 with 2 Axes>"
      ]
     },
     "metadata": {
      "needs_background": "light"
     },
     "output_type": "display_data"
    },
    {
     "data": {
      "text/plain": [
       "<Figure size 432x288 with 0 Axes>"
      ]
     },
     "metadata": {},
     "output_type": "display_data"
    }
   ],
   "source": [
    "plt.tricontour(l_list, days_list, train_pred[:,0], linewidths=0)\n",
    "plt.xlabel(\"Longtitude\")\n",
    "plt.ylabel(\"Day\")\n",
    "cntr2 = plt.tricontourf(l_list, days_list, train_pred[:,0])\n",
    "\n",
    "plt.colorbar(cntr2)\n",
    "plt.title('Predicted Bottom Solar Flux')\n",
    "\n",
    "plt.subplots_adjust(hspace=0.5)\n",
    "plt.show()\n",
    "plt.savefig(\"predicted.pdf\")"
   ]
  },
  {
   "cell_type": "markdown",
   "metadata": {},
   "source": [
    "Actual"
   ]
  },
  {
   "cell_type": "code",
   "execution_count": 110,
   "metadata": {},
   "outputs": [
    {
     "data": {
      "image/png": "[encoded data removed]",
      "text/plain": [
       "<Figure size 432x288 with 2 Axes>"
      ]
     },
     "metadata": {
      "needs_background": "light"
     },
     "output_type": "display_data"
    }
   ],
   "source": [
    "plt.tricontour(l_list, days_list, train_out, linewidths=0)\n",
    "plt.xlabel(\"Longtitude\")\n",
    "plt.ylabel(\"Day\")\n",
    "cntr2 = plt.tricontourf(l_list, days_list, train_out)\n",
    "\n",
    "plt.colorbar(cntr2)\n",
    "plt.title('Actual bottom solar flux')\n",
    "\n",
    "plt.subplots_adjust(hspace=0.5)\n",
    "plt.show()"
   ]
  },
  {
   "cell_type": "markdown",
   "metadata": {},
   "source": [
    "Difference (predicted - actual):"
   ]
  },
  {
   "cell_type": "code",
   "execution_count": 107,
   "metadata": {},
   "outputs": [
    {
     "data": {
      "image/png": "[encoded data removed]",
      "text/plain": [
       "<Figure size 432x288 with 2 Axes>"
      ]
     },
     "metadata": {
      "needs_background": "light"
     },
     "output_type": "display_data"
    }
   ],
   "source": [
    "plt.tricontour(l_list, days_list, train_pred[:,0] - train_out, linewidths=0)\n",
    "plt.xlabel(\"Longtitude\")\n",
    "plt.ylabel(\"Day\")\n",
    "cntr2 = plt.tricontourf(l_list, days_list, train_pred[:,0] - train_out)\n",
    "\n",
    "plt.colorbar(cntr2)\n",
    "plt.title('Difference')\n",
    "\n",
    "plt.subplots_adjust(hspace=0.5)\n",
    "plt.show()"
   ]
  },
  {
   "cell_type": "code",
   "execution_count": null,
   "metadata": {},
   "outputs": [],
   "source": []
  }
 ],
 "metadata": {
  "kernelspec": {
   "display_name": "Python 3",
   "language": "python",
   "name": "python3"
  },
  "language_info": {
   "codemirror_mode": {
    "name": "ipython",
    "version": 3
   },
   "file_extension": ".py",
   "mimetype": "text/x-python",
   "name": "python",
   "nbconvert_exporter": "python",
   "pygments_lexer": "ipython3",
   "version": "3.7.4"
  }
 },
 "nbformat": 4,
 "nbformat_minor": 2
}
