{
 "cells": [
  {
   "cell_type": "markdown",
   "metadata": {},
   "source": [
    "Predicting UP IR flux, large errors from using all the layers now, using pressure as well"
   ]
  },
  {
   "cell_type": "code",
   "execution_count": 1,
   "metadata": {},
   "outputs": [],
   "source": [
    "import xarray as xr\n",
    "import matplotlib.pyplot as plt\n",
    "import numpy as np\n",
    "import pandas as pd"
   ]
  },
  {
   "cell_type": "code",
   "execution_count": 2,
   "metadata": {},
   "outputs": [],
   "source": [
    "DS_a = xr.open_dataset('af') #dataset of auxhist\n",
    "DS_w = xr.open_dataset('wf') #dataset of wrfout"
   ]
  },
  {
   "cell_type": "code",
   "execution_count": 3,
   "metadata": {},
   "outputs": [
    {
     "data": {
      "text/plain": [
       "(71, 52, 36, 72)"
      ]
     },
     "execution_count": 3,
     "metadata": {},
     "output_type": "execute_result"
    }
   ],
   "source": [
    "#Temperature:\n",
    "T = (DS_w.T.values + DS_w.T0) * ((DS_w.P.values + DS_w.PB.values)/DS_w.P0)**(DS_w.R_D/DS_w.CP)\n",
    "T.shape"
   ]
  },
  {
   "cell_type": "code",
   "execution_count": 4,
   "metadata": {},
   "outputs": [
    {
     "data": {
      "text/plain": [
       "array([242.71082 , 237.8069  , 236.24007 , 235.12848 , 234.2799  ,\n",
       "       233.52779 , 232.82172 , 232.14073 , 231.47406 , 230.81564 ,\n",
       "       229.99742 , 229.01949 , 228.03973 , 227.05513 , 225.73048 ,\n",
       "       224.05423 , 220.9039  , 215.62561 , 209.97517 , 208.85222 ,\n",
       "       206.90262 , 204.41917 , 200.12592 , 195.17355 , 189.94121 ,\n",
       "       186.28903 , 183.58492 , 180.31416 , 176.13753 , 171.68274 ,\n",
       "       167.32304 , 163.81029 , 160.24342 , 155.59138 , 150.58986 ,\n",
       "       146.3529  , 142.94057 , 139.79279 , 136.59853 , 133.4877  ,\n",
       "       131.82347 , 138.27815 , 160.04852 , 173.36342 , 169.7645  ,\n",
       "       162.5508  , 155.04514 , 147.05397 , 139.96574 , 138.28108 ,\n",
       "       119.210464, 138.57014 ], dtype=float32)"
      ]
     },
     "execution_count": 4,
     "metadata": {},
     "output_type": "execute_result"
    }
   ],
   "source": [
    "T[5,:,18,0] #temperature goes from lowest height to highest hieght"
   ]
  },
  {
   "cell_type": "code",
   "execution_count": 5,
   "metadata": {},
   "outputs": [
    {
     "data": {
      "text/plain": [
       "(71, 36, 72)"
      ]
     },
     "execution_count": 5,
     "metadata": {},
     "output_type": "execute_result"
    }
   ],
   "source": [
    "st = DS_w.TSK.values #surface temp\n",
    "st.shape"
   ]
  },
  {
   "cell_type": "code",
   "execution_count": 6,
   "metadata": {},
   "outputs": [
    {
     "data": {
      "text/plain": [
       "(71, 52, 36, 72)"
      ]
     },
     "execution_count": 6,
     "metadata": {},
     "output_type": "execute_result"
    }
   ],
   "source": [
    "d_c = DS_w.TAU_OD.values #dust optical depth\n",
    "d_c.shape "
   ]
  },
  {
   "cell_type": "code",
   "execution_count": 7,
   "metadata": {},
   "outputs": [
    {
     "data": {
      "text/plain": [
       "(71, 36, 72)"
      ]
     },
     "execution_count": 7,
     "metadata": {},
     "output_type": "execute_result"
    }
   ],
   "source": [
    "em = DS_w.EMISS.values #emissivity\n",
    "em.shape "
   ]
  },
  {
   "cell_type": "code",
   "execution_count": 8,
   "metadata": {},
   "outputs": [
    {
     "data": {
      "text/plain": [
       "(71, 52, 36, 72)"
      ]
     },
     "execution_count": 8,
     "metadata": {},
     "output_type": "execute_result"
    }
   ],
   "source": [
    "p = DS_w.P.values + DS_w.PB.values #pressure\n",
    "p.shape"
   ]
  },
  {
   "cell_type": "code",
   "execution_count": 9,
   "metadata": {},
   "outputs": [
    {
     "data": {
      "text/plain": [
       "(9616320,)"
      ]
     },
     "execution_count": 9,
     "metadata": {},
     "output_type": "execute_result"
    }
   ],
   "source": [
    "uif = DS_a.UPIRFLUX.values[1:,:,:,:] #look at up visual flux on 10th layer\n",
    "uif.reshape(-1).shape"
   ]
  },
  {
   "cell_type": "code",
   "execution_count": 10,
   "metadata": {},
   "outputs": [
    {
     "data": {
      "text/plain": [
       "(181440, 52)"
      ]
     },
     "execution_count": 10,
     "metadata": {},
     "output_type": "execute_result"
    }
   ],
   "source": [
    "temp_uif = []\n",
    "for i in range(52):\n",
    "    temp_uif.append(uif[:,i,:,:].reshape(-1))\n",
    "uif = np.array(temp_uif).T\n",
    "uif.shape"
   ]
  },
  {
   "cell_type": "code",
   "execution_count": 11,
   "metadata": {},
   "outputs": [],
   "source": [
    "sla = [] #special layer arrays that are the feature vectors in the linear regression model\n",
    "sla.append((em*st**4).reshape(-1)) #don't have overall opacity, will deal with this issue later\n",
    "for i in range(52): #using all the layers now\n",
    "    sla.append((np.exp(-d_c[:,i,:,:])*T[:,i,:,:]**4).reshape(-1))\n",
    "for i in range(52): #using all the layers now\n",
    "    sla.append((np.exp(-p[:,i,:,:])*T[:,i,:,:]**4).reshape(-1))\n",
    "sla = np.array(sla)\n",
    "sla = sla.T[2592:,:] #take transpose, remove first day of data (all lwr are 0 there)\n"
   ]
  },
  {
   "cell_type": "code",
   "execution_count": 12,
   "metadata": {},
   "outputs": [
    {
     "data": {
      "text/plain": [
       "(181440, 105)"
      ]
     },
     "execution_count": 12,
     "metadata": {},
     "output_type": "execute_result"
    }
   ],
   "source": [
    "sla.shape"
   ]
  },
  {
   "cell_type": "markdown",
   "metadata": {},
   "source": [
    "# Trying linear regression first"
   ]
  },
  {
   "cell_type": "code",
   "execution_count": 13,
   "metadata": {},
   "outputs": [],
   "source": [
    "from sklearn.linear_model import LinearRegression\n",
    "uif_out = uif\n",
    "lr1 = LinearRegression()\n",
    "lr1.fit(sla,uif_out)\n",
    "uif_lin = lr1.predict(sla) #predicted"
   ]
  },
  {
   "cell_type": "code",
   "execution_count": 14,
   "metadata": {},
   "outputs": [
    {
     "data": {
      "text/plain": [
       "array([[ 3.3869480e-08,  2.9351188e-08, -1.1628323e-08, ...,\n",
       "         2.3613462e-07, -5.3566242e-07,  6.6588168e-06],\n",
       "       [ 3.3869483e-08,  2.9351039e-08, -1.1628382e-08, ...,\n",
       "         2.3612569e-07, -5.3567004e-07,  6.6587627e-06],\n",
       "       [ 3.3869494e-08,  2.9351050e-08, -1.1628202e-08, ...,\n",
       "         2.3611973e-07, -5.3567794e-07,  6.6587218e-06],\n",
       "       ...,\n",
       "       [ 4.2058481e-08,  1.6007963e-08, -6.8057293e-10, ...,\n",
       "         1.9604649e-07, -5.4032478e-07,  5.2393821e-06],\n",
       "       [ 4.2364128e-08,  1.6377175e-08, -7.0447559e-10, ...,\n",
       "         2.0395090e-07, -5.4970087e-07,  5.2431396e-06],\n",
       "       [ 4.2773120e-08,  1.7074729e-08, -4.1580339e-10, ...,\n",
       "         2.1293111e-07, -5.5738826e-07,  5.2523515e-06]], dtype=float32)"
      ]
     },
     "execution_count": 14,
     "metadata": {},
     "output_type": "execute_result"
    }
   ],
   "source": [
    "lr1.coef_"
   ]
  },
  {
   "cell_type": "code",
   "execution_count": 15,
   "metadata": {},
   "outputs": [
    {
     "data": {
      "text/plain": [
       "6.690636"
      ]
     },
     "execution_count": 15,
     "metadata": {},
     "output_type": "execute_result"
    }
   ],
   "source": [
    "from sklearn.metrics import mean_squared_error\n",
    "\n",
    "lin_mse = mean_squared_error(uif_out, uif_lin)\n",
    "lin_rmse = np.sqrt(lin_mse)\n",
    "lin_rmse "
   ]
  },
  {
   "cell_type": "code",
   "execution_count": 16,
   "metadata": {},
   "outputs": [
    {
     "data": {
      "text/plain": [
       "15.631578"
      ]
     },
     "execution_count": 16,
     "metadata": {},
     "output_type": "execute_result"
    }
   ],
   "source": [
    "np.min(uif_out)"
   ]
  },
  {
   "cell_type": "code",
   "execution_count": 17,
   "metadata": {},
   "outputs": [
    {
     "data": {
      "text/plain": [
       "484.69852"
      ]
     },
     "execution_count": 17,
     "metadata": {},
     "output_type": "execute_result"
    }
   ],
   "source": [
    "np.max(uif_out)"
   ]
  },
  {
   "cell_type": "code",
   "execution_count": 18,
   "metadata": {},
   "outputs": [],
   "source": [
    "uif_diff = uif_out - uif_lin"
   ]
  },
  {
   "cell_type": "code",
   "execution_count": 19,
   "metadata": {},
   "outputs": [
    {
     "data": {
      "text/plain": [
       "(array([87057], dtype=int64), array([27], dtype=int64))"
      ]
     },
     "execution_count": 19,
     "metadata": {},
     "output_type": "execute_result"
    }
   ],
   "source": [
    "np.where(uif_diff == np.min(uif_diff))"
   ]
  },
  {
   "cell_type": "code",
   "execution_count": 20,
   "metadata": {},
   "outputs": [
    {
     "data": {
      "text/plain": [
       "array([147.34494, 147.34497, 147.345  , 147.34517, 147.34552, 147.34624,\n",
       "       147.34663, 147.3479 , 147.35057, 147.35489, 147.35765, 147.35516,\n",
       "       147.35257, 147.35507, 147.3633 , 147.37518, 147.38933, 147.4072 ,\n",
       "       147.43669, 147.4891 , 147.57016, 147.67873, 147.8169 , 147.9991 ,\n",
       "       148.20267, 148.40678, 148.64833, 148.98164, 149.40726, 149.94196,\n",
       "       150.74327, 151.89114, 153.23116, 154.60883, 156.00175, 157.42813,\n",
       "       158.73474, 159.87254, 160.7527 , 161.03299, 161.28531, 161.42572,\n",
       "       161.54337, 161.64003, 161.71051, 161.73279, 161.73547, 161.72871,\n",
       "       161.68933, 161.55823, 161.49492, 161.76985], dtype=float32)"
      ]
     },
     "execution_count": 20,
     "metadata": {},
     "output_type": "execute_result"
    }
   ],
   "source": [
    "uif_out[92295]"
   ]
  },
  {
   "cell_type": "code",
   "execution_count": 21,
   "metadata": {},
   "outputs": [
    {
     "data": {
      "text/plain": [
       "array([175.78532, 175.78537, 175.78546, 175.7854 , 175.78442, 175.7833 ,\n",
       "       175.78192, 175.78366, 175.78784, 175.79324, 175.79343, 175.78836,\n",
       "       175.78671, 175.79114, 175.80154, 175.81573, 175.82867, 175.84238,\n",
       "       175.86374, 175.9078 , 175.98236, 176.0871 , 176.23224, 176.43054,\n",
       "       176.66022, 176.90735, 177.2112 , 177.63065, 178.15808, 178.83167,\n",
       "       179.80365, 181.13824, 182.66951, 184.26349, 185.8875 , 187.54782,\n",
       "       189.1057 , 190.51944, 191.6665 , 192.06429, 192.4562 , 192.69456,\n",
       "       192.92674, 193.15485, 193.38965, 193.55278, 193.73795, 193.9795 ,\n",
       "       194.2919 , 194.68845, 195.18819, 195.84045], dtype=float32)"
      ]
     },
     "execution_count": 21,
     "metadata": {},
     "output_type": "execute_result"
    }
   ],
   "source": [
    "uif_lin[92295] #some pretty big differences..."
   ]
  },
  {
   "cell_type": "code",
   "execution_count": 22,
   "metadata": {},
   "outputs": [
    {
     "data": {
      "text/plain": [
       "(array([], dtype=int64), array([], dtype=int64))"
      ]
     },
     "execution_count": 22,
     "metadata": {},
     "output_type": "execute_result"
    }
   ],
   "source": [
    "np.where(uif_diff > 50)"
   ]
  },
  {
   "cell_type": "code",
   "execution_count": 23,
   "metadata": {},
   "outputs": [
    {
     "data": {
      "text/plain": [
       "<function matplotlib.pyplot.show(*args, **kw)>"
      ]
     },
     "execution_count": 23,
     "metadata": {},
     "output_type": "execute_result"
    },
    {
     "data": {
      "image/png": "[encoded data removed]",
      "text/plain": [
       "<Figure size 432x288 with 1 Axes>"
      ]
     },
     "metadata": {
      "needs_background": "light"
     },
     "output_type": "display_data"
    }
   ],
   "source": [
    "plt.hist(uif_diff, bins = 100)\n",
    "plt.title(\"Linear regressor difference\")\n",
    "plt.show #some variance..."
   ]
  },
  {
   "cell_type": "code",
   "execution_count": 24,
   "metadata": {},
   "outputs": [
    {
     "data": {
      "text/plain": [
       "(9434880, 1)"
      ]
     },
     "execution_count": 24,
     "metadata": {},
     "output_type": "execute_result"
    }
   ],
   "source": [
    "uif_out.reshape(-1,1).shape"
   ]
  },
  {
   "cell_type": "code",
   "execution_count": 25,
   "metadata": {},
   "outputs": [
    {
     "data": {
      "text/plain": [
       "(25920, 105)"
      ]
     },
     "execution_count": 25,
     "metadata": {},
     "output_type": "execute_result"
    }
   ],
   "source": [
    "sla[:10*36*72,:].shape"
   ]
  },
  {
   "cell_type": "code",
   "execution_count": 26,
   "metadata": {},
   "outputs": [
    {
     "data": {
      "text/plain": [
       "array([[3.2982371e+08, 4.3012157e+08, 4.3130067e+08, ..., 2.2520214e+08,\n",
       "        2.1222704e+08, 2.1280027e+08],\n",
       "       [3.2989165e+08, 4.3018813e+08, 4.3141155e+08, ..., 2.2847203e+08,\n",
       "        2.1565395e+08, 2.1283362e+08],\n",
       "       [3.2991754e+08, 4.3020230e+08, 4.3146352e+08, ..., 2.3201477e+08,\n",
       "        2.1930179e+08, 2.1278995e+08],\n",
       "       ...,\n",
       "       [1.7091520e+09, 1.5555758e+09, 1.5599835e+09, ..., 7.2443635e+08,\n",
       "        8.0853338e+08, 6.5431699e+08],\n",
       "       [1.7200332e+09, 1.5640590e+09, 1.5681286e+09, ..., 7.2221261e+08,\n",
       "        8.0654310e+08, 6.5491136e+08],\n",
       "       [1.7308575e+09, 1.5723578e+09, 1.5760733e+09, ..., 7.2047450e+08,\n",
       "        8.0545523e+08, 6.5585107e+08]], dtype=float32)"
      ]
     },
     "execution_count": 26,
     "metadata": {},
     "output_type": "execute_result"
    }
   ],
   "source": [
    "sla[10*36*72:11*36*72,:]"
   ]
  },
  {
   "cell_type": "code",
   "execution_count": 27,
   "metadata": {},
   "outputs": [],
   "source": [
    "real_out = uif_out[10*36*72:11*36*72,10].reshape(36,72)\n",
    "pred_out = uif_lin[10*36*72:11*36*72,10].reshape(36,72)"
   ]
  },
  {
   "cell_type": "code",
   "execution_count": 28,
   "metadata": {},
   "outputs": [
    {
     "data": {
      "image/png": "[encoded data removed]",
      "text/plain": [
       "<Figure size 432x288 with 2 Axes>"
      ]
     },
     "metadata": {
      "needs_background": "light"
     },
     "output_type": "display_data"
    }
   ],
   "source": [
    "plt.contourf(real_out)\n",
    "plt.colorbar()\n",
    "plt.title(\"Actual UPIRFLUX (Lin Reg)\")\n",
    "plt.xlabel(\"Longtitude\")\n",
    "plt.ylabel(\"Latitude\")\n",
    "plt.show()"
   ]
  },
  {
   "cell_type": "code",
   "execution_count": 29,
   "metadata": {},
   "outputs": [
    {
     "data": {
      "image/png": "[encoded data removed]",
      "text/plain": [
       "<Figure size 432x288 with 2 Axes>"
      ]
     },
     "metadata": {
      "needs_background": "light"
     },
     "output_type": "display_data"
    }
   ],
   "source": [
    "plt.contourf(pred_out)\n",
    "plt.colorbar()\n",
    "plt.title(\"Predicted UPIRFLUX (Lin Reg)\")\n",
    "plt.xlabel(\"Longtitude\")\n",
    "plt.ylabel(\"Latitude\")\n",
    "plt.show()"
   ]
  },
  {
   "cell_type": "code",
   "execution_count": 30,
   "metadata": {},
   "outputs": [
    {
     "data": {
      "image/png": "[encoded data removed]",
      "text/plain": [
       "<Figure size 432x288 with 2 Axes>"
      ]
     },
     "metadata": {
      "needs_background": "light"
     },
     "output_type": "display_data"
    }
   ],
   "source": [
    "plt.contourf(real_out - pred_out)\n",
    "plt.colorbar()\n",
    "plt.title(\"Difference UPIRFLUX (Lin Reg)\")\n",
    "plt.xlabel(\"Longtitude\")\n",
    "plt.ylabel(\"Latitude\")\n",
    "plt.show()"
   ]
  },
  {
   "cell_type": "code",
   "execution_count": 31,
   "metadata": {},
   "outputs": [
    {
     "data": {
      "image/png": "[encoded data removed]",
      "text/plain": [
       "<Figure size 432x288 with 2 Axes>"
      ]
     },
     "metadata": {
      "needs_background": "light"
     },
     "output_type": "display_data"
    }
   ],
   "source": [
    "plt.contourf((real_out - pred_out)/real_out)\n",
    "plt.colorbar()\n",
    "plt.title(\"Relative Difference UPIRFLUX (Lin Reg)\")\n",
    "plt.xlabel(\"Longtitude\")\n",
    "plt.ylabel(\"Latitude\")\n",
    "plt.show()"
   ]
  },
  {
   "cell_type": "markdown",
   "metadata": {},
   "source": [
    "## Getting the integrals of flux error (and then getting average erroneusly added flux)"
   ]
  },
  {
   "cell_type": "code",
   "execution_count": 32,
   "metadata": {},
   "outputs": [],
   "source": [
    "def int_err(pred, real, real_in, r): \n",
    "    areas = []\n",
    "    for i in range(len(real)):\n",
    "        dA =  -r**2 * np.sin((np.pi/36)*((real_in.index[i]//72)%36)) * (np.pi/36) * (np.pi/36)  #area increment\n",
    "        areas.append(dA)\n",
    "    areas = np.array(areas)\n",
    "    return np.sum((np.array(pred) - np.array(real))*areas)"
   ]
  },
  {
   "cell_type": "code",
   "execution_count": 33,
   "metadata": {},
   "outputs": [
    {
     "data": {
      "text/plain": [
       "(36, 72)"
      ]
     },
     "execution_count": 33,
     "metadata": {},
     "output_type": "execute_result"
    }
   ],
   "source": [
    "real_out.shape"
   ]
  },
  {
   "cell_type": "code",
   "execution_count": 35,
   "metadata": {},
   "outputs": [],
   "source": [
    "lin_t_int = [] #total lin integral list, each element is one layer\n",
    "for i in range(52): \n",
    "    lin_errors = [] #each element is one time snapshot\n",
    "    for j in range(70):\n",
    "        lin_int_err = int_err(uif_lin[j*36*72:(j+1)*36*72,i], uif_out[j*36*72:(j+1)*36*72,i], pd.DataFrame(uif_lin), 3.39e6) \n",
    "        lin_errors.append(lin_int_err/(1.44e14)) \n",
    "    lin_t_int.append(lin_errors)"
   ]
  },
  {
   "cell_type": "code",
   "execution_count": 41,
   "metadata": {
    "scrolled": true
   },
   "outputs": [
    {
     "data": {
      "text/plain": [
       "array([[1.06852911, 1.03447121, 1.01816561, ..., 0.86853627, 0.70338403,\n",
       "        0.93283034],\n",
       "       [1.06846689, 1.03440122, 1.01809808, ..., 0.86845544, 0.70329402,\n",
       "        0.93273347],\n",
       "       [1.06808305, 1.03397809, 1.01766966, ..., 0.86805469, 0.70288701,\n",
       "        0.93230239],\n",
       "       ...,\n",
       "       [1.03082315, 1.01623811, 1.02235153, ..., 0.53625862, 0.43506325,\n",
       "        0.7038968 ],\n",
       "       [1.03070265, 1.0125767 , 1.01490306, ..., 0.56137732, 0.45715651,\n",
       "        0.72704615],\n",
       "       [1.03239783, 1.00778428, 1.00657466, ..., 0.59859069, 0.49022036,\n",
       "        0.76002416]])"
      ]
     },
     "execution_count": 41,
     "metadata": {},
     "output_type": "execute_result"
    }
   ],
   "source": [
    "lin_t_int = np.array(lin_t_int)\n",
    "lin_t_int"
   ]
  },
  {
   "cell_type": "code",
   "execution_count": 42,
   "metadata": {},
   "outputs": [
    {
     "data": {
      "text/plain": [
       "array([3.58262392, 3.58244928, 3.5823079 , 3.58198701, 3.58209834,\n",
       "       3.58186949, 3.58213876, 3.58219225, 3.58268147, 3.58225829,\n",
       "       3.5826725 , 3.58339545, 3.58387155, 3.58555761, 3.58840734,\n",
       "       3.5932356 , 3.60264289, 3.61463374, 3.62927637, 3.64661221,\n",
       "       3.66457831, 3.6873693 , 3.71654881, 3.75539954, 3.80464541,\n",
       "       3.86601246, 3.94317518, 4.03670666, 4.14859972, 4.28508358,\n",
       "       4.44724469, 4.62722816, 4.81636953, 5.01184943, 5.20839281,\n",
       "       5.39987989, 5.57104324, 5.71009716, 5.78723283, 5.80266601,\n",
       "       5.80885573, 5.80856509, 5.80421977, 5.79389029, 5.77507021,\n",
       "       5.75689951, 5.732964  , 5.70270443, 5.66763207, 5.62456616,\n",
       "       5.5677382 , 5.48708445])"
      ]
     },
     "execution_count": 42,
     "metadata": {},
     "output_type": "execute_result"
    }
   ],
   "source": [
    "max_err = []\n",
    "for element in lin_t_int:\n",
    "    max_err.append(np.max(element))\n",
    "np.array(max_err)"
   ]
  },
  {
   "cell_type": "code",
   "execution_count": 43,
   "metadata": {},
   "outputs": [
    {
     "data": {
      "text/plain": [
       "array([-1.50661623, -1.50676166, -1.50712137, -1.50683159, -1.50668288,\n",
       "       -1.50678856, -1.5066182 , -1.50680671, -1.50677991, -1.50657206,\n",
       "       -1.50626269, -1.50620641, -1.50609291, -1.50572836, -1.50552567,\n",
       "       -1.50672226, -1.50785635, -1.51135784, -1.51715694, -1.52407158,\n",
       "       -1.53195383, -1.53973167, -1.54893293, -1.55983046, -1.57302475,\n",
       "       -1.58961496, -1.60869096, -1.63390002, -1.6683906 , -1.71005227,\n",
       "       -1.75827961, -1.81325402, -1.87657184, -1.95083839, -2.02792964,\n",
       "       -2.10655605, -2.18304227, -2.24957837, -2.29681726, -2.31302555,\n",
       "       -2.32670548, -2.33412737, -2.34089169, -2.34648315, -2.35027466,\n",
       "       -2.35135503, -2.3515357 , -2.35079765, -2.34840599, -2.34308139,\n",
       "       -2.33399826, -2.31945009])"
      ]
     },
     "execution_count": 43,
     "metadata": {},
     "output_type": "execute_result"
    }
   ],
   "source": [
    "min_err = []\n",
    "for element in lin_t_int:\n",
    "    min_err.append(np.min(element))\n",
    "np.array(min_err)"
   ]
  },
  {
   "cell_type": "code",
   "execution_count": 44,
   "metadata": {},
   "outputs": [
    {
     "data": {
      "text/plain": [
       "array([1.24346539, 1.24344375, 1.24352972, 1.24340479, 1.24346591,\n",
       "       1.24350882, 1.2435073 , 1.24350999, 1.2435329 , 1.24329779,\n",
       "       1.2431877 , 1.2431702 , 1.24304857, 1.24333221, 1.24396884,\n",
       "       1.24530319, 1.24754947, 1.25096668, 1.25582179, 1.26229054,\n",
       "       1.27008915, 1.27995559, 1.29176599, 1.30549725, 1.32143596,\n",
       "       1.33990348, 1.36161822, 1.38814054, 1.42135676, 1.4619753 ,\n",
       "       1.5103363 , 1.56582865, 1.62747474, 1.69462747, 1.76297709,\n",
       "       1.83015595, 1.89259281, 1.94581641, 1.97897054, 1.98794467,\n",
       "       1.99448912, 1.99737663, 1.99899823, 1.99880826, 1.99634339,\n",
       "       1.99322339, 1.9886966 , 1.98237673, 1.97415089, 1.96304937,\n",
       "       1.94763891, 1.92521834])"
      ]
     },
     "execution_count": 44,
     "metadata": {},
     "output_type": "execute_result"
    }
   ],
   "source": [
    "std_err = []\n",
    "for element in lin_t_int:\n",
    "    std_err.append(np.std(element))\n",
    "np.array(std_err)"
   ]
  },
  {
   "cell_type": "code",
   "execution_count": 47,
   "metadata": {},
   "outputs": [
    {
     "data": {
      "text/plain": [
       "array([0.47858236, 0.47844852, 0.47813692, 0.47828549, 0.47849028,\n",
       "       0.47845184, 0.47869938, 0.47854247, 0.47848512, 0.47832892,\n",
       "       0.47843591, 0.47840873, 0.47820671, 0.47839569, 0.47870904,\n",
       "       0.47837477, 0.47925217, 0.47943518, 0.47956565, 0.48016538,\n",
       "       0.48003245, 0.4805357 , 0.48071894, 0.48148826, 0.48226526,\n",
       "       0.48247652, 0.48254538, 0.48111372, 0.47888689, 0.47728133,\n",
       "       0.47495621, 0.47195898, 0.46816972, 0.46332533, 0.45811258,\n",
       "       0.45152908, 0.4438125 , 0.43699193, 0.43266796, 0.43088767,\n",
       "       0.42925688, 0.42851775, 0.42801357, 0.42767875, 0.42752085,\n",
       "       0.42755062, 0.42746127, 0.42746512, 0.4280402 , 0.42904221,\n",
       "       0.43060168, 0.43250848])"
      ]
     },
     "execution_count": 47,
     "metadata": {},
     "output_type": "execute_result"
    }
   ],
   "source": [
    "avg_err = []\n",
    "for element in lin_t_int:\n",
    "    avg_err.append(np.average(element))\n",
    "np.array(avg_err)"
   ]
  },
  {
   "cell_type": "code",
   "execution_count": 45,
   "metadata": {},
   "outputs": [
    {
     "name": "stdout",
     "output_type": "stream",
     "text": [
      "Lin reg average:\n",
      "0.4626310444588322\n"
     ]
    }
   ],
   "source": [
    "print(\"Lin reg average:\")\n",
    "print(np.average(np.array(lin_t_int)))"
   ]
  },
  {
   "cell_type": "markdown",
   "metadata": {},
   "source": [
    "The standard deviation and average are slightly lower than in 3.3.3, so the pressure terms do help the prediction a bit."
   ]
  },
  {
   "cell_type": "code",
   "execution_count": null,
   "metadata": {},
   "outputs": [],
   "source": []
  }
 ],
 "metadata": {
  "kernelspec": {
   "display_name": "Python 3",
   "language": "python",
   "name": "python3"
  },
  "language_info": {
   "codemirror_mode": {
    "name": "ipython",
    "version": 3
   },
   "file_extension": ".py",
   "mimetype": "text/x-python",
   "name": "python",
   "nbconvert_exporter": "python",
   "pygments_lexer": "ipython3",
   "version": "3.7.4"
  }
 },
 "nbformat": 4,
 "nbformat_minor": 2
}
