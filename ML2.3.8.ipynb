{
 "cells": [
  {
   "cell_type": "markdown",
   "metadata": {},
   "source": [
    "Let's try 3 regressors on auxhist dataset"
   ]
  },
  {
   "cell_type": "code",
   "execution_count": 1,
   "metadata": {},
   "outputs": [],
   "source": [
    "import xarray as xr\n",
    "import matplotlib.pyplot as plt\n",
    "import numpy as np\n",
    "import pandas as pd"
   ]
  },
  {
   "cell_type": "code",
   "execution_count": 2,
   "metadata": {},
   "outputs": [],
   "source": [
    "dataDIR = 'af'\n",
    "DS = xr.open_dataset(dataDIR)"
   ]
  },
  {
   "cell_type": "code",
   "execution_count": 3,
   "metadata": {},
   "outputs": [],
   "source": [
    "albedo = DS.ALBEDO.values"
   ]
  },
  {
   "cell_type": "code",
   "execution_count": 4,
   "metadata": {},
   "outputs": [
    {
     "data": {
      "text/plain": [
       "(71, 36, 72)"
      ]
     },
     "execution_count": 4,
     "metadata": {},
     "output_type": "execute_result"
    }
   ],
   "source": [
    "albedo.shape #days, latitude, longtitude"
   ]
  },
  {
   "cell_type": "code",
   "execution_count": 5,
   "metadata": {},
   "outputs": [],
   "source": [
    "d_c = DS.TAU_OD.values"
   ]
  },
  {
   "cell_type": "code",
   "execution_count": 6,
   "metadata": {},
   "outputs": [
    {
     "data": {
      "text/plain": [
       "(71, 52, 36, 72)"
      ]
     },
     "execution_count": 6,
     "metadata": {},
     "output_type": "execute_result"
    }
   ],
   "source": [
    "d_c.shape "
   ]
  },
  {
   "cell_type": "code",
   "execution_count": 7,
   "metadata": {},
   "outputs": [],
   "source": [
    "tsf = DS.TOASW.values #top solar flux"
   ]
  },
  {
   "cell_type": "code",
   "execution_count": 8,
   "metadata": {},
   "outputs": [
    {
     "data": {
      "text/plain": [
       "(71, 36, 72)"
      ]
     },
     "execution_count": 8,
     "metadata": {},
     "output_type": "execute_result"
    }
   ],
   "source": [
    "tsf.shape"
   ]
  },
  {
   "cell_type": "code",
   "execution_count": 9,
   "metadata": {},
   "outputs": [],
   "source": [
    "bsf = DS.GSW.values #bottom solar flux, ouput"
   ]
  },
  {
   "cell_type": "code",
   "execution_count": 10,
   "metadata": {},
   "outputs": [],
   "source": [
    "bsf2 = bsf/(1-albedo)"
   ]
  },
  {
   "cell_type": "code",
   "execution_count": 11,
   "metadata": {},
   "outputs": [
    {
     "data": {
      "text/plain": [
       "(71, 36, 72)"
      ]
     },
     "execution_count": 11,
     "metadata": {},
     "output_type": "execute_result"
    }
   ],
   "source": [
    "bsf.shape"
   ]
  },
  {
   "cell_type": "markdown",
   "metadata": {},
   "source": [
    "Let's combine the data together for ten time samples, with full latitude and longitude:"
   ]
  },
  {
   "cell_type": "code",
   "execution_count": 12,
   "metadata": {},
   "outputs": [],
   "source": [
    "e_t = [] #equator input and output\n",
    "#input:\n",
    "for k in range(10): #10 days\n",
    "    for i in range(36):\n",
    "        for j in range(72):\n",
    "            input_array = list(d_c[k,:,i,j]) #add dust profile\n",
    "            input_array.append(tsf[k,i,j]) #add top solar flux, without the albedo factor\n",
    "            input_array.append(bsf2[k,i,j])            \n",
    "            e_t.append(input_array) #appends input to input array"
   ]
  },
  {
   "cell_type": "code",
   "execution_count": 13,
   "metadata": {},
   "outputs": [
    {
     "data": {
      "text/plain": [
       "(25920, 54)"
      ]
     },
     "execution_count": 13,
     "metadata": {},
     "output_type": "execute_result"
    }
   ],
   "source": [
    "e_t = np.array(e_t)\n",
    "e_t.shape"
   ]
  },
  {
   "cell_type": "code",
   "execution_count": 14,
   "metadata": {},
   "outputs": [
    {
     "data": {
      "text/html": [
       "<div>\n",
       "<style scoped>\n",
       "    .dataframe tbody tr th:only-of-type {\n",
       "        vertical-align: middle;\n",
       "    }\n",
       "\n",
       "    .dataframe tbody tr th {\n",
       "        vertical-align: top;\n",
       "    }\n",
       "\n",
       "    .dataframe thead th {\n",
       "        text-align: right;\n",
       "    }\n",
       "</style>\n",
       "<table border=\"1\" class=\"dataframe\">\n",
       "  <thead>\n",
       "    <tr style=\"text-align: right;\">\n",
       "      <th></th>\n",
       "      <th>0</th>\n",
       "      <th>1</th>\n",
       "      <th>2</th>\n",
       "      <th>3</th>\n",
       "      <th>4</th>\n",
       "      <th>5</th>\n",
       "      <th>6</th>\n",
       "      <th>7</th>\n",
       "      <th>8</th>\n",
       "      <th>9</th>\n",
       "      <th>...</th>\n",
       "      <th>44</th>\n",
       "      <th>45</th>\n",
       "      <th>46</th>\n",
       "      <th>47</th>\n",
       "      <th>48</th>\n",
       "      <th>49</th>\n",
       "      <th>50</th>\n",
       "      <th>51</th>\n",
       "      <th>52</th>\n",
       "      <th>53</th>\n",
       "    </tr>\n",
       "  </thead>\n",
       "  <tbody>\n",
       "    <tr>\n",
       "      <td>2592</td>\n",
       "      <td>0.074773</td>\n",
       "      <td>0.074461</td>\n",
       "      <td>0.073992</td>\n",
       "      <td>0.073209</td>\n",
       "      <td>0.072426</td>\n",
       "      <td>0.071643</td>\n",
       "      <td>0.070858</td>\n",
       "      <td>0.070073</td>\n",
       "      <td>0.069288</td>\n",
       "      <td>0.068501</td>\n",
       "      <td>...</td>\n",
       "      <td>6.870778e-08</td>\n",
       "      <td>4.828668e-08</td>\n",
       "      <td>3.302351e-08</td>\n",
       "      <td>2.181589e-08</td>\n",
       "      <td>1.379160e-08</td>\n",
       "      <td>8.190756e-09</td>\n",
       "      <td>4.479549e-09</td>\n",
       "      <td>2.268331e-09</td>\n",
       "      <td>3.133222</td>\n",
       "      <td>1.288925</td>\n",
       "    </tr>\n",
       "    <tr>\n",
       "      <td>2593</td>\n",
       "      <td>0.074851</td>\n",
       "      <td>0.074538</td>\n",
       "      <td>0.074069</td>\n",
       "      <td>0.073286</td>\n",
       "      <td>0.072502</td>\n",
       "      <td>0.071718</td>\n",
       "      <td>0.070933</td>\n",
       "      <td>0.070147</td>\n",
       "      <td>0.069360</td>\n",
       "      <td>0.068573</td>\n",
       "      <td>...</td>\n",
       "      <td>6.877530e-08</td>\n",
       "      <td>4.833389e-08</td>\n",
       "      <td>3.305554e-08</td>\n",
       "      <td>2.183677e-08</td>\n",
       "      <td>1.380450e-08</td>\n",
       "      <td>8.198081e-09</td>\n",
       "      <td>4.483181e-09</td>\n",
       "      <td>2.269765e-09</td>\n",
       "      <td>3.225646</td>\n",
       "      <td>1.327118</td>\n",
       "    </tr>\n",
       "    <tr>\n",
       "      <td>2594</td>\n",
       "      <td>0.074881</td>\n",
       "      <td>0.074568</td>\n",
       "      <td>0.074098</td>\n",
       "      <td>0.073315</td>\n",
       "      <td>0.072531</td>\n",
       "      <td>0.071746</td>\n",
       "      <td>0.070961</td>\n",
       "      <td>0.070175</td>\n",
       "      <td>0.069388</td>\n",
       "      <td>0.068601</td>\n",
       "      <td>...</td>\n",
       "      <td>6.880115e-08</td>\n",
       "      <td>4.835196e-08</td>\n",
       "      <td>3.306780e-08</td>\n",
       "      <td>2.184476e-08</td>\n",
       "      <td>1.380943e-08</td>\n",
       "      <td>8.200886e-09</td>\n",
       "      <td>4.484573e-09</td>\n",
       "      <td>2.270314e-09</td>\n",
       "      <td>3.133214</td>\n",
       "      <td>1.289217</td>\n",
       "    </tr>\n",
       "    <tr>\n",
       "      <td>2595</td>\n",
       "      <td>0.074862</td>\n",
       "      <td>0.074549</td>\n",
       "      <td>0.074080</td>\n",
       "      <td>0.073297</td>\n",
       "      <td>0.072513</td>\n",
       "      <td>0.071729</td>\n",
       "      <td>0.070943</td>\n",
       "      <td>0.070158</td>\n",
       "      <td>0.069371</td>\n",
       "      <td>0.068583</td>\n",
       "      <td>...</td>\n",
       "      <td>6.878514e-08</td>\n",
       "      <td>4.834077e-08</td>\n",
       "      <td>3.306021e-08</td>\n",
       "      <td>2.183981e-08</td>\n",
       "      <td>1.380637e-08</td>\n",
       "      <td>8.199148e-09</td>\n",
       "      <td>4.483712e-09</td>\n",
       "      <td>2.269974e-09</td>\n",
       "      <td>2.856627</td>\n",
       "      <td>1.175603</td>\n",
       "    </tr>\n",
       "    <tr>\n",
       "      <td>2596</td>\n",
       "      <td>0.074796</td>\n",
       "      <td>0.074483</td>\n",
       "      <td>0.074014</td>\n",
       "      <td>0.073232</td>\n",
       "      <td>0.072448</td>\n",
       "      <td>0.071665</td>\n",
       "      <td>0.070880</td>\n",
       "      <td>0.070095</td>\n",
       "      <td>0.069309</td>\n",
       "      <td>0.068522</td>\n",
       "      <td>...</td>\n",
       "      <td>6.872747e-08</td>\n",
       "      <td>4.830045e-08</td>\n",
       "      <td>3.303285e-08</td>\n",
       "      <td>2.182198e-08</td>\n",
       "      <td>1.379536e-08</td>\n",
       "      <td>8.192893e-09</td>\n",
       "      <td>4.480609e-09</td>\n",
       "      <td>2.268749e-09</td>\n",
       "      <td>2.397990</td>\n",
       "      <td>0.987387</td>\n",
       "    </tr>\n",
       "    <tr>\n",
       "      <td>...</td>\n",
       "      <td>...</td>\n",
       "      <td>...</td>\n",
       "      <td>...</td>\n",
       "      <td>...</td>\n",
       "      <td>...</td>\n",
       "      <td>...</td>\n",
       "      <td>...</td>\n",
       "      <td>...</td>\n",
       "      <td>...</td>\n",
       "      <td>...</td>\n",
       "      <td>...</td>\n",
       "      <td>...</td>\n",
       "      <td>...</td>\n",
       "      <td>...</td>\n",
       "      <td>...</td>\n",
       "      <td>...</td>\n",
       "      <td>...</td>\n",
       "      <td>...</td>\n",
       "      <td>...</td>\n",
       "      <td>...</td>\n",
       "      <td>...</td>\n",
       "    </tr>\n",
       "    <tr>\n",
       "      <td>25915</td>\n",
       "      <td>0.120338</td>\n",
       "      <td>0.119857</td>\n",
       "      <td>0.119135</td>\n",
       "      <td>0.117931</td>\n",
       "      <td>0.116728</td>\n",
       "      <td>0.115525</td>\n",
       "      <td>0.114321</td>\n",
       "      <td>0.113118</td>\n",
       "      <td>0.111914</td>\n",
       "      <td>0.110711</td>\n",
       "      <td>...</td>\n",
       "      <td>1.091246e-07</td>\n",
       "      <td>7.654454e-08</td>\n",
       "      <td>5.219346e-08</td>\n",
       "      <td>3.431266e-08</td>\n",
       "      <td>2.151059e-08</td>\n",
       "      <td>1.257493e-08</td>\n",
       "      <td>6.654015e-09</td>\n",
       "      <td>3.126207e-09</td>\n",
       "      <td>166.324509</td>\n",
       "      <td>145.346939</td>\n",
       "    </tr>\n",
       "    <tr>\n",
       "      <td>25916</td>\n",
       "      <td>0.120377</td>\n",
       "      <td>0.119895</td>\n",
       "      <td>0.119173</td>\n",
       "      <td>0.117969</td>\n",
       "      <td>0.116766</td>\n",
       "      <td>0.115562</td>\n",
       "      <td>0.114358</td>\n",
       "      <td>0.113154</td>\n",
       "      <td>0.111951</td>\n",
       "      <td>0.110747</td>\n",
       "      <td>...</td>\n",
       "      <td>1.091595e-07</td>\n",
       "      <td>7.656890e-08</td>\n",
       "      <td>5.220998e-08</td>\n",
       "      <td>3.432344e-08</td>\n",
       "      <td>2.151725e-08</td>\n",
       "      <td>1.257871e-08</td>\n",
       "      <td>6.655889e-09</td>\n",
       "      <td>3.126946e-09</td>\n",
       "      <td>167.173706</td>\n",
       "      <td>146.184647</td>\n",
       "    </tr>\n",
       "    <tr>\n",
       "      <td>25917</td>\n",
       "      <td>0.120411</td>\n",
       "      <td>0.119929</td>\n",
       "      <td>0.119207</td>\n",
       "      <td>0.118003</td>\n",
       "      <td>0.116799</td>\n",
       "      <td>0.115594</td>\n",
       "      <td>0.114390</td>\n",
       "      <td>0.113186</td>\n",
       "      <td>0.111982</td>\n",
       "      <td>0.110778</td>\n",
       "      <td>...</td>\n",
       "      <td>1.091901e-07</td>\n",
       "      <td>7.659027e-08</td>\n",
       "      <td>5.222449e-08</td>\n",
       "      <td>3.433289e-08</td>\n",
       "      <td>2.152309e-08</td>\n",
       "      <td>1.258202e-08</td>\n",
       "      <td>6.657535e-09</td>\n",
       "      <td>3.127596e-09</td>\n",
       "      <td>167.877502</td>\n",
       "      <td>146.876816</td>\n",
       "    </tr>\n",
       "    <tr>\n",
       "      <td>25918</td>\n",
       "      <td>0.120440</td>\n",
       "      <td>0.119959</td>\n",
       "      <td>0.119236</td>\n",
       "      <td>0.118032</td>\n",
       "      <td>0.116827</td>\n",
       "      <td>0.115623</td>\n",
       "      <td>0.114418</td>\n",
       "      <td>0.113214</td>\n",
       "      <td>0.112010</td>\n",
       "      <td>0.110805</td>\n",
       "      <td>...</td>\n",
       "      <td>1.092166e-07</td>\n",
       "      <td>7.660883e-08</td>\n",
       "      <td>5.223708e-08</td>\n",
       "      <td>3.434110e-08</td>\n",
       "      <td>2.152816e-08</td>\n",
       "      <td>1.258490e-08</td>\n",
       "      <td>6.658964e-09</td>\n",
       "      <td>3.128160e-09</td>\n",
       "      <td>168.430542</td>\n",
       "      <td>147.418060</td>\n",
       "    </tr>\n",
       "    <tr>\n",
       "      <td>25919</td>\n",
       "      <td>0.120465</td>\n",
       "      <td>0.119983</td>\n",
       "      <td>0.119260</td>\n",
       "      <td>0.118056</td>\n",
       "      <td>0.116851</td>\n",
       "      <td>0.115646</td>\n",
       "      <td>0.114442</td>\n",
       "      <td>0.113237</td>\n",
       "      <td>0.112033</td>\n",
       "      <td>0.110828</td>\n",
       "      <td>...</td>\n",
       "      <td>1.092388e-07</td>\n",
       "      <td>7.662437e-08</td>\n",
       "      <td>5.224762e-08</td>\n",
       "      <td>3.434797e-08</td>\n",
       "      <td>2.153240e-08</td>\n",
       "      <td>1.258731e-08</td>\n",
       "      <td>6.660159e-09</td>\n",
       "      <td>3.128631e-09</td>\n",
       "      <td>168.828598</td>\n",
       "      <td>147.804214</td>\n",
       "    </tr>\n",
       "  </tbody>\n",
       "</table>\n",
       "<p>11894 rows × 54 columns</p>\n",
       "</div>"
      ],
      "text/plain": [
       "             0         1         2         3         4         5         6   \\\n",
       "2592   0.074773  0.074461  0.073992  0.073209  0.072426  0.071643  0.070858   \n",
       "2593   0.074851  0.074538  0.074069  0.073286  0.072502  0.071718  0.070933   \n",
       "2594   0.074881  0.074568  0.074098  0.073315  0.072531  0.071746  0.070961   \n",
       "2595   0.074862  0.074549  0.074080  0.073297  0.072513  0.071729  0.070943   \n",
       "2596   0.074796  0.074483  0.074014  0.073232  0.072448  0.071665  0.070880   \n",
       "...         ...       ...       ...       ...       ...       ...       ...   \n",
       "25915  0.120338  0.119857  0.119135  0.117931  0.116728  0.115525  0.114321   \n",
       "25916  0.120377  0.119895  0.119173  0.117969  0.116766  0.115562  0.114358   \n",
       "25917  0.120411  0.119929  0.119207  0.118003  0.116799  0.115594  0.114390   \n",
       "25918  0.120440  0.119959  0.119236  0.118032  0.116827  0.115623  0.114418   \n",
       "25919  0.120465  0.119983  0.119260  0.118056  0.116851  0.115646  0.114442   \n",
       "\n",
       "             7         8         9   ...            44            45  \\\n",
       "2592   0.070073  0.069288  0.068501  ...  6.870778e-08  4.828668e-08   \n",
       "2593   0.070147  0.069360  0.068573  ...  6.877530e-08  4.833389e-08   \n",
       "2594   0.070175  0.069388  0.068601  ...  6.880115e-08  4.835196e-08   \n",
       "2595   0.070158  0.069371  0.068583  ...  6.878514e-08  4.834077e-08   \n",
       "2596   0.070095  0.069309  0.068522  ...  6.872747e-08  4.830045e-08   \n",
       "...         ...       ...       ...  ...           ...           ...   \n",
       "25915  0.113118  0.111914  0.110711  ...  1.091246e-07  7.654454e-08   \n",
       "25916  0.113154  0.111951  0.110747  ...  1.091595e-07  7.656890e-08   \n",
       "25917  0.113186  0.111982  0.110778  ...  1.091901e-07  7.659027e-08   \n",
       "25918  0.113214  0.112010  0.110805  ...  1.092166e-07  7.660883e-08   \n",
       "25919  0.113237  0.112033  0.110828  ...  1.092388e-07  7.662437e-08   \n",
       "\n",
       "                 46            47            48            49            50  \\\n",
       "2592   3.302351e-08  2.181589e-08  1.379160e-08  8.190756e-09  4.479549e-09   \n",
       "2593   3.305554e-08  2.183677e-08  1.380450e-08  8.198081e-09  4.483181e-09   \n",
       "2594   3.306780e-08  2.184476e-08  1.380943e-08  8.200886e-09  4.484573e-09   \n",
       "2595   3.306021e-08  2.183981e-08  1.380637e-08  8.199148e-09  4.483712e-09   \n",
       "2596   3.303285e-08  2.182198e-08  1.379536e-08  8.192893e-09  4.480609e-09   \n",
       "...             ...           ...           ...           ...           ...   \n",
       "25915  5.219346e-08  3.431266e-08  2.151059e-08  1.257493e-08  6.654015e-09   \n",
       "25916  5.220998e-08  3.432344e-08  2.151725e-08  1.257871e-08  6.655889e-09   \n",
       "25917  5.222449e-08  3.433289e-08  2.152309e-08  1.258202e-08  6.657535e-09   \n",
       "25918  5.223708e-08  3.434110e-08  2.152816e-08  1.258490e-08  6.658964e-09   \n",
       "25919  5.224762e-08  3.434797e-08  2.153240e-08  1.258731e-08  6.660159e-09   \n",
       "\n",
       "                 51          52          53  \n",
       "2592   2.268331e-09    3.133222    1.288925  \n",
       "2593   2.269765e-09    3.225646    1.327118  \n",
       "2594   2.270314e-09    3.133214    1.289217  \n",
       "2595   2.269974e-09    2.856627    1.175603  \n",
       "2596   2.268749e-09    2.397990    0.987387  \n",
       "...             ...         ...         ...  \n",
       "25915  3.126207e-09  166.324509  145.346939  \n",
       "25916  3.126946e-09  167.173706  146.184647  \n",
       "25917  3.127596e-09  167.877502  146.876816  \n",
       "25918  3.128160e-09  168.430542  147.418060  \n",
       "25919  3.128631e-09  168.828598  147.804214  \n",
       "\n",
       "[11894 rows x 54 columns]"
      ]
     },
     "execution_count": 14,
     "metadata": {},
     "output_type": "execute_result"
    }
   ],
   "source": [
    "e_d = pd.DataFrame(e_t) \n",
    "e_d = e_d[e_d.iloc[:,52] != 0] #remove 0 tsf, could later use a simple classifier to determine which data has 0 bottom flux...\n",
    "e_d"
   ]
  },
  {
   "cell_type": "code",
   "execution_count": 15,
   "metadata": {},
   "outputs": [
    {
     "data": {
      "text/plain": [
       "70.82975769042967"
      ]
     },
     "execution_count": 15,
     "metadata": {},
     "output_type": "execute_result"
    }
   ],
   "source": [
    "np.percentile(e_d.iloc[:,52], 20)"
   ]
  },
  {
   "cell_type": "markdown",
   "metadata": {},
   "source": [
    "Split up the data into 3 parts:"
   ]
  },
  {
   "cell_type": "code",
   "execution_count": 16,
   "metadata": {},
   "outputs": [],
   "source": [
    "e_reml = e_d[e_d.iloc[:,52] > 235] #large flux data, 75th to 100th percentile\n",
    "e_remm = e_d[e_d.iloc[:,52] <= 235]\n",
    "e_remm = e_remm[e_remm.iloc[:,52] > 20]#middle flux data, 5th to 75th percentile\n",
    "e_rems = e_d[e_d.iloc[:,52] <= 20] #small flux data, greater than 10% of the average"
   ]
  },
  {
   "cell_type": "markdown",
   "metadata": {},
   "source": [
    "Train three linear regressors, one for the large flux data and the other for small flux data:"
   ]
  },
  {
   "cell_type": "code",
   "execution_count": 17,
   "metadata": {},
   "outputs": [
    {
     "data": {
      "text/plain": [
       "LinearRegression(copy_X=True, fit_intercept=True, n_jobs=None, normalize=False)"
      ]
     },
     "execution_count": 17,
     "metadata": {},
     "output_type": "execute_result"
    }
   ],
   "source": [
    "from sklearn.model_selection import train_test_split\n",
    "from sklearn.linear_model import LinearRegression\n",
    "\n",
    "train_set, test_set = train_test_split(e_reml, test_size=0.2, random_state=42)\n",
    "\n",
    "train_in = train_set.iloc[:,:53] #training input\n",
    "train_out = train_set.iloc[:,53] #training output\n",
    "test_in = test_set.iloc[:,:53] #testing input \n",
    "test_out = test_set.iloc[:,53] #testing output\n",
    "\n",
    "w = 1/train_out**2\n",
    "lrl = LinearRegression() #linear regression for large flux data\n",
    "lrl.fit(train_in,train_out, sample_weight=w)"
   ]
  },
  {
   "cell_type": "code",
   "execution_count": 18,
   "metadata": {},
   "outputs": [
    {
     "data": {
      "text/plain": [
       "LinearRegression(copy_X=True, fit_intercept=True, n_jobs=None, normalize=False)"
      ]
     },
     "execution_count": 18,
     "metadata": {},
     "output_type": "execute_result"
    }
   ],
   "source": [
    "train_set, test_set = train_test_split(e_remm, test_size=0.2, random_state=42)\n",
    "\n",
    "train_in = train_set.iloc[:,:53] #training input\n",
    "train_out = train_set.iloc[:,53] #training output\n",
    "test_in = test_set.iloc[:,:53] #testing input \n",
    "test_out = test_set.iloc[:,53] #testing output\n",
    "\n",
    "w = 1/train_out**2\n",
    "lrm = LinearRegression() #linear regression for middle flux data\n",
    "lrm.fit(train_in,train_out, sample_weight=w)"
   ]
  },
  {
   "cell_type": "code",
   "execution_count": 19,
   "metadata": {},
   "outputs": [
    {
     "data": {
      "text/plain": [
       "LinearRegression(copy_X=True, fit_intercept=True, n_jobs=None, normalize=False)"
      ]
     },
     "execution_count": 19,
     "metadata": {},
     "output_type": "execute_result"
    }
   ],
   "source": [
    "train_set, test_set = train_test_split(e_rems, test_size=0.2, random_state=42)\n",
    "\n",
    "train_in = train_set.iloc[:,:53] #training input\n",
    "train_out = train_set.iloc[:,53] #training output\n",
    "test_in = test_set.iloc[:,:53] #testing input\n",
    "test_out = test_set.iloc[:,53] #testing output\n",
    "\n",
    "w = 1/train_out**2\n",
    "lrs = LinearRegression() #linear regression for small flux data\n",
    "lrs.fit(train_in,train_out, sample_weight=w)"
   ]
  },
  {
   "cell_type": "markdown",
   "metadata": {},
   "source": [
    "A custom predictor which can handle all the data:"
   ]
  },
  {
   "cell_type": "code",
   "execution_count": 20,
   "metadata": {},
   "outputs": [],
   "source": [
    "def clp(in_data): #custom linear predictor\n",
    "    in_data = np.array(in_data)\n",
    "    out_data = []\n",
    "    for instance in in_data:\n",
    "        if instance[52] > 235:\n",
    "            out_data.append(float(lrl.predict(instance[:53].reshape(1,-1)))) #uses large flux predictor \n",
    "        elif instance[52] > 20:\n",
    "            out_data.append(float(lrm.predict(instance[:53].reshape(1,-1)))) #uses middle flux predictor \n",
    "        else:\n",
    "            out_data.append(float(lrs.predict(instance[:53].reshape(1,-1)))) #uses small flux predictor\n",
    "    return np.array(out_data)"
   ]
  },
  {
   "cell_type": "code",
   "execution_count": 21,
   "metadata": {},
   "outputs": [],
   "source": [
    "def int_err(pred, real, real_in, r): \n",
    "    areas = []\n",
    "    for i in range(len(real)):\n",
    "        A1 = np.cos((np.pi/36)*((real_in.index[i]//72)%36))\n",
    "        A2 = np.cos((np.pi/36)*(((real_in.index[i]//72)+ 1)%36))\n",
    "        if((((real_in.index[i]//72)+ 1)%36) == 0):\n",
    "            A2 = -1\n",
    "        dA = (A1 - A2)/72 * 2 * np.pi * r**2 #area increment\n",
    "        areas.append(dA)\n",
    "    areas = np.array(areas)\n",
    "    return np.sum((np.array(pred) - np.array(real))*areas)"
   ]
  },
  {
   "cell_type": "code",
   "execution_count": 22,
   "metadata": {},
   "outputs": [],
   "source": [
    "def int_err2(pred, real, real_in, r): \n",
    "    areas = []\n",
    "    for i in range(len(real)):\n",
    "        dA =  -r**2 * np.sin((np.pi/36)*((real_in.index[i]//72)%36)) * (np.pi/36) * (np.pi/36)  #area increment\n",
    "        areas.append(dA)\n",
    "    areas = np.array(areas)\n",
    "    return np.sum((np.array(pred) - np.array(real))*areas)"
   ]
  },
  {
   "cell_type": "code",
   "execution_count": 23,
   "metadata": {},
   "outputs": [],
   "source": [
    "total_in = e_d.iloc[:,:53] #total input\n",
    "total_out = e_d.iloc[:,53] #total output"
   ]
  },
  {
   "cell_type": "code",
   "execution_count": 24,
   "metadata": {},
   "outputs": [
    {
     "name": "stdout",
     "output_type": "stream",
     "text": [
      "2.0804014205932617\n"
     ]
    }
   ],
   "source": [
    "import time\n",
    "\n",
    "start = time.time()\n",
    "total_pred = clp(total_in)\n",
    "end = time.time()\n",
    "print(end - start)"
   ]
  },
  {
   "cell_type": "code",
   "execution_count": 25,
   "metadata": {},
   "outputs": [
    {
     "data": {
      "text/plain": [
       "3.9921835917428243"
      ]
     },
     "execution_count": 25,
     "metadata": {},
     "output_type": "execute_result"
    }
   ],
   "source": [
    "from sklearn.metrics import mean_squared_error\n",
    "\n",
    "lin_mse = mean_squared_error(total_out, total_pred)\n",
    "lin_rmse = np.sqrt(lin_mse)\n",
    "lin_rmse  "
   ]
  },
  {
   "cell_type": "code",
   "execution_count": 26,
   "metadata": {},
   "outputs": [
    {
     "data": {
      "text/plain": [
       "array(-6.37785278e+14)"
      ]
     },
     "execution_count": 26,
     "metadata": {},
     "output_type": "execute_result"
    }
   ],
   "source": [
    "err1 = int_err(total_pred, total_out, total_in, 3.39e6) #the integral of the error\n",
    "np.array(err1)"
   ]
  },
  {
   "cell_type": "code",
   "execution_count": 27,
   "metadata": {},
   "outputs": [
    {
     "data": {
      "text/plain": [
       "array(6.34889614e+14)"
      ]
     },
     "execution_count": 27,
     "metadata": {},
     "output_type": "execute_result"
    }
   ],
   "source": [
    "err2 = int_err2(total_pred, total_out, total_in, 3.39e6) #the integral of the error\n",
    "np.array(err2)"
   ]
  },
  {
   "cell_type": "code",
   "execution_count": 28,
   "metadata": {},
   "outputs": [
    {
     "data": {
      "text/plain": [
       "-12.566370614359172"
      ]
     },
     "execution_count": 28,
     "metadata": {},
     "output_type": "execute_result"
    }
   ],
   "source": [
    "e_t2 = pd.DataFrame(e_t)\n",
    "int_err(np.zeros(36*72), np.ones(36*72), e_t2[:36*72], 1) #make sure the errors work by integrating a sphere's surface"
   ]
  },
  {
   "cell_type": "code",
   "execution_count": 29,
   "metadata": {},
   "outputs": [
    {
     "data": {
      "text/plain": [
       "4.408955652476091"
      ]
     },
     "execution_count": 29,
     "metadata": {},
     "output_type": "execute_result"
    }
   ],
   "source": [
    "f_err = err2/(1.44e14)\n",
    "f_err"
   ]
  },
  {
   "cell_type": "markdown",
   "metadata": {},
   "source": [
    "Plotting data:"
   ]
  },
  {
   "cell_type": "code",
   "execution_count": 30,
   "metadata": {},
   "outputs": [
    {
     "data": {
      "text/plain": [
       "Int64Index([13104, 13105, 13106, 13107, 13108, 13109, 13110, 13111, 13112,\n",
       "            13170,\n",
       "            ...\n",
       "            15542, 15543, 15544, 15545, 15546, 15547, 15548, 15549, 15550,\n",
       "            15551],\n",
       "           dtype='int64', length=1324)"
      ]
     },
     "execution_count": 30,
     "metadata": {},
     "output_type": "execute_result"
    }
   ],
   "source": [
    "all_indices = total_in.index\n",
    "ti_indices = all_indices[all_indices > 5*36*72] \n",
    "ti_indices = ti_indices[ti_indices < 6 *36*72] \n",
    "ti_indices #ith time snapshot indices for latitude/longtitude map, currently set to 6th time snapshot"
   ]
  },
  {
   "cell_type": "code",
   "execution_count": 31,
   "metadata": {},
   "outputs": [],
   "source": [
    "total_out = np.array(total_out)\n",
    "full_out_contour = np.full((36, 72), np.nan)\n",
    "full_pred_contour = np.full((36, 72), np.nan)\n",
    "for index in ti_indices:\n",
    "    lat_point = index//72 - 36*5\n",
    "    long_point = index%72 - 1*72\n",
    "    full_out_contour[lat_point][long_point] = total_out[np.where(all_indices == index)]\n",
    "    full_pred_contour[lat_point][long_point] = total_pred[np.where(all_indices == index)]"
   ]
  },
  {
   "cell_type": "code",
   "execution_count": 32,
   "metadata": {},
   "outputs": [
    {
     "data": {
      "image/png": "[encoded data removed]",
      "text/plain": [
       "<Figure size 432x288 with 2 Axes>"
      ]
     },
     "metadata": {
      "needs_background": "light"
     },
     "output_type": "display_data"
    },
    {
     "data": {
      "text/plain": [
       "<Figure size 432x288 with 0 Axes>"
      ]
     },
     "metadata": {},
     "output_type": "display_data"
    }
   ],
   "source": [
    "plt.contourf(full_out_contour)\n",
    "plt.colorbar()\n",
    "plt.title(\"Actual Bottom Solar Flux\")\n",
    "plt.xlabel(\"Longtitude\")\n",
    "plt.ylabel(\"Latitude\")\n",
    "plt.show()\n",
    "plt.savefig(\"Actual\")"
   ]
  },
  {
   "cell_type": "code",
   "execution_count": 33,
   "metadata": {},
   "outputs": [
    {
     "data": {
      "image/png": "[encoded data removed]",
      "text/plain": [
       "<Figure size 432x288 with 2 Axes>"
      ]
     },
     "metadata": {
      "needs_background": "light"
     },
     "output_type": "display_data"
    },
    {
     "data": {
      "text/plain": [
       "<Figure size 432x288 with 0 Axes>"
      ]
     },
     "metadata": {},
     "output_type": "display_data"
    }
   ],
   "source": [
    "plt.contourf(full_pred_contour)\n",
    "plt.colorbar()\n",
    "plt.title(\"Predicted Bottom Solar Flux\")\n",
    "plt.xlabel(\"Longtitude\")\n",
    "plt.ylabel(\"Latitude\")\n",
    "plt.show()\n",
    "plt.savefig(\"Predicted\")"
   ]
  },
  {
   "cell_type": "code",
   "execution_count": 34,
   "metadata": {},
   "outputs": [
    {
     "data": {
      "image/png": "[encoded data removed]",
      "text/plain": [
       "<Figure size 432x288 with 2 Axes>"
      ]
     },
     "metadata": {
      "needs_background": "light"
     },
     "output_type": "display_data"
    }
   ],
   "source": [
    "plt.contourf(full_pred_contour - full_out_contour)\n",
    "plt.colorbar()\n",
    "plt.title(\"Difference\")\n",
    "plt.xlabel(\"Longtitude\")\n",
    "plt.ylabel(\"Latitude\")\n",
    "plt.show()"
   ]
  },
  {
   "cell_type": "code",
   "execution_count": 35,
   "metadata": {},
   "outputs": [
    {
     "data": {
      "image/png": "[encoded data removed]",
      "text/plain": [
       "<Figure size 432x288 with 2 Axes>"
      ]
     },
     "metadata": {
      "needs_background": "light"
     },
     "output_type": "display_data"
    }
   ],
   "source": [
    "plt.contourf((full_pred_contour - full_out_contour)/full_out_contour)\n",
    "plt.colorbar()\n",
    "plt.title(\"Relative Difference\")\n",
    "plt.xlabel(\"Longtitude\")\n",
    "plt.ylabel(\"Latitude\")\n",
    "plt.show()"
   ]
  },
  {
   "cell_type": "markdown",
   "metadata": {},
   "source": [
    "Predictor trying to just minimize MSE (not relative error):"
   ]
  },
  {
   "cell_type": "code",
   "execution_count": 36,
   "metadata": {},
   "outputs": [
    {
     "data": {
      "text/plain": [
       "LinearRegression(copy_X=True, fit_intercept=True, n_jobs=None, normalize=False)"
      ]
     },
     "execution_count": 36,
     "metadata": {},
     "output_type": "execute_result"
    }
   ],
   "source": [
    "from sklearn.model_selection import train_test_split\n",
    "from sklearn.linear_model import LinearRegression\n",
    "\n",
    "train_set, test_set = train_test_split(e_reml, test_size=0.2, random_state=42)\n",
    "\n",
    "train_in = train_set.iloc[:,:53] #training input\n",
    "train_out = train_set.iloc[:,53] #training output\n",
    "test_in = test_set.iloc[:,:53] #testing input \n",
    "test_out = test_set.iloc[:,53] #testing output\n",
    "\n",
    "ol = LinearRegression() #linear regression for large flux data\n",
    "ol.fit(train_in,train_out) #old linear regressor for large fluxes, equal weights (so relative error should be worse)"
   ]
  },
  {
   "cell_type": "code",
   "execution_count": 37,
   "metadata": {},
   "outputs": [
    {
     "name": "stdout",
     "output_type": "stream",
     "text": [
      "0.00713897030800581\n",
      "-0.011343170888721943\n"
     ]
    }
   ],
   "source": [
    "train_pred = ol.predict(train_in)\n",
    "print(np.max((train_pred - train_out)/train_out)) \n",
    "print(np.min((train_pred - train_out)/train_out)) #relative errors in training set here are pretty small:"
   ]
  },
  {
   "cell_type": "code",
   "execution_count": 38,
   "metadata": {},
   "outputs": [
    {
     "data": {
      "text/plain": [
       "LinearRegression(copy_X=True, fit_intercept=True, n_jobs=None, normalize=False)"
      ]
     },
     "execution_count": 38,
     "metadata": {},
     "output_type": "execute_result"
    }
   ],
   "source": [
    "train_set, test_set = train_test_split(e_remm, test_size=0.2, random_state=42)\n",
    "\n",
    "train_in = train_set.iloc[:,:53] #training input\n",
    "train_out = train_set.iloc[:,53] #training output\n",
    "test_in = test_set.iloc[:,:53] #testing input \n",
    "test_out = test_set.iloc[:,53] #testing output\n",
    "\n",
    "\n",
    "om = LinearRegression() #linear regression for middle flux data\n",
    "om.fit(train_in,train_out)"
   ]
  },
  {
   "cell_type": "code",
   "execution_count": 39,
   "metadata": {},
   "outputs": [
    {
     "name": "stdout",
     "output_type": "stream",
     "text": [
      "0.07799455523490906\n",
      "-2.136744260787964\n"
     ]
    }
   ],
   "source": [
    "train_pred = om.predict(train_in)\n",
    "print(np.max((train_pred - train_out)/train_out)) \n",
    "print(np.min((train_pred - train_out)/train_out)) #already large relative errors"
   ]
  },
  {
   "cell_type": "code",
   "execution_count": 40,
   "metadata": {},
   "outputs": [
    {
     "data": {
      "text/plain": [
       "LinearRegression(copy_X=True, fit_intercept=True, n_jobs=None, normalize=False)"
      ]
     },
     "execution_count": 40,
     "metadata": {},
     "output_type": "execute_result"
    }
   ],
   "source": [
    "train_set, test_set = train_test_split(e_rems, test_size=0.2, random_state=42)\n",
    "\n",
    "train_in = train_set.iloc[:,:53] #training input\n",
    "train_out = train_set.iloc[:,53] #training output\n",
    "test_in = test_set.iloc[:,:53] #testing input\n",
    "test_out = test_set.iloc[:,53] #testing output\n",
    "\n",
    "os = LinearRegression() #linear regression for small flux data\n",
    "os.fit(train_in,train_out) #old linear regressor for small fluxes"
   ]
  },
  {
   "cell_type": "code",
   "execution_count": 41,
   "metadata": {},
   "outputs": [
    {
     "name": "stdout",
     "output_type": "stream",
     "text": [
      "111.5554428100586\n",
      "-10205.75390625\n"
     ]
    }
   ],
   "source": [
    "train_pred = os.predict(train_in)\n",
    "print(np.max((train_pred - train_out)/train_out)) \n",
    "print(np.min((train_pred - train_out)/train_out)) #really large relative errors"
   ]
  },
  {
   "cell_type": "code",
   "execution_count": 42,
   "metadata": {},
   "outputs": [],
   "source": [
    "def oclp(in_data): #\"old\" custom linear predictor\n",
    "    in_data = np.array(in_data)\n",
    "    out_data = []\n",
    "    #lout_data, mout_data, sout_data = [], [], [] #get the seperate large, medium, small output data\n",
    "    #lr_data, lm_data, ls_data = [], [], []  #get the seperate large, medium, small real data (needs to be in the same order)\n",
    "    for instance in in_data:\n",
    "        if instance[52] > 235:\n",
    "            out_data.append(float(ol.predict(instance[:53].reshape(1,-1)))) #uses large flux predictor\n",
    "        elif instance[52] > 20:\n",
    "            out_data.append(float(om.predict(instance[:53].reshape(1,-1)))) #uses middle flux predictor \n",
    "        else:\n",
    "            out_data.append(float(os.predict(instance[:53].reshape(1,-1)))) #uses small flux predictor\n",
    "    return np.array(out_data)"
   ]
  },
  {
   "cell_type": "code",
   "execution_count": 43,
   "metadata": {},
   "outputs": [],
   "source": [
    "total_in = e_d.iloc[:,:53] #total input\n",
    "total_out = e_d.iloc[:,53] #total output"
   ]
  },
  {
   "cell_type": "code",
   "execution_count": 44,
   "metadata": {},
   "outputs": [],
   "source": [
    "total_o_pred = oclp(total_in) #total predicted with \"old\" predictor\n",
    "tore = np.array((total_o_pred - total_out)/total_out)#total old relative error"
   ]
  },
  {
   "cell_type": "code",
   "execution_count": 45,
   "metadata": {},
   "outputs": [
    {
     "data": {
      "text/plain": [
       "1.7241509252859069"
      ]
     },
     "execution_count": 45,
     "metadata": {},
     "output_type": "execute_result"
    }
   ],
   "source": [
    "from sklearn.metrics import mean_squared_error\n",
    "\n",
    "lin_mse = mean_squared_error(total_out, total_o_pred)\n",
    "lin_rmse = np.sqrt(lin_mse)\n",
    "lin_rmse  #lower, as expected"
   ]
  },
  {
   "cell_type": "code",
   "execution_count": 46,
   "metadata": {},
   "outputs": [
    {
     "data": {
      "text/plain": [
       "array(-1.33194555e+13)"
      ]
     },
     "execution_count": 46,
     "metadata": {},
     "output_type": "execute_result"
    }
   ],
   "source": [
    "np.array(int_err(total_o_pred, total_out, total_in, 3.39e6)) #smaller than the relative error method"
   ]
  },
  {
   "cell_type": "code",
   "execution_count": 47,
   "metadata": {},
   "outputs": [],
   "source": [
    "tore_contour = np.full((36, 72), np.nan)\n",
    "for index in ti_indices:\n",
    "    lat_point = index//72 - 36*5\n",
    "    long_point = index%72 - 1*72\n",
    "    tore_contour[lat_point][long_point] = tore[np.where(all_indices == index)]"
   ]
  },
  {
   "cell_type": "code",
   "execution_count": 48,
   "metadata": {},
   "outputs": [],
   "source": [
    "total_out = np.array(total_out)\n",
    "full_o_pred_contour = np.full((36, 72), np.nan)\n",
    "for index in ti_indices:\n",
    "    lat_point = index//72 - 36*5\n",
    "    long_point = index%72 - 1*72\n",
    "    full_o_pred_contour[lat_point][long_point] = total_o_pred[np.where(all_indices == index)]"
   ]
  },
  {
   "cell_type": "code",
   "execution_count": 49,
   "metadata": {},
   "outputs": [
    {
     "data": {
      "text/plain": [
       "1324"
      ]
     },
     "execution_count": 49,
     "metadata": {},
     "output_type": "execute_result"
    }
   ],
   "source": [
    "len(ti_indices) #non nan values"
   ]
  },
  {
   "cell_type": "code",
   "execution_count": 50,
   "metadata": {},
   "outputs": [
    {
     "data": {
      "text/plain": [
       "19"
      ]
     },
     "execution_count": 50,
     "metadata": {},
     "output_type": "execute_result"
    }
   ],
   "source": [
    "noo = 0 #number of outliers\n",
    "for i in range(36):\n",
    "    for j in range(72):\n",
    "        if(tore_contour[i,j] < -1 or tore_contour[i,j] > 1):\n",
    "            tore_contour[i,j] = np.nan\n",
    "            noo += 1\n",
    "noo #18/1320 is around 1.4%, pretty small"
   ]
  },
  {
   "cell_type": "code",
   "execution_count": 51,
   "metadata": {},
   "outputs": [
    {
     "data": {
      "image/png": "[encoded data removed]",
      "text/plain": [
       "<Figure size 432x288 with 2 Axes>"
      ]
     },
     "metadata": {
      "needs_background": "light"
     },
     "output_type": "display_data"
    }
   ],
   "source": [
    "plt.contourf(tore_contour) #vmin = -1, vmax = 1) #levels=np.linspace(-1,1,50))\n",
    "plt.colorbar()\n",
    "plt.title(\"Trimmed Relative Difference (Old linear regressors)\")\n",
    "plt.xlabel(\"Longtitude\")\n",
    "plt.ylabel(\"Latitude\")\n",
    "plt.show()"
   ]
  },
  {
   "cell_type": "code",
   "execution_count": 52,
   "metadata": {},
   "outputs": [
    {
     "data": {
      "image/png": "[encoded data removed]",
      "text/plain": [
       "<Figure size 432x288 with 2 Axes>"
      ]
     },
     "metadata": {
      "needs_background": "light"
     },
     "output_type": "display_data"
    }
   ],
   "source": [
    "plt.contourf(full_o_pred_contour)\n",
    "plt.colorbar()\n",
    "plt.title(\"Predicted Bottom Solar Flux\")\n",
    "plt.xlabel(\"Longtitude\")\n",
    "plt.ylabel(\"Latitude\")\n",
    "plt.show() #this also shows the right structure"
   ]
  },
  {
   "cell_type": "code",
   "execution_count": 53,
   "metadata": {},
   "outputs": [],
   "source": [
    "def rh(in_data): #shows which regressor handles which data\n",
    "    in_data = np.array(in_data)\n",
    "    out_data = []\n",
    "    for instance in in_data:\n",
    "        if instance[52] > 235:\n",
    "            out_data.append(2) \n",
    "        elif instance[52] > 20:\n",
    "            out_data.append(1)\n",
    "        else:\n",
    "            out_data.append(0)\n",
    "    return np.array(out_data)"
   ]
  },
  {
   "cell_type": "code",
   "execution_count": 54,
   "metadata": {},
   "outputs": [],
   "source": [
    "lr = rh(total_in) #labelling which regressor handles which data points\n",
    "\n",
    "lr_contour = np.full((36, 72), np.nan)\n",
    "for index in ti_indices:\n",
    "    lat_point = index//72 - 36*5\n",
    "    long_point = index%72 - 1*72\n",
    "    lr_contour[lat_point][long_point] = lr[np.where(all_indices == index)]"
   ]
  },
  {
   "cell_type": "code",
   "execution_count": 55,
   "metadata": {},
   "outputs": [
    {
     "data": {
      "image/png": "[encoded data removed]",
      "text/plain": [
       "<Figure size 432x288 with 2 Axes>"
      ]
     },
     "metadata": {
      "needs_background": "light"
     },
     "output_type": "display_data"
    },
    {
     "data": {
      "text/plain": [
       "<Figure size 432x288 with 0 Axes>"
      ]
     },
     "metadata": {},
     "output_type": "display_data"
    }
   ],
   "source": [
    "plt.contourf(lr_contour, levels=[0,0.5,1.5,2])\n",
    "plt.colorbar()\n",
    "plt.title(\"Labelling Regressors\")\n",
    "plt.xlabel(\"Longtitude\")\n",
    "plt.ylabel(\"Latitude\")\n",
    "plt.show()\n",
    "plt.savefig(\"Actual\")"
   ]
  },
  {
   "cell_type": "code",
   "execution_count": null,
   "metadata": {},
   "outputs": [],
   "source": []
  }
 ],
 "metadata": {
  "kernelspec": {
   "display_name": "Python 3",
   "language": "python",
   "name": "python3"
  },
  "language_info": {
   "codemirror_mode": {
    "name": "ipython",
    "version": 3
   },
   "file_extension": ".py",
   "mimetype": "text/x-python",
   "name": "python",
   "nbconvert_exporter": "python",
   "pygments_lexer": "ipython3",
   "version": "3.7.4"
  }
 },
 "nbformat": 4,
 "nbformat_minor": 2
}
