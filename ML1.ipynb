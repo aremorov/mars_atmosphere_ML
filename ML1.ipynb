{
 "cells": [
  {
   "cell_type": "code",
   "execution_count": 119,
   "metadata": {},
   "outputs": [],
   "source": [
    "import numpy as np\n",
    "import pandas as pd\n",
    "import matplotlib as mpl\n",
    "import matplotlib.pyplot as plt"
   ]
  },
  {
   "cell_type": "code",
   "execution_count": 120,
   "metadata": {},
   "outputs": [],
   "source": [
    "x_data = open(\"x_train\", \"r\")\n",
    "x_content = x_data.readlines()\n",
    "x_data.close()"
   ]
  },
  {
   "cell_type": "markdown",
   "metadata": {},
   "source": [
    "Making data usable:"
   ]
  },
  {
   "cell_type": "code",
   "execution_count": 121,
   "metadata": {},
   "outputs": [],
   "source": [
    "x_list = []\n",
    "\n",
    "for line in x_content:\n",
    "    new_line = []\n",
    "    for value in line.split():\n",
    "        new_line.append(float(value))\n",
    "    x_list.append(new_line)"
   ]
  },
  {
   "cell_type": "code",
   "execution_count": 122,
   "metadata": {},
   "outputs": [
    {
     "data": {
      "text/plain": [
       "array([[8.00e-02, 8.00e-02, 1.68e+00, 1.98e+02, 1.98e+02],\n",
       "       [8.00e-02, 8.00e-02, 1.69e+00, 1.98e+02, 1.98e+02],\n",
       "       [8.00e-02, 8.00e-02, 1.70e+00, 1.98e+02, 1.98e+02],\n",
       "       ...,\n",
       "       [1.20e-01, 1.20e-01, 1.70e+00, 2.02e+02, 2.02e+02],\n",
       "       [1.20e-01, 1.20e-01, 1.71e+00, 2.02e+02, 2.02e+02],\n",
       "       [1.20e-01, 1.20e-01, 1.72e+00, 2.02e+02, 2.02e+02]])"
      ]
     },
     "execution_count": 122,
     "metadata": {},
     "output_type": "execute_result"
    }
   ],
   "source": [
    "x_list=np.array(x_list)\n",
    "x_list"
   ]
  },
  {
   "cell_type": "code",
   "execution_count": 123,
   "metadata": {},
   "outputs": [],
   "source": [
    "x_train = pd.DataFrame(\n",
    "    x_list,\n",
    "    columns=[\"albi\", \"albv\", \"gtd\", \"tstrat\", \"tautot\"]) #don't need to do this..."
   ]
  },
  {
   "cell_type": "code",
   "execution_count": 124,
   "metadata": {},
   "outputs": [
    {
     "data": {
      "text/html": [
       "<div>\n",
       "<style scoped>\n",
       "    .dataframe tbody tr th:only-of-type {\n",
       "        vertical-align: middle;\n",
       "    }\n",
       "\n",
       "    .dataframe tbody tr th {\n",
       "        vertical-align: top;\n",
       "    }\n",
       "\n",
       "    .dataframe thead th {\n",
       "        text-align: right;\n",
       "    }\n",
       "</style>\n",
       "<table border=\"1\" class=\"dataframe\">\n",
       "  <thead>\n",
       "    <tr style=\"text-align: right;\">\n",
       "      <th></th>\n",
       "      <th>albi</th>\n",
       "      <th>albv</th>\n",
       "      <th>gtd</th>\n",
       "      <th>tstrat</th>\n",
       "      <th>tautot</th>\n",
       "    </tr>\n",
       "  </thead>\n",
       "  <tbody>\n",
       "    <tr>\n",
       "      <td>0</td>\n",
       "      <td>0.08</td>\n",
       "      <td>0.08</td>\n",
       "      <td>1.68</td>\n",
       "      <td>198.0</td>\n",
       "      <td>198.0</td>\n",
       "    </tr>\n",
       "    <tr>\n",
       "      <td>1</td>\n",
       "      <td>0.08</td>\n",
       "      <td>0.08</td>\n",
       "      <td>1.69</td>\n",
       "      <td>198.0</td>\n",
       "      <td>198.0</td>\n",
       "    </tr>\n",
       "    <tr>\n",
       "      <td>2</td>\n",
       "      <td>0.08</td>\n",
       "      <td>0.08</td>\n",
       "      <td>1.70</td>\n",
       "      <td>198.0</td>\n",
       "      <td>198.0</td>\n",
       "    </tr>\n",
       "    <tr>\n",
       "      <td>3</td>\n",
       "      <td>0.08</td>\n",
       "      <td>0.08</td>\n",
       "      <td>1.71</td>\n",
       "      <td>198.0</td>\n",
       "      <td>198.0</td>\n",
       "    </tr>\n",
       "    <tr>\n",
       "      <td>4</td>\n",
       "      <td>0.08</td>\n",
       "      <td>0.08</td>\n",
       "      <td>1.72</td>\n",
       "      <td>198.0</td>\n",
       "      <td>198.0</td>\n",
       "    </tr>\n",
       "    <tr>\n",
       "      <td>...</td>\n",
       "      <td>...</td>\n",
       "      <td>...</td>\n",
       "      <td>...</td>\n",
       "      <td>...</td>\n",
       "      <td>...</td>\n",
       "    </tr>\n",
       "    <tr>\n",
       "      <td>3120</td>\n",
       "      <td>0.12</td>\n",
       "      <td>0.12</td>\n",
       "      <td>1.68</td>\n",
       "      <td>202.0</td>\n",
       "      <td>202.0</td>\n",
       "    </tr>\n",
       "    <tr>\n",
       "      <td>3121</td>\n",
       "      <td>0.12</td>\n",
       "      <td>0.12</td>\n",
       "      <td>1.69</td>\n",
       "      <td>202.0</td>\n",
       "      <td>202.0</td>\n",
       "    </tr>\n",
       "    <tr>\n",
       "      <td>3122</td>\n",
       "      <td>0.12</td>\n",
       "      <td>0.12</td>\n",
       "      <td>1.70</td>\n",
       "      <td>202.0</td>\n",
       "      <td>202.0</td>\n",
       "    </tr>\n",
       "    <tr>\n",
       "      <td>3123</td>\n",
       "      <td>0.12</td>\n",
       "      <td>0.12</td>\n",
       "      <td>1.71</td>\n",
       "      <td>202.0</td>\n",
       "      <td>202.0</td>\n",
       "    </tr>\n",
       "    <tr>\n",
       "      <td>3124</td>\n",
       "      <td>0.12</td>\n",
       "      <td>0.12</td>\n",
       "      <td>1.72</td>\n",
       "      <td>202.0</td>\n",
       "      <td>202.0</td>\n",
       "    </tr>\n",
       "  </tbody>\n",
       "</table>\n",
       "<p>3125 rows × 5 columns</p>\n",
       "</div>"
      ],
      "text/plain": [
       "      albi  albv   gtd  tstrat  tautot\n",
       "0     0.08  0.08  1.68   198.0   198.0\n",
       "1     0.08  0.08  1.69   198.0   198.0\n",
       "2     0.08  0.08  1.70   198.0   198.0\n",
       "3     0.08  0.08  1.71   198.0   198.0\n",
       "4     0.08  0.08  1.72   198.0   198.0\n",
       "...    ...   ...   ...     ...     ...\n",
       "3120  0.12  0.12  1.68   202.0   202.0\n",
       "3121  0.12  0.12  1.69   202.0   202.0\n",
       "3122  0.12  0.12  1.70   202.0   202.0\n",
       "3123  0.12  0.12  1.71   202.0   202.0\n",
       "3124  0.12  0.12  1.72   202.0   202.0\n",
       "\n",
       "[3125 rows x 5 columns]"
      ]
     },
     "execution_count": 124,
     "metadata": {},
     "output_type": "execute_result"
    }
   ],
   "source": [
    "x_train"
   ]
  },
  {
   "cell_type": "code",
   "execution_count": 125,
   "metadata": {},
   "outputs": [],
   "source": [
    "Y_data = open(\"Y_train\", \"r\")\n",
    "Y_content = Y_data.readlines()\n",
    "Y_data.close()"
   ]
  },
  {
   "cell_type": "code",
   "execution_count": 126,
   "metadata": {},
   "outputs": [],
   "source": [
    "Y_list = []\n",
    "\n",
    "for line in Y_content:\n",
    "    new_line = []\n",
    "    for value in line.split():\n",
    "        new_line.append(float(value))\n",
    "    Y_list.append(new_line)"
   ]
  },
  {
   "cell_type": "code",
   "execution_count": 127,
   "metadata": {},
   "outputs": [
    {
     "data": {
      "text/plain": [
       "array([[ 2.00000e-06,  9.09846e+01,  8.35616e+01, ..., -2.20044e+01,\n",
       "         5.25100e+01,  2.00000e+02],\n",
       "       [ 2.00000e-06,  9.12543e+01,  8.35683e+01, ..., -2.20586e+01,\n",
       "         5.28273e+01,  2.00000e+02],\n",
       "       [ 2.00000e-06,  9.15236e+01,  8.35749e+01, ..., -2.21123e+01,\n",
       "         5.31440e+01,  2.00000e+02],\n",
       "       ...,\n",
       "       [ 2.00000e-06,  1.01840e+02,  8.56081e+01, ..., -2.15498e+01,\n",
       "         5.72009e+01,  2.00000e+02],\n",
       "       [ 2.00000e-06,  1.02058e+02,  8.56110e+01, ..., -2.15983e+01,\n",
       "         5.75336e+01,  2.00000e+02],\n",
       "       [ 2.00000e-06,  1.02276e+02,  8.56139e+01, ..., -2.16464e+01,\n",
       "         5.78658e+01,  2.00000e+02]])"
      ]
     },
     "execution_count": 127,
     "metadata": {},
     "output_type": "execute_result"
    }
   ],
   "source": [
    "Y_list=np.array(Y_list)\n",
    "Y_list=np.array(Y_list)\n",
    "Y_list"
   ]
  },
  {
   "cell_type": "markdown",
   "metadata": {},
   "source": [
    "Now the input and output data is conveniently in numpy arrays"
   ]
  },
  {
   "cell_type": "code",
   "execution_count": 128,
   "metadata": {},
   "outputs": [
    {
     "data": {
      "text/plain": [
       "(3125, 365)"
      ]
     },
     "execution_count": 128,
     "metadata": {},
     "output_type": "execute_result"
    }
   ],
   "source": [
    "overall_list = np.concatenate((x_list, Y_list), axis=1)\n",
    "overall_list = np.array(overall_list)\n",
    "overall_list.shape"
   ]
  },
  {
   "cell_type": "markdown",
   "metadata": {},
   "source": [
    "The data should be standardized so error scores would make sense and different algorithms can be compared:"
   ]
  },
  {
   "cell_type": "code",
   "execution_count": 129,
   "metadata": {},
   "outputs": [],
   "source": [
    "central_x = x_list[1562] #central x_point\n",
    "central_Y = Y_list[1562] #central y_point"
   ]
  },
  {
   "cell_type": "code",
   "execution_count": 130,
   "metadata": {},
   "outputs": [],
   "source": [
    "x_std_list = []\n",
    "for i in range(len(x_list.T)):\n",
    "    x_std_list.append(np.std(x_list[:,i]))\n",
    "#x_std_list #gets standard deviation for each input parameter"
   ]
  },
  {
   "cell_type": "code",
   "execution_count": 131,
   "metadata": {},
   "outputs": [],
   "source": [
    "Y_std_list = []\n",
    "for i in range(len(Y_list.T)):\n",
    "    Y_std_list.append(np.std(Y_list[:,i]))\n",
    "#Y_std_list #gets standard deviation for each output parameter"
   ]
  },
  {
   "cell_type": "code",
   "execution_count": 132,
   "metadata": {},
   "outputs": [
    {
     "name": "stderr",
     "output_type": "stream",
     "text": [
      "C:\\Users\\andre\\Anaconda3\\lib\\site-packages\\ipykernel_launcher.py:2: RuntimeWarning: invalid value encountered in true_divide\n",
      "  \n"
     ]
    }
   ],
   "source": [
    "x_stand = (x_list-central_x)/np.array(x_std_list)\n",
    "Y_stand = (Y_list-central_Y)/np.array(Y_std_list) \n",
    "Y_stand[np.isnan(Y_stand)] = 0 #standardizes data"
   ]
  },
  {
   "cell_type": "code",
   "execution_count": 133,
   "metadata": {},
   "outputs": [
    {
     "data": {
      "text/plain": [
       "array([[-1.41421356, -1.41421356, -1.41421356, -1.41421356, -1.41421356],\n",
       "       [-1.41421356, -1.41421356, -0.70710678, -1.41421356, -1.41421356],\n",
       "       [-1.41421356, -1.41421356,  0.        , -1.41421356, -1.41421356],\n",
       "       ...,\n",
       "       [ 1.41421356,  1.41421356,  0.        ,  1.41421356,  1.41421356],\n",
       "       [ 1.41421356,  1.41421356,  0.70710678,  1.41421356,  1.41421356],\n",
       "       [ 1.41421356,  1.41421356,  1.41421356,  1.41421356,  1.41421356]])"
      ]
     },
     "execution_count": 133,
     "metadata": {},
     "output_type": "execute_result"
    }
   ],
   "source": [
    "x_stand"
   ]
  },
  {
   "cell_type": "code",
   "execution_count": 73,
   "metadata": {},
   "outputs": [
    {
     "data": {
      "text/plain": [
       "array([[ 0.        , -1.54775812, -0.83713479, ..., -0.47745007,\n",
       "        -1.94099266,  0.        ],\n",
       "       [ 0.        , -1.47415022, -0.83172976, ..., -0.59496957,\n",
       "        -1.71289008,  0.        ],\n",
       "       [ 0.        , -1.4006515 , -0.8264054 , ..., -0.71140494,\n",
       "        -1.48521883,  0.        ],\n",
       "       ...,\n",
       "       [ 0.        ,  1.41495277,  0.81382054, ...,  0.50823931,\n",
       "         1.43123048,  0.        ],\n",
       "       [ 0.        ,  1.47445044,  0.81616004, ...,  0.40307887,\n",
       "         1.67040391,  0.        ],\n",
       "       [ 0.        ,  1.53394811,  0.81849953, ...,  0.29878574,\n",
       "         1.90921789,  0.        ]])"
      ]
     },
     "execution_count": 73,
     "metadata": {},
     "output_type": "execute_result"
    }
   ],
   "source": [
    "Y_stand"
   ]
  },
  {
   "cell_type": "code",
   "execution_count": 79,
   "metadata": {},
   "outputs": [],
   "source": [
    "adjusted_overall = np.concatenate((x_stand, Y_stand), axis=1)\n",
    "adjusted_overall = np.array(adjusted_overall) #final standardized set"
   ]
  },
  {
   "cell_type": "markdown",
   "metadata": {},
   "source": [
    "Now get training and test sets:"
   ]
  },
  {
   "cell_type": "code",
   "execution_count": 80,
   "metadata": {},
   "outputs": [],
   "source": [
    "from sklearn.model_selection import train_test_split\n",
    "\n",
    "train_set, test_set = train_test_split(adjusted_overall, test_size=0.2, random_state=42)"
   ]
  },
  {
   "cell_type": "code",
   "execution_count": 82,
   "metadata": {},
   "outputs": [
    {
     "data": {
      "text/plain": [
       "(625, 365)"
      ]
     },
     "execution_count": 82,
     "metadata": {},
     "output_type": "execute_result"
    }
   ],
   "source": [
    "test_set.shape"
   ]
  },
  {
   "cell_type": "code",
   "execution_count": 110,
   "metadata": {},
   "outputs": [
    {
     "name": "stdout",
     "output_type": "stream",
     "text": [
      "(2500, 5)\n",
      "(2500, 360)\n"
     ]
    },
    {
     "data": {
      "text/plain": [
       "array([[-0.70710678, -1.41421356,  0.        , -1.41421356,  0.        ],\n",
       "       [ 0.70710678,  1.41421356, -1.41421356,  1.41421356,  1.41421356],\n",
       "       [ 0.70710678,  0.70710678,  1.41421356, -1.41421356,  0.70710678],\n",
       "       ...,\n",
       "       [-0.70710678,  1.41421356, -1.41421356, -1.41421356, -0.70710678],\n",
       "       [ 0.        , -1.41421356,  1.41421356, -0.70710678,  0.70710678],\n",
       "       [-0.70710678, -0.70710678, -1.41421356,  1.41421356,  0.        ]])"
      ]
     },
     "execution_count": 110,
     "metadata": {},
     "output_type": "execute_result"
    }
   ],
   "source": [
    "train_input = train_set[:,:5] #trainng input\n",
    "train_output = train_set[:,5:] #training output\n",
    "test_input = test_set[:,:5] #training input\n",
    "test_output = test_set[:,5:] #training output\n",
    "\n",
    "\n",
    "print(train_input.shape)#training input\n",
    "print(train_output.shape)# training ouput\n",
    "train_input"
   ]
  },
  {
   "cell_type": "code",
   "execution_count": 96,
   "metadata": {},
   "outputs": [
    {
     "data": {
      "text/plain": [
       "LinearRegression(copy_X=True, fit_intercept=True, n_jobs=None, normalize=False)"
      ]
     },
     "execution_count": 96,
     "metadata": {},
     "output_type": "execute_result"
    }
   ],
   "source": [
    "#try linear regression:\n",
    "from sklearn.linear_model import LinearRegression\n",
    "\n",
    "lin_reg = LinearRegression()\n",
    "lin_reg.fit(train_input, train_output)"
   ]
  },
  {
   "cell_type": "code",
   "execution_count": 97,
   "metadata": {},
   "outputs": [
    {
     "data": {
      "text/plain": [
       "0.09178811627799546"
      ]
     },
     "execution_count": 97,
     "metadata": {},
     "output_type": "execute_result"
    }
   ],
   "source": [
    "from sklearn.metrics import mean_squared_error\n",
    "\n",
    "train_predict = lin_reg.predict(train_input)\n",
    "lin_mse = mean_squared_error(train_output, train_predict)\n",
    "lin_rmse = np.sqrt(lin_mse)\n",
    "lin_rmse "
   ]
  },
  {
   "cell_type": "code",
   "execution_count": 102,
   "metadata": {},
   "outputs": [
    {
     "data": {
      "text/plain": [
       "DecisionTreeRegressor(criterion='mse', max_depth=None, max_features=None,\n",
       "                      max_leaf_nodes=None, min_impurity_decrease=0.0,\n",
       "                      min_impurity_split=None, min_samples_leaf=1,\n",
       "                      min_samples_split=2, min_weight_fraction_leaf=0.0,\n",
       "                      presort=False, random_state=42, splitter='best')"
      ]
     },
     "execution_count": 102,
     "metadata": {},
     "output_type": "execute_result"
    }
   ],
   "source": [
    "from sklearn.tree import DecisionTreeRegressor #now try some other ML algorithm\n",
    "\n",
    "tree_reg = DecisionTreeRegressor(random_state=42)\n",
    "tree_reg.fit(train_input, train_output)"
   ]
  },
  {
   "cell_type": "code",
   "execution_count": 103,
   "metadata": {},
   "outputs": [
    {
     "data": {
      "text/plain": [
       "0.0"
      ]
     },
     "execution_count": 103,
     "metadata": {},
     "output_type": "execute_result"
    }
   ],
   "source": [
    "train_predict = tree_reg.predict(train_input)\n",
    "lin_mse = mean_squared_error(train_output, train_predict)\n",
    "lin_rmse = np.sqrt(lin_mse)\n",
    "lin_rmse #overfit?"
   ]
  },
  {
   "cell_type": "code",
   "execution_count": 104,
   "metadata": {},
   "outputs": [],
   "source": [
    "from sklearn.model_selection import cross_val_score\n",
    "\n",
    "scores = cross_val_score(tree_reg, train_input, train_output,\n",
    "                         scoring=\"neg_mean_squared_error\", cv=10)\n",
    "tree_rmse_scores = np.sqrt(-scores)"
   ]
  },
  {
   "cell_type": "code",
   "execution_count": 105,
   "metadata": {},
   "outputs": [],
   "source": [
    "lin_scores = cross_val_score(lin_reg, train_input, train_output,\n",
    "                             scoring=\"neg_mean_squared_error\", cv=10)\n",
    "lin_rmse_scores = np.sqrt(-lin_scores)\n"
   ]
  },
  {
   "cell_type": "code",
   "execution_count": 106,
   "metadata": {},
   "outputs": [],
   "source": [
    "def display_scores(scores):\n",
    "    print(\"Scores:\", scores)\n",
    "    print(\"Mean:\", scores.mean())\n",
    "    print(\"Standard deviation:\", scores.std())\n",
    "\n"
   ]
  },
  {
   "cell_type": "code",
   "execution_count": 107,
   "metadata": {},
   "outputs": [
    {
     "name": "stdout",
     "output_type": "stream",
     "text": [
      "Scores: [0.14869552 0.1455808  0.14408417 0.14678681 0.14138032 0.14962443\n",
      " 0.14356079 0.13942225 0.14042499 0.1465968 ]\n",
      "Mean: 0.14461568905968222\n",
      "Standard deviation: 0.0032817560941252218\n"
     ]
    }
   ],
   "source": [
    "display_scores(tree_rmse_scores)"
   ]
  },
  {
   "cell_type": "code",
   "execution_count": 108,
   "metadata": {},
   "outputs": [
    {
     "name": "stdout",
     "output_type": "stream",
     "text": [
      "Scores: [0.08830606 0.09392711 0.0914475  0.09485973 0.09582984 0.09308254\n",
      " 0.09210176 0.08669882 0.08988807 0.09345168]\n",
      "Mean: 0.09195931136349891\n",
      "Standard deviation: 0.0027630731812358757\n"
     ]
    }
   ],
   "source": [
    "display_scores(lin_rmse_scores) #comparable errors..."
   ]
  },
  {
   "cell_type": "markdown",
   "metadata": {},
   "source": [
    "Trying decision tree and linear regression on test set:"
   ]
  },
  {
   "cell_type": "code",
   "execution_count": 111,
   "metadata": {},
   "outputs": [
    {
     "data": {
      "text/plain": [
       "0.136729501916013"
      ]
     },
     "execution_count": 111,
     "metadata": {},
     "output_type": "execute_result"
    }
   ],
   "source": [
    "test_predict = tree_reg.predict(test_input) #tree\n",
    "lin_mse = mean_squared_error(test_output, test_predict)\n",
    "lin_rmse = np.sqrt(lin_mse)\n",
    "lin_rmse"
   ]
  },
  {
   "cell_type": "code",
   "execution_count": 112,
   "metadata": {},
   "outputs": [
    {
     "data": {
      "text/plain": [
       "0.0923414554994554"
      ]
     },
     "execution_count": 112,
     "metadata": {},
     "output_type": "execute_result"
    }
   ],
   "source": [
    "test_predict = lin_reg.predict(test_input) #linear regression\n",
    "lin_mse = mean_squared_error(test_output, test_predict)\n",
    "lin_rmse = np.sqrt(lin_mse)\n",
    "lin_rmse #not bad!"
   ]
  },
  {
   "cell_type": "code",
   "execution_count": null,
   "metadata": {},
   "outputs": [],
   "source": []
  }
 ],
 "metadata": {
  "kernelspec": {
   "display_name": "Python 3",
   "language": "python",
   "name": "python3"
  },
  "language_info": {
   "codemirror_mode": {
    "name": "ipython",
    "version": 3
   },
   "file_extension": ".py",
   "mimetype": "text/x-python",
   "name": "python",
   "nbconvert_exporter": "python",
   "pygments_lexer": "ipython3",
   "version": "3.7.4"
  }
 },
 "nbformat": 4,
 "nbformat_minor": 2
}
