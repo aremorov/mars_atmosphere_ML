{
 "cells": [
  {
   "cell_type": "markdown",
   "metadata": {},
   "source": [
    "Trying a linear regression for values below a certain threshold, less than 10% of the average."
   ]
  },
  {
   "cell_type": "code",
   "execution_count": 1,
   "metadata": {},
   "outputs": [],
   "source": [
    "import xarray as xr\n",
    "import matplotlib.pyplot as plt\n",
    "import numpy as np\n",
    "import pandas as pd"
   ]
  },
  {
   "cell_type": "code",
   "execution_count": 2,
   "metadata": {},
   "outputs": [],
   "source": [
    "dataDIR = 'short'\n",
    "DS = xr.open_dataset(dataDIR)"
   ]
  },
  {
   "cell_type": "code",
   "execution_count": 3,
   "metadata": {},
   "outputs": [],
   "source": [
    "#Temperature:\n",
    "T = (DS.T.values + DS.T0) * ((DS.P.values + DS.PB.values)/DS.P0)**(DS.R_D/DS.CP)"
   ]
  },
  {
   "cell_type": "code",
   "execution_count": 4,
   "metadata": {},
   "outputs": [
    {
     "data": {
      "text/plain": [
       "(240, 52, 36, 72)"
      ]
     },
     "execution_count": 4,
     "metadata": {},
     "output_type": "execute_result"
    }
   ],
   "source": [
    "T.shape #days, height, latitude, longtitude"
   ]
  },
  {
   "cell_type": "code",
   "execution_count": 5,
   "metadata": {
    "scrolled": true
   },
   "outputs": [
    {
     "data": {
      "image/png": "[encoded data removed]",
      "text/plain": [
       "<Figure size 432x288 with 2 Axes>"
      ]
     },
     "metadata": {
      "needs_background": "light"
     },
     "output_type": "display_data"
    }
   ],
   "source": [
    "example_data = T[50,5,:, :]\n",
    "plt.contourf(example_data)\n",
    "plt.colorbar()\n",
    "plt.title(\"Temperature Profile\")\n",
    "plt.show()"
   ]
  },
  {
   "cell_type": "code",
   "execution_count": 6,
   "metadata": {},
   "outputs": [],
   "source": [
    "albedo = DS.ALBEDO.values"
   ]
  },
  {
   "cell_type": "code",
   "execution_count": 7,
   "metadata": {},
   "outputs": [
    {
     "data": {
      "text/plain": [
       "(240, 36, 72)"
      ]
     },
     "execution_count": 7,
     "metadata": {},
     "output_type": "execute_result"
    }
   ],
   "source": [
    "albedo.shape #days, latitude, longtitude"
   ]
  },
  {
   "cell_type": "code",
   "execution_count": 8,
   "metadata": {},
   "outputs": [],
   "source": [
    "st = DS.TSK.values"
   ]
  },
  {
   "cell_type": "code",
   "execution_count": 9,
   "metadata": {},
   "outputs": [
    {
     "data": {
      "text/plain": [
       "(240, 36, 72)"
      ]
     },
     "execution_count": 9,
     "metadata": {},
     "output_type": "execute_result"
    }
   ],
   "source": [
    "st.shape"
   ]
  },
  {
   "cell_type": "code",
   "execution_count": 10,
   "metadata": {},
   "outputs": [],
   "source": [
    "d_c = DS.TAU_OD.values"
   ]
  },
  {
   "cell_type": "code",
   "execution_count": 11,
   "metadata": {},
   "outputs": [
    {
     "data": {
      "text/plain": [
       "(240, 52, 36, 72)"
      ]
     },
     "execution_count": 11,
     "metadata": {},
     "output_type": "execute_result"
    }
   ],
   "source": [
    "d_c.shape "
   ]
  },
  {
   "cell_type": "code",
   "execution_count": 12,
   "metadata": {},
   "outputs": [],
   "source": [
    "tsf = DS.TOASW.values #top solar flux"
   ]
  },
  {
   "cell_type": "code",
   "execution_count": 13,
   "metadata": {},
   "outputs": [
    {
     "data": {
      "text/plain": [
       "(240, 36, 72)"
      ]
     },
     "execution_count": 13,
     "metadata": {},
     "output_type": "execute_result"
    }
   ],
   "source": [
    "tsf.shape"
   ]
  },
  {
   "cell_type": "code",
   "execution_count": 14,
   "metadata": {},
   "outputs": [],
   "source": [
    "albedo = DS.ALBEDO.values"
   ]
  },
  {
   "cell_type": "code",
   "execution_count": 15,
   "metadata": {},
   "outputs": [],
   "source": [
    "bsf = DS.GSW.values #bottom solar flux, ouput"
   ]
  },
  {
   "cell_type": "code",
   "execution_count": 16,
   "metadata": {},
   "outputs": [],
   "source": [
    "bsf2 = bsf/(1-albedo)"
   ]
  },
  {
   "cell_type": "code",
   "execution_count": 17,
   "metadata": {},
   "outputs": [
    {
     "data": {
      "text/plain": [
       "(240, 36, 72)"
      ]
     },
     "execution_count": 17,
     "metadata": {},
     "output_type": "execute_result"
    }
   ],
   "source": [
    "bsf.shape"
   ]
  },
  {
   "cell_type": "markdown",
   "metadata": {},
   "source": [
    "Let's combine the data together for one time snapshot, full latitude and longitude:"
   ]
  },
  {
   "cell_type": "code",
   "execution_count": 18,
   "metadata": {},
   "outputs": [],
   "source": [
    "e_t = [] #equator input and output\n",
    "#input:\n",
    "for i in range(36):\n",
    "    for j in range(72):\n",
    "        input_array = list(T[3,:,i,j]) #start with temp profile\n",
    "        input_array+=list(d_c[3,:,i,j]) #add dust profile\n",
    "        input_array.append(st[3,i,j])#add surface temp\n",
    "        input_array.append(tsf[3,i,j]) #add top solar flux, without the albedo factor\n",
    "        input_array.append(bsf2[3,i,j])            \n",
    "        e_t.append(input_array) #appends input to input array"
   ]
  },
  {
   "cell_type": "code",
   "execution_count": 19,
   "metadata": {},
   "outputs": [
    {
     "data": {
      "text/plain": [
       "(2592, 107)"
      ]
     },
     "execution_count": 19,
     "metadata": {},
     "output_type": "execute_result"
    }
   ],
   "source": [
    "e_t = np.array(e_t)\n",
    "e_t.shape"
   ]
  },
  {
   "cell_type": "code",
   "execution_count": 20,
   "metadata": {},
   "outputs": [],
   "source": [
    "e_d = pd.DataFrame(e_t) "
   ]
  },
  {
   "cell_type": "code",
   "execution_count": 21,
   "metadata": {},
   "outputs": [],
   "source": [
    "e_rems = e_d[e_d.iloc[:,105] < 20] #remove small values, less than 10% of the average\n",
    "e_rems0 = e_rems[e_rems.iloc[:,105] != 0] #remove 0"
   ]
  },
  {
   "cell_type": "code",
   "execution_count": 22,
   "metadata": {},
   "outputs": [
    {
     "data": {
      "text/html": [
       "<div>\n",
       "<style scoped>\n",
       "    .dataframe tbody tr th:only-of-type {\n",
       "        vertical-align: middle;\n",
       "    }\n",
       "\n",
       "    .dataframe tbody tr th {\n",
       "        vertical-align: top;\n",
       "    }\n",
       "\n",
       "    .dataframe thead th {\n",
       "        text-align: right;\n",
       "    }\n",
       "</style>\n",
       "<table border=\"1\" class=\"dataframe\">\n",
       "  <thead>\n",
       "    <tr style=\"text-align: right;\">\n",
       "      <th></th>\n",
       "      <th>0</th>\n",
       "      <th>1</th>\n",
       "      <th>2</th>\n",
       "      <th>3</th>\n",
       "      <th>4</th>\n",
       "      <th>5</th>\n",
       "      <th>6</th>\n",
       "      <th>7</th>\n",
       "      <th>8</th>\n",
       "      <th>9</th>\n",
       "      <th>...</th>\n",
       "      <th>97</th>\n",
       "      <th>98</th>\n",
       "      <th>99</th>\n",
       "      <th>100</th>\n",
       "      <th>101</th>\n",
       "      <th>102</th>\n",
       "      <th>103</th>\n",
       "      <th>104</th>\n",
       "      <th>105</th>\n",
       "      <th>106</th>\n",
       "    </tr>\n",
       "  </thead>\n",
       "  <tbody>\n",
       "    <tr>\n",
       "      <td>365</td>\n",
       "      <td>147.742233</td>\n",
       "      <td>147.876221</td>\n",
       "      <td>147.798431</td>\n",
       "      <td>147.582657</td>\n",
       "      <td>147.316147</td>\n",
       "      <td>147.010193</td>\n",
       "      <td>146.718155</td>\n",
       "      <td>146.459152</td>\n",
       "      <td>146.275452</td>\n",
       "      <td>146.138046</td>\n",
       "      <td>...</td>\n",
       "      <td>4.746388e-08</td>\n",
       "      <td>3.247288e-08</td>\n",
       "      <td>2.146511e-08</td>\n",
       "      <td>1.358391e-08</td>\n",
       "      <td>8.082941e-09</td>\n",
       "      <td>4.437911e-09</td>\n",
       "      <td>2.266124e-09</td>\n",
       "      <td>146.207458</td>\n",
       "      <td>19.076994</td>\n",
       "      <td>10.461836</td>\n",
       "    </tr>\n",
       "    <tr>\n",
       "      <td>366</td>\n",
       "      <td>146.992935</td>\n",
       "      <td>147.033279</td>\n",
       "      <td>146.897354</td>\n",
       "      <td>146.657303</td>\n",
       "      <td>146.401001</td>\n",
       "      <td>146.140060</td>\n",
       "      <td>145.907166</td>\n",
       "      <td>145.699799</td>\n",
       "      <td>145.584686</td>\n",
       "      <td>145.511551</td>\n",
       "      <td>...</td>\n",
       "      <td>4.680932e-08</td>\n",
       "      <td>3.202883e-08</td>\n",
       "      <td>2.117563e-08</td>\n",
       "      <td>1.340510e-08</td>\n",
       "      <td>7.981376e-09</td>\n",
       "      <td>4.387530e-09</td>\n",
       "      <td>2.246240e-09</td>\n",
       "      <td>146.112839</td>\n",
       "      <td>11.867635</td>\n",
       "      <td>5.595775</td>\n",
       "    </tr>\n",
       "    <tr>\n",
       "      <td>367</td>\n",
       "      <td>146.815872</td>\n",
       "      <td>146.786224</td>\n",
       "      <td>146.616119</td>\n",
       "      <td>146.370193</td>\n",
       "      <td>146.150024</td>\n",
       "      <td>145.991486</td>\n",
       "      <td>145.853104</td>\n",
       "      <td>145.729507</td>\n",
       "      <td>145.661575</td>\n",
       "      <td>145.585510</td>\n",
       "      <td>...</td>\n",
       "      <td>4.570702e-08</td>\n",
       "      <td>3.128103e-08</td>\n",
       "      <td>2.068814e-08</td>\n",
       "      <td>1.310398e-08</td>\n",
       "      <td>7.810339e-09</td>\n",
       "      <td>4.302689e-09</td>\n",
       "      <td>2.212756e-09</td>\n",
       "      <td>145.951523</td>\n",
       "      <td>3.181386</td>\n",
       "      <td>1.315890</td>\n",
       "    </tr>\n",
       "    <tr>\n",
       "      <td>427</td>\n",
       "      <td>146.899933</td>\n",
       "      <td>146.991150</td>\n",
       "      <td>146.902206</td>\n",
       "      <td>146.694473</td>\n",
       "      <td>146.469559</td>\n",
       "      <td>146.313034</td>\n",
       "      <td>146.195755</td>\n",
       "      <td>146.288956</td>\n",
       "      <td>147.293808</td>\n",
       "      <td>148.554672</td>\n",
       "      <td>...</td>\n",
       "      <td>4.364940e-08</td>\n",
       "      <td>2.988514e-08</td>\n",
       "      <td>1.977816e-08</td>\n",
       "      <td>1.254188e-08</td>\n",
       "      <td>7.491068e-09</td>\n",
       "      <td>4.144317e-09</td>\n",
       "      <td>2.150250e-09</td>\n",
       "      <td>145.630722</td>\n",
       "      <td>3.187869</td>\n",
       "      <td>1.320547</td>\n",
       "    </tr>\n",
       "    <tr>\n",
       "      <td>428</td>\n",
       "      <td>147.281326</td>\n",
       "      <td>147.384018</td>\n",
       "      <td>147.293030</td>\n",
       "      <td>147.083298</td>\n",
       "      <td>146.838791</td>\n",
       "      <td>146.582916</td>\n",
       "      <td>146.332260</td>\n",
       "      <td>145.991669</td>\n",
       "      <td>146.103104</td>\n",
       "      <td>146.886581</td>\n",
       "      <td>...</td>\n",
       "      <td>4.493587e-08</td>\n",
       "      <td>3.075788e-08</td>\n",
       "      <td>2.034710e-08</td>\n",
       "      <td>1.289332e-08</td>\n",
       "      <td>7.690682e-09</td>\n",
       "      <td>4.243334e-09</td>\n",
       "      <td>2.189330e-09</td>\n",
       "      <td>145.828445</td>\n",
       "      <td>11.873467</td>\n",
       "      <td>5.667850</td>\n",
       "    </tr>\n",
       "    <tr>\n",
       "      <td>...</td>\n",
       "      <td>...</td>\n",
       "      <td>...</td>\n",
       "      <td>...</td>\n",
       "      <td>...</td>\n",
       "      <td>...</td>\n",
       "      <td>...</td>\n",
       "      <td>...</td>\n",
       "      <td>...</td>\n",
       "      <td>...</td>\n",
       "      <td>...</td>\n",
       "      <td>...</td>\n",
       "      <td>...</td>\n",
       "      <td>...</td>\n",
       "      <td>...</td>\n",
       "      <td>...</td>\n",
       "      <td>...</td>\n",
       "      <td>...</td>\n",
       "      <td>...</td>\n",
       "      <td>...</td>\n",
       "      <td>...</td>\n",
       "      <td>...</td>\n",
       "    </tr>\n",
       "    <tr>\n",
       "      <td>2268</td>\n",
       "      <td>209.869003</td>\n",
       "      <td>215.366104</td>\n",
       "      <td>224.522156</td>\n",
       "      <td>226.640594</td>\n",
       "      <td>228.248108</td>\n",
       "      <td>228.890961</td>\n",
       "      <td>229.105820</td>\n",
       "      <td>229.047440</td>\n",
       "      <td>228.854355</td>\n",
       "      <td>228.602890</td>\n",
       "      <td>...</td>\n",
       "      <td>7.626431e-08</td>\n",
       "      <td>5.200621e-08</td>\n",
       "      <td>3.419370e-08</td>\n",
       "      <td>2.144052e-08</td>\n",
       "      <td>1.253897e-08</td>\n",
       "      <td>6.640666e-09</td>\n",
       "      <td>3.126329e-09</td>\n",
       "      <td>198.968414</td>\n",
       "      <td>13.193561</td>\n",
       "      <td>5.616200</td>\n",
       "    </tr>\n",
       "    <tr>\n",
       "      <td>2269</td>\n",
       "      <td>208.377762</td>\n",
       "      <td>214.262131</td>\n",
       "      <td>223.128281</td>\n",
       "      <td>225.571716</td>\n",
       "      <td>227.304749</td>\n",
       "      <td>228.078308</td>\n",
       "      <td>228.430756</td>\n",
       "      <td>228.484589</td>\n",
       "      <td>228.353943</td>\n",
       "      <td>228.129395</td>\n",
       "      <td>...</td>\n",
       "      <td>7.574498e-08</td>\n",
       "      <td>5.165390e-08</td>\n",
       "      <td>3.396402e-08</td>\n",
       "      <td>2.129864e-08</td>\n",
       "      <td>1.245839e-08</td>\n",
       "      <td>6.600694e-09</td>\n",
       "      <td>3.110553e-09</td>\n",
       "      <td>197.713013</td>\n",
       "      <td>12.513075</td>\n",
       "      <td>5.290639</td>\n",
       "    </tr>\n",
       "    <tr>\n",
       "      <td>2270</td>\n",
       "      <td>206.814636</td>\n",
       "      <td>213.219482</td>\n",
       "      <td>221.686157</td>\n",
       "      <td>224.468658</td>\n",
       "      <td>226.345810</td>\n",
       "      <td>227.229965</td>\n",
       "      <td>227.689255</td>\n",
       "      <td>227.863678</td>\n",
       "      <td>227.829391</td>\n",
       "      <td>227.659775</td>\n",
       "      <td>...</td>\n",
       "      <td>7.519107e-08</td>\n",
       "      <td>5.127813e-08</td>\n",
       "      <td>3.371905e-08</td>\n",
       "      <td>2.114733e-08</td>\n",
       "      <td>1.237244e-08</td>\n",
       "      <td>6.558061e-09</td>\n",
       "      <td>3.093727e-09</td>\n",
       "      <td>196.071396</td>\n",
       "      <td>13.194557</td>\n",
       "      <td>5.632765</td>\n",
       "    </tr>\n",
       "    <tr>\n",
       "      <td>2271</td>\n",
       "      <td>205.298920</td>\n",
       "      <td>211.735153</td>\n",
       "      <td>220.392014</td>\n",
       "      <td>223.351105</td>\n",
       "      <td>225.426254</td>\n",
       "      <td>226.437805</td>\n",
       "      <td>226.970963</td>\n",
       "      <td>227.229385</td>\n",
       "      <td>227.288956</td>\n",
       "      <td>227.193329</td>\n",
       "      <td>...</td>\n",
       "      <td>7.472329e-08</td>\n",
       "      <td>5.096080e-08</td>\n",
       "      <td>3.351219e-08</td>\n",
       "      <td>2.101955e-08</td>\n",
       "      <td>1.229986e-08</td>\n",
       "      <td>6.522057e-09</td>\n",
       "      <td>3.079517e-09</td>\n",
       "      <td>194.981644</td>\n",
       "      <td>15.232822</td>\n",
       "      <td>6.691784</td>\n",
       "    </tr>\n",
       "    <tr>\n",
       "      <td>2272</td>\n",
       "      <td>203.967987</td>\n",
       "      <td>209.804184</td>\n",
       "      <td>219.306549</td>\n",
       "      <td>222.248932</td>\n",
       "      <td>224.525345</td>\n",
       "      <td>225.682022</td>\n",
       "      <td>226.285721</td>\n",
       "      <td>226.583954</td>\n",
       "      <td>226.697006</td>\n",
       "      <td>226.660248</td>\n",
       "      <td>...</td>\n",
       "      <td>7.430928e-08</td>\n",
       "      <td>5.067993e-08</td>\n",
       "      <td>3.332909e-08</td>\n",
       "      <td>2.090645e-08</td>\n",
       "      <td>1.223562e-08</td>\n",
       "      <td>6.490191e-09</td>\n",
       "      <td>3.066941e-09</td>\n",
       "      <td>194.033813</td>\n",
       "      <td>18.612358</td>\n",
       "      <td>8.607286</td>\n",
       "    </tr>\n",
       "  </tbody>\n",
       "</table>\n",
       "<p>73 rows × 107 columns</p>\n",
       "</div>"
      ],
      "text/plain": [
       "             0           1           2           3           4           5    \\\n",
       "365   147.742233  147.876221  147.798431  147.582657  147.316147  147.010193   \n",
       "366   146.992935  147.033279  146.897354  146.657303  146.401001  146.140060   \n",
       "367   146.815872  146.786224  146.616119  146.370193  146.150024  145.991486   \n",
       "427   146.899933  146.991150  146.902206  146.694473  146.469559  146.313034   \n",
       "428   147.281326  147.384018  147.293030  147.083298  146.838791  146.582916   \n",
       "...          ...         ...         ...         ...         ...         ...   \n",
       "2268  209.869003  215.366104  224.522156  226.640594  228.248108  228.890961   \n",
       "2269  208.377762  214.262131  223.128281  225.571716  227.304749  228.078308   \n",
       "2270  206.814636  213.219482  221.686157  224.468658  226.345810  227.229965   \n",
       "2271  205.298920  211.735153  220.392014  223.351105  225.426254  226.437805   \n",
       "2272  203.967987  209.804184  219.306549  222.248932  224.525345  225.682022   \n",
       "\n",
       "             6           7           8           9    ...           97   \\\n",
       "365   146.718155  146.459152  146.275452  146.138046  ...  4.746388e-08   \n",
       "366   145.907166  145.699799  145.584686  145.511551  ...  4.680932e-08   \n",
       "367   145.853104  145.729507  145.661575  145.585510  ...  4.570702e-08   \n",
       "427   146.195755  146.288956  147.293808  148.554672  ...  4.364940e-08   \n",
       "428   146.332260  145.991669  146.103104  146.886581  ...  4.493587e-08   \n",
       "...          ...         ...         ...         ...  ...           ...   \n",
       "2268  229.105820  229.047440  228.854355  228.602890  ...  7.626431e-08   \n",
       "2269  228.430756  228.484589  228.353943  228.129395  ...  7.574498e-08   \n",
       "2270  227.689255  227.863678  227.829391  227.659775  ...  7.519107e-08   \n",
       "2271  226.970963  227.229385  227.288956  227.193329  ...  7.472329e-08   \n",
       "2272  226.285721  226.583954  226.697006  226.660248  ...  7.430928e-08   \n",
       "\n",
       "               98            99            100           101           102  \\\n",
       "365   3.247288e-08  2.146511e-08  1.358391e-08  8.082941e-09  4.437911e-09   \n",
       "366   3.202883e-08  2.117563e-08  1.340510e-08  7.981376e-09  4.387530e-09   \n",
       "367   3.128103e-08  2.068814e-08  1.310398e-08  7.810339e-09  4.302689e-09   \n",
       "427   2.988514e-08  1.977816e-08  1.254188e-08  7.491068e-09  4.144317e-09   \n",
       "428   3.075788e-08  2.034710e-08  1.289332e-08  7.690682e-09  4.243334e-09   \n",
       "...            ...           ...           ...           ...           ...   \n",
       "2268  5.200621e-08  3.419370e-08  2.144052e-08  1.253897e-08  6.640666e-09   \n",
       "2269  5.165390e-08  3.396402e-08  2.129864e-08  1.245839e-08  6.600694e-09   \n",
       "2270  5.127813e-08  3.371905e-08  2.114733e-08  1.237244e-08  6.558061e-09   \n",
       "2271  5.096080e-08  3.351219e-08  2.101955e-08  1.229986e-08  6.522057e-09   \n",
       "2272  5.067993e-08  3.332909e-08  2.090645e-08  1.223562e-08  6.490191e-09   \n",
       "\n",
       "               103         104        105        106  \n",
       "365   2.266124e-09  146.207458  19.076994  10.461836  \n",
       "366   2.246240e-09  146.112839  11.867635   5.595775  \n",
       "367   2.212756e-09  145.951523   3.181386   1.315890  \n",
       "427   2.150250e-09  145.630722   3.187869   1.320547  \n",
       "428   2.189330e-09  145.828445  11.873467   5.667850  \n",
       "...            ...         ...        ...        ...  \n",
       "2268  3.126329e-09  198.968414  13.193561   5.616200  \n",
       "2269  3.110553e-09  197.713013  12.513075   5.290639  \n",
       "2270  3.093727e-09  196.071396  13.194557   5.632765  \n",
       "2271  3.079517e-09  194.981644  15.232822   6.691784  \n",
       "2272  3.066941e-09  194.033813  18.612358   8.607286  \n",
       "\n",
       "[73 rows x 107 columns]"
      ]
     },
     "execution_count": 22,
     "metadata": {},
     "output_type": "execute_result"
    }
   ],
   "source": [
    "e_rems0"
   ]
  },
  {
   "cell_type": "code",
   "execution_count": 23,
   "metadata": {},
   "outputs": [],
   "source": [
    "from sklearn.model_selection import train_test_split\n",
    "\n",
    "train_set, test_set = train_test_split(e_rems0, test_size=0.2, random_state=42)"
   ]
  },
  {
   "cell_type": "code",
   "execution_count": 24,
   "metadata": {},
   "outputs": [
    {
     "data": {
      "text/plain": [
       "(58, 107)"
      ]
     },
     "execution_count": 24,
     "metadata": {},
     "output_type": "execute_result"
    }
   ],
   "source": [
    "train_set.shape"
   ]
  },
  {
   "cell_type": "code",
   "execution_count": 25,
   "metadata": {},
   "outputs": [
    {
     "data": {
      "text/plain": [
       "(15, 107)"
      ]
     },
     "execution_count": 25,
     "metadata": {},
     "output_type": "execute_result"
    }
   ],
   "source": [
    "test_set.shape"
   ]
  },
  {
   "cell_type": "code",
   "execution_count": 26,
   "metadata": {},
   "outputs": [],
   "source": [
    "train_in = train_set.iloc[:,:106] #training input\n",
    "train_out = train_set.iloc[:,106] #training output\n",
    "test_in = test_set.iloc[:,:106] #training input\n",
    "test_out = test_set.iloc[:,106] #training output\n",
    "total_in = e_rems0.iloc[:,:106] #total input\n",
    "total_out = e_rems0.iloc[:,106] #total output\n"
   ]
  },
  {
   "cell_type": "code",
   "execution_count": 27,
   "metadata": {},
   "outputs": [],
   "source": [
    "#this provides the location of each point according to the date and latitude\n",
    "indices = np.array(train_in.index)\n",
    "all_indices = np.array(total_in.index)"
   ]
  },
  {
   "cell_type": "code",
   "execution_count": 28,
   "metadata": {},
   "outputs": [
    {
     "data": {
      "text/plain": [
       "array([ 365,  366,  367,  427,  428,  429,  441,  442,  496,  497,  515,\n",
       "        516,  566,  567,  589,  637,  662,  708,  735,  779,  808,  850,\n",
       "        880,  922,  953,  993, 1025, 1065, 1098, 1136, 1170, 1208, 1243,\n",
       "       1279, 1315, 1351, 1388, 1422, 1460, 1494, 1605, 1637, 1678, 1708,\n",
       "       1750, 1780, 1823, 1851, 1896, 1922, 1968, 1969, 1993, 1994, 2042,\n",
       "       2064, 2115, 2116, 2134, 2135, 2189, 2190, 2191, 2203, 2204, 2205,\n",
       "       2266, 2267, 2268, 2269, 2270, 2271, 2272], dtype=int64)"
      ]
     },
     "execution_count": 28,
     "metadata": {},
     "output_type": "execute_result"
    }
   ],
   "source": [
    "all_indices"
   ]
  },
  {
   "cell_type": "markdown",
   "metadata": {},
   "source": [
    "Let's try polynomial regression"
   ]
  },
  {
   "cell_type": "code",
   "execution_count": 29,
   "metadata": {},
   "outputs": [
    {
     "data": {
      "text/plain": [
       "LinearRegression(copy_X=True, fit_intercept=True, n_jobs=None, normalize=False)"
      ]
     },
     "execution_count": 29,
     "metadata": {},
     "output_type": "execute_result"
    }
   ],
   "source": [
    "from sklearn.linear_model import LinearRegression\n",
    "from sklearn.preprocessing import PolynomialFeatures\n",
    "\n",
    "lin_reg = LinearRegression()\n",
    "lin_reg.fit(train_in,train_out)"
   ]
  },
  {
   "cell_type": "code",
   "execution_count": 30,
   "metadata": {},
   "outputs": [
    {
     "data": {
      "text/plain": [
       "0.017714266"
      ]
     },
     "execution_count": 30,
     "metadata": {},
     "output_type": "execute_result"
    }
   ],
   "source": [
    "from sklearn.metrics import mean_squared_error\n",
    "\n",
    "train_pred = lin_reg.predict(train_in)\n",
    "lin_mse = mean_squared_error(train_out, train_pred)\n",
    "lin_rmse = np.sqrt(lin_mse)\n",
    "lin_rmse  #why is this so much worse!?\n"
   ]
  },
  {
   "cell_type": "code",
   "execution_count": 31,
   "metadata": {},
   "outputs": [
    {
     "data": {
      "text/plain": [
       "9.68858814239502"
      ]
     },
     "execution_count": 31,
     "metadata": {},
     "output_type": "execute_result"
    }
   ],
   "source": [
    "np.max(train_out)"
   ]
  },
  {
   "cell_type": "code",
   "execution_count": 32,
   "metadata": {},
   "outputs": [],
   "source": [
    "total_pred = lin_reg.predict(total_in)"
   ]
  },
  {
   "cell_type": "code",
   "execution_count": 34,
   "metadata": {},
   "outputs": [],
   "source": [
    "train_out = np.array(train_out)\n",
    "pred_contour = np.full((36, 72), np.nan)\n",
    "lat_list = []\n",
    "long_list = []\n",
    "for i in range(len(indices)):\n",
    "    lat_point = indices[i]//72\n",
    "    long_point = indices[i]%72\n",
    "    lat_list.append(lat_point)\n",
    "    long_list.append(long_point)\n",
    "    pred_contour[lat_point][long_point] = train_pred[i]\n",
    "lat_list = np.array(lat_list)\n",
    "long_list = np.array(long_list)\n",
    "\n",
    "out_contour = np.full((36, 72), np.nan)\n",
    "for i in range(len(indices)):\n",
    "    lat_point = indices[i]//72\n",
    "    long_point = indices[i]%72\n",
    "    out_contour[lat_point][long_point] = train_out[i]  "
   ]
  },
  {
   "cell_type": "code",
   "execution_count": 35,
   "metadata": {},
   "outputs": [
    {
     "data": {
      "image/png": "[encoded data removed]",
      "text/plain": [
       "<Figure size 432x288 with 2 Axes>"
      ]
     },
     "metadata": {
      "needs_background": "light"
     },
     "output_type": "display_data"
    },
    {
     "data": {
      "text/plain": [
       "<Figure size 432x288 with 0 Axes>"
      ]
     },
     "metadata": {},
     "output_type": "display_data"
    }
   ],
   "source": [
    "plt.contourf(out_contour)\n",
    "plt.colorbar()\n",
    "plt.title(\"Actual Bottom Solar Flux4\")\n",
    "plt.xlabel(\"longtitude\")\n",
    "plt.ylabel(\"Latitude\")\n",
    "plt.show()\n",
    "plt.savefig(\"Actual\")"
   ]
  },
  {
   "cell_type": "code",
   "execution_count": 36,
   "metadata": {},
   "outputs": [
    {
     "data": {
      "image/png": "[encoded data removed]",
      "text/plain": [
       "<Figure size 432x288 with 2 Axes>"
      ]
     },
     "metadata": {
      "needs_background": "light"
     },
     "output_type": "display_data"
    },
    {
     "data": {
      "text/plain": [
       "<Figure size 432x288 with 0 Axes>"
      ]
     },
     "metadata": {},
     "output_type": "display_data"
    }
   ],
   "source": [
    "plt.contourf(pred_contour)\n",
    "plt.colorbar()\n",
    "plt.title(\"Predicted Bottom Solar Flux4\")\n",
    "plt.xlabel(\"longtitude\")\n",
    "plt.ylabel(\"Latitude\")\n",
    "plt.show()\n",
    "plt.savefig(\"Predicted\")"
   ]
  },
  {
   "cell_type": "code",
   "execution_count": 37,
   "metadata": {},
   "outputs": [
    {
     "data": {
      "image/png": "[encoded data removed]",
      "text/plain": [
       "<Figure size 432x288 with 2 Axes>"
      ]
     },
     "metadata": {
      "needs_background": "light"
     },
     "output_type": "display_data"
    }
   ],
   "source": [
    "plt.contourf(pred_contour - out_contour)\n",
    "plt.colorbar()\n",
    "plt.title(\"Difference4\")\n",
    "plt.xlabel(\"longtitude\")\n",
    "plt.ylabel(\"Latitude\")\n",
    "plt.show()"
   ]
  },
  {
   "cell_type": "code",
   "execution_count": 38,
   "metadata": {},
   "outputs": [
    {
     "data": {
      "image/png": "[encoded data removed]",
      "text/plain": [
       "<Figure size 432x288 with 2 Axes>"
      ]
     },
     "metadata": {
      "needs_background": "light"
     },
     "output_type": "display_data"
    }
   ],
   "source": [
    "plt.contourf((pred_contour - out_contour)/out_contour)\n",
    "plt.colorbar()\n",
    "plt.title(\"Relative Difference4\")\n",
    "plt.xlabel(\"longtitude\")\n",
    "plt.ylabel(\"Latitude\")\n",
    "plt.show()"
   ]
  },
  {
   "cell_type": "code",
   "execution_count": 39,
   "metadata": {},
   "outputs": [],
   "source": [
    "total_out = np.array(total_out)\n",
    "full_out_contour = np.full((36, 72), np.nan)\n",
    "for i in range(len(np.array(total_in.index))):\n",
    "    lat_point = all_indices[i]//72\n",
    "    long_point = all_indices[i]%72\n",
    "    full_out_contour[lat_point][long_point] = total_out[i]\n",
    "\n",
    "full_pred_contour = np.full((36, 72), np.nan)\n",
    "for i in range(len(np.array(total_in.index))):\n",
    "    lat_point = all_indices[i]//72\n",
    "    long_point = all_indices[i]%72\n",
    "    full_pred_contour[lat_point][long_point] = total_pred[i]  "
   ]
  },
  {
   "cell_type": "code",
   "execution_count": 40,
   "metadata": {},
   "outputs": [
    {
     "data": {
      "image/png": "[encoded data removed]",
      "text/plain": [
       "<Figure size 432x288 with 2 Axes>"
      ]
     },
     "metadata": {
      "needs_background": "light"
     },
     "output_type": "display_data"
    },
    {
     "data": {
      "text/plain": [
       "<Figure size 432x288 with 0 Axes>"
      ]
     },
     "metadata": {},
     "output_type": "display_data"
    }
   ],
   "source": [
    "plt.contourf(full_out_contour)\n",
    "plt.colorbar()\n",
    "plt.title(\"Actual Bottom Solar Flux4\")\n",
    "plt.xlabel(\"longtitude\")\n",
    "plt.ylabel(\"Latitude\")\n",
    "plt.show()\n",
    "plt.savefig(\"Actual\")"
   ]
  },
  {
   "cell_type": "code",
   "execution_count": 41,
   "metadata": {},
   "outputs": [
    {
     "data": {
      "image/png": "[encoded data removed]",
      "text/plain": [
       "<Figure size 432x288 with 2 Axes>"
      ]
     },
     "metadata": {
      "needs_background": "light"
     },
     "output_type": "display_data"
    },
    {
     "data": {
      "text/plain": [
       "<Figure size 432x288 with 0 Axes>"
      ]
     },
     "metadata": {},
     "output_type": "display_data"
    }
   ],
   "source": [
    "plt.contourf(full_pred_contour)\n",
    "plt.colorbar()\n",
    "plt.title(\"Predicted Bottom Solar Flux4\")\n",
    "plt.xlabel(\"longtitude\")\n",
    "plt.ylabel(\"Latitude\")\n",
    "plt.show()\n",
    "plt.savefig(\"Predicted\")"
   ]
  },
  {
   "cell_type": "code",
   "execution_count": 42,
   "metadata": {},
   "outputs": [
    {
     "data": {
      "image/png": "[encoded data removed]",
      "text/plain": [
       "<Figure size 432x288 with 2 Axes>"
      ]
     },
     "metadata": {
      "needs_background": "light"
     },
     "output_type": "display_data"
    }
   ],
   "source": [
    "plt.contourf(full_pred_contour - full_out_contour)\n",
    "plt.colorbar()\n",
    "plt.title(\"Difference4\")\n",
    "plt.xlabel(\"longtitude\")\n",
    "plt.ylabel(\"Latitude\")\n",
    "plt.show()"
   ]
  },
  {
   "cell_type": "code",
   "execution_count": 43,
   "metadata": {},
   "outputs": [
    {
     "data": {
      "image/png": "[encoded data removed]",
      "text/plain": [
       "<Figure size 432x288 with 2 Axes>"
      ]
     },
     "metadata": {
      "needs_background": "light"
     },
     "output_type": "display_data"
    }
   ],
   "source": [
    "plt.contourf((full_pred_contour - full_out_contour)/full_out_contour)\n",
    "plt.colorbar()\n",
    "plt.title(\"Relative Difference4\")\n",
    "plt.xlabel(\"longtitude\")\n",
    "plt.ylabel(\"Latitude\")\n",
    "plt.show()"
   ]
  },
  {
   "cell_type": "code",
   "execution_count": 44,
   "metadata": {},
   "outputs": [
    {
     "name": "stderr",
     "output_type": "stream",
     "text": [
      "C:\\Users\\andre\\Anaconda3\\lib\\site-packages\\ipykernel_launcher.py:1: RuntimeWarning: invalid value encountered in less\n",
      "  \"\"\"Entry point for launching an IPython kernel.\n"
     ]
    },
    {
     "data": {
      "text/plain": [
       "array([ -6.01377492,  -1.83761516,  -2.10695797, -56.14897381])"
      ]
     },
     "execution_count": 44,
     "metadata": {},
     "output_type": "execute_result"
    }
   ],
   "source": [
    "((full_pred_contour - full_out_contour)/full_out_contour)[(full_pred_contour - full_out_contour)/full_out_contour < -1] #nice"
   ]
  },
  {
   "cell_type": "code",
   "execution_count": null,
   "metadata": {},
   "outputs": [],
   "source": []
  }
 ],
 "metadata": {
  "kernelspec": {
   "display_name": "Python 3",
   "language": "python",
   "name": "python3"
  },
  "language_info": {
   "codemirror_mode": {
    "name": "ipython",
    "version": 3
   },
   "file_extension": ".py",
   "mimetype": "text/x-python",
   "name": "python",
   "nbconvert_exporter": "python",
   "pygments_lexer": "ipython3",
   "version": "3.7.4"
  }
 },
 "nbformat": 4,
 "nbformat_minor": 2
}
