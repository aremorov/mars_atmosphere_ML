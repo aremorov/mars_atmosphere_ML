{
 "cells": [
  {
   "cell_type": "markdown",
   "metadata": {},
   "source": [
    "Applying the regressors to output infrared fluxes in the whole atmosphere. This is using TOASW, temp surface temp."
   ]
  },
  {
   "cell_type": "code",
   "execution_count": 1,
   "metadata": {},
   "outputs": [],
   "source": [
    "import xarray as xr\n",
    "import matplotlib.pyplot as plt\n",
    "import numpy as np\n",
    "import pandas as pd"
   ]
  },
  {
   "cell_type": "code",
   "execution_count": 2,
   "metadata": {},
   "outputs": [],
   "source": [
    "DS_a = xr.open_dataset('af') #dataset of auxhist\n",
    "DS_w = xr.open_dataset('wf') #dataset of wrfout"
   ]
  },
  {
   "cell_type": "code",
   "execution_count": 3,
   "metadata": {},
   "outputs": [
    {
     "data": {
      "text/plain": [
       "(71, 52, 36, 72)"
      ]
     },
     "execution_count": 3,
     "metadata": {},
     "output_type": "execute_result"
    }
   ],
   "source": [
    "#Temperature:\n",
    "T = (DS_w.T.values + DS_w.T0) * ((DS_w.P.values + DS_w.PB.values)/DS_w.P0)**(DS_w.R_D/DS_w.CP)\n",
    "T.shape"
   ]
  },
  {
   "cell_type": "code",
   "execution_count": 4,
   "metadata": {},
   "outputs": [
    {
     "data": {
      "text/plain": [
       "(71, 36, 72)"
      ]
     },
     "execution_count": 4,
     "metadata": {},
     "output_type": "execute_result"
    }
   ],
   "source": [
    "albedo = DS_a.ALBEDO.values \n",
    "albedo.shape #days, latitude, longtitude"
   ]
  },
  {
   "cell_type": "code",
   "execution_count": 5,
   "metadata": {},
   "outputs": [
    {
     "data": {
      "text/plain": [
       "(71, 52, 36, 72)"
      ]
     },
     "execution_count": 5,
     "metadata": {},
     "output_type": "execute_result"
    }
   ],
   "source": [
    "d_c = DS_a.TAU_OD.values\n",
    "d_c.shape "
   ]
  },
  {
   "cell_type": "code",
   "execution_count": 6,
   "metadata": {},
   "outputs": [
    {
     "data": {
      "text/plain": [
       "(71, 36, 72)"
      ]
     },
     "execution_count": 6,
     "metadata": {},
     "output_type": "execute_result"
    }
   ],
   "source": [
    "st = DS_w.TSK.values\n",
    "st.shape"
   ]
  },
  {
   "cell_type": "code",
   "execution_count": 7,
   "metadata": {},
   "outputs": [
    {
     "data": {
      "text/plain": [
       "(71, 36, 72)"
      ]
     },
     "execution_count": 7,
     "metadata": {},
     "output_type": "execute_result"
    }
   ],
   "source": [
    "tsf = DS_a.TOASW.values #top solar flux\n",
    "tsf.shape"
   ]
  },
  {
   "cell_type": "code",
   "execution_count": 8,
   "metadata": {},
   "outputs": [
    {
     "data": {
      "text/plain": [
       "(71, 53, 36, 72)"
      ]
     },
     "execution_count": 8,
     "metadata": {},
     "output_type": "execute_result"
    }
   ],
   "source": [
    "msf = DS_a.DOWNIRFLUX.values #whole atmosphere down infrared flux\n",
    "msf.shape"
   ]
  },
  {
   "cell_type": "markdown",
   "metadata": {},
   "source": [
    "Let's combine the data together for ten time samples, with full latitude and longitude:"
   ]
  },
  {
   "cell_type": "code",
   "execution_count": 9,
   "metadata": {},
   "outputs": [],
   "source": [
    "e_t = [] #full input and output\n",
    "#input:\n",
    "for k in range(10): #10 days\n",
    "    for i in range(36):\n",
    "        for j in range(72):\n",
    "            input_array = list(T[k,:,i,j]) #start with temp profile\n",
    "            input_array.append(albedo[k,i,j]) #add albedo\n",
    "            input_array += list(d_c[k,:,i,j]) #add dust profile\n",
    "            input_array.append(st[k,i,j])#add surface temp\n",
    "            input_array.append(tsf[k,i,j]) #add top solar flux,\n",
    "            input_array += list(msf[k,:,i,j])            \n",
    "            e_t.append(input_array) #appends input to input array"
   ]
  },
  {
   "cell_type": "code",
   "execution_count": 10,
   "metadata": {},
   "outputs": [
    {
     "data": {
      "text/plain": [
       "(25920, 160)"
      ]
     },
     "execution_count": 10,
     "metadata": {},
     "output_type": "execute_result"
    }
   ],
   "source": [
    "e_t = np.array(e_t)\n",
    "e_t.shape"
   ]
  },
  {
   "cell_type": "code",
   "execution_count": 11,
   "metadata": {
    "scrolled": true
   },
   "outputs": [
    {
     "data": {
      "text/html": [
       "<div>\n",
       "<style scoped>\n",
       "    .dataframe tbody tr th:only-of-type {\n",
       "        vertical-align: middle;\n",
       "    }\n",
       "\n",
       "    .dataframe tbody tr th {\n",
       "        vertical-align: top;\n",
       "    }\n",
       "\n",
       "    .dataframe thead th {\n",
       "        text-align: right;\n",
       "    }\n",
       "</style>\n",
       "<table border=\"1\" class=\"dataframe\">\n",
       "  <thead>\n",
       "    <tr style=\"text-align: right;\">\n",
       "      <th></th>\n",
       "      <th>0</th>\n",
       "      <th>1</th>\n",
       "      <th>2</th>\n",
       "      <th>3</th>\n",
       "      <th>4</th>\n",
       "      <th>5</th>\n",
       "      <th>6</th>\n",
       "      <th>7</th>\n",
       "      <th>8</th>\n",
       "      <th>9</th>\n",
       "      <th>...</th>\n",
       "      <th>150</th>\n",
       "      <th>151</th>\n",
       "      <th>152</th>\n",
       "      <th>153</th>\n",
       "      <th>154</th>\n",
       "      <th>155</th>\n",
       "      <th>156</th>\n",
       "      <th>157</th>\n",
       "      <th>158</th>\n",
       "      <th>159</th>\n",
       "    </tr>\n",
       "  </thead>\n",
       "  <tbody>\n",
       "    <tr>\n",
       "      <td>0</td>\n",
       "      <td>227.318848</td>\n",
       "      <td>227.260056</td>\n",
       "      <td>227.165466</td>\n",
       "      <td>227.046188</td>\n",
       "      <td>226.925751</td>\n",
       "      <td>226.804108</td>\n",
       "      <td>226.681244</td>\n",
       "      <td>226.557205</td>\n",
       "      <td>226.431808</td>\n",
       "      <td>226.305176</td>\n",
       "      <td>...</td>\n",
       "      <td>0.000000</td>\n",
       "      <td>0.000000</td>\n",
       "      <td>0.000000</td>\n",
       "      <td>0.000000</td>\n",
       "      <td>0.000000</td>\n",
       "      <td>0.000000</td>\n",
       "      <td>0.000000</td>\n",
       "      <td>0.000000</td>\n",
       "      <td>0.000000</td>\n",
       "      <td>0.000000</td>\n",
       "    </tr>\n",
       "    <tr>\n",
       "      <td>1</td>\n",
       "      <td>227.330124</td>\n",
       "      <td>227.271408</td>\n",
       "      <td>227.176788</td>\n",
       "      <td>227.057510</td>\n",
       "      <td>226.937042</td>\n",
       "      <td>226.815399</td>\n",
       "      <td>226.692535</td>\n",
       "      <td>226.568436</td>\n",
       "      <td>226.443069</td>\n",
       "      <td>226.316422</td>\n",
       "      <td>...</td>\n",
       "      <td>0.000000</td>\n",
       "      <td>0.000000</td>\n",
       "      <td>0.000000</td>\n",
       "      <td>0.000000</td>\n",
       "      <td>0.000000</td>\n",
       "      <td>0.000000</td>\n",
       "      <td>0.000000</td>\n",
       "      <td>0.000000</td>\n",
       "      <td>0.000000</td>\n",
       "      <td>0.000000</td>\n",
       "    </tr>\n",
       "    <tr>\n",
       "      <td>2</td>\n",
       "      <td>227.336258</td>\n",
       "      <td>227.277496</td>\n",
       "      <td>227.182861</td>\n",
       "      <td>227.063614</td>\n",
       "      <td>226.943130</td>\n",
       "      <td>226.821503</td>\n",
       "      <td>226.698608</td>\n",
       "      <td>226.574509</td>\n",
       "      <td>226.449142</td>\n",
       "      <td>226.322495</td>\n",
       "      <td>...</td>\n",
       "      <td>0.000000</td>\n",
       "      <td>0.000000</td>\n",
       "      <td>0.000000</td>\n",
       "      <td>0.000000</td>\n",
       "      <td>0.000000</td>\n",
       "      <td>0.000000</td>\n",
       "      <td>0.000000</td>\n",
       "      <td>0.000000</td>\n",
       "      <td>0.000000</td>\n",
       "      <td>0.000000</td>\n",
       "    </tr>\n",
       "    <tr>\n",
       "      <td>3</td>\n",
       "      <td>227.337128</td>\n",
       "      <td>227.278336</td>\n",
       "      <td>227.183746</td>\n",
       "      <td>227.064468</td>\n",
       "      <td>226.943985</td>\n",
       "      <td>226.822327</td>\n",
       "      <td>226.699493</td>\n",
       "      <td>226.575378</td>\n",
       "      <td>226.450012</td>\n",
       "      <td>226.323349</td>\n",
       "      <td>...</td>\n",
       "      <td>0.000000</td>\n",
       "      <td>0.000000</td>\n",
       "      <td>0.000000</td>\n",
       "      <td>0.000000</td>\n",
       "      <td>0.000000</td>\n",
       "      <td>0.000000</td>\n",
       "      <td>0.000000</td>\n",
       "      <td>0.000000</td>\n",
       "      <td>0.000000</td>\n",
       "      <td>0.000000</td>\n",
       "    </tr>\n",
       "    <tr>\n",
       "      <td>4</td>\n",
       "      <td>227.332764</td>\n",
       "      <td>227.273987</td>\n",
       "      <td>227.179382</td>\n",
       "      <td>227.060089</td>\n",
       "      <td>226.939621</td>\n",
       "      <td>226.818008</td>\n",
       "      <td>226.695114</td>\n",
       "      <td>226.571045</td>\n",
       "      <td>226.445663</td>\n",
       "      <td>226.319031</td>\n",
       "      <td>...</td>\n",
       "      <td>0.000000</td>\n",
       "      <td>0.000000</td>\n",
       "      <td>0.000000</td>\n",
       "      <td>0.000000</td>\n",
       "      <td>0.000000</td>\n",
       "      <td>0.000000</td>\n",
       "      <td>0.000000</td>\n",
       "      <td>0.000000</td>\n",
       "      <td>0.000000</td>\n",
       "      <td>0.000000</td>\n",
       "    </tr>\n",
       "    <tr>\n",
       "      <td>...</td>\n",
       "      <td>...</td>\n",
       "      <td>...</td>\n",
       "      <td>...</td>\n",
       "      <td>...</td>\n",
       "      <td>...</td>\n",
       "      <td>...</td>\n",
       "      <td>...</td>\n",
       "      <td>...</td>\n",
       "      <td>...</td>\n",
       "      <td>...</td>\n",
       "      <td>...</td>\n",
       "      <td>...</td>\n",
       "      <td>...</td>\n",
       "      <td>...</td>\n",
       "      <td>...</td>\n",
       "      <td>...</td>\n",
       "      <td>...</td>\n",
       "      <td>...</td>\n",
       "      <td>...</td>\n",
       "      <td>...</td>\n",
       "      <td>...</td>\n",
       "    </tr>\n",
       "    <tr>\n",
       "      <td>25915</td>\n",
       "      <td>195.926605</td>\n",
       "      <td>196.176559</td>\n",
       "      <td>196.233871</td>\n",
       "      <td>196.553436</td>\n",
       "      <td>198.060699</td>\n",
       "      <td>198.145294</td>\n",
       "      <td>198.186966</td>\n",
       "      <td>198.237289</td>\n",
       "      <td>198.218109</td>\n",
       "      <td>198.195663</td>\n",
       "      <td>...</td>\n",
       "      <td>14.082313</td>\n",
       "      <td>14.235906</td>\n",
       "      <td>14.335536</td>\n",
       "      <td>14.428726</td>\n",
       "      <td>14.513978</td>\n",
       "      <td>14.593282</td>\n",
       "      <td>14.658659</td>\n",
       "      <td>14.641423</td>\n",
       "      <td>14.586281</td>\n",
       "      <td>14.589592</td>\n",
       "    </tr>\n",
       "    <tr>\n",
       "      <td>25916</td>\n",
       "      <td>196.206619</td>\n",
       "      <td>196.444473</td>\n",
       "      <td>196.495056</td>\n",
       "      <td>196.764801</td>\n",
       "      <td>198.152267</td>\n",
       "      <td>198.199341</td>\n",
       "      <td>198.222931</td>\n",
       "      <td>198.258759</td>\n",
       "      <td>198.227005</td>\n",
       "      <td>198.192764</td>\n",
       "      <td>...</td>\n",
       "      <td>14.078302</td>\n",
       "      <td>14.233523</td>\n",
       "      <td>14.334620</td>\n",
       "      <td>14.429870</td>\n",
       "      <td>14.517577</td>\n",
       "      <td>14.599743</td>\n",
       "      <td>14.669615</td>\n",
       "      <td>14.662907</td>\n",
       "      <td>14.621727</td>\n",
       "      <td>14.635448</td>\n",
       "    </tr>\n",
       "    <tr>\n",
       "      <td>25917</td>\n",
       "      <td>196.483841</td>\n",
       "      <td>196.709473</td>\n",
       "      <td>196.754776</td>\n",
       "      <td>196.977203</td>\n",
       "      <td>198.241196</td>\n",
       "      <td>198.251846</td>\n",
       "      <td>198.258133</td>\n",
       "      <td>198.279633</td>\n",
       "      <td>198.235596</td>\n",
       "      <td>198.189697</td>\n",
       "      <td>...</td>\n",
       "      <td>14.074153</td>\n",
       "      <td>14.230990</td>\n",
       "      <td>14.333535</td>\n",
       "      <td>14.430823</td>\n",
       "      <td>14.520968</td>\n",
       "      <td>14.605946</td>\n",
       "      <td>14.680243</td>\n",
       "      <td>14.684244</td>\n",
       "      <td>14.657230</td>\n",
       "      <td>14.681223</td>\n",
       "    </tr>\n",
       "    <tr>\n",
       "      <td>25918</td>\n",
       "      <td>196.756317</td>\n",
       "      <td>196.969727</td>\n",
       "      <td>197.011292</td>\n",
       "      <td>197.189270</td>\n",
       "      <td>198.327026</td>\n",
       "      <td>198.302643</td>\n",
       "      <td>198.292480</td>\n",
       "      <td>198.299988</td>\n",
       "      <td>198.244049</td>\n",
       "      <td>198.186783</td>\n",
       "      <td>...</td>\n",
       "      <td>14.070003</td>\n",
       "      <td>14.228442</td>\n",
       "      <td>14.332409</td>\n",
       "      <td>14.431698</td>\n",
       "      <td>14.524240</td>\n",
       "      <td>14.611956</td>\n",
       "      <td>14.690571</td>\n",
       "      <td>14.705386</td>\n",
       "      <td>14.692632</td>\n",
       "      <td>14.726670</td>\n",
       "    </tr>\n",
       "    <tr>\n",
       "      <td>25919</td>\n",
       "      <td>197.021973</td>\n",
       "      <td>197.223236</td>\n",
       "      <td>197.262589</td>\n",
       "      <td>197.399246</td>\n",
       "      <td>198.409073</td>\n",
       "      <td>198.351257</td>\n",
       "      <td>198.325638</td>\n",
       "      <td>198.319611</td>\n",
       "      <td>198.252258</td>\n",
       "      <td>198.183899</td>\n",
       "      <td>...</td>\n",
       "      <td>14.065853</td>\n",
       "      <td>14.225863</td>\n",
       "      <td>14.331215</td>\n",
       "      <td>14.432455</td>\n",
       "      <td>14.527335</td>\n",
       "      <td>14.617694</td>\n",
       "      <td>14.700494</td>\n",
       "      <td>14.726145</td>\n",
       "      <td>14.727632</td>\n",
       "      <td>14.771411</td>\n",
       "    </tr>\n",
       "  </tbody>\n",
       "</table>\n",
       "<p>25920 rows × 160 columns</p>\n",
       "</div>"
      ],
      "text/plain": [
       "              0           1           2           3           4           5    \\\n",
       "0      227.318848  227.260056  227.165466  227.046188  226.925751  226.804108   \n",
       "1      227.330124  227.271408  227.176788  227.057510  226.937042  226.815399   \n",
       "2      227.336258  227.277496  227.182861  227.063614  226.943130  226.821503   \n",
       "3      227.337128  227.278336  227.183746  227.064468  226.943985  226.822327   \n",
       "4      227.332764  227.273987  227.179382  227.060089  226.939621  226.818008   \n",
       "...           ...         ...         ...         ...         ...         ...   \n",
       "25915  195.926605  196.176559  196.233871  196.553436  198.060699  198.145294   \n",
       "25916  196.206619  196.444473  196.495056  196.764801  198.152267  198.199341   \n",
       "25917  196.483841  196.709473  196.754776  196.977203  198.241196  198.251846   \n",
       "25918  196.756317  196.969727  197.011292  197.189270  198.327026  198.302643   \n",
       "25919  197.021973  197.223236  197.262589  197.399246  198.409073  198.351257   \n",
       "\n",
       "              6           7           8           9    ...        150  \\\n",
       "0      226.681244  226.557205  226.431808  226.305176  ...   0.000000   \n",
       "1      226.692535  226.568436  226.443069  226.316422  ...   0.000000   \n",
       "2      226.698608  226.574509  226.449142  226.322495  ...   0.000000   \n",
       "3      226.699493  226.575378  226.450012  226.323349  ...   0.000000   \n",
       "4      226.695114  226.571045  226.445663  226.319031  ...   0.000000   \n",
       "...           ...         ...         ...         ...  ...        ...   \n",
       "25915  198.186966  198.237289  198.218109  198.195663  ...  14.082313   \n",
       "25916  198.222931  198.258759  198.227005  198.192764  ...  14.078302   \n",
       "25917  198.258133  198.279633  198.235596  198.189697  ...  14.074153   \n",
       "25918  198.292480  198.299988  198.244049  198.186783  ...  14.070003   \n",
       "25919  198.325638  198.319611  198.252258  198.183899  ...  14.065853   \n",
       "\n",
       "             151        152        153        154        155        156  \\\n",
       "0       0.000000   0.000000   0.000000   0.000000   0.000000   0.000000   \n",
       "1       0.000000   0.000000   0.000000   0.000000   0.000000   0.000000   \n",
       "2       0.000000   0.000000   0.000000   0.000000   0.000000   0.000000   \n",
       "3       0.000000   0.000000   0.000000   0.000000   0.000000   0.000000   \n",
       "4       0.000000   0.000000   0.000000   0.000000   0.000000   0.000000   \n",
       "...          ...        ...        ...        ...        ...        ...   \n",
       "25915  14.235906  14.335536  14.428726  14.513978  14.593282  14.658659   \n",
       "25916  14.233523  14.334620  14.429870  14.517577  14.599743  14.669615   \n",
       "25917  14.230990  14.333535  14.430823  14.520968  14.605946  14.680243   \n",
       "25918  14.228442  14.332409  14.431698  14.524240  14.611956  14.690571   \n",
       "25919  14.225863  14.331215  14.432455  14.527335  14.617694  14.700494   \n",
       "\n",
       "             157        158        159  \n",
       "0       0.000000   0.000000   0.000000  \n",
       "1       0.000000   0.000000   0.000000  \n",
       "2       0.000000   0.000000   0.000000  \n",
       "3       0.000000   0.000000   0.000000  \n",
       "4       0.000000   0.000000   0.000000  \n",
       "...          ...        ...        ...  \n",
       "25915  14.641423  14.586281  14.589592  \n",
       "25916  14.662907  14.621727  14.635448  \n",
       "25917  14.684244  14.657230  14.681223  \n",
       "25918  14.705386  14.692632  14.726670  \n",
       "25919  14.726145  14.727632  14.771411  \n",
       "\n",
       "[25920 rows x 160 columns]"
      ]
     },
     "execution_count": 11,
     "metadata": {},
     "output_type": "execute_result"
    }
   ],
   "source": [
    "pd.DataFrame(e_t)"
   ]
  },
  {
   "cell_type": "code",
   "execution_count": 12,
   "metadata": {},
   "outputs": [],
   "source": [
    "e_d = pd.DataFrame(e_t) \n",
    "e_d = e_d[e_d.iloc[:,106] != 0] #remove 0 tsf"
   ]
  },
  {
   "cell_type": "code",
   "execution_count": 13,
   "metadata": {},
   "outputs": [
    {
     "data": {
      "text/html": [
       "<div>\n",
       "<style scoped>\n",
       "    .dataframe tbody tr th:only-of-type {\n",
       "        vertical-align: middle;\n",
       "    }\n",
       "\n",
       "    .dataframe tbody tr th {\n",
       "        vertical-align: top;\n",
       "    }\n",
       "\n",
       "    .dataframe thead th {\n",
       "        text-align: right;\n",
       "    }\n",
       "</style>\n",
       "<table border=\"1\" class=\"dataframe\">\n",
       "  <thead>\n",
       "    <tr style=\"text-align: right;\">\n",
       "      <th></th>\n",
       "      <th>0</th>\n",
       "      <th>1</th>\n",
       "      <th>2</th>\n",
       "      <th>3</th>\n",
       "      <th>4</th>\n",
       "      <th>5</th>\n",
       "      <th>6</th>\n",
       "      <th>7</th>\n",
       "      <th>8</th>\n",
       "      <th>9</th>\n",
       "      <th>...</th>\n",
       "      <th>150</th>\n",
       "      <th>151</th>\n",
       "      <th>152</th>\n",
       "      <th>153</th>\n",
       "      <th>154</th>\n",
       "      <th>155</th>\n",
       "      <th>156</th>\n",
       "      <th>157</th>\n",
       "      <th>158</th>\n",
       "      <th>159</th>\n",
       "    </tr>\n",
       "  </thead>\n",
       "  <tbody>\n",
       "    <tr>\n",
       "      <td>2592</td>\n",
       "      <td>151.206253</td>\n",
       "      <td>152.076157</td>\n",
       "      <td>152.608749</td>\n",
       "      <td>157.155060</td>\n",
       "      <td>162.428177</td>\n",
       "      <td>165.732498</td>\n",
       "      <td>167.803940</td>\n",
       "      <td>169.195404</td>\n",
       "      <td>170.080673</td>\n",
       "      <td>170.529678</td>\n",
       "      <td>...</td>\n",
       "      <td>5.315413</td>\n",
       "      <td>5.311390</td>\n",
       "      <td>5.300332</td>\n",
       "      <td>5.276111</td>\n",
       "      <td>5.223905</td>\n",
       "      <td>5.132736</td>\n",
       "      <td>4.986982</td>\n",
       "      <td>4.763958</td>\n",
       "      <td>4.497736</td>\n",
       "      <td>4.292701</td>\n",
       "    </tr>\n",
       "    <tr>\n",
       "      <td>2593</td>\n",
       "      <td>150.954300</td>\n",
       "      <td>151.691101</td>\n",
       "      <td>152.145660</td>\n",
       "      <td>157.159012</td>\n",
       "      <td>162.278000</td>\n",
       "      <td>165.502228</td>\n",
       "      <td>167.536957</td>\n",
       "      <td>168.901138</td>\n",
       "      <td>169.782501</td>\n",
       "      <td>170.242050</td>\n",
       "      <td>...</td>\n",
       "      <td>5.288033</td>\n",
       "      <td>5.281506</td>\n",
       "      <td>5.268859</td>\n",
       "      <td>5.243656</td>\n",
       "      <td>5.191796</td>\n",
       "      <td>5.102499</td>\n",
       "      <td>4.960560</td>\n",
       "      <td>4.744291</td>\n",
       "      <td>4.476749</td>\n",
       "      <td>4.266223</td>\n",
       "    </tr>\n",
       "    <tr>\n",
       "      <td>2594</td>\n",
       "      <td>150.716537</td>\n",
       "      <td>151.334015</td>\n",
       "      <td>151.737946</td>\n",
       "      <td>157.226288</td>\n",
       "      <td>162.168686</td>\n",
       "      <td>165.298523</td>\n",
       "      <td>167.286560</td>\n",
       "      <td>168.617004</td>\n",
       "      <td>169.491531</td>\n",
       "      <td>169.961334</td>\n",
       "      <td>...</td>\n",
       "      <td>5.259313</td>\n",
       "      <td>5.250432</td>\n",
       "      <td>5.236313</td>\n",
       "      <td>5.210284</td>\n",
       "      <td>5.159063</td>\n",
       "      <td>5.072120</td>\n",
       "      <td>4.934664</td>\n",
       "      <td>4.726003</td>\n",
       "      <td>4.457614</td>\n",
       "      <td>4.241215</td>\n",
       "    </tr>\n",
       "    <tr>\n",
       "      <td>2595</td>\n",
       "      <td>150.494980</td>\n",
       "      <td>151.007828</td>\n",
       "      <td>151.388901</td>\n",
       "      <td>157.356400</td>\n",
       "      <td>162.101135</td>\n",
       "      <td>165.123062</td>\n",
       "      <td>167.054810</td>\n",
       "      <td>168.345337</td>\n",
       "      <td>169.210220</td>\n",
       "      <td>169.689880</td>\n",
       "      <td>...</td>\n",
       "      <td>5.229507</td>\n",
       "      <td>5.218440</td>\n",
       "      <td>5.202975</td>\n",
       "      <td>5.176274</td>\n",
       "      <td>5.125974</td>\n",
       "      <td>5.041842</td>\n",
       "      <td>4.909494</td>\n",
       "      <td>4.709233</td>\n",
       "      <td>4.440467</td>\n",
       "      <td>4.217840</td>\n",
       "    </tr>\n",
       "    <tr>\n",
       "      <td>2596</td>\n",
       "      <td>150.291397</td>\n",
       "      <td>150.715195</td>\n",
       "      <td>151.101410</td>\n",
       "      <td>157.548309</td>\n",
       "      <td>162.075958</td>\n",
       "      <td>164.977295</td>\n",
       "      <td>166.843628</td>\n",
       "      <td>168.088318</td>\n",
       "      <td>168.940826</td>\n",
       "      <td>169.429901</td>\n",
       "      <td>...</td>\n",
       "      <td>5.198869</td>\n",
       "      <td>5.185797</td>\n",
       "      <td>5.169122</td>\n",
       "      <td>5.141908</td>\n",
       "      <td>5.092796</td>\n",
       "      <td>5.011900</td>\n",
       "      <td>4.885241</td>\n",
       "      <td>4.694120</td>\n",
       "      <td>4.425447</td>\n",
       "      <td>4.196262</td>\n",
       "    </tr>\n",
       "    <tr>\n",
       "      <td>...</td>\n",
       "      <td>...</td>\n",
       "      <td>...</td>\n",
       "      <td>...</td>\n",
       "      <td>...</td>\n",
       "      <td>...</td>\n",
       "      <td>...</td>\n",
       "      <td>...</td>\n",
       "      <td>...</td>\n",
       "      <td>...</td>\n",
       "      <td>...</td>\n",
       "      <td>...</td>\n",
       "      <td>...</td>\n",
       "      <td>...</td>\n",
       "      <td>...</td>\n",
       "      <td>...</td>\n",
       "      <td>...</td>\n",
       "      <td>...</td>\n",
       "      <td>...</td>\n",
       "      <td>...</td>\n",
       "      <td>...</td>\n",
       "      <td>...</td>\n",
       "    </tr>\n",
       "    <tr>\n",
       "      <td>25915</td>\n",
       "      <td>195.926605</td>\n",
       "      <td>196.176559</td>\n",
       "      <td>196.233871</td>\n",
       "      <td>196.553436</td>\n",
       "      <td>198.060699</td>\n",
       "      <td>198.145294</td>\n",
       "      <td>198.186966</td>\n",
       "      <td>198.237289</td>\n",
       "      <td>198.218109</td>\n",
       "      <td>198.195663</td>\n",
       "      <td>...</td>\n",
       "      <td>14.082313</td>\n",
       "      <td>14.235906</td>\n",
       "      <td>14.335536</td>\n",
       "      <td>14.428726</td>\n",
       "      <td>14.513978</td>\n",
       "      <td>14.593282</td>\n",
       "      <td>14.658659</td>\n",
       "      <td>14.641423</td>\n",
       "      <td>14.586281</td>\n",
       "      <td>14.589592</td>\n",
       "    </tr>\n",
       "    <tr>\n",
       "      <td>25916</td>\n",
       "      <td>196.206619</td>\n",
       "      <td>196.444473</td>\n",
       "      <td>196.495056</td>\n",
       "      <td>196.764801</td>\n",
       "      <td>198.152267</td>\n",
       "      <td>198.199341</td>\n",
       "      <td>198.222931</td>\n",
       "      <td>198.258759</td>\n",
       "      <td>198.227005</td>\n",
       "      <td>198.192764</td>\n",
       "      <td>...</td>\n",
       "      <td>14.078302</td>\n",
       "      <td>14.233523</td>\n",
       "      <td>14.334620</td>\n",
       "      <td>14.429870</td>\n",
       "      <td>14.517577</td>\n",
       "      <td>14.599743</td>\n",
       "      <td>14.669615</td>\n",
       "      <td>14.662907</td>\n",
       "      <td>14.621727</td>\n",
       "      <td>14.635448</td>\n",
       "    </tr>\n",
       "    <tr>\n",
       "      <td>25917</td>\n",
       "      <td>196.483841</td>\n",
       "      <td>196.709473</td>\n",
       "      <td>196.754776</td>\n",
       "      <td>196.977203</td>\n",
       "      <td>198.241196</td>\n",
       "      <td>198.251846</td>\n",
       "      <td>198.258133</td>\n",
       "      <td>198.279633</td>\n",
       "      <td>198.235596</td>\n",
       "      <td>198.189697</td>\n",
       "      <td>...</td>\n",
       "      <td>14.074153</td>\n",
       "      <td>14.230990</td>\n",
       "      <td>14.333535</td>\n",
       "      <td>14.430823</td>\n",
       "      <td>14.520968</td>\n",
       "      <td>14.605946</td>\n",
       "      <td>14.680243</td>\n",
       "      <td>14.684244</td>\n",
       "      <td>14.657230</td>\n",
       "      <td>14.681223</td>\n",
       "    </tr>\n",
       "    <tr>\n",
       "      <td>25918</td>\n",
       "      <td>196.756317</td>\n",
       "      <td>196.969727</td>\n",
       "      <td>197.011292</td>\n",
       "      <td>197.189270</td>\n",
       "      <td>198.327026</td>\n",
       "      <td>198.302643</td>\n",
       "      <td>198.292480</td>\n",
       "      <td>198.299988</td>\n",
       "      <td>198.244049</td>\n",
       "      <td>198.186783</td>\n",
       "      <td>...</td>\n",
       "      <td>14.070003</td>\n",
       "      <td>14.228442</td>\n",
       "      <td>14.332409</td>\n",
       "      <td>14.431698</td>\n",
       "      <td>14.524240</td>\n",
       "      <td>14.611956</td>\n",
       "      <td>14.690571</td>\n",
       "      <td>14.705386</td>\n",
       "      <td>14.692632</td>\n",
       "      <td>14.726670</td>\n",
       "    </tr>\n",
       "    <tr>\n",
       "      <td>25919</td>\n",
       "      <td>197.021973</td>\n",
       "      <td>197.223236</td>\n",
       "      <td>197.262589</td>\n",
       "      <td>197.399246</td>\n",
       "      <td>198.409073</td>\n",
       "      <td>198.351257</td>\n",
       "      <td>198.325638</td>\n",
       "      <td>198.319611</td>\n",
       "      <td>198.252258</td>\n",
       "      <td>198.183899</td>\n",
       "      <td>...</td>\n",
       "      <td>14.065853</td>\n",
       "      <td>14.225863</td>\n",
       "      <td>14.331215</td>\n",
       "      <td>14.432455</td>\n",
       "      <td>14.527335</td>\n",
       "      <td>14.617694</td>\n",
       "      <td>14.700494</td>\n",
       "      <td>14.726145</td>\n",
       "      <td>14.727632</td>\n",
       "      <td>14.771411</td>\n",
       "    </tr>\n",
       "  </tbody>\n",
       "</table>\n",
       "<p>11894 rows × 160 columns</p>\n",
       "</div>"
      ],
      "text/plain": [
       "              0           1           2           3           4           5    \\\n",
       "2592   151.206253  152.076157  152.608749  157.155060  162.428177  165.732498   \n",
       "2593   150.954300  151.691101  152.145660  157.159012  162.278000  165.502228   \n",
       "2594   150.716537  151.334015  151.737946  157.226288  162.168686  165.298523   \n",
       "2595   150.494980  151.007828  151.388901  157.356400  162.101135  165.123062   \n",
       "2596   150.291397  150.715195  151.101410  157.548309  162.075958  164.977295   \n",
       "...           ...         ...         ...         ...         ...         ...   \n",
       "25915  195.926605  196.176559  196.233871  196.553436  198.060699  198.145294   \n",
       "25916  196.206619  196.444473  196.495056  196.764801  198.152267  198.199341   \n",
       "25917  196.483841  196.709473  196.754776  196.977203  198.241196  198.251846   \n",
       "25918  196.756317  196.969727  197.011292  197.189270  198.327026  198.302643   \n",
       "25919  197.021973  197.223236  197.262589  197.399246  198.409073  198.351257   \n",
       "\n",
       "              6           7           8           9    ...        150  \\\n",
       "2592   167.803940  169.195404  170.080673  170.529678  ...   5.315413   \n",
       "2593   167.536957  168.901138  169.782501  170.242050  ...   5.288033   \n",
       "2594   167.286560  168.617004  169.491531  169.961334  ...   5.259313   \n",
       "2595   167.054810  168.345337  169.210220  169.689880  ...   5.229507   \n",
       "2596   166.843628  168.088318  168.940826  169.429901  ...   5.198869   \n",
       "...           ...         ...         ...         ...  ...        ...   \n",
       "25915  198.186966  198.237289  198.218109  198.195663  ...  14.082313   \n",
       "25916  198.222931  198.258759  198.227005  198.192764  ...  14.078302   \n",
       "25917  198.258133  198.279633  198.235596  198.189697  ...  14.074153   \n",
       "25918  198.292480  198.299988  198.244049  198.186783  ...  14.070003   \n",
       "25919  198.325638  198.319611  198.252258  198.183899  ...  14.065853   \n",
       "\n",
       "             151        152        153        154        155        156  \\\n",
       "2592    5.311390   5.300332   5.276111   5.223905   5.132736   4.986982   \n",
       "2593    5.281506   5.268859   5.243656   5.191796   5.102499   4.960560   \n",
       "2594    5.250432   5.236313   5.210284   5.159063   5.072120   4.934664   \n",
       "2595    5.218440   5.202975   5.176274   5.125974   5.041842   4.909494   \n",
       "2596    5.185797   5.169122   5.141908   5.092796   5.011900   4.885241   \n",
       "...          ...        ...        ...        ...        ...        ...   \n",
       "25915  14.235906  14.335536  14.428726  14.513978  14.593282  14.658659   \n",
       "25916  14.233523  14.334620  14.429870  14.517577  14.599743  14.669615   \n",
       "25917  14.230990  14.333535  14.430823  14.520968  14.605946  14.680243   \n",
       "25918  14.228442  14.332409  14.431698  14.524240  14.611956  14.690571   \n",
       "25919  14.225863  14.331215  14.432455  14.527335  14.617694  14.700494   \n",
       "\n",
       "             157        158        159  \n",
       "2592    4.763958   4.497736   4.292701  \n",
       "2593    4.744291   4.476749   4.266223  \n",
       "2594    4.726003   4.457614   4.241215  \n",
       "2595    4.709233   4.440467   4.217840  \n",
       "2596    4.694120   4.425447   4.196262  \n",
       "...          ...        ...        ...  \n",
       "25915  14.641423  14.586281  14.589592  \n",
       "25916  14.662907  14.621727  14.635448  \n",
       "25917  14.684244  14.657230  14.681223  \n",
       "25918  14.705386  14.692632  14.726670  \n",
       "25919  14.726145  14.727632  14.771411  \n",
       "\n",
       "[11894 rows x 160 columns]"
      ]
     },
     "execution_count": 13,
     "metadata": {},
     "output_type": "execute_result"
    }
   ],
   "source": [
    "e_d"
   ]
  },
  {
   "cell_type": "markdown",
   "metadata": {},
   "source": [
    "This function splits the training data, into n_split groups, according to percentiles of a value located at special index s_index. Then, it trains n_split regressors, each on its respective group, and then outputs these. The ith regressor is trained on the data containing 100(i/n_split) to 100((i+1)/n_split) percentiles of the value located at s_index. The special index is set as the top solar flux, which is the last index of the input data."
   ]
  },
  {
   "cell_type": "code",
   "execution_count": 14,
   "metadata": {},
   "outputs": [],
   "source": [
    "from sklearn.linear_model import LinearRegression\n",
    "\n",
    "\n",
    "def sat(training_data, n_split, s_index): \n",
    "    regressor_list = []\n",
    "    training_data = np.array(training_data)\n",
    "    \n",
    "    for i in range(n_split): #splitting training data\n",
    "        upper_bound = np.percentile(training_data[:,s_index], (i+1) * 100/n_split)\n",
    "        lower_bound = np.percentile(training_data[:,s_index], i * 100/n_split)\n",
    "        i_data = training_data[training_data[:,s_index] < upper_bound]\n",
    "        i_data = i_data[i_data[:,s_index] >= lower_bound]\n",
    "        train_in = i_data[:,:s_index+1] #training input\n",
    "        train_out = i_data[:,s_index+1:] #training output\n",
    "        lri = LinearRegression() #linear regression i\n",
    "        lri.fit(train_in,train_out)\n",
    "        regressor_list.append(lri)\n",
    "    \n",
    "    return regressor_list"
   ]
  },
  {
   "cell_type": "markdown",
   "metadata": {},
   "source": [
    "This function predicts the output according to the n_split regressors, where the ith regressor is used on the data containing 100(i/n_split) to 100((i+1)/n_split) percentiles of the value located at s_index."
   ]
  },
  {
   "cell_type": "code",
   "execution_count": 15,
   "metadata": {},
   "outputs": [],
   "source": [
    "def s_predict(in_data, reg_list, s_index): #predict the output using previously obtained linear regressor list\n",
    "    in_data = np.array(in_data)\n",
    "    out_data = []\n",
    "    for instance in in_data:\n",
    "        for i in range(len(reg_list)):\n",
    "            upper_bound = np.percentile(in_data[:,s_index], (i+1) * 100/len(reg_list))\n",
    "            lower_bound = np.percentile(in_data[:,s_index], i * 100/len(reg_list))\n",
    "            if instance[s_index] < upper_bound and instance[s_index] >= lower_bound:\n",
    "                out_data.append(reg_list[i].predict(instance[:s_index+1].reshape(1,-1))[0]) #predicts using a certain regressor\n",
    "        if(instance[s_index] == np.max(in_data[:,s_index])): #the search right above ignores the absolute maximum element\n",
    "            out_data.append(reg_list[-1].predict(instance[:s_index+1].reshape(1,-1))[0]) #uses lin reg for largest elements\n",
    "    return np.array(out_data)   "
   ]
  },
  {
   "cell_type": "code",
   "execution_count": 16,
   "metadata": {},
   "outputs": [],
   "source": [
    "lr_list = sat(e_d, 10, 106) #linear regressor list, let's try 10 regressors\n",
    "custom_out = s_predict(e_d, lr_list, 106)"
   ]
  },
  {
   "cell_type": "code",
   "execution_count": 17,
   "metadata": {},
   "outputs": [],
   "source": [
    "#rlr_list = satr(e_d, 10, 52) #relative error minimizing linear regressor list\n",
    "#custom_out2 = s_predict(e_d, rlr_list, 52)"
   ]
  },
  {
   "cell_type": "code",
   "execution_count": 18,
   "metadata": {},
   "outputs": [],
   "source": [
    "total_in = e_d.iloc[:,:107] #total input\n",
    "total_out = e_d.iloc[:,107:] #total output"
   ]
  },
  {
   "cell_type": "code",
   "execution_count": 19,
   "metadata": {},
   "outputs": [
    {
     "data": {
      "text/plain": [
       "(11894, 53)"
      ]
     },
     "execution_count": 19,
     "metadata": {},
     "output_type": "execute_result"
    }
   ],
   "source": [
    "total_out.shape"
   ]
  },
  {
   "cell_type": "code",
   "execution_count": 20,
   "metadata": {},
   "outputs": [
    {
     "name": "stdout",
     "output_type": "stream",
     "text": [
      "Error for RMSE minimizing regressors:0.38099706\n"
     ]
    }
   ],
   "source": [
    "from sklearn.metrics import mean_squared_error\n",
    "\n",
    "lin_mse = mean_squared_error(total_out, custom_out)\n",
    "lin_rmse = np.sqrt(lin_mse)\n",
    "print(\"Error for RMSE minimizing regressors:\" + str(lin_rmse)) #great!\n",
    "#lin_rel = mean_squared_error(total_out, custom_out2)\n",
    "#lin_rel = np.sqrt(lin_rel)\n",
    "#print(\"Error for relative error minimizing regressors:\" + str(lin_rel)) #slightly higher but still pretty low"
   ]
  },
  {
   "cell_type": "code",
   "execution_count": 21,
   "metadata": {},
   "outputs": [
    {
     "data": {
      "text/plain": [
       "6.8496885"
      ]
     },
     "execution_count": 21,
     "metadata": {},
     "output_type": "execute_result"
    }
   ],
   "source": [
    "np.average(total_out)"
   ]
  },
  {
   "cell_type": "markdown",
   "metadata": {},
   "source": [
    "Area integration of error:"
   ]
  },
  {
   "cell_type": "code",
   "execution_count": 22,
   "metadata": {},
   "outputs": [],
   "source": [
    "def int_err(pred, real, real_in, r): \n",
    "    areas = []\n",
    "    for i in range(len(real)):\n",
    "        dA =  -r**2 * np.sin((np.pi/36)*((real_in.index[i]//72)%36)) * (np.pi/36) * (np.pi/36)  #area increment\n",
    "        areas.append(dA)\n",
    "    areas = np.array(areas)\n",
    "    areas2 = np.zeros([len(areas),real.shape[1]])\n",
    "    for i in range(53):\n",
    "        areas2[:,i] = areas #need height dimension too\n",
    "    return np.sum((np.array(pred) - np.array(real))*areas2)"
   ]
  },
  {
   "cell_type": "code",
   "execution_count": 23,
   "metadata": {},
   "outputs": [
    {
     "data": {
      "text/plain": [
       "-0.00020699457863229798"
      ]
     },
     "execution_count": 23,
     "metadata": {},
     "output_type": "execute_result"
    }
   ],
   "source": [
    "err1 = int_err(custom_out, total_out, total_in, 3.39e6) #the integral of the error for the whole atmosphere\n",
    "np.array(err1)/(1.44e14)/10/53 "
   ]
  },
  {
   "cell_type": "markdown",
   "metadata": {},
   "source": [
    "The error is divided by surface area of mars, number of time samples, number of atmosphere to get normalized flux error for single time sample, for a single cell. This is pretty good!"
   ]
  },
  {
   "cell_type": "code",
   "execution_count": 24,
   "metadata": {},
   "outputs": [],
   "source": [
    "#err2 = int_err(custom_out2, total_out, total_in, 3.39e6) #the integral of the error\n",
    "#np.array(err2)/(1.44e14)/10 #about 25 times larger, still really small! This is in W/m^2 units."
   ]
  },
  {
   "cell_type": "code",
   "execution_count": 25,
   "metadata": {},
   "outputs": [
    {
     "data": {
      "text/html": [
       "<div>\n",
       "<style scoped>\n",
       "    .dataframe tbody tr th:only-of-type {\n",
       "        vertical-align: middle;\n",
       "    }\n",
       "\n",
       "    .dataframe tbody tr th {\n",
       "        vertical-align: top;\n",
       "    }\n",
       "\n",
       "    .dataframe thead th {\n",
       "        text-align: right;\n",
       "    }\n",
       "</style>\n",
       "<table border=\"1\" class=\"dataframe\">\n",
       "  <thead>\n",
       "    <tr style=\"text-align: right;\">\n",
       "      <th></th>\n",
       "      <th>0</th>\n",
       "      <th>1</th>\n",
       "      <th>2</th>\n",
       "      <th>3</th>\n",
       "      <th>4</th>\n",
       "      <th>5</th>\n",
       "      <th>6</th>\n",
       "      <th>7</th>\n",
       "      <th>8</th>\n",
       "      <th>9</th>\n",
       "      <th>...</th>\n",
       "      <th>97</th>\n",
       "      <th>98</th>\n",
       "      <th>99</th>\n",
       "      <th>100</th>\n",
       "      <th>101</th>\n",
       "      <th>102</th>\n",
       "      <th>103</th>\n",
       "      <th>104</th>\n",
       "      <th>105</th>\n",
       "      <th>106</th>\n",
       "    </tr>\n",
       "  </thead>\n",
       "  <tbody>\n",
       "    <tr>\n",
       "      <td>2592</td>\n",
       "      <td>151.206253</td>\n",
       "      <td>152.076157</td>\n",
       "      <td>152.608749</td>\n",
       "      <td>157.155060</td>\n",
       "      <td>162.428177</td>\n",
       "      <td>165.732498</td>\n",
       "      <td>167.803940</td>\n",
       "      <td>169.195404</td>\n",
       "      <td>170.080673</td>\n",
       "      <td>170.529678</td>\n",
       "      <td>...</td>\n",
       "      <td>6.870778e-08</td>\n",
       "      <td>4.828668e-08</td>\n",
       "      <td>3.302351e-08</td>\n",
       "      <td>2.181589e-08</td>\n",
       "      <td>1.379160e-08</td>\n",
       "      <td>8.190756e-09</td>\n",
       "      <td>4.479549e-09</td>\n",
       "      <td>2.268331e-09</td>\n",
       "      <td>146.526855</td>\n",
       "      <td>3.133222</td>\n",
       "    </tr>\n",
       "    <tr>\n",
       "      <td>2593</td>\n",
       "      <td>150.954300</td>\n",
       "      <td>151.691101</td>\n",
       "      <td>152.145660</td>\n",
       "      <td>157.159012</td>\n",
       "      <td>162.278000</td>\n",
       "      <td>165.502228</td>\n",
       "      <td>167.536957</td>\n",
       "      <td>168.901138</td>\n",
       "      <td>169.782501</td>\n",
       "      <td>170.242050</td>\n",
       "      <td>...</td>\n",
       "      <td>6.877530e-08</td>\n",
       "      <td>4.833389e-08</td>\n",
       "      <td>3.305554e-08</td>\n",
       "      <td>2.183677e-08</td>\n",
       "      <td>1.380450e-08</td>\n",
       "      <td>8.198081e-09</td>\n",
       "      <td>4.483181e-09</td>\n",
       "      <td>2.269765e-09</td>\n",
       "      <td>146.533554</td>\n",
       "      <td>3.225646</td>\n",
       "    </tr>\n",
       "    <tr>\n",
       "      <td>2594</td>\n",
       "      <td>150.716537</td>\n",
       "      <td>151.334015</td>\n",
       "      <td>151.737946</td>\n",
       "      <td>157.226288</td>\n",
       "      <td>162.168686</td>\n",
       "      <td>165.298523</td>\n",
       "      <td>167.286560</td>\n",
       "      <td>168.617004</td>\n",
       "      <td>169.491531</td>\n",
       "      <td>169.961334</td>\n",
       "      <td>...</td>\n",
       "      <td>6.880115e-08</td>\n",
       "      <td>4.835196e-08</td>\n",
       "      <td>3.306780e-08</td>\n",
       "      <td>2.184476e-08</td>\n",
       "      <td>1.380943e-08</td>\n",
       "      <td>8.200886e-09</td>\n",
       "      <td>4.484573e-09</td>\n",
       "      <td>2.270314e-09</td>\n",
       "      <td>146.536072</td>\n",
       "      <td>3.133214</td>\n",
       "    </tr>\n",
       "    <tr>\n",
       "      <td>2595</td>\n",
       "      <td>150.494980</td>\n",
       "      <td>151.007828</td>\n",
       "      <td>151.388901</td>\n",
       "      <td>157.356400</td>\n",
       "      <td>162.101135</td>\n",
       "      <td>165.123062</td>\n",
       "      <td>167.054810</td>\n",
       "      <td>168.345337</td>\n",
       "      <td>169.210220</td>\n",
       "      <td>169.689880</td>\n",
       "      <td>...</td>\n",
       "      <td>6.878514e-08</td>\n",
       "      <td>4.834077e-08</td>\n",
       "      <td>3.306021e-08</td>\n",
       "      <td>2.183981e-08</td>\n",
       "      <td>1.380637e-08</td>\n",
       "      <td>8.199148e-09</td>\n",
       "      <td>4.483712e-09</td>\n",
       "      <td>2.269974e-09</td>\n",
       "      <td>146.534378</td>\n",
       "      <td>2.856627</td>\n",
       "    </tr>\n",
       "    <tr>\n",
       "      <td>2596</td>\n",
       "      <td>150.291397</td>\n",
       "      <td>150.715195</td>\n",
       "      <td>151.101410</td>\n",
       "      <td>157.548309</td>\n",
       "      <td>162.075958</td>\n",
       "      <td>164.977295</td>\n",
       "      <td>166.843628</td>\n",
       "      <td>168.088318</td>\n",
       "      <td>168.940826</td>\n",
       "      <td>169.429901</td>\n",
       "      <td>...</td>\n",
       "      <td>6.872747e-08</td>\n",
       "      <td>4.830045e-08</td>\n",
       "      <td>3.303285e-08</td>\n",
       "      <td>2.182198e-08</td>\n",
       "      <td>1.379536e-08</td>\n",
       "      <td>8.192893e-09</td>\n",
       "      <td>4.480609e-09</td>\n",
       "      <td>2.268749e-09</td>\n",
       "      <td>146.528503</td>\n",
       "      <td>2.397990</td>\n",
       "    </tr>\n",
       "    <tr>\n",
       "      <td>...</td>\n",
       "      <td>...</td>\n",
       "      <td>...</td>\n",
       "      <td>...</td>\n",
       "      <td>...</td>\n",
       "      <td>...</td>\n",
       "      <td>...</td>\n",
       "      <td>...</td>\n",
       "      <td>...</td>\n",
       "      <td>...</td>\n",
       "      <td>...</td>\n",
       "      <td>...</td>\n",
       "      <td>...</td>\n",
       "      <td>...</td>\n",
       "      <td>...</td>\n",
       "      <td>...</td>\n",
       "      <td>...</td>\n",
       "      <td>...</td>\n",
       "      <td>...</td>\n",
       "      <td>...</td>\n",
       "      <td>...</td>\n",
       "      <td>...</td>\n",
       "    </tr>\n",
       "    <tr>\n",
       "      <td>25915</td>\n",
       "      <td>195.926605</td>\n",
       "      <td>196.176559</td>\n",
       "      <td>196.233871</td>\n",
       "      <td>196.553436</td>\n",
       "      <td>198.060699</td>\n",
       "      <td>198.145294</td>\n",
       "      <td>198.186966</td>\n",
       "      <td>198.237289</td>\n",
       "      <td>198.218109</td>\n",
       "      <td>198.195663</td>\n",
       "      <td>...</td>\n",
       "      <td>1.091246e-07</td>\n",
       "      <td>7.654454e-08</td>\n",
       "      <td>5.219346e-08</td>\n",
       "      <td>3.431266e-08</td>\n",
       "      <td>2.151059e-08</td>\n",
       "      <td>1.257493e-08</td>\n",
       "      <td>6.654015e-09</td>\n",
       "      <td>3.126207e-09</td>\n",
       "      <td>194.218506</td>\n",
       "      <td>166.324509</td>\n",
       "    </tr>\n",
       "    <tr>\n",
       "      <td>25916</td>\n",
       "      <td>196.206619</td>\n",
       "      <td>196.444473</td>\n",
       "      <td>196.495056</td>\n",
       "      <td>196.764801</td>\n",
       "      <td>198.152267</td>\n",
       "      <td>198.199341</td>\n",
       "      <td>198.222931</td>\n",
       "      <td>198.258759</td>\n",
       "      <td>198.227005</td>\n",
       "      <td>198.192764</td>\n",
       "      <td>...</td>\n",
       "      <td>1.091595e-07</td>\n",
       "      <td>7.656890e-08</td>\n",
       "      <td>5.220998e-08</td>\n",
       "      <td>3.432344e-08</td>\n",
       "      <td>2.151725e-08</td>\n",
       "      <td>1.257871e-08</td>\n",
       "      <td>6.655889e-09</td>\n",
       "      <td>3.126946e-09</td>\n",
       "      <td>194.540924</td>\n",
       "      <td>167.173706</td>\n",
       "    </tr>\n",
       "    <tr>\n",
       "      <td>25917</td>\n",
       "      <td>196.483841</td>\n",
       "      <td>196.709473</td>\n",
       "      <td>196.754776</td>\n",
       "      <td>196.977203</td>\n",
       "      <td>198.241196</td>\n",
       "      <td>198.251846</td>\n",
       "      <td>198.258133</td>\n",
       "      <td>198.279633</td>\n",
       "      <td>198.235596</td>\n",
       "      <td>198.189697</td>\n",
       "      <td>...</td>\n",
       "      <td>1.091901e-07</td>\n",
       "      <td>7.659027e-08</td>\n",
       "      <td>5.222449e-08</td>\n",
       "      <td>3.433289e-08</td>\n",
       "      <td>2.152309e-08</td>\n",
       "      <td>1.258202e-08</td>\n",
       "      <td>6.657535e-09</td>\n",
       "      <td>3.127596e-09</td>\n",
       "      <td>194.864700</td>\n",
       "      <td>167.877502</td>\n",
       "    </tr>\n",
       "    <tr>\n",
       "      <td>25918</td>\n",
       "      <td>196.756317</td>\n",
       "      <td>196.969727</td>\n",
       "      <td>197.011292</td>\n",
       "      <td>197.189270</td>\n",
       "      <td>198.327026</td>\n",
       "      <td>198.302643</td>\n",
       "      <td>198.292480</td>\n",
       "      <td>198.299988</td>\n",
       "      <td>198.244049</td>\n",
       "      <td>198.186783</td>\n",
       "      <td>...</td>\n",
       "      <td>1.092166e-07</td>\n",
       "      <td>7.660883e-08</td>\n",
       "      <td>5.223708e-08</td>\n",
       "      <td>3.434110e-08</td>\n",
       "      <td>2.152816e-08</td>\n",
       "      <td>1.258490e-08</td>\n",
       "      <td>6.658964e-09</td>\n",
       "      <td>3.128160e-09</td>\n",
       "      <td>195.188644</td>\n",
       "      <td>168.430542</td>\n",
       "    </tr>\n",
       "    <tr>\n",
       "      <td>25919</td>\n",
       "      <td>197.021973</td>\n",
       "      <td>197.223236</td>\n",
       "      <td>197.262589</td>\n",
       "      <td>197.399246</td>\n",
       "      <td>198.409073</td>\n",
       "      <td>198.351257</td>\n",
       "      <td>198.325638</td>\n",
       "      <td>198.319611</td>\n",
       "      <td>198.252258</td>\n",
       "      <td>198.183899</td>\n",
       "      <td>...</td>\n",
       "      <td>1.092388e-07</td>\n",
       "      <td>7.662437e-08</td>\n",
       "      <td>5.224762e-08</td>\n",
       "      <td>3.434797e-08</td>\n",
       "      <td>2.153240e-08</td>\n",
       "      <td>1.258731e-08</td>\n",
       "      <td>6.660159e-09</td>\n",
       "      <td>3.128631e-09</td>\n",
       "      <td>195.508804</td>\n",
       "      <td>168.828598</td>\n",
       "    </tr>\n",
       "  </tbody>\n",
       "</table>\n",
       "<p>11894 rows × 107 columns</p>\n",
       "</div>"
      ],
      "text/plain": [
       "              0           1           2           3           4           5    \\\n",
       "2592   151.206253  152.076157  152.608749  157.155060  162.428177  165.732498   \n",
       "2593   150.954300  151.691101  152.145660  157.159012  162.278000  165.502228   \n",
       "2594   150.716537  151.334015  151.737946  157.226288  162.168686  165.298523   \n",
       "2595   150.494980  151.007828  151.388901  157.356400  162.101135  165.123062   \n",
       "2596   150.291397  150.715195  151.101410  157.548309  162.075958  164.977295   \n",
       "...           ...         ...         ...         ...         ...         ...   \n",
       "25915  195.926605  196.176559  196.233871  196.553436  198.060699  198.145294   \n",
       "25916  196.206619  196.444473  196.495056  196.764801  198.152267  198.199341   \n",
       "25917  196.483841  196.709473  196.754776  196.977203  198.241196  198.251846   \n",
       "25918  196.756317  196.969727  197.011292  197.189270  198.327026  198.302643   \n",
       "25919  197.021973  197.223236  197.262589  197.399246  198.409073  198.351257   \n",
       "\n",
       "              6           7           8           9    ...           97   \\\n",
       "2592   167.803940  169.195404  170.080673  170.529678  ...  6.870778e-08   \n",
       "2593   167.536957  168.901138  169.782501  170.242050  ...  6.877530e-08   \n",
       "2594   167.286560  168.617004  169.491531  169.961334  ...  6.880115e-08   \n",
       "2595   167.054810  168.345337  169.210220  169.689880  ...  6.878514e-08   \n",
       "2596   166.843628  168.088318  168.940826  169.429901  ...  6.872747e-08   \n",
       "...           ...         ...         ...         ...  ...           ...   \n",
       "25915  198.186966  198.237289  198.218109  198.195663  ...  1.091246e-07   \n",
       "25916  198.222931  198.258759  198.227005  198.192764  ...  1.091595e-07   \n",
       "25917  198.258133  198.279633  198.235596  198.189697  ...  1.091901e-07   \n",
       "25918  198.292480  198.299988  198.244049  198.186783  ...  1.092166e-07   \n",
       "25919  198.325638  198.319611  198.252258  198.183899  ...  1.092388e-07   \n",
       "\n",
       "                98            99            100           101           102  \\\n",
       "2592   4.828668e-08  3.302351e-08  2.181589e-08  1.379160e-08  8.190756e-09   \n",
       "2593   4.833389e-08  3.305554e-08  2.183677e-08  1.380450e-08  8.198081e-09   \n",
       "2594   4.835196e-08  3.306780e-08  2.184476e-08  1.380943e-08  8.200886e-09   \n",
       "2595   4.834077e-08  3.306021e-08  2.183981e-08  1.380637e-08  8.199148e-09   \n",
       "2596   4.830045e-08  3.303285e-08  2.182198e-08  1.379536e-08  8.192893e-09   \n",
       "...             ...           ...           ...           ...           ...   \n",
       "25915  7.654454e-08  5.219346e-08  3.431266e-08  2.151059e-08  1.257493e-08   \n",
       "25916  7.656890e-08  5.220998e-08  3.432344e-08  2.151725e-08  1.257871e-08   \n",
       "25917  7.659027e-08  5.222449e-08  3.433289e-08  2.152309e-08  1.258202e-08   \n",
       "25918  7.660883e-08  5.223708e-08  3.434110e-08  2.152816e-08  1.258490e-08   \n",
       "25919  7.662437e-08  5.224762e-08  3.434797e-08  2.153240e-08  1.258731e-08   \n",
       "\n",
       "                103           104         105         106  \n",
       "2592   4.479549e-09  2.268331e-09  146.526855    3.133222  \n",
       "2593   4.483181e-09  2.269765e-09  146.533554    3.225646  \n",
       "2594   4.484573e-09  2.270314e-09  146.536072    3.133214  \n",
       "2595   4.483712e-09  2.269974e-09  146.534378    2.856627  \n",
       "2596   4.480609e-09  2.268749e-09  146.528503    2.397990  \n",
       "...             ...           ...         ...         ...  \n",
       "25915  6.654015e-09  3.126207e-09  194.218506  166.324509  \n",
       "25916  6.655889e-09  3.126946e-09  194.540924  167.173706  \n",
       "25917  6.657535e-09  3.127596e-09  194.864700  167.877502  \n",
       "25918  6.658964e-09  3.128160e-09  195.188644  168.430542  \n",
       "25919  6.660159e-09  3.128631e-09  195.508804  168.828598  \n",
       "\n",
       "[11894 rows x 107 columns]"
      ]
     },
     "execution_count": 25,
     "metadata": {},
     "output_type": "execute_result"
    }
   ],
   "source": [
    "total_in"
   ]
  },
  {
   "cell_type": "code",
   "execution_count": 33,
   "metadata": {},
   "outputs": [
    {
     "data": {
      "text/plain": [
       "9.557702"
      ]
     },
     "execution_count": 33,
     "metadata": {},
     "output_type": "execute_result"
    }
   ],
   "source": [
    "np.array(total_out)[153,52]"
   ]
  },
  {
   "cell_type": "markdown",
   "metadata": {},
   "source": [
    "## Plotting data:"
   ]
  },
  {
   "cell_type": "code",
   "execution_count": 26,
   "metadata": {},
   "outputs": [
    {
     "data": {
      "text/plain": [
       "Int64Index([13104, 13105, 13106, 13107, 13108, 13109, 13110, 13111, 13112,\n",
       "            13170,\n",
       "            ...\n",
       "            15542, 15543, 15544, 15545, 15546, 15547, 15548, 15549, 15550,\n",
       "            15551],\n",
       "           dtype='int64', length=1324)"
      ]
     },
     "execution_count": 26,
     "metadata": {},
     "output_type": "execute_result"
    }
   ],
   "source": [
    "all_indices = total_in.index\n",
    "ti_indices = all_indices[all_indices > 5*36*72] \n",
    "ti_indices = ti_indices[ti_indices < 6 *36*72] \n",
    "ti_indices #ith time snapshot indices for latitude/longtitude map, currently set to 6th time snapshot"
   ]
  },
  {
   "cell_type": "code",
   "execution_count": 34,
   "metadata": {},
   "outputs": [],
   "source": [
    "total_out = np.array(total_out)\n",
    "full_out_contour = np.full((36, 72), np.nan)\n",
    "full_pred_contour = np.full((36, 72), np.nan)\n",
    "#full_pred_contour2 = np.full((36, 72), np.nan)\n",
    "for index in ti_indices:\n",
    "    lat_point = index//72 - 36*5\n",
    "    long_point = index%72 - 1*72\n",
    "    full_out_contour[lat_point][long_point] = total_out[np.where(all_indices == index), 25] #choose some middle layer\n",
    "    full_pred_contour[lat_point][long_point] = custom_out[np.where(all_indices == index), 25]\n",
    "    #full_pred_contour2[lat_point][long_point] = custom_out2[np.where(all_indices == index)]"
   ]
  },
  {
   "cell_type": "code",
   "execution_count": 35,
   "metadata": {},
   "outputs": [
    {
     "data": {
      "image/png": "[encoded data removed]",
      "text/plain": [
       "<Figure size 432x288 with 2 Axes>"
      ]
     },
     "metadata": {
      "needs_background": "light"
     },
     "output_type": "display_data"
    },
    {
     "data": {
      "text/plain": [
       "<Figure size 432x288 with 0 Axes>"
      ]
     },
     "metadata": {},
     "output_type": "display_data"
    }
   ],
   "source": [
    "plt.contourf(full_out_contour)\n",
    "plt.colorbar()\n",
    "plt.title(\"Actual Bottom Solar Flux\")\n",
    "plt.xlabel(\"Longtitude\")\n",
    "plt.ylabel(\"Latitude\")\n",
    "plt.show()\n",
    "plt.savefig(\"Actual\")"
   ]
  },
  {
   "cell_type": "markdown",
   "metadata": {},
   "source": [
    "### Plots for RMSE minimizing regressors:"
   ]
  },
  {
   "cell_type": "code",
   "execution_count": 36,
   "metadata": {},
   "outputs": [
    {
     "data": {
      "image/png": "[encoded data removed]",
      "text/plain": [
       "<Figure size 432x288 with 2 Axes>"
      ]
     },
     "metadata": {
      "needs_background": "light"
     },
     "output_type": "display_data"
    },
    {
     "data": {
      "text/plain": [
       "<Figure size 432x288 with 0 Axes>"
      ]
     },
     "metadata": {},
     "output_type": "display_data"
    }
   ],
   "source": [
    "plt.contourf(full_pred_contour)\n",
    "plt.colorbar()\n",
    "plt.title(\"Predicted Bottom Solar Flux\")\n",
    "plt.xlabel(\"Longtitude\")\n",
    "plt.ylabel(\"Latitude\")\n",
    "plt.show()\n",
    "plt.savefig(\"Predicted\")"
   ]
  },
  {
   "cell_type": "code",
   "execution_count": 37,
   "metadata": {},
   "outputs": [
    {
     "data": {
      "image/png": "[encoded data removed]",
      "text/plain": [
       "<Figure size 432x288 with 2 Axes>"
      ]
     },
     "metadata": {
      "needs_background": "light"
     },
     "output_type": "display_data"
    }
   ],
   "source": [
    "plt.contourf(full_pred_contour - full_out_contour)\n",
    "plt.colorbar()\n",
    "plt.title(\"Difference\")\n",
    "plt.xlabel(\"Longtitude\")\n",
    "plt.ylabel(\"Latitude\")\n",
    "plt.show()"
   ]
  },
  {
   "cell_type": "code",
   "execution_count": 38,
   "metadata": {},
   "outputs": [
    {
     "data": {
      "image/png": "[encoded data removed]",
      "text/plain": [
       "<Figure size 432x288 with 2 Axes>"
      ]
     },
     "metadata": {
      "needs_background": "light"
     },
     "output_type": "display_data"
    }
   ],
   "source": [
    "plt.contourf((full_pred_contour - full_out_contour)/full_out_contour)\n",
    "plt.colorbar()\n",
    "plt.title(\"Relative Difference\")\n",
    "plt.xlabel(\"Longtitude\")\n",
    "plt.ylabel(\"Latitude\")\n",
    "plt.show() #some massive relative errors at the edge"
   ]
  },
  {
   "cell_type": "markdown",
   "metadata": {},
   "source": [
    "### Long-Height Plots at equator:"
   ]
  },
  {
   "cell_type": "code",
   "execution_count": 51,
   "metadata": {},
   "outputs": [
    {
     "data": {
      "text/plain": [
       "Int64Index([14256, 14257, 14258, 14259, 14260, 14261, 14262, 14263, 14264,\n",
       "            14265, 14266, 14267, 14268, 14269, 14270, 14271, 14272, 14273,\n",
       "            14274, 14275, 14311, 14312, 14313, 14314, 14315, 14316, 14317,\n",
       "            14318, 14319, 14320, 14321, 14322, 14323, 14324, 14325, 14326,\n",
       "            14327],\n",
       "           dtype='int64')"
      ]
     },
     "execution_count": 51,
     "metadata": {},
     "output_type": "execute_result"
    }
   ],
   "source": [
    "all_indices = total_in.index\n",
    "ti_indices = all_indices[all_indices >= 5*36*72 + 18*72] \n",
    "ti_indices = ti_indices[ti_indices < 5*36*72 + 19*72] \n",
    "ti_indices #ith time snapshot indices for longtitude/height map, currently set to 6th time snapshot"
   ]
  },
  {
   "cell_type": "code",
   "execution_count": 52,
   "metadata": {},
   "outputs": [],
   "source": [
    "total_out = np.array(total_out)\n",
    "height_out_contour = np.full((53, 72), np.nan)\n",
    "height_pred_contour = np.full((53, 72), np.nan) #longtitude-height contours\n",
    "for index in ti_indices:\n",
    "    long_point = index%72\n",
    "    height_out_contour[:,long_point] = total_out[np.where(all_indices == index)][0][::-1]\n",
    "    height_pred_contour[:,long_point] = custom_out[np.where(all_indices == index)][0][::-1] #flips the height to look better"
   ]
  },
  {
   "cell_type": "code",
   "execution_count": 53,
   "metadata": {},
   "outputs": [
    {
     "data": {
      "image/png": "[encoded data removed]",
      "text/plain": [
       "<Figure size 432x288 with 2 Axes>"
      ]
     },
     "metadata": {
      "needs_background": "light"
     },
     "output_type": "display_data"
    }
   ],
   "source": [
    "plt.contourf(height_out_contour)\n",
    "plt.colorbar()\n",
    "plt.title(\"Actual Middle Solar Flux at Equator\")\n",
    "plt.xlabel(\"Longtitude\")\n",
    "plt.ylabel(\"Height\")\n",
    "plt.show()"
   ]
  },
  {
   "cell_type": "code",
   "execution_count": 54,
   "metadata": {},
   "outputs": [
    {
     "data": {
      "image/png": "[encoded data removed]",
      "text/plain": [
       "<Figure size 432x288 with 2 Axes>"
      ]
     },
     "metadata": {
      "needs_background": "light"
     },
     "output_type": "display_data"
    }
   ],
   "source": [
    "plt.contourf(height_pred_contour)\n",
    "plt.colorbar()\n",
    "plt.title(\"Predicted Middle Solar Flux at Equator\")\n",
    "plt.xlabel(\"Longtitude\")\n",
    "plt.ylabel(\"Height\")\n",
    "plt.show()"
   ]
  },
  {
   "cell_type": "code",
   "execution_count": 55,
   "metadata": {},
   "outputs": [
    {
     "data": {
      "image/png": "[encoded data removed]",
      "text/plain": [
       "<Figure size 432x288 with 2 Axes>"
      ]
     },
     "metadata": {
      "needs_background": "light"
     },
     "output_type": "display_data"
    }
   ],
   "source": [
    "plt.contourf(height_pred_contour - height_out_contour)\n",
    "plt.colorbar()\n",
    "plt.title(\"Difference\")\n",
    "plt.xlabel(\"Longtitude\")\n",
    "plt.ylabel(\"Height\")\n",
    "plt.show()"
   ]
  },
  {
   "cell_type": "code",
   "execution_count": 56,
   "metadata": {},
   "outputs": [
    {
     "data": {
      "image/png": "[encoded data removed]",
      "text/plain": [
       "<Figure size 432x288 with 2 Axes>"
      ]
     },
     "metadata": {
      "needs_background": "light"
     },
     "output_type": "display_data"
    }
   ],
   "source": [
    "plt.contourf((height_pred_contour - height_out_contour)/height_out_contour)\n",
    "plt.colorbar()\n",
    "plt.title(\"Relative Difference\")\n",
    "plt.xlabel(\"Longtitude\")\n",
    "plt.ylabel(\"Height\")\n",
    "plt.show()"
   ]
  },
  {
   "cell_type": "code",
   "execution_count": null,
   "metadata": {},
   "outputs": [],
   "source": []
  }
 ],
 "metadata": {
  "kernelspec": {
   "display_name": "Python 3",
   "language": "python",
   "name": "python3"
  },
  "language_info": {
   "codemirror_mode": {
    "name": "ipython",
    "version": 3
   },
   "file_extension": ".py",
   "mimetype": "text/x-python",
   "name": "python",
   "nbconvert_exporter": "python",
   "pygments_lexer": "ipython3",
   "version": "3.7.4"
  }
 },
 "nbformat": 4,
 "nbformat_minor": 2
}
