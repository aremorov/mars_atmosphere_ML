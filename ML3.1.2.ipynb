{
 "cells": [
  {
   "cell_type": "markdown",
   "metadata": {},
   "source": [
    "Applying the regressors to output infrared fluxes in the whole atmosphere. This is using TOASW, temp surface temp."
   ]
  },
  {
   "cell_type": "code",
   "execution_count": 1,
   "metadata": {},
   "outputs": [],
   "source": [
    "import xarray as xr\n",
    "import matplotlib.pyplot as plt\n",
    "import numpy as np\n",
    "import pandas as pd"
   ]
  },
  {
   "cell_type": "code",
   "execution_count": 2,
   "metadata": {},
   "outputs": [],
   "source": [
    "DS_a = xr.open_dataset('af_summer') #dataset of auxhist\n",
    "DS_w = xr.open_dataset('wf_summer') #dataset of wrfout"
   ]
  },
  {
   "cell_type": "code",
   "execution_count": 3,
   "metadata": {},
   "outputs": [
    {
     "data": {
      "text/plain": [
       "(240, 52, 36, 72)"
      ]
     },
     "execution_count": 3,
     "metadata": {},
     "output_type": "execute_result"
    }
   ],
   "source": [
    "#Temperature:\n",
    "T = (DS_w.T.values + DS_w.T0) * ((DS_w.P.values + DS_w.PB.values)/DS_w.P0)**(DS_w.R_D/DS_w.CP)\n",
    "T.shape"
   ]
  },
  {
   "cell_type": "code",
   "execution_count": 4,
   "metadata": {},
   "outputs": [
    {
     "data": {
      "text/plain": [
       "(240, 36, 72)"
      ]
     },
     "execution_count": 4,
     "metadata": {},
     "output_type": "execute_result"
    }
   ],
   "source": [
    "albedo = DS_a.ALBEDO.values \n",
    "albedo.shape #days, latitude, longtitude"
   ]
  },
  {
   "cell_type": "code",
   "execution_count": 5,
   "metadata": {},
   "outputs": [
    {
     "data": {
      "text/plain": [
       "(240, 52, 36, 72)"
      ]
     },
     "execution_count": 5,
     "metadata": {},
     "output_type": "execute_result"
    }
   ],
   "source": [
    "d_c = DS_a.TAU_OD.values\n",
    "d_c.shape "
   ]
  },
  {
   "cell_type": "code",
   "execution_count": 6,
   "metadata": {},
   "outputs": [
    {
     "data": {
      "text/plain": [
       "(240, 36, 72)"
      ]
     },
     "execution_count": 6,
     "metadata": {},
     "output_type": "execute_result"
    }
   ],
   "source": [
    "st = DS_w.TSK.values\n",
    "st.shape"
   ]
  },
  {
   "cell_type": "code",
   "execution_count": 7,
   "metadata": {},
   "outputs": [
    {
     "data": {
      "text/plain": [
       "(240, 36, 72)"
      ]
     },
     "execution_count": 7,
     "metadata": {},
     "output_type": "execute_result"
    }
   ],
   "source": [
    "tsf = DS_a.TOASW.values #top solar flux\n",
    "tsf.shape"
   ]
  },
  {
   "cell_type": "code",
   "execution_count": 8,
   "metadata": {},
   "outputs": [
    {
     "data": {
      "text/plain": [
       "(240, 53, 36, 72)"
      ]
     },
     "execution_count": 8,
     "metadata": {},
     "output_type": "execute_result"
    }
   ],
   "source": [
    "msf = DS_a.DOWNIRFLUX.values #whole atmosphere down infrared flux\n",
    "msf.shape"
   ]
  },
  {
   "cell_type": "markdown",
   "metadata": {},
   "source": [
    "Let's combine the data together for ten time samples, with full latitude and longitude:"
   ]
  },
  {
   "cell_type": "code",
   "execution_count": 9,
   "metadata": {},
   "outputs": [],
   "source": [
    "e_t = [] #full input and output\n",
    "#input:\n",
    "for k in range(10): #10 days\n",
    "    for i in range(36):\n",
    "        for j in range(72):\n",
    "            input_array = list(T[k,:,i,j]) #start with temp profile\n",
    "            input_array.append(albedo[k,i,j]) #add albedo\n",
    "            input_array += list(d_c[k,:,i,j]) #add dust profile\n",
    "            input_array.append(st[k,i,j])#add surface temp\n",
    "            input_array.append(tsf[k,i,j]) #add top solar flux,\n",
    "            input_array += list(msf[k,:,i,j])            \n",
    "            e_t.append(input_array) #appends input to input array"
   ]
  },
  {
   "cell_type": "code",
   "execution_count": 10,
   "metadata": {},
   "outputs": [
    {
     "data": {
      "text/plain": [
       "(25920, 160)"
      ]
     },
     "execution_count": 10,
     "metadata": {},
     "output_type": "execute_result"
    }
   ],
   "source": [
    "e_t = np.array(e_t)\n",
    "e_t.shape"
   ]
  },
  {
   "cell_type": "code",
   "execution_count": 11,
   "metadata": {
    "scrolled": true
   },
   "outputs": [
    {
     "data": {
      "text/html": [
       "<div>\n",
       "<style scoped>\n",
       "    .dataframe tbody tr th:only-of-type {\n",
       "        vertical-align: middle;\n",
       "    }\n",
       "\n",
       "    .dataframe tbody tr th {\n",
       "        vertical-align: top;\n",
       "    }\n",
       "\n",
       "    .dataframe thead th {\n",
       "        text-align: right;\n",
       "    }\n",
       "</style>\n",
       "<table border=\"1\" class=\"dataframe\">\n",
       "  <thead>\n",
       "    <tr style=\"text-align: right;\">\n",
       "      <th></th>\n",
       "      <th>0</th>\n",
       "      <th>1</th>\n",
       "      <th>2</th>\n",
       "      <th>3</th>\n",
       "      <th>4</th>\n",
       "      <th>5</th>\n",
       "      <th>6</th>\n",
       "      <th>7</th>\n",
       "      <th>8</th>\n",
       "      <th>9</th>\n",
       "      <th>...</th>\n",
       "      <th>150</th>\n",
       "      <th>151</th>\n",
       "      <th>152</th>\n",
       "      <th>153</th>\n",
       "      <th>154</th>\n",
       "      <th>155</th>\n",
       "      <th>156</th>\n",
       "      <th>157</th>\n",
       "      <th>158</th>\n",
       "      <th>159</th>\n",
       "    </tr>\n",
       "  </thead>\n",
       "  <tbody>\n",
       "    <tr>\n",
       "      <td>0</td>\n",
       "      <td>145.366364</td>\n",
       "      <td>145.375549</td>\n",
       "      <td>145.250473</td>\n",
       "      <td>145.121567</td>\n",
       "      <td>145.078796</td>\n",
       "      <td>145.023163</td>\n",
       "      <td>145.189453</td>\n",
       "      <td>145.473892</td>\n",
       "      <td>145.713150</td>\n",
       "      <td>145.916763</td>\n",
       "      <td>...</td>\n",
       "      <td>1.622306</td>\n",
       "      <td>1.641392</td>\n",
       "      <td>1.650002</td>\n",
       "      <td>1.655571</td>\n",
       "      <td>1.658584</td>\n",
       "      <td>1.661380</td>\n",
       "      <td>1.667473</td>\n",
       "      <td>1.676769</td>\n",
       "      <td>1.688146</td>\n",
       "      <td>1.701650</td>\n",
       "    </tr>\n",
       "    <tr>\n",
       "      <td>1</td>\n",
       "      <td>145.355194</td>\n",
       "      <td>145.364105</td>\n",
       "      <td>145.240753</td>\n",
       "      <td>145.119034</td>\n",
       "      <td>145.085220</td>\n",
       "      <td>145.023117</td>\n",
       "      <td>145.166550</td>\n",
       "      <td>145.437637</td>\n",
       "      <td>145.675308</td>\n",
       "      <td>145.880386</td>\n",
       "      <td>...</td>\n",
       "      <td>1.622633</td>\n",
       "      <td>1.641348</td>\n",
       "      <td>1.649709</td>\n",
       "      <td>1.655127</td>\n",
       "      <td>1.658215</td>\n",
       "      <td>1.661387</td>\n",
       "      <td>1.667917</td>\n",
       "      <td>1.677393</td>\n",
       "      <td>1.688703</td>\n",
       "      <td>1.702097</td>\n",
       "    </tr>\n",
       "    <tr>\n",
       "      <td>2</td>\n",
       "      <td>145.339249</td>\n",
       "      <td>145.347641</td>\n",
       "      <td>145.226212</td>\n",
       "      <td>145.111771</td>\n",
       "      <td>145.086777</td>\n",
       "      <td>145.018188</td>\n",
       "      <td>145.138336</td>\n",
       "      <td>145.394943</td>\n",
       "      <td>145.629715</td>\n",
       "      <td>145.835007</td>\n",
       "      <td>...</td>\n",
       "      <td>1.621776</td>\n",
       "      <td>1.640126</td>\n",
       "      <td>1.648265</td>\n",
       "      <td>1.653570</td>\n",
       "      <td>1.656776</td>\n",
       "      <td>1.660360</td>\n",
       "      <td>1.667346</td>\n",
       "      <td>1.677010</td>\n",
       "      <td>1.688257</td>\n",
       "      <td>1.701535</td>\n",
       "    </tr>\n",
       "    <tr>\n",
       "      <td>3</td>\n",
       "      <td>145.318710</td>\n",
       "      <td>145.326401</td>\n",
       "      <td>145.206985</td>\n",
       "      <td>145.099884</td>\n",
       "      <td>145.083420</td>\n",
       "      <td>145.008438</td>\n",
       "      <td>145.105011</td>\n",
       "      <td>145.346191</td>\n",
       "      <td>145.576767</td>\n",
       "      <td>145.781067</td>\n",
       "      <td>...</td>\n",
       "      <td>1.619748</td>\n",
       "      <td>1.637743</td>\n",
       "      <td>1.645687</td>\n",
       "      <td>1.650919</td>\n",
       "      <td>1.654287</td>\n",
       "      <td>1.658312</td>\n",
       "      <td>1.665769</td>\n",
       "      <td>1.675626</td>\n",
       "      <td>1.686812</td>\n",
       "      <td>1.699972</td>\n",
       "    </tr>\n",
       "    <tr>\n",
       "      <td>4</td>\n",
       "      <td>145.293808</td>\n",
       "      <td>145.300583</td>\n",
       "      <td>145.183304</td>\n",
       "      <td>145.083557</td>\n",
       "      <td>145.075317</td>\n",
       "      <td>144.994003</td>\n",
       "      <td>145.067001</td>\n",
       "      <td>145.291870</td>\n",
       "      <td>145.516983</td>\n",
       "      <td>145.719086</td>\n",
       "      <td>...</td>\n",
       "      <td>1.616576</td>\n",
       "      <td>1.634230</td>\n",
       "      <td>1.642008</td>\n",
       "      <td>1.647207</td>\n",
       "      <td>1.650775</td>\n",
       "      <td>1.655270</td>\n",
       "      <td>1.663205</td>\n",
       "      <td>1.673261</td>\n",
       "      <td>1.684391</td>\n",
       "      <td>1.697431</td>\n",
       "    </tr>\n",
       "    <tr>\n",
       "      <td>...</td>\n",
       "      <td>...</td>\n",
       "      <td>...</td>\n",
       "      <td>...</td>\n",
       "      <td>...</td>\n",
       "      <td>...</td>\n",
       "      <td>...</td>\n",
       "      <td>...</td>\n",
       "      <td>...</td>\n",
       "      <td>...</td>\n",
       "      <td>...</td>\n",
       "      <td>...</td>\n",
       "      <td>...</td>\n",
       "      <td>...</td>\n",
       "      <td>...</td>\n",
       "      <td>...</td>\n",
       "      <td>...</td>\n",
       "      <td>...</td>\n",
       "      <td>...</td>\n",
       "      <td>...</td>\n",
       "      <td>...</td>\n",
       "      <td>...</td>\n",
       "    </tr>\n",
       "    <tr>\n",
       "      <td>25915</td>\n",
       "      <td>203.135361</td>\n",
       "      <td>209.059677</td>\n",
       "      <td>210.575775</td>\n",
       "      <td>209.821228</td>\n",
       "      <td>209.137451</td>\n",
       "      <td>208.484238</td>\n",
       "      <td>207.903412</td>\n",
       "      <td>207.418442</td>\n",
       "      <td>207.058044</td>\n",
       "      <td>206.838623</td>\n",
       "      <td>...</td>\n",
       "      <td>17.264431</td>\n",
       "      <td>17.437153</td>\n",
       "      <td>17.564495</td>\n",
       "      <td>17.714914</td>\n",
       "      <td>17.894089</td>\n",
       "      <td>18.101908</td>\n",
       "      <td>18.335405</td>\n",
       "      <td>18.589834</td>\n",
       "      <td>18.863415</td>\n",
       "      <td>18.988567</td>\n",
       "    </tr>\n",
       "    <tr>\n",
       "      <td>25916</td>\n",
       "      <td>202.649429</td>\n",
       "      <td>208.143387</td>\n",
       "      <td>210.633591</td>\n",
       "      <td>209.771194</td>\n",
       "      <td>209.031052</td>\n",
       "      <td>208.369095</td>\n",
       "      <td>207.786957</td>\n",
       "      <td>207.308685</td>\n",
       "      <td>206.964951</td>\n",
       "      <td>206.774780</td>\n",
       "      <td>...</td>\n",
       "      <td>17.272963</td>\n",
       "      <td>17.438124</td>\n",
       "      <td>17.559109</td>\n",
       "      <td>17.703238</td>\n",
       "      <td>17.877565</td>\n",
       "      <td>18.082272</td>\n",
       "      <td>18.314325</td>\n",
       "      <td>18.571690</td>\n",
       "      <td>18.856842</td>\n",
       "      <td>18.916544</td>\n",
       "    </tr>\n",
       "    <tr>\n",
       "      <td>25917</td>\n",
       "      <td>201.980270</td>\n",
       "      <td>207.064316</td>\n",
       "      <td>210.636368</td>\n",
       "      <td>209.671600</td>\n",
       "      <td>208.891586</td>\n",
       "      <td>208.228622</td>\n",
       "      <td>207.651230</td>\n",
       "      <td>207.183563</td>\n",
       "      <td>206.859573</td>\n",
       "      <td>206.701569</td>\n",
       "      <td>...</td>\n",
       "      <td>17.279772</td>\n",
       "      <td>17.436632</td>\n",
       "      <td>17.550734</td>\n",
       "      <td>17.687943</td>\n",
       "      <td>17.856659</td>\n",
       "      <td>18.057196</td>\n",
       "      <td>18.286339</td>\n",
       "      <td>18.544279</td>\n",
       "      <td>18.838245</td>\n",
       "      <td>18.822620</td>\n",
       "    </tr>\n",
       "    <tr>\n",
       "      <td>25918</td>\n",
       "      <td>201.133255</td>\n",
       "      <td>205.830963</td>\n",
       "      <td>210.584457</td>\n",
       "      <td>209.523453</td>\n",
       "      <td>208.720383</td>\n",
       "      <td>208.064117</td>\n",
       "      <td>207.497543</td>\n",
       "      <td>207.044235</td>\n",
       "      <td>206.743027</td>\n",
       "      <td>206.619781</td>\n",
       "      <td>...</td>\n",
       "      <td>17.284805</td>\n",
       "      <td>17.432703</td>\n",
       "      <td>17.539440</td>\n",
       "      <td>17.669165</td>\n",
       "      <td>17.831553</td>\n",
       "      <td>18.026909</td>\n",
       "      <td>18.251719</td>\n",
       "      <td>18.507864</td>\n",
       "      <td>18.807810</td>\n",
       "      <td>18.707966</td>\n",
       "    </tr>\n",
       "    <tr>\n",
       "      <td>25919</td>\n",
       "      <td>200.114746</td>\n",
       "      <td>204.452591</td>\n",
       "      <td>210.478088</td>\n",
       "      <td>209.327789</td>\n",
       "      <td>208.518692</td>\n",
       "      <td>207.876770</td>\n",
       "      <td>207.326950</td>\n",
       "      <td>206.891739</td>\n",
       "      <td>206.616104</td>\n",
       "      <td>206.529938</td>\n",
       "      <td>...</td>\n",
       "      <td>17.288013</td>\n",
       "      <td>17.426353</td>\n",
       "      <td>17.525316</td>\n",
       "      <td>17.647049</td>\n",
       "      <td>17.802450</td>\n",
       "      <td>17.991669</td>\n",
       "      <td>18.210758</td>\n",
       "      <td>18.462786</td>\n",
       "      <td>18.765825</td>\n",
       "      <td>18.573984</td>\n",
       "    </tr>\n",
       "  </tbody>\n",
       "</table>\n",
       "<p>25920 rows × 160 columns</p>\n",
       "</div>"
      ],
      "text/plain": [
       "              0           1           2           3           4           5    \\\n",
       "0      145.366364  145.375549  145.250473  145.121567  145.078796  145.023163   \n",
       "1      145.355194  145.364105  145.240753  145.119034  145.085220  145.023117   \n",
       "2      145.339249  145.347641  145.226212  145.111771  145.086777  145.018188   \n",
       "3      145.318710  145.326401  145.206985  145.099884  145.083420  145.008438   \n",
       "4      145.293808  145.300583  145.183304  145.083557  145.075317  144.994003   \n",
       "...           ...         ...         ...         ...         ...         ...   \n",
       "25915  203.135361  209.059677  210.575775  209.821228  209.137451  208.484238   \n",
       "25916  202.649429  208.143387  210.633591  209.771194  209.031052  208.369095   \n",
       "25917  201.980270  207.064316  210.636368  209.671600  208.891586  208.228622   \n",
       "25918  201.133255  205.830963  210.584457  209.523453  208.720383  208.064117   \n",
       "25919  200.114746  204.452591  210.478088  209.327789  208.518692  207.876770   \n",
       "\n",
       "              6           7           8           9    ...        150  \\\n",
       "0      145.189453  145.473892  145.713150  145.916763  ...   1.622306   \n",
       "1      145.166550  145.437637  145.675308  145.880386  ...   1.622633   \n",
       "2      145.138336  145.394943  145.629715  145.835007  ...   1.621776   \n",
       "3      145.105011  145.346191  145.576767  145.781067  ...   1.619748   \n",
       "4      145.067001  145.291870  145.516983  145.719086  ...   1.616576   \n",
       "...           ...         ...         ...         ...  ...        ...   \n",
       "25915  207.903412  207.418442  207.058044  206.838623  ...  17.264431   \n",
       "25916  207.786957  207.308685  206.964951  206.774780  ...  17.272963   \n",
       "25917  207.651230  207.183563  206.859573  206.701569  ...  17.279772   \n",
       "25918  207.497543  207.044235  206.743027  206.619781  ...  17.284805   \n",
       "25919  207.326950  206.891739  206.616104  206.529938  ...  17.288013   \n",
       "\n",
       "             151        152        153        154        155        156  \\\n",
       "0       1.641392   1.650002   1.655571   1.658584   1.661380   1.667473   \n",
       "1       1.641348   1.649709   1.655127   1.658215   1.661387   1.667917   \n",
       "2       1.640126   1.648265   1.653570   1.656776   1.660360   1.667346   \n",
       "3       1.637743   1.645687   1.650919   1.654287   1.658312   1.665769   \n",
       "4       1.634230   1.642008   1.647207   1.650775   1.655270   1.663205   \n",
       "...          ...        ...        ...        ...        ...        ...   \n",
       "25915  17.437153  17.564495  17.714914  17.894089  18.101908  18.335405   \n",
       "25916  17.438124  17.559109  17.703238  17.877565  18.082272  18.314325   \n",
       "25917  17.436632  17.550734  17.687943  17.856659  18.057196  18.286339   \n",
       "25918  17.432703  17.539440  17.669165  17.831553  18.026909  18.251719   \n",
       "25919  17.426353  17.525316  17.647049  17.802450  17.991669  18.210758   \n",
       "\n",
       "             157        158        159  \n",
       "0       1.676769   1.688146   1.701650  \n",
       "1       1.677393   1.688703   1.702097  \n",
       "2       1.677010   1.688257   1.701535  \n",
       "3       1.675626   1.686812   1.699972  \n",
       "4       1.673261   1.684391   1.697431  \n",
       "...          ...        ...        ...  \n",
       "25915  18.589834  18.863415  18.988567  \n",
       "25916  18.571690  18.856842  18.916544  \n",
       "25917  18.544279  18.838245  18.822620  \n",
       "25918  18.507864  18.807810  18.707966  \n",
       "25919  18.462786  18.765825  18.573984  \n",
       "\n",
       "[25920 rows x 160 columns]"
      ]
     },
     "execution_count": 11,
     "metadata": {},
     "output_type": "execute_result"
    }
   ],
   "source": [
    "pd.DataFrame(e_t)"
   ]
  },
  {
   "cell_type": "code",
   "execution_count": 12,
   "metadata": {},
   "outputs": [],
   "source": [
    "e_d = pd.DataFrame(e_t) \n",
    "e_d = e_d[e_d.iloc[:,106] != 0] #remove 0 tsf"
   ]
  },
  {
   "cell_type": "code",
   "execution_count": 13,
   "metadata": {},
   "outputs": [
    {
     "data": {
      "text/html": [
       "<div>\n",
       "<style scoped>\n",
       "    .dataframe tbody tr th:only-of-type {\n",
       "        vertical-align: middle;\n",
       "    }\n",
       "\n",
       "    .dataframe tbody tr th {\n",
       "        vertical-align: top;\n",
       "    }\n",
       "\n",
       "    .dataframe thead th {\n",
       "        text-align: right;\n",
       "    }\n",
       "</style>\n",
       "<table border=\"1\" class=\"dataframe\">\n",
       "  <thead>\n",
       "    <tr style=\"text-align: right;\">\n",
       "      <th></th>\n",
       "      <th>0</th>\n",
       "      <th>1</th>\n",
       "      <th>2</th>\n",
       "      <th>3</th>\n",
       "      <th>4</th>\n",
       "      <th>5</th>\n",
       "      <th>6</th>\n",
       "      <th>7</th>\n",
       "      <th>8</th>\n",
       "      <th>9</th>\n",
       "      <th>...</th>\n",
       "      <th>150</th>\n",
       "      <th>151</th>\n",
       "      <th>152</th>\n",
       "      <th>153</th>\n",
       "      <th>154</th>\n",
       "      <th>155</th>\n",
       "      <th>156</th>\n",
       "      <th>157</th>\n",
       "      <th>158</th>\n",
       "      <th>159</th>\n",
       "    </tr>\n",
       "  </thead>\n",
       "  <tbody>\n",
       "    <tr>\n",
       "      <td>410</td>\n",
       "      <td>148.971024</td>\n",
       "      <td>149.289719</td>\n",
       "      <td>149.457825</td>\n",
       "      <td>150.058090</td>\n",
       "      <td>151.966171</td>\n",
       "      <td>153.060059</td>\n",
       "      <td>152.828384</td>\n",
       "      <td>152.936951</td>\n",
       "      <td>152.850479</td>\n",
       "      <td>152.613953</td>\n",
       "      <td>...</td>\n",
       "      <td>2.626692</td>\n",
       "      <td>2.665324</td>\n",
       "      <td>2.693416</td>\n",
       "      <td>2.720711</td>\n",
       "      <td>2.741740</td>\n",
       "      <td>2.763087</td>\n",
       "      <td>2.769450</td>\n",
       "      <td>2.736681</td>\n",
       "      <td>2.694639</td>\n",
       "      <td>2.672141</td>\n",
       "    </tr>\n",
       "    <tr>\n",
       "      <td>411</td>\n",
       "      <td>148.529221</td>\n",
       "      <td>148.691559</td>\n",
       "      <td>148.816650</td>\n",
       "      <td>149.519455</td>\n",
       "      <td>152.954102</td>\n",
       "      <td>153.354706</td>\n",
       "      <td>153.182053</td>\n",
       "      <td>153.473312</td>\n",
       "      <td>153.434662</td>\n",
       "      <td>153.284134</td>\n",
       "      <td>...</td>\n",
       "      <td>2.650025</td>\n",
       "      <td>2.688693</td>\n",
       "      <td>2.715139</td>\n",
       "      <td>2.739695</td>\n",
       "      <td>2.756317</td>\n",
       "      <td>2.773211</td>\n",
       "      <td>2.786700</td>\n",
       "      <td>2.744534</td>\n",
       "      <td>2.675190</td>\n",
       "      <td>2.639078</td>\n",
       "    </tr>\n",
       "    <tr>\n",
       "      <td>412</td>\n",
       "      <td>148.337738</td>\n",
       "      <td>148.512451</td>\n",
       "      <td>148.603638</td>\n",
       "      <td>149.239441</td>\n",
       "      <td>153.654449</td>\n",
       "      <td>153.547440</td>\n",
       "      <td>153.498688</td>\n",
       "      <td>153.621140</td>\n",
       "      <td>153.735184</td>\n",
       "      <td>153.728210</td>\n",
       "      <td>...</td>\n",
       "      <td>2.637403</td>\n",
       "      <td>2.671390</td>\n",
       "      <td>2.692815</td>\n",
       "      <td>2.710692</td>\n",
       "      <td>2.724842</td>\n",
       "      <td>2.740943</td>\n",
       "      <td>2.759532</td>\n",
       "      <td>2.714390</td>\n",
       "      <td>2.630975</td>\n",
       "      <td>2.588503</td>\n",
       "    </tr>\n",
       "    <tr>\n",
       "      <td>413</td>\n",
       "      <td>148.656418</td>\n",
       "      <td>148.915863</td>\n",
       "      <td>149.051331</td>\n",
       "      <td>149.666977</td>\n",
       "      <td>154.529251</td>\n",
       "      <td>154.445358</td>\n",
       "      <td>154.295990</td>\n",
       "      <td>154.043549</td>\n",
       "      <td>154.126083</td>\n",
       "      <td>154.078506</td>\n",
       "      <td>...</td>\n",
       "      <td>2.608326</td>\n",
       "      <td>2.643057</td>\n",
       "      <td>2.666249</td>\n",
       "      <td>2.686648</td>\n",
       "      <td>2.708280</td>\n",
       "      <td>2.734061</td>\n",
       "      <td>2.759035</td>\n",
       "      <td>2.712429</td>\n",
       "      <td>2.622640</td>\n",
       "      <td>2.575796</td>\n",
       "    </tr>\n",
       "    <tr>\n",
       "      <td>414</td>\n",
       "      <td>148.002502</td>\n",
       "      <td>148.274139</td>\n",
       "      <td>148.458023</td>\n",
       "      <td>149.150360</td>\n",
       "      <td>153.979401</td>\n",
       "      <td>154.204926</td>\n",
       "      <td>153.937500</td>\n",
       "      <td>153.577530</td>\n",
       "      <td>153.373413</td>\n",
       "      <td>153.182495</td>\n",
       "      <td>...</td>\n",
       "      <td>2.427840</td>\n",
       "      <td>2.465224</td>\n",
       "      <td>2.492255</td>\n",
       "      <td>2.520168</td>\n",
       "      <td>2.550434</td>\n",
       "      <td>2.582337</td>\n",
       "      <td>2.607381</td>\n",
       "      <td>2.561800</td>\n",
       "      <td>2.476156</td>\n",
       "      <td>2.429174</td>\n",
       "    </tr>\n",
       "    <tr>\n",
       "      <td>...</td>\n",
       "      <td>...</td>\n",
       "      <td>...</td>\n",
       "      <td>...</td>\n",
       "      <td>...</td>\n",
       "      <td>...</td>\n",
       "      <td>...</td>\n",
       "      <td>...</td>\n",
       "      <td>...</td>\n",
       "      <td>...</td>\n",
       "      <td>...</td>\n",
       "      <td>...</td>\n",
       "      <td>...</td>\n",
       "      <td>...</td>\n",
       "      <td>...</td>\n",
       "      <td>...</td>\n",
       "      <td>...</td>\n",
       "      <td>...</td>\n",
       "      <td>...</td>\n",
       "      <td>...</td>\n",
       "      <td>...</td>\n",
       "      <td>...</td>\n",
       "    </tr>\n",
       "    <tr>\n",
       "      <td>25915</td>\n",
       "      <td>203.135361</td>\n",
       "      <td>209.059677</td>\n",
       "      <td>210.575775</td>\n",
       "      <td>209.821228</td>\n",
       "      <td>209.137451</td>\n",
       "      <td>208.484238</td>\n",
       "      <td>207.903412</td>\n",
       "      <td>207.418442</td>\n",
       "      <td>207.058044</td>\n",
       "      <td>206.838623</td>\n",
       "      <td>...</td>\n",
       "      <td>17.264431</td>\n",
       "      <td>17.437153</td>\n",
       "      <td>17.564495</td>\n",
       "      <td>17.714914</td>\n",
       "      <td>17.894089</td>\n",
       "      <td>18.101908</td>\n",
       "      <td>18.335405</td>\n",
       "      <td>18.589834</td>\n",
       "      <td>18.863415</td>\n",
       "      <td>18.988567</td>\n",
       "    </tr>\n",
       "    <tr>\n",
       "      <td>25916</td>\n",
       "      <td>202.649429</td>\n",
       "      <td>208.143387</td>\n",
       "      <td>210.633591</td>\n",
       "      <td>209.771194</td>\n",
       "      <td>209.031052</td>\n",
       "      <td>208.369095</td>\n",
       "      <td>207.786957</td>\n",
       "      <td>207.308685</td>\n",
       "      <td>206.964951</td>\n",
       "      <td>206.774780</td>\n",
       "      <td>...</td>\n",
       "      <td>17.272963</td>\n",
       "      <td>17.438124</td>\n",
       "      <td>17.559109</td>\n",
       "      <td>17.703238</td>\n",
       "      <td>17.877565</td>\n",
       "      <td>18.082272</td>\n",
       "      <td>18.314325</td>\n",
       "      <td>18.571690</td>\n",
       "      <td>18.856842</td>\n",
       "      <td>18.916544</td>\n",
       "    </tr>\n",
       "    <tr>\n",
       "      <td>25917</td>\n",
       "      <td>201.980270</td>\n",
       "      <td>207.064316</td>\n",
       "      <td>210.636368</td>\n",
       "      <td>209.671600</td>\n",
       "      <td>208.891586</td>\n",
       "      <td>208.228622</td>\n",
       "      <td>207.651230</td>\n",
       "      <td>207.183563</td>\n",
       "      <td>206.859573</td>\n",
       "      <td>206.701569</td>\n",
       "      <td>...</td>\n",
       "      <td>17.279772</td>\n",
       "      <td>17.436632</td>\n",
       "      <td>17.550734</td>\n",
       "      <td>17.687943</td>\n",
       "      <td>17.856659</td>\n",
       "      <td>18.057196</td>\n",
       "      <td>18.286339</td>\n",
       "      <td>18.544279</td>\n",
       "      <td>18.838245</td>\n",
       "      <td>18.822620</td>\n",
       "    </tr>\n",
       "    <tr>\n",
       "      <td>25918</td>\n",
       "      <td>201.133255</td>\n",
       "      <td>205.830963</td>\n",
       "      <td>210.584457</td>\n",
       "      <td>209.523453</td>\n",
       "      <td>208.720383</td>\n",
       "      <td>208.064117</td>\n",
       "      <td>207.497543</td>\n",
       "      <td>207.044235</td>\n",
       "      <td>206.743027</td>\n",
       "      <td>206.619781</td>\n",
       "      <td>...</td>\n",
       "      <td>17.284805</td>\n",
       "      <td>17.432703</td>\n",
       "      <td>17.539440</td>\n",
       "      <td>17.669165</td>\n",
       "      <td>17.831553</td>\n",
       "      <td>18.026909</td>\n",
       "      <td>18.251719</td>\n",
       "      <td>18.507864</td>\n",
       "      <td>18.807810</td>\n",
       "      <td>18.707966</td>\n",
       "    </tr>\n",
       "    <tr>\n",
       "      <td>25919</td>\n",
       "      <td>200.114746</td>\n",
       "      <td>204.452591</td>\n",
       "      <td>210.478088</td>\n",
       "      <td>209.327789</td>\n",
       "      <td>208.518692</td>\n",
       "      <td>207.876770</td>\n",
       "      <td>207.326950</td>\n",
       "      <td>206.891739</td>\n",
       "      <td>206.616104</td>\n",
       "      <td>206.529938</td>\n",
       "      <td>...</td>\n",
       "      <td>17.288013</td>\n",
       "      <td>17.426353</td>\n",
       "      <td>17.525316</td>\n",
       "      <td>17.647049</td>\n",
       "      <td>17.802450</td>\n",
       "      <td>17.991669</td>\n",
       "      <td>18.210758</td>\n",
       "      <td>18.462786</td>\n",
       "      <td>18.765825</td>\n",
       "      <td>18.573984</td>\n",
       "    </tr>\n",
       "  </tbody>\n",
       "</table>\n",
       "<p>13160 rows × 160 columns</p>\n",
       "</div>"
      ],
      "text/plain": [
       "              0           1           2           3           4           5    \\\n",
       "410    148.971024  149.289719  149.457825  150.058090  151.966171  153.060059   \n",
       "411    148.529221  148.691559  148.816650  149.519455  152.954102  153.354706   \n",
       "412    148.337738  148.512451  148.603638  149.239441  153.654449  153.547440   \n",
       "413    148.656418  148.915863  149.051331  149.666977  154.529251  154.445358   \n",
       "414    148.002502  148.274139  148.458023  149.150360  153.979401  154.204926   \n",
       "...           ...         ...         ...         ...         ...         ...   \n",
       "25915  203.135361  209.059677  210.575775  209.821228  209.137451  208.484238   \n",
       "25916  202.649429  208.143387  210.633591  209.771194  209.031052  208.369095   \n",
       "25917  201.980270  207.064316  210.636368  209.671600  208.891586  208.228622   \n",
       "25918  201.133255  205.830963  210.584457  209.523453  208.720383  208.064117   \n",
       "25919  200.114746  204.452591  210.478088  209.327789  208.518692  207.876770   \n",
       "\n",
       "              6           7           8           9    ...        150  \\\n",
       "410    152.828384  152.936951  152.850479  152.613953  ...   2.626692   \n",
       "411    153.182053  153.473312  153.434662  153.284134  ...   2.650025   \n",
       "412    153.498688  153.621140  153.735184  153.728210  ...   2.637403   \n",
       "413    154.295990  154.043549  154.126083  154.078506  ...   2.608326   \n",
       "414    153.937500  153.577530  153.373413  153.182495  ...   2.427840   \n",
       "...           ...         ...         ...         ...  ...        ...   \n",
       "25915  207.903412  207.418442  207.058044  206.838623  ...  17.264431   \n",
       "25916  207.786957  207.308685  206.964951  206.774780  ...  17.272963   \n",
       "25917  207.651230  207.183563  206.859573  206.701569  ...  17.279772   \n",
       "25918  207.497543  207.044235  206.743027  206.619781  ...  17.284805   \n",
       "25919  207.326950  206.891739  206.616104  206.529938  ...  17.288013   \n",
       "\n",
       "             151        152        153        154        155        156  \\\n",
       "410     2.665324   2.693416   2.720711   2.741740   2.763087   2.769450   \n",
       "411     2.688693   2.715139   2.739695   2.756317   2.773211   2.786700   \n",
       "412     2.671390   2.692815   2.710692   2.724842   2.740943   2.759532   \n",
       "413     2.643057   2.666249   2.686648   2.708280   2.734061   2.759035   \n",
       "414     2.465224   2.492255   2.520168   2.550434   2.582337   2.607381   \n",
       "...          ...        ...        ...        ...        ...        ...   \n",
       "25915  17.437153  17.564495  17.714914  17.894089  18.101908  18.335405   \n",
       "25916  17.438124  17.559109  17.703238  17.877565  18.082272  18.314325   \n",
       "25917  17.436632  17.550734  17.687943  17.856659  18.057196  18.286339   \n",
       "25918  17.432703  17.539440  17.669165  17.831553  18.026909  18.251719   \n",
       "25919  17.426353  17.525316  17.647049  17.802450  17.991669  18.210758   \n",
       "\n",
       "             157        158        159  \n",
       "410     2.736681   2.694639   2.672141  \n",
       "411     2.744534   2.675190   2.639078  \n",
       "412     2.714390   2.630975   2.588503  \n",
       "413     2.712429   2.622640   2.575796  \n",
       "414     2.561800   2.476156   2.429174  \n",
       "...          ...        ...        ...  \n",
       "25915  18.589834  18.863415  18.988567  \n",
       "25916  18.571690  18.856842  18.916544  \n",
       "25917  18.544279  18.838245  18.822620  \n",
       "25918  18.507864  18.807810  18.707966  \n",
       "25919  18.462786  18.765825  18.573984  \n",
       "\n",
       "[13160 rows x 160 columns]"
      ]
     },
     "execution_count": 13,
     "metadata": {},
     "output_type": "execute_result"
    }
   ],
   "source": [
    "e_d"
   ]
  },
  {
   "cell_type": "markdown",
   "metadata": {},
   "source": [
    "This function splits the training data, into n_split groups, according to percentiles of a value located at special index s_index. Then, it trains n_split regressors, each on its respective group, and then outputs these. The ith regressor is trained on the data containing 100(i/n_split) to 100((i+1)/n_split) percentiles of the value located at s_index. The special index is set as the top solar flux, which is the last index of the input data."
   ]
  },
  {
   "cell_type": "code",
   "execution_count": 14,
   "metadata": {},
   "outputs": [],
   "source": [
    "from sklearn.linear_model import LinearRegression\n",
    "\n",
    "\n",
    "def sat(training_data, n_split, s_index): \n",
    "    regressor_list = []\n",
    "    training_data = np.array(training_data)\n",
    "    \n",
    "    for i in range(n_split): #splitting training data\n",
    "        upper_bound = np.percentile(training_data[:,s_index], (i+1) * 100/n_split)\n",
    "        lower_bound = np.percentile(training_data[:,s_index], i * 100/n_split)\n",
    "        i_data = training_data[training_data[:,s_index] < upper_bound]\n",
    "        i_data = i_data[i_data[:,s_index] >= lower_bound]\n",
    "        train_in = i_data[:,:s_index+1] #training input\n",
    "        train_out = i_data[:,s_index+1:] #training output\n",
    "        lri = LinearRegression() #linear regression i\n",
    "        lri.fit(train_in,train_out)\n",
    "        regressor_list.append(lri)\n",
    "    \n",
    "    return regressor_list"
   ]
  },
  {
   "cell_type": "markdown",
   "metadata": {},
   "source": [
    "This function predicts the output according to the n_split regressors, where the ith regressor is used on the data containing 100(i/n_split) to 100((i+1)/n_split) percentiles of the value located at s_index."
   ]
  },
  {
   "cell_type": "code",
   "execution_count": 15,
   "metadata": {},
   "outputs": [],
   "source": [
    "def s_predict(in_data, reg_list, s_index): #predict the output using previously obtained linear regressor list\n",
    "    in_data = np.array(in_data)\n",
    "    out_data = []\n",
    "    for instance in in_data:\n",
    "        for i in range(len(reg_list)):\n",
    "            upper_bound = np.percentile(in_data[:,s_index], (i+1) * 100/len(reg_list))\n",
    "            lower_bound = np.percentile(in_data[:,s_index], i * 100/len(reg_list))\n",
    "            if instance[s_index] < upper_bound and instance[s_index] >= lower_bound:\n",
    "                out_data.append(reg_list[i].predict(instance[:s_index+1].reshape(1,-1))[0]) #predicts using a certain regressor\n",
    "        if(instance[s_index] == np.max(in_data[:,s_index])): #the search right above ignores the absolute maximum element\n",
    "            out_data.append(reg_list[-1].predict(instance[:s_index+1].reshape(1,-1))[0]) #uses lin reg for largest elements\n",
    "    return np.array(out_data)   "
   ]
  },
  {
   "cell_type": "code",
   "execution_count": 16,
   "metadata": {},
   "outputs": [],
   "source": [
    "lr_list = sat(e_d, 10, 106) #linear regressor list, let's try 10 regressors\n",
    "custom_out = s_predict(e_d, lr_list, 106)"
   ]
  },
  {
   "cell_type": "code",
   "execution_count": 17,
   "metadata": {},
   "outputs": [],
   "source": [
    "#rlr_list = satr(e_d, 10, 52) #relative error minimizing linear regressor list\n",
    "#custom_out2 = s_predict(e_d, rlr_list, 52)"
   ]
  },
  {
   "cell_type": "code",
   "execution_count": 18,
   "metadata": {},
   "outputs": [],
   "source": [
    "total_in = e_d.iloc[:,:107] #total input\n",
    "total_out = e_d.iloc[:,107:] #total output"
   ]
  },
  {
   "cell_type": "code",
   "execution_count": 19,
   "metadata": {},
   "outputs": [
    {
     "data": {
      "text/plain": [
       "(13160, 53)"
      ]
     },
     "execution_count": 19,
     "metadata": {},
     "output_type": "execute_result"
    }
   ],
   "source": [
    "total_out.shape"
   ]
  },
  {
   "cell_type": "code",
   "execution_count": 20,
   "metadata": {},
   "outputs": [
    {
     "name": "stdout",
     "output_type": "stream",
     "text": [
      "Error for RMSE minimizing regressors:0.52851737\n"
     ]
    }
   ],
   "source": [
    "from sklearn.metrics import mean_squared_error\n",
    "\n",
    "lin_mse = mean_squared_error(total_out, custom_out)\n",
    "lin_rmse = np.sqrt(lin_mse)\n",
    "print(\"Error for RMSE minimizing regressors:\" + str(lin_rmse)) #great!\n",
    "#lin_rel = mean_squared_error(total_out, custom_out2)\n",
    "#lin_rel = np.sqrt(lin_rel)\n",
    "#print(\"Error for relative error minimizing regressors:\" + str(lin_rel)) #slightly higher but still pretty low"
   ]
  },
  {
   "cell_type": "code",
   "execution_count": 21,
   "metadata": {},
   "outputs": [
    {
     "data": {
      "text/plain": [
       "7.7488112"
      ]
     },
     "execution_count": 21,
     "metadata": {},
     "output_type": "execute_result"
    }
   ],
   "source": [
    "np.average(total_out)"
   ]
  },
  {
   "cell_type": "markdown",
   "metadata": {},
   "source": [
    "Area integration of error:"
   ]
  },
  {
   "cell_type": "code",
   "execution_count": 22,
   "metadata": {},
   "outputs": [],
   "source": [
    "def int_err(pred, real, real_in, r): \n",
    "    areas = []\n",
    "    for i in range(len(real)):\n",
    "        dA =  -r**2 * np.sin((np.pi/36)*((real_in.index[i]//72)%36)) * (np.pi/36) * (np.pi/36)  #area increment\n",
    "        areas.append(dA)\n",
    "    areas = np.array(areas)\n",
    "    areas2 = np.zeros([len(areas),real.shape[1]])\n",
    "    for i in range(53):\n",
    "        areas2[:,i] = areas #need height dimension too\n",
    "    eps = [] #gets average flux error per time snapshot\n",
    "    for i in range(9):\n",
    "        eps.append(np.sum((np.array(pred)[i*1296:(i+1)*1296,:] - np.array(real)[i*1296:(i+1)*1296,:])*areas2[i*1296:(i+1)*1296,:]))\n",
    "    eps.append(np.sum((np.array(pred)[-1296:,:] - np.array(real)[-1296:,:])*areas2[-1296:,:]))\n",
    "    return eps"
   ]
  },
  {
   "cell_type": "code",
   "execution_count": 23,
   "metadata": {},
   "outputs": [
    {
     "data": {
      "text/plain": [
       "array([-0.01291305,  0.01368912,  0.0297008 , -0.01283404, -0.02119629,\n",
       "        0.0057676 ,  0.02258657, -0.01426528, -0.00381285, -0.00124977])"
      ]
     },
     "execution_count": 23,
     "metadata": {},
     "output_type": "execute_result"
    }
   ],
   "source": [
    "err1 = int_err(custom_out, total_out, total_in, 3.39e6) #average error for the whole atmosphere for each time snapshot\n",
    "np.array(err1)/(1.44e14)/53"
   ]
  },
  {
   "cell_type": "markdown",
   "metadata": {},
   "source": [
    "The error is divided by surface area of mars, number of time samples, number of atmosphere to get average flux error for single time sample, for a single cell. This is pretty good!"
   ]
  },
  {
   "cell_type": "code",
   "execution_count": 24,
   "metadata": {},
   "outputs": [
    {
     "data": {
      "text/html": [
       "<div>\n",
       "<style scoped>\n",
       "    .dataframe tbody tr th:only-of-type {\n",
       "        vertical-align: middle;\n",
       "    }\n",
       "\n",
       "    .dataframe tbody tr th {\n",
       "        vertical-align: top;\n",
       "    }\n",
       "\n",
       "    .dataframe thead th {\n",
       "        text-align: right;\n",
       "    }\n",
       "</style>\n",
       "<table border=\"1\" class=\"dataframe\">\n",
       "  <thead>\n",
       "    <tr style=\"text-align: right;\">\n",
       "      <th></th>\n",
       "      <th>0</th>\n",
       "      <th>1</th>\n",
       "      <th>2</th>\n",
       "      <th>3</th>\n",
       "      <th>4</th>\n",
       "      <th>5</th>\n",
       "      <th>6</th>\n",
       "      <th>7</th>\n",
       "      <th>8</th>\n",
       "      <th>9</th>\n",
       "      <th>...</th>\n",
       "      <th>97</th>\n",
       "      <th>98</th>\n",
       "      <th>99</th>\n",
       "      <th>100</th>\n",
       "      <th>101</th>\n",
       "      <th>102</th>\n",
       "      <th>103</th>\n",
       "      <th>104</th>\n",
       "      <th>105</th>\n",
       "      <th>106</th>\n",
       "    </tr>\n",
       "  </thead>\n",
       "  <tbody>\n",
       "    <tr>\n",
       "      <td>410</td>\n",
       "      <td>148.971024</td>\n",
       "      <td>149.289719</td>\n",
       "      <td>149.457825</td>\n",
       "      <td>150.058090</td>\n",
       "      <td>151.966171</td>\n",
       "      <td>153.060059</td>\n",
       "      <td>152.828384</td>\n",
       "      <td>152.936951</td>\n",
       "      <td>152.850479</td>\n",
       "      <td>152.613953</td>\n",
       "      <td>...</td>\n",
       "      <td>7.773648e-08</td>\n",
       "      <td>5.460629e-08</td>\n",
       "      <td>3.731830e-08</td>\n",
       "      <td>2.462386e-08</td>\n",
       "      <td>1.553505e-08</td>\n",
       "      <td>9.191193e-09</td>\n",
       "      <td>4.987652e-09</td>\n",
       "      <td>2.483091e-09</td>\n",
       "      <td>147.183304</td>\n",
       "      <td>3.860551</td>\n",
       "    </tr>\n",
       "    <tr>\n",
       "      <td>411</td>\n",
       "      <td>148.529221</td>\n",
       "      <td>148.691559</td>\n",
       "      <td>148.816650</td>\n",
       "      <td>149.519455</td>\n",
       "      <td>152.954102</td>\n",
       "      <td>153.354706</td>\n",
       "      <td>153.182053</td>\n",
       "      <td>153.473312</td>\n",
       "      <td>153.434662</td>\n",
       "      <td>153.284134</td>\n",
       "      <td>...</td>\n",
       "      <td>7.725510e-08</td>\n",
       "      <td>5.426973e-08</td>\n",
       "      <td>3.708997e-08</td>\n",
       "      <td>2.447501e-08</td>\n",
       "      <td>1.544311e-08</td>\n",
       "      <td>9.138970e-09</td>\n",
       "      <td>4.961747e-09</td>\n",
       "      <td>2.472867e-09</td>\n",
       "      <td>147.139862</td>\n",
       "      <td>10.766760</td>\n",
       "    </tr>\n",
       "    <tr>\n",
       "      <td>412</td>\n",
       "      <td>148.337738</td>\n",
       "      <td>148.512451</td>\n",
       "      <td>148.603638</td>\n",
       "      <td>149.239441</td>\n",
       "      <td>153.654449</td>\n",
       "      <td>153.547440</td>\n",
       "      <td>153.498688</td>\n",
       "      <td>153.621140</td>\n",
       "      <td>153.735184</td>\n",
       "      <td>153.728210</td>\n",
       "      <td>...</td>\n",
       "      <td>7.462537e-08</td>\n",
       "      <td>5.243112e-08</td>\n",
       "      <td>3.584266e-08</td>\n",
       "      <td>2.366188e-08</td>\n",
       "      <td>1.494084e-08</td>\n",
       "      <td>8.853681e-09</td>\n",
       "      <td>4.820232e-09</td>\n",
       "      <td>2.417015e-09</td>\n",
       "      <td>146.899017</td>\n",
       "      <td>16.193403</td>\n",
       "    </tr>\n",
       "    <tr>\n",
       "      <td>413</td>\n",
       "      <td>148.656418</td>\n",
       "      <td>148.915863</td>\n",
       "      <td>149.051331</td>\n",
       "      <td>149.666977</td>\n",
       "      <td>154.529251</td>\n",
       "      <td>154.445358</td>\n",
       "      <td>154.295990</td>\n",
       "      <td>154.043549</td>\n",
       "      <td>154.126083</td>\n",
       "      <td>154.078506</td>\n",
       "      <td>...</td>\n",
       "      <td>7.174340e-08</td>\n",
       "      <td>5.041615e-08</td>\n",
       "      <td>3.447570e-08</td>\n",
       "      <td>2.277076e-08</td>\n",
       "      <td>1.439040e-08</td>\n",
       "      <td>8.541030e-09</td>\n",
       "      <td>4.665143e-09</td>\n",
       "      <td>2.355806e-09</td>\n",
       "      <td>146.625900</td>\n",
       "      <td>20.099184</td>\n",
       "    </tr>\n",
       "    <tr>\n",
       "      <td>414</td>\n",
       "      <td>148.002502</td>\n",
       "      <td>148.274139</td>\n",
       "      <td>148.458023</td>\n",
       "      <td>149.150360</td>\n",
       "      <td>153.979401</td>\n",
       "      <td>154.204926</td>\n",
       "      <td>153.937500</td>\n",
       "      <td>153.577530</td>\n",
       "      <td>153.373413</td>\n",
       "      <td>153.182495</td>\n",
       "      <td>...</td>\n",
       "      <td>6.762649e-08</td>\n",
       "      <td>4.753775e-08</td>\n",
       "      <td>3.252300e-08</td>\n",
       "      <td>2.149778e-08</td>\n",
       "      <td>1.360409e-08</td>\n",
       "      <td>8.094402e-09</td>\n",
       "      <td>4.443597e-09</td>\n",
       "      <td>2.268368e-09</td>\n",
       "      <td>146.217957</td>\n",
       "      <td>22.454372</td>\n",
       "    </tr>\n",
       "    <tr>\n",
       "      <td>...</td>\n",
       "      <td>...</td>\n",
       "      <td>...</td>\n",
       "      <td>...</td>\n",
       "      <td>...</td>\n",
       "      <td>...</td>\n",
       "      <td>...</td>\n",
       "      <td>...</td>\n",
       "      <td>...</td>\n",
       "      <td>...</td>\n",
       "      <td>...</td>\n",
       "      <td>...</td>\n",
       "      <td>...</td>\n",
       "      <td>...</td>\n",
       "      <td>...</td>\n",
       "      <td>...</td>\n",
       "      <td>...</td>\n",
       "      <td>...</td>\n",
       "      <td>...</td>\n",
       "      <td>...</td>\n",
       "      <td>...</td>\n",
       "      <td>...</td>\n",
       "    </tr>\n",
       "    <tr>\n",
       "      <td>25915</td>\n",
       "      <td>203.135361</td>\n",
       "      <td>209.059677</td>\n",
       "      <td>210.575775</td>\n",
       "      <td>209.821228</td>\n",
       "      <td>209.137451</td>\n",
       "      <td>208.484238</td>\n",
       "      <td>207.903412</td>\n",
       "      <td>207.418442</td>\n",
       "      <td>207.058044</td>\n",
       "      <td>206.838623</td>\n",
       "      <td>...</td>\n",
       "      <td>1.018952e-07</td>\n",
       "      <td>7.148996e-08</td>\n",
       "      <td>4.876444e-08</td>\n",
       "      <td>3.207727e-08</td>\n",
       "      <td>2.012980e-08</td>\n",
       "      <td>1.179063e-08</td>\n",
       "      <td>6.264971e-09</td>\n",
       "      <td>2.972661e-09</td>\n",
       "      <td>205.358551</td>\n",
       "      <td>190.618286</td>\n",
       "    </tr>\n",
       "    <tr>\n",
       "      <td>25916</td>\n",
       "      <td>202.649429</td>\n",
       "      <td>208.143387</td>\n",
       "      <td>210.633591</td>\n",
       "      <td>209.771194</td>\n",
       "      <td>209.031052</td>\n",
       "      <td>208.369095</td>\n",
       "      <td>207.786957</td>\n",
       "      <td>207.308685</td>\n",
       "      <td>206.964951</td>\n",
       "      <td>206.774780</td>\n",
       "      <td>...</td>\n",
       "      <td>1.019218e-07</td>\n",
       "      <td>7.150858e-08</td>\n",
       "      <td>4.877707e-08</td>\n",
       "      <td>3.208551e-08</td>\n",
       "      <td>2.013489e-08</td>\n",
       "      <td>1.179352e-08</td>\n",
       "      <td>6.266405e-09</td>\n",
       "      <td>2.973227e-09</td>\n",
       "      <td>205.453445</td>\n",
       "      <td>189.831177</td>\n",
       "    </tr>\n",
       "    <tr>\n",
       "      <td>25917</td>\n",
       "      <td>201.980270</td>\n",
       "      <td>207.064316</td>\n",
       "      <td>210.636368</td>\n",
       "      <td>209.671600</td>\n",
       "      <td>208.891586</td>\n",
       "      <td>208.228622</td>\n",
       "      <td>207.651230</td>\n",
       "      <td>207.183563</td>\n",
       "      <td>206.859573</td>\n",
       "      <td>206.701569</td>\n",
       "      <td>...</td>\n",
       "      <td>1.019445e-07</td>\n",
       "      <td>7.152444e-08</td>\n",
       "      <td>4.878783e-08</td>\n",
       "      <td>3.209252e-08</td>\n",
       "      <td>2.013922e-08</td>\n",
       "      <td>1.179598e-08</td>\n",
       "      <td>6.267625e-09</td>\n",
       "      <td>2.973709e-09</td>\n",
       "      <td>205.451294</td>\n",
       "      <td>189.178833</td>\n",
       "    </tr>\n",
       "    <tr>\n",
       "      <td>25918</td>\n",
       "      <td>201.133255</td>\n",
       "      <td>205.830963</td>\n",
       "      <td>210.584457</td>\n",
       "      <td>209.523453</td>\n",
       "      <td>208.720383</td>\n",
       "      <td>208.064117</td>\n",
       "      <td>207.497543</td>\n",
       "      <td>207.044235</td>\n",
       "      <td>206.743027</td>\n",
       "      <td>206.619781</td>\n",
       "      <td>...</td>\n",
       "      <td>1.019635e-07</td>\n",
       "      <td>7.153769e-08</td>\n",
       "      <td>4.879682e-08</td>\n",
       "      <td>3.209838e-08</td>\n",
       "      <td>2.014284e-08</td>\n",
       "      <td>1.179804e-08</td>\n",
       "      <td>6.268645e-09</td>\n",
       "      <td>2.974111e-09</td>\n",
       "      <td>205.329514</td>\n",
       "      <td>188.666260</td>\n",
       "    </tr>\n",
       "    <tr>\n",
       "      <td>25919</td>\n",
       "      <td>200.114746</td>\n",
       "      <td>204.452591</td>\n",
       "      <td>210.478088</td>\n",
       "      <td>209.327789</td>\n",
       "      <td>208.518692</td>\n",
       "      <td>207.876770</td>\n",
       "      <td>207.326950</td>\n",
       "      <td>206.891739</td>\n",
       "      <td>206.616104</td>\n",
       "      <td>206.529938</td>\n",
       "      <td>...</td>\n",
       "      <td>1.019785e-07</td>\n",
       "      <td>7.154819e-08</td>\n",
       "      <td>4.880394e-08</td>\n",
       "      <td>3.210302e-08</td>\n",
       "      <td>2.014571e-08</td>\n",
       "      <td>1.179967e-08</td>\n",
       "      <td>6.269453e-09</td>\n",
       "      <td>2.974430e-09</td>\n",
       "      <td>205.091095</td>\n",
       "      <td>188.297333</td>\n",
       "    </tr>\n",
       "  </tbody>\n",
       "</table>\n",
       "<p>13160 rows × 107 columns</p>\n",
       "</div>"
      ],
      "text/plain": [
       "              0           1           2           3           4           5    \\\n",
       "410    148.971024  149.289719  149.457825  150.058090  151.966171  153.060059   \n",
       "411    148.529221  148.691559  148.816650  149.519455  152.954102  153.354706   \n",
       "412    148.337738  148.512451  148.603638  149.239441  153.654449  153.547440   \n",
       "413    148.656418  148.915863  149.051331  149.666977  154.529251  154.445358   \n",
       "414    148.002502  148.274139  148.458023  149.150360  153.979401  154.204926   \n",
       "...           ...         ...         ...         ...         ...         ...   \n",
       "25915  203.135361  209.059677  210.575775  209.821228  209.137451  208.484238   \n",
       "25916  202.649429  208.143387  210.633591  209.771194  209.031052  208.369095   \n",
       "25917  201.980270  207.064316  210.636368  209.671600  208.891586  208.228622   \n",
       "25918  201.133255  205.830963  210.584457  209.523453  208.720383  208.064117   \n",
       "25919  200.114746  204.452591  210.478088  209.327789  208.518692  207.876770   \n",
       "\n",
       "              6           7           8           9    ...           97   \\\n",
       "410    152.828384  152.936951  152.850479  152.613953  ...  7.773648e-08   \n",
       "411    153.182053  153.473312  153.434662  153.284134  ...  7.725510e-08   \n",
       "412    153.498688  153.621140  153.735184  153.728210  ...  7.462537e-08   \n",
       "413    154.295990  154.043549  154.126083  154.078506  ...  7.174340e-08   \n",
       "414    153.937500  153.577530  153.373413  153.182495  ...  6.762649e-08   \n",
       "...           ...         ...         ...         ...  ...           ...   \n",
       "25915  207.903412  207.418442  207.058044  206.838623  ...  1.018952e-07   \n",
       "25916  207.786957  207.308685  206.964951  206.774780  ...  1.019218e-07   \n",
       "25917  207.651230  207.183563  206.859573  206.701569  ...  1.019445e-07   \n",
       "25918  207.497543  207.044235  206.743027  206.619781  ...  1.019635e-07   \n",
       "25919  207.326950  206.891739  206.616104  206.529938  ...  1.019785e-07   \n",
       "\n",
       "                98            99            100           101           102  \\\n",
       "410    5.460629e-08  3.731830e-08  2.462386e-08  1.553505e-08  9.191193e-09   \n",
       "411    5.426973e-08  3.708997e-08  2.447501e-08  1.544311e-08  9.138970e-09   \n",
       "412    5.243112e-08  3.584266e-08  2.366188e-08  1.494084e-08  8.853681e-09   \n",
       "413    5.041615e-08  3.447570e-08  2.277076e-08  1.439040e-08  8.541030e-09   \n",
       "414    4.753775e-08  3.252300e-08  2.149778e-08  1.360409e-08  8.094402e-09   \n",
       "...             ...           ...           ...           ...           ...   \n",
       "25915  7.148996e-08  4.876444e-08  3.207727e-08  2.012980e-08  1.179063e-08   \n",
       "25916  7.150858e-08  4.877707e-08  3.208551e-08  2.013489e-08  1.179352e-08   \n",
       "25917  7.152444e-08  4.878783e-08  3.209252e-08  2.013922e-08  1.179598e-08   \n",
       "25918  7.153769e-08  4.879682e-08  3.209838e-08  2.014284e-08  1.179804e-08   \n",
       "25919  7.154819e-08  4.880394e-08  3.210302e-08  2.014571e-08  1.179967e-08   \n",
       "\n",
       "                103           104         105         106  \n",
       "410    4.987652e-09  2.483091e-09  147.183304    3.860551  \n",
       "411    4.961747e-09  2.472867e-09  147.139862   10.766760  \n",
       "412    4.820232e-09  2.417015e-09  146.899017   16.193403  \n",
       "413    4.665143e-09  2.355806e-09  146.625900   20.099184  \n",
       "414    4.443597e-09  2.268368e-09  146.217957   22.454372  \n",
       "...             ...           ...         ...         ...  \n",
       "25915  6.264971e-09  2.972661e-09  205.358551  190.618286  \n",
       "25916  6.266405e-09  2.973227e-09  205.453445  189.831177  \n",
       "25917  6.267625e-09  2.973709e-09  205.451294  189.178833  \n",
       "25918  6.268645e-09  2.974111e-09  205.329514  188.666260  \n",
       "25919  6.269453e-09  2.974430e-09  205.091095  188.297333  \n",
       "\n",
       "[13160 rows x 107 columns]"
      ]
     },
     "execution_count": 24,
     "metadata": {},
     "output_type": "execute_result"
    }
   ],
   "source": [
    "total_in"
   ]
  },
  {
   "cell_type": "code",
   "execution_count": 25,
   "metadata": {},
   "outputs": [
    {
     "data": {
      "text/plain": [
       "12.736156"
      ]
     },
     "execution_count": 25,
     "metadata": {},
     "output_type": "execute_result"
    }
   ],
   "source": [
    "np.array(total_out)[153,52]"
   ]
  },
  {
   "cell_type": "markdown",
   "metadata": {},
   "source": [
    "## Plotting data:"
   ]
  },
  {
   "cell_type": "code",
   "execution_count": 26,
   "metadata": {},
   "outputs": [
    {
     "data": {
      "text/plain": [
       "Int64Index([13352, 13353, 13354, 13355, 13356, 13357, 13358, 13359, 13360,\n",
       "            13361,\n",
       "            ...\n",
       "            15542, 15543, 15544, 15545, 15546, 15547, 15548, 15549, 15550,\n",
       "            15551],\n",
       "           dtype='int64', length=1316)"
      ]
     },
     "execution_count": 26,
     "metadata": {},
     "output_type": "execute_result"
    }
   ],
   "source": [
    "all_indices = total_in.index\n",
    "ti_indices = all_indices[all_indices > 5*36*72] \n",
    "ti_indices = ti_indices[ti_indices < 6 *36*72] \n",
    "ti_indices #ith time snapshot indices for latitude/longtitude map, currently set to 6th time snapshot"
   ]
  },
  {
   "cell_type": "code",
   "execution_count": 27,
   "metadata": {},
   "outputs": [],
   "source": [
    "total_out = np.array(total_out)\n",
    "full_out_contour = np.full((36, 72), np.nan)\n",
    "full_pred_contour = np.full((36, 72), np.nan)\n",
    "#full_pred_contour2 = np.full((36, 72), np.nan)\n",
    "for index in ti_indices:\n",
    "    lat_point = index//72 - 36*5\n",
    "    long_point = index%72 - 1*72\n",
    "    full_out_contour[lat_point][long_point] = total_out[np.where(all_indices == index), 25] #choose some middle layer\n",
    "    full_pred_contour[lat_point][long_point] = custom_out[np.where(all_indices == index), 25]\n",
    "    #full_pred_contour2[lat_point][long_point] = custom_out2[np.where(all_indices == index)]"
   ]
  },
  {
   "cell_type": "code",
   "execution_count": 28,
   "metadata": {},
   "outputs": [
    {
     "data": {
      "image/png": "[encoded data removed]",
      "text/plain": [
       "<Figure size 432x288 with 2 Axes>"
      ]
     },
     "metadata": {
      "needs_background": "light"
     },
     "output_type": "display_data"
    },
    {
     "data": {
      "text/plain": [
       "<Figure size 432x288 with 0 Axes>"
      ]
     },
     "metadata": {},
     "output_type": "display_data"
    }
   ],
   "source": [
    "plt.contourf(full_out_contour)\n",
    "plt.colorbar()\n",
    "plt.title(\"Actual Bottom Solar Flux\")\n",
    "plt.xlabel(\"Longtitude\")\n",
    "plt.ylabel(\"Latitude\")\n",
    "plt.show()\n",
    "plt.savefig(\"Actual\")"
   ]
  },
  {
   "cell_type": "markdown",
   "metadata": {},
   "source": [
    "### Plots for RMSE minimizing regressors:"
   ]
  },
  {
   "cell_type": "code",
   "execution_count": 29,
   "metadata": {},
   "outputs": [
    {
     "data": {
      "image/png": "[encoded data removed]",
      "text/plain": [
       "<Figure size 432x288 with 2 Axes>"
      ]
     },
     "metadata": {
      "needs_background": "light"
     },
     "output_type": "display_data"
    },
    {
     "data": {
      "text/plain": [
       "<Figure size 432x288 with 0 Axes>"
      ]
     },
     "metadata": {},
     "output_type": "display_data"
    }
   ],
   "source": [
    "plt.contourf(full_pred_contour)\n",
    "plt.colorbar()\n",
    "plt.title(\"Predicted Bottom Solar Flux\")\n",
    "plt.xlabel(\"Longtitude\")\n",
    "plt.ylabel(\"Latitude\")\n",
    "plt.show()\n",
    "plt.savefig(\"Predicted\")"
   ]
  },
  {
   "cell_type": "code",
   "execution_count": 30,
   "metadata": {},
   "outputs": [
    {
     "data": {
      "image/png": "[encoded data removed]",
      "text/plain": [
       "<Figure size 432x288 with 2 Axes>"
      ]
     },
     "metadata": {
      "needs_background": "light"
     },
     "output_type": "display_data"
    }
   ],
   "source": [
    "plt.contourf(full_pred_contour - full_out_contour)\n",
    "plt.colorbar()\n",
    "plt.title(\"Difference\")\n",
    "plt.xlabel(\"Longtitude\")\n",
    "plt.ylabel(\"Latitude\")\n",
    "plt.show()"
   ]
  },
  {
   "cell_type": "code",
   "execution_count": 31,
   "metadata": {},
   "outputs": [
    {
     "data": {
      "image/png": "[encoded data removed]",
      "text/plain": [
       "<Figure size 432x288 with 2 Axes>"
      ]
     },
     "metadata": {
      "needs_background": "light"
     },
     "output_type": "display_data"
    }
   ],
   "source": [
    "plt.contourf((full_pred_contour - full_out_contour)/full_out_contour)\n",
    "plt.colorbar()\n",
    "plt.title(\"Relative Difference\")\n",
    "plt.xlabel(\"Longtitude\")\n",
    "plt.ylabel(\"Latitude\")\n",
    "plt.show() #some massive relative errors at the edge"
   ]
  },
  {
   "cell_type": "markdown",
   "metadata": {},
   "source": [
    "### Long-Height Plots at equator:"
   ]
  },
  {
   "cell_type": "code",
   "execution_count": 32,
   "metadata": {},
   "outputs": [
    {
     "data": {
      "text/plain": [
       "Int64Index([14275, 14276, 14277, 14278, 14279, 14280, 14281, 14282, 14283,\n",
       "            14284, 14285, 14286, 14287, 14288, 14289, 14290, 14291, 14292,\n",
       "            14293, 14294, 14295, 14296, 14297, 14298, 14299, 14300, 14301,\n",
       "            14302, 14303, 14304, 14305, 14306, 14307, 14308, 14309, 14310,\n",
       "            14311],\n",
       "           dtype='int64')"
      ]
     },
     "execution_count": 32,
     "metadata": {},
     "output_type": "execute_result"
    }
   ],
   "source": [
    "all_indices = total_in.index\n",
    "ti_indices = all_indices[all_indices >= 5*36*72 + 18*72] \n",
    "ti_indices = ti_indices[ti_indices < 5*36*72 + 19*72] \n",
    "ti_indices #ith time snapshot indices for longtitude/height map, currently set to 6th time snapshot"
   ]
  },
  {
   "cell_type": "code",
   "execution_count": 33,
   "metadata": {},
   "outputs": [],
   "source": [
    "total_out = np.array(total_out)\n",
    "height_out_contour = np.full((53, 72), np.nan)\n",
    "height_pred_contour = np.full((53, 72), np.nan) #longtitude-height contours\n",
    "for index in ti_indices:\n",
    "    long_point = index%72\n",
    "    height_out_contour[:,long_point] = total_out[np.where(all_indices == index)][0][::-1]\n",
    "    height_pred_contour[:,long_point] = custom_out[np.where(all_indices == index)][0][::-1] #flips the height to look better"
   ]
  },
  {
   "cell_type": "code",
   "execution_count": 34,
   "metadata": {},
   "outputs": [
    {
     "data": {
      "image/png": "[encoded data removed]",
      "text/plain": [
       "<Figure size 432x288 with 2 Axes>"
      ]
     },
     "metadata": {
      "needs_background": "light"
     },
     "output_type": "display_data"
    }
   ],
   "source": [
    "plt.contourf(height_out_contour)\n",
    "plt.colorbar()\n",
    "plt.title(\"Actual Middle Solar Flux at Equator\")\n",
    "plt.xlabel(\"Longtitude\")\n",
    "plt.ylabel(\"Height\")\n",
    "plt.show()"
   ]
  },
  {
   "cell_type": "code",
   "execution_count": 35,
   "metadata": {},
   "outputs": [
    {
     "data": {
      "image/png": "[encoded data removed]",
      "text/plain": [
       "<Figure size 432x288 with 2 Axes>"
      ]
     },
     "metadata": {
      "needs_background": "light"
     },
     "output_type": "display_data"
    }
   ],
   "source": [
    "plt.contourf(height_pred_contour)\n",
    "plt.colorbar()\n",
    "plt.title(\"Predicted Middle Solar Flux at Equator\")\n",
    "plt.xlabel(\"Longtitude\")\n",
    "plt.ylabel(\"Height\")\n",
    "plt.show()"
   ]
  },
  {
   "cell_type": "code",
   "execution_count": 36,
   "metadata": {},
   "outputs": [
    {
     "data": {
      "image/png": "[encoded data removed]",
      "text/plain": [
       "<Figure size 432x288 with 2 Axes>"
      ]
     },
     "metadata": {
      "needs_background": "light"
     },
     "output_type": "display_data"
    }
   ],
   "source": [
    "plt.contourf(height_pred_contour - height_out_contour)\n",
    "plt.colorbar()\n",
    "plt.title(\"Difference\")\n",
    "plt.xlabel(\"Longtitude\")\n",
    "plt.ylabel(\"Height\")\n",
    "plt.show()"
   ]
  },
  {
   "cell_type": "code",
   "execution_count": 37,
   "metadata": {},
   "outputs": [
    {
     "data": {
      "image/png": "[encoded data removed]",
      "text/plain": [
       "<Figure size 432x288 with 2 Axes>"
      ]
     },
     "metadata": {
      "needs_background": "light"
     },
     "output_type": "display_data"
    }
   ],
   "source": [
    "plt.contourf((height_pred_contour - height_out_contour)/height_out_contour)\n",
    "plt.colorbar()\n",
    "plt.title(\"Relative Difference\")\n",
    "plt.xlabel(\"Longtitude\")\n",
    "plt.ylabel(\"Height\")\n",
    "plt.show()"
   ]
  },
  {
   "cell_type": "code",
   "execution_count": null,
   "metadata": {},
   "outputs": [],
   "source": []
  }
 ],
 "metadata": {
  "kernelspec": {
   "display_name": "Python 3",
   "language": "python",
   "name": "python3"
  },
  "language_info": {
   "codemirror_mode": {
    "name": "ipython",
    "version": 3
   },
   "file_extension": ".py",
   "mimetype": "text/x-python",
   "name": "python",
   "nbconvert_exporter": "python",
   "pygments_lexer": "ipython3",
   "version": "3.7.4"
  }
 },
 "nbformat": 4,
 "nbformat_minor": 2
}
