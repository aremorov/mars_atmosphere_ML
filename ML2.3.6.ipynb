{
 "cells": [
  {
   "cell_type": "markdown",
   "metadata": {},
   "source": [
    "Comparing current predictor with previous methods"
   ]
  },
  {
   "cell_type": "code",
   "execution_count": 1,
   "metadata": {},
   "outputs": [],
   "source": [
    "import xarray as xr\n",
    "import matplotlib.pyplot as plt\n",
    "import numpy as np\n",
    "import pandas as pd"
   ]
  },
  {
   "cell_type": "code",
   "execution_count": 2,
   "metadata": {},
   "outputs": [],
   "source": [
    "dataDIR = 'short'\n",
    "DS = xr.open_dataset(dataDIR)"
   ]
  },
  {
   "cell_type": "code",
   "execution_count": 3,
   "metadata": {},
   "outputs": [],
   "source": [
    "#Temperature:\n",
    "T = (DS.T.values + DS.T0) * ((DS.P.values + DS.PB.values)/DS.P0)**(DS.R_D/DS.CP)"
   ]
  },
  {
   "cell_type": "code",
   "execution_count": 4,
   "metadata": {},
   "outputs": [
    {
     "data": {
      "text/plain": [
       "(240, 52, 36, 72)"
      ]
     },
     "execution_count": 4,
     "metadata": {},
     "output_type": "execute_result"
    }
   ],
   "source": [
    "T.shape #days, height, latitude, longtitude"
   ]
  },
  {
   "cell_type": "code",
   "execution_count": 5,
   "metadata": {
    "scrolled": true
   },
   "outputs": [
    {
     "data": {
      "image/png": "[encoded data removed]",
      "text/plain": [
       "<Figure size 432x288 with 2 Axes>"
      ]
     },
     "metadata": {
      "needs_background": "light"
     },
     "output_type": "display_data"
    }
   ],
   "source": [
    "example_data = T[50,5,:, :]\n",
    "plt.contourf(example_data)\n",
    "plt.colorbar()\n",
    "plt.title(\"Temperature Profile\")\n",
    "plt.show()"
   ]
  },
  {
   "cell_type": "code",
   "execution_count": 6,
   "metadata": {},
   "outputs": [],
   "source": [
    "albedo = DS.ALBEDO.values"
   ]
  },
  {
   "cell_type": "code",
   "execution_count": 7,
   "metadata": {},
   "outputs": [
    {
     "data": {
      "text/plain": [
       "(240, 36, 72)"
      ]
     },
     "execution_count": 7,
     "metadata": {},
     "output_type": "execute_result"
    }
   ],
   "source": [
    "albedo.shape #days, latitude, longtitude"
   ]
  },
  {
   "cell_type": "code",
   "execution_count": 8,
   "metadata": {},
   "outputs": [],
   "source": [
    "st = DS.TSK.values"
   ]
  },
  {
   "cell_type": "code",
   "execution_count": 9,
   "metadata": {},
   "outputs": [
    {
     "data": {
      "text/plain": [
       "(240, 36, 72)"
      ]
     },
     "execution_count": 9,
     "metadata": {},
     "output_type": "execute_result"
    }
   ],
   "source": [
    "st.shape"
   ]
  },
  {
   "cell_type": "code",
   "execution_count": 10,
   "metadata": {},
   "outputs": [],
   "source": [
    "d_c = DS.TAU_OD.values"
   ]
  },
  {
   "cell_type": "code",
   "execution_count": 11,
   "metadata": {},
   "outputs": [
    {
     "data": {
      "text/plain": [
       "(240, 52, 36, 72)"
      ]
     },
     "execution_count": 11,
     "metadata": {},
     "output_type": "execute_result"
    }
   ],
   "source": [
    "d_c.shape "
   ]
  },
  {
   "cell_type": "code",
   "execution_count": 12,
   "metadata": {},
   "outputs": [],
   "source": [
    "tsf = DS.TOASW.values #top solar flux"
   ]
  },
  {
   "cell_type": "code",
   "execution_count": 13,
   "metadata": {},
   "outputs": [
    {
     "data": {
      "text/plain": [
       "(240, 36, 72)"
      ]
     },
     "execution_count": 13,
     "metadata": {},
     "output_type": "execute_result"
    }
   ],
   "source": [
    "tsf.shape"
   ]
  },
  {
   "cell_type": "code",
   "execution_count": 14,
   "metadata": {},
   "outputs": [],
   "source": [
    "albedo = DS.ALBEDO.values"
   ]
  },
  {
   "cell_type": "code",
   "execution_count": 15,
   "metadata": {},
   "outputs": [],
   "source": [
    "bsf = DS.GSW.values #bottom solar flux, ouput"
   ]
  },
  {
   "cell_type": "code",
   "execution_count": 16,
   "metadata": {},
   "outputs": [],
   "source": [
    "bsf2 = bsf/(1-albedo)"
   ]
  },
  {
   "cell_type": "code",
   "execution_count": 17,
   "metadata": {},
   "outputs": [
    {
     "data": {
      "text/plain": [
       "(240, 36, 72)"
      ]
     },
     "execution_count": 17,
     "metadata": {},
     "output_type": "execute_result"
    }
   ],
   "source": [
    "bsf.shape"
   ]
  },
  {
   "cell_type": "markdown",
   "metadata": {},
   "source": [
    "Let's combine the data together for ten time samples, with full latitude and longitude:"
   ]
  },
  {
   "cell_type": "code",
   "execution_count": 18,
   "metadata": {},
   "outputs": [],
   "source": [
    "e_t = [] #equator input and output\n",
    "#input:\n",
    "for k in range(10): #10 days\n",
    "    for i in range(36):\n",
    "        for j in range(72):\n",
    "            input_array = list(T[k,:,i,j]) #start with temp profile\n",
    "            input_array+=list(d_c[k,:,i,j]) #add dust profile\n",
    "            input_array.append(st[k,i,j])#add surface temp\n",
    "            input_array.append(tsf[k,i,j]) #add top solar flux, without the albedo factor\n",
    "            input_array.append(bsf2[k,i,j])            \n",
    "            e_t.append(input_array) #appends input to input array"
   ]
  },
  {
   "cell_type": "code",
   "execution_count": 19,
   "metadata": {},
   "outputs": [
    {
     "data": {
      "text/plain": [
       "(25920, 107)"
      ]
     },
     "execution_count": 19,
     "metadata": {},
     "output_type": "execute_result"
    }
   ],
   "source": [
    "e_t = np.array(e_t)\n",
    "e_t.shape"
   ]
  },
  {
   "cell_type": "code",
   "execution_count": 20,
   "metadata": {},
   "outputs": [],
   "source": [
    "e_d = pd.DataFrame(e_t) "
   ]
  },
  {
   "cell_type": "markdown",
   "metadata": {},
   "source": [
    "Split up the data:"
   ]
  },
  {
   "cell_type": "code",
   "execution_count": 21,
   "metadata": {},
   "outputs": [],
   "source": [
    "e_d = e_d[e_d.iloc[:,105] != 0] #remove 0 flux, could later use a simple classifier to determine which data has 0 bottom flux...\n",
    "e_reml = e_d[e_d.iloc[:,105] > 20] #large flux data\n",
    "e_rems = e_d[e_d.iloc[:,105] < 20] #small flux data"
   ]
  },
  {
   "cell_type": "markdown",
   "metadata": {},
   "source": [
    "Train two linear regressors, one for the large flux data and the other for small flux data:"
   ]
  },
  {
   "cell_type": "code",
   "execution_count": 22,
   "metadata": {},
   "outputs": [
    {
     "data": {
      "text/plain": [
       "LinearRegression(copy_X=True, fit_intercept=True, n_jobs=None, normalize=False)"
      ]
     },
     "execution_count": 22,
     "metadata": {},
     "output_type": "execute_result"
    }
   ],
   "source": [
    "from sklearn.model_selection import train_test_split\n",
    "from sklearn.linear_model import LinearRegression\n",
    "\n",
    "train_set, test_set = train_test_split(e_reml, test_size=0.2, random_state=42)\n",
    "\n",
    "train_in = train_set.iloc[:,:106] #training input\n",
    "train_out = train_set.iloc[:,106] #training output\n",
    "test_in = test_set.iloc[:,:106] #testing input \n",
    "test_out = test_set.iloc[:,106] #testing output\n",
    "\n",
    "w = 1/train_out**2\n",
    "lrl = LinearRegression() #linear regression for large flux data\n",
    "lrl.fit(train_in,train_out, sample_weight=w)\n",
    "\n"
   ]
  },
  {
   "cell_type": "code",
   "execution_count": 23,
   "metadata": {},
   "outputs": [
    {
     "data": {
      "text/plain": [
       "LinearRegression(copy_X=True, fit_intercept=True, n_jobs=None, normalize=False)"
      ]
     },
     "execution_count": 23,
     "metadata": {},
     "output_type": "execute_result"
    }
   ],
   "source": [
    "train_set, test_set = train_test_split(e_rems, test_size=0.2, random_state=42)\n",
    "\n",
    "train_in = train_set.iloc[:,:106] #training input\n",
    "train_out = train_set.iloc[:,106] #training output\n",
    "test_in = test_set.iloc[:,:106] #testing input\n",
    "test_out = test_set.iloc[:,106] #testing output\n",
    "\n",
    "w = 1/train_out**2\n",
    "lrs = LinearRegression() #linear regression for small flux data\n",
    "lrs.fit(train_in,train_out, sample_weight=w)\n"
   ]
  },
  {
   "cell_type": "markdown",
   "metadata": {},
   "source": [
    "A custom predictor which can handle all the data:"
   ]
  },
  {
   "cell_type": "code",
   "execution_count": 24,
   "metadata": {},
   "outputs": [],
   "source": [
    "def clp(in_data): #custom linear predictor\n",
    "    in_data = np.array(in_data)\n",
    "    out_data = []\n",
    "    for instance in in_data:\n",
    "        if instance[105] > 20:\n",
    "            out_data.append(float(lrl.predict(instance[:106].reshape(1,-1)))) #uses large flux predictor \n",
    "        else:\n",
    "            out_data.append(float(lrs.predict(instance[:106].reshape(1,-1)))) #uses small flux predictor\n",
    "    return np.array(out_data)"
   ]
  },
  {
   "cell_type": "code",
   "execution_count": 25,
   "metadata": {},
   "outputs": [],
   "source": [
    "total_in = e_d.iloc[:,:106] #total input\n",
    "total_out = e_d.iloc[:,106] #total output"
   ]
  },
  {
   "cell_type": "code",
   "execution_count": 26,
   "metadata": {},
   "outputs": [],
   "source": [
    "total_pred = clp(total_in)"
   ]
  },
  {
   "cell_type": "code",
   "execution_count": 47,
   "metadata": {},
   "outputs": [],
   "source": [
    "def int_err(pred, real):\n",
    "    return np.sum(np.array(pred) - np.array(real))"
   ]
  },
  {
   "cell_type": "code",
   "execution_count": 48,
   "metadata": {},
   "outputs": [
    {
     "data": {
      "text/plain": [
       "-48280.15545156185"
      ]
     },
     "execution_count": 48,
     "metadata": {},
     "output_type": "execute_result"
    }
   ],
   "source": [
    "int_err(total_pred, total_out) #the integral of the error"
   ]
  },
  {
   "cell_type": "code",
   "execution_count": 27,
   "metadata": {},
   "outputs": [
    {
     "data": {
      "text/plain": [
       "7.81570326207733"
      ]
     },
     "execution_count": 27,
     "metadata": {},
     "output_type": "execute_result"
    }
   ],
   "source": [
    "from sklearn.metrics import mean_squared_error\n",
    "\n",
    "lin_mse = mean_squared_error(total_out, total_pred)\n",
    "lin_rmse = np.sqrt(lin_mse)\n",
    "lin_rmse  "
   ]
  },
  {
   "cell_type": "markdown",
   "metadata": {},
   "source": [
    "Plotting data:"
   ]
  },
  {
   "cell_type": "code",
   "execution_count": 28,
   "metadata": {},
   "outputs": [
    {
     "data": {
      "text/plain": [
       "Int64Index([13351, 13352, 13353, 13354, 13355, 13356, 13357, 13358, 13359,\n",
       "            13360,\n",
       "            ...\n",
       "            15542, 15543, 15544, 15545, 15546, 15547, 15548, 15549, 15550,\n",
       "            15551],\n",
       "           dtype='int64', length=1320)"
      ]
     },
     "execution_count": 28,
     "metadata": {},
     "output_type": "execute_result"
    }
   ],
   "source": [
    "all_indices = total_in.index\n",
    "ti_indices = all_indices[all_indices > 5*36*72] \n",
    "ti_indices = ti_indices[ti_indices < 6 *36*72] \n",
    "ti_indices #ith time snapshot indices for latitude/longtitude map, currently set to 6th time snapshot"
   ]
  },
  {
   "cell_type": "code",
   "execution_count": 29,
   "metadata": {},
   "outputs": [],
   "source": [
    "total_out = np.array(total_out)\n",
    "full_out_contour = np.full((36, 72), np.nan)\n",
    "full_pred_contour = np.full((36, 72), np.nan)\n",
    "for index in ti_indices:\n",
    "    lat_point = index//72 - 36*5\n",
    "    long_point = index%72 - 1*72\n",
    "    full_out_contour[lat_point][long_point] = total_out[np.where(all_indices == index)]\n",
    "    full_pred_contour[lat_point][long_point] = total_pred[np.where(all_indices == index)]"
   ]
  },
  {
   "cell_type": "code",
   "execution_count": 30,
   "metadata": {},
   "outputs": [
    {
     "data": {
      "image/png": "[encoded data removed]",
      "text/plain": [
       "<Figure size 432x288 with 2 Axes>"
      ]
     },
     "metadata": {
      "needs_background": "light"
     },
     "output_type": "display_data"
    },
    {
     "data": {
      "text/plain": [
       "<Figure size 432x288 with 0 Axes>"
      ]
     },
     "metadata": {},
     "output_type": "display_data"
    }
   ],
   "source": [
    "plt.contourf(full_out_contour)\n",
    "plt.colorbar()\n",
    "plt.title(\"Actual Bottom Solar Flux\")\n",
    "plt.xlabel(\"Longtitude\")\n",
    "plt.ylabel(\"Latitude\")\n",
    "plt.show()\n",
    "plt.savefig(\"Actual\")"
   ]
  },
  {
   "cell_type": "code",
   "execution_count": 31,
   "metadata": {},
   "outputs": [
    {
     "data": {
      "image/png": "[encoded data removed]",
      "text/plain": [
       "<Figure size 432x288 with 2 Axes>"
      ]
     },
     "metadata": {
      "needs_background": "light"
     },
     "output_type": "display_data"
    },
    {
     "data": {
      "text/plain": [
       "<Figure size 432x288 with 0 Axes>"
      ]
     },
     "metadata": {},
     "output_type": "display_data"
    }
   ],
   "source": [
    "plt.contourf(full_pred_contour)\n",
    "plt.colorbar()\n",
    "plt.title(\"Predicted Bottom Solar Flux\")\n",
    "plt.xlabel(\"Longtitude\")\n",
    "plt.ylabel(\"Latitude\")\n",
    "plt.show()\n",
    "plt.savefig(\"Predicted\")"
   ]
  },
  {
   "cell_type": "code",
   "execution_count": 32,
   "metadata": {},
   "outputs": [
    {
     "data": {
      "image/png": "[encoded data removed]",
      "text/plain": [
       "<Figure size 432x288 with 2 Axes>"
      ]
     },
     "metadata": {
      "needs_background": "light"
     },
     "output_type": "display_data"
    }
   ],
   "source": [
    "plt.contourf(full_pred_contour - full_out_contour)\n",
    "plt.colorbar()\n",
    "plt.title(\"Difference\")\n",
    "plt.xlabel(\"Longtitude\")\n",
    "plt.ylabel(\"Latitude\")\n",
    "plt.show()"
   ]
  },
  {
   "cell_type": "code",
   "execution_count": 33,
   "metadata": {},
   "outputs": [
    {
     "data": {
      "image/png": "[encoded data removed]",
      "text/plain": [
       "<Figure size 432x288 with 2 Axes>"
      ]
     },
     "metadata": {
      "needs_background": "light"
     },
     "output_type": "display_data"
    }
   ],
   "source": [
    "plt.contourf((full_pred_contour - full_out_contour)/full_out_contour)\n",
    "plt.colorbar()\n",
    "plt.title(\"Relative Difference\")\n",
    "plt.xlabel(\"Longtitude\")\n",
    "plt.ylabel(\"Latitude\")\n",
    "plt.show()"
   ]
  },
  {
   "cell_type": "markdown",
   "metadata": {},
   "source": [
    "Predictor trying to just minimize MSE (not relative error):"
   ]
  },
  {
   "cell_type": "code",
   "execution_count": 34,
   "metadata": {},
   "outputs": [
    {
     "data": {
      "text/plain": [
       "LinearRegression(copy_X=True, fit_intercept=True, n_jobs=None, normalize=False)"
      ]
     },
     "execution_count": 34,
     "metadata": {},
     "output_type": "execute_result"
    }
   ],
   "source": [
    "from sklearn.model_selection import train_test_split\n",
    "from sklearn.linear_model import LinearRegression\n",
    "\n",
    "train_set, test_set = train_test_split(e_reml, test_size=0.2, random_state=42)\n",
    "\n",
    "train_in = train_set.iloc[:,:106] #training input\n",
    "train_out = train_set.iloc[:,106] #training output\n",
    "test_in = test_set.iloc[:,:106] #testing input \n",
    "test_out = test_set.iloc[:,106] #testing output\n",
    "\n",
    "ol = LinearRegression() #linear regression for large flux data\n",
    "ol.fit(train_in,train_out) #old linear regressor for large fluxes, equal weights (so relative error should be worse)"
   ]
  },
  {
   "cell_type": "code",
   "execution_count": 35,
   "metadata": {},
   "outputs": [
    {
     "data": {
      "text/plain": [
       "LinearRegression(copy_X=True, fit_intercept=True, n_jobs=None, normalize=False)"
      ]
     },
     "execution_count": 35,
     "metadata": {},
     "output_type": "execute_result"
    }
   ],
   "source": [
    "train_set, test_set = train_test_split(e_rems, test_size=0.2, random_state=42)\n",
    "\n",
    "train_in = train_set.iloc[:,:106] #training input\n",
    "train_out = train_set.iloc[:,106] #training output\n",
    "test_in = test_set.iloc[:,:106] #testing input\n",
    "test_out = test_set.iloc[:,106] #testing output\n",
    "\n",
    "os = LinearRegression() #linear regression for small flux data\n",
    "os.fit(train_in,train_out) #old linear regressor for small fluxes"
   ]
  },
  {
   "cell_type": "code",
   "execution_count": 36,
   "metadata": {},
   "outputs": [],
   "source": [
    "def oclp(in_data): #\"old\" custom linear predictor\n",
    "    in_data = np.array(in_data)\n",
    "    out_data = []\n",
    "    for instance in in_data:\n",
    "        if instance[105] > 20:\n",
    "            out_data.append(float(ol.predict(instance[:106].reshape(1,-1)))) #uses large flux predictor \n",
    "        else:\n",
    "            out_data.append(float(os.predict(instance[:106].reshape(1,-1)))) #uses small flux predictor\n",
    "    return np.array(out_data)"
   ]
  },
  {
   "cell_type": "code",
   "execution_count": 37,
   "metadata": {},
   "outputs": [],
   "source": [
    "total_in = e_d.iloc[:,:106] #total input\n",
    "total_out = e_d.iloc[:,106] #total output"
   ]
  },
  {
   "cell_type": "code",
   "execution_count": 38,
   "metadata": {},
   "outputs": [],
   "source": [
    "total_o_pred = oclp(total_in) #total predicted with \"old\" predictor\n",
    "tore = np.array((total_o_pred - total_out)/total_out)#total old relative error"
   ]
  },
  {
   "cell_type": "code",
   "execution_count": 49,
   "metadata": {},
   "outputs": [
    {
     "data": {
      "text/plain": [
       "-58.96119778935099"
      ]
     },
     "execution_count": 49,
     "metadata": {},
     "output_type": "execute_result"
    }
   ],
   "source": [
    "int_err(total_o_pred, total_out) #the integral of the error, much smaller than above"
   ]
  },
  {
   "cell_type": "code",
   "execution_count": 39,
   "metadata": {},
   "outputs": [
    {
     "data": {
      "text/plain": [
       "2.4103579922276386"
      ]
     },
     "execution_count": 39,
     "metadata": {},
     "output_type": "execute_result"
    }
   ],
   "source": [
    "from sklearn.metrics import mean_squared_error\n",
    "\n",
    "lin_mse = mean_squared_error(total_out, total_o_pred)\n",
    "lin_rmse = np.sqrt(lin_mse)\n",
    "lin_rmse  #lower, as expected"
   ]
  },
  {
   "cell_type": "code",
   "execution_count": 40,
   "metadata": {},
   "outputs": [],
   "source": [
    "tore_contour = np.full((36, 72), np.nan)\n",
    "for index in ti_indices:\n",
    "    lat_point = index//72 - 36*5\n",
    "    long_point = index%72 - 1*72\n",
    "    tore_contour[lat_point][long_point] = tore[np.where(all_indices == index)]"
   ]
  },
  {
   "cell_type": "code",
   "execution_count": 41,
   "metadata": {},
   "outputs": [
    {
     "data": {
      "text/plain": [
       "1320"
      ]
     },
     "execution_count": 41,
     "metadata": {},
     "output_type": "execute_result"
    }
   ],
   "source": [
    "len(ti_indices) #non nan values"
   ]
  },
  {
   "cell_type": "code",
   "execution_count": 42,
   "metadata": {},
   "outputs": [
    {
     "data": {
      "text/plain": [
       "22"
      ]
     },
     "execution_count": 42,
     "metadata": {},
     "output_type": "execute_result"
    }
   ],
   "source": [
    "noo = 0 #number of outliers\n",
    "for i in range(36):\n",
    "    for j in range(72):\n",
    "        if(tore_contour[i,j] < -1 or tore_contour[i,j] > 1):\n",
    "            tore_contour[i,j] = np.nan\n",
    "            noo += 1\n",
    "noo #22/1320 is around 1.7%, pretty small"
   ]
  },
  {
   "cell_type": "code",
   "execution_count": 43,
   "metadata": {},
   "outputs": [
    {
     "data": {
      "image/png": "[encoded data removed]",
      "text/plain": [
       "<Figure size 432x288 with 2 Axes>"
      ]
     },
     "metadata": {
      "needs_background": "light"
     },
     "output_type": "display_data"
    }
   ],
   "source": [
    "plt.contourf(tore_contour) #vmin = -1, vmax = 1) #levels=np.linspace(-1,1,50))\n",
    "plt.colorbar()\n",
    "plt.title(\"Trimmed Relative Difference (Old linear regressors)\")\n",
    "plt.xlabel(\"Longtitude\")\n",
    "plt.ylabel(\"Latitude\")\n",
    "plt.show()"
   ]
  },
  {
   "cell_type": "markdown",
   "metadata": {},
   "source": [
    "Plotting which regressor handles which section:"
   ]
  },
  {
   "cell_type": "code",
   "execution_count": 44,
   "metadata": {},
   "outputs": [],
   "source": [
    "def rh(in_data): #shows which regressor handles which data\n",
    "    in_data = np.array(in_data)\n",
    "    out_data = []\n",
    "    for instance in in_data:\n",
    "        if instance[105] > 20:\n",
    "            out_data.append(1) #outputs 1 when large regressor is used\n",
    "        else:\n",
    "            out_data.append(0) #outputs 0 when small regressor is used\n",
    "    return np.array(out_data)"
   ]
  },
  {
   "cell_type": "code",
   "execution_count": 45,
   "metadata": {},
   "outputs": [],
   "source": [
    "lr = rh(total_in) #labelling which regressor handles which data points\n",
    "\n",
    "lr_contour = np.full((36, 72), np.nan)\n",
    "for index in ti_indices:\n",
    "    lat_point = index//72 - 36*5\n",
    "    long_point = index%72 - 1*72\n",
    "    lr_contour[lat_point][long_point] = lr[np.where(all_indices == index)]"
   ]
  },
  {
   "cell_type": "code",
   "execution_count": 46,
   "metadata": {},
   "outputs": [
    {
     "data": {
      "image/png": "[encoded data removed]",
      "text/plain": [
       "<Figure size 432x288 with 2 Axes>"
      ]
     },
     "metadata": {
      "needs_background": "light"
     },
     "output_type": "display_data"
    },
    {
     "data": {
      "text/plain": [
       "<Figure size 432x288 with 0 Axes>"
      ]
     },
     "metadata": {},
     "output_type": "display_data"
    }
   ],
   "source": [
    "plt.contourf(lr_contour, levels=[0,0.5,1])\n",
    "plt.colorbar()\n",
    "plt.title(\"Labelling Regressors\")\n",
    "plt.xlabel(\"Longtitude\")\n",
    "plt.ylabel(\"Latitude\")\n",
    "plt.show()\n",
    "plt.savefig(\"Actual\")"
   ]
  },
  {
   "cell_type": "code",
   "execution_count": null,
   "metadata": {},
   "outputs": [],
   "source": []
  }
 ],
 "metadata": {
  "kernelspec": {
   "display_name": "Python 3",
   "language": "python",
   "name": "python3"
  },
  "language_info": {
   "codemirror_mode": {
    "name": "ipython",
    "version": 3
   },
   "file_extension": ".py",
   "mimetype": "text/x-python",
   "name": "python",
   "nbconvert_exporter": "python",
   "pygments_lexer": "ipython3",
   "version": "3.7.4"
  }
 },
 "nbformat": 4,
 "nbformat_minor": 2
}
