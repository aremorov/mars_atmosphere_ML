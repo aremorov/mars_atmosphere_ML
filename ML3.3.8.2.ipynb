{
 "cells": [
  {
   "cell_type": "markdown",
   "metadata": {},
   "source": [
    "Seeing if training on just 0001-00001 provides better prediction on 000-00472 than ML3.3.8... It is better"
   ]
  },
  {
   "cell_type": "code",
   "execution_count": 1,
   "metadata": {},
   "outputs": [],
   "source": [
    "import xarray as xr\n",
    "import matplotlib.pyplot as plt\n",
    "import numpy as np\n",
    "import pandas as pd"
   ]
  },
  {
   "cell_type": "code",
   "execution_count": 2,
   "metadata": {},
   "outputs": [],
   "source": [
    "def in_out(auxhist, wrfout): #outputs the required input and output data from the auxhist and wrfout files\n",
    "    DS_a = xr.open_dataset(auxhist) #dataset of auxhist\n",
    "    DS_w = xr.open_dataset(wrfout) #dataset of wrfout\n",
    "    \n",
    "    T = (DS_w.T.values + DS_w.T0) * ((DS_w.P.values + DS_w.PB.values)/DS_w.P0)**(DS_w.R_D/DS_w.CP)\n",
    "    st = DS_w.TSK.values #surface temp\n",
    "    d_c = DS_w.TAU_OD.values #dust optical depth\n",
    "    em = DS_w.EMISS.values #emissivity\n",
    "    p = DS_w.P.values + DS_w.PB.values #pressure\n",
    "    uif = DS_a.UPIRFLUX.values[1:,:,:,:] \n",
    "\n",
    "    temp_uif = []\n",
    "    for i in range(52):\n",
    "        temp_uif.append(uif[:,i,:,:].reshape(-1))\n",
    "    uif = np.array(temp_uif).T\n",
    "    uif.shape\n",
    "\n",
    "\n",
    "    sla = [] #special layer arrays that are the feature vectors in the linear regression model\n",
    "    sla.append((em*st**4).reshape(-1)) #don't have overall opacity, will deal with this issue later\n",
    "    for i in range(52): #using all the layers now\n",
    "        sla.append((np.exp(-d_c[:,i,:,:])*T[:,i,:,:]**4).reshape(-1))\n",
    "    for i in range(52): #using all the layers now\n",
    "        sla.append((np.exp(-p[:,i,:,:])*T[:,i,:,:]**4).reshape(-1))\n",
    "    sla = np.array(sla)\n",
    "    sla = sla.T[2592:,:] #take transpose, remove first day of data (all lwr are 0 there)\n",
    "    \n",
    "    return sla, uif"
   ]
  },
  {
   "cell_type": "code",
   "execution_count": 3,
   "metadata": {},
   "outputs": [],
   "source": [
    "sla1, uif1 = in_out('af', 'wf') #first snapshot of data (0001-00001)"
   ]
  },
  {
   "cell_type": "code",
   "execution_count": 4,
   "metadata": {},
   "outputs": [],
   "source": [
    "sla2, uif2 = in_out('af2', 'wf2') #some snapshot of data about half a martian year later (0002-00352)"
   ]
  },
  {
   "cell_type": "code",
   "execution_count": 5,
   "metadata": {},
   "outputs": [],
   "source": [
    "sla3, uif3 = in_out('af3', 'wf3') #this will be the test set (0002-00472)"
   ]
  },
  {
   "cell_type": "code",
   "execution_count": 6,
   "metadata": {},
   "outputs": [],
   "source": [
    "uif_train = np.concatenate((uif1, uif2), axis=0) #total uif for training"
   ]
  },
  {
   "cell_type": "code",
   "execution_count": 7,
   "metadata": {},
   "outputs": [],
   "source": [
    "sla_train = np.concatenate((sla1, sla2), axis=0) #total sla for training"
   ]
  },
  {
   "cell_type": "code",
   "execution_count": 13,
   "metadata": {},
   "outputs": [
    {
     "data": {
      "text/plain": [
       "(619488, 52)"
      ]
     },
     "execution_count": 13,
     "metadata": {},
     "output_type": "execute_result"
    }
   ],
   "source": [
    "uif3.shape"
   ]
  },
  {
   "cell_type": "markdown",
   "metadata": {},
   "source": [
    "# Linear regression"
   ]
  },
  {
   "cell_type": "code",
   "execution_count": 44,
   "metadata": {},
   "outputs": [],
   "source": [
    "from sklearn.linear_model import LinearRegression\n",
    "lr1 = LinearRegression()\n",
    "lr1.fit(sla1,uif1)\n",
    "uif_lin = lr1.predict(sla3) "
   ]
  },
  {
   "cell_type": "code",
   "execution_count": 45,
   "metadata": {},
   "outputs": [
    {
     "data": {
      "text/plain": [
       "array([[ 3.3869480e-08,  2.9351188e-08, -1.1628323e-08, ...,\n",
       "         2.3613462e-07, -5.3566242e-07,  6.6588168e-06],\n",
       "       [ 3.3869483e-08,  2.9351039e-08, -1.1628382e-08, ...,\n",
       "         2.3612569e-07, -5.3567004e-07,  6.6587627e-06],\n",
       "       [ 3.3869494e-08,  2.9351050e-08, -1.1628202e-08, ...,\n",
       "         2.3611973e-07, -5.3567794e-07,  6.6587218e-06],\n",
       "       ...,\n",
       "       [ 4.2058481e-08,  1.6007963e-08, -6.8057293e-10, ...,\n",
       "         1.9604649e-07, -5.4032478e-07,  5.2393821e-06],\n",
       "       [ 4.2364128e-08,  1.6377175e-08, -7.0447559e-10, ...,\n",
       "         2.0395090e-07, -5.4970087e-07,  5.2431396e-06],\n",
       "       [ 4.2773120e-08,  1.7074729e-08, -4.1580339e-10, ...,\n",
       "         2.1293111e-07, -5.5738826e-07,  5.2523515e-06]], dtype=float32)"
      ]
     },
     "execution_count": 45,
     "metadata": {},
     "output_type": "execute_result"
    }
   ],
   "source": [
    "lr1.coef_"
   ]
  },
  {
   "cell_type": "code",
   "execution_count": 46,
   "metadata": {},
   "outputs": [
    {
     "data": {
      "text/plain": [
       "10.279661"
      ]
     },
     "execution_count": 46,
     "metadata": {},
     "output_type": "execute_result"
    }
   ],
   "source": [
    "from sklearn.metrics import mean_squared_error\n",
    "uif_out = uif3\n",
    "lin_mse = mean_squared_error(uif_out, uif_lin)\n",
    "lin_rmse = np.sqrt(lin_mse)\n",
    "lin_rmse "
   ]
  },
  {
   "cell_type": "code",
   "execution_count": 47,
   "metadata": {},
   "outputs": [
    {
     "data": {
      "text/plain": [
       "16.084946"
      ]
     },
     "execution_count": 47,
     "metadata": {},
     "output_type": "execute_result"
    }
   ],
   "source": [
    "np.min(uif_out)"
   ]
  },
  {
   "cell_type": "code",
   "execution_count": 48,
   "metadata": {},
   "outputs": [
    {
     "data": {
      "text/plain": [
       "489.8716"
      ]
     },
     "execution_count": 48,
     "metadata": {},
     "output_type": "execute_result"
    }
   ],
   "source": [
    "np.max(uif_out)"
   ]
  },
  {
   "cell_type": "code",
   "execution_count": 49,
   "metadata": {},
   "outputs": [],
   "source": [
    "uif_diff = uif_out - uif_lin"
   ]
  },
  {
   "cell_type": "code",
   "execution_count": 50,
   "metadata": {},
   "outputs": [
    {
     "data": {
      "text/plain": [
       "(array([   840,    840,  11208,  11208,  31943,  31944,  31944,  31944,\n",
       "         31944,  31944,  31944,  42312,  42312,  52680,  52680,  52680,\n",
       "         52680,  63048,  63048,  63048,  73416,  83784,  83784,  83784,\n",
       "         83784,  83784,  83784,  94152,  94152,  94152,  94152, 104520,\n",
       "        104520, 104520, 104520, 104520, 104520, 104520, 104521, 104521,\n",
       "        104521, 104521, 104522, 104522, 104522, 104522, 104522, 104522,\n",
       "        104522, 114888, 114888, 114888, 114888, 114888, 114889, 114889,\n",
       "        114890, 114890, 114890, 114890, 125256, 125256, 125256, 125256,\n",
       "        125256, 125257, 125257, 125258, 125258, 125258, 135624, 135624,\n",
       "        135624, 135624, 135624, 135624, 135625, 135625, 135625, 135626,\n",
       "        135626, 135626, 135626, 135626, 135626, 145992, 145992, 145992,\n",
       "        145992, 145992, 145992, 145992, 145993, 145993, 145993, 145993,\n",
       "        145993, 145994, 145994, 145994, 145994, 145994, 145994, 145994,\n",
       "        145994, 156360, 156360, 156360, 156360, 156362, 166728, 166728,\n",
       "        166728, 166728, 177096, 177096, 177096, 177096, 187464, 187464,\n",
       "        187464, 187464, 187464, 187464, 187464, 187464, 187465, 187465,\n",
       "        187465, 187465, 187465, 187465, 187466, 187466, 187466, 187466,\n",
       "        187466, 187466, 187466, 187466, 187466, 197832, 197832, 197832,\n",
       "        197832, 197832, 197832, 197832, 197832, 197832, 197833, 197833,\n",
       "        197833, 197833, 197833, 197834, 197834, 197834, 197834, 197834,\n",
       "        197834, 197834, 197834, 197834, 208128, 208128, 208128, 208129,\n",
       "        208129, 208199, 208200, 208200, 208200, 208200, 208200, 208200,\n",
       "        208200, 208200, 208200, 208201, 208201, 208201, 208201, 208201,\n",
       "        208201, 208201, 208201, 208202, 208202, 208202, 208202, 208202,\n",
       "        208202, 208202, 208202, 208202, 208202, 208202, 208202, 218494,\n",
       "        218494, 218494, 218494, 218494, 218495, 218495, 218495, 218567,\n",
       "        218567, 218567, 218567, 218567, 218567, 218568, 218568, 218568,\n",
       "        218568, 218568, 218568, 218568, 218568, 218568, 218568, 218568,\n",
       "        218568, 218568, 218568, 218569, 218569, 218569, 218569, 218569,\n",
       "        218569, 218569, 218569, 218569, 218569, 218569, 228935, 228935,\n",
       "        228935, 228935, 228935, 228936, 228936, 228936, 228936, 228936,\n",
       "        228936, 228936, 228936, 228936, 228936, 228936, 228936, 228937,\n",
       "        228937, 228937, 228937, 228938, 239304, 239304, 239304, 239304,\n",
       "        239304, 249672, 249672, 249672, 249672, 249672, 249674, 260040,\n",
       "        260040, 260040, 260040, 260040, 260040, 260040, 260040, 260041,\n",
       "        260041, 260041, 260042, 260042, 260042, 260042, 270408, 270408,\n",
       "        270408, 270408, 270408, 270408, 270408, 270408, 270409, 270409,\n",
       "        280776, 280776, 280776, 280776, 280776, 280776, 280776, 291144,\n",
       "        291144, 291144, 291144, 291144, 301512, 301512, 301512, 301512,\n",
       "        301512, 311880, 311880, 342984, 342984, 353352, 353352, 353352,\n",
       "        353352, 353352, 353352, 353353, 353353, 353354, 353354, 353354,\n",
       "        363720, 363720, 363720, 363720, 363720, 363720, 363720, 363720,\n",
       "        363720, 363721, 363721, 363721, 363721, 363721, 363721, 363721,\n",
       "        363721, 363721, 363721, 363722, 363722, 363722, 363722, 363722,\n",
       "        363722, 363722, 363722, 363722, 363722, 363722, 374088, 374088,\n",
       "        374088, 374088, 374088, 374088, 374088, 374088, 374088, 374088,\n",
       "        374088, 374089, 384456, 384456, 394824, 436298, 436298, 436298,\n",
       "        436298, 446664, 446664, 446664, 446664, 446664, 446665, 446665,\n",
       "        446665, 446665, 446665, 446665, 457032, 457032, 457032, 457032,\n",
       "        457032, 457032, 457032, 457032, 457032, 467400, 467400, 467400,\n",
       "        467400, 467400, 467400, 467400, 467400, 467400], dtype=int64),\n",
       " array([50, 51, 50, 51, 51, 46, 47, 48, 49, 50, 51, 50, 51, 48, 49, 50, 51,\n",
       "        49, 50, 51, 51, 46, 47, 48, 49, 50, 51, 48, 49, 50, 51, 45, 46, 47,\n",
       "        48, 49, 50, 51, 48, 49, 50, 51, 45, 46, 47, 48, 49, 50, 51, 47, 48,\n",
       "        49, 50, 51, 50, 51, 48, 49, 50, 51, 47, 48, 49, 50, 51, 50, 51, 49,\n",
       "        50, 51, 46, 47, 48, 49, 50, 51, 49, 50, 51, 46, 47, 48, 49, 50, 51,\n",
       "        45, 46, 47, 48, 49, 50, 51, 47, 48, 49, 50, 51, 44, 45, 46, 47, 48,\n",
       "        49, 50, 51, 48, 49, 50, 51, 51, 48, 49, 50, 51, 48, 49, 50, 51, 44,\n",
       "        45, 46, 47, 48, 49, 50, 51, 46, 47, 48, 49, 50, 51, 43, 44, 45, 46,\n",
       "        47, 48, 49, 50, 51, 43, 44, 45, 46, 47, 48, 49, 50, 51, 47, 48, 49,\n",
       "        50, 51, 43, 44, 45, 46, 47, 48, 49, 50, 51, 49, 50, 51, 50, 51, 51,\n",
       "        43, 44, 45, 46, 47, 48, 49, 50, 51, 44, 45, 46, 47, 48, 49, 50, 51,\n",
       "        40, 41, 42, 43, 44, 45, 46, 47, 48, 49, 50, 51, 47, 48, 49, 50, 51,\n",
       "        49, 50, 51, 46, 47, 48, 49, 50, 51, 38, 39, 40, 41, 42, 43, 44, 45,\n",
       "        46, 47, 48, 49, 50, 51, 41, 42, 43, 44, 45, 46, 47, 48, 49, 50, 51,\n",
       "        47, 48, 49, 50, 51, 40, 41, 42, 43, 44, 45, 46, 47, 48, 49, 50, 51,\n",
       "        48, 49, 50, 51, 51, 47, 48, 49, 50, 51, 47, 48, 49, 50, 51, 51, 44,\n",
       "        45, 46, 47, 48, 49, 50, 51, 49, 50, 51, 48, 49, 50, 51, 44, 45, 46,\n",
       "        47, 48, 49, 50, 51, 50, 51, 45, 46, 47, 48, 49, 50, 51, 47, 48, 49,\n",
       "        50, 51, 47, 48, 49, 50, 51, 50, 51, 50, 51, 46, 47, 48, 49, 50, 51,\n",
       "        50, 51, 49, 50, 51, 43, 44, 45, 46, 47, 48, 49, 50, 51, 42, 43, 44,\n",
       "        45, 46, 47, 48, 49, 50, 51, 41, 42, 43, 44, 45, 46, 47, 48, 49, 50,\n",
       "        51, 41, 42, 43, 44, 45, 46, 47, 48, 49, 50, 51, 51, 50, 51, 51, 48,\n",
       "        49, 50, 51, 47, 48, 49, 50, 51, 46, 47, 48, 49, 50, 51, 43, 44, 45,\n",
       "        46, 47, 48, 49, 50, 51, 43, 44, 45, 46, 47, 48, 49, 50, 51],\n",
       "       dtype=int64))"
      ]
     },
     "execution_count": 50,
     "metadata": {},
     "output_type": "execute_result"
    }
   ],
   "source": [
    "np.where(uif_diff > 50)"
   ]
  },
  {
   "cell_type": "code",
   "execution_count": 51,
   "metadata": {},
   "outputs": [
    {
     "data": {
      "text/plain": [
       "<function matplotlib.pyplot.show(*args, **kw)>"
      ]
     },
     "execution_count": 51,
     "metadata": {},
     "output_type": "execute_result"
    },
    {
     "data": {
      "image/png": "[encoded data removed]",
      "text/plain": [
       "<Figure size 432x288 with 1 Axes>"
      ]
     },
     "metadata": {
      "needs_background": "light"
     },
     "output_type": "display_data"
    }
   ],
   "source": [
    "plt.hist(uif_diff, bins = 100)\n",
    "plt.title(\"Linear regressor difference\")\n",
    "plt.show #some variance..."
   ]
  },
  {
   "cell_type": "code",
   "execution_count": 52,
   "metadata": {},
   "outputs": [
    {
     "data": {
      "text/plain": [
       "(32213376, 1)"
      ]
     },
     "execution_count": 52,
     "metadata": {},
     "output_type": "execute_result"
    }
   ],
   "source": [
    "uif_out.reshape(-1,1).shape"
   ]
  },
  {
   "cell_type": "code",
   "execution_count": 53,
   "metadata": {},
   "outputs": [],
   "source": [
    "real_out = uif_out[10*36*72:11*36*72,10].reshape(36,72)\n",
    "pred_out = uif_lin[10*36*72:11*36*72,10].reshape(36,72)"
   ]
  },
  {
   "cell_type": "code",
   "execution_count": 54,
   "metadata": {},
   "outputs": [
    {
     "data": {
      "image/png": "[encoded data removed]",
      "text/plain": [
       "<Figure size 432x288 with 2 Axes>"
      ]
     },
     "metadata": {
      "needs_background": "light"
     },
     "output_type": "display_data"
    }
   ],
   "source": [
    "plt.contourf(real_out)\n",
    "plt.colorbar()\n",
    "plt.title(\"Actual UPIRFLUX (Lin Reg)\")\n",
    "plt.xlabel(\"Longtitude\")\n",
    "plt.ylabel(\"Latitude\")\n",
    "plt.show()"
   ]
  },
  {
   "cell_type": "code",
   "execution_count": 55,
   "metadata": {},
   "outputs": [
    {
     "data": {
      "image/png": "[encoded data removed]",
      "text/plain": [
       "<Figure size 432x288 with 2 Axes>"
      ]
     },
     "metadata": {
      "needs_background": "light"
     },
     "output_type": "display_data"
    }
   ],
   "source": [
    "plt.contourf(pred_out)\n",
    "plt.colorbar()\n",
    "plt.title(\"Predicted UPIRFLUX (Lin Reg)\")\n",
    "plt.xlabel(\"Longtitude\")\n",
    "plt.ylabel(\"Latitude\")\n",
    "plt.show()"
   ]
  },
  {
   "cell_type": "code",
   "execution_count": 56,
   "metadata": {},
   "outputs": [
    {
     "data": {
      "image/png": "[encoded data removed]",
      "text/plain": [
       "<Figure size 432x288 with 2 Axes>"
      ]
     },
     "metadata": {
      "needs_background": "light"
     },
     "output_type": "display_data"
    }
   ],
   "source": [
    "plt.contourf(real_out - pred_out)\n",
    "plt.colorbar()\n",
    "plt.title(\"Difference UPIRFLUX (Lin Reg)\")\n",
    "plt.xlabel(\"Longtitude\")\n",
    "plt.ylabel(\"Latitude\")\n",
    "plt.show()"
   ]
  },
  {
   "cell_type": "code",
   "execution_count": 57,
   "metadata": {},
   "outputs": [
    {
     "data": {
      "image/png": "[encoded data removed]",
      "text/plain": [
       "<Figure size 432x288 with 2 Axes>"
      ]
     },
     "metadata": {
      "needs_background": "light"
     },
     "output_type": "display_data"
    }
   ],
   "source": [
    "plt.contourf((real_out - pred_out)/real_out)\n",
    "plt.colorbar()\n",
    "plt.title(\"Relative Difference UPIRFLUX (Lin Reg)\")\n",
    "plt.xlabel(\"Longtitude\")\n",
    "plt.ylabel(\"Latitude\")\n",
    "plt.show()"
   ]
  },
  {
   "cell_type": "markdown",
   "metadata": {},
   "source": [
    "## Getting the integrals of flux error (and then getting average erroneusly added flux)"
   ]
  },
  {
   "cell_type": "code",
   "execution_count": 58,
   "metadata": {},
   "outputs": [],
   "source": [
    "def int_err(pred, real, real_in, r): \n",
    "    areas = []\n",
    "    for i in range(len(real)):\n",
    "        dA =  -r**2 * np.sin((np.pi/36)*((real_in.index[i]//72)%36)) * (np.pi/36) * (np.pi/36)  #area increment\n",
    "        areas.append(dA)\n",
    "    areas = np.array(areas)\n",
    "    return np.sum((np.array(pred) - np.array(real))*areas)"
   ]
  },
  {
   "cell_type": "code",
   "execution_count": 59,
   "metadata": {},
   "outputs": [
    {
     "data": {
      "text/plain": [
       "(36, 72)"
      ]
     },
     "execution_count": 59,
     "metadata": {},
     "output_type": "execute_result"
    }
   ],
   "source": [
    "real_out.shape"
   ]
  },
  {
   "cell_type": "code",
   "execution_count": 60,
   "metadata": {},
   "outputs": [],
   "source": [
    "lin_t_int = [] #total lin integral list, each element is one layer\n",
    "for i in range(52): \n",
    "    lin_errors = [] #each element is one time snapshot\n",
    "    for j in range(70):\n",
    "        lin_int_err = int_err(uif_lin[j*36*72:(j+1)*36*72,i], uif_out[j*36*72:(j+1)*36*72,i], pd.DataFrame(uif_lin), 3.39e6) \n",
    "        lin_errors.append(lin_int_err/(1.44e14)) \n",
    "    lin_t_int.append(lin_errors)"
   ]
  },
  {
   "cell_type": "code",
   "execution_count": 61,
   "metadata": {
    "scrolled": true
   },
   "outputs": [
    {
     "data": {
      "text/plain": [
       "array([[3.11562388, 2.5985966 , 2.8895157 , ..., 3.16796345, 3.83902112,\n",
       "        3.23271167],\n",
       "       [3.11540943, 2.59835445, 2.88928852, ..., 3.16769795, 3.83877096,\n",
       "        3.23247957],\n",
       "       [3.11533898, 2.5982752 , 2.88921016, ..., 3.16756807, 3.8385929 ,\n",
       "        3.23230887],\n",
       "       ...,\n",
       "       [4.9348963 , 3.46355988, 4.72576359, ..., 5.05607101, 6.28859775,\n",
       "        4.53328263],\n",
       "       [4.88068975, 3.37542063, 4.65993357, ..., 5.02116207, 6.26922031,\n",
       "        4.47229922],\n",
       "       [4.80417461, 3.24492315, 4.57319292, ..., 4.97202615, 6.23316566,\n",
       "        4.37481886]])"
      ]
     },
     "execution_count": 61,
     "metadata": {},
     "output_type": "execute_result"
    }
   ],
   "source": [
    "lin_t_int = np.array(lin_t_int)\n",
    "lin_t_int"
   ]
  },
  {
   "cell_type": "code",
   "execution_count": 62,
   "metadata": {},
   "outputs": [
    {
     "data": {
      "text/plain": [
       "array([3.83902112, 3.83877096, 3.8385929 , 3.83835639, 3.8385571 ,\n",
       "       3.83826766, 3.83862134, 3.83837441, 3.83852759, 3.83769472,\n",
       "       3.83717537, 3.8371833 , 3.83731505, 3.83908856, 3.84256088,\n",
       "       3.8469702 , 3.85506596, 3.86579477, 3.87776599, 3.8922315 ,\n",
       "       3.90864037, 3.93507434, 3.96924634, 4.01229242, 4.06435502,\n",
       "       4.12516526, 4.1994023 , 4.28963837, 4.39876424, 4.53169557,\n",
       "       4.68928089, 4.86703404, 5.05804562, 5.26008405, 5.46512105,\n",
       "       5.67032452, 5.86312977, 6.04251153, 6.17652307, 6.21967244,\n",
       "       6.2573753 , 6.27829265, 6.29741302, 6.31401673, 6.32536371,\n",
       "       6.32846564, 6.3261719 , 6.31690244, 6.30345424, 6.28859775,\n",
       "       6.26922031, 6.23316566])"
      ]
     },
     "execution_count": 62,
     "metadata": {},
     "output_type": "execute_result"
    }
   ],
   "source": [
    "max_err = []\n",
    "for element in lin_t_int:\n",
    "    max_err.append(np.max(element))\n",
    "np.array(max_err)"
   ]
  },
  {
   "cell_type": "code",
   "execution_count": 63,
   "metadata": {},
   "outputs": [
    {
     "data": {
      "text/plain": [
       "array([2.5215425 , 2.52131127, 2.52121556, 2.52091656, 2.52122817,\n",
       "       2.52105034, 2.52114921, 2.52092947, 2.52128904, 2.52076484,\n",
       "       2.52080857, 2.52069607, 2.52016778, 2.52150675, 2.52493109,\n",
       "       2.52993741, 2.53750474, 2.54606649, 2.55748557, 2.572074  ,\n",
       "       2.58741868, 2.60793392, 2.6343487 , 2.6687359 , 2.71198659,\n",
       "       2.76550857, 2.83258959, 2.91040531, 2.99918711, 3.10339087,\n",
       "       3.22420389, 3.35575127, 3.48385001, 3.60477076, 3.71499468,\n",
       "       3.81611084, 3.89172701, 3.92340292, 3.90561097, 3.8808052 ,\n",
       "       3.84414917, 3.8173159 , 3.7854626 , 3.74788191, 3.70423114,\n",
       "       3.67089528, 3.63263193, 3.5869367 , 3.53147559, 3.46355988,\n",
       "       3.37542063, 3.24492315])"
      ]
     },
     "execution_count": 63,
     "metadata": {},
     "output_type": "execute_result"
    }
   ],
   "source": [
    "min_err = []\n",
    "for element in lin_t_int:\n",
    "    min_err.append(np.min(element))\n",
    "np.array(min_err)"
   ]
  },
  {
   "cell_type": "code",
   "execution_count": 64,
   "metadata": {},
   "outputs": [
    {
     "data": {
      "text/plain": [
       "array([0.29680565, 0.29681023, 0.29680424, 0.29680122, 0.29683687,\n",
       "       0.29682585, 0.29683162, 0.29684671, 0.29684109, 0.29683451,\n",
       "       0.29683755, 0.29685616, 0.29691842, 0.29697171, 0.29691   ,\n",
       "       0.29684338, 0.29701042, 0.29735531, 0.29749919, 0.29750086,\n",
       "       0.29768591, 0.2981845 , 0.29897115, 0.30029594, 0.30210802,\n",
       "       0.30430673, 0.30703319, 0.31081134, 0.31588157, 0.32281755,\n",
       "       0.33207674, 0.34345068, 0.35627547, 0.3726446 , 0.3930445 ,\n",
       "       0.41612346, 0.44454291, 0.48305506, 0.52133616, 0.53834207,\n",
       "       0.55733973, 0.569671  , 0.58267459, 0.59573849, 0.60808595,\n",
       "       0.61589863, 0.62370346, 0.63194173, 0.64159474, 0.65350163,\n",
       "       0.66903458, 0.69188346])"
      ]
     },
     "execution_count": 64,
     "metadata": {},
     "output_type": "execute_result"
    }
   ],
   "source": [
    "std_err = []\n",
    "for element in lin_t_int:\n",
    "    std_err.append(np.std(element))\n",
    "np.array(std_err)"
   ]
  },
  {
   "cell_type": "code",
   "execution_count": 65,
   "metadata": {},
   "outputs": [
    {
     "data": {
      "text/plain": [
       "array([3.19643344, 3.19621482, 3.19610305, 3.19583628, 3.19609639,\n",
       "       3.1958689 , 3.19600047, 3.19581703, 3.19624603, 3.19589086,\n",
       "       3.19621235, 3.19649243, 3.19637287, 3.19784613, 3.200928  ,\n",
       "       3.20571711, 3.21381603, 3.2232999 , 3.23502795, 3.25021377,\n",
       "       3.26700846, 3.28886028, 3.31640577, 3.35253384, 3.39776776,\n",
       "       3.45299998, 3.5218526 , 3.60478377, 3.70265585, 3.82034369,\n",
       "       3.9587831 , 4.11283862, 4.27530348, 4.4406817 , 4.60269195,\n",
       "       4.7631078 , 4.9077707 , 5.02258157, 5.08285634, 5.09131801,\n",
       "       5.08993794, 5.08514178, 5.07626954, 5.06204951, 5.04096192,\n",
       "       5.02234221, 4.99894935, 4.96894249, 4.93131381, 4.88490931,\n",
       "       4.82658747, 4.74279608])"
      ]
     },
     "execution_count": 65,
     "metadata": {},
     "output_type": "execute_result"
    }
   ],
   "source": [
    "avg_err = []\n",
    "for element in lin_t_int:\n",
    "    avg_err.append(np.average(element))\n",
    "np.array(avg_err)"
   ]
  },
  {
   "cell_type": "code",
   "execution_count": 66,
   "metadata": {},
   "outputs": [
    {
     "name": "stdout",
     "output_type": "stream",
     "text": [
      "Lin reg average:\n",
      "3.9382650095433105\n"
     ]
    }
   ],
   "source": [
    "print(\"Lin reg average:\")\n",
    "print(np.average(np.array(lin_t_int)))"
   ]
  },
  {
   "cell_type": "markdown",
   "metadata": {},
   "source": [
    "These are much higher values than in ML3.3.3."
   ]
  },
  {
   "cell_type": "code",
   "execution_count": null,
   "metadata": {},
   "outputs": [],
   "source": []
  },
  {
   "cell_type": "code",
   "execution_count": null,
   "metadata": {},
   "outputs": [],
   "source": []
  },
  {
   "cell_type": "code",
   "execution_count": null,
   "metadata": {},
   "outputs": [],
   "source": []
  }
 ],
 "metadata": {
  "kernelspec": {
   "display_name": "Python 3",
   "language": "python",
   "name": "python3"
  },
  "language_info": {
   "codemirror_mode": {
    "name": "ipython",
    "version": 3
   },
   "file_extension": ".py",
   "mimetype": "text/x-python",
   "name": "python",
   "nbconvert_exporter": "python",
   "pygments_lexer": "ipython3",
   "version": "3.7.4"
  }
 },
 "nbformat": 4,
 "nbformat_minor": 2
}
