{
 "cells": [
  {
   "cell_type": "markdown",
   "metadata": {},
   "source": [
    "Applying the regressors to output infrared fluxes in the whole atmosphere. This is flawed since TOALW is not one of the inputs (unlike TOASW)."
   ]
  },
  {
   "cell_type": "code",
   "execution_count": 1,
   "metadata": {},
   "outputs": [],
   "source": [
    "import xarray as xr\n",
    "import matplotlib.pyplot as plt\n",
    "import numpy as np\n",
    "import pandas as pd"
   ]
  },
  {
   "cell_type": "code",
   "execution_count": 2,
   "metadata": {},
   "outputs": [],
   "source": [
    "dataDIR = 'af'\n",
    "DS = xr.open_dataset(dataDIR)"
   ]
  },
  {
   "cell_type": "code",
   "execution_count": 3,
   "metadata": {},
   "outputs": [],
   "source": [
    "albedo = DS.ALBEDO.values"
   ]
  },
  {
   "cell_type": "code",
   "execution_count": 4,
   "metadata": {},
   "outputs": [
    {
     "data": {
      "text/plain": [
       "(71, 36, 72)"
      ]
     },
     "execution_count": 4,
     "metadata": {},
     "output_type": "execute_result"
    }
   ],
   "source": [
    "albedo.shape #days, latitude, longtitude"
   ]
  },
  {
   "cell_type": "code",
   "execution_count": 5,
   "metadata": {},
   "outputs": [
    {
     "data": {
      "text/plain": [
       "(71, 53, 36, 72)"
      ]
     },
     "execution_count": 5,
     "metadata": {},
     "output_type": "execute_result"
    }
   ],
   "source": [
    "albedo2 = np.zeros([71,53,36,72])\n",
    "albedo2.shape"
   ]
  },
  {
   "cell_type": "code",
   "execution_count": 6,
   "metadata": {},
   "outputs": [],
   "source": [
    "for i in range(53):\n",
    "    albedo2[:,i,:,:] = albedo #need height dimension too"
   ]
  },
  {
   "cell_type": "code",
   "execution_count": 7,
   "metadata": {},
   "outputs": [],
   "source": [
    "d_c = DS.TAU_OD.values"
   ]
  },
  {
   "cell_type": "code",
   "execution_count": 8,
   "metadata": {},
   "outputs": [
    {
     "data": {
      "text/plain": [
       "(71, 52, 36, 72)"
      ]
     },
     "execution_count": 8,
     "metadata": {},
     "output_type": "execute_result"
    }
   ],
   "source": [
    "d_c.shape "
   ]
  },
  {
   "cell_type": "code",
   "execution_count": 9,
   "metadata": {},
   "outputs": [],
   "source": [
    "tsf = DS.TOALW.values #top solar flux for infrared"
   ]
  },
  {
   "cell_type": "code",
   "execution_count": 10,
   "metadata": {},
   "outputs": [
    {
     "data": {
      "text/plain": [
       "(71, 36, 72)"
      ]
     },
     "execution_count": 10,
     "metadata": {},
     "output_type": "execute_result"
    }
   ],
   "source": [
    "tsf.shape"
   ]
  },
  {
   "cell_type": "code",
   "execution_count": 11,
   "metadata": {},
   "outputs": [],
   "source": [
    "msf = DS.DOWNIRFLUX.values #whole atmosphere down infrared flux"
   ]
  },
  {
   "cell_type": "code",
   "execution_count": 12,
   "metadata": {},
   "outputs": [
    {
     "data": {
      "text/plain": [
       "(71, 53, 36, 72)"
      ]
     },
     "execution_count": 12,
     "metadata": {},
     "output_type": "execute_result"
    }
   ],
   "source": [
    "msf.shape"
   ]
  },
  {
   "cell_type": "code",
   "execution_count": 13,
   "metadata": {},
   "outputs": [],
   "source": [
    "msf2 = msf/(1-albedo2)"
   ]
  },
  {
   "cell_type": "markdown",
   "metadata": {},
   "source": [
    "Let's combine the data together for ten time samples, with full latitude and longitude:"
   ]
  },
  {
   "cell_type": "code",
   "execution_count": 14,
   "metadata": {},
   "outputs": [
    {
     "data": {
      "text/plain": [
       "'            \\ne_t = [] #equator input and output\\n#input:\\nfor k in range(10): #10 days\\n    for j in range(72):\\n        input_array = list(d_c[k,:,18,j]) #add dust profile\\n        input_array.append(tsf[k,18,j]) #add top solar flux, without the albedo factor\\n        input_array+=list(msf2[k,:,18,j])            \\n        e_t.append(input_array) #appends input to input array\\n'"
      ]
     },
     "execution_count": 14,
     "metadata": {},
     "output_type": "execute_result"
    }
   ],
   "source": [
    "e_t = [] #equator input and output\n",
    "#input:\n",
    "for k in range(10): #10 days\n",
    "    for i in range(36):\n",
    "        for j in range(72):\n",
    "            input_array = list(d_c[k,:,i,j]) #add dust profile\n",
    "            input_array.append(tsf[k,i,j]) #add top solar flux, without the albedo factor\n",
    "            input_array+=list(msf2[k,:,i,j])            \n",
    "            e_t.append(input_array) #appends input to input array\n",
    "            \n",
    "'''            \n",
    "e_t = [] #equator input and output\n",
    "#input:\n",
    "for k in range(10): #10 days\n",
    "    for j in range(72):\n",
    "        input_array = list(d_c[k,:,18,j]) #add dust profile\n",
    "        input_array.append(tsf[k,18,j]) #add top solar flux, without the albedo factor\n",
    "        input_array+=list(msf2[k,:,18,j])            \n",
    "        e_t.append(input_array) #appends input to input array\n",
    "'''"
   ]
  },
  {
   "cell_type": "code",
   "execution_count": 15,
   "metadata": {},
   "outputs": [
    {
     "data": {
      "text/plain": [
       "(25920, 106)"
      ]
     },
     "execution_count": 15,
     "metadata": {},
     "output_type": "execute_result"
    }
   ],
   "source": [
    "e_t = np.array(e_t)\n",
    "e_t.shape"
   ]
  },
  {
   "cell_type": "code",
   "execution_count": 16,
   "metadata": {},
   "outputs": [
    {
     "data": {
      "text/html": [
       "<div>\n",
       "<style scoped>\n",
       "    .dataframe tbody tr th:only-of-type {\n",
       "        vertical-align: middle;\n",
       "    }\n",
       "\n",
       "    .dataframe tbody tr th {\n",
       "        vertical-align: top;\n",
       "    }\n",
       "\n",
       "    .dataframe thead th {\n",
       "        text-align: right;\n",
       "    }\n",
       "</style>\n",
       "<table border=\"1\" class=\"dataframe\">\n",
       "  <thead>\n",
       "    <tr style=\"text-align: right;\">\n",
       "      <th></th>\n",
       "      <th>0</th>\n",
       "      <th>1</th>\n",
       "      <th>2</th>\n",
       "      <th>3</th>\n",
       "      <th>4</th>\n",
       "      <th>5</th>\n",
       "      <th>6</th>\n",
       "      <th>7</th>\n",
       "      <th>8</th>\n",
       "      <th>9</th>\n",
       "      <th>...</th>\n",
       "      <th>96</th>\n",
       "      <th>97</th>\n",
       "      <th>98</th>\n",
       "      <th>99</th>\n",
       "      <th>100</th>\n",
       "      <th>101</th>\n",
       "      <th>102</th>\n",
       "      <th>103</th>\n",
       "      <th>104</th>\n",
       "      <th>105</th>\n",
       "    </tr>\n",
       "  </thead>\n",
       "  <tbody>\n",
       "    <tr>\n",
       "      <td>0</td>\n",
       "      <td>0.000000</td>\n",
       "      <td>0.000000</td>\n",
       "      <td>0.000000</td>\n",
       "      <td>0.000000</td>\n",
       "      <td>0.000000</td>\n",
       "      <td>0.000000</td>\n",
       "      <td>0.000000</td>\n",
       "      <td>0.000000</td>\n",
       "      <td>0.000000</td>\n",
       "      <td>0.000000</td>\n",
       "      <td>...</td>\n",
       "      <td>0.000000</td>\n",
       "      <td>0.000000</td>\n",
       "      <td>0.000000</td>\n",
       "      <td>0.000000</td>\n",
       "      <td>0.000000</td>\n",
       "      <td>0.000000</td>\n",
       "      <td>0.000000</td>\n",
       "      <td>0.000000</td>\n",
       "      <td>0.000000</td>\n",
       "      <td>0.000000</td>\n",
       "    </tr>\n",
       "    <tr>\n",
       "      <td>1</td>\n",
       "      <td>0.000000</td>\n",
       "      <td>0.000000</td>\n",
       "      <td>0.000000</td>\n",
       "      <td>0.000000</td>\n",
       "      <td>0.000000</td>\n",
       "      <td>0.000000</td>\n",
       "      <td>0.000000</td>\n",
       "      <td>0.000000</td>\n",
       "      <td>0.000000</td>\n",
       "      <td>0.000000</td>\n",
       "      <td>...</td>\n",
       "      <td>0.000000</td>\n",
       "      <td>0.000000</td>\n",
       "      <td>0.000000</td>\n",
       "      <td>0.000000</td>\n",
       "      <td>0.000000</td>\n",
       "      <td>0.000000</td>\n",
       "      <td>0.000000</td>\n",
       "      <td>0.000000</td>\n",
       "      <td>0.000000</td>\n",
       "      <td>0.000000</td>\n",
       "    </tr>\n",
       "    <tr>\n",
       "      <td>2</td>\n",
       "      <td>0.000000</td>\n",
       "      <td>0.000000</td>\n",
       "      <td>0.000000</td>\n",
       "      <td>0.000000</td>\n",
       "      <td>0.000000</td>\n",
       "      <td>0.000000</td>\n",
       "      <td>0.000000</td>\n",
       "      <td>0.000000</td>\n",
       "      <td>0.000000</td>\n",
       "      <td>0.000000</td>\n",
       "      <td>...</td>\n",
       "      <td>0.000000</td>\n",
       "      <td>0.000000</td>\n",
       "      <td>0.000000</td>\n",
       "      <td>0.000000</td>\n",
       "      <td>0.000000</td>\n",
       "      <td>0.000000</td>\n",
       "      <td>0.000000</td>\n",
       "      <td>0.000000</td>\n",
       "      <td>0.000000</td>\n",
       "      <td>0.000000</td>\n",
       "    </tr>\n",
       "    <tr>\n",
       "      <td>3</td>\n",
       "      <td>0.000000</td>\n",
       "      <td>0.000000</td>\n",
       "      <td>0.000000</td>\n",
       "      <td>0.000000</td>\n",
       "      <td>0.000000</td>\n",
       "      <td>0.000000</td>\n",
       "      <td>0.000000</td>\n",
       "      <td>0.000000</td>\n",
       "      <td>0.000000</td>\n",
       "      <td>0.000000</td>\n",
       "      <td>...</td>\n",
       "      <td>0.000000</td>\n",
       "      <td>0.000000</td>\n",
       "      <td>0.000000</td>\n",
       "      <td>0.000000</td>\n",
       "      <td>0.000000</td>\n",
       "      <td>0.000000</td>\n",
       "      <td>0.000000</td>\n",
       "      <td>0.000000</td>\n",
       "      <td>0.000000</td>\n",
       "      <td>0.000000</td>\n",
       "    </tr>\n",
       "    <tr>\n",
       "      <td>4</td>\n",
       "      <td>0.000000</td>\n",
       "      <td>0.000000</td>\n",
       "      <td>0.000000</td>\n",
       "      <td>0.000000</td>\n",
       "      <td>0.000000</td>\n",
       "      <td>0.000000</td>\n",
       "      <td>0.000000</td>\n",
       "      <td>0.000000</td>\n",
       "      <td>0.000000</td>\n",
       "      <td>0.000000</td>\n",
       "      <td>...</td>\n",
       "      <td>0.000000</td>\n",
       "      <td>0.000000</td>\n",
       "      <td>0.000000</td>\n",
       "      <td>0.000000</td>\n",
       "      <td>0.000000</td>\n",
       "      <td>0.000000</td>\n",
       "      <td>0.000000</td>\n",
       "      <td>0.000000</td>\n",
       "      <td>0.000000</td>\n",
       "      <td>0.000000</td>\n",
       "    </tr>\n",
       "    <tr>\n",
       "      <td>...</td>\n",
       "      <td>...</td>\n",
       "      <td>...</td>\n",
       "      <td>...</td>\n",
       "      <td>...</td>\n",
       "      <td>...</td>\n",
       "      <td>...</td>\n",
       "      <td>...</td>\n",
       "      <td>...</td>\n",
       "      <td>...</td>\n",
       "      <td>...</td>\n",
       "      <td>...</td>\n",
       "      <td>...</td>\n",
       "      <td>...</td>\n",
       "      <td>...</td>\n",
       "      <td>...</td>\n",
       "      <td>...</td>\n",
       "      <td>...</td>\n",
       "      <td>...</td>\n",
       "      <td>...</td>\n",
       "      <td>...</td>\n",
       "      <td>...</td>\n",
       "    </tr>\n",
       "    <tr>\n",
       "      <td>25915</td>\n",
       "      <td>0.120338</td>\n",
       "      <td>0.119857</td>\n",
       "      <td>0.119135</td>\n",
       "      <td>0.117931</td>\n",
       "      <td>0.116728</td>\n",
       "      <td>0.115525</td>\n",
       "      <td>0.114321</td>\n",
       "      <td>0.113118</td>\n",
       "      <td>0.111914</td>\n",
       "      <td>0.110711</td>\n",
       "      <td>...</td>\n",
       "      <td>23.822267</td>\n",
       "      <td>24.082092</td>\n",
       "      <td>24.250631</td>\n",
       "      <td>24.408275</td>\n",
       "      <td>24.552491</td>\n",
       "      <td>24.686645</td>\n",
       "      <td>24.797240</td>\n",
       "      <td>24.768083</td>\n",
       "      <td>24.674802</td>\n",
       "      <td>24.680403</td>\n",
       "    </tr>\n",
       "    <tr>\n",
       "      <td>25916</td>\n",
       "      <td>0.120377</td>\n",
       "      <td>0.119895</td>\n",
       "      <td>0.119173</td>\n",
       "      <td>0.117969</td>\n",
       "      <td>0.116766</td>\n",
       "      <td>0.115562</td>\n",
       "      <td>0.114358</td>\n",
       "      <td>0.113154</td>\n",
       "      <td>0.111951</td>\n",
       "      <td>0.110747</td>\n",
       "      <td>...</td>\n",
       "      <td>23.737461</td>\n",
       "      <td>23.999180</td>\n",
       "      <td>24.169640</td>\n",
       "      <td>24.330240</td>\n",
       "      <td>24.478124</td>\n",
       "      <td>24.616664</td>\n",
       "      <td>24.734475</td>\n",
       "      <td>24.723164</td>\n",
       "      <td>24.653731</td>\n",
       "      <td>24.676865</td>\n",
       "    </tr>\n",
       "    <tr>\n",
       "      <td>25917</td>\n",
       "      <td>0.120411</td>\n",
       "      <td>0.119929</td>\n",
       "      <td>0.119207</td>\n",
       "      <td>0.118003</td>\n",
       "      <td>0.116799</td>\n",
       "      <td>0.115594</td>\n",
       "      <td>0.114390</td>\n",
       "      <td>0.113186</td>\n",
       "      <td>0.111982</td>\n",
       "      <td>0.110778</td>\n",
       "      <td>...</td>\n",
       "      <td>23.651329</td>\n",
       "      <td>23.914892</td>\n",
       "      <td>24.087216</td>\n",
       "      <td>24.250707</td>\n",
       "      <td>24.402194</td>\n",
       "      <td>24.544996</td>\n",
       "      <td>24.669851</td>\n",
       "      <td>24.676575</td>\n",
       "      <td>24.631179</td>\n",
       "      <td>24.671498</td>\n",
       "    </tr>\n",
       "    <tr>\n",
       "      <td>25918</td>\n",
       "      <td>0.120440</td>\n",
       "      <td>0.119959</td>\n",
       "      <td>0.119236</td>\n",
       "      <td>0.118032</td>\n",
       "      <td>0.116827</td>\n",
       "      <td>0.115623</td>\n",
       "      <td>0.114418</td>\n",
       "      <td>0.113214</td>\n",
       "      <td>0.112010</td>\n",
       "      <td>0.110805</td>\n",
       "      <td>...</td>\n",
       "      <td>23.564726</td>\n",
       "      <td>23.830084</td>\n",
       "      <td>24.004210</td>\n",
       "      <td>24.170501</td>\n",
       "      <td>24.325491</td>\n",
       "      <td>24.472400</td>\n",
       "      <td>24.604066</td>\n",
       "      <td>24.628879</td>\n",
       "      <td>24.607518</td>\n",
       "      <td>24.664526</td>\n",
       "    </tr>\n",
       "    <tr>\n",
       "      <td>25919</td>\n",
       "      <td>0.120465</td>\n",
       "      <td>0.119983</td>\n",
       "      <td>0.119260</td>\n",
       "      <td>0.118056</td>\n",
       "      <td>0.116851</td>\n",
       "      <td>0.115646</td>\n",
       "      <td>0.114442</td>\n",
       "      <td>0.113237</td>\n",
       "      <td>0.112033</td>\n",
       "      <td>0.110828</td>\n",
       "      <td>...</td>\n",
       "      <td>23.478274</td>\n",
       "      <td>23.745356</td>\n",
       "      <td>23.921207</td>\n",
       "      <td>24.090194</td>\n",
       "      <td>24.248565</td>\n",
       "      <td>24.399389</td>\n",
       "      <td>24.537596</td>\n",
       "      <td>24.580411</td>\n",
       "      <td>24.582893</td>\n",
       "      <td>24.655968</td>\n",
       "    </tr>\n",
       "  </tbody>\n",
       "</table>\n",
       "<p>25920 rows × 106 columns</p>\n",
       "</div>"
      ],
      "text/plain": [
       "            0         1         2         3         4         5         6    \\\n",
       "0      0.000000  0.000000  0.000000  0.000000  0.000000  0.000000  0.000000   \n",
       "1      0.000000  0.000000  0.000000  0.000000  0.000000  0.000000  0.000000   \n",
       "2      0.000000  0.000000  0.000000  0.000000  0.000000  0.000000  0.000000   \n",
       "3      0.000000  0.000000  0.000000  0.000000  0.000000  0.000000  0.000000   \n",
       "4      0.000000  0.000000  0.000000  0.000000  0.000000  0.000000  0.000000   \n",
       "...         ...       ...       ...       ...       ...       ...       ...   \n",
       "25915  0.120338  0.119857  0.119135  0.117931  0.116728  0.115525  0.114321   \n",
       "25916  0.120377  0.119895  0.119173  0.117969  0.116766  0.115562  0.114358   \n",
       "25917  0.120411  0.119929  0.119207  0.118003  0.116799  0.115594  0.114390   \n",
       "25918  0.120440  0.119959  0.119236  0.118032  0.116827  0.115623  0.114418   \n",
       "25919  0.120465  0.119983  0.119260  0.118056  0.116851  0.115646  0.114442   \n",
       "\n",
       "            7         8         9    ...        96         97         98   \\\n",
       "0      0.000000  0.000000  0.000000  ...   0.000000   0.000000   0.000000   \n",
       "1      0.000000  0.000000  0.000000  ...   0.000000   0.000000   0.000000   \n",
       "2      0.000000  0.000000  0.000000  ...   0.000000   0.000000   0.000000   \n",
       "3      0.000000  0.000000  0.000000  ...   0.000000   0.000000   0.000000   \n",
       "4      0.000000  0.000000  0.000000  ...   0.000000   0.000000   0.000000   \n",
       "...         ...       ...       ...  ...        ...        ...        ...   \n",
       "25915  0.113118  0.111914  0.110711  ...  23.822267  24.082092  24.250631   \n",
       "25916  0.113154  0.111951  0.110747  ...  23.737461  23.999180  24.169640   \n",
       "25917  0.113186  0.111982  0.110778  ...  23.651329  23.914892  24.087216   \n",
       "25918  0.113214  0.112010  0.110805  ...  23.564726  23.830084  24.004210   \n",
       "25919  0.113237  0.112033  0.110828  ...  23.478274  23.745356  23.921207   \n",
       "\n",
       "             99         100        101        102        103        104  \\\n",
       "0       0.000000   0.000000   0.000000   0.000000   0.000000   0.000000   \n",
       "1       0.000000   0.000000   0.000000   0.000000   0.000000   0.000000   \n",
       "2       0.000000   0.000000   0.000000   0.000000   0.000000   0.000000   \n",
       "3       0.000000   0.000000   0.000000   0.000000   0.000000   0.000000   \n",
       "4       0.000000   0.000000   0.000000   0.000000   0.000000   0.000000   \n",
       "...          ...        ...        ...        ...        ...        ...   \n",
       "25915  24.408275  24.552491  24.686645  24.797240  24.768083  24.674802   \n",
       "25916  24.330240  24.478124  24.616664  24.734475  24.723164  24.653731   \n",
       "25917  24.250707  24.402194  24.544996  24.669851  24.676575  24.631179   \n",
       "25918  24.170501  24.325491  24.472400  24.604066  24.628879  24.607518   \n",
       "25919  24.090194  24.248565  24.399389  24.537596  24.580411  24.582893   \n",
       "\n",
       "             105  \n",
       "0       0.000000  \n",
       "1       0.000000  \n",
       "2       0.000000  \n",
       "3       0.000000  \n",
       "4       0.000000  \n",
       "...          ...  \n",
       "25915  24.680403  \n",
       "25916  24.676865  \n",
       "25917  24.671498  \n",
       "25918  24.664526  \n",
       "25919  24.655968  \n",
       "\n",
       "[25920 rows x 106 columns]"
      ]
     },
     "execution_count": 16,
     "metadata": {},
     "output_type": "execute_result"
    }
   ],
   "source": [
    "pd.DataFrame(e_t)"
   ]
  },
  {
   "cell_type": "code",
   "execution_count": 17,
   "metadata": {},
   "outputs": [],
   "source": [
    "e_d = pd.DataFrame(e_t) \n",
    "e_d = e_d[e_d.iloc[:,52] != 0] #remove 0 flux, could later use a simple classifier to determine which data has 0 bottom flux..."
   ]
  },
  {
   "cell_type": "code",
   "execution_count": 18,
   "metadata": {},
   "outputs": [
    {
     "data": {
      "text/html": [
       "<div>\n",
       "<style scoped>\n",
       "    .dataframe tbody tr th:only-of-type {\n",
       "        vertical-align: middle;\n",
       "    }\n",
       "\n",
       "    .dataframe tbody tr th {\n",
       "        vertical-align: top;\n",
       "    }\n",
       "\n",
       "    .dataframe thead th {\n",
       "        text-align: right;\n",
       "    }\n",
       "</style>\n",
       "<table border=\"1\" class=\"dataframe\">\n",
       "  <thead>\n",
       "    <tr style=\"text-align: right;\">\n",
       "      <th></th>\n",
       "      <th>0</th>\n",
       "      <th>1</th>\n",
       "      <th>2</th>\n",
       "      <th>3</th>\n",
       "      <th>4</th>\n",
       "      <th>5</th>\n",
       "      <th>6</th>\n",
       "      <th>7</th>\n",
       "      <th>8</th>\n",
       "      <th>9</th>\n",
       "      <th>...</th>\n",
       "      <th>96</th>\n",
       "      <th>97</th>\n",
       "      <th>98</th>\n",
       "      <th>99</th>\n",
       "      <th>100</th>\n",
       "      <th>101</th>\n",
       "      <th>102</th>\n",
       "      <th>103</th>\n",
       "      <th>104</th>\n",
       "      <th>105</th>\n",
       "    </tr>\n",
       "  </thead>\n",
       "  <tbody>\n",
       "    <tr>\n",
       "      <td>2592</td>\n",
       "      <td>0.074773</td>\n",
       "      <td>0.074461</td>\n",
       "      <td>0.073992</td>\n",
       "      <td>0.073209</td>\n",
       "      <td>0.072426</td>\n",
       "      <td>0.071643</td>\n",
       "      <td>0.070858</td>\n",
       "      <td>0.070073</td>\n",
       "      <td>0.069288</td>\n",
       "      <td>0.068501</td>\n",
       "      <td>...</td>\n",
       "      <td>7.455282</td>\n",
       "      <td>7.449640</td>\n",
       "      <td>7.434130</td>\n",
       "      <td>7.400159</td>\n",
       "      <td>7.326935</td>\n",
       "      <td>7.199064</td>\n",
       "      <td>6.994633</td>\n",
       "      <td>6.681824</td>\n",
       "      <td>6.308426</td>\n",
       "      <td>6.020849</td>\n",
       "    </tr>\n",
       "    <tr>\n",
       "      <td>2593</td>\n",
       "      <td>0.074851</td>\n",
       "      <td>0.074538</td>\n",
       "      <td>0.074069</td>\n",
       "      <td>0.073286</td>\n",
       "      <td>0.072502</td>\n",
       "      <td>0.071718</td>\n",
       "      <td>0.070933</td>\n",
       "      <td>0.070147</td>\n",
       "      <td>0.069360</td>\n",
       "      <td>0.068573</td>\n",
       "      <td>...</td>\n",
       "      <td>7.482054</td>\n",
       "      <td>7.472820</td>\n",
       "      <td>7.454926</td>\n",
       "      <td>7.419266</td>\n",
       "      <td>7.345889</td>\n",
       "      <td>7.219541</td>\n",
       "      <td>7.018712</td>\n",
       "      <td>6.712713</td>\n",
       "      <td>6.334166</td>\n",
       "      <td>6.036292</td>\n",
       "    </tr>\n",
       "    <tr>\n",
       "      <td>2594</td>\n",
       "      <td>0.074881</td>\n",
       "      <td>0.074568</td>\n",
       "      <td>0.074098</td>\n",
       "      <td>0.073315</td>\n",
       "      <td>0.072531</td>\n",
       "      <td>0.071746</td>\n",
       "      <td>0.070961</td>\n",
       "      <td>0.070175</td>\n",
       "      <td>0.069388</td>\n",
       "      <td>0.068601</td>\n",
       "      <td>...</td>\n",
       "      <td>7.511494</td>\n",
       "      <td>7.498810</td>\n",
       "      <td>7.478646</td>\n",
       "      <td>7.441470</td>\n",
       "      <td>7.368315</td>\n",
       "      <td>7.244140</td>\n",
       "      <td>7.047822</td>\n",
       "      <td>6.749807</td>\n",
       "      <td>6.366486</td>\n",
       "      <td>6.057419</td>\n",
       "    </tr>\n",
       "    <tr>\n",
       "      <td>2595</td>\n",
       "      <td>0.074862</td>\n",
       "      <td>0.074549</td>\n",
       "      <td>0.074080</td>\n",
       "      <td>0.073297</td>\n",
       "      <td>0.072513</td>\n",
       "      <td>0.071729</td>\n",
       "      <td>0.070943</td>\n",
       "      <td>0.070158</td>\n",
       "      <td>0.069371</td>\n",
       "      <td>0.068583</td>\n",
       "      <td>...</td>\n",
       "      <td>7.543548</td>\n",
       "      <td>7.527582</td>\n",
       "      <td>7.505274</td>\n",
       "      <td>7.466758</td>\n",
       "      <td>7.394200</td>\n",
       "      <td>7.272840</td>\n",
       "      <td>7.081929</td>\n",
       "      <td>6.793053</td>\n",
       "      <td>6.405360</td>\n",
       "      <td>6.084220</td>\n",
       "    </tr>\n",
       "    <tr>\n",
       "      <td>2596</td>\n",
       "      <td>0.074796</td>\n",
       "      <td>0.074483</td>\n",
       "      <td>0.074014</td>\n",
       "      <td>0.073232</td>\n",
       "      <td>0.072448</td>\n",
       "      <td>0.071665</td>\n",
       "      <td>0.070880</td>\n",
       "      <td>0.070095</td>\n",
       "      <td>0.069309</td>\n",
       "      <td>0.068522</td>\n",
       "      <td>...</td>\n",
       "      <td>7.578126</td>\n",
       "      <td>7.559072</td>\n",
       "      <td>7.534765</td>\n",
       "      <td>7.495096</td>\n",
       "      <td>7.423509</td>\n",
       "      <td>7.305591</td>\n",
       "      <td>7.120966</td>\n",
       "      <td>6.842379</td>\n",
       "      <td>6.450748</td>\n",
       "      <td>6.116677</td>\n",
       "    </tr>\n",
       "    <tr>\n",
       "      <td>...</td>\n",
       "      <td>...</td>\n",
       "      <td>...</td>\n",
       "      <td>...</td>\n",
       "      <td>...</td>\n",
       "      <td>...</td>\n",
       "      <td>...</td>\n",
       "      <td>...</td>\n",
       "      <td>...</td>\n",
       "      <td>...</td>\n",
       "      <td>...</td>\n",
       "      <td>...</td>\n",
       "      <td>...</td>\n",
       "      <td>...</td>\n",
       "      <td>...</td>\n",
       "      <td>...</td>\n",
       "      <td>...</td>\n",
       "      <td>...</td>\n",
       "      <td>...</td>\n",
       "      <td>...</td>\n",
       "      <td>...</td>\n",
       "      <td>...</td>\n",
       "    </tr>\n",
       "    <tr>\n",
       "      <td>25915</td>\n",
       "      <td>0.120338</td>\n",
       "      <td>0.119857</td>\n",
       "      <td>0.119135</td>\n",
       "      <td>0.117931</td>\n",
       "      <td>0.116728</td>\n",
       "      <td>0.115525</td>\n",
       "      <td>0.114321</td>\n",
       "      <td>0.113118</td>\n",
       "      <td>0.111914</td>\n",
       "      <td>0.110711</td>\n",
       "      <td>...</td>\n",
       "      <td>23.822267</td>\n",
       "      <td>24.082092</td>\n",
       "      <td>24.250631</td>\n",
       "      <td>24.408275</td>\n",
       "      <td>24.552491</td>\n",
       "      <td>24.686645</td>\n",
       "      <td>24.797240</td>\n",
       "      <td>24.768083</td>\n",
       "      <td>24.674802</td>\n",
       "      <td>24.680403</td>\n",
       "    </tr>\n",
       "    <tr>\n",
       "      <td>25916</td>\n",
       "      <td>0.120377</td>\n",
       "      <td>0.119895</td>\n",
       "      <td>0.119173</td>\n",
       "      <td>0.117969</td>\n",
       "      <td>0.116766</td>\n",
       "      <td>0.115562</td>\n",
       "      <td>0.114358</td>\n",
       "      <td>0.113154</td>\n",
       "      <td>0.111951</td>\n",
       "      <td>0.110747</td>\n",
       "      <td>...</td>\n",
       "      <td>23.737461</td>\n",
       "      <td>23.999180</td>\n",
       "      <td>24.169640</td>\n",
       "      <td>24.330240</td>\n",
       "      <td>24.478124</td>\n",
       "      <td>24.616664</td>\n",
       "      <td>24.734475</td>\n",
       "      <td>24.723164</td>\n",
       "      <td>24.653731</td>\n",
       "      <td>24.676865</td>\n",
       "    </tr>\n",
       "    <tr>\n",
       "      <td>25917</td>\n",
       "      <td>0.120411</td>\n",
       "      <td>0.119929</td>\n",
       "      <td>0.119207</td>\n",
       "      <td>0.118003</td>\n",
       "      <td>0.116799</td>\n",
       "      <td>0.115594</td>\n",
       "      <td>0.114390</td>\n",
       "      <td>0.113186</td>\n",
       "      <td>0.111982</td>\n",
       "      <td>0.110778</td>\n",
       "      <td>...</td>\n",
       "      <td>23.651329</td>\n",
       "      <td>23.914892</td>\n",
       "      <td>24.087216</td>\n",
       "      <td>24.250707</td>\n",
       "      <td>24.402194</td>\n",
       "      <td>24.544996</td>\n",
       "      <td>24.669851</td>\n",
       "      <td>24.676575</td>\n",
       "      <td>24.631179</td>\n",
       "      <td>24.671498</td>\n",
       "    </tr>\n",
       "    <tr>\n",
       "      <td>25918</td>\n",
       "      <td>0.120440</td>\n",
       "      <td>0.119959</td>\n",
       "      <td>0.119236</td>\n",
       "      <td>0.118032</td>\n",
       "      <td>0.116827</td>\n",
       "      <td>0.115623</td>\n",
       "      <td>0.114418</td>\n",
       "      <td>0.113214</td>\n",
       "      <td>0.112010</td>\n",
       "      <td>0.110805</td>\n",
       "      <td>...</td>\n",
       "      <td>23.564726</td>\n",
       "      <td>23.830084</td>\n",
       "      <td>24.004210</td>\n",
       "      <td>24.170501</td>\n",
       "      <td>24.325491</td>\n",
       "      <td>24.472400</td>\n",
       "      <td>24.604066</td>\n",
       "      <td>24.628879</td>\n",
       "      <td>24.607518</td>\n",
       "      <td>24.664526</td>\n",
       "    </tr>\n",
       "    <tr>\n",
       "      <td>25919</td>\n",
       "      <td>0.120465</td>\n",
       "      <td>0.119983</td>\n",
       "      <td>0.119260</td>\n",
       "      <td>0.118056</td>\n",
       "      <td>0.116851</td>\n",
       "      <td>0.115646</td>\n",
       "      <td>0.114442</td>\n",
       "      <td>0.113237</td>\n",
       "      <td>0.112033</td>\n",
       "      <td>0.110828</td>\n",
       "      <td>...</td>\n",
       "      <td>23.478274</td>\n",
       "      <td>23.745356</td>\n",
       "      <td>23.921207</td>\n",
       "      <td>24.090194</td>\n",
       "      <td>24.248565</td>\n",
       "      <td>24.399389</td>\n",
       "      <td>24.537596</td>\n",
       "      <td>24.580411</td>\n",
       "      <td>24.582893</td>\n",
       "      <td>24.655968</td>\n",
       "    </tr>\n",
       "  </tbody>\n",
       "</table>\n",
       "<p>23328 rows × 106 columns</p>\n",
       "</div>"
      ],
      "text/plain": [
       "            0         1         2         3         4         5         6    \\\n",
       "2592   0.074773  0.074461  0.073992  0.073209  0.072426  0.071643  0.070858   \n",
       "2593   0.074851  0.074538  0.074069  0.073286  0.072502  0.071718  0.070933   \n",
       "2594   0.074881  0.074568  0.074098  0.073315  0.072531  0.071746  0.070961   \n",
       "2595   0.074862  0.074549  0.074080  0.073297  0.072513  0.071729  0.070943   \n",
       "2596   0.074796  0.074483  0.074014  0.073232  0.072448  0.071665  0.070880   \n",
       "...         ...       ...       ...       ...       ...       ...       ...   \n",
       "25915  0.120338  0.119857  0.119135  0.117931  0.116728  0.115525  0.114321   \n",
       "25916  0.120377  0.119895  0.119173  0.117969  0.116766  0.115562  0.114358   \n",
       "25917  0.120411  0.119929  0.119207  0.118003  0.116799  0.115594  0.114390   \n",
       "25918  0.120440  0.119959  0.119236  0.118032  0.116827  0.115623  0.114418   \n",
       "25919  0.120465  0.119983  0.119260  0.118056  0.116851  0.115646  0.114442   \n",
       "\n",
       "            7         8         9    ...        96         97         98   \\\n",
       "2592   0.070073  0.069288  0.068501  ...   7.455282   7.449640   7.434130   \n",
       "2593   0.070147  0.069360  0.068573  ...   7.482054   7.472820   7.454926   \n",
       "2594   0.070175  0.069388  0.068601  ...   7.511494   7.498810   7.478646   \n",
       "2595   0.070158  0.069371  0.068583  ...   7.543548   7.527582   7.505274   \n",
       "2596   0.070095  0.069309  0.068522  ...   7.578126   7.559072   7.534765   \n",
       "...         ...       ...       ...  ...        ...        ...        ...   \n",
       "25915  0.113118  0.111914  0.110711  ...  23.822267  24.082092  24.250631   \n",
       "25916  0.113154  0.111951  0.110747  ...  23.737461  23.999180  24.169640   \n",
       "25917  0.113186  0.111982  0.110778  ...  23.651329  23.914892  24.087216   \n",
       "25918  0.113214  0.112010  0.110805  ...  23.564726  23.830084  24.004210   \n",
       "25919  0.113237  0.112033  0.110828  ...  23.478274  23.745356  23.921207   \n",
       "\n",
       "             99         100        101        102        103        104  \\\n",
       "2592    7.400159   7.326935   7.199064   6.994633   6.681824   6.308426   \n",
       "2593    7.419266   7.345889   7.219541   7.018712   6.712713   6.334166   \n",
       "2594    7.441470   7.368315   7.244140   7.047822   6.749807   6.366486   \n",
       "2595    7.466758   7.394200   7.272840   7.081929   6.793053   6.405360   \n",
       "2596    7.495096   7.423509   7.305591   7.120966   6.842379   6.450748   \n",
       "...          ...        ...        ...        ...        ...        ...   \n",
       "25915  24.408275  24.552491  24.686645  24.797240  24.768083  24.674802   \n",
       "25916  24.330240  24.478124  24.616664  24.734475  24.723164  24.653731   \n",
       "25917  24.250707  24.402194  24.544996  24.669851  24.676575  24.631179   \n",
       "25918  24.170501  24.325491  24.472400  24.604066  24.628879  24.607518   \n",
       "25919  24.090194  24.248565  24.399389  24.537596  24.580411  24.582893   \n",
       "\n",
       "             105  \n",
       "2592    6.020849  \n",
       "2593    6.036292  \n",
       "2594    6.057419  \n",
       "2595    6.084220  \n",
       "2596    6.116677  \n",
       "...          ...  \n",
       "25915  24.680403  \n",
       "25916  24.676865  \n",
       "25917  24.671498  \n",
       "25918  24.664526  \n",
       "25919  24.655968  \n",
       "\n",
       "[23328 rows x 106 columns]"
      ]
     },
     "execution_count": 18,
     "metadata": {},
     "output_type": "execute_result"
    }
   ],
   "source": [
    "e_d"
   ]
  },
  {
   "cell_type": "markdown",
   "metadata": {},
   "source": [
    "This function splits the training data, into n_split groups, according to percentiles of a value located at special index s_index. Then, it trains n_split regressors, each on its respective group, and then outputs these. The ith regressor is trained on the data containing 100(i/n_split) to 100((i+1)/n_split) percentiles of the value located at s_index."
   ]
  },
  {
   "cell_type": "code",
   "execution_count": 19,
   "metadata": {},
   "outputs": [],
   "source": [
    "from sklearn.linear_model import LinearRegression\n",
    "\n",
    "\n",
    "def sat(training_data, n_split, s_index): \n",
    "    regressor_list = []\n",
    "    training_data = np.array(training_data)\n",
    "    \n",
    "    for i in range(n_split): #splitting training data\n",
    "        upper_bound = np.percentile(training_data[:,s_index], (i+1) * 100/n_split)\n",
    "        lower_bound = np.percentile(training_data[:,s_index], i * 100/n_split)\n",
    "        i_data = training_data[training_data[:,s_index] < upper_bound]\n",
    "        i_data = i_data[i_data[:,s_index] >= lower_bound]\n",
    "        train_in = i_data[:,:53] #training input\n",
    "        train_out = i_data[:,53:] #training output\n",
    "        lri = LinearRegression() #linear regression i\n",
    "        lri.fit(train_in,train_out)\n",
    "        regressor_list.append(lri)\n",
    "    \n",
    "    return regressor_list"
   ]
  },
  {
   "cell_type": "markdown",
   "metadata": {},
   "source": [
    "This function predicts the output according to the n_split regressors, where the ith regressor is used on the data containing 100(i/n_split) to 100((i+1)/n_split) percentiles of the value located at s_index."
   ]
  },
  {
   "cell_type": "code",
   "execution_count": 20,
   "metadata": {},
   "outputs": [],
   "source": [
    "def s_predict(in_data, reg_list, s_index): #predict the output using previously obtained linear regressor list\n",
    "    in_data = np.array(in_data)\n",
    "    out_data = []\n",
    "    for instance in in_data:\n",
    "        for i in range(len(reg_list)):\n",
    "            upper_bound = np.percentile(in_data[:,s_index], (i+1) * 100/len(reg_list))\n",
    "            lower_bound = np.percentile(in_data[:,s_index], i * 100/len(reg_list))\n",
    "            if instance[s_index] < upper_bound and instance[s_index] >= lower_bound:\n",
    "                out_data.append(reg_list[i].predict(instance[:53].reshape(1,-1))[0]) #predicts using a certain regressor\n",
    "        if(instance[s_index] == np.max(in_data[:,s_index])): #the search right above ignores the absolute maximum element\n",
    "            out_data.append(reg_list[-1].predict(instance[:53].reshape(1,-1))[0]) #uses lin reg for largest elements\n",
    "    return np.array(out_data)   "
   ]
  },
  {
   "cell_type": "code",
   "execution_count": 21,
   "metadata": {},
   "outputs": [],
   "source": [
    "lr_list = sat(e_d, 10, 52) #linear regressor list, let's try 10 regressors\n",
    "custom_out = s_predict(e_d, lr_list, 52)"
   ]
  },
  {
   "cell_type": "code",
   "execution_count": 22,
   "metadata": {},
   "outputs": [],
   "source": [
    "#rlr_list = satr(e_d, 10, 52) #relative error minimizing linear regressor list\n",
    "#custom_out2 = s_predict(e_d, rlr_list, 52)"
   ]
  },
  {
   "cell_type": "code",
   "execution_count": 23,
   "metadata": {},
   "outputs": [],
   "source": [
    "total_in = e_d.iloc[:,:53] #total input\n",
    "total_out = e_d.iloc[:,53:] #total output"
   ]
  },
  {
   "cell_type": "code",
   "execution_count": 24,
   "metadata": {},
   "outputs": [
    {
     "data": {
      "text/plain": [
       "(23328, 53)"
      ]
     },
     "execution_count": 24,
     "metadata": {},
     "output_type": "execute_result"
    }
   ],
   "source": [
    "custom_out.shape"
   ]
  },
  {
   "cell_type": "code",
   "execution_count": 25,
   "metadata": {},
   "outputs": [
    {
     "name": "stdout",
     "output_type": "stream",
     "text": [
      "Error for RMSE minimizing regressors:1.7788553488970473\n"
     ]
    }
   ],
   "source": [
    "from sklearn.metrics import mean_squared_error\n",
    "\n",
    "lin_mse = mean_squared_error(total_out, custom_out)\n",
    "lin_rmse = np.sqrt(lin_mse)\n",
    "print(\"Error for RMSE minimizing regressors:\" + str(lin_rmse)) #great!\n",
    "#lin_rel = mean_squared_error(total_out, custom_out2)\n",
    "#lin_rel = np.sqrt(lin_rel)\n",
    "#print(\"Error for relative error minimizing regressors:\" + str(lin_rel)) #slightly higher but still pretty low"
   ]
  },
  {
   "cell_type": "markdown",
   "metadata": {},
   "source": [
    "Area integration of error:"
   ]
  },
  {
   "cell_type": "code",
   "execution_count": 26,
   "metadata": {},
   "outputs": [],
   "source": [
    "def int_err(pred, real, real_in, r): \n",
    "    areas = []\n",
    "    for i in range(len(real)):\n",
    "        dA =  -r**2 * np.sin((np.pi/36)*((real_in.index[i]//72)%36)) * (np.pi/36) * (np.pi/36)  #area increment\n",
    "        areas.append(dA)\n",
    "    areas = np.array(areas)\n",
    "    areas2 = np.zeros([len(areas),real_in.shape[1]])\n",
    "    for i in range(53):\n",
    "        areas2[:,i] = areas #need height dimension too\n",
    "    return np.sum((np.array(pred) - np.array(real))*areas2)"
   ]
  },
  {
   "cell_type": "code",
   "execution_count": 27,
   "metadata": {},
   "outputs": [
    {
     "data": {
      "text/plain": [
       "53"
      ]
     },
     "execution_count": 27,
     "metadata": {},
     "output_type": "execute_result"
    }
   ],
   "source": [
    "total_in.shape[1]"
   ]
  },
  {
   "cell_type": "code",
   "execution_count": 28,
   "metadata": {},
   "outputs": [
    {
     "data": {
      "text/plain": [
       "0.008011883261935653"
      ]
     },
     "execution_count": 28,
     "metadata": {},
     "output_type": "execute_result"
    }
   ],
   "source": [
    "err1 = int_err(custom_out, total_out, total_in, 3.39e6) #the integral of the error for the whole atmosphere\n",
    "np.array(err1)/(1.44e14)/10/53 "
   ]
  },
  {
   "cell_type": "markdown",
   "metadata": {},
   "source": [
    "The error is divided by surface area of mars, number of time samples, number of atmosphere to get normalized flux error for single time sample, for a single cell. This is pretty good!"
   ]
  },
  {
   "cell_type": "code",
   "execution_count": null,
   "metadata": {},
   "outputs": [],
   "source": [
    "#err2 = int_err(custom_out2, total_out, total_in, 3.39e6) #the integral of the error\n",
    "#np.array(err2)/(1.44e14)/10 #about 25 times larger, still really small! This is in W/m^2 units."
   ]
  },
  {
   "cell_type": "markdown",
   "metadata": {},
   "source": [
    "## Plotting data:"
   ]
  },
  {
   "cell_type": "code",
   "execution_count": null,
   "metadata": {},
   "outputs": [],
   "source": [
    "all_indices = total_in.index\n",
    "ti_indices = all_indices[all_indices > 5*36*72] \n",
    "ti_indices = ti_indices[ti_indices < 6 *36*72] \n",
    "ti_indices #ith time snapshot indices for latitude/longtitude map, currently set to 6th time snapshot"
   ]
  },
  {
   "cell_type": "code",
   "execution_count": null,
   "metadata": {},
   "outputs": [],
   "source": [
    "total_out = np.array(total_out)\n",
    "full_out_contour = np.full((36, 72), np.nan)\n",
    "full_pred_contour = np.full((36, 72), np.nan)\n",
    "#full_pred_contour2 = np.full((36, 72), np.nan)\n",
    "for index in ti_indices:\n",
    "    lat_point = index//72 - 36*5\n",
    "    long_point = index%72 - 1*72\n",
    "    full_out_contour[lat_point][long_point] = total_out[np.where(all_indices == index)]\n",
    "    full_pred_contour[lat_point][long_point] = custom_out[np.where(all_indices == index)]\n",
    "    #full_pred_contour2[lat_point][long_point] = custom_out2[np.where(all_indices == index)]"
   ]
  },
  {
   "cell_type": "code",
   "execution_count": null,
   "metadata": {},
   "outputs": [],
   "source": [
    "plt.contourf(full_out_contour)\n",
    "plt.colorbar()\n",
    "plt.title(\"Actual Bottom Solar Flux\")\n",
    "plt.xlabel(\"Longtitude\")\n",
    "plt.ylabel(\"Latitude\")\n",
    "plt.show()\n",
    "plt.savefig(\"Actual\")"
   ]
  },
  {
   "cell_type": "markdown",
   "metadata": {},
   "source": [
    "### Plots for RMSE minimizing regressors:"
   ]
  },
  {
   "cell_type": "code",
   "execution_count": null,
   "metadata": {},
   "outputs": [],
   "source": [
    "plt.contourf(full_pred_contour)\n",
    "plt.colorbar()\n",
    "plt.title(\"Predicted Bottom Solar Flux\")\n",
    "plt.xlabel(\"Longtitude\")\n",
    "plt.ylabel(\"Latitude\")\n",
    "plt.show()\n",
    "plt.savefig(\"Predicted\")"
   ]
  },
  {
   "cell_type": "code",
   "execution_count": null,
   "metadata": {},
   "outputs": [],
   "source": [
    "plt.contourf(full_pred_contour - full_out_contour)\n",
    "plt.colorbar()\n",
    "plt.title(\"Difference\")\n",
    "plt.xlabel(\"Longtitude\")\n",
    "plt.ylabel(\"Latitude\")\n",
    "plt.show()"
   ]
  },
  {
   "cell_type": "code",
   "execution_count": null,
   "metadata": {},
   "outputs": [],
   "source": [
    "plt.contourf((full_pred_contour - full_out_contour)/full_out_contour)\n",
    "plt.colorbar()\n",
    "plt.title(\"Relative Difference\")\n",
    "plt.xlabel(\"Longtitude\")\n",
    "plt.ylabel(\"Latitude\")\n",
    "plt.show() #some massive relative errors at the edge"
   ]
  },
  {
   "cell_type": "markdown",
   "metadata": {},
   "source": [
    "### Plots for relative error minimizing regressors:"
   ]
  },
  {
   "cell_type": "code",
   "execution_count": null,
   "metadata": {},
   "outputs": [],
   "source": [
    "plt.contourf(full_pred_contour2)\n",
    "plt.colorbar()\n",
    "plt.title(\"Predicted Bottom Solar Flux\")\n",
    "plt.xlabel(\"Longtitude\")\n",
    "plt.ylabel(\"Latitude\")\n",
    "plt.show()\n",
    "plt.savefig(\"Predicted\")"
   ]
  },
  {
   "cell_type": "code",
   "execution_count": null,
   "metadata": {},
   "outputs": [],
   "source": [
    "plt.contourf(full_pred_contour2 - full_out_contour)\n",
    "plt.colorbar()\n",
    "plt.title(\"Difference\")\n",
    "plt.xlabel(\"Longtitude\")\n",
    "plt.ylabel(\"Latitude\")\n",
    "plt.show()"
   ]
  },
  {
   "cell_type": "code",
   "execution_count": null,
   "metadata": {},
   "outputs": [],
   "source": [
    "plt.contourf((full_pred_contour2 - full_out_contour)/full_out_contour)\n",
    "plt.colorbar()\n",
    "plt.title(\"Relative Difference\")\n",
    "plt.xlabel(\"Longtitude\")\n",
    "plt.ylabel(\"Latitude\")\n",
    "plt.show() #small relative errors, nice"
   ]
  },
  {
   "cell_type": "code",
   "execution_count": null,
   "metadata": {},
   "outputs": [],
   "source": []
  }
 ],
 "metadata": {
  "kernelspec": {
   "display_name": "Python 3",
   "language": "python",
   "name": "python3"
  },
  "language_info": {
   "codemirror_mode": {
    "name": "ipython",
    "version": 3
   },
   "file_extension": ".py",
   "mimetype": "text/x-python",
   "name": "python",
   "nbconvert_exporter": "python",
   "pygments_lexer": "ipython3",
   "version": "3.7.4"
  }
 },
 "nbformat": 4,
 "nbformat_minor": 2
}
